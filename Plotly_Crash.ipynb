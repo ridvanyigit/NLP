{
  "cells": [
    {
      "cell_type": "markdown",
      "metadata": {
        "id": "view-in-github",
        "colab_type": "text"
      },
      "source": [
        "<a href=\"https://colab.research.google.com/github/ridvanyigit/Natural-Language-Processing-NLP-/blob/main/Plotly_Crash.ipynb\" target=\"_parent\"><img src=\"https://colab.research.google.com/assets/colab-badge.svg\" alt=\"Open In Colab\"/></a>"
      ]
    },
    {
      "cell_type": "code",
      "execution_count": 80,
      "id": "ae69a2fb-9e4a-4ccf-aaad-4c8f3180de85",
      "metadata": {
        "colab": {
          "base_uri": "https://localhost:8080/",
          "height": 17
        },
        "id": "ae69a2fb-9e4a-4ccf-aaad-4c8f3180de85",
        "outputId": "cc277d8f-2d1e-441f-e583-027ffd3d98b2"
      },
      "outputs": [
        {
          "output_type": "display_data",
          "data": {
            "text/html": [
              "        <script type=\"text/javascript\">\n",
              "        window.PlotlyConfig = {MathJaxConfig: 'local'};\n",
              "        if (window.MathJax && window.MathJax.Hub && window.MathJax.Hub.Config) {window.MathJax.Hub.Config({SVG: {font: \"STIX-Web\"}});}\n",
              "        </script>\n",
              "        <script type=\"module\">import \"https://cdn.plot.ly/plotly-3.0.0.min\"</script>\n",
              "        "
            ]
          },
          "metadata": {}
        },
        {
          "output_type": "display_data",
          "data": {
            "text/html": [
              "        <script type=\"text/javascript\">\n",
              "        window.PlotlyConfig = {MathJaxConfig: 'local'};\n",
              "        if (window.MathJax && window.MathJax.Hub && window.MathJax.Hub.Config) {window.MathJax.Hub.Config({SVG: {font: \"STIX-Web\"}});}\n",
              "        </script>\n",
              "        <script type=\"module\">import \"https://cdn.plot.ly/plotly-3.0.0.min\"</script>\n",
              "        "
            ]
          },
          "metadata": {}
        }
      ],
      "source": [
        "import numpy as np\n",
        "import pandas as pd\n",
        "import matplotlib.pyplot as plt\n",
        "import seaborn as sns\n",
        "import plotly as py\n",
        "import plotly.offline as pyo\n",
        "import plotly.graph_objs as go\n",
        "import plotly.io as pio\n",
        "import cufflinks as cf\n",
        "import warnings\n",
        "warnings.filterwarnings('ignore')\n",
        "\n",
        "pyo.init_notebook_mode(connected=True)\n",
        "cf.go_offline()"
      ]
    },
    {
      "cell_type": "code",
      "source": [
        "import sys\n",
        "if 'google.colab' in sys.modules:\n",
        "    !pip install plotly --upgrade\n",
        "    !pip install nbformat"
      ],
      "metadata": {
        "id": "mkZ4uDpnHUct"
      },
      "id": "mkZ4uDpnHUct",
      "execution_count": null,
      "outputs": []
    },
    {
      "cell_type": "code",
      "source": [
        "print(f\"Plotly version: {py.__version__}\")\n",
        "print(f\"Cufflinks version: {cf.__version__}\")"
      ],
      "metadata": {
        "colab": {
          "base_uri": "https://localhost:8080/"
        },
        "id": "2KApoz6khEmV",
        "outputId": "59294bca-dbd6-43e9-aaee-c272afa5b969"
      },
      "id": "2KApoz6khEmV",
      "execution_count": 82,
      "outputs": [
        {
          "output_type": "stream",
          "name": "stdout",
          "text": [
            "Plotly version: 6.0.0\n",
            "Cufflinks version: 0.17.3\n"
          ]
        }
      ]
    },
    {
      "cell_type": "code",
      "execution_count": 83,
      "id": "d6ea7208-69bd-4544-b95f-50dfacfb610b",
      "metadata": {
        "scrolled": true,
        "colab": {
          "base_uri": "https://localhost:8080/"
        },
        "collapsed": true,
        "id": "d6ea7208-69bd-4544-b95f-50dfacfb610b",
        "outputId": "3d4635cf-e06d-411f-a806-64447c65c8d6"
      },
      "outputs": [
        {
          "output_type": "stream",
          "name": "stdout",
          "text": [
            "Help on method _iplot in module cufflinks.plotlytools:\n",
            "\n",
            "_iplot(kind='scatter', data=None, layout=None, filename='', sharing=None, title='', xTitle='', yTitle='', zTitle='', theme=None, colors=None, colorscale=None, fill=False, width=None, dash='solid', mode='', interpolation='linear', symbol='circle', size=12, barmode='', sortbars=False, bargap=None, bargroupgap=None, bins=None, histnorm='', histfunc='count', orientation='v', boxpoints=False, annotations=None, keys=False, bestfit=False, bestfit_colors=None, mean=False, mean_colors=None, categories='', x='', y='', z='', text='', gridcolor=None, zerolinecolor=None, margin=None, labels=None, values=None, secondary_y='', secondary_y_title='', subplots=False, shape=None, error_x=None, error_y=None, error_type='data', locations=None, lon=None, lat=None, asFrame=False, asDates=False, asFigure=False, asImage=False, dimensions=None, asPlot=False, asUrl=False, online=None, **kwargs) method of pandas.core.frame.DataFrame instance\n",
            "           Returns a plotly chart either as inline chart, image of Figure object\n",
            "    \n",
            "           Parameters:\n",
            "           -----------\n",
            "                   kind : string\n",
            "                           Kind of chart\n",
            "                                   scatter\n",
            "                                   bar\n",
            "                                   box\n",
            "                                   spread\n",
            "                                   ratio\n",
            "                                   heatmap\n",
            "                                   surface\n",
            "                                   histogram\n",
            "                                   bubble\n",
            "                                   bubble3d\n",
            "                                   scatter3d       \n",
            "                                   scattergeo\n",
            "                                   ohlc\n",
            "                                   candle\n",
            "                                   pie\n",
            "                                   choroplet       \n",
            "                   data : Data\n",
            "                           Plotly Data Object.\n",
            "                           If not entered then the Data object will be automatically\n",
            "                           generated from the DataFrame.\n",
            "                   layout : Layout\n",
            "                           Plotly layout Object\n",
            "                           If not entered then the Layout objet will be automatically\n",
            "                           generated from the DataFrame.\n",
            "                   filename : string\n",
            "                           Filename to be saved as in plotly account\n",
            "                   sharing : string\n",
            "                           Sets the sharing level permission\n",
            "                                   public - anyone can see this chart\n",
            "                                   private - only you can see this chart\n",
            "                                   secret - only people with the link can see the chart\n",
            "                   title : string\n",
            "                           Chart Title                             \n",
            "                   xTitle : string\n",
            "                           X Axis Title\n",
            "                   yTitle : string\n",
            "                           Y Axis Title\n",
            "                                   zTitle : string\n",
            "                   zTitle : string\n",
            "                           Z Axis Title\n",
            "                           Applicable only for 3d charts\n",
            "                   theme : string\n",
            "                           Layout Theme\n",
            "                                   solar\n",
            "                                   pearl\n",
            "                                   white           \n",
            "                           see cufflinks.getThemes() for all \n",
            "                           available themes\n",
            "                   colors : dict, list or string\n",
            "                           {key:color} to specify the color for each column\n",
            "                           [colors] to use the colors in the defined order\n",
            "                   colorscale : string\n",
            "                           Color scale name\n",
            "                           If the color name is preceded by a minus (-) \n",
            "                           then the scale is inversed\n",
            "                           Only valid if 'colors' is null\n",
            "                           See cufflinks.colors.scales() for available scales\n",
            "                   fill : bool\n",
            "                           Filled Traces           \n",
            "                   width : dict, list or int\n",
            "                                   int : applies to all traces\n",
            "                                   list : applies to each trace in the order \n",
            "                                                   specified\n",
            "                                   dict: {column:value} for each column in \n",
            "                                                   the dataframe\n",
            "                           Line width      \n",
            "                   dash : dict, list or string\n",
            "                                   string : applies to all traces\n",
            "                                   list : applies to each trace in the order \n",
            "                                                   specified\n",
            "                                   dict: {column:value} for each column in \n",
            "                                                   the dataframe\n",
            "                           Drawing style of lines\n",
            "                                   solid\n",
            "                                   dash\n",
            "                                   dashdot\n",
            "                                   dot\n",
            "                   mode : dict, list or string\n",
            "                                   string : applies to all traces\n",
            "                                   list : applies to each trace in the order \n",
            "                                                   specified\n",
            "                                   dict: {column:value} for each column in \n",
            "                                                   the dataframe\n",
            "                           Plotting mode for scatter trace\n",
            "                                   lines\n",
            "                                   markers\n",
            "                                   lines+markers\n",
            "                                   lines+text\n",
            "                                   markers+text\n",
            "                                   lines+markers+text\n",
            "                   interpolation : dict, list, or string\n",
            "                                   string : applies to all traces\n",
            "                                   list : applies to each trace in the order \n",
            "                                                   specified\n",
            "                                   dict: {column:value} for each column in \n",
            "                                                   the dataframe\n",
            "                           Positioning of the connecting lines\n",
            "                                   linear\n",
            "                                   spline\n",
            "                                   vhv\n",
            "                                   hvh\n",
            "                                   vh\n",
            "                                   hv              \n",
            "                   symbol : dict, list or string\n",
            "                                   string : applies to all traces\n",
            "                                   list : applies to each trace in the order \n",
            "                                                   specified\n",
            "                                   dict: {column:value} for each column in \n",
            "                                                   the dataframe\n",
            "                           The symbol that is drawn on the plot for each marker\n",
            "                           Valid only when mode includes markers\n",
            "                                   circle\n",
            "                                   circle-dot\n",
            "                                   diamond\n",
            "                                   square\n",
            "                                   and many more...(see plotly.validators.scatter.marker.SymbolValidator.values)\n",
            "                   size : string or int \n",
            "                           Size of marker \n",
            "                           Valid only if marker in mode\n",
            "                   barmode : string\n",
            "                           Mode when displaying bars\n",
            "                                   group\n",
            "                                   stack\n",
            "                                   overlay\n",
            "                           * Only valid when kind='bar'\n",
            "                   sortbars : bool\n",
            "                           Sort bars in descending order\n",
            "                           * Only valid when kind='bar'\n",
            "                   bargap : float\n",
            "                           Sets the gap between bars\n",
            "                                   [0,1)\n",
            "                           * Only valid when kind is 'histogram' or 'bar'\n",
            "                   bargroupgap : float\n",
            "                           Set the gap between groups\n",
            "                                   [0,1)\n",
            "                           * Only valid when kind is 'histogram' or 'bar'          \n",
            "                   bins : int or tuple \n",
            "                           if int:\n",
            "                                   Specifies the number of bins \n",
            "                           if tuple:\n",
            "                                   (start, end, size)\n",
            "                                   start : starting value\n",
            "                                   end: end value\n",
            "                                   size: bin size\n",
            "                           * Only valid when kind='histogram'\n",
            "    \n",
            "                   histnorm : string\n",
            "                                   '' (frequency)\n",
            "                                   percent\n",
            "                                   probability\n",
            "                                   density\n",
            "                                   probability density\n",
            "                           Sets the type of normalization for an histogram trace. By default\n",
            "                           the height of each bar displays the frequency of occurrence, i.e., \n",
            "                           the number of times this value was found in the\n",
            "                           corresponding bin. If set to 'percent', the height of each bar\n",
            "                           displays the percentage of total occurrences found within the\n",
            "                           corresponding bin. If set to 'probability', the height of each bar\n",
            "                           displays the probability that an event will fall into the\n",
            "                           corresponding bin. If set to 'density', the height of each bar is\n",
            "                           equal to the number of occurrences in a bin divided by the size of\n",
            "                           the bin interval such that summing the area of all bins will yield\n",
            "                           the total number of occurrences. If set to 'probability density',\n",
            "                           the height of each bar is equal to the number of probability that an\n",
            "                           event will fall into the corresponding bin divided by the size of\n",
            "                           the bin interval such that summing the area of all bins will yield\n",
            "                           1.\n",
            "                           * Only valid when kind='histogram'\n",
            "                   histfunc : string\n",
            "                                   count\n",
            "                                   sum\n",
            "                                   avg\n",
            "                                   min\n",
            "                                   max\n",
            "                      Sets the binning function used for an histogram trace. \n",
            "                           * Only valid when kind='histogram'           \n",
            "                   orientation : string\n",
            "                                   h \n",
            "                                   v\n",
            "                           Sets the orientation of the bars. If set to 'v', the length of each\n",
            "    |          bar will run vertically. If set to 'h', the length of each bar will\n",
            "    |          run horizontally\n",
            "                           * Only valid when kind is 'histogram','bar' or 'box'\n",
            "                   boxpoints : string\n",
            "                           Displays data points in a box plot\n",
            "                                   outliers\n",
            "                                   all\n",
            "                                   suspectedoutliers\n",
            "                                   False\n",
            "                   annotations : dictionary\n",
            "                           Dictionary of annotations\n",
            "                           {x_point : text}\n",
            "                   keys : list of columns\n",
            "                           List of columns to chart.\n",
            "                           Also can be used for custom sorting.\n",
            "                   bestfit : boolean or list\n",
            "                           If True then a best fit line will be generated for\n",
            "                           all columns.\n",
            "                           If list then a best fit line will be generated for\n",
            "                           each key on the list.\n",
            "                   bestfit_colors : list or dict\n",
            "                           {key:color} to specify the color for each column\n",
            "                           [colors] to use the colors in the defined order \n",
            "                   categories : string\n",
            "                           Name of the column that contains the categories\n",
            "                   x : string\n",
            "                           Name of the column that contains the x axis values              \n",
            "                   y : string\n",
            "                           Name of the column that contains the y axis values\n",
            "                   z : string\n",
            "                           Name of the column that contains the z axis values                                      \n",
            "                   text : string\n",
            "                           Name of the column that contains the text values        \n",
            "                   gridcolor : string\n",
            "                           Grid color      \n",
            "                   zerolinecolor : string\n",
            "                           Zero line color\n",
            "                   margin : dict or tuple\n",
            "                           Dictionary (l,r,b,t) or\n",
            "                           Tuple containing the left,\n",
            "                           right, bottom and top margins\n",
            "                   labels : string\n",
            "                           Name of the column that contains the labels.\n",
            "                           * Only valid when kind='pie' \n",
            "                   values : string\n",
            "                           Name of the column that contains the values.\n",
            "                           * Only valid when kind='pie'\n",
            "                   secondary_y : string or list(string)\n",
            "                           Name(s) of the column to be charted on the \n",
            "                           right hand side axis\n",
            "                   secondary_y_title : string\n",
            "                           Title of the secondary axis\n",
            "                   subplots : bool\n",
            "                           If true then each trace is placed in \n",
            "                           subplot layout\n",
            "                   shape : (rows,cols)\n",
            "                           Tuple indicating the size of rows and columns\n",
            "                           If omitted then the layout is automatically set\n",
            "                           * Only valid when subplots=True\n",
            "                   error_x : int or float or [int or float]\n",
            "                           error values for the x axis\n",
            "                   error_y : int or float or [int or float]\n",
            "                           error values for the y axis\n",
            "                   error_type : string\n",
            "                           type of error bars\n",
            "                                   'data' \n",
            "                                   'constant'\n",
            "                                   'percent'\n",
            "                                   'sqrt'\n",
            "                                   'continuous'\n",
            "                                   'continuous_percent'\n",
            "                   asFrame : bool\n",
            "                           If true then the data component of Figure will\n",
            "                           be of Pandas form (Series) otherwise they will \n",
            "                           be index values\n",
            "                   asDates : bool\n",
            "                           If true it truncates times from a DatetimeIndex\n",
            "                   asFigure : bool\n",
            "                           If True returns plotly Figure\n",
            "                   asImage : bool\n",
            "                           If True it returns an Image (png)\n",
            "                           In ONLINE mode:\n",
            "                                   Image file is saved in the working directory                            \n",
            "                                           Accepts:\n",
            "                                                   filename\n",
            "                                                   dimensions\n",
            "                                                   scale\n",
            "                                                   display_image\n",
            "                           In OFFLINE mode:\n",
            "                                   Image file is downloaded (downloads folder) and a \n",
            "                                   regular plotly chart is displayed in Jupyter\n",
            "                                           Accepts:\n",
            "                                                   filename\n",
            "                                                   dimensions\n",
            "                   dimensions : tuple(int,int)\n",
            "                           Dimensions for image / chart\n",
            "                                   (width,height)          \n",
            "                   asPlot : bool\n",
            "                           If True the chart opens in browser\n",
            "                   asUrl : bool\n",
            "                           If True the chart url/path is returned. No chart is displayed. \n",
            "                                   If Online : the URL is returned\n",
            "                                   If Offline : the local path is returned\n",
            "                   online : bool\n",
            "                           If True then the chart/image is rendered on the server \n",
            "                           even when running in offline mode. \n",
            "    \n",
            "                   Other Kwargs\n",
            "                   ============\n",
            "                   Line, Scatter\n",
            "                           connectgaps : bool\n",
            "                                   If True, empty values are connected \n",
            "                   Pie charts\n",
            "                           sort : bool\n",
            "                                   If True it sorts the labels by value\n",
            "                           pull : float [0-1]\n",
            "                                   Pulls the slices from the centre \n",
            "                           hole : float [0-1]\n",
            "                                   Sets the size of the inner hole\n",
            "                           linecolor : string\n",
            "                                   Sets the color for the contour line of the slices\n",
            "                           linewidth : string\n",
            "                                   Sets the width for the contour line of the slices       \n",
            "                           textcolor : string\n",
            "                                   Sets the color for the text in the slices\n",
            "                           textposition : string \n",
            "                                   Sets the position of the legends for each slice\n",
            "                                           outside\n",
            "                                           inner\n",
            "                           textinfo : string \n",
            "                                   Sets the information to be displayed on \n",
            "                                   the legends \n",
            "                                           label\n",
            "                                           percent\n",
            "                                           value\n",
            "                                           * or ony combination of the above using \n",
            "                                             '+' between each item\n",
            "                                             ie 'label+percent'\n",
            "    \n",
            "                   Histogram\n",
            "                           linecolor : string\n",
            "                                   specifies the line color of the histogram\n",
            "    \n",
            "                   Heatmap and Surface\n",
            "                           center_scale : float\n",
            "                                   Centers the colorscale at a specific value\n",
            "                                   Automatically sets the (zmin,zmax) values\n",
            "                           zmin : float\n",
            "                                   Defines the minimum range for the z values. \n",
            "                                   This affects the range for the colorscale\n",
            "                           zmax : float\n",
            "                                   Defines the maximum range for the z values. \n",
            "                                   This affects the range for the colorscale\n",
            "    \n",
            "                   Error Bars\n",
            "                           error_trace : string\n",
            "                                   Name of the column for which error should be \n",
            "                                   plotted. If omitted then errors apply to all \n",
            "                                   traces.\n",
            "                           error_values_minus : int or float or [int or float]\n",
            "                                   Values corresponding to the span of the error bars \n",
            "                                   below the trace coordinates\n",
            "                           error_color : string\n",
            "                                   Color for error bars\n",
            "                           error_thickness : float \n",
            "                                   Sets the line thickness of the error bars\n",
            "                           error_width :  float\n",
            "                                   Sets the width (in pixels) of the cross-bar at both \n",
            "                                   ends of the error bars\n",
            "                           error_opacity : float [0,1]\n",
            "                                   Opacity for the error bars\n",
            "    \n",
            "                   Subplots\n",
            "                           horizontal_spacing : float [0,1]\n",
            "                                   Space between subplot columns.\n",
            "                           vertical_spacing : float [0,1]\n",
            "                                   Space between subplot rows.\n",
            "                           subplot_titles : bool\n",
            "                                   If True, chart titles are plotted\n",
            "                                   at the top of each subplot\n",
            "                           shared_xaxes : bool\n",
            "                                   Assign shared x axes.\n",
            "                                   If True, subplots in the same grid column have one common\n",
            "                                   shared x-axis at the bottom of the grid.\n",
            "                           shared_yaxes : bool\n",
            "                                   Assign shared y axes.\n",
            "                                   If True, subplots in the same grid row have one common\n",
            "                                   shared y-axis on the left-hand side of the grid.\n",
            "    \n",
            "                   Shapes\n",
            "                           hline : float, list or dict\n",
            "                                   Draws a horizontal line at the \n",
            "                                   indicated y position(s)\n",
            "                                   Extra parameters can be passed in\n",
            "                                   the form of a dictionary (see shapes)\n",
            "                           vline : float, list or dict\n",
            "                                   Draws a vertical line at the \n",
            "                                   indicated x position(s)\n",
            "                                   Extra parameters can be passed in\n",
            "                                   the form of a dictionary (see shapes)\n",
            "                           hpsan : (y0,y1)\n",
            "                                   Draws a horizontal rectangle at the \n",
            "                                   indicated (y0,y1) positions.\n",
            "                                   Extra parameters can be passed in\n",
            "                                   the form of a dictionary (see shapes)\n",
            "                           vspan : (x0,x1)\n",
            "                                   Draws a vertical rectangle at the \n",
            "                                   indicated (x0,x1) positions.\n",
            "                                   Extra parameters can be passed in\n",
            "                                   the form of a dictionary (see shapes)\n",
            "                           shapes : dict or list(dict)\n",
            "                                   List of dictionaries with the \n",
            "                                   specifications of a given shape.\n",
            "                                   See help(cufflinks.tools.get_shape)\n",
            "                                   for more information\n",
            "                   \n",
            "                   Axis Ranges\n",
            "                           xrange : [lower_bound,upper_bound]\n",
            "                                   Sets the range for the x axis\n",
            "                           yrange : [lower_bound,upper_bound]\n",
            "                                   Sets the range for the y axis\n",
            "                           zrange : [lower_bound,upper_bound]\n",
            "                                   Sets the range for the z axis\n",
            "                                   \n",
            "                   Explicit Layout Updates\n",
            "                           layout_update : dict\n",
            "                                   The layout will be modified with all \n",
            "                                   the explicit values stated in the \n",
            "                                   dictionary. \n",
            "                                   It will not apply if layout is passed\n",
            "                                   as parameter.\n",
            "    \n",
            "    \n",
            "                   Range Selector\n",
            "                           rangeselector : dict\n",
            "                                   Defines a rangeselector object\n",
            "                                   see help(cf.tools.get_range_selector) for more information\n",
            "                                   Example:\n",
            "                                           {'steps':['1y','2 months','5 weeks','ytd','2mtd'],\n",
            "                                            'axis':'xaxis', 'bgcolor' : ('blue',.3),\n",
            "                                            'x': 0.2 , 'y' : 0.9}\n",
            "    \n",
            "                   Range Slider\n",
            "                           rangeslider : bool or dict\n",
            "                                   Defines if a rangeslider is displayed\n",
            "                                   If bool: \n",
            "                                           True : Makes it visible\n",
            "                                   if dict:\n",
            "                                           Rangeslider object\n",
            "                                   Example:\n",
            "                                           {'bgcolor':('blue',.3),'autorange':True}\n",
            "    \n",
            "                   Annotations\n",
            "                           fontcolor : str\n",
            "                                   Text color for annotations\n",
            "                           fontsize : int\n",
            "                                   Text size for annotations\n",
            "                           textangle : int\n",
            "                                   Text angle \n",
            "                           See https://plot.ly/python/reference/#layout-annotations \n",
            "                           for a complete list of valid parameters.\n",
            "    \n",
            "                   Exports\n",
            "                           display_image : bool\n",
            "                                   If True then the image if displayed after being saved\n",
            "                                   ** only valid if asImage=True\n",
            "                           scale : integer\n",
            "                                   Increase the resolution of the image by `scale` amount\n",
            "                                   Only valid when asImage=True\n",
            "\n"
          ]
        }
      ],
      "source": [
        "df = pd.DataFrame()\n",
        "help(df.iplot)"
      ]
    },
    {
      "cell_type": "markdown",
      "source": [
        "##Create and Cumulatively Modify DataFrame"
      ],
      "metadata": {
        "id": "Md64bv86hjiO"
      },
      "id": "Md64bv86hjiO"
    },
    {
      "cell_type": "code",
      "execution_count": 84,
      "id": "7e169ba6-fb34-425f-8058-1ea57074f0b4",
      "metadata": {
        "colab": {
          "base_uri": "https://localhost:8080/"
        },
        "id": "7e169ba6-fb34-425f-8058-1ea57074f0b4",
        "outputId": "e6ab356b-4867-450b-a1fc-e80f73f67048"
      },
      "outputs": [
        {
          "output_type": "stream",
          "name": "stdout",
          "text": [
            "          A         B         C\n",
            "0 -2.955768  1.788079  0.531933\n",
            "1  0.395900  1.445664  0.825379\n",
            "2  2.751810  1.513782 -1.478396\n",
            "3  0.052212  1.669021  0.689070\n",
            "4  1.751066  1.703883  0.960734\n",
            "           A          B          C\n",
            "0   7.044232  21.788079  30.531933\n",
            "1   7.440131  23.233743  31.357312\n",
            "2  10.191942  24.747525  29.878916\n",
            "3  10.244154  26.416545  30.567987\n",
            "4  11.995220  28.120428  31.528720\n"
          ]
        }
      ],
      "source": [
        "df = pd.DataFrame(np.random.randn(100, 3), columns=['A', 'B', 'C'])\n",
        "print(df.head())\n",
        "\n",
        "df['A'] = df['A'].cumsum() + 10\n",
        "df['B'] = df['B'].cumsum() + 20\n",
        "df['C'] = df['C'].cumsum() + 30\n",
        "print(df.head())"
      ]
    },
    {
      "cell_type": "markdown",
      "source": [
        "##Line Chart"
      ],
      "metadata": {
        "id": "ZSvKiP9ZhwBZ"
      },
      "id": "ZSvKiP9ZhwBZ"
    },
    {
      "cell_type": "code",
      "source": [
        "fig = go.Figure()\n",
        "for col in df.columns:\n",
        "    fig.add_trace(go.Scatter(y=df[col], mode='lines', name=col))\n",
        "fig.show()"
      ],
      "metadata": {
        "id": "AO-kV1G_JBKt",
        "colab": {
          "base_uri": "https://localhost:8080/",
          "height": 542
        },
        "outputId": "5f69a017-c154-4350-d5c6-f37c7a568548"
      },
      "id": "AO-kV1G_JBKt",
      "execution_count": 85,
      "outputs": [
        {
          "output_type": "display_data",
          "data": {
            "application/vnd.plotly.v1+json": {
              "data": [
                {
                  "mode": "lines",
                  "name": "A",
                  "y": {
                    "dtype": "f8",
                    "bdata": "8t4CDEstHEAw2o3MscIdQGOrQS9GYiRAgyxitwF9JECJpFBwjf0nQAGaMfKggCpAjvFNAtRsLUCAt/SGc0EuQI7pXl6HpC9Azn+0ak3oMEDiQ7rgt2AwQL+XZDjOaTBAXDUxEWU9MUD+HkTfQMowQJ4TjN2TqjFAnmaZQ3dvMUA3dYtwVN4xQBa2CqcQ+zFALqReB2sDMkAQS+fANh8yQI4a3dLI8TNAvvx7BUM0NkByr6wmkkc1QDDl6kGNjzZAumfgIs10N0BFrUFGqEs2QFtIJ0FDGTZA3EYDoQo6N0BizwBRq6Q4QACHah/OFjhAmNzyQU5DN0BgWxREwBQ3QG017ThkNTVAvvVNGV9HNUD+csE9qEk2QI2In4InfTZAKk4Lc8GDNkCS8zdG6mc2QAflYPxj0TRAHGzUptpANEDVvp9fXqk0QBsxBMU6nDRAnLPqM0LmNEDa37rwtkY1QDw4ewoU4jVAHI9i8DvINkDknQx9/y04QGL7aekMpzdA7nk54YKzOUAwi+S/Wcg7QKOkJlzVmD1AHnm5qEo5P0Ae18Ef4BhAQFmyrKGifD9AnBdrF0hdP0CLdJ+kacY9QNsm7SP4cD5AUsQkxpz3PkCj5u+ebE09QHeXLY5q2DxAQBh55eNmO0D5JwI6lJo8QCCtoCzDdjtAAgp1cbBgPEB4575d7Sg7QP74KOWJMDtARCVv5HMQPEBRUd1GL288QPRcS8Ck1DxAHVCHDF/1PEAD8Jp9VPI8QE8NbO52bDxAzNvhbG6vPkApg73wGNA/QHSmRr+LZUBA38/n4t31P0Bbj5CAdA1BQFfeWo9rPEFARkU1om19QUDQY664C5xBQE84XkaW3UFAO1RvPugXQUB4XcDmqKVAQFLgqHvAn0BAJg0S1tyUQEDmIoRVhrw+QAQWmxswYz1AS0dUOxfhPEDvjw6sni8+QNxCjLZg5j1AvOXo/G50PUBn17YKc5s8QOwYChL2lz1At5rCZNBdPEAE3mQ00CI8QMxPNETcGTtA/n77hDbAOkAcD6V+04k5QBS/mxw1wzpAwrGa0loDO0A="
                  },
                  "type": "scatter"
                },
                {
                  "mode": "lines",
                  "name": "B",
                  "y": {
                    "dtype": "f8",
                    "bdata": "TBCqir/JNUCkYIiW1js3QLG75MVdvzhAxXQot6JqOkAumTti1B48QC5oXrSmcjtAtHpsa4lfOkBF4IMn3qQ6QDg2QvxstDhAhnNFKnumN0BmYuyWPh82QD6ddvDhKzVAhU8C371kNEBRBoEb/00zQGVCWAGv1TNA0aYnZC3dM0BW2HwhO9UzQMws+EkwiTJAdfyjcrs0MkC6Cs7CKfswQLlDf8k0NzBA1itYxn2bMEAsZfFlpu8wQB91Upx4FTBA0O98UADGMEBgd9YcbEUwQMa1n2bEyDFA60btGZOFMUDEarOCINMxQPevSglcNTBAYgQx/eBvMUBq85QHgJ0yQEUZcr4BiDJAUStJZ/33MEAv512rZIkyQItu4CiINjNApplt12iKM0DW/sfTJfYyQOF9X0UYGTJA4R9FhC9rMUAWTTWel9AwQKN+dHhbSjBAqD2VajynK0DcsWbxqEwpQHCbaSKx8ihAcxdEJZSGJ0DbiSd87z4pQF7mK3nUDypApHzeZih5J0BnDuRxM0wrQEHOtkuG+yxAiIPROKzGKUCoKMDyY94rQDOMDDq4cS5A6Lp6TkFnLUBSzO21TTEtQMM0MvZI8CxAFwHdSu5ZLUDq1c4TlrgsQAR/jNKh9ixAfMVPNWUKLEDeMdBEAQksQABmPVhP6ShAyZtLzbEVK0BAnIdKKTIrQGIXo7nk0SVAkfc0pLVUJEDdidTgdI0kQGI0++2/NCVAryTcZICxJUBrVOf+TosoQGqlUV6l4ihA1GV/fH5WLEC6x12ImOsqQN5ouWNlLypAEhMmo6xIKECAZhQOIW4qQKw0N+Zb8ipAMBTer4QTLEDs4gFkVI0vQKejcFOF9DBAFVqN+xEGMUC04QVg7SY0QAaK+nUQWzNAMeJcWQOFNEAAH+Xab7I1QNzUx9+aQzVAc4XP04lGNECqTftDjhw2QCMJS00EkjRAbZoov8n9MkDMffTDr4szQKcqtB5j/TJA3LluJhavM0BrzJ8aonU0QB0I9ApzejRAgSYNyQi2M0AiihIc5a8yQNDK4yppbDFAFxrhmMc7MkA="
                  },
                  "type": "scatter"
                },
                {
                  "mode": "lines",
                  "name": "C",
                  "y": {
                    "dtype": "f8",
                    "bdata": "wvrAwyyIPkBQqkLNeFs/QEZiPKoA4T1ABsJBkWeRPkBN7l01Woc/QPm8Co/vgEBANDJOhrsPQUBrF54k/t1AQNbXBF1lhUFAd7LKr0xvQkBAo2pV03hCQDUUoFOsPEJAi+tePv35QkDU+gl54ZBDQL4Kp5y/10NAstmRuEgZREBgNGdBR7NDQGoeTXNP3UJA8BXBD+iLQkBb+A82a5NCQPeN9y4280JAfI07GWzaQkDgKu1JuupCQE10VXqnskJAKz8nxYz3QUDu4p+XUilCQLe1XcCdcEJAY9We1xWIQkAtGkpcTPZDQPQktQjL5kNALteF3aTCQ0Dvp/xNZz1DQANM7OGzC0NAttIukJGbQkBB9A12LapCQFsA7NmtAENAK2JlTj1+Q0AuXqngd0REQJ30Z3tWrkRAdI5Ov4xZREB4w0RNmvVDQLg5u10ru0NAjvHg33i7Q0AQEFOweKxDQOVLBCP/CkNAJJ/Vqa2sQkCZ+Z4iTn5DQAqtLfK0aENAgqWLDvyQQkDb5xFdXNhCQHIujHrqWENAmoQ3P/o7Q0AT0UnrlqdCQJkHCiNqEUJAK3/IjpNvQkAFrFszL6JCQFo9eBZFR0JA4wXqXrlMQkCbhe/rbIhCQB4L4TBqxUFA3wdTMrHMQUAUMuLiGcxAQBP3WHldPkFAH2OzK04ZQUAiQdvEg5lAQI7jsFssuUBA1+3mj52sQEAguNlFfiBBQJMEjsEOAkFAQfbnLK52QUC80P4MBZdBQG5YHm3SakFAqFDBSSSUQEC2Xk6M2MJAQGtfPqwrtT9ACaLZiV+5QEBMV76Fx/1AQGEMJKCGJEBAJL8GTD1aPkD6f5rMml9AQNZPTj0Zy0BAFV5JFmTnQEAvsBA7NvtAQBDjQsC9MEFAeOneqVV2QUB3gp0YtohBQL52sfKNdkFAtmU1RLW5QUDCc1q1GD5CQJZUH7gHW0JAl3NKEhhqQkAlSQ+87DpCQJiUCL4fAEJAnHCj/sSQQkCOfTGin/VCQIwOpljn9UJA06Tb7ECJQ0C4s4CTpLZDQKHQFX/7/0RAXjG5RcagRUA="
                  },
                  "type": "scatter"
                }
              ],
              "layout": {
                "template": {
                  "data": {
                    "histogram2dcontour": [
                      {
                        "type": "histogram2dcontour",
                        "colorbar": {
                          "outlinewidth": 0,
                          "ticks": ""
                        },
                        "colorscale": [
                          [
                            0,
                            "#0d0887"
                          ],
                          [
                            0.1111111111111111,
                            "#46039f"
                          ],
                          [
                            0.2222222222222222,
                            "#7201a8"
                          ],
                          [
                            0.3333333333333333,
                            "#9c179e"
                          ],
                          [
                            0.4444444444444444,
                            "#bd3786"
                          ],
                          [
                            0.5555555555555556,
                            "#d8576b"
                          ],
                          [
                            0.6666666666666666,
                            "#ed7953"
                          ],
                          [
                            0.7777777777777778,
                            "#fb9f3a"
                          ],
                          [
                            0.8888888888888888,
                            "#fdca26"
                          ],
                          [
                            1,
                            "#f0f921"
                          ]
                        ]
                      }
                    ],
                    "choropleth": [
                      {
                        "type": "choropleth",
                        "colorbar": {
                          "outlinewidth": 0,
                          "ticks": ""
                        }
                      }
                    ],
                    "histogram2d": [
                      {
                        "type": "histogram2d",
                        "colorbar": {
                          "outlinewidth": 0,
                          "ticks": ""
                        },
                        "colorscale": [
                          [
                            0,
                            "#0d0887"
                          ],
                          [
                            0.1111111111111111,
                            "#46039f"
                          ],
                          [
                            0.2222222222222222,
                            "#7201a8"
                          ],
                          [
                            0.3333333333333333,
                            "#9c179e"
                          ],
                          [
                            0.4444444444444444,
                            "#bd3786"
                          ],
                          [
                            0.5555555555555556,
                            "#d8576b"
                          ],
                          [
                            0.6666666666666666,
                            "#ed7953"
                          ],
                          [
                            0.7777777777777778,
                            "#fb9f3a"
                          ],
                          [
                            0.8888888888888888,
                            "#fdca26"
                          ],
                          [
                            1,
                            "#f0f921"
                          ]
                        ]
                      }
                    ],
                    "heatmap": [
                      {
                        "type": "heatmap",
                        "colorbar": {
                          "outlinewidth": 0,
                          "ticks": ""
                        },
                        "colorscale": [
                          [
                            0,
                            "#0d0887"
                          ],
                          [
                            0.1111111111111111,
                            "#46039f"
                          ],
                          [
                            0.2222222222222222,
                            "#7201a8"
                          ],
                          [
                            0.3333333333333333,
                            "#9c179e"
                          ],
                          [
                            0.4444444444444444,
                            "#bd3786"
                          ],
                          [
                            0.5555555555555556,
                            "#d8576b"
                          ],
                          [
                            0.6666666666666666,
                            "#ed7953"
                          ],
                          [
                            0.7777777777777778,
                            "#fb9f3a"
                          ],
                          [
                            0.8888888888888888,
                            "#fdca26"
                          ],
                          [
                            1,
                            "#f0f921"
                          ]
                        ]
                      }
                    ],
                    "contourcarpet": [
                      {
                        "type": "contourcarpet",
                        "colorbar": {
                          "outlinewidth": 0,
                          "ticks": ""
                        }
                      }
                    ],
                    "contour": [
                      {
                        "type": "contour",
                        "colorbar": {
                          "outlinewidth": 0,
                          "ticks": ""
                        },
                        "colorscale": [
                          [
                            0,
                            "#0d0887"
                          ],
                          [
                            0.1111111111111111,
                            "#46039f"
                          ],
                          [
                            0.2222222222222222,
                            "#7201a8"
                          ],
                          [
                            0.3333333333333333,
                            "#9c179e"
                          ],
                          [
                            0.4444444444444444,
                            "#bd3786"
                          ],
                          [
                            0.5555555555555556,
                            "#d8576b"
                          ],
                          [
                            0.6666666666666666,
                            "#ed7953"
                          ],
                          [
                            0.7777777777777778,
                            "#fb9f3a"
                          ],
                          [
                            0.8888888888888888,
                            "#fdca26"
                          ],
                          [
                            1,
                            "#f0f921"
                          ]
                        ]
                      }
                    ],
                    "surface": [
                      {
                        "type": "surface",
                        "colorbar": {
                          "outlinewidth": 0,
                          "ticks": ""
                        },
                        "colorscale": [
                          [
                            0,
                            "#0d0887"
                          ],
                          [
                            0.1111111111111111,
                            "#46039f"
                          ],
                          [
                            0.2222222222222222,
                            "#7201a8"
                          ],
                          [
                            0.3333333333333333,
                            "#9c179e"
                          ],
                          [
                            0.4444444444444444,
                            "#bd3786"
                          ],
                          [
                            0.5555555555555556,
                            "#d8576b"
                          ],
                          [
                            0.6666666666666666,
                            "#ed7953"
                          ],
                          [
                            0.7777777777777778,
                            "#fb9f3a"
                          ],
                          [
                            0.8888888888888888,
                            "#fdca26"
                          ],
                          [
                            1,
                            "#f0f921"
                          ]
                        ]
                      }
                    ],
                    "mesh3d": [
                      {
                        "type": "mesh3d",
                        "colorbar": {
                          "outlinewidth": 0,
                          "ticks": ""
                        }
                      }
                    ],
                    "scatter": [
                      {
                        "fillpattern": {
                          "fillmode": "overlay",
                          "size": 10,
                          "solidity": 0.2
                        },
                        "type": "scatter"
                      }
                    ],
                    "parcoords": [
                      {
                        "type": "parcoords",
                        "line": {
                          "colorbar": {
                            "outlinewidth": 0,
                            "ticks": ""
                          }
                        }
                      }
                    ],
                    "scatterpolargl": [
                      {
                        "type": "scatterpolargl",
                        "marker": {
                          "colorbar": {
                            "outlinewidth": 0,
                            "ticks": ""
                          }
                        }
                      }
                    ],
                    "bar": [
                      {
                        "error_x": {
                          "color": "#2a3f5f"
                        },
                        "error_y": {
                          "color": "#2a3f5f"
                        },
                        "marker": {
                          "line": {
                            "color": "#E5ECF6",
                            "width": 0.5
                          },
                          "pattern": {
                            "fillmode": "overlay",
                            "size": 10,
                            "solidity": 0.2
                          }
                        },
                        "type": "bar"
                      }
                    ],
                    "scattergeo": [
                      {
                        "type": "scattergeo",
                        "marker": {
                          "colorbar": {
                            "outlinewidth": 0,
                            "ticks": ""
                          }
                        }
                      }
                    ],
                    "scatterpolar": [
                      {
                        "type": "scatterpolar",
                        "marker": {
                          "colorbar": {
                            "outlinewidth": 0,
                            "ticks": ""
                          }
                        }
                      }
                    ],
                    "histogram": [
                      {
                        "marker": {
                          "pattern": {
                            "fillmode": "overlay",
                            "size": 10,
                            "solidity": 0.2
                          }
                        },
                        "type": "histogram"
                      }
                    ],
                    "scattergl": [
                      {
                        "type": "scattergl",
                        "marker": {
                          "colorbar": {
                            "outlinewidth": 0,
                            "ticks": ""
                          }
                        }
                      }
                    ],
                    "scatter3d": [
                      {
                        "type": "scatter3d",
                        "line": {
                          "colorbar": {
                            "outlinewidth": 0,
                            "ticks": ""
                          }
                        },
                        "marker": {
                          "colorbar": {
                            "outlinewidth": 0,
                            "ticks": ""
                          }
                        }
                      }
                    ],
                    "scattermap": [
                      {
                        "type": "scattermap",
                        "marker": {
                          "colorbar": {
                            "outlinewidth": 0,
                            "ticks": ""
                          }
                        }
                      }
                    ],
                    "scattermapbox": [
                      {
                        "type": "scattermapbox",
                        "marker": {
                          "colorbar": {
                            "outlinewidth": 0,
                            "ticks": ""
                          }
                        }
                      }
                    ],
                    "scatterternary": [
                      {
                        "type": "scatterternary",
                        "marker": {
                          "colorbar": {
                            "outlinewidth": 0,
                            "ticks": ""
                          }
                        }
                      }
                    ],
                    "scattercarpet": [
                      {
                        "type": "scattercarpet",
                        "marker": {
                          "colorbar": {
                            "outlinewidth": 0,
                            "ticks": ""
                          }
                        }
                      }
                    ],
                    "carpet": [
                      {
                        "aaxis": {
                          "endlinecolor": "#2a3f5f",
                          "gridcolor": "white",
                          "linecolor": "white",
                          "minorgridcolor": "white",
                          "startlinecolor": "#2a3f5f"
                        },
                        "baxis": {
                          "endlinecolor": "#2a3f5f",
                          "gridcolor": "white",
                          "linecolor": "white",
                          "minorgridcolor": "white",
                          "startlinecolor": "#2a3f5f"
                        },
                        "type": "carpet"
                      }
                    ],
                    "table": [
                      {
                        "cells": {
                          "fill": {
                            "color": "#EBF0F8"
                          },
                          "line": {
                            "color": "white"
                          }
                        },
                        "header": {
                          "fill": {
                            "color": "#C8D4E3"
                          },
                          "line": {
                            "color": "white"
                          }
                        },
                        "type": "table"
                      }
                    ],
                    "barpolar": [
                      {
                        "marker": {
                          "line": {
                            "color": "#E5ECF6",
                            "width": 0.5
                          },
                          "pattern": {
                            "fillmode": "overlay",
                            "size": 10,
                            "solidity": 0.2
                          }
                        },
                        "type": "barpolar"
                      }
                    ],
                    "pie": [
                      {
                        "automargin": true,
                        "type": "pie"
                      }
                    ]
                  },
                  "layout": {
                    "autotypenumbers": "strict",
                    "colorway": [
                      "#636efa",
                      "#EF553B",
                      "#00cc96",
                      "#ab63fa",
                      "#FFA15A",
                      "#19d3f3",
                      "#FF6692",
                      "#B6E880",
                      "#FF97FF",
                      "#FECB52"
                    ],
                    "font": {
                      "color": "#2a3f5f"
                    },
                    "hovermode": "closest",
                    "hoverlabel": {
                      "align": "left"
                    },
                    "paper_bgcolor": "white",
                    "plot_bgcolor": "#E5ECF6",
                    "polar": {
                      "bgcolor": "#E5ECF6",
                      "angularaxis": {
                        "gridcolor": "white",
                        "linecolor": "white",
                        "ticks": ""
                      },
                      "radialaxis": {
                        "gridcolor": "white",
                        "linecolor": "white",
                        "ticks": ""
                      }
                    },
                    "ternary": {
                      "bgcolor": "#E5ECF6",
                      "aaxis": {
                        "gridcolor": "white",
                        "linecolor": "white",
                        "ticks": ""
                      },
                      "baxis": {
                        "gridcolor": "white",
                        "linecolor": "white",
                        "ticks": ""
                      },
                      "caxis": {
                        "gridcolor": "white",
                        "linecolor": "white",
                        "ticks": ""
                      }
                    },
                    "coloraxis": {
                      "colorbar": {
                        "outlinewidth": 0,
                        "ticks": ""
                      }
                    },
                    "colorscale": {
                      "sequential": [
                        [
                          0,
                          "#0d0887"
                        ],
                        [
                          0.1111111111111111,
                          "#46039f"
                        ],
                        [
                          0.2222222222222222,
                          "#7201a8"
                        ],
                        [
                          0.3333333333333333,
                          "#9c179e"
                        ],
                        [
                          0.4444444444444444,
                          "#bd3786"
                        ],
                        [
                          0.5555555555555556,
                          "#d8576b"
                        ],
                        [
                          0.6666666666666666,
                          "#ed7953"
                        ],
                        [
                          0.7777777777777778,
                          "#fb9f3a"
                        ],
                        [
                          0.8888888888888888,
                          "#fdca26"
                        ],
                        [
                          1,
                          "#f0f921"
                        ]
                      ],
                      "sequentialminus": [
                        [
                          0,
                          "#0d0887"
                        ],
                        [
                          0.1111111111111111,
                          "#46039f"
                        ],
                        [
                          0.2222222222222222,
                          "#7201a8"
                        ],
                        [
                          0.3333333333333333,
                          "#9c179e"
                        ],
                        [
                          0.4444444444444444,
                          "#bd3786"
                        ],
                        [
                          0.5555555555555556,
                          "#d8576b"
                        ],
                        [
                          0.6666666666666666,
                          "#ed7953"
                        ],
                        [
                          0.7777777777777778,
                          "#fb9f3a"
                        ],
                        [
                          0.8888888888888888,
                          "#fdca26"
                        ],
                        [
                          1,
                          "#f0f921"
                        ]
                      ],
                      "diverging": [
                        [
                          0,
                          "#8e0152"
                        ],
                        [
                          0.1,
                          "#c51b7d"
                        ],
                        [
                          0.2,
                          "#de77ae"
                        ],
                        [
                          0.3,
                          "#f1b6da"
                        ],
                        [
                          0.4,
                          "#fde0ef"
                        ],
                        [
                          0.5,
                          "#f7f7f7"
                        ],
                        [
                          0.6,
                          "#e6f5d0"
                        ],
                        [
                          0.7,
                          "#b8e186"
                        ],
                        [
                          0.8,
                          "#7fbc41"
                        ],
                        [
                          0.9,
                          "#4d9221"
                        ],
                        [
                          1,
                          "#276419"
                        ]
                      ]
                    },
                    "xaxis": {
                      "gridcolor": "white",
                      "linecolor": "white",
                      "ticks": "",
                      "title": {
                        "standoff": 15
                      },
                      "zerolinecolor": "white",
                      "automargin": true,
                      "zerolinewidth": 2
                    },
                    "yaxis": {
                      "gridcolor": "white",
                      "linecolor": "white",
                      "ticks": "",
                      "title": {
                        "standoff": 15
                      },
                      "zerolinecolor": "white",
                      "automargin": true,
                      "zerolinewidth": 2
                    },
                    "scene": {
                      "xaxis": {
                        "backgroundcolor": "#E5ECF6",
                        "gridcolor": "white",
                        "linecolor": "white",
                        "showbackground": true,
                        "ticks": "",
                        "zerolinecolor": "white",
                        "gridwidth": 2
                      },
                      "yaxis": {
                        "backgroundcolor": "#E5ECF6",
                        "gridcolor": "white",
                        "linecolor": "white",
                        "showbackground": true,
                        "ticks": "",
                        "zerolinecolor": "white",
                        "gridwidth": 2
                      },
                      "zaxis": {
                        "backgroundcolor": "#E5ECF6",
                        "gridcolor": "white",
                        "linecolor": "white",
                        "showbackground": true,
                        "ticks": "",
                        "zerolinecolor": "white",
                        "gridwidth": 2
                      }
                    },
                    "shapedefaults": {
                      "line": {
                        "color": "#2a3f5f"
                      }
                    },
                    "annotationdefaults": {
                      "arrowcolor": "#2a3f5f",
                      "arrowhead": 0,
                      "arrowwidth": 1
                    },
                    "geo": {
                      "bgcolor": "white",
                      "landcolor": "#E5ECF6",
                      "subunitcolor": "white",
                      "showland": true,
                      "showlakes": true,
                      "lakecolor": "white"
                    },
                    "title": {
                      "x": 0.05
                    },
                    "mapbox": {
                      "style": "light"
                    }
                  }
                }
              },
              "config": {
                "plotlyServerURL": "https://plot.ly"
              }
            },
            "text/html": [
              "<div>            <script src=\"https://cdnjs.cloudflare.com/ajax/libs/mathjax/2.7.5/MathJax.js?config=TeX-AMS-MML_SVG\"></script><script type=\"text/javascript\">if (window.MathJax && window.MathJax.Hub && window.MathJax.Hub.Config) {window.MathJax.Hub.Config({SVG: {font: \"STIX-Web\"}});}</script>                <script type=\"text/javascript\">window.PlotlyConfig = {MathJaxConfig: 'local'};</script>\n",
              "        <script charset=\"utf-8\" src=\"https://cdn.plot.ly/plotly-3.0.0.min.js\"></script>                <div id=\"4642cf12-559a-4fb7-b301-ea4b7f9f4cb7\" class=\"plotly-graph-div\" style=\"height:525px; width:100%;\"></div>            <script type=\"text/javascript\">                window.PLOTLYENV=window.PLOTLYENV || {};                                if (document.getElementById(\"4642cf12-559a-4fb7-b301-ea4b7f9f4cb7\")) {                    Plotly.newPlot(                        \"4642cf12-559a-4fb7-b301-ea4b7f9f4cb7\",                        [{\"mode\":\"lines\",\"name\":\"A\",\"y\":{\"dtype\":\"f8\",\"bdata\":\"8t4CDEstHEAw2o3MscIdQGOrQS9GYiRAgyxitwF9JECJpFBwjf0nQAGaMfKggCpAjvFNAtRsLUCAt\\u002fSGc0EuQI7pXl6HpC9Azn+0ak3oMEDiQ7rgt2AwQL+XZDjOaTBAXDUxEWU9MUD+HkTfQMowQJ4TjN2TqjFAnmaZQ3dvMUA3dYtwVN4xQBa2CqcQ+zFALqReB2sDMkAQS+fANh8yQI4a3dLI8TNAvvx7BUM0NkByr6wmkkc1QDDl6kGNjzZAumfgIs10N0BFrUFGqEs2QFtIJ0FDGTZA3EYDoQo6N0BizwBRq6Q4QACHah\\u002fOFjhAmNzyQU5DN0BgWxREwBQ3QG017ThkNTVAvvVNGV9HNUD+csE9qEk2QI2In4InfTZAKk4Lc8GDNkCS8zdG6mc2QAflYPxj0TRAHGzUptpANEDVvp9fXqk0QBsxBMU6nDRAnLPqM0LmNEDa37rwtkY1QDw4ewoU4jVAHI9i8DvINkDknQx9\\u002fy04QGL7aekMpzdA7nk54YKzOUAwi+S\\u002fWcg7QKOkJlzVmD1AHnm5qEo5P0Ae18Ef4BhAQFmyrKGifD9AnBdrF0hdP0CLdJ+kacY9QNsm7SP4cD5AUsQkxpz3PkCj5u+ebE09QHeXLY5q2DxAQBh55eNmO0D5JwI6lJo8QCCtoCzDdjtAAgp1cbBgPEB4575d7Sg7QP74KOWJMDtARCVv5HMQPEBRUd1GL288QPRcS8Ck1DxAHVCHDF\\u002f1PEAD8Jp9VPI8QE8NbO52bDxAzNvhbG6vPkApg73wGNA\\u002fQHSmRr+LZUBA38\\u002fn4t31P0Bbj5CAdA1BQFfeWo9rPEFARkU1om19QUDQY664C5xBQE84XkaW3UFAO1RvPugXQUB4XcDmqKVAQFLgqHvAn0BAJg0S1tyUQEDmIoRVhrw+QAQWmxswYz1AS0dUOxfhPEDvjw6sni8+QNxCjLZg5j1AvOXo\\u002fG50PUBn17YKc5s8QOwYChL2lz1At5rCZNBdPEAE3mQ00CI8QMxPNETcGTtA\\u002fn77hDbAOkAcD6V+04k5QBS\\u002fmxw1wzpAwrGa0loDO0A=\"},\"type\":\"scatter\"},{\"mode\":\"lines\",\"name\":\"B\",\"y\":{\"dtype\":\"f8\",\"bdata\":\"TBCqir\\u002fJNUCkYIiW1js3QLG75MVdvzhAxXQot6JqOkAumTti1B48QC5oXrSmcjtAtHpsa4lfOkBF4IMn3qQ6QDg2QvxstDhAhnNFKnumN0BmYuyWPh82QD6ddvDhKzVAhU8C371kNEBRBoEb\\u002f00zQGVCWAGv1TNA0aYnZC3dM0BW2HwhO9UzQMws+EkwiTJAdfyjcrs0MkC6Cs7CKfswQLlDf8k0NzBA1itYxn2bMEAsZfFlpu8wQB91Upx4FTBA0O98UADGMEBgd9YcbEUwQMa1n2bEyDFA60btGZOFMUDEarOCINMxQPevSglcNTBAYgQx\\u002feBvMUBq85QHgJ0yQEUZcr4BiDJAUStJZ\\u002f33MEAv512rZIkyQItu4CiINjNApplt12iKM0DW\\u002fsfTJfYyQOF9X0UYGTJA4R9FhC9rMUAWTTWel9AwQKN+dHhbSjBAqD2VajynK0DcsWbxqEwpQHCbaSKx8ihAcxdEJZSGJ0DbiSd87z4pQF7mK3nUDypApHzeZih5J0BnDuRxM0wrQEHOtkuG+yxAiIPROKzGKUCoKMDyY94rQDOMDDq4cS5A6Lp6TkFnLUBSzO21TTEtQMM0MvZI8CxAFwHdSu5ZLUDq1c4TlrgsQAR\\u002fjNKh9ixAfMVPNWUKLEDeMdBEAQksQABmPVhP6ShAyZtLzbEVK0BAnIdKKTIrQGIXo7nk0SVAkfc0pLVUJEDdidTgdI0kQGI0++2\\u002fNCVAryTcZICxJUBrVOf+TosoQGqlUV6l4ihA1GV\\u002ffH5WLEC6x12ImOsqQN5ouWNlLypAEhMmo6xIKECAZhQOIW4qQKw0N+Zb8ipAMBTer4QTLEDs4gFkVI0vQKejcFOF9DBAFVqN+xEGMUC04QVg7SY0QAaK+nUQWzNAMeJcWQOFNEAAH+Xab7I1QNzUx9+aQzVAc4XP04lGNECqTftDjhw2QCMJS00EkjRAbZoov8n9MkDMffTDr4szQKcqtB5j\\u002fTJA3LluJhavM0BrzJ8aonU0QB0I9ApzejRAgSYNyQi2M0AiihIc5a8yQNDK4yppbDFAFxrhmMc7MkA=\"},\"type\":\"scatter\"},{\"mode\":\"lines\",\"name\":\"C\",\"y\":{\"dtype\":\"f8\",\"bdata\":\"wvrAwyyIPkBQqkLNeFs\\u002fQEZiPKoA4T1ABsJBkWeRPkBN7l01Woc\\u002fQPm8Co\\u002fvgEBANDJOhrsPQUBrF54k\\u002ft1AQNbXBF1lhUFAd7LKr0xvQkBAo2pV03hCQDUUoFOsPEJAi+tePv35QkDU+gl54ZBDQL4Kp5y\\u002f10NAstmRuEgZREBgNGdBR7NDQGoeTXNP3UJA8BXBD+iLQkBb+A82a5NCQPeN9y4280JAfI07GWzaQkDgKu1JuupCQE10VXqnskJAKz8nxYz3QUDu4p+XUilCQLe1XcCdcEJAY9We1xWIQkAtGkpcTPZDQPQktQjL5kNALteF3aTCQ0Dvp\\u002fxNZz1DQANM7OGzC0NAttIukJGbQkBB9A12LapCQFsA7NmtAENAK2JlTj1+Q0AuXqngd0REQJ30Z3tWrkRAdI5Ov4xZREB4w0RNmvVDQLg5u10ru0NAjvHg33i7Q0AQEFOweKxDQOVLBCP\\u002fCkNAJJ\\u002fVqa2sQkCZ+Z4iTn5DQAqtLfK0aENAgqWLDvyQQkDb5xFdXNhCQHIujHrqWENAmoQ3P\\u002fo7Q0AT0UnrlqdCQJkHCiNqEUJAK3\\u002fIjpNvQkAFrFszL6JCQFo9eBZFR0JA4wXqXrlMQkCbhe\\u002frbIhCQB4L4TBqxUFA3wdTMrHMQUAUMuLiGcxAQBP3WHldPkFAH2OzK04ZQUAiQdvEg5lAQI7jsFssuUBA1+3mj52sQEAguNlFfiBBQJMEjsEOAkFAQfbnLK52QUC80P4MBZdBQG5YHm3SakFAqFDBSSSUQEC2Xk6M2MJAQGtfPqwrtT9ACaLZiV+5QEBMV76Fx\\u002f1AQGEMJKCGJEBAJL8GTD1aPkD6f5rMml9AQNZPTj0Zy0BAFV5JFmTnQEAvsBA7NvtAQBDjQsC9MEFAeOneqVV2QUB3gp0YtohBQL52sfKNdkFAtmU1RLW5QUDCc1q1GD5CQJZUH7gHW0JAl3NKEhhqQkAlSQ+87DpCQJiUCL4fAEJAnHCj\\u002fsSQQkCOfTGin\\u002fVCQIwOpljn9UJA06Tb7ECJQ0C4s4CTpLZDQKHQFX\\u002f7\\u002f0RAXjG5RcagRUA=\"},\"type\":\"scatter\"}],                        {\"template\":{\"data\":{\"histogram2dcontour\":[{\"type\":\"histogram2dcontour\",\"colorbar\":{\"outlinewidth\":0,\"ticks\":\"\"},\"colorscale\":[[0.0,\"#0d0887\"],[0.1111111111111111,\"#46039f\"],[0.2222222222222222,\"#7201a8\"],[0.3333333333333333,\"#9c179e\"],[0.4444444444444444,\"#bd3786\"],[0.5555555555555556,\"#d8576b\"],[0.6666666666666666,\"#ed7953\"],[0.7777777777777778,\"#fb9f3a\"],[0.8888888888888888,\"#fdca26\"],[1.0,\"#f0f921\"]]}],\"choropleth\":[{\"type\":\"choropleth\",\"colorbar\":{\"outlinewidth\":0,\"ticks\":\"\"}}],\"histogram2d\":[{\"type\":\"histogram2d\",\"colorbar\":{\"outlinewidth\":0,\"ticks\":\"\"},\"colorscale\":[[0.0,\"#0d0887\"],[0.1111111111111111,\"#46039f\"],[0.2222222222222222,\"#7201a8\"],[0.3333333333333333,\"#9c179e\"],[0.4444444444444444,\"#bd3786\"],[0.5555555555555556,\"#d8576b\"],[0.6666666666666666,\"#ed7953\"],[0.7777777777777778,\"#fb9f3a\"],[0.8888888888888888,\"#fdca26\"],[1.0,\"#f0f921\"]]}],\"heatmap\":[{\"type\":\"heatmap\",\"colorbar\":{\"outlinewidth\":0,\"ticks\":\"\"},\"colorscale\":[[0.0,\"#0d0887\"],[0.1111111111111111,\"#46039f\"],[0.2222222222222222,\"#7201a8\"],[0.3333333333333333,\"#9c179e\"],[0.4444444444444444,\"#bd3786\"],[0.5555555555555556,\"#d8576b\"],[0.6666666666666666,\"#ed7953\"],[0.7777777777777778,\"#fb9f3a\"],[0.8888888888888888,\"#fdca26\"],[1.0,\"#f0f921\"]]}],\"contourcarpet\":[{\"type\":\"contourcarpet\",\"colorbar\":{\"outlinewidth\":0,\"ticks\":\"\"}}],\"contour\":[{\"type\":\"contour\",\"colorbar\":{\"outlinewidth\":0,\"ticks\":\"\"},\"colorscale\":[[0.0,\"#0d0887\"],[0.1111111111111111,\"#46039f\"],[0.2222222222222222,\"#7201a8\"],[0.3333333333333333,\"#9c179e\"],[0.4444444444444444,\"#bd3786\"],[0.5555555555555556,\"#d8576b\"],[0.6666666666666666,\"#ed7953\"],[0.7777777777777778,\"#fb9f3a\"],[0.8888888888888888,\"#fdca26\"],[1.0,\"#f0f921\"]]}],\"surface\":[{\"type\":\"surface\",\"colorbar\":{\"outlinewidth\":0,\"ticks\":\"\"},\"colorscale\":[[0.0,\"#0d0887\"],[0.1111111111111111,\"#46039f\"],[0.2222222222222222,\"#7201a8\"],[0.3333333333333333,\"#9c179e\"],[0.4444444444444444,\"#bd3786\"],[0.5555555555555556,\"#d8576b\"],[0.6666666666666666,\"#ed7953\"],[0.7777777777777778,\"#fb9f3a\"],[0.8888888888888888,\"#fdca26\"],[1.0,\"#f0f921\"]]}],\"mesh3d\":[{\"type\":\"mesh3d\",\"colorbar\":{\"outlinewidth\":0,\"ticks\":\"\"}}],\"scatter\":[{\"fillpattern\":{\"fillmode\":\"overlay\",\"size\":10,\"solidity\":0.2},\"type\":\"scatter\"}],\"parcoords\":[{\"type\":\"parcoords\",\"line\":{\"colorbar\":{\"outlinewidth\":0,\"ticks\":\"\"}}}],\"scatterpolargl\":[{\"type\":\"scatterpolargl\",\"marker\":{\"colorbar\":{\"outlinewidth\":0,\"ticks\":\"\"}}}],\"bar\":[{\"error_x\":{\"color\":\"#2a3f5f\"},\"error_y\":{\"color\":\"#2a3f5f\"},\"marker\":{\"line\":{\"color\":\"#E5ECF6\",\"width\":0.5},\"pattern\":{\"fillmode\":\"overlay\",\"size\":10,\"solidity\":0.2}},\"type\":\"bar\"}],\"scattergeo\":[{\"type\":\"scattergeo\",\"marker\":{\"colorbar\":{\"outlinewidth\":0,\"ticks\":\"\"}}}],\"scatterpolar\":[{\"type\":\"scatterpolar\",\"marker\":{\"colorbar\":{\"outlinewidth\":0,\"ticks\":\"\"}}}],\"histogram\":[{\"marker\":{\"pattern\":{\"fillmode\":\"overlay\",\"size\":10,\"solidity\":0.2}},\"type\":\"histogram\"}],\"scattergl\":[{\"type\":\"scattergl\",\"marker\":{\"colorbar\":{\"outlinewidth\":0,\"ticks\":\"\"}}}],\"scatter3d\":[{\"type\":\"scatter3d\",\"line\":{\"colorbar\":{\"outlinewidth\":0,\"ticks\":\"\"}},\"marker\":{\"colorbar\":{\"outlinewidth\":0,\"ticks\":\"\"}}}],\"scattermap\":[{\"type\":\"scattermap\",\"marker\":{\"colorbar\":{\"outlinewidth\":0,\"ticks\":\"\"}}}],\"scattermapbox\":[{\"type\":\"scattermapbox\",\"marker\":{\"colorbar\":{\"outlinewidth\":0,\"ticks\":\"\"}}}],\"scatterternary\":[{\"type\":\"scatterternary\",\"marker\":{\"colorbar\":{\"outlinewidth\":0,\"ticks\":\"\"}}}],\"scattercarpet\":[{\"type\":\"scattercarpet\",\"marker\":{\"colorbar\":{\"outlinewidth\":0,\"ticks\":\"\"}}}],\"carpet\":[{\"aaxis\":{\"endlinecolor\":\"#2a3f5f\",\"gridcolor\":\"white\",\"linecolor\":\"white\",\"minorgridcolor\":\"white\",\"startlinecolor\":\"#2a3f5f\"},\"baxis\":{\"endlinecolor\":\"#2a3f5f\",\"gridcolor\":\"white\",\"linecolor\":\"white\",\"minorgridcolor\":\"white\",\"startlinecolor\":\"#2a3f5f\"},\"type\":\"carpet\"}],\"table\":[{\"cells\":{\"fill\":{\"color\":\"#EBF0F8\"},\"line\":{\"color\":\"white\"}},\"header\":{\"fill\":{\"color\":\"#C8D4E3\"},\"line\":{\"color\":\"white\"}},\"type\":\"table\"}],\"barpolar\":[{\"marker\":{\"line\":{\"color\":\"#E5ECF6\",\"width\":0.5},\"pattern\":{\"fillmode\":\"overlay\",\"size\":10,\"solidity\":0.2}},\"type\":\"barpolar\"}],\"pie\":[{\"automargin\":true,\"type\":\"pie\"}]},\"layout\":{\"autotypenumbers\":\"strict\",\"colorway\":[\"#636efa\",\"#EF553B\",\"#00cc96\",\"#ab63fa\",\"#FFA15A\",\"#19d3f3\",\"#FF6692\",\"#B6E880\",\"#FF97FF\",\"#FECB52\"],\"font\":{\"color\":\"#2a3f5f\"},\"hovermode\":\"closest\",\"hoverlabel\":{\"align\":\"left\"},\"paper_bgcolor\":\"white\",\"plot_bgcolor\":\"#E5ECF6\",\"polar\":{\"bgcolor\":\"#E5ECF6\",\"angularaxis\":{\"gridcolor\":\"white\",\"linecolor\":\"white\",\"ticks\":\"\"},\"radialaxis\":{\"gridcolor\":\"white\",\"linecolor\":\"white\",\"ticks\":\"\"}},\"ternary\":{\"bgcolor\":\"#E5ECF6\",\"aaxis\":{\"gridcolor\":\"white\",\"linecolor\":\"white\",\"ticks\":\"\"},\"baxis\":{\"gridcolor\":\"white\",\"linecolor\":\"white\",\"ticks\":\"\"},\"caxis\":{\"gridcolor\":\"white\",\"linecolor\":\"white\",\"ticks\":\"\"}},\"coloraxis\":{\"colorbar\":{\"outlinewidth\":0,\"ticks\":\"\"}},\"colorscale\":{\"sequential\":[[0.0,\"#0d0887\"],[0.1111111111111111,\"#46039f\"],[0.2222222222222222,\"#7201a8\"],[0.3333333333333333,\"#9c179e\"],[0.4444444444444444,\"#bd3786\"],[0.5555555555555556,\"#d8576b\"],[0.6666666666666666,\"#ed7953\"],[0.7777777777777778,\"#fb9f3a\"],[0.8888888888888888,\"#fdca26\"],[1.0,\"#f0f921\"]],\"sequentialminus\":[[0.0,\"#0d0887\"],[0.1111111111111111,\"#46039f\"],[0.2222222222222222,\"#7201a8\"],[0.3333333333333333,\"#9c179e\"],[0.4444444444444444,\"#bd3786\"],[0.5555555555555556,\"#d8576b\"],[0.6666666666666666,\"#ed7953\"],[0.7777777777777778,\"#fb9f3a\"],[0.8888888888888888,\"#fdca26\"],[1.0,\"#f0f921\"]],\"diverging\":[[0,\"#8e0152\"],[0.1,\"#c51b7d\"],[0.2,\"#de77ae\"],[0.3,\"#f1b6da\"],[0.4,\"#fde0ef\"],[0.5,\"#f7f7f7\"],[0.6,\"#e6f5d0\"],[0.7,\"#b8e186\"],[0.8,\"#7fbc41\"],[0.9,\"#4d9221\"],[1,\"#276419\"]]},\"xaxis\":{\"gridcolor\":\"white\",\"linecolor\":\"white\",\"ticks\":\"\",\"title\":{\"standoff\":15},\"zerolinecolor\":\"white\",\"automargin\":true,\"zerolinewidth\":2},\"yaxis\":{\"gridcolor\":\"white\",\"linecolor\":\"white\",\"ticks\":\"\",\"title\":{\"standoff\":15},\"zerolinecolor\":\"white\",\"automargin\":true,\"zerolinewidth\":2},\"scene\":{\"xaxis\":{\"backgroundcolor\":\"#E5ECF6\",\"gridcolor\":\"white\",\"linecolor\":\"white\",\"showbackground\":true,\"ticks\":\"\",\"zerolinecolor\":\"white\",\"gridwidth\":2},\"yaxis\":{\"backgroundcolor\":\"#E5ECF6\",\"gridcolor\":\"white\",\"linecolor\":\"white\",\"showbackground\":true,\"ticks\":\"\",\"zerolinecolor\":\"white\",\"gridwidth\":2},\"zaxis\":{\"backgroundcolor\":\"#E5ECF6\",\"gridcolor\":\"white\",\"linecolor\":\"white\",\"showbackground\":true,\"ticks\":\"\",\"zerolinecolor\":\"white\",\"gridwidth\":2}},\"shapedefaults\":{\"line\":{\"color\":\"#2a3f5f\"}},\"annotationdefaults\":{\"arrowcolor\":\"#2a3f5f\",\"arrowhead\":0,\"arrowwidth\":1},\"geo\":{\"bgcolor\":\"white\",\"landcolor\":\"#E5ECF6\",\"subunitcolor\":\"white\",\"showland\":true,\"showlakes\":true,\"lakecolor\":\"white\"},\"title\":{\"x\":0.05},\"mapbox\":{\"style\":\"light\"}}}},                        {\"responsive\": true}                    ).then(function(){\n",
              "                            \n",
              "var gd = document.getElementById('4642cf12-559a-4fb7-b301-ea4b7f9f4cb7');\n",
              "var x = new MutationObserver(function (mutations, observer) {{\n",
              "        var display = window.getComputedStyle(gd).display;\n",
              "        if (!display || display === 'none') {{\n",
              "            console.log([gd, 'removed!']);\n",
              "            Plotly.purge(gd);\n",
              "            observer.disconnect();\n",
              "        }}\n",
              "}});\n",
              "\n",
              "// Listen for the removal of the full notebook cells\n",
              "var notebookContainer = gd.closest('#notebook-container');\n",
              "if (notebookContainer) {{\n",
              "    x.observe(notebookContainer, {childList: true});\n",
              "}}\n",
              "\n",
              "// Listen for the clearing of the current output cell\n",
              "var outputEl = gd.closest('.output');\n",
              "if (outputEl) {{\n",
              "    x.observe(outputEl, {childList: true});\n",
              "}}\n",
              "\n",
              "                        })                };            </script>        </div>"
            ]
          },
          "metadata": {}
        }
      ]
    },
    {
      "cell_type": "markdown",
      "source": [
        "##Scatter Plot (A vs B)"
      ],
      "metadata": {
        "id": "U4Se_OC2h6Gi"
      },
      "id": "U4Se_OC2h6Gi"
    },
    {
      "cell_type": "code",
      "source": [
        "fig = go.Figure(data=[go.Scatter(x=df['A'], y=df['B'], mode='markers')],\n",
        "                 layout=go.Layout(title='Random Data'))\n",
        "fig.show()"
      ],
      "metadata": {
        "colab": {
          "base_uri": "https://localhost:8080/",
          "height": 542
        },
        "id": "qeAOk_i6JFBb",
        "outputId": "61152249-8f82-4aca-f7bb-bfd0532f92c7"
      },
      "id": "qeAOk_i6JFBb",
      "execution_count": 86,
      "outputs": [
        {
          "output_type": "display_data",
          "data": {
            "application/vnd.plotly.v1+json": {
              "data": [
                {
                  "mode": "markers",
                  "x": {
                    "dtype": "f8",
                    "bdata": "8t4CDEstHEAw2o3MscIdQGOrQS9GYiRAgyxitwF9JECJpFBwjf0nQAGaMfKggCpAjvFNAtRsLUCAt/SGc0EuQI7pXl6HpC9Azn+0ak3oMEDiQ7rgt2AwQL+XZDjOaTBAXDUxEWU9MUD+HkTfQMowQJ4TjN2TqjFAnmaZQ3dvMUA3dYtwVN4xQBa2CqcQ+zFALqReB2sDMkAQS+fANh8yQI4a3dLI8TNAvvx7BUM0NkByr6wmkkc1QDDl6kGNjzZAumfgIs10N0BFrUFGqEs2QFtIJ0FDGTZA3EYDoQo6N0BizwBRq6Q4QACHah/OFjhAmNzyQU5DN0BgWxREwBQ3QG017ThkNTVAvvVNGV9HNUD+csE9qEk2QI2In4InfTZAKk4Lc8GDNkCS8zdG6mc2QAflYPxj0TRAHGzUptpANEDVvp9fXqk0QBsxBMU6nDRAnLPqM0LmNEDa37rwtkY1QDw4ewoU4jVAHI9i8DvINkDknQx9/y04QGL7aekMpzdA7nk54YKzOUAwi+S/Wcg7QKOkJlzVmD1AHnm5qEo5P0Ae18Ef4BhAQFmyrKGifD9AnBdrF0hdP0CLdJ+kacY9QNsm7SP4cD5AUsQkxpz3PkCj5u+ebE09QHeXLY5q2DxAQBh55eNmO0D5JwI6lJo8QCCtoCzDdjtAAgp1cbBgPEB4575d7Sg7QP74KOWJMDtARCVv5HMQPEBRUd1GL288QPRcS8Ck1DxAHVCHDF/1PEAD8Jp9VPI8QE8NbO52bDxAzNvhbG6vPkApg73wGNA/QHSmRr+LZUBA38/n4t31P0Bbj5CAdA1BQFfeWo9rPEFARkU1om19QUDQY664C5xBQE84XkaW3UFAO1RvPugXQUB4XcDmqKVAQFLgqHvAn0BAJg0S1tyUQEDmIoRVhrw+QAQWmxswYz1AS0dUOxfhPEDvjw6sni8+QNxCjLZg5j1AvOXo/G50PUBn17YKc5s8QOwYChL2lz1At5rCZNBdPEAE3mQ00CI8QMxPNETcGTtA/n77hDbAOkAcD6V+04k5QBS/mxw1wzpAwrGa0loDO0A="
                  },
                  "y": {
                    "dtype": "f8",
                    "bdata": "TBCqir/JNUCkYIiW1js3QLG75MVdvzhAxXQot6JqOkAumTti1B48QC5oXrSmcjtAtHpsa4lfOkBF4IMn3qQ6QDg2QvxstDhAhnNFKnumN0BmYuyWPh82QD6ddvDhKzVAhU8C371kNEBRBoEb/00zQGVCWAGv1TNA0aYnZC3dM0BW2HwhO9UzQMws+EkwiTJAdfyjcrs0MkC6Cs7CKfswQLlDf8k0NzBA1itYxn2bMEAsZfFlpu8wQB91Upx4FTBA0O98UADGMEBgd9YcbEUwQMa1n2bEyDFA60btGZOFMUDEarOCINMxQPevSglcNTBAYgQx/eBvMUBq85QHgJ0yQEUZcr4BiDJAUStJZ/33MEAv512rZIkyQItu4CiINjNApplt12iKM0DW/sfTJfYyQOF9X0UYGTJA4R9FhC9rMUAWTTWel9AwQKN+dHhbSjBAqD2VajynK0DcsWbxqEwpQHCbaSKx8ihAcxdEJZSGJ0DbiSd87z4pQF7mK3nUDypApHzeZih5J0BnDuRxM0wrQEHOtkuG+yxAiIPROKzGKUCoKMDyY94rQDOMDDq4cS5A6Lp6TkFnLUBSzO21TTEtQMM0MvZI8CxAFwHdSu5ZLUDq1c4TlrgsQAR/jNKh9ixAfMVPNWUKLEDeMdBEAQksQABmPVhP6ShAyZtLzbEVK0BAnIdKKTIrQGIXo7nk0SVAkfc0pLVUJEDdidTgdI0kQGI0++2/NCVAryTcZICxJUBrVOf+TosoQGqlUV6l4ihA1GV/fH5WLEC6x12ImOsqQN5ouWNlLypAEhMmo6xIKECAZhQOIW4qQKw0N+Zb8ipAMBTer4QTLEDs4gFkVI0vQKejcFOF9DBAFVqN+xEGMUC04QVg7SY0QAaK+nUQWzNAMeJcWQOFNEAAH+Xab7I1QNzUx9+aQzVAc4XP04lGNECqTftDjhw2QCMJS00EkjRAbZoov8n9MkDMffTDr4szQKcqtB5j/TJA3LluJhavM0BrzJ8aonU0QB0I9ApzejRAgSYNyQi2M0AiihIc5a8yQNDK4yppbDFAFxrhmMc7MkA="
                  },
                  "type": "scatter"
                }
              ],
              "layout": {
                "title": {
                  "text": "Random Data"
                },
                "template": {
                  "data": {
                    "histogram2dcontour": [
                      {
                        "type": "histogram2dcontour",
                        "colorbar": {
                          "outlinewidth": 0,
                          "ticks": ""
                        },
                        "colorscale": [
                          [
                            0,
                            "#0d0887"
                          ],
                          [
                            0.1111111111111111,
                            "#46039f"
                          ],
                          [
                            0.2222222222222222,
                            "#7201a8"
                          ],
                          [
                            0.3333333333333333,
                            "#9c179e"
                          ],
                          [
                            0.4444444444444444,
                            "#bd3786"
                          ],
                          [
                            0.5555555555555556,
                            "#d8576b"
                          ],
                          [
                            0.6666666666666666,
                            "#ed7953"
                          ],
                          [
                            0.7777777777777778,
                            "#fb9f3a"
                          ],
                          [
                            0.8888888888888888,
                            "#fdca26"
                          ],
                          [
                            1,
                            "#f0f921"
                          ]
                        ]
                      }
                    ],
                    "choropleth": [
                      {
                        "type": "choropleth",
                        "colorbar": {
                          "outlinewidth": 0,
                          "ticks": ""
                        }
                      }
                    ],
                    "histogram2d": [
                      {
                        "type": "histogram2d",
                        "colorbar": {
                          "outlinewidth": 0,
                          "ticks": ""
                        },
                        "colorscale": [
                          [
                            0,
                            "#0d0887"
                          ],
                          [
                            0.1111111111111111,
                            "#46039f"
                          ],
                          [
                            0.2222222222222222,
                            "#7201a8"
                          ],
                          [
                            0.3333333333333333,
                            "#9c179e"
                          ],
                          [
                            0.4444444444444444,
                            "#bd3786"
                          ],
                          [
                            0.5555555555555556,
                            "#d8576b"
                          ],
                          [
                            0.6666666666666666,
                            "#ed7953"
                          ],
                          [
                            0.7777777777777778,
                            "#fb9f3a"
                          ],
                          [
                            0.8888888888888888,
                            "#fdca26"
                          ],
                          [
                            1,
                            "#f0f921"
                          ]
                        ]
                      }
                    ],
                    "heatmap": [
                      {
                        "type": "heatmap",
                        "colorbar": {
                          "outlinewidth": 0,
                          "ticks": ""
                        },
                        "colorscale": [
                          [
                            0,
                            "#0d0887"
                          ],
                          [
                            0.1111111111111111,
                            "#46039f"
                          ],
                          [
                            0.2222222222222222,
                            "#7201a8"
                          ],
                          [
                            0.3333333333333333,
                            "#9c179e"
                          ],
                          [
                            0.4444444444444444,
                            "#bd3786"
                          ],
                          [
                            0.5555555555555556,
                            "#d8576b"
                          ],
                          [
                            0.6666666666666666,
                            "#ed7953"
                          ],
                          [
                            0.7777777777777778,
                            "#fb9f3a"
                          ],
                          [
                            0.8888888888888888,
                            "#fdca26"
                          ],
                          [
                            1,
                            "#f0f921"
                          ]
                        ]
                      }
                    ],
                    "contourcarpet": [
                      {
                        "type": "contourcarpet",
                        "colorbar": {
                          "outlinewidth": 0,
                          "ticks": ""
                        }
                      }
                    ],
                    "contour": [
                      {
                        "type": "contour",
                        "colorbar": {
                          "outlinewidth": 0,
                          "ticks": ""
                        },
                        "colorscale": [
                          [
                            0,
                            "#0d0887"
                          ],
                          [
                            0.1111111111111111,
                            "#46039f"
                          ],
                          [
                            0.2222222222222222,
                            "#7201a8"
                          ],
                          [
                            0.3333333333333333,
                            "#9c179e"
                          ],
                          [
                            0.4444444444444444,
                            "#bd3786"
                          ],
                          [
                            0.5555555555555556,
                            "#d8576b"
                          ],
                          [
                            0.6666666666666666,
                            "#ed7953"
                          ],
                          [
                            0.7777777777777778,
                            "#fb9f3a"
                          ],
                          [
                            0.8888888888888888,
                            "#fdca26"
                          ],
                          [
                            1,
                            "#f0f921"
                          ]
                        ]
                      }
                    ],
                    "surface": [
                      {
                        "type": "surface",
                        "colorbar": {
                          "outlinewidth": 0,
                          "ticks": ""
                        },
                        "colorscale": [
                          [
                            0,
                            "#0d0887"
                          ],
                          [
                            0.1111111111111111,
                            "#46039f"
                          ],
                          [
                            0.2222222222222222,
                            "#7201a8"
                          ],
                          [
                            0.3333333333333333,
                            "#9c179e"
                          ],
                          [
                            0.4444444444444444,
                            "#bd3786"
                          ],
                          [
                            0.5555555555555556,
                            "#d8576b"
                          ],
                          [
                            0.6666666666666666,
                            "#ed7953"
                          ],
                          [
                            0.7777777777777778,
                            "#fb9f3a"
                          ],
                          [
                            0.8888888888888888,
                            "#fdca26"
                          ],
                          [
                            1,
                            "#f0f921"
                          ]
                        ]
                      }
                    ],
                    "mesh3d": [
                      {
                        "type": "mesh3d",
                        "colorbar": {
                          "outlinewidth": 0,
                          "ticks": ""
                        }
                      }
                    ],
                    "scatter": [
                      {
                        "fillpattern": {
                          "fillmode": "overlay",
                          "size": 10,
                          "solidity": 0.2
                        },
                        "type": "scatter"
                      }
                    ],
                    "parcoords": [
                      {
                        "type": "parcoords",
                        "line": {
                          "colorbar": {
                            "outlinewidth": 0,
                            "ticks": ""
                          }
                        }
                      }
                    ],
                    "scatterpolargl": [
                      {
                        "type": "scatterpolargl",
                        "marker": {
                          "colorbar": {
                            "outlinewidth": 0,
                            "ticks": ""
                          }
                        }
                      }
                    ],
                    "bar": [
                      {
                        "error_x": {
                          "color": "#2a3f5f"
                        },
                        "error_y": {
                          "color": "#2a3f5f"
                        },
                        "marker": {
                          "line": {
                            "color": "#E5ECF6",
                            "width": 0.5
                          },
                          "pattern": {
                            "fillmode": "overlay",
                            "size": 10,
                            "solidity": 0.2
                          }
                        },
                        "type": "bar"
                      }
                    ],
                    "scattergeo": [
                      {
                        "type": "scattergeo",
                        "marker": {
                          "colorbar": {
                            "outlinewidth": 0,
                            "ticks": ""
                          }
                        }
                      }
                    ],
                    "scatterpolar": [
                      {
                        "type": "scatterpolar",
                        "marker": {
                          "colorbar": {
                            "outlinewidth": 0,
                            "ticks": ""
                          }
                        }
                      }
                    ],
                    "histogram": [
                      {
                        "marker": {
                          "pattern": {
                            "fillmode": "overlay",
                            "size": 10,
                            "solidity": 0.2
                          }
                        },
                        "type": "histogram"
                      }
                    ],
                    "scattergl": [
                      {
                        "type": "scattergl",
                        "marker": {
                          "colorbar": {
                            "outlinewidth": 0,
                            "ticks": ""
                          }
                        }
                      }
                    ],
                    "scatter3d": [
                      {
                        "type": "scatter3d",
                        "line": {
                          "colorbar": {
                            "outlinewidth": 0,
                            "ticks": ""
                          }
                        },
                        "marker": {
                          "colorbar": {
                            "outlinewidth": 0,
                            "ticks": ""
                          }
                        }
                      }
                    ],
                    "scattermap": [
                      {
                        "type": "scattermap",
                        "marker": {
                          "colorbar": {
                            "outlinewidth": 0,
                            "ticks": ""
                          }
                        }
                      }
                    ],
                    "scattermapbox": [
                      {
                        "type": "scattermapbox",
                        "marker": {
                          "colorbar": {
                            "outlinewidth": 0,
                            "ticks": ""
                          }
                        }
                      }
                    ],
                    "scatterternary": [
                      {
                        "type": "scatterternary",
                        "marker": {
                          "colorbar": {
                            "outlinewidth": 0,
                            "ticks": ""
                          }
                        }
                      }
                    ],
                    "scattercarpet": [
                      {
                        "type": "scattercarpet",
                        "marker": {
                          "colorbar": {
                            "outlinewidth": 0,
                            "ticks": ""
                          }
                        }
                      }
                    ],
                    "carpet": [
                      {
                        "aaxis": {
                          "endlinecolor": "#2a3f5f",
                          "gridcolor": "white",
                          "linecolor": "white",
                          "minorgridcolor": "white",
                          "startlinecolor": "#2a3f5f"
                        },
                        "baxis": {
                          "endlinecolor": "#2a3f5f",
                          "gridcolor": "white",
                          "linecolor": "white",
                          "minorgridcolor": "white",
                          "startlinecolor": "#2a3f5f"
                        },
                        "type": "carpet"
                      }
                    ],
                    "table": [
                      {
                        "cells": {
                          "fill": {
                            "color": "#EBF0F8"
                          },
                          "line": {
                            "color": "white"
                          }
                        },
                        "header": {
                          "fill": {
                            "color": "#C8D4E3"
                          },
                          "line": {
                            "color": "white"
                          }
                        },
                        "type": "table"
                      }
                    ],
                    "barpolar": [
                      {
                        "marker": {
                          "line": {
                            "color": "#E5ECF6",
                            "width": 0.5
                          },
                          "pattern": {
                            "fillmode": "overlay",
                            "size": 10,
                            "solidity": 0.2
                          }
                        },
                        "type": "barpolar"
                      }
                    ],
                    "pie": [
                      {
                        "automargin": true,
                        "type": "pie"
                      }
                    ]
                  },
                  "layout": {
                    "autotypenumbers": "strict",
                    "colorway": [
                      "#636efa",
                      "#EF553B",
                      "#00cc96",
                      "#ab63fa",
                      "#FFA15A",
                      "#19d3f3",
                      "#FF6692",
                      "#B6E880",
                      "#FF97FF",
                      "#FECB52"
                    ],
                    "font": {
                      "color": "#2a3f5f"
                    },
                    "hovermode": "closest",
                    "hoverlabel": {
                      "align": "left"
                    },
                    "paper_bgcolor": "white",
                    "plot_bgcolor": "#E5ECF6",
                    "polar": {
                      "bgcolor": "#E5ECF6",
                      "angularaxis": {
                        "gridcolor": "white",
                        "linecolor": "white",
                        "ticks": ""
                      },
                      "radialaxis": {
                        "gridcolor": "white",
                        "linecolor": "white",
                        "ticks": ""
                      }
                    },
                    "ternary": {
                      "bgcolor": "#E5ECF6",
                      "aaxis": {
                        "gridcolor": "white",
                        "linecolor": "white",
                        "ticks": ""
                      },
                      "baxis": {
                        "gridcolor": "white",
                        "linecolor": "white",
                        "ticks": ""
                      },
                      "caxis": {
                        "gridcolor": "white",
                        "linecolor": "white",
                        "ticks": ""
                      }
                    },
                    "coloraxis": {
                      "colorbar": {
                        "outlinewidth": 0,
                        "ticks": ""
                      }
                    },
                    "colorscale": {
                      "sequential": [
                        [
                          0,
                          "#0d0887"
                        ],
                        [
                          0.1111111111111111,
                          "#46039f"
                        ],
                        [
                          0.2222222222222222,
                          "#7201a8"
                        ],
                        [
                          0.3333333333333333,
                          "#9c179e"
                        ],
                        [
                          0.4444444444444444,
                          "#bd3786"
                        ],
                        [
                          0.5555555555555556,
                          "#d8576b"
                        ],
                        [
                          0.6666666666666666,
                          "#ed7953"
                        ],
                        [
                          0.7777777777777778,
                          "#fb9f3a"
                        ],
                        [
                          0.8888888888888888,
                          "#fdca26"
                        ],
                        [
                          1,
                          "#f0f921"
                        ]
                      ],
                      "sequentialminus": [
                        [
                          0,
                          "#0d0887"
                        ],
                        [
                          0.1111111111111111,
                          "#46039f"
                        ],
                        [
                          0.2222222222222222,
                          "#7201a8"
                        ],
                        [
                          0.3333333333333333,
                          "#9c179e"
                        ],
                        [
                          0.4444444444444444,
                          "#bd3786"
                        ],
                        [
                          0.5555555555555556,
                          "#d8576b"
                        ],
                        [
                          0.6666666666666666,
                          "#ed7953"
                        ],
                        [
                          0.7777777777777778,
                          "#fb9f3a"
                        ],
                        [
                          0.8888888888888888,
                          "#fdca26"
                        ],
                        [
                          1,
                          "#f0f921"
                        ]
                      ],
                      "diverging": [
                        [
                          0,
                          "#8e0152"
                        ],
                        [
                          0.1,
                          "#c51b7d"
                        ],
                        [
                          0.2,
                          "#de77ae"
                        ],
                        [
                          0.3,
                          "#f1b6da"
                        ],
                        [
                          0.4,
                          "#fde0ef"
                        ],
                        [
                          0.5,
                          "#f7f7f7"
                        ],
                        [
                          0.6,
                          "#e6f5d0"
                        ],
                        [
                          0.7,
                          "#b8e186"
                        ],
                        [
                          0.8,
                          "#7fbc41"
                        ],
                        [
                          0.9,
                          "#4d9221"
                        ],
                        [
                          1,
                          "#276419"
                        ]
                      ]
                    },
                    "xaxis": {
                      "gridcolor": "white",
                      "linecolor": "white",
                      "ticks": "",
                      "title": {
                        "standoff": 15
                      },
                      "zerolinecolor": "white",
                      "automargin": true,
                      "zerolinewidth": 2
                    },
                    "yaxis": {
                      "gridcolor": "white",
                      "linecolor": "white",
                      "ticks": "",
                      "title": {
                        "standoff": 15
                      },
                      "zerolinecolor": "white",
                      "automargin": true,
                      "zerolinewidth": 2
                    },
                    "scene": {
                      "xaxis": {
                        "backgroundcolor": "#E5ECF6",
                        "gridcolor": "white",
                        "linecolor": "white",
                        "showbackground": true,
                        "ticks": "",
                        "zerolinecolor": "white",
                        "gridwidth": 2
                      },
                      "yaxis": {
                        "backgroundcolor": "#E5ECF6",
                        "gridcolor": "white",
                        "linecolor": "white",
                        "showbackground": true,
                        "ticks": "",
                        "zerolinecolor": "white",
                        "gridwidth": 2
                      },
                      "zaxis": {
                        "backgroundcolor": "#E5ECF6",
                        "gridcolor": "white",
                        "linecolor": "white",
                        "showbackground": true,
                        "ticks": "",
                        "zerolinecolor": "white",
                        "gridwidth": 2
                      }
                    },
                    "shapedefaults": {
                      "line": {
                        "color": "#2a3f5f"
                      }
                    },
                    "annotationdefaults": {
                      "arrowcolor": "#2a3f5f",
                      "arrowhead": 0,
                      "arrowwidth": 1
                    },
                    "geo": {
                      "bgcolor": "white",
                      "landcolor": "#E5ECF6",
                      "subunitcolor": "white",
                      "showland": true,
                      "showlakes": true,
                      "lakecolor": "white"
                    },
                    "title": {
                      "x": 0.05
                    },
                    "mapbox": {
                      "style": "light"
                    }
                  }
                }
              },
              "config": {
                "plotlyServerURL": "https://plot.ly"
              }
            },
            "text/html": [
              "<div>            <script src=\"https://cdnjs.cloudflare.com/ajax/libs/mathjax/2.7.5/MathJax.js?config=TeX-AMS-MML_SVG\"></script><script type=\"text/javascript\">if (window.MathJax && window.MathJax.Hub && window.MathJax.Hub.Config) {window.MathJax.Hub.Config({SVG: {font: \"STIX-Web\"}});}</script>                <script type=\"text/javascript\">window.PlotlyConfig = {MathJaxConfig: 'local'};</script>\n",
              "        <script charset=\"utf-8\" src=\"https://cdn.plot.ly/plotly-3.0.0.min.js\"></script>                <div id=\"cd62edf5-4b3f-419f-8e2f-a7b21879961a\" class=\"plotly-graph-div\" style=\"height:525px; width:100%;\"></div>            <script type=\"text/javascript\">                window.PLOTLYENV=window.PLOTLYENV || {};                                if (document.getElementById(\"cd62edf5-4b3f-419f-8e2f-a7b21879961a\")) {                    Plotly.newPlot(                        \"cd62edf5-4b3f-419f-8e2f-a7b21879961a\",                        [{\"mode\":\"markers\",\"x\":{\"dtype\":\"f8\",\"bdata\":\"8t4CDEstHEAw2o3MscIdQGOrQS9GYiRAgyxitwF9JECJpFBwjf0nQAGaMfKggCpAjvFNAtRsLUCAt\\u002fSGc0EuQI7pXl6HpC9Azn+0ak3oMEDiQ7rgt2AwQL+XZDjOaTBAXDUxEWU9MUD+HkTfQMowQJ4TjN2TqjFAnmaZQ3dvMUA3dYtwVN4xQBa2CqcQ+zFALqReB2sDMkAQS+fANh8yQI4a3dLI8TNAvvx7BUM0NkByr6wmkkc1QDDl6kGNjzZAumfgIs10N0BFrUFGqEs2QFtIJ0FDGTZA3EYDoQo6N0BizwBRq6Q4QACHah\\u002fOFjhAmNzyQU5DN0BgWxREwBQ3QG017ThkNTVAvvVNGV9HNUD+csE9qEk2QI2In4InfTZAKk4Lc8GDNkCS8zdG6mc2QAflYPxj0TRAHGzUptpANEDVvp9fXqk0QBsxBMU6nDRAnLPqM0LmNEDa37rwtkY1QDw4ewoU4jVAHI9i8DvINkDknQx9\\u002fy04QGL7aekMpzdA7nk54YKzOUAwi+S\\u002fWcg7QKOkJlzVmD1AHnm5qEo5P0Ae18Ef4BhAQFmyrKGifD9AnBdrF0hdP0CLdJ+kacY9QNsm7SP4cD5AUsQkxpz3PkCj5u+ebE09QHeXLY5q2DxAQBh55eNmO0D5JwI6lJo8QCCtoCzDdjtAAgp1cbBgPEB4575d7Sg7QP74KOWJMDtARCVv5HMQPEBRUd1GL288QPRcS8Ck1DxAHVCHDF\\u002f1PEAD8Jp9VPI8QE8NbO52bDxAzNvhbG6vPkApg73wGNA\\u002fQHSmRr+LZUBA38\\u002fn4t31P0Bbj5CAdA1BQFfeWo9rPEFARkU1om19QUDQY664C5xBQE84XkaW3UFAO1RvPugXQUB4XcDmqKVAQFLgqHvAn0BAJg0S1tyUQEDmIoRVhrw+QAQWmxswYz1AS0dUOxfhPEDvjw6sni8+QNxCjLZg5j1AvOXo\\u002fG50PUBn17YKc5s8QOwYChL2lz1At5rCZNBdPEAE3mQ00CI8QMxPNETcGTtA\\u002fn77hDbAOkAcD6V+04k5QBS\\u002fmxw1wzpAwrGa0loDO0A=\"},\"y\":{\"dtype\":\"f8\",\"bdata\":\"TBCqir\\u002fJNUCkYIiW1js3QLG75MVdvzhAxXQot6JqOkAumTti1B48QC5oXrSmcjtAtHpsa4lfOkBF4IMn3qQ6QDg2QvxstDhAhnNFKnumN0BmYuyWPh82QD6ddvDhKzVAhU8C371kNEBRBoEb\\u002f00zQGVCWAGv1TNA0aYnZC3dM0BW2HwhO9UzQMws+EkwiTJAdfyjcrs0MkC6Cs7CKfswQLlDf8k0NzBA1itYxn2bMEAsZfFlpu8wQB91Upx4FTBA0O98UADGMEBgd9YcbEUwQMa1n2bEyDFA60btGZOFMUDEarOCINMxQPevSglcNTBAYgQx\\u002feBvMUBq85QHgJ0yQEUZcr4BiDJAUStJZ\\u002f33MEAv512rZIkyQItu4CiINjNApplt12iKM0DW\\u002fsfTJfYyQOF9X0UYGTJA4R9FhC9rMUAWTTWel9AwQKN+dHhbSjBAqD2VajynK0DcsWbxqEwpQHCbaSKx8ihAcxdEJZSGJ0DbiSd87z4pQF7mK3nUDypApHzeZih5J0BnDuRxM0wrQEHOtkuG+yxAiIPROKzGKUCoKMDyY94rQDOMDDq4cS5A6Lp6TkFnLUBSzO21TTEtQMM0MvZI8CxAFwHdSu5ZLUDq1c4TlrgsQAR\\u002fjNKh9ixAfMVPNWUKLEDeMdBEAQksQABmPVhP6ShAyZtLzbEVK0BAnIdKKTIrQGIXo7nk0SVAkfc0pLVUJEDdidTgdI0kQGI0++2\\u002fNCVAryTcZICxJUBrVOf+TosoQGqlUV6l4ihA1GV\\u002ffH5WLEC6x12ImOsqQN5ouWNlLypAEhMmo6xIKECAZhQOIW4qQKw0N+Zb8ipAMBTer4QTLEDs4gFkVI0vQKejcFOF9DBAFVqN+xEGMUC04QVg7SY0QAaK+nUQWzNAMeJcWQOFNEAAH+Xab7I1QNzUx9+aQzVAc4XP04lGNECqTftDjhw2QCMJS00EkjRAbZoov8n9MkDMffTDr4szQKcqtB5j\\u002fTJA3LluJhavM0BrzJ8aonU0QB0I9ApzejRAgSYNyQi2M0AiihIc5a8yQNDK4yppbDFAFxrhmMc7MkA=\"},\"type\":\"scatter\"}],                        {\"title\":{\"text\":\"Random Data\"},\"template\":{\"data\":{\"histogram2dcontour\":[{\"type\":\"histogram2dcontour\",\"colorbar\":{\"outlinewidth\":0,\"ticks\":\"\"},\"colorscale\":[[0.0,\"#0d0887\"],[0.1111111111111111,\"#46039f\"],[0.2222222222222222,\"#7201a8\"],[0.3333333333333333,\"#9c179e\"],[0.4444444444444444,\"#bd3786\"],[0.5555555555555556,\"#d8576b\"],[0.6666666666666666,\"#ed7953\"],[0.7777777777777778,\"#fb9f3a\"],[0.8888888888888888,\"#fdca26\"],[1.0,\"#f0f921\"]]}],\"choropleth\":[{\"type\":\"choropleth\",\"colorbar\":{\"outlinewidth\":0,\"ticks\":\"\"}}],\"histogram2d\":[{\"type\":\"histogram2d\",\"colorbar\":{\"outlinewidth\":0,\"ticks\":\"\"},\"colorscale\":[[0.0,\"#0d0887\"],[0.1111111111111111,\"#46039f\"],[0.2222222222222222,\"#7201a8\"],[0.3333333333333333,\"#9c179e\"],[0.4444444444444444,\"#bd3786\"],[0.5555555555555556,\"#d8576b\"],[0.6666666666666666,\"#ed7953\"],[0.7777777777777778,\"#fb9f3a\"],[0.8888888888888888,\"#fdca26\"],[1.0,\"#f0f921\"]]}],\"heatmap\":[{\"type\":\"heatmap\",\"colorbar\":{\"outlinewidth\":0,\"ticks\":\"\"},\"colorscale\":[[0.0,\"#0d0887\"],[0.1111111111111111,\"#46039f\"],[0.2222222222222222,\"#7201a8\"],[0.3333333333333333,\"#9c179e\"],[0.4444444444444444,\"#bd3786\"],[0.5555555555555556,\"#d8576b\"],[0.6666666666666666,\"#ed7953\"],[0.7777777777777778,\"#fb9f3a\"],[0.8888888888888888,\"#fdca26\"],[1.0,\"#f0f921\"]]}],\"contourcarpet\":[{\"type\":\"contourcarpet\",\"colorbar\":{\"outlinewidth\":0,\"ticks\":\"\"}}],\"contour\":[{\"type\":\"contour\",\"colorbar\":{\"outlinewidth\":0,\"ticks\":\"\"},\"colorscale\":[[0.0,\"#0d0887\"],[0.1111111111111111,\"#46039f\"],[0.2222222222222222,\"#7201a8\"],[0.3333333333333333,\"#9c179e\"],[0.4444444444444444,\"#bd3786\"],[0.5555555555555556,\"#d8576b\"],[0.6666666666666666,\"#ed7953\"],[0.7777777777777778,\"#fb9f3a\"],[0.8888888888888888,\"#fdca26\"],[1.0,\"#f0f921\"]]}],\"surface\":[{\"type\":\"surface\",\"colorbar\":{\"outlinewidth\":0,\"ticks\":\"\"},\"colorscale\":[[0.0,\"#0d0887\"],[0.1111111111111111,\"#46039f\"],[0.2222222222222222,\"#7201a8\"],[0.3333333333333333,\"#9c179e\"],[0.4444444444444444,\"#bd3786\"],[0.5555555555555556,\"#d8576b\"],[0.6666666666666666,\"#ed7953\"],[0.7777777777777778,\"#fb9f3a\"],[0.8888888888888888,\"#fdca26\"],[1.0,\"#f0f921\"]]}],\"mesh3d\":[{\"type\":\"mesh3d\",\"colorbar\":{\"outlinewidth\":0,\"ticks\":\"\"}}],\"scatter\":[{\"fillpattern\":{\"fillmode\":\"overlay\",\"size\":10,\"solidity\":0.2},\"type\":\"scatter\"}],\"parcoords\":[{\"type\":\"parcoords\",\"line\":{\"colorbar\":{\"outlinewidth\":0,\"ticks\":\"\"}}}],\"scatterpolargl\":[{\"type\":\"scatterpolargl\",\"marker\":{\"colorbar\":{\"outlinewidth\":0,\"ticks\":\"\"}}}],\"bar\":[{\"error_x\":{\"color\":\"#2a3f5f\"},\"error_y\":{\"color\":\"#2a3f5f\"},\"marker\":{\"line\":{\"color\":\"#E5ECF6\",\"width\":0.5},\"pattern\":{\"fillmode\":\"overlay\",\"size\":10,\"solidity\":0.2}},\"type\":\"bar\"}],\"scattergeo\":[{\"type\":\"scattergeo\",\"marker\":{\"colorbar\":{\"outlinewidth\":0,\"ticks\":\"\"}}}],\"scatterpolar\":[{\"type\":\"scatterpolar\",\"marker\":{\"colorbar\":{\"outlinewidth\":0,\"ticks\":\"\"}}}],\"histogram\":[{\"marker\":{\"pattern\":{\"fillmode\":\"overlay\",\"size\":10,\"solidity\":0.2}},\"type\":\"histogram\"}],\"scattergl\":[{\"type\":\"scattergl\",\"marker\":{\"colorbar\":{\"outlinewidth\":0,\"ticks\":\"\"}}}],\"scatter3d\":[{\"type\":\"scatter3d\",\"line\":{\"colorbar\":{\"outlinewidth\":0,\"ticks\":\"\"}},\"marker\":{\"colorbar\":{\"outlinewidth\":0,\"ticks\":\"\"}}}],\"scattermap\":[{\"type\":\"scattermap\",\"marker\":{\"colorbar\":{\"outlinewidth\":0,\"ticks\":\"\"}}}],\"scattermapbox\":[{\"type\":\"scattermapbox\",\"marker\":{\"colorbar\":{\"outlinewidth\":0,\"ticks\":\"\"}}}],\"scatterternary\":[{\"type\":\"scatterternary\",\"marker\":{\"colorbar\":{\"outlinewidth\":0,\"ticks\":\"\"}}}],\"scattercarpet\":[{\"type\":\"scattercarpet\",\"marker\":{\"colorbar\":{\"outlinewidth\":0,\"ticks\":\"\"}}}],\"carpet\":[{\"aaxis\":{\"endlinecolor\":\"#2a3f5f\",\"gridcolor\":\"white\",\"linecolor\":\"white\",\"minorgridcolor\":\"white\",\"startlinecolor\":\"#2a3f5f\"},\"baxis\":{\"endlinecolor\":\"#2a3f5f\",\"gridcolor\":\"white\",\"linecolor\":\"white\",\"minorgridcolor\":\"white\",\"startlinecolor\":\"#2a3f5f\"},\"type\":\"carpet\"}],\"table\":[{\"cells\":{\"fill\":{\"color\":\"#EBF0F8\"},\"line\":{\"color\":\"white\"}},\"header\":{\"fill\":{\"color\":\"#C8D4E3\"},\"line\":{\"color\":\"white\"}},\"type\":\"table\"}],\"barpolar\":[{\"marker\":{\"line\":{\"color\":\"#E5ECF6\",\"width\":0.5},\"pattern\":{\"fillmode\":\"overlay\",\"size\":10,\"solidity\":0.2}},\"type\":\"barpolar\"}],\"pie\":[{\"automargin\":true,\"type\":\"pie\"}]},\"layout\":{\"autotypenumbers\":\"strict\",\"colorway\":[\"#636efa\",\"#EF553B\",\"#00cc96\",\"#ab63fa\",\"#FFA15A\",\"#19d3f3\",\"#FF6692\",\"#B6E880\",\"#FF97FF\",\"#FECB52\"],\"font\":{\"color\":\"#2a3f5f\"},\"hovermode\":\"closest\",\"hoverlabel\":{\"align\":\"left\"},\"paper_bgcolor\":\"white\",\"plot_bgcolor\":\"#E5ECF6\",\"polar\":{\"bgcolor\":\"#E5ECF6\",\"angularaxis\":{\"gridcolor\":\"white\",\"linecolor\":\"white\",\"ticks\":\"\"},\"radialaxis\":{\"gridcolor\":\"white\",\"linecolor\":\"white\",\"ticks\":\"\"}},\"ternary\":{\"bgcolor\":\"#E5ECF6\",\"aaxis\":{\"gridcolor\":\"white\",\"linecolor\":\"white\",\"ticks\":\"\"},\"baxis\":{\"gridcolor\":\"white\",\"linecolor\":\"white\",\"ticks\":\"\"},\"caxis\":{\"gridcolor\":\"white\",\"linecolor\":\"white\",\"ticks\":\"\"}},\"coloraxis\":{\"colorbar\":{\"outlinewidth\":0,\"ticks\":\"\"}},\"colorscale\":{\"sequential\":[[0.0,\"#0d0887\"],[0.1111111111111111,\"#46039f\"],[0.2222222222222222,\"#7201a8\"],[0.3333333333333333,\"#9c179e\"],[0.4444444444444444,\"#bd3786\"],[0.5555555555555556,\"#d8576b\"],[0.6666666666666666,\"#ed7953\"],[0.7777777777777778,\"#fb9f3a\"],[0.8888888888888888,\"#fdca26\"],[1.0,\"#f0f921\"]],\"sequentialminus\":[[0.0,\"#0d0887\"],[0.1111111111111111,\"#46039f\"],[0.2222222222222222,\"#7201a8\"],[0.3333333333333333,\"#9c179e\"],[0.4444444444444444,\"#bd3786\"],[0.5555555555555556,\"#d8576b\"],[0.6666666666666666,\"#ed7953\"],[0.7777777777777778,\"#fb9f3a\"],[0.8888888888888888,\"#fdca26\"],[1.0,\"#f0f921\"]],\"diverging\":[[0,\"#8e0152\"],[0.1,\"#c51b7d\"],[0.2,\"#de77ae\"],[0.3,\"#f1b6da\"],[0.4,\"#fde0ef\"],[0.5,\"#f7f7f7\"],[0.6,\"#e6f5d0\"],[0.7,\"#b8e186\"],[0.8,\"#7fbc41\"],[0.9,\"#4d9221\"],[1,\"#276419\"]]},\"xaxis\":{\"gridcolor\":\"white\",\"linecolor\":\"white\",\"ticks\":\"\",\"title\":{\"standoff\":15},\"zerolinecolor\":\"white\",\"automargin\":true,\"zerolinewidth\":2},\"yaxis\":{\"gridcolor\":\"white\",\"linecolor\":\"white\",\"ticks\":\"\",\"title\":{\"standoff\":15},\"zerolinecolor\":\"white\",\"automargin\":true,\"zerolinewidth\":2},\"scene\":{\"xaxis\":{\"backgroundcolor\":\"#E5ECF6\",\"gridcolor\":\"white\",\"linecolor\":\"white\",\"showbackground\":true,\"ticks\":\"\",\"zerolinecolor\":\"white\",\"gridwidth\":2},\"yaxis\":{\"backgroundcolor\":\"#E5ECF6\",\"gridcolor\":\"white\",\"linecolor\":\"white\",\"showbackground\":true,\"ticks\":\"\",\"zerolinecolor\":\"white\",\"gridwidth\":2},\"zaxis\":{\"backgroundcolor\":\"#E5ECF6\",\"gridcolor\":\"white\",\"linecolor\":\"white\",\"showbackground\":true,\"ticks\":\"\",\"zerolinecolor\":\"white\",\"gridwidth\":2}},\"shapedefaults\":{\"line\":{\"color\":\"#2a3f5f\"}},\"annotationdefaults\":{\"arrowcolor\":\"#2a3f5f\",\"arrowhead\":0,\"arrowwidth\":1},\"geo\":{\"bgcolor\":\"white\",\"landcolor\":\"#E5ECF6\",\"subunitcolor\":\"white\",\"showland\":true,\"showlakes\":true,\"lakecolor\":\"white\"},\"title\":{\"x\":0.05},\"mapbox\":{\"style\":\"light\"}}}},                        {\"responsive\": true}                    ).then(function(){\n",
              "                            \n",
              "var gd = document.getElementById('cd62edf5-4b3f-419f-8e2f-a7b21879961a');\n",
              "var x = new MutationObserver(function (mutations, observer) {{\n",
              "        var display = window.getComputedStyle(gd).display;\n",
              "        if (!display || display === 'none') {{\n",
              "            console.log([gd, 'removed!']);\n",
              "            Plotly.purge(gd);\n",
              "            observer.disconnect();\n",
              "        }}\n",
              "}});\n",
              "\n",
              "// Listen for the removal of the full notebook cells\n",
              "var notebookContainer = gd.closest('#notebook-container');\n",
              "if (notebookContainer) {{\n",
              "    x.observe(notebookContainer, {childList: true});\n",
              "}}\n",
              "\n",
              "// Listen for the clearing of the current output cell\n",
              "var outputEl = gd.closest('.output');\n",
              "if (outputEl) {{\n",
              "    x.observe(outputEl, {childList: true});\n",
              "}}\n",
              "\n",
              "                        })                };            </script>        </div>"
            ]
          },
          "metadata": {}
        }
      ]
    },
    {
      "cell_type": "markdown",
      "source": [
        "DataFrame Shape"
      ],
      "metadata": {
        "id": "V4szg1z4iBpb"
      },
      "id": "V4szg1z4iBpb"
    },
    {
      "cell_type": "code",
      "execution_count": 87,
      "id": "3fb7fc67-5f4f-4392-af84-d58f825273ee",
      "metadata": {
        "colab": {
          "base_uri": "https://localhost:8080/"
        },
        "id": "3fb7fc67-5f4f-4392-af84-d58f825273ee",
        "outputId": "a6dbe790-1ce4-458a-c6e8-97e20113d512"
      },
      "outputs": [
        {
          "output_type": "execute_result",
          "data": {
            "text/plain": [
              "(100, 3)"
            ]
          },
          "metadata": {},
          "execution_count": 87
        }
      ],
      "source": [
        "df.shape"
      ]
    },
    {
      "cell_type": "markdown",
      "source": [
        "Matplotlib Plot of DataFrame"
      ],
      "metadata": {
        "id": "iZHQ36AsiG9u"
      },
      "id": "iZHQ36AsiG9u"
    },
    {
      "cell_type": "code",
      "source": [
        "plt.plot(df)\n",
        "plt.show()"
      ],
      "metadata": {
        "colab": {
          "base_uri": "https://localhost:8080/",
          "height": 435
        },
        "id": "8VXXyVK5bKBi",
        "outputId": "08badfc6-c26f-4e43-8933-959897901048"
      },
      "id": "8VXXyVK5bKBi",
      "execution_count": 88,
      "outputs": [
        {
          "output_type": "display_data",
          "data": {
            "text/plain": [
              "<Figure size 640x480 with 1 Axes>"
            ],
            "image/png": "[encoded data removed]"
          },
          "metadata": {}
        }
      ]
    },
    {
      "cell_type": "markdown",
      "source": [
        "##Scatter Plot (Size Adjusted)"
      ],
      "metadata": {
        "id": "Wo9ekCENiP0Y"
      },
      "id": "Wo9ekCENiP0Y"
    },
    {
      "cell_type": "code",
      "source": [
        "fig = go.Figure(data=[go.Scatter(x=df['A'], y=df['B'], mode='markers', marker=dict(size=25))],\n",
        "                 layout=go.Layout(title='Random Data'))\n",
        "fig.show()"
      ],
      "metadata": {
        "colab": {
          "base_uri": "https://localhost:8080/",
          "height": 542
        },
        "id": "H-VCdBHdVvdD",
        "outputId": "0eec14d0-6fcf-434f-c9a0-55bdccd7d4a7"
      },
      "id": "H-VCdBHdVvdD",
      "execution_count": 89,
      "outputs": [
        {
          "output_type": "display_data",
          "data": {
            "application/vnd.plotly.v1+json": {
              "data": [
                {
                  "marker": {
                    "size": 25
                  },
                  "mode": "markers",
                  "x": {
                    "dtype": "f8",
                    "bdata": "8t4CDEstHEAw2o3MscIdQGOrQS9GYiRAgyxitwF9JECJpFBwjf0nQAGaMfKggCpAjvFNAtRsLUCAt/SGc0EuQI7pXl6HpC9Azn+0ak3oMEDiQ7rgt2AwQL+XZDjOaTBAXDUxEWU9MUD+HkTfQMowQJ4TjN2TqjFAnmaZQ3dvMUA3dYtwVN4xQBa2CqcQ+zFALqReB2sDMkAQS+fANh8yQI4a3dLI8TNAvvx7BUM0NkByr6wmkkc1QDDl6kGNjzZAumfgIs10N0BFrUFGqEs2QFtIJ0FDGTZA3EYDoQo6N0BizwBRq6Q4QACHah/OFjhAmNzyQU5DN0BgWxREwBQ3QG017ThkNTVAvvVNGV9HNUD+csE9qEk2QI2In4InfTZAKk4Lc8GDNkCS8zdG6mc2QAflYPxj0TRAHGzUptpANEDVvp9fXqk0QBsxBMU6nDRAnLPqM0LmNEDa37rwtkY1QDw4ewoU4jVAHI9i8DvINkDknQx9/y04QGL7aekMpzdA7nk54YKzOUAwi+S/Wcg7QKOkJlzVmD1AHnm5qEo5P0Ae18Ef4BhAQFmyrKGifD9AnBdrF0hdP0CLdJ+kacY9QNsm7SP4cD5AUsQkxpz3PkCj5u+ebE09QHeXLY5q2DxAQBh55eNmO0D5JwI6lJo8QCCtoCzDdjtAAgp1cbBgPEB4575d7Sg7QP74KOWJMDtARCVv5HMQPEBRUd1GL288QPRcS8Ck1DxAHVCHDF/1PEAD8Jp9VPI8QE8NbO52bDxAzNvhbG6vPkApg73wGNA/QHSmRr+LZUBA38/n4t31P0Bbj5CAdA1BQFfeWo9rPEFARkU1om19QUDQY664C5xBQE84XkaW3UFAO1RvPugXQUB4XcDmqKVAQFLgqHvAn0BAJg0S1tyUQEDmIoRVhrw+QAQWmxswYz1AS0dUOxfhPEDvjw6sni8+QNxCjLZg5j1AvOXo/G50PUBn17YKc5s8QOwYChL2lz1At5rCZNBdPEAE3mQ00CI8QMxPNETcGTtA/n77hDbAOkAcD6V+04k5QBS/mxw1wzpAwrGa0loDO0A="
                  },
                  "y": {
                    "dtype": "f8",
                    "bdata": "TBCqir/JNUCkYIiW1js3QLG75MVdvzhAxXQot6JqOkAumTti1B48QC5oXrSmcjtAtHpsa4lfOkBF4IMn3qQ6QDg2QvxstDhAhnNFKnumN0BmYuyWPh82QD6ddvDhKzVAhU8C371kNEBRBoEb/00zQGVCWAGv1TNA0aYnZC3dM0BW2HwhO9UzQMws+EkwiTJAdfyjcrs0MkC6Cs7CKfswQLlDf8k0NzBA1itYxn2bMEAsZfFlpu8wQB91Upx4FTBA0O98UADGMEBgd9YcbEUwQMa1n2bEyDFA60btGZOFMUDEarOCINMxQPevSglcNTBAYgQx/eBvMUBq85QHgJ0yQEUZcr4BiDJAUStJZ/33MEAv512rZIkyQItu4CiINjNApplt12iKM0DW/sfTJfYyQOF9X0UYGTJA4R9FhC9rMUAWTTWel9AwQKN+dHhbSjBAqD2VajynK0DcsWbxqEwpQHCbaSKx8ihAcxdEJZSGJ0DbiSd87z4pQF7mK3nUDypApHzeZih5J0BnDuRxM0wrQEHOtkuG+yxAiIPROKzGKUCoKMDyY94rQDOMDDq4cS5A6Lp6TkFnLUBSzO21TTEtQMM0MvZI8CxAFwHdSu5ZLUDq1c4TlrgsQAR/jNKh9ixAfMVPNWUKLEDeMdBEAQksQABmPVhP6ShAyZtLzbEVK0BAnIdKKTIrQGIXo7nk0SVAkfc0pLVUJEDdidTgdI0kQGI0++2/NCVAryTcZICxJUBrVOf+TosoQGqlUV6l4ihA1GV/fH5WLEC6x12ImOsqQN5ouWNlLypAEhMmo6xIKECAZhQOIW4qQKw0N+Zb8ipAMBTer4QTLEDs4gFkVI0vQKejcFOF9DBAFVqN+xEGMUC04QVg7SY0QAaK+nUQWzNAMeJcWQOFNEAAH+Xab7I1QNzUx9+aQzVAc4XP04lGNECqTftDjhw2QCMJS00EkjRAbZoov8n9MkDMffTDr4szQKcqtB5j/TJA3LluJhavM0BrzJ8aonU0QB0I9ApzejRAgSYNyQi2M0AiihIc5a8yQNDK4yppbDFAFxrhmMc7MkA="
                  },
                  "type": "scatter"
                }
              ],
              "layout": {
                "title": {
                  "text": "Random Data"
                },
                "template": {
                  "data": {
                    "histogram2dcontour": [
                      {
                        "type": "histogram2dcontour",
                        "colorbar": {
                          "outlinewidth": 0,
                          "ticks": ""
                        },
                        "colorscale": [
                          [
                            0,
                            "#0d0887"
                          ],
                          [
                            0.1111111111111111,
                            "#46039f"
                          ],
                          [
                            0.2222222222222222,
                            "#7201a8"
                          ],
                          [
                            0.3333333333333333,
                            "#9c179e"
                          ],
                          [
                            0.4444444444444444,
                            "#bd3786"
                          ],
                          [
                            0.5555555555555556,
                            "#d8576b"
                          ],
                          [
                            0.6666666666666666,
                            "#ed7953"
                          ],
                          [
                            0.7777777777777778,
                            "#fb9f3a"
                          ],
                          [
                            0.8888888888888888,
                            "#fdca26"
                          ],
                          [
                            1,
                            "#f0f921"
                          ]
                        ]
                      }
                    ],
                    "choropleth": [
                      {
                        "type": "choropleth",
                        "colorbar": {
                          "outlinewidth": 0,
                          "ticks": ""
                        }
                      }
                    ],
                    "histogram2d": [
                      {
                        "type": "histogram2d",
                        "colorbar": {
                          "outlinewidth": 0,
                          "ticks": ""
                        },
                        "colorscale": [
                          [
                            0,
                            "#0d0887"
                          ],
                          [
                            0.1111111111111111,
                            "#46039f"
                          ],
                          [
                            0.2222222222222222,
                            "#7201a8"
                          ],
                          [
                            0.3333333333333333,
                            "#9c179e"
                          ],
                          [
                            0.4444444444444444,
                            "#bd3786"
                          ],
                          [
                            0.5555555555555556,
                            "#d8576b"
                          ],
                          [
                            0.6666666666666666,
                            "#ed7953"
                          ],
                          [
                            0.7777777777777778,
                            "#fb9f3a"
                          ],
                          [
                            0.8888888888888888,
                            "#fdca26"
                          ],
                          [
                            1,
                            "#f0f921"
                          ]
                        ]
                      }
                    ],
                    "heatmap": [
                      {
                        "type": "heatmap",
                        "colorbar": {
                          "outlinewidth": 0,
                          "ticks": ""
                        },
                        "colorscale": [
                          [
                            0,
                            "#0d0887"
                          ],
                          [
                            0.1111111111111111,
                            "#46039f"
                          ],
                          [
                            0.2222222222222222,
                            "#7201a8"
                          ],
                          [
                            0.3333333333333333,
                            "#9c179e"
                          ],
                          [
                            0.4444444444444444,
                            "#bd3786"
                          ],
                          [
                            0.5555555555555556,
                            "#d8576b"
                          ],
                          [
                            0.6666666666666666,
                            "#ed7953"
                          ],
                          [
                            0.7777777777777778,
                            "#fb9f3a"
                          ],
                          [
                            0.8888888888888888,
                            "#fdca26"
                          ],
                          [
                            1,
                            "#f0f921"
                          ]
                        ]
                      }
                    ],
                    "contourcarpet": [
                      {
                        "type": "contourcarpet",
                        "colorbar": {
                          "outlinewidth": 0,
                          "ticks": ""
                        }
                      }
                    ],
                    "contour": [
                      {
                        "type": "contour",
                        "colorbar": {
                          "outlinewidth": 0,
                          "ticks": ""
                        },
                        "colorscale": [
                          [
                            0,
                            "#0d0887"
                          ],
                          [
                            0.1111111111111111,
                            "#46039f"
                          ],
                          [
                            0.2222222222222222,
                            "#7201a8"
                          ],
                          [
                            0.3333333333333333,
                            "#9c179e"
                          ],
                          [
                            0.4444444444444444,
                            "#bd3786"
                          ],
                          [
                            0.5555555555555556,
                            "#d8576b"
                          ],
                          [
                            0.6666666666666666,
                            "#ed7953"
                          ],
                          [
                            0.7777777777777778,
                            "#fb9f3a"
                          ],
                          [
                            0.8888888888888888,
                            "#fdca26"
                          ],
                          [
                            1,
                            "#f0f921"
                          ]
                        ]
                      }
                    ],
                    "surface": [
                      {
                        "type": "surface",
                        "colorbar": {
                          "outlinewidth": 0,
                          "ticks": ""
                        },
                        "colorscale": [
                          [
                            0,
                            "#0d0887"
                          ],
                          [
                            0.1111111111111111,
                            "#46039f"
                          ],
                          [
                            0.2222222222222222,
                            "#7201a8"
                          ],
                          [
                            0.3333333333333333,
                            "#9c179e"
                          ],
                          [
                            0.4444444444444444,
                            "#bd3786"
                          ],
                          [
                            0.5555555555555556,
                            "#d8576b"
                          ],
                          [
                            0.6666666666666666,
                            "#ed7953"
                          ],
                          [
                            0.7777777777777778,
                            "#fb9f3a"
                          ],
                          [
                            0.8888888888888888,
                            "#fdca26"
                          ],
                          [
                            1,
                            "#f0f921"
                          ]
                        ]
                      }
                    ],
                    "mesh3d": [
                      {
                        "type": "mesh3d",
                        "colorbar": {
                          "outlinewidth": 0,
                          "ticks": ""
                        }
                      }
                    ],
                    "scatter": [
                      {
                        "fillpattern": {
                          "fillmode": "overlay",
                          "size": 10,
                          "solidity": 0.2
                        },
                        "type": "scatter"
                      }
                    ],
                    "parcoords": [
                      {
                        "type": "parcoords",
                        "line": {
                          "colorbar": {
                            "outlinewidth": 0,
                            "ticks": ""
                          }
                        }
                      }
                    ],
                    "scatterpolargl": [
                      {
                        "type": "scatterpolargl",
                        "marker": {
                          "colorbar": {
                            "outlinewidth": 0,
                            "ticks": ""
                          }
                        }
                      }
                    ],
                    "bar": [
                      {
                        "error_x": {
                          "color": "#2a3f5f"
                        },
                        "error_y": {
                          "color": "#2a3f5f"
                        },
                        "marker": {
                          "line": {
                            "color": "#E5ECF6",
                            "width": 0.5
                          },
                          "pattern": {
                            "fillmode": "overlay",
                            "size": 10,
                            "solidity": 0.2
                          }
                        },
                        "type": "bar"
                      }
                    ],
                    "scattergeo": [
                      {
                        "type": "scattergeo",
                        "marker": {
                          "colorbar": {
                            "outlinewidth": 0,
                            "ticks": ""
                          }
                        }
                      }
                    ],
                    "scatterpolar": [
                      {
                        "type": "scatterpolar",
                        "marker": {
                          "colorbar": {
                            "outlinewidth": 0,
                            "ticks": ""
                          }
                        }
                      }
                    ],
                    "histogram": [
                      {
                        "marker": {
                          "pattern": {
                            "fillmode": "overlay",
                            "size": 10,
                            "solidity": 0.2
                          }
                        },
                        "type": "histogram"
                      }
                    ],
                    "scattergl": [
                      {
                        "type": "scattergl",
                        "marker": {
                          "colorbar": {
                            "outlinewidth": 0,
                            "ticks": ""
                          }
                        }
                      }
                    ],
                    "scatter3d": [
                      {
                        "type": "scatter3d",
                        "line": {
                          "colorbar": {
                            "outlinewidth": 0,
                            "ticks": ""
                          }
                        },
                        "marker": {
                          "colorbar": {
                            "outlinewidth": 0,
                            "ticks": ""
                          }
                        }
                      }
                    ],
                    "scattermap": [
                      {
                        "type": "scattermap",
                        "marker": {
                          "colorbar": {
                            "outlinewidth": 0,
                            "ticks": ""
                          }
                        }
                      }
                    ],
                    "scattermapbox": [
                      {
                        "type": "scattermapbox",
                        "marker": {
                          "colorbar": {
                            "outlinewidth": 0,
                            "ticks": ""
                          }
                        }
                      }
                    ],
                    "scatterternary": [
                      {
                        "type": "scatterternary",
                        "marker": {
                          "colorbar": {
                            "outlinewidth": 0,
                            "ticks": ""
                          }
                        }
                      }
                    ],
                    "scattercarpet": [
                      {
                        "type": "scattercarpet",
                        "marker": {
                          "colorbar": {
                            "outlinewidth": 0,
                            "ticks": ""
                          }
                        }
                      }
                    ],
                    "carpet": [
                      {
                        "aaxis": {
                          "endlinecolor": "#2a3f5f",
                          "gridcolor": "white",
                          "linecolor": "white",
                          "minorgridcolor": "white",
                          "startlinecolor": "#2a3f5f"
                        },
                        "baxis": {
                          "endlinecolor": "#2a3f5f",
                          "gridcolor": "white",
                          "linecolor": "white",
                          "minorgridcolor": "white",
                          "startlinecolor": "#2a3f5f"
                        },
                        "type": "carpet"
                      }
                    ],
                    "table": [
                      {
                        "cells": {
                          "fill": {
                            "color": "#EBF0F8"
                          },
                          "line": {
                            "color": "white"
                          }
                        },
                        "header": {
                          "fill": {
                            "color": "#C8D4E3"
                          },
                          "line": {
                            "color": "white"
                          }
                        },
                        "type": "table"
                      }
                    ],
                    "barpolar": [
                      {
                        "marker": {
                          "line": {
                            "color": "#E5ECF6",
                            "width": 0.5
                          },
                          "pattern": {
                            "fillmode": "overlay",
                            "size": 10,
                            "solidity": 0.2
                          }
                        },
                        "type": "barpolar"
                      }
                    ],
                    "pie": [
                      {
                        "automargin": true,
                        "type": "pie"
                      }
                    ]
                  },
                  "layout": {
                    "autotypenumbers": "strict",
                    "colorway": [
                      "#636efa",
                      "#EF553B",
                      "#00cc96",
                      "#ab63fa",
                      "#FFA15A",
                      "#19d3f3",
                      "#FF6692",
                      "#B6E880",
                      "#FF97FF",
                      "#FECB52"
                    ],
                    "font": {
                      "color": "#2a3f5f"
                    },
                    "hovermode": "closest",
                    "hoverlabel": {
                      "align": "left"
                    },
                    "paper_bgcolor": "white",
                    "plot_bgcolor": "#E5ECF6",
                    "polar": {
                      "bgcolor": "#E5ECF6",
                      "angularaxis": {
                        "gridcolor": "white",
                        "linecolor": "white",
                        "ticks": ""
                      },
                      "radialaxis": {
                        "gridcolor": "white",
                        "linecolor": "white",
                        "ticks": ""
                      }
                    },
                    "ternary": {
                      "bgcolor": "#E5ECF6",
                      "aaxis": {
                        "gridcolor": "white",
                        "linecolor": "white",
                        "ticks": ""
                      },
                      "baxis": {
                        "gridcolor": "white",
                        "linecolor": "white",
                        "ticks": ""
                      },
                      "caxis": {
                        "gridcolor": "white",
                        "linecolor": "white",
                        "ticks": ""
                      }
                    },
                    "coloraxis": {
                      "colorbar": {
                        "outlinewidth": 0,
                        "ticks": ""
                      }
                    },
                    "colorscale": {
                      "sequential": [
                        [
                          0,
                          "#0d0887"
                        ],
                        [
                          0.1111111111111111,
                          "#46039f"
                        ],
                        [
                          0.2222222222222222,
                          "#7201a8"
                        ],
                        [
                          0.3333333333333333,
                          "#9c179e"
                        ],
                        [
                          0.4444444444444444,
                          "#bd3786"
                        ],
                        [
                          0.5555555555555556,
                          "#d8576b"
                        ],
                        [
                          0.6666666666666666,
                          "#ed7953"
                        ],
                        [
                          0.7777777777777778,
                          "#fb9f3a"
                        ],
                        [
                          0.8888888888888888,
                          "#fdca26"
                        ],
                        [
                          1,
                          "#f0f921"
                        ]
                      ],
                      "sequentialminus": [
                        [
                          0,
                          "#0d0887"
                        ],
                        [
                          0.1111111111111111,
                          "#46039f"
                        ],
                        [
                          0.2222222222222222,
                          "#7201a8"
                        ],
                        [
                          0.3333333333333333,
                          "#9c179e"
                        ],
                        [
                          0.4444444444444444,
                          "#bd3786"
                        ],
                        [
                          0.5555555555555556,
                          "#d8576b"
                        ],
                        [
                          0.6666666666666666,
                          "#ed7953"
                        ],
                        [
                          0.7777777777777778,
                          "#fb9f3a"
                        ],
                        [
                          0.8888888888888888,
                          "#fdca26"
                        ],
                        [
                          1,
                          "#f0f921"
                        ]
                      ],
                      "diverging": [
                        [
                          0,
                          "#8e0152"
                        ],
                        [
                          0.1,
                          "#c51b7d"
                        ],
                        [
                          0.2,
                          "#de77ae"
                        ],
                        [
                          0.3,
                          "#f1b6da"
                        ],
                        [
                          0.4,
                          "#fde0ef"
                        ],
                        [
                          0.5,
                          "#f7f7f7"
                        ],
                        [
                          0.6,
                          "#e6f5d0"
                        ],
                        [
                          0.7,
                          "#b8e186"
                        ],
                        [
                          0.8,
                          "#7fbc41"
                        ],
                        [
                          0.9,
                          "#4d9221"
                        ],
                        [
                          1,
                          "#276419"
                        ]
                      ]
                    },
                    "xaxis": {
                      "gridcolor": "white",
                      "linecolor": "white",
                      "ticks": "",
                      "title": {
                        "standoff": 15
                      },
                      "zerolinecolor": "white",
                      "automargin": true,
                      "zerolinewidth": 2
                    },
                    "yaxis": {
                      "gridcolor": "white",
                      "linecolor": "white",
                      "ticks": "",
                      "title": {
                        "standoff": 15
                      },
                      "zerolinecolor": "white",
                      "automargin": true,
                      "zerolinewidth": 2
                    },
                    "scene": {
                      "xaxis": {
                        "backgroundcolor": "#E5ECF6",
                        "gridcolor": "white",
                        "linecolor": "white",
                        "showbackground": true,
                        "ticks": "",
                        "zerolinecolor": "white",
                        "gridwidth": 2
                      },
                      "yaxis": {
                        "backgroundcolor": "#E5ECF6",
                        "gridcolor": "white",
                        "linecolor": "white",
                        "showbackground": true,
                        "ticks": "",
                        "zerolinecolor": "white",
                        "gridwidth": 2
                      },
                      "zaxis": {
                        "backgroundcolor": "#E5ECF6",
                        "gridcolor": "white",
                        "linecolor": "white",
                        "showbackground": true,
                        "ticks": "",
                        "zerolinecolor": "white",
                        "gridwidth": 2
                      }
                    },
                    "shapedefaults": {
                      "line": {
                        "color": "#2a3f5f"
                      }
                    },
                    "annotationdefaults": {
                      "arrowcolor": "#2a3f5f",
                      "arrowhead": 0,
                      "arrowwidth": 1
                    },
                    "geo": {
                      "bgcolor": "white",
                      "landcolor": "#E5ECF6",
                      "subunitcolor": "white",
                      "showland": true,
                      "showlakes": true,
                      "lakecolor": "white"
                    },
                    "title": {
                      "x": 0.05
                    },
                    "mapbox": {
                      "style": "light"
                    }
                  }
                }
              },
              "config": {
                "plotlyServerURL": "https://plot.ly"
              }
            },
            "text/html": [
              "<div>            <script src=\"https://cdnjs.cloudflare.com/ajax/libs/mathjax/2.7.5/MathJax.js?config=TeX-AMS-MML_SVG\"></script><script type=\"text/javascript\">if (window.MathJax && window.MathJax.Hub && window.MathJax.Hub.Config) {window.MathJax.Hub.Config({SVG: {font: \"STIX-Web\"}});}</script>                <script type=\"text/javascript\">window.PlotlyConfig = {MathJaxConfig: 'local'};</script>\n",
              "        <script charset=\"utf-8\" src=\"https://cdn.plot.ly/plotly-3.0.0.min.js\"></script>                <div id=\"dd6c7530-a8f2-4a05-925c-f6b38b2cc34b\" class=\"plotly-graph-div\" style=\"height:525px; width:100%;\"></div>            <script type=\"text/javascript\">                window.PLOTLYENV=window.PLOTLYENV || {};                                if (document.getElementById(\"dd6c7530-a8f2-4a05-925c-f6b38b2cc34b\")) {                    Plotly.newPlot(                        \"dd6c7530-a8f2-4a05-925c-f6b38b2cc34b\",                        [{\"marker\":{\"size\":25},\"mode\":\"markers\",\"x\":{\"dtype\":\"f8\",\"bdata\":\"8t4CDEstHEAw2o3MscIdQGOrQS9GYiRAgyxitwF9JECJpFBwjf0nQAGaMfKggCpAjvFNAtRsLUCAt\\u002fSGc0EuQI7pXl6HpC9Azn+0ak3oMEDiQ7rgt2AwQL+XZDjOaTBAXDUxEWU9MUD+HkTfQMowQJ4TjN2TqjFAnmaZQ3dvMUA3dYtwVN4xQBa2CqcQ+zFALqReB2sDMkAQS+fANh8yQI4a3dLI8TNAvvx7BUM0NkByr6wmkkc1QDDl6kGNjzZAumfgIs10N0BFrUFGqEs2QFtIJ0FDGTZA3EYDoQo6N0BizwBRq6Q4QACHah\\u002fOFjhAmNzyQU5DN0BgWxREwBQ3QG017ThkNTVAvvVNGV9HNUD+csE9qEk2QI2In4InfTZAKk4Lc8GDNkCS8zdG6mc2QAflYPxj0TRAHGzUptpANEDVvp9fXqk0QBsxBMU6nDRAnLPqM0LmNEDa37rwtkY1QDw4ewoU4jVAHI9i8DvINkDknQx9\\u002fy04QGL7aekMpzdA7nk54YKzOUAwi+S\\u002fWcg7QKOkJlzVmD1AHnm5qEo5P0Ae18Ef4BhAQFmyrKGifD9AnBdrF0hdP0CLdJ+kacY9QNsm7SP4cD5AUsQkxpz3PkCj5u+ebE09QHeXLY5q2DxAQBh55eNmO0D5JwI6lJo8QCCtoCzDdjtAAgp1cbBgPEB4575d7Sg7QP74KOWJMDtARCVv5HMQPEBRUd1GL288QPRcS8Ck1DxAHVCHDF\\u002f1PEAD8Jp9VPI8QE8NbO52bDxAzNvhbG6vPkApg73wGNA\\u002fQHSmRr+LZUBA38\\u002fn4t31P0Bbj5CAdA1BQFfeWo9rPEFARkU1om19QUDQY664C5xBQE84XkaW3UFAO1RvPugXQUB4XcDmqKVAQFLgqHvAn0BAJg0S1tyUQEDmIoRVhrw+QAQWmxswYz1AS0dUOxfhPEDvjw6sni8+QNxCjLZg5j1AvOXo\\u002fG50PUBn17YKc5s8QOwYChL2lz1At5rCZNBdPEAE3mQ00CI8QMxPNETcGTtA\\u002fn77hDbAOkAcD6V+04k5QBS\\u002fmxw1wzpAwrGa0loDO0A=\"},\"y\":{\"dtype\":\"f8\",\"bdata\":\"TBCqir\\u002fJNUCkYIiW1js3QLG75MVdvzhAxXQot6JqOkAumTti1B48QC5oXrSmcjtAtHpsa4lfOkBF4IMn3qQ6QDg2QvxstDhAhnNFKnumN0BmYuyWPh82QD6ddvDhKzVAhU8C371kNEBRBoEb\\u002f00zQGVCWAGv1TNA0aYnZC3dM0BW2HwhO9UzQMws+EkwiTJAdfyjcrs0MkC6Cs7CKfswQLlDf8k0NzBA1itYxn2bMEAsZfFlpu8wQB91Upx4FTBA0O98UADGMEBgd9YcbEUwQMa1n2bEyDFA60btGZOFMUDEarOCINMxQPevSglcNTBAYgQx\\u002feBvMUBq85QHgJ0yQEUZcr4BiDJAUStJZ\\u002f33MEAv512rZIkyQItu4CiINjNApplt12iKM0DW\\u002fsfTJfYyQOF9X0UYGTJA4R9FhC9rMUAWTTWel9AwQKN+dHhbSjBAqD2VajynK0DcsWbxqEwpQHCbaSKx8ihAcxdEJZSGJ0DbiSd87z4pQF7mK3nUDypApHzeZih5J0BnDuRxM0wrQEHOtkuG+yxAiIPROKzGKUCoKMDyY94rQDOMDDq4cS5A6Lp6TkFnLUBSzO21TTEtQMM0MvZI8CxAFwHdSu5ZLUDq1c4TlrgsQAR\\u002fjNKh9ixAfMVPNWUKLEDeMdBEAQksQABmPVhP6ShAyZtLzbEVK0BAnIdKKTIrQGIXo7nk0SVAkfc0pLVUJEDdidTgdI0kQGI0++2\\u002fNCVAryTcZICxJUBrVOf+TosoQGqlUV6l4ihA1GV\\u002ffH5WLEC6x12ImOsqQN5ouWNlLypAEhMmo6xIKECAZhQOIW4qQKw0N+Zb8ipAMBTer4QTLEDs4gFkVI0vQKejcFOF9DBAFVqN+xEGMUC04QVg7SY0QAaK+nUQWzNAMeJcWQOFNEAAH+Xab7I1QNzUx9+aQzVAc4XP04lGNECqTftDjhw2QCMJS00EkjRAbZoov8n9MkDMffTDr4szQKcqtB5j\\u002fTJA3LluJhavM0BrzJ8aonU0QB0I9ApzejRAgSYNyQi2M0AiihIc5a8yQNDK4yppbDFAFxrhmMc7MkA=\"},\"type\":\"scatter\"}],                        {\"title\":{\"text\":\"Random Data\"},\"template\":{\"data\":{\"histogram2dcontour\":[{\"type\":\"histogram2dcontour\",\"colorbar\":{\"outlinewidth\":0,\"ticks\":\"\"},\"colorscale\":[[0.0,\"#0d0887\"],[0.1111111111111111,\"#46039f\"],[0.2222222222222222,\"#7201a8\"],[0.3333333333333333,\"#9c179e\"],[0.4444444444444444,\"#bd3786\"],[0.5555555555555556,\"#d8576b\"],[0.6666666666666666,\"#ed7953\"],[0.7777777777777778,\"#fb9f3a\"],[0.8888888888888888,\"#fdca26\"],[1.0,\"#f0f921\"]]}],\"choropleth\":[{\"type\":\"choropleth\",\"colorbar\":{\"outlinewidth\":0,\"ticks\":\"\"}}],\"histogram2d\":[{\"type\":\"histogram2d\",\"colorbar\":{\"outlinewidth\":0,\"ticks\":\"\"},\"colorscale\":[[0.0,\"#0d0887\"],[0.1111111111111111,\"#46039f\"],[0.2222222222222222,\"#7201a8\"],[0.3333333333333333,\"#9c179e\"],[0.4444444444444444,\"#bd3786\"],[0.5555555555555556,\"#d8576b\"],[0.6666666666666666,\"#ed7953\"],[0.7777777777777778,\"#fb9f3a\"],[0.8888888888888888,\"#fdca26\"],[1.0,\"#f0f921\"]]}],\"heatmap\":[{\"type\":\"heatmap\",\"colorbar\":{\"outlinewidth\":0,\"ticks\":\"\"},\"colorscale\":[[0.0,\"#0d0887\"],[0.1111111111111111,\"#46039f\"],[0.2222222222222222,\"#7201a8\"],[0.3333333333333333,\"#9c179e\"],[0.4444444444444444,\"#bd3786\"],[0.5555555555555556,\"#d8576b\"],[0.6666666666666666,\"#ed7953\"],[0.7777777777777778,\"#fb9f3a\"],[0.8888888888888888,\"#fdca26\"],[1.0,\"#f0f921\"]]}],\"contourcarpet\":[{\"type\":\"contourcarpet\",\"colorbar\":{\"outlinewidth\":0,\"ticks\":\"\"}}],\"contour\":[{\"type\":\"contour\",\"colorbar\":{\"outlinewidth\":0,\"ticks\":\"\"},\"colorscale\":[[0.0,\"#0d0887\"],[0.1111111111111111,\"#46039f\"],[0.2222222222222222,\"#7201a8\"],[0.3333333333333333,\"#9c179e\"],[0.4444444444444444,\"#bd3786\"],[0.5555555555555556,\"#d8576b\"],[0.6666666666666666,\"#ed7953\"],[0.7777777777777778,\"#fb9f3a\"],[0.8888888888888888,\"#fdca26\"],[1.0,\"#f0f921\"]]}],\"surface\":[{\"type\":\"surface\",\"colorbar\":{\"outlinewidth\":0,\"ticks\":\"\"},\"colorscale\":[[0.0,\"#0d0887\"],[0.1111111111111111,\"#46039f\"],[0.2222222222222222,\"#7201a8\"],[0.3333333333333333,\"#9c179e\"],[0.4444444444444444,\"#bd3786\"],[0.5555555555555556,\"#d8576b\"],[0.6666666666666666,\"#ed7953\"],[0.7777777777777778,\"#fb9f3a\"],[0.8888888888888888,\"#fdca26\"],[1.0,\"#f0f921\"]]}],\"mesh3d\":[{\"type\":\"mesh3d\",\"colorbar\":{\"outlinewidth\":0,\"ticks\":\"\"}}],\"scatter\":[{\"fillpattern\":{\"fillmode\":\"overlay\",\"size\":10,\"solidity\":0.2},\"type\":\"scatter\"}],\"parcoords\":[{\"type\":\"parcoords\",\"line\":{\"colorbar\":{\"outlinewidth\":0,\"ticks\":\"\"}}}],\"scatterpolargl\":[{\"type\":\"scatterpolargl\",\"marker\":{\"colorbar\":{\"outlinewidth\":0,\"ticks\":\"\"}}}],\"bar\":[{\"error_x\":{\"color\":\"#2a3f5f\"},\"error_y\":{\"color\":\"#2a3f5f\"},\"marker\":{\"line\":{\"color\":\"#E5ECF6\",\"width\":0.5},\"pattern\":{\"fillmode\":\"overlay\",\"size\":10,\"solidity\":0.2}},\"type\":\"bar\"}],\"scattergeo\":[{\"type\":\"scattergeo\",\"marker\":{\"colorbar\":{\"outlinewidth\":0,\"ticks\":\"\"}}}],\"scatterpolar\":[{\"type\":\"scatterpolar\",\"marker\":{\"colorbar\":{\"outlinewidth\":0,\"ticks\":\"\"}}}],\"histogram\":[{\"marker\":{\"pattern\":{\"fillmode\":\"overlay\",\"size\":10,\"solidity\":0.2}},\"type\":\"histogram\"}],\"scattergl\":[{\"type\":\"scattergl\",\"marker\":{\"colorbar\":{\"outlinewidth\":0,\"ticks\":\"\"}}}],\"scatter3d\":[{\"type\":\"scatter3d\",\"line\":{\"colorbar\":{\"outlinewidth\":0,\"ticks\":\"\"}},\"marker\":{\"colorbar\":{\"outlinewidth\":0,\"ticks\":\"\"}}}],\"scattermap\":[{\"type\":\"scattermap\",\"marker\":{\"colorbar\":{\"outlinewidth\":0,\"ticks\":\"\"}}}],\"scattermapbox\":[{\"type\":\"scattermapbox\",\"marker\":{\"colorbar\":{\"outlinewidth\":0,\"ticks\":\"\"}}}],\"scatterternary\":[{\"type\":\"scatterternary\",\"marker\":{\"colorbar\":{\"outlinewidth\":0,\"ticks\":\"\"}}}],\"scattercarpet\":[{\"type\":\"scattercarpet\",\"marker\":{\"colorbar\":{\"outlinewidth\":0,\"ticks\":\"\"}}}],\"carpet\":[{\"aaxis\":{\"endlinecolor\":\"#2a3f5f\",\"gridcolor\":\"white\",\"linecolor\":\"white\",\"minorgridcolor\":\"white\",\"startlinecolor\":\"#2a3f5f\"},\"baxis\":{\"endlinecolor\":\"#2a3f5f\",\"gridcolor\":\"white\",\"linecolor\":\"white\",\"minorgridcolor\":\"white\",\"startlinecolor\":\"#2a3f5f\"},\"type\":\"carpet\"}],\"table\":[{\"cells\":{\"fill\":{\"color\":\"#EBF0F8\"},\"line\":{\"color\":\"white\"}},\"header\":{\"fill\":{\"color\":\"#C8D4E3\"},\"line\":{\"color\":\"white\"}},\"type\":\"table\"}],\"barpolar\":[{\"marker\":{\"line\":{\"color\":\"#E5ECF6\",\"width\":0.5},\"pattern\":{\"fillmode\":\"overlay\",\"size\":10,\"solidity\":0.2}},\"type\":\"barpolar\"}],\"pie\":[{\"automargin\":true,\"type\":\"pie\"}]},\"layout\":{\"autotypenumbers\":\"strict\",\"colorway\":[\"#636efa\",\"#EF553B\",\"#00cc96\",\"#ab63fa\",\"#FFA15A\",\"#19d3f3\",\"#FF6692\",\"#B6E880\",\"#FF97FF\",\"#FECB52\"],\"font\":{\"color\":\"#2a3f5f\"},\"hovermode\":\"closest\",\"hoverlabel\":{\"align\":\"left\"},\"paper_bgcolor\":\"white\",\"plot_bgcolor\":\"#E5ECF6\",\"polar\":{\"bgcolor\":\"#E5ECF6\",\"angularaxis\":{\"gridcolor\":\"white\",\"linecolor\":\"white\",\"ticks\":\"\"},\"radialaxis\":{\"gridcolor\":\"white\",\"linecolor\":\"white\",\"ticks\":\"\"}},\"ternary\":{\"bgcolor\":\"#E5ECF6\",\"aaxis\":{\"gridcolor\":\"white\",\"linecolor\":\"white\",\"ticks\":\"\"},\"baxis\":{\"gridcolor\":\"white\",\"linecolor\":\"white\",\"ticks\":\"\"},\"caxis\":{\"gridcolor\":\"white\",\"linecolor\":\"white\",\"ticks\":\"\"}},\"coloraxis\":{\"colorbar\":{\"outlinewidth\":0,\"ticks\":\"\"}},\"colorscale\":{\"sequential\":[[0.0,\"#0d0887\"],[0.1111111111111111,\"#46039f\"],[0.2222222222222222,\"#7201a8\"],[0.3333333333333333,\"#9c179e\"],[0.4444444444444444,\"#bd3786\"],[0.5555555555555556,\"#d8576b\"],[0.6666666666666666,\"#ed7953\"],[0.7777777777777778,\"#fb9f3a\"],[0.8888888888888888,\"#fdca26\"],[1.0,\"#f0f921\"]],\"sequentialminus\":[[0.0,\"#0d0887\"],[0.1111111111111111,\"#46039f\"],[0.2222222222222222,\"#7201a8\"],[0.3333333333333333,\"#9c179e\"],[0.4444444444444444,\"#bd3786\"],[0.5555555555555556,\"#d8576b\"],[0.6666666666666666,\"#ed7953\"],[0.7777777777777778,\"#fb9f3a\"],[0.8888888888888888,\"#fdca26\"],[1.0,\"#f0f921\"]],\"diverging\":[[0,\"#8e0152\"],[0.1,\"#c51b7d\"],[0.2,\"#de77ae\"],[0.3,\"#f1b6da\"],[0.4,\"#fde0ef\"],[0.5,\"#f7f7f7\"],[0.6,\"#e6f5d0\"],[0.7,\"#b8e186\"],[0.8,\"#7fbc41\"],[0.9,\"#4d9221\"],[1,\"#276419\"]]},\"xaxis\":{\"gridcolor\":\"white\",\"linecolor\":\"white\",\"ticks\":\"\",\"title\":{\"standoff\":15},\"zerolinecolor\":\"white\",\"automargin\":true,\"zerolinewidth\":2},\"yaxis\":{\"gridcolor\":\"white\",\"linecolor\":\"white\",\"ticks\":\"\",\"title\":{\"standoff\":15},\"zerolinecolor\":\"white\",\"automargin\":true,\"zerolinewidth\":2},\"scene\":{\"xaxis\":{\"backgroundcolor\":\"#E5ECF6\",\"gridcolor\":\"white\",\"linecolor\":\"white\",\"showbackground\":true,\"ticks\":\"\",\"zerolinecolor\":\"white\",\"gridwidth\":2},\"yaxis\":{\"backgroundcolor\":\"#E5ECF6\",\"gridcolor\":\"white\",\"linecolor\":\"white\",\"showbackground\":true,\"ticks\":\"\",\"zerolinecolor\":\"white\",\"gridwidth\":2},\"zaxis\":{\"backgroundcolor\":\"#E5ECF6\",\"gridcolor\":\"white\",\"linecolor\":\"white\",\"showbackground\":true,\"ticks\":\"\",\"zerolinecolor\":\"white\",\"gridwidth\":2}},\"shapedefaults\":{\"line\":{\"color\":\"#2a3f5f\"}},\"annotationdefaults\":{\"arrowcolor\":\"#2a3f5f\",\"arrowhead\":0,\"arrowwidth\":1},\"geo\":{\"bgcolor\":\"white\",\"landcolor\":\"#E5ECF6\",\"subunitcolor\":\"white\",\"showland\":true,\"showlakes\":true,\"lakecolor\":\"white\"},\"title\":{\"x\":0.05},\"mapbox\":{\"style\":\"light\"}}}},                        {\"responsive\": true}                    ).then(function(){\n",
              "                            \n",
              "var gd = document.getElementById('dd6c7530-a8f2-4a05-925c-f6b38b2cc34b');\n",
              "var x = new MutationObserver(function (mutations, observer) {{\n",
              "        var display = window.getComputedStyle(gd).display;\n",
              "        if (!display || display === 'none') {{\n",
              "            console.log([gd, 'removed!']);\n",
              "            Plotly.purge(gd);\n",
              "            observer.disconnect();\n",
              "        }}\n",
              "}});\n",
              "\n",
              "// Listen for the removal of the full notebook cells\n",
              "var notebookContainer = gd.closest('#notebook-container');\n",
              "if (notebookContainer) {{\n",
              "    x.observe(notebookContainer, {childList: true});\n",
              "}}\n",
              "\n",
              "// Listen for the clearing of the current output cell\n",
              "var outputEl = gd.closest('.output');\n",
              "if (outputEl) {{\n",
              "    x.observe(outputEl, {childList: true});\n",
              "}}\n",
              "\n",
              "                        })                };            </script>        </div>"
            ]
          },
          "metadata": {}
        }
      ]
    },
    {
      "cell_type": "markdown",
      "source": [
        "##Load and Clean Titanic Dataset"
      ],
      "metadata": {
        "id": "JjCSV2CnicaH"
      },
      "id": "JjCSV2CnicaH"
    },
    {
      "cell_type": "code",
      "source": [
        "titanic = sns.load_dataset('titanic')\n",
        "titanic.dropna(subset=['sex', 'survived'], inplace=True)"
      ],
      "metadata": {
        "id": "9PYo9QhVWa01"
      },
      "id": "9PYo9QhVWa01",
      "execution_count": 106,
      "outputs": []
    },
    {
      "cell_type": "markdown",
      "source": [
        "##Plotly Express Bar Chart"
      ],
      "metadata": {
        "id": "ncvPzc3Pio8B"
      },
      "id": "ncvPzc3Pio8B"
    },
    {
      "cell_type": "code",
      "source": [
        "import plotly.express as px\n",
        "fig = px.bar(titanic.groupby('sex')['survived'].mean().reset_index(),\n",
        "             x='sex', y='survived', title='Survived')\n",
        "fig.show()"
      ],
      "metadata": {
        "colab": {
          "base_uri": "https://localhost:8080/",
          "height": 542
        },
        "id": "0i-J5XYBV4d3",
        "outputId": "3fdc2fa9-543a-4645-86ed-867fee9ba189"
      },
      "id": "0i-J5XYBV4d3",
      "execution_count": 91,
      "outputs": [
        {
          "output_type": "display_data",
          "data": {
            "application/vnd.plotly.v1+json": {
              "data": [
                {
                  "hovertemplate": "sex=%{x}<br>survived=%{y}<extra></extra>",
                  "legendgroup": "",
                  "marker": {
                    "color": "#636efa",
                    "pattern": {
                      "shape": ""
                    }
                  },
                  "name": "",
                  "orientation": "v",
                  "showlegend": false,
                  "textposition": "auto",
                  "x": [
                    "female",
                    "male"
                  ],
                  "xaxis": "x",
                  "y": {
                    "dtype": "f8",
                    "bdata": "RE4Q7sa+5z/JupthJC7IPw=="
                  },
                  "yaxis": "y",
                  "type": "bar"
                }
              ],
              "layout": {
                "template": {
                  "data": {
                    "histogram2dcontour": [
                      {
                        "type": "histogram2dcontour",
                        "colorbar": {
                          "outlinewidth": 0,
                          "ticks": ""
                        },
                        "colorscale": [
                          [
                            0,
                            "#0d0887"
                          ],
                          [
                            0.1111111111111111,
                            "#46039f"
                          ],
                          [
                            0.2222222222222222,
                            "#7201a8"
                          ],
                          [
                            0.3333333333333333,
                            "#9c179e"
                          ],
                          [
                            0.4444444444444444,
                            "#bd3786"
                          ],
                          [
                            0.5555555555555556,
                            "#d8576b"
                          ],
                          [
                            0.6666666666666666,
                            "#ed7953"
                          ],
                          [
                            0.7777777777777778,
                            "#fb9f3a"
                          ],
                          [
                            0.8888888888888888,
                            "#fdca26"
                          ],
                          [
                            1,
                            "#f0f921"
                          ]
                        ]
                      }
                    ],
                    "choropleth": [
                      {
                        "type": "choropleth",
                        "colorbar": {
                          "outlinewidth": 0,
                          "ticks": ""
                        }
                      }
                    ],
                    "histogram2d": [
                      {
                        "type": "histogram2d",
                        "colorbar": {
                          "outlinewidth": 0,
                          "ticks": ""
                        },
                        "colorscale": [
                          [
                            0,
                            "#0d0887"
                          ],
                          [
                            0.1111111111111111,
                            "#46039f"
                          ],
                          [
                            0.2222222222222222,
                            "#7201a8"
                          ],
                          [
                            0.3333333333333333,
                            "#9c179e"
                          ],
                          [
                            0.4444444444444444,
                            "#bd3786"
                          ],
                          [
                            0.5555555555555556,
                            "#d8576b"
                          ],
                          [
                            0.6666666666666666,
                            "#ed7953"
                          ],
                          [
                            0.7777777777777778,
                            "#fb9f3a"
                          ],
                          [
                            0.8888888888888888,
                            "#fdca26"
                          ],
                          [
                            1,
                            "#f0f921"
                          ]
                        ]
                      }
                    ],
                    "heatmap": [
                      {
                        "type": "heatmap",
                        "colorbar": {
                          "outlinewidth": 0,
                          "ticks": ""
                        },
                        "colorscale": [
                          [
                            0,
                            "#0d0887"
                          ],
                          [
                            0.1111111111111111,
                            "#46039f"
                          ],
                          [
                            0.2222222222222222,
                            "#7201a8"
                          ],
                          [
                            0.3333333333333333,
                            "#9c179e"
                          ],
                          [
                            0.4444444444444444,
                            "#bd3786"
                          ],
                          [
                            0.5555555555555556,
                            "#d8576b"
                          ],
                          [
                            0.6666666666666666,
                            "#ed7953"
                          ],
                          [
                            0.7777777777777778,
                            "#fb9f3a"
                          ],
                          [
                            0.8888888888888888,
                            "#fdca26"
                          ],
                          [
                            1,
                            "#f0f921"
                          ]
                        ]
                      }
                    ],
                    "contourcarpet": [
                      {
                        "type": "contourcarpet",
                        "colorbar": {
                          "outlinewidth": 0,
                          "ticks": ""
                        }
                      }
                    ],
                    "contour": [
                      {
                        "type": "contour",
                        "colorbar": {
                          "outlinewidth": 0,
                          "ticks": ""
                        },
                        "colorscale": [
                          [
                            0,
                            "#0d0887"
                          ],
                          [
                            0.1111111111111111,
                            "#46039f"
                          ],
                          [
                            0.2222222222222222,
                            "#7201a8"
                          ],
                          [
                            0.3333333333333333,
                            "#9c179e"
                          ],
                          [
                            0.4444444444444444,
                            "#bd3786"
                          ],
                          [
                            0.5555555555555556,
                            "#d8576b"
                          ],
                          [
                            0.6666666666666666,
                            "#ed7953"
                          ],
                          [
                            0.7777777777777778,
                            "#fb9f3a"
                          ],
                          [
                            0.8888888888888888,
                            "#fdca26"
                          ],
                          [
                            1,
                            "#f0f921"
                          ]
                        ]
                      }
                    ],
                    "surface": [
                      {
                        "type": "surface",
                        "colorbar": {
                          "outlinewidth": 0,
                          "ticks": ""
                        },
                        "colorscale": [
                          [
                            0,
                            "#0d0887"
                          ],
                          [
                            0.1111111111111111,
                            "#46039f"
                          ],
                          [
                            0.2222222222222222,
                            "#7201a8"
                          ],
                          [
                            0.3333333333333333,
                            "#9c179e"
                          ],
                          [
                            0.4444444444444444,
                            "#bd3786"
                          ],
                          [
                            0.5555555555555556,
                            "#d8576b"
                          ],
                          [
                            0.6666666666666666,
                            "#ed7953"
                          ],
                          [
                            0.7777777777777778,
                            "#fb9f3a"
                          ],
                          [
                            0.8888888888888888,
                            "#fdca26"
                          ],
                          [
                            1,
                            "#f0f921"
                          ]
                        ]
                      }
                    ],
                    "mesh3d": [
                      {
                        "type": "mesh3d",
                        "colorbar": {
                          "outlinewidth": 0,
                          "ticks": ""
                        }
                      }
                    ],
                    "scatter": [
                      {
                        "fillpattern": {
                          "fillmode": "overlay",
                          "size": 10,
                          "solidity": 0.2
                        },
                        "type": "scatter"
                      }
                    ],
                    "parcoords": [
                      {
                        "type": "parcoords",
                        "line": {
                          "colorbar": {
                            "outlinewidth": 0,
                            "ticks": ""
                          }
                        }
                      }
                    ],
                    "scatterpolargl": [
                      {
                        "type": "scatterpolargl",
                        "marker": {
                          "colorbar": {
                            "outlinewidth": 0,
                            "ticks": ""
                          }
                        }
                      }
                    ],
                    "bar": [
                      {
                        "error_x": {
                          "color": "#2a3f5f"
                        },
                        "error_y": {
                          "color": "#2a3f5f"
                        },
                        "marker": {
                          "line": {
                            "color": "#E5ECF6",
                            "width": 0.5
                          },
                          "pattern": {
                            "fillmode": "overlay",
                            "size": 10,
                            "solidity": 0.2
                          }
                        },
                        "type": "bar"
                      }
                    ],
                    "scattergeo": [
                      {
                        "type": "scattergeo",
                        "marker": {
                          "colorbar": {
                            "outlinewidth": 0,
                            "ticks": ""
                          }
                        }
                      }
                    ],
                    "scatterpolar": [
                      {
                        "type": "scatterpolar",
                        "marker": {
                          "colorbar": {
                            "outlinewidth": 0,
                            "ticks": ""
                          }
                        }
                      }
                    ],
                    "histogram": [
                      {
                        "marker": {
                          "pattern": {
                            "fillmode": "overlay",
                            "size": 10,
                            "solidity": 0.2
                          }
                        },
                        "type": "histogram"
                      }
                    ],
                    "scattergl": [
                      {
                        "type": "scattergl",
                        "marker": {
                          "colorbar": {
                            "outlinewidth": 0,
                            "ticks": ""
                          }
                        }
                      }
                    ],
                    "scatter3d": [
                      {
                        "type": "scatter3d",
                        "line": {
                          "colorbar": {
                            "outlinewidth": 0,
                            "ticks": ""
                          }
                        },
                        "marker": {
                          "colorbar": {
                            "outlinewidth": 0,
                            "ticks": ""
                          }
                        }
                      }
                    ],
                    "scattermap": [
                      {
                        "type": "scattermap",
                        "marker": {
                          "colorbar": {
                            "outlinewidth": 0,
                            "ticks": ""
                          }
                        }
                      }
                    ],
                    "scattermapbox": [
                      {
                        "type": "scattermapbox",
                        "marker": {
                          "colorbar": {
                            "outlinewidth": 0,
                            "ticks": ""
                          }
                        }
                      }
                    ],
                    "scatterternary": [
                      {
                        "type": "scatterternary",
                        "marker": {
                          "colorbar": {
                            "outlinewidth": 0,
                            "ticks": ""
                          }
                        }
                      }
                    ],
                    "scattercarpet": [
                      {
                        "type": "scattercarpet",
                        "marker": {
                          "colorbar": {
                            "outlinewidth": 0,
                            "ticks": ""
                          }
                        }
                      }
                    ],
                    "carpet": [
                      {
                        "aaxis": {
                          "endlinecolor": "#2a3f5f",
                          "gridcolor": "white",
                          "linecolor": "white",
                          "minorgridcolor": "white",
                          "startlinecolor": "#2a3f5f"
                        },
                        "baxis": {
                          "endlinecolor": "#2a3f5f",
                          "gridcolor": "white",
                          "linecolor": "white",
                          "minorgridcolor": "white",
                          "startlinecolor": "#2a3f5f"
                        },
                        "type": "carpet"
                      }
                    ],
                    "table": [
                      {
                        "cells": {
                          "fill": {
                            "color": "#EBF0F8"
                          },
                          "line": {
                            "color": "white"
                          }
                        },
                        "header": {
                          "fill": {
                            "color": "#C8D4E3"
                          },
                          "line": {
                            "color": "white"
                          }
                        },
                        "type": "table"
                      }
                    ],
                    "barpolar": [
                      {
                        "marker": {
                          "line": {
                            "color": "#E5ECF6",
                            "width": 0.5
                          },
                          "pattern": {
                            "fillmode": "overlay",
                            "size": 10,
                            "solidity": 0.2
                          }
                        },
                        "type": "barpolar"
                      }
                    ],
                    "pie": [
                      {
                        "automargin": true,
                        "type": "pie"
                      }
                    ]
                  },
                  "layout": {
                    "autotypenumbers": "strict",
                    "colorway": [
                      "#636efa",
                      "#EF553B",
                      "#00cc96",
                      "#ab63fa",
                      "#FFA15A",
                      "#19d3f3",
                      "#FF6692",
                      "#B6E880",
                      "#FF97FF",
                      "#FECB52"
                    ],
                    "font": {
                      "color": "#2a3f5f"
                    },
                    "hovermode": "closest",
                    "hoverlabel": {
                      "align": "left"
                    },
                    "paper_bgcolor": "white",
                    "plot_bgcolor": "#E5ECF6",
                    "polar": {
                      "bgcolor": "#E5ECF6",
                      "angularaxis": {
                        "gridcolor": "white",
                        "linecolor": "white",
                        "ticks": ""
                      },
                      "radialaxis": {
                        "gridcolor": "white",
                        "linecolor": "white",
                        "ticks": ""
                      }
                    },
                    "ternary": {
                      "bgcolor": "#E5ECF6",
                      "aaxis": {
                        "gridcolor": "white",
                        "linecolor": "white",
                        "ticks": ""
                      },
                      "baxis": {
                        "gridcolor": "white",
                        "linecolor": "white",
                        "ticks": ""
                      },
                      "caxis": {
                        "gridcolor": "white",
                        "linecolor": "white",
                        "ticks": ""
                      }
                    },
                    "coloraxis": {
                      "colorbar": {
                        "outlinewidth": 0,
                        "ticks": ""
                      }
                    },
                    "colorscale": {
                      "sequential": [
                        [
                          0,
                          "#0d0887"
                        ],
                        [
                          0.1111111111111111,
                          "#46039f"
                        ],
                        [
                          0.2222222222222222,
                          "#7201a8"
                        ],
                        [
                          0.3333333333333333,
                          "#9c179e"
                        ],
                        [
                          0.4444444444444444,
                          "#bd3786"
                        ],
                        [
                          0.5555555555555556,
                          "#d8576b"
                        ],
                        [
                          0.6666666666666666,
                          "#ed7953"
                        ],
                        [
                          0.7777777777777778,
                          "#fb9f3a"
                        ],
                        [
                          0.8888888888888888,
                          "#fdca26"
                        ],
                        [
                          1,
                          "#f0f921"
                        ]
                      ],
                      "sequentialminus": [
                        [
                          0,
                          "#0d0887"
                        ],
                        [
                          0.1111111111111111,
                          "#46039f"
                        ],
                        [
                          0.2222222222222222,
                          "#7201a8"
                        ],
                        [
                          0.3333333333333333,
                          "#9c179e"
                        ],
                        [
                          0.4444444444444444,
                          "#bd3786"
                        ],
                        [
                          0.5555555555555556,
                          "#d8576b"
                        ],
                        [
                          0.6666666666666666,
                          "#ed7953"
                        ],
                        [
                          0.7777777777777778,
                          "#fb9f3a"
                        ],
                        [
                          0.8888888888888888,
                          "#fdca26"
                        ],
                        [
                          1,
                          "#f0f921"
                        ]
                      ],
                      "diverging": [
                        [
                          0,
                          "#8e0152"
                        ],
                        [
                          0.1,
                          "#c51b7d"
                        ],
                        [
                          0.2,
                          "#de77ae"
                        ],
                        [
                          0.3,
                          "#f1b6da"
                        ],
                        [
                          0.4,
                          "#fde0ef"
                        ],
                        [
                          0.5,
                          "#f7f7f7"
                        ],
                        [
                          0.6,
                          "#e6f5d0"
                        ],
                        [
                          0.7,
                          "#b8e186"
                        ],
                        [
                          0.8,
                          "#7fbc41"
                        ],
                        [
                          0.9,
                          "#4d9221"
                        ],
                        [
                          1,
                          "#276419"
                        ]
                      ]
                    },
                    "xaxis": {
                      "gridcolor": "white",
                      "linecolor": "white",
                      "ticks": "",
                      "title": {
                        "standoff": 15
                      },
                      "zerolinecolor": "white",
                      "automargin": true,
                      "zerolinewidth": 2
                    },
                    "yaxis": {
                      "gridcolor": "white",
                      "linecolor": "white",
                      "ticks": "",
                      "title": {
                        "standoff": 15
                      },
                      "zerolinecolor": "white",
                      "automargin": true,
                      "zerolinewidth": 2
                    },
                    "scene": {
                      "xaxis": {
                        "backgroundcolor": "#E5ECF6",
                        "gridcolor": "white",
                        "linecolor": "white",
                        "showbackground": true,
                        "ticks": "",
                        "zerolinecolor": "white",
                        "gridwidth": 2
                      },
                      "yaxis": {
                        "backgroundcolor": "#E5ECF6",
                        "gridcolor": "white",
                        "linecolor": "white",
                        "showbackground": true,
                        "ticks": "",
                        "zerolinecolor": "white",
                        "gridwidth": 2
                      },
                      "zaxis": {
                        "backgroundcolor": "#E5ECF6",
                        "gridcolor": "white",
                        "linecolor": "white",
                        "showbackground": true,
                        "ticks": "",
                        "zerolinecolor": "white",
                        "gridwidth": 2
                      }
                    },
                    "shapedefaults": {
                      "line": {
                        "color": "#2a3f5f"
                      }
                    },
                    "annotationdefaults": {
                      "arrowcolor": "#2a3f5f",
                      "arrowhead": 0,
                      "arrowwidth": 1
                    },
                    "geo": {
                      "bgcolor": "white",
                      "landcolor": "#E5ECF6",
                      "subunitcolor": "white",
                      "showland": true,
                      "showlakes": true,
                      "lakecolor": "white"
                    },
                    "title": {
                      "x": 0.05
                    },
                    "mapbox": {
                      "style": "light"
                    }
                  }
                },
                "xaxis": {
                  "anchor": "y",
                  "domain": [
                    0,
                    1
                  ],
                  "title": {
                    "text": "sex"
                  }
                },
                "yaxis": {
                  "anchor": "x",
                  "domain": [
                    0,
                    1
                  ],
                  "title": {
                    "text": "survived"
                  }
                },
                "legend": {
                  "tracegroupgap": 0
                },
                "title": {
                  "text": "Survived"
                },
                "barmode": "relative"
              },
              "config": {
                "plotlyServerURL": "https://plot.ly"
              }
            },
            "text/html": [
              "<div>            <script src=\"https://cdnjs.cloudflare.com/ajax/libs/mathjax/2.7.5/MathJax.js?config=TeX-AMS-MML_SVG\"></script><script type=\"text/javascript\">if (window.MathJax && window.MathJax.Hub && window.MathJax.Hub.Config) {window.MathJax.Hub.Config({SVG: {font: \"STIX-Web\"}});}</script>                <script type=\"text/javascript\">window.PlotlyConfig = {MathJaxConfig: 'local'};</script>\n",
              "        <script charset=\"utf-8\" src=\"https://cdn.plot.ly/plotly-3.0.0.min.js\"></script>                <div id=\"740e2f62-5d88-4671-9fcc-c77da0cc568a\" class=\"plotly-graph-div\" style=\"height:525px; width:100%;\"></div>            <script type=\"text/javascript\">                window.PLOTLYENV=window.PLOTLYENV || {};                                if (document.getElementById(\"740e2f62-5d88-4671-9fcc-c77da0cc568a\")) {                    Plotly.newPlot(                        \"740e2f62-5d88-4671-9fcc-c77da0cc568a\",                        [{\"hovertemplate\":\"sex=%{x}\\u003cbr\\u003esurvived=%{y}\\u003cextra\\u003e\\u003c\\u002fextra\\u003e\",\"legendgroup\":\"\",\"marker\":{\"color\":\"#636efa\",\"pattern\":{\"shape\":\"\"}},\"name\":\"\",\"orientation\":\"v\",\"showlegend\":false,\"textposition\":\"auto\",\"x\":[\"female\",\"male\"],\"xaxis\":\"x\",\"y\":{\"dtype\":\"f8\",\"bdata\":\"RE4Q7sa+5z\\u002fJupthJC7IPw==\"},\"yaxis\":\"y\",\"type\":\"bar\"}],                        {\"template\":{\"data\":{\"histogram2dcontour\":[{\"type\":\"histogram2dcontour\",\"colorbar\":{\"outlinewidth\":0,\"ticks\":\"\"},\"colorscale\":[[0.0,\"#0d0887\"],[0.1111111111111111,\"#46039f\"],[0.2222222222222222,\"#7201a8\"],[0.3333333333333333,\"#9c179e\"],[0.4444444444444444,\"#bd3786\"],[0.5555555555555556,\"#d8576b\"],[0.6666666666666666,\"#ed7953\"],[0.7777777777777778,\"#fb9f3a\"],[0.8888888888888888,\"#fdca26\"],[1.0,\"#f0f921\"]]}],\"choropleth\":[{\"type\":\"choropleth\",\"colorbar\":{\"outlinewidth\":0,\"ticks\":\"\"}}],\"histogram2d\":[{\"type\":\"histogram2d\",\"colorbar\":{\"outlinewidth\":0,\"ticks\":\"\"},\"colorscale\":[[0.0,\"#0d0887\"],[0.1111111111111111,\"#46039f\"],[0.2222222222222222,\"#7201a8\"],[0.3333333333333333,\"#9c179e\"],[0.4444444444444444,\"#bd3786\"],[0.5555555555555556,\"#d8576b\"],[0.6666666666666666,\"#ed7953\"],[0.7777777777777778,\"#fb9f3a\"],[0.8888888888888888,\"#fdca26\"],[1.0,\"#f0f921\"]]}],\"heatmap\":[{\"type\":\"heatmap\",\"colorbar\":{\"outlinewidth\":0,\"ticks\":\"\"},\"colorscale\":[[0.0,\"#0d0887\"],[0.1111111111111111,\"#46039f\"],[0.2222222222222222,\"#7201a8\"],[0.3333333333333333,\"#9c179e\"],[0.4444444444444444,\"#bd3786\"],[0.5555555555555556,\"#d8576b\"],[0.6666666666666666,\"#ed7953\"],[0.7777777777777778,\"#fb9f3a\"],[0.8888888888888888,\"#fdca26\"],[1.0,\"#f0f921\"]]}],\"contourcarpet\":[{\"type\":\"contourcarpet\",\"colorbar\":{\"outlinewidth\":0,\"ticks\":\"\"}}],\"contour\":[{\"type\":\"contour\",\"colorbar\":{\"outlinewidth\":0,\"ticks\":\"\"},\"colorscale\":[[0.0,\"#0d0887\"],[0.1111111111111111,\"#46039f\"],[0.2222222222222222,\"#7201a8\"],[0.3333333333333333,\"#9c179e\"],[0.4444444444444444,\"#bd3786\"],[0.5555555555555556,\"#d8576b\"],[0.6666666666666666,\"#ed7953\"],[0.7777777777777778,\"#fb9f3a\"],[0.8888888888888888,\"#fdca26\"],[1.0,\"#f0f921\"]]}],\"surface\":[{\"type\":\"surface\",\"colorbar\":{\"outlinewidth\":0,\"ticks\":\"\"},\"colorscale\":[[0.0,\"#0d0887\"],[0.1111111111111111,\"#46039f\"],[0.2222222222222222,\"#7201a8\"],[0.3333333333333333,\"#9c179e\"],[0.4444444444444444,\"#bd3786\"],[0.5555555555555556,\"#d8576b\"],[0.6666666666666666,\"#ed7953\"],[0.7777777777777778,\"#fb9f3a\"],[0.8888888888888888,\"#fdca26\"],[1.0,\"#f0f921\"]]}],\"mesh3d\":[{\"type\":\"mesh3d\",\"colorbar\":{\"outlinewidth\":0,\"ticks\":\"\"}}],\"scatter\":[{\"fillpattern\":{\"fillmode\":\"overlay\",\"size\":10,\"solidity\":0.2},\"type\":\"scatter\"}],\"parcoords\":[{\"type\":\"parcoords\",\"line\":{\"colorbar\":{\"outlinewidth\":0,\"ticks\":\"\"}}}],\"scatterpolargl\":[{\"type\":\"scatterpolargl\",\"marker\":{\"colorbar\":{\"outlinewidth\":0,\"ticks\":\"\"}}}],\"bar\":[{\"error_x\":{\"color\":\"#2a3f5f\"},\"error_y\":{\"color\":\"#2a3f5f\"},\"marker\":{\"line\":{\"color\":\"#E5ECF6\",\"width\":0.5},\"pattern\":{\"fillmode\":\"overlay\",\"size\":10,\"solidity\":0.2}},\"type\":\"bar\"}],\"scattergeo\":[{\"type\":\"scattergeo\",\"marker\":{\"colorbar\":{\"outlinewidth\":0,\"ticks\":\"\"}}}],\"scatterpolar\":[{\"type\":\"scatterpolar\",\"marker\":{\"colorbar\":{\"outlinewidth\":0,\"ticks\":\"\"}}}],\"histogram\":[{\"marker\":{\"pattern\":{\"fillmode\":\"overlay\",\"size\":10,\"solidity\":0.2}},\"type\":\"histogram\"}],\"scattergl\":[{\"type\":\"scattergl\",\"marker\":{\"colorbar\":{\"outlinewidth\":0,\"ticks\":\"\"}}}],\"scatter3d\":[{\"type\":\"scatter3d\",\"line\":{\"colorbar\":{\"outlinewidth\":0,\"ticks\":\"\"}},\"marker\":{\"colorbar\":{\"outlinewidth\":0,\"ticks\":\"\"}}}],\"scattermap\":[{\"type\":\"scattermap\",\"marker\":{\"colorbar\":{\"outlinewidth\":0,\"ticks\":\"\"}}}],\"scattermapbox\":[{\"type\":\"scattermapbox\",\"marker\":{\"colorbar\":{\"outlinewidth\":0,\"ticks\":\"\"}}}],\"scatterternary\":[{\"type\":\"scatterternary\",\"marker\":{\"colorbar\":{\"outlinewidth\":0,\"ticks\":\"\"}}}],\"scattercarpet\":[{\"type\":\"scattercarpet\",\"marker\":{\"colorbar\":{\"outlinewidth\":0,\"ticks\":\"\"}}}],\"carpet\":[{\"aaxis\":{\"endlinecolor\":\"#2a3f5f\",\"gridcolor\":\"white\",\"linecolor\":\"white\",\"minorgridcolor\":\"white\",\"startlinecolor\":\"#2a3f5f\"},\"baxis\":{\"endlinecolor\":\"#2a3f5f\",\"gridcolor\":\"white\",\"linecolor\":\"white\",\"minorgridcolor\":\"white\",\"startlinecolor\":\"#2a3f5f\"},\"type\":\"carpet\"}],\"table\":[{\"cells\":{\"fill\":{\"color\":\"#EBF0F8\"},\"line\":{\"color\":\"white\"}},\"header\":{\"fill\":{\"color\":\"#C8D4E3\"},\"line\":{\"color\":\"white\"}},\"type\":\"table\"}],\"barpolar\":[{\"marker\":{\"line\":{\"color\":\"#E5ECF6\",\"width\":0.5},\"pattern\":{\"fillmode\":\"overlay\",\"size\":10,\"solidity\":0.2}},\"type\":\"barpolar\"}],\"pie\":[{\"automargin\":true,\"type\":\"pie\"}]},\"layout\":{\"autotypenumbers\":\"strict\",\"colorway\":[\"#636efa\",\"#EF553B\",\"#00cc96\",\"#ab63fa\",\"#FFA15A\",\"#19d3f3\",\"#FF6692\",\"#B6E880\",\"#FF97FF\",\"#FECB52\"],\"font\":{\"color\":\"#2a3f5f\"},\"hovermode\":\"closest\",\"hoverlabel\":{\"align\":\"left\"},\"paper_bgcolor\":\"white\",\"plot_bgcolor\":\"#E5ECF6\",\"polar\":{\"bgcolor\":\"#E5ECF6\",\"angularaxis\":{\"gridcolor\":\"white\",\"linecolor\":\"white\",\"ticks\":\"\"},\"radialaxis\":{\"gridcolor\":\"white\",\"linecolor\":\"white\",\"ticks\":\"\"}},\"ternary\":{\"bgcolor\":\"#E5ECF6\",\"aaxis\":{\"gridcolor\":\"white\",\"linecolor\":\"white\",\"ticks\":\"\"},\"baxis\":{\"gridcolor\":\"white\",\"linecolor\":\"white\",\"ticks\":\"\"},\"caxis\":{\"gridcolor\":\"white\",\"linecolor\":\"white\",\"ticks\":\"\"}},\"coloraxis\":{\"colorbar\":{\"outlinewidth\":0,\"ticks\":\"\"}},\"colorscale\":{\"sequential\":[[0.0,\"#0d0887\"],[0.1111111111111111,\"#46039f\"],[0.2222222222222222,\"#7201a8\"],[0.3333333333333333,\"#9c179e\"],[0.4444444444444444,\"#bd3786\"],[0.5555555555555556,\"#d8576b\"],[0.6666666666666666,\"#ed7953\"],[0.7777777777777778,\"#fb9f3a\"],[0.8888888888888888,\"#fdca26\"],[1.0,\"#f0f921\"]],\"sequentialminus\":[[0.0,\"#0d0887\"],[0.1111111111111111,\"#46039f\"],[0.2222222222222222,\"#7201a8\"],[0.3333333333333333,\"#9c179e\"],[0.4444444444444444,\"#bd3786\"],[0.5555555555555556,\"#d8576b\"],[0.6666666666666666,\"#ed7953\"],[0.7777777777777778,\"#fb9f3a\"],[0.8888888888888888,\"#fdca26\"],[1.0,\"#f0f921\"]],\"diverging\":[[0,\"#8e0152\"],[0.1,\"#c51b7d\"],[0.2,\"#de77ae\"],[0.3,\"#f1b6da\"],[0.4,\"#fde0ef\"],[0.5,\"#f7f7f7\"],[0.6,\"#e6f5d0\"],[0.7,\"#b8e186\"],[0.8,\"#7fbc41\"],[0.9,\"#4d9221\"],[1,\"#276419\"]]},\"xaxis\":{\"gridcolor\":\"white\",\"linecolor\":\"white\",\"ticks\":\"\",\"title\":{\"standoff\":15},\"zerolinecolor\":\"white\",\"automargin\":true,\"zerolinewidth\":2},\"yaxis\":{\"gridcolor\":\"white\",\"linecolor\":\"white\",\"ticks\":\"\",\"title\":{\"standoff\":15},\"zerolinecolor\":\"white\",\"automargin\":true,\"zerolinewidth\":2},\"scene\":{\"xaxis\":{\"backgroundcolor\":\"#E5ECF6\",\"gridcolor\":\"white\",\"linecolor\":\"white\",\"showbackground\":true,\"ticks\":\"\",\"zerolinecolor\":\"white\",\"gridwidth\":2},\"yaxis\":{\"backgroundcolor\":\"#E5ECF6\",\"gridcolor\":\"white\",\"linecolor\":\"white\",\"showbackground\":true,\"ticks\":\"\",\"zerolinecolor\":\"white\",\"gridwidth\":2},\"zaxis\":{\"backgroundcolor\":\"#E5ECF6\",\"gridcolor\":\"white\",\"linecolor\":\"white\",\"showbackground\":true,\"ticks\":\"\",\"zerolinecolor\":\"white\",\"gridwidth\":2}},\"shapedefaults\":{\"line\":{\"color\":\"#2a3f5f\"}},\"annotationdefaults\":{\"arrowcolor\":\"#2a3f5f\",\"arrowhead\":0,\"arrowwidth\":1},\"geo\":{\"bgcolor\":\"white\",\"landcolor\":\"#E5ECF6\",\"subunitcolor\":\"white\",\"showland\":true,\"showlakes\":true,\"lakecolor\":\"white\"},\"title\":{\"x\":0.05},\"mapbox\":{\"style\":\"light\"}}},\"xaxis\":{\"anchor\":\"y\",\"domain\":[0.0,1.0],\"title\":{\"text\":\"sex\"}},\"yaxis\":{\"anchor\":\"x\",\"domain\":[0.0,1.0],\"title\":{\"text\":\"survived\"}},\"legend\":{\"tracegroupgap\":0},\"title\":{\"text\":\"Survived\"},\"barmode\":\"relative\"},                        {\"responsive\": true}                    ).then(function(){\n",
              "                            \n",
              "var gd = document.getElementById('740e2f62-5d88-4671-9fcc-c77da0cc568a');\n",
              "var x = new MutationObserver(function (mutations, observer) {{\n",
              "        var display = window.getComputedStyle(gd).display;\n",
              "        if (!display || display === 'none') {{\n",
              "            console.log([gd, 'removed!']);\n",
              "            Plotly.purge(gd);\n",
              "            observer.disconnect();\n",
              "        }}\n",
              "}});\n",
              "\n",
              "// Listen for the removal of the full notebook cells\n",
              "var notebookContainer = gd.closest('#notebook-container');\n",
              "if (notebookContainer) {{\n",
              "    x.observe(notebookContainer, {childList: true});\n",
              "}}\n",
              "\n",
              "// Listen for the clearing of the current output cell\n",
              "var outputEl = gd.closest('.output');\n",
              "if (outputEl) {{\n",
              "    x.observe(outputEl, {childList: true});\n",
              "}}\n",
              "\n",
              "                        })                };            </script>        </div>"
            ]
          },
          "metadata": {}
        }
      ]
    },
    {
      "cell_type": "markdown",
      "source": [
        "##Cufflinks Theme Iteration"
      ],
      "metadata": {
        "id": "1POBFcUlivSt"
      },
      "id": "1POBFcUlivSt"
    },
    {
      "cell_type": "code",
      "source": [
        "themes = ['ggplot', 'pearl', 'solar', 'space']\n",
        "for theme in themes:\n",
        "    cf.set_config_file(theme=theme)  # Cufflinks temasını ayarla (sadece renk şeması için)\n",
        "    colorscale = cf.get_config_file()['colorscale']  # Temanın renk şemasını al"
      ],
      "metadata": {
        "id": "E7DBnhjacVw5"
      },
      "id": "E7DBnhjacVw5",
      "execution_count": 92,
      "outputs": []
    },
    {
      "cell_type": "markdown",
      "source": [
        "##Stacked Bar Chart with Theme"
      ],
      "metadata": {
        "id": "72lQIto9i1oc"
      },
      "id": "72lQIto9i1oc"
    },
    {
      "cell_type": "code",
      "source": [
        "# Plotly ile bar grafiği oluşturma\n",
        "fig = go.Figure(data=[go.Bar(y=df[col], name=col) for col in df.columns],\n",
        "                layout=go.Layout(title=f'Bar Plot ({theme} Theme)', barmode='stack', bargap=0.5))\n",
        "\n",
        "fig.show()"
      ],
      "metadata": {
        "colab": {
          "base_uri": "https://localhost:8080/",
          "height": 542
        },
        "id": "74iE3qNjclG4",
        "outputId": "17e49637-a30b-40be-c26d-9ffb01726546"
      },
      "id": "74iE3qNjclG4",
      "execution_count": 93,
      "outputs": [
        {
          "output_type": "display_data",
          "data": {
            "application/vnd.plotly.v1+json": {
              "data": [
                {
                  "name": "A",
                  "y": {
                    "dtype": "f8",
                    "bdata": "8t4CDEstHEAw2o3MscIdQGOrQS9GYiRAgyxitwF9JECJpFBwjf0nQAGaMfKggCpAjvFNAtRsLUCAt/SGc0EuQI7pXl6HpC9Azn+0ak3oMEDiQ7rgt2AwQL+XZDjOaTBAXDUxEWU9MUD+HkTfQMowQJ4TjN2TqjFAnmaZQ3dvMUA3dYtwVN4xQBa2CqcQ+zFALqReB2sDMkAQS+fANh8yQI4a3dLI8TNAvvx7BUM0NkByr6wmkkc1QDDl6kGNjzZAumfgIs10N0BFrUFGqEs2QFtIJ0FDGTZA3EYDoQo6N0BizwBRq6Q4QACHah/OFjhAmNzyQU5DN0BgWxREwBQ3QG017ThkNTVAvvVNGV9HNUD+csE9qEk2QI2In4InfTZAKk4Lc8GDNkCS8zdG6mc2QAflYPxj0TRAHGzUptpANEDVvp9fXqk0QBsxBMU6nDRAnLPqM0LmNEDa37rwtkY1QDw4ewoU4jVAHI9i8DvINkDknQx9/y04QGL7aekMpzdA7nk54YKzOUAwi+S/Wcg7QKOkJlzVmD1AHnm5qEo5P0Ae18Ef4BhAQFmyrKGifD9AnBdrF0hdP0CLdJ+kacY9QNsm7SP4cD5AUsQkxpz3PkCj5u+ebE09QHeXLY5q2DxAQBh55eNmO0D5JwI6lJo8QCCtoCzDdjtAAgp1cbBgPEB4575d7Sg7QP74KOWJMDtARCVv5HMQPEBRUd1GL288QPRcS8Ck1DxAHVCHDF/1PEAD8Jp9VPI8QE8NbO52bDxAzNvhbG6vPkApg73wGNA/QHSmRr+LZUBA38/n4t31P0Bbj5CAdA1BQFfeWo9rPEFARkU1om19QUDQY664C5xBQE84XkaW3UFAO1RvPugXQUB4XcDmqKVAQFLgqHvAn0BAJg0S1tyUQEDmIoRVhrw+QAQWmxswYz1AS0dUOxfhPEDvjw6sni8+QNxCjLZg5j1AvOXo/G50PUBn17YKc5s8QOwYChL2lz1At5rCZNBdPEAE3mQ00CI8QMxPNETcGTtA/n77hDbAOkAcD6V+04k5QBS/mxw1wzpAwrGa0loDO0A="
                  },
                  "type": "bar"
                },
                {
                  "name": "B",
                  "y": {
                    "dtype": "f8",
                    "bdata": "TBCqir/JNUCkYIiW1js3QLG75MVdvzhAxXQot6JqOkAumTti1B48QC5oXrSmcjtAtHpsa4lfOkBF4IMn3qQ6QDg2QvxstDhAhnNFKnumN0BmYuyWPh82QD6ddvDhKzVAhU8C371kNEBRBoEb/00zQGVCWAGv1TNA0aYnZC3dM0BW2HwhO9UzQMws+EkwiTJAdfyjcrs0MkC6Cs7CKfswQLlDf8k0NzBA1itYxn2bMEAsZfFlpu8wQB91Upx4FTBA0O98UADGMEBgd9YcbEUwQMa1n2bEyDFA60btGZOFMUDEarOCINMxQPevSglcNTBAYgQx/eBvMUBq85QHgJ0yQEUZcr4BiDJAUStJZ/33MEAv512rZIkyQItu4CiINjNApplt12iKM0DW/sfTJfYyQOF9X0UYGTJA4R9FhC9rMUAWTTWel9AwQKN+dHhbSjBAqD2VajynK0DcsWbxqEwpQHCbaSKx8ihAcxdEJZSGJ0DbiSd87z4pQF7mK3nUDypApHzeZih5J0BnDuRxM0wrQEHOtkuG+yxAiIPROKzGKUCoKMDyY94rQDOMDDq4cS5A6Lp6TkFnLUBSzO21TTEtQMM0MvZI8CxAFwHdSu5ZLUDq1c4TlrgsQAR/jNKh9ixAfMVPNWUKLEDeMdBEAQksQABmPVhP6ShAyZtLzbEVK0BAnIdKKTIrQGIXo7nk0SVAkfc0pLVUJEDdidTgdI0kQGI0++2/NCVAryTcZICxJUBrVOf+TosoQGqlUV6l4ihA1GV/fH5WLEC6x12ImOsqQN5ouWNlLypAEhMmo6xIKECAZhQOIW4qQKw0N+Zb8ipAMBTer4QTLEDs4gFkVI0vQKejcFOF9DBAFVqN+xEGMUC04QVg7SY0QAaK+nUQWzNAMeJcWQOFNEAAH+Xab7I1QNzUx9+aQzVAc4XP04lGNECqTftDjhw2QCMJS00EkjRAbZoov8n9MkDMffTDr4szQKcqtB5j/TJA3LluJhavM0BrzJ8aonU0QB0I9ApzejRAgSYNyQi2M0AiihIc5a8yQNDK4yppbDFAFxrhmMc7MkA="
                  },
                  "type": "bar"
                },
                {
                  "name": "C",
                  "y": {
                    "dtype": "f8",
                    "bdata": "wvrAwyyIPkBQqkLNeFs/QEZiPKoA4T1ABsJBkWeRPkBN7l01Woc/QPm8Co/vgEBANDJOhrsPQUBrF54k/t1AQNbXBF1lhUFAd7LKr0xvQkBAo2pV03hCQDUUoFOsPEJAi+tePv35QkDU+gl54ZBDQL4Kp5y/10NAstmRuEgZREBgNGdBR7NDQGoeTXNP3UJA8BXBD+iLQkBb+A82a5NCQPeN9y4280JAfI07GWzaQkDgKu1JuupCQE10VXqnskJAKz8nxYz3QUDu4p+XUilCQLe1XcCdcEJAY9We1xWIQkAtGkpcTPZDQPQktQjL5kNALteF3aTCQ0Dvp/xNZz1DQANM7OGzC0NAttIukJGbQkBB9A12LapCQFsA7NmtAENAK2JlTj1+Q0AuXqngd0REQJ30Z3tWrkRAdI5Ov4xZREB4w0RNmvVDQLg5u10ru0NAjvHg33i7Q0AQEFOweKxDQOVLBCP/CkNAJJ/Vqa2sQkCZ+Z4iTn5DQAqtLfK0aENAgqWLDvyQQkDb5xFdXNhCQHIujHrqWENAmoQ3P/o7Q0AT0UnrlqdCQJkHCiNqEUJAK3/IjpNvQkAFrFszL6JCQFo9eBZFR0JA4wXqXrlMQkCbhe/rbIhCQB4L4TBqxUFA3wdTMrHMQUAUMuLiGcxAQBP3WHldPkFAH2OzK04ZQUAiQdvEg5lAQI7jsFssuUBA1+3mj52sQEAguNlFfiBBQJMEjsEOAkFAQfbnLK52QUC80P4MBZdBQG5YHm3SakFAqFDBSSSUQEC2Xk6M2MJAQGtfPqwrtT9ACaLZiV+5QEBMV76Fx/1AQGEMJKCGJEBAJL8GTD1aPkD6f5rMml9AQNZPTj0Zy0BAFV5JFmTnQEAvsBA7NvtAQBDjQsC9MEFAeOneqVV2QUB3gp0YtohBQL52sfKNdkFAtmU1RLW5QUDCc1q1GD5CQJZUH7gHW0JAl3NKEhhqQkAlSQ+87DpCQJiUCL4fAEJAnHCj/sSQQkCOfTGin/VCQIwOpljn9UJA06Tb7ECJQ0C4s4CTpLZDQKHQFX/7/0RAXjG5RcagRUA="
                  },
                  "type": "bar"
                }
              ],
              "layout": {
                "bargap": 0.5,
                "barmode": "stack",
                "title": {
                  "text": "Bar Plot (space Theme)"
                },
                "template": {
                  "data": {
                    "histogram2dcontour": [
                      {
                        "type": "histogram2dcontour",
                        "colorbar": {
                          "outlinewidth": 0,
                          "ticks": ""
                        },
                        "colorscale": [
                          [
                            0,
                            "#0d0887"
                          ],
                          [
                            0.1111111111111111,
                            "#46039f"
                          ],
                          [
                            0.2222222222222222,
                            "#7201a8"
                          ],
                          [
                            0.3333333333333333,
                            "#9c179e"
                          ],
                          [
                            0.4444444444444444,
                            "#bd3786"
                          ],
                          [
                            0.5555555555555556,
                            "#d8576b"
                          ],
                          [
                            0.6666666666666666,
                            "#ed7953"
                          ],
                          [
                            0.7777777777777778,
                            "#fb9f3a"
                          ],
                          [
                            0.8888888888888888,
                            "#fdca26"
                          ],
                          [
                            1,
                            "#f0f921"
                          ]
                        ]
                      }
                    ],
                    "choropleth": [
                      {
                        "type": "choropleth",
                        "colorbar": {
                          "outlinewidth": 0,
                          "ticks": ""
                        }
                      }
                    ],
                    "histogram2d": [
                      {
                        "type": "histogram2d",
                        "colorbar": {
                          "outlinewidth": 0,
                          "ticks": ""
                        },
                        "colorscale": [
                          [
                            0,
                            "#0d0887"
                          ],
                          [
                            0.1111111111111111,
                            "#46039f"
                          ],
                          [
                            0.2222222222222222,
                            "#7201a8"
                          ],
                          [
                            0.3333333333333333,
                            "#9c179e"
                          ],
                          [
                            0.4444444444444444,
                            "#bd3786"
                          ],
                          [
                            0.5555555555555556,
                            "#d8576b"
                          ],
                          [
                            0.6666666666666666,
                            "#ed7953"
                          ],
                          [
                            0.7777777777777778,
                            "#fb9f3a"
                          ],
                          [
                            0.8888888888888888,
                            "#fdca26"
                          ],
                          [
                            1,
                            "#f0f921"
                          ]
                        ]
                      }
                    ],
                    "heatmap": [
                      {
                        "type": "heatmap",
                        "colorbar": {
                          "outlinewidth": 0,
                          "ticks": ""
                        },
                        "colorscale": [
                          [
                            0,
                            "#0d0887"
                          ],
                          [
                            0.1111111111111111,
                            "#46039f"
                          ],
                          [
                            0.2222222222222222,
                            "#7201a8"
                          ],
                          [
                            0.3333333333333333,
                            "#9c179e"
                          ],
                          [
                            0.4444444444444444,
                            "#bd3786"
                          ],
                          [
                            0.5555555555555556,
                            "#d8576b"
                          ],
                          [
                            0.6666666666666666,
                            "#ed7953"
                          ],
                          [
                            0.7777777777777778,
                            "#fb9f3a"
                          ],
                          [
                            0.8888888888888888,
                            "#fdca26"
                          ],
                          [
                            1,
                            "#f0f921"
                          ]
                        ]
                      }
                    ],
                    "contourcarpet": [
                      {
                        "type": "contourcarpet",
                        "colorbar": {
                          "outlinewidth": 0,
                          "ticks": ""
                        }
                      }
                    ],
                    "contour": [
                      {
                        "type": "contour",
                        "colorbar": {
                          "outlinewidth": 0,
                          "ticks": ""
                        },
                        "colorscale": [
                          [
                            0,
                            "#0d0887"
                          ],
                          [
                            0.1111111111111111,
                            "#46039f"
                          ],
                          [
                            0.2222222222222222,
                            "#7201a8"
                          ],
                          [
                            0.3333333333333333,
                            "#9c179e"
                          ],
                          [
                            0.4444444444444444,
                            "#bd3786"
                          ],
                          [
                            0.5555555555555556,
                            "#d8576b"
                          ],
                          [
                            0.6666666666666666,
                            "#ed7953"
                          ],
                          [
                            0.7777777777777778,
                            "#fb9f3a"
                          ],
                          [
                            0.8888888888888888,
                            "#fdca26"
                          ],
                          [
                            1,
                            "#f0f921"
                          ]
                        ]
                      }
                    ],
                    "surface": [
                      {
                        "type": "surface",
                        "colorbar": {
                          "outlinewidth": 0,
                          "ticks": ""
                        },
                        "colorscale": [
                          [
                            0,
                            "#0d0887"
                          ],
                          [
                            0.1111111111111111,
                            "#46039f"
                          ],
                          [
                            0.2222222222222222,
                            "#7201a8"
                          ],
                          [
                            0.3333333333333333,
                            "#9c179e"
                          ],
                          [
                            0.4444444444444444,
                            "#bd3786"
                          ],
                          [
                            0.5555555555555556,
                            "#d8576b"
                          ],
                          [
                            0.6666666666666666,
                            "#ed7953"
                          ],
                          [
                            0.7777777777777778,
                            "#fb9f3a"
                          ],
                          [
                            0.8888888888888888,
                            "#fdca26"
                          ],
                          [
                            1,
                            "#f0f921"
                          ]
                        ]
                      }
                    ],
                    "mesh3d": [
                      {
                        "type": "mesh3d",
                        "colorbar": {
                          "outlinewidth": 0,
                          "ticks": ""
                        }
                      }
                    ],
                    "scatter": [
                      {
                        "fillpattern": {
                          "fillmode": "overlay",
                          "size": 10,
                          "solidity": 0.2
                        },
                        "type": "scatter"
                      }
                    ],
                    "parcoords": [
                      {
                        "type": "parcoords",
                        "line": {
                          "colorbar": {
                            "outlinewidth": 0,
                            "ticks": ""
                          }
                        }
                      }
                    ],
                    "scatterpolargl": [
                      {
                        "type": "scatterpolargl",
                        "marker": {
                          "colorbar": {
                            "outlinewidth": 0,
                            "ticks": ""
                          }
                        }
                      }
                    ],
                    "bar": [
                      {
                        "error_x": {
                          "color": "#2a3f5f"
                        },
                        "error_y": {
                          "color": "#2a3f5f"
                        },
                        "marker": {
                          "line": {
                            "color": "#E5ECF6",
                            "width": 0.5
                          },
                          "pattern": {
                            "fillmode": "overlay",
                            "size": 10,
                            "solidity": 0.2
                          }
                        },
                        "type": "bar"
                      }
                    ],
                    "scattergeo": [
                      {
                        "type": "scattergeo",
                        "marker": {
                          "colorbar": {
                            "outlinewidth": 0,
                            "ticks": ""
                          }
                        }
                      }
                    ],
                    "scatterpolar": [
                      {
                        "type": "scatterpolar",
                        "marker": {
                          "colorbar": {
                            "outlinewidth": 0,
                            "ticks": ""
                          }
                        }
                      }
                    ],
                    "histogram": [
                      {
                        "marker": {
                          "pattern": {
                            "fillmode": "overlay",
                            "size": 10,
                            "solidity": 0.2
                          }
                        },
                        "type": "histogram"
                      }
                    ],
                    "scattergl": [
                      {
                        "type": "scattergl",
                        "marker": {
                          "colorbar": {
                            "outlinewidth": 0,
                            "ticks": ""
                          }
                        }
                      }
                    ],
                    "scatter3d": [
                      {
                        "type": "scatter3d",
                        "line": {
                          "colorbar": {
                            "outlinewidth": 0,
                            "ticks": ""
                          }
                        },
                        "marker": {
                          "colorbar": {
                            "outlinewidth": 0,
                            "ticks": ""
                          }
                        }
                      }
                    ],
                    "scattermap": [
                      {
                        "type": "scattermap",
                        "marker": {
                          "colorbar": {
                            "outlinewidth": 0,
                            "ticks": ""
                          }
                        }
                      }
                    ],
                    "scattermapbox": [
                      {
                        "type": "scattermapbox",
                        "marker": {
                          "colorbar": {
                            "outlinewidth": 0,
                            "ticks": ""
                          }
                        }
                      }
                    ],
                    "scatterternary": [
                      {
                        "type": "scatterternary",
                        "marker": {
                          "colorbar": {
                            "outlinewidth": 0,
                            "ticks": ""
                          }
                        }
                      }
                    ],
                    "scattercarpet": [
                      {
                        "type": "scattercarpet",
                        "marker": {
                          "colorbar": {
                            "outlinewidth": 0,
                            "ticks": ""
                          }
                        }
                      }
                    ],
                    "carpet": [
                      {
                        "aaxis": {
                          "endlinecolor": "#2a3f5f",
                          "gridcolor": "white",
                          "linecolor": "white",
                          "minorgridcolor": "white",
                          "startlinecolor": "#2a3f5f"
                        },
                        "baxis": {
                          "endlinecolor": "#2a3f5f",
                          "gridcolor": "white",
                          "linecolor": "white",
                          "minorgridcolor": "white",
                          "startlinecolor": "#2a3f5f"
                        },
                        "type": "carpet"
                      }
                    ],
                    "table": [
                      {
                        "cells": {
                          "fill": {
                            "color": "#EBF0F8"
                          },
                          "line": {
                            "color": "white"
                          }
                        },
                        "header": {
                          "fill": {
                            "color": "#C8D4E3"
                          },
                          "line": {
                            "color": "white"
                          }
                        },
                        "type": "table"
                      }
                    ],
                    "barpolar": [
                      {
                        "marker": {
                          "line": {
                            "color": "#E5ECF6",
                            "width": 0.5
                          },
                          "pattern": {
                            "fillmode": "overlay",
                            "size": 10,
                            "solidity": 0.2
                          }
                        },
                        "type": "barpolar"
                      }
                    ],
                    "pie": [
                      {
                        "automargin": true,
                        "type": "pie"
                      }
                    ]
                  },
                  "layout": {
                    "autotypenumbers": "strict",
                    "colorway": [
                      "#636efa",
                      "#EF553B",
                      "#00cc96",
                      "#ab63fa",
                      "#FFA15A",
                      "#19d3f3",
                      "#FF6692",
                      "#B6E880",
                      "#FF97FF",
                      "#FECB52"
                    ],
                    "font": {
                      "color": "#2a3f5f"
                    },
                    "hovermode": "closest",
                    "hoverlabel": {
                      "align": "left"
                    },
                    "paper_bgcolor": "white",
                    "plot_bgcolor": "#E5ECF6",
                    "polar": {
                      "bgcolor": "#E5ECF6",
                      "angularaxis": {
                        "gridcolor": "white",
                        "linecolor": "white",
                        "ticks": ""
                      },
                      "radialaxis": {
                        "gridcolor": "white",
                        "linecolor": "white",
                        "ticks": ""
                      }
                    },
                    "ternary": {
                      "bgcolor": "#E5ECF6",
                      "aaxis": {
                        "gridcolor": "white",
                        "linecolor": "white",
                        "ticks": ""
                      },
                      "baxis": {
                        "gridcolor": "white",
                        "linecolor": "white",
                        "ticks": ""
                      },
                      "caxis": {
                        "gridcolor": "white",
                        "linecolor": "white",
                        "ticks": ""
                      }
                    },
                    "coloraxis": {
                      "colorbar": {
                        "outlinewidth": 0,
                        "ticks": ""
                      }
                    },
                    "colorscale": {
                      "sequential": [
                        [
                          0,
                          "#0d0887"
                        ],
                        [
                          0.1111111111111111,
                          "#46039f"
                        ],
                        [
                          0.2222222222222222,
                          "#7201a8"
                        ],
                        [
                          0.3333333333333333,
                          "#9c179e"
                        ],
                        [
                          0.4444444444444444,
                          "#bd3786"
                        ],
                        [
                          0.5555555555555556,
                          "#d8576b"
                        ],
                        [
                          0.6666666666666666,
                          "#ed7953"
                        ],
                        [
                          0.7777777777777778,
                          "#fb9f3a"
                        ],
                        [
                          0.8888888888888888,
                          "#fdca26"
                        ],
                        [
                          1,
                          "#f0f921"
                        ]
                      ],
                      "sequentialminus": [
                        [
                          0,
                          "#0d0887"
                        ],
                        [
                          0.1111111111111111,
                          "#46039f"
                        ],
                        [
                          0.2222222222222222,
                          "#7201a8"
                        ],
                        [
                          0.3333333333333333,
                          "#9c179e"
                        ],
                        [
                          0.4444444444444444,
                          "#bd3786"
                        ],
                        [
                          0.5555555555555556,
                          "#d8576b"
                        ],
                        [
                          0.6666666666666666,
                          "#ed7953"
                        ],
                        [
                          0.7777777777777778,
                          "#fb9f3a"
                        ],
                        [
                          0.8888888888888888,
                          "#fdca26"
                        ],
                        [
                          1,
                          "#f0f921"
                        ]
                      ],
                      "diverging": [
                        [
                          0,
                          "#8e0152"
                        ],
                        [
                          0.1,
                          "#c51b7d"
                        ],
                        [
                          0.2,
                          "#de77ae"
                        ],
                        [
                          0.3,
                          "#f1b6da"
                        ],
                        [
                          0.4,
                          "#fde0ef"
                        ],
                        [
                          0.5,
                          "#f7f7f7"
                        ],
                        [
                          0.6,
                          "#e6f5d0"
                        ],
                        [
                          0.7,
                          "#b8e186"
                        ],
                        [
                          0.8,
                          "#7fbc41"
                        ],
                        [
                          0.9,
                          "#4d9221"
                        ],
                        [
                          1,
                          "#276419"
                        ]
                      ]
                    },
                    "xaxis": {
                      "gridcolor": "white",
                      "linecolor": "white",
                      "ticks": "",
                      "title": {
                        "standoff": 15
                      },
                      "zerolinecolor": "white",
                      "automargin": true,
                      "zerolinewidth": 2
                    },
                    "yaxis": {
                      "gridcolor": "white",
                      "linecolor": "white",
                      "ticks": "",
                      "title": {
                        "standoff": 15
                      },
                      "zerolinecolor": "white",
                      "automargin": true,
                      "zerolinewidth": 2
                    },
                    "scene": {
                      "xaxis": {
                        "backgroundcolor": "#E5ECF6",
                        "gridcolor": "white",
                        "linecolor": "white",
                        "showbackground": true,
                        "ticks": "",
                        "zerolinecolor": "white",
                        "gridwidth": 2
                      },
                      "yaxis": {
                        "backgroundcolor": "#E5ECF6",
                        "gridcolor": "white",
                        "linecolor": "white",
                        "showbackground": true,
                        "ticks": "",
                        "zerolinecolor": "white",
                        "gridwidth": 2
                      },
                      "zaxis": {
                        "backgroundcolor": "#E5ECF6",
                        "gridcolor": "white",
                        "linecolor": "white",
                        "showbackground": true,
                        "ticks": "",
                        "zerolinecolor": "white",
                        "gridwidth": 2
                      }
                    },
                    "shapedefaults": {
                      "line": {
                        "color": "#2a3f5f"
                      }
                    },
                    "annotationdefaults": {
                      "arrowcolor": "#2a3f5f",
                      "arrowhead": 0,
                      "arrowwidth": 1
                    },
                    "geo": {
                      "bgcolor": "white",
                      "landcolor": "#E5ECF6",
                      "subunitcolor": "white",
                      "showland": true,
                      "showlakes": true,
                      "lakecolor": "white"
                    },
                    "title": {
                      "x": 0.05
                    },
                    "mapbox": {
                      "style": "light"
                    }
                  }
                }
              },
              "config": {
                "plotlyServerURL": "https://plot.ly"
              }
            },
            "text/html": [
              "<div>            <script src=\"https://cdnjs.cloudflare.com/ajax/libs/mathjax/2.7.5/MathJax.js?config=TeX-AMS-MML_SVG\"></script><script type=\"text/javascript\">if (window.MathJax && window.MathJax.Hub && window.MathJax.Hub.Config) {window.MathJax.Hub.Config({SVG: {font: \"STIX-Web\"}});}</script>                <script type=\"text/javascript\">window.PlotlyConfig = {MathJaxConfig: 'local'};</script>\n",
              "        <script charset=\"utf-8\" src=\"https://cdn.plot.ly/plotly-3.0.0.min.js\"></script>                <div id=\"15759a00-e6aa-4fc4-8ee7-475ed42495a3\" class=\"plotly-graph-div\" style=\"height:525px; width:100%;\"></div>            <script type=\"text/javascript\">                window.PLOTLYENV=window.PLOTLYENV || {};                                if (document.getElementById(\"15759a00-e6aa-4fc4-8ee7-475ed42495a3\")) {                    Plotly.newPlot(                        \"15759a00-e6aa-4fc4-8ee7-475ed42495a3\",                        [{\"name\":\"A\",\"y\":{\"dtype\":\"f8\",\"bdata\":\"8t4CDEstHEAw2o3MscIdQGOrQS9GYiRAgyxitwF9JECJpFBwjf0nQAGaMfKggCpAjvFNAtRsLUCAt\\u002fSGc0EuQI7pXl6HpC9Azn+0ak3oMEDiQ7rgt2AwQL+XZDjOaTBAXDUxEWU9MUD+HkTfQMowQJ4TjN2TqjFAnmaZQ3dvMUA3dYtwVN4xQBa2CqcQ+zFALqReB2sDMkAQS+fANh8yQI4a3dLI8TNAvvx7BUM0NkByr6wmkkc1QDDl6kGNjzZAumfgIs10N0BFrUFGqEs2QFtIJ0FDGTZA3EYDoQo6N0BizwBRq6Q4QACHah\\u002fOFjhAmNzyQU5DN0BgWxREwBQ3QG017ThkNTVAvvVNGV9HNUD+csE9qEk2QI2In4InfTZAKk4Lc8GDNkCS8zdG6mc2QAflYPxj0TRAHGzUptpANEDVvp9fXqk0QBsxBMU6nDRAnLPqM0LmNEDa37rwtkY1QDw4ewoU4jVAHI9i8DvINkDknQx9\\u002fy04QGL7aekMpzdA7nk54YKzOUAwi+S\\u002fWcg7QKOkJlzVmD1AHnm5qEo5P0Ae18Ef4BhAQFmyrKGifD9AnBdrF0hdP0CLdJ+kacY9QNsm7SP4cD5AUsQkxpz3PkCj5u+ebE09QHeXLY5q2DxAQBh55eNmO0D5JwI6lJo8QCCtoCzDdjtAAgp1cbBgPEB4575d7Sg7QP74KOWJMDtARCVv5HMQPEBRUd1GL288QPRcS8Ck1DxAHVCHDF\\u002f1PEAD8Jp9VPI8QE8NbO52bDxAzNvhbG6vPkApg73wGNA\\u002fQHSmRr+LZUBA38\\u002fn4t31P0Bbj5CAdA1BQFfeWo9rPEFARkU1om19QUDQY664C5xBQE84XkaW3UFAO1RvPugXQUB4XcDmqKVAQFLgqHvAn0BAJg0S1tyUQEDmIoRVhrw+QAQWmxswYz1AS0dUOxfhPEDvjw6sni8+QNxCjLZg5j1AvOXo\\u002fG50PUBn17YKc5s8QOwYChL2lz1At5rCZNBdPEAE3mQ00CI8QMxPNETcGTtA\\u002fn77hDbAOkAcD6V+04k5QBS\\u002fmxw1wzpAwrGa0loDO0A=\"},\"type\":\"bar\"},{\"name\":\"B\",\"y\":{\"dtype\":\"f8\",\"bdata\":\"TBCqir\\u002fJNUCkYIiW1js3QLG75MVdvzhAxXQot6JqOkAumTti1B48QC5oXrSmcjtAtHpsa4lfOkBF4IMn3qQ6QDg2QvxstDhAhnNFKnumN0BmYuyWPh82QD6ddvDhKzVAhU8C371kNEBRBoEb\\u002f00zQGVCWAGv1TNA0aYnZC3dM0BW2HwhO9UzQMws+EkwiTJAdfyjcrs0MkC6Cs7CKfswQLlDf8k0NzBA1itYxn2bMEAsZfFlpu8wQB91Upx4FTBA0O98UADGMEBgd9YcbEUwQMa1n2bEyDFA60btGZOFMUDEarOCINMxQPevSglcNTBAYgQx\\u002feBvMUBq85QHgJ0yQEUZcr4BiDJAUStJZ\\u002f33MEAv512rZIkyQItu4CiINjNApplt12iKM0DW\\u002fsfTJfYyQOF9X0UYGTJA4R9FhC9rMUAWTTWel9AwQKN+dHhbSjBAqD2VajynK0DcsWbxqEwpQHCbaSKx8ihAcxdEJZSGJ0DbiSd87z4pQF7mK3nUDypApHzeZih5J0BnDuRxM0wrQEHOtkuG+yxAiIPROKzGKUCoKMDyY94rQDOMDDq4cS5A6Lp6TkFnLUBSzO21TTEtQMM0MvZI8CxAFwHdSu5ZLUDq1c4TlrgsQAR\\u002fjNKh9ixAfMVPNWUKLEDeMdBEAQksQABmPVhP6ShAyZtLzbEVK0BAnIdKKTIrQGIXo7nk0SVAkfc0pLVUJEDdidTgdI0kQGI0++2\\u002fNCVAryTcZICxJUBrVOf+TosoQGqlUV6l4ihA1GV\\u002ffH5WLEC6x12ImOsqQN5ouWNlLypAEhMmo6xIKECAZhQOIW4qQKw0N+Zb8ipAMBTer4QTLEDs4gFkVI0vQKejcFOF9DBAFVqN+xEGMUC04QVg7SY0QAaK+nUQWzNAMeJcWQOFNEAAH+Xab7I1QNzUx9+aQzVAc4XP04lGNECqTftDjhw2QCMJS00EkjRAbZoov8n9MkDMffTDr4szQKcqtB5j\\u002fTJA3LluJhavM0BrzJ8aonU0QB0I9ApzejRAgSYNyQi2M0AiihIc5a8yQNDK4yppbDFAFxrhmMc7MkA=\"},\"type\":\"bar\"},{\"name\":\"C\",\"y\":{\"dtype\":\"f8\",\"bdata\":\"wvrAwyyIPkBQqkLNeFs\\u002fQEZiPKoA4T1ABsJBkWeRPkBN7l01Woc\\u002fQPm8Co\\u002fvgEBANDJOhrsPQUBrF54k\\u002ft1AQNbXBF1lhUFAd7LKr0xvQkBAo2pV03hCQDUUoFOsPEJAi+tePv35QkDU+gl54ZBDQL4Kp5y\\u002f10NAstmRuEgZREBgNGdBR7NDQGoeTXNP3UJA8BXBD+iLQkBb+A82a5NCQPeN9y4280JAfI07GWzaQkDgKu1JuupCQE10VXqnskJAKz8nxYz3QUDu4p+XUilCQLe1XcCdcEJAY9We1xWIQkAtGkpcTPZDQPQktQjL5kNALteF3aTCQ0Dvp\\u002fxNZz1DQANM7OGzC0NAttIukJGbQkBB9A12LapCQFsA7NmtAENAK2JlTj1+Q0AuXqngd0REQJ30Z3tWrkRAdI5Ov4xZREB4w0RNmvVDQLg5u10ru0NAjvHg33i7Q0AQEFOweKxDQOVLBCP\\u002fCkNAJJ\\u002fVqa2sQkCZ+Z4iTn5DQAqtLfK0aENAgqWLDvyQQkDb5xFdXNhCQHIujHrqWENAmoQ3P\\u002fo7Q0AT0UnrlqdCQJkHCiNqEUJAK3\\u002fIjpNvQkAFrFszL6JCQFo9eBZFR0JA4wXqXrlMQkCbhe\\u002frbIhCQB4L4TBqxUFA3wdTMrHMQUAUMuLiGcxAQBP3WHldPkFAH2OzK04ZQUAiQdvEg5lAQI7jsFssuUBA1+3mj52sQEAguNlFfiBBQJMEjsEOAkFAQfbnLK52QUC80P4MBZdBQG5YHm3SakFAqFDBSSSUQEC2Xk6M2MJAQGtfPqwrtT9ACaLZiV+5QEBMV76Fx\\u002f1AQGEMJKCGJEBAJL8GTD1aPkD6f5rMml9AQNZPTj0Zy0BAFV5JFmTnQEAvsBA7NvtAQBDjQsC9MEFAeOneqVV2QUB3gp0YtohBQL52sfKNdkFAtmU1RLW5QUDCc1q1GD5CQJZUH7gHW0JAl3NKEhhqQkAlSQ+87DpCQJiUCL4fAEJAnHCj\\u002fsSQQkCOfTGin\\u002fVCQIwOpljn9UJA06Tb7ECJQ0C4s4CTpLZDQKHQFX\\u002f7\\u002f0RAXjG5RcagRUA=\"},\"type\":\"bar\"}],                        {\"bargap\":0.5,\"barmode\":\"stack\",\"title\":{\"text\":\"Bar Plot (space Theme)\"},\"template\":{\"data\":{\"histogram2dcontour\":[{\"type\":\"histogram2dcontour\",\"colorbar\":{\"outlinewidth\":0,\"ticks\":\"\"},\"colorscale\":[[0.0,\"#0d0887\"],[0.1111111111111111,\"#46039f\"],[0.2222222222222222,\"#7201a8\"],[0.3333333333333333,\"#9c179e\"],[0.4444444444444444,\"#bd3786\"],[0.5555555555555556,\"#d8576b\"],[0.6666666666666666,\"#ed7953\"],[0.7777777777777778,\"#fb9f3a\"],[0.8888888888888888,\"#fdca26\"],[1.0,\"#f0f921\"]]}],\"choropleth\":[{\"type\":\"choropleth\",\"colorbar\":{\"outlinewidth\":0,\"ticks\":\"\"}}],\"histogram2d\":[{\"type\":\"histogram2d\",\"colorbar\":{\"outlinewidth\":0,\"ticks\":\"\"},\"colorscale\":[[0.0,\"#0d0887\"],[0.1111111111111111,\"#46039f\"],[0.2222222222222222,\"#7201a8\"],[0.3333333333333333,\"#9c179e\"],[0.4444444444444444,\"#bd3786\"],[0.5555555555555556,\"#d8576b\"],[0.6666666666666666,\"#ed7953\"],[0.7777777777777778,\"#fb9f3a\"],[0.8888888888888888,\"#fdca26\"],[1.0,\"#f0f921\"]]}],\"heatmap\":[{\"type\":\"heatmap\",\"colorbar\":{\"outlinewidth\":0,\"ticks\":\"\"},\"colorscale\":[[0.0,\"#0d0887\"],[0.1111111111111111,\"#46039f\"],[0.2222222222222222,\"#7201a8\"],[0.3333333333333333,\"#9c179e\"],[0.4444444444444444,\"#bd3786\"],[0.5555555555555556,\"#d8576b\"],[0.6666666666666666,\"#ed7953\"],[0.7777777777777778,\"#fb9f3a\"],[0.8888888888888888,\"#fdca26\"],[1.0,\"#f0f921\"]]}],\"contourcarpet\":[{\"type\":\"contourcarpet\",\"colorbar\":{\"outlinewidth\":0,\"ticks\":\"\"}}],\"contour\":[{\"type\":\"contour\",\"colorbar\":{\"outlinewidth\":0,\"ticks\":\"\"},\"colorscale\":[[0.0,\"#0d0887\"],[0.1111111111111111,\"#46039f\"],[0.2222222222222222,\"#7201a8\"],[0.3333333333333333,\"#9c179e\"],[0.4444444444444444,\"#bd3786\"],[0.5555555555555556,\"#d8576b\"],[0.6666666666666666,\"#ed7953\"],[0.7777777777777778,\"#fb9f3a\"],[0.8888888888888888,\"#fdca26\"],[1.0,\"#f0f921\"]]}],\"surface\":[{\"type\":\"surface\",\"colorbar\":{\"outlinewidth\":0,\"ticks\":\"\"},\"colorscale\":[[0.0,\"#0d0887\"],[0.1111111111111111,\"#46039f\"],[0.2222222222222222,\"#7201a8\"],[0.3333333333333333,\"#9c179e\"],[0.4444444444444444,\"#bd3786\"],[0.5555555555555556,\"#d8576b\"],[0.6666666666666666,\"#ed7953\"],[0.7777777777777778,\"#fb9f3a\"],[0.8888888888888888,\"#fdca26\"],[1.0,\"#f0f921\"]]}],\"mesh3d\":[{\"type\":\"mesh3d\",\"colorbar\":{\"outlinewidth\":0,\"ticks\":\"\"}}],\"scatter\":[{\"fillpattern\":{\"fillmode\":\"overlay\",\"size\":10,\"solidity\":0.2},\"type\":\"scatter\"}],\"parcoords\":[{\"type\":\"parcoords\",\"line\":{\"colorbar\":{\"outlinewidth\":0,\"ticks\":\"\"}}}],\"scatterpolargl\":[{\"type\":\"scatterpolargl\",\"marker\":{\"colorbar\":{\"outlinewidth\":0,\"ticks\":\"\"}}}],\"bar\":[{\"error_x\":{\"color\":\"#2a3f5f\"},\"error_y\":{\"color\":\"#2a3f5f\"},\"marker\":{\"line\":{\"color\":\"#E5ECF6\",\"width\":0.5},\"pattern\":{\"fillmode\":\"overlay\",\"size\":10,\"solidity\":0.2}},\"type\":\"bar\"}],\"scattergeo\":[{\"type\":\"scattergeo\",\"marker\":{\"colorbar\":{\"outlinewidth\":0,\"ticks\":\"\"}}}],\"scatterpolar\":[{\"type\":\"scatterpolar\",\"marker\":{\"colorbar\":{\"outlinewidth\":0,\"ticks\":\"\"}}}],\"histogram\":[{\"marker\":{\"pattern\":{\"fillmode\":\"overlay\",\"size\":10,\"solidity\":0.2}},\"type\":\"histogram\"}],\"scattergl\":[{\"type\":\"scattergl\",\"marker\":{\"colorbar\":{\"outlinewidth\":0,\"ticks\":\"\"}}}],\"scatter3d\":[{\"type\":\"scatter3d\",\"line\":{\"colorbar\":{\"outlinewidth\":0,\"ticks\":\"\"}},\"marker\":{\"colorbar\":{\"outlinewidth\":0,\"ticks\":\"\"}}}],\"scattermap\":[{\"type\":\"scattermap\",\"marker\":{\"colorbar\":{\"outlinewidth\":0,\"ticks\":\"\"}}}],\"scattermapbox\":[{\"type\":\"scattermapbox\",\"marker\":{\"colorbar\":{\"outlinewidth\":0,\"ticks\":\"\"}}}],\"scatterternary\":[{\"type\":\"scatterternary\",\"marker\":{\"colorbar\":{\"outlinewidth\":0,\"ticks\":\"\"}}}],\"scattercarpet\":[{\"type\":\"scattercarpet\",\"marker\":{\"colorbar\":{\"outlinewidth\":0,\"ticks\":\"\"}}}],\"carpet\":[{\"aaxis\":{\"endlinecolor\":\"#2a3f5f\",\"gridcolor\":\"white\",\"linecolor\":\"white\",\"minorgridcolor\":\"white\",\"startlinecolor\":\"#2a3f5f\"},\"baxis\":{\"endlinecolor\":\"#2a3f5f\",\"gridcolor\":\"white\",\"linecolor\":\"white\",\"minorgridcolor\":\"white\",\"startlinecolor\":\"#2a3f5f\"},\"type\":\"carpet\"}],\"table\":[{\"cells\":{\"fill\":{\"color\":\"#EBF0F8\"},\"line\":{\"color\":\"white\"}},\"header\":{\"fill\":{\"color\":\"#C8D4E3\"},\"line\":{\"color\":\"white\"}},\"type\":\"table\"}],\"barpolar\":[{\"marker\":{\"line\":{\"color\":\"#E5ECF6\",\"width\":0.5},\"pattern\":{\"fillmode\":\"overlay\",\"size\":10,\"solidity\":0.2}},\"type\":\"barpolar\"}],\"pie\":[{\"automargin\":true,\"type\":\"pie\"}]},\"layout\":{\"autotypenumbers\":\"strict\",\"colorway\":[\"#636efa\",\"#EF553B\",\"#00cc96\",\"#ab63fa\",\"#FFA15A\",\"#19d3f3\",\"#FF6692\",\"#B6E880\",\"#FF97FF\",\"#FECB52\"],\"font\":{\"color\":\"#2a3f5f\"},\"hovermode\":\"closest\",\"hoverlabel\":{\"align\":\"left\"},\"paper_bgcolor\":\"white\",\"plot_bgcolor\":\"#E5ECF6\",\"polar\":{\"bgcolor\":\"#E5ECF6\",\"angularaxis\":{\"gridcolor\":\"white\",\"linecolor\":\"white\",\"ticks\":\"\"},\"radialaxis\":{\"gridcolor\":\"white\",\"linecolor\":\"white\",\"ticks\":\"\"}},\"ternary\":{\"bgcolor\":\"#E5ECF6\",\"aaxis\":{\"gridcolor\":\"white\",\"linecolor\":\"white\",\"ticks\":\"\"},\"baxis\":{\"gridcolor\":\"white\",\"linecolor\":\"white\",\"ticks\":\"\"},\"caxis\":{\"gridcolor\":\"white\",\"linecolor\":\"white\",\"ticks\":\"\"}},\"coloraxis\":{\"colorbar\":{\"outlinewidth\":0,\"ticks\":\"\"}},\"colorscale\":{\"sequential\":[[0.0,\"#0d0887\"],[0.1111111111111111,\"#46039f\"],[0.2222222222222222,\"#7201a8\"],[0.3333333333333333,\"#9c179e\"],[0.4444444444444444,\"#bd3786\"],[0.5555555555555556,\"#d8576b\"],[0.6666666666666666,\"#ed7953\"],[0.7777777777777778,\"#fb9f3a\"],[0.8888888888888888,\"#fdca26\"],[1.0,\"#f0f921\"]],\"sequentialminus\":[[0.0,\"#0d0887\"],[0.1111111111111111,\"#46039f\"],[0.2222222222222222,\"#7201a8\"],[0.3333333333333333,\"#9c179e\"],[0.4444444444444444,\"#bd3786\"],[0.5555555555555556,\"#d8576b\"],[0.6666666666666666,\"#ed7953\"],[0.7777777777777778,\"#fb9f3a\"],[0.8888888888888888,\"#fdca26\"],[1.0,\"#f0f921\"]],\"diverging\":[[0,\"#8e0152\"],[0.1,\"#c51b7d\"],[0.2,\"#de77ae\"],[0.3,\"#f1b6da\"],[0.4,\"#fde0ef\"],[0.5,\"#f7f7f7\"],[0.6,\"#e6f5d0\"],[0.7,\"#b8e186\"],[0.8,\"#7fbc41\"],[0.9,\"#4d9221\"],[1,\"#276419\"]]},\"xaxis\":{\"gridcolor\":\"white\",\"linecolor\":\"white\",\"ticks\":\"\",\"title\":{\"standoff\":15},\"zerolinecolor\":\"white\",\"automargin\":true,\"zerolinewidth\":2},\"yaxis\":{\"gridcolor\":\"white\",\"linecolor\":\"white\",\"ticks\":\"\",\"title\":{\"standoff\":15},\"zerolinecolor\":\"white\",\"automargin\":true,\"zerolinewidth\":2},\"scene\":{\"xaxis\":{\"backgroundcolor\":\"#E5ECF6\",\"gridcolor\":\"white\",\"linecolor\":\"white\",\"showbackground\":true,\"ticks\":\"\",\"zerolinecolor\":\"white\",\"gridwidth\":2},\"yaxis\":{\"backgroundcolor\":\"#E5ECF6\",\"gridcolor\":\"white\",\"linecolor\":\"white\",\"showbackground\":true,\"ticks\":\"\",\"zerolinecolor\":\"white\",\"gridwidth\":2},\"zaxis\":{\"backgroundcolor\":\"#E5ECF6\",\"gridcolor\":\"white\",\"linecolor\":\"white\",\"showbackground\":true,\"ticks\":\"\",\"zerolinecolor\":\"white\",\"gridwidth\":2}},\"shapedefaults\":{\"line\":{\"color\":\"#2a3f5f\"}},\"annotationdefaults\":{\"arrowcolor\":\"#2a3f5f\",\"arrowhead\":0,\"arrowwidth\":1},\"geo\":{\"bgcolor\":\"white\",\"landcolor\":\"#E5ECF6\",\"subunitcolor\":\"white\",\"showland\":true,\"showlakes\":true,\"lakecolor\":\"white\"},\"title\":{\"x\":0.05},\"mapbox\":{\"style\":\"light\"}}}},                        {\"responsive\": true}                    ).then(function(){\n",
              "                            \n",
              "var gd = document.getElementById('15759a00-e6aa-4fc4-8ee7-475ed42495a3');\n",
              "var x = new MutationObserver(function (mutations, observer) {{\n",
              "        var display = window.getComputedStyle(gd).display;\n",
              "        if (!display || display === 'none') {{\n",
              "            console.log([gd, 'removed!']);\n",
              "            Plotly.purge(gd);\n",
              "            observer.disconnect();\n",
              "        }}\n",
              "}});\n",
              "\n",
              "// Listen for the removal of the full notebook cells\n",
              "var notebookContainer = gd.closest('#notebook-container');\n",
              "if (notebookContainer) {{\n",
              "    x.observe(notebookContainer, {childList: true});\n",
              "}}\n",
              "\n",
              "// Listen for the clearing of the current output cell\n",
              "var outputEl = gd.closest('.output');\n",
              "if (outputEl) {{\n",
              "    x.observe(outputEl, {childList: true});\n",
              "}}\n",
              "\n",
              "                        })                };            </script>        </div>"
            ]
          },
          "metadata": {}
        }
      ]
    },
    {
      "cell_type": "markdown",
      "source": [
        "##Stacked Bar Chart\n"
      ],
      "metadata": {
        "id": "KNUvj7YZi9Ej"
      },
      "id": "KNUvj7YZi9Ej"
    },
    {
      "cell_type": "code",
      "execution_count": 94,
      "id": "525935d3-bc1f-4729-a84c-2f4ccb7e1f7a",
      "metadata": {
        "colab": {
          "base_uri": "https://localhost:8080/",
          "height": 542
        },
        "id": "525935d3-bc1f-4729-a84c-2f4ccb7e1f7a",
        "outputId": "69630ec0-a9b8-4d79-dba6-60bb26ca346c"
      },
      "outputs": [
        {
          "output_type": "display_data",
          "data": {
            "application/vnd.plotly.v1+json": {
              "data": [
                {
                  "name": "A",
                  "y": {
                    "dtype": "f8",
                    "bdata": "8t4CDEstHEAw2o3MscIdQGOrQS9GYiRAgyxitwF9JECJpFBwjf0nQAGaMfKggCpAjvFNAtRsLUCAt/SGc0EuQI7pXl6HpC9Azn+0ak3oMEDiQ7rgt2AwQL+XZDjOaTBAXDUxEWU9MUD+HkTfQMowQJ4TjN2TqjFAnmaZQ3dvMUA3dYtwVN4xQBa2CqcQ+zFALqReB2sDMkAQS+fANh8yQI4a3dLI8TNAvvx7BUM0NkByr6wmkkc1QDDl6kGNjzZAumfgIs10N0BFrUFGqEs2QFtIJ0FDGTZA3EYDoQo6N0BizwBRq6Q4QACHah/OFjhAmNzyQU5DN0BgWxREwBQ3QG017ThkNTVAvvVNGV9HNUD+csE9qEk2QI2In4InfTZAKk4Lc8GDNkCS8zdG6mc2QAflYPxj0TRAHGzUptpANEDVvp9fXqk0QBsxBMU6nDRAnLPqM0LmNEDa37rwtkY1QDw4ewoU4jVAHI9i8DvINkDknQx9/y04QGL7aekMpzdA7nk54YKzOUAwi+S/Wcg7QKOkJlzVmD1AHnm5qEo5P0Ae18Ef4BhAQFmyrKGifD9AnBdrF0hdP0CLdJ+kacY9QNsm7SP4cD5AUsQkxpz3PkCj5u+ebE09QHeXLY5q2DxAQBh55eNmO0D5JwI6lJo8QCCtoCzDdjtAAgp1cbBgPEB4575d7Sg7QP74KOWJMDtARCVv5HMQPEBRUd1GL288QPRcS8Ck1DxAHVCHDF/1PEAD8Jp9VPI8QE8NbO52bDxAzNvhbG6vPkApg73wGNA/QHSmRr+LZUBA38/n4t31P0Bbj5CAdA1BQFfeWo9rPEFARkU1om19QUDQY664C5xBQE84XkaW3UFAO1RvPugXQUB4XcDmqKVAQFLgqHvAn0BAJg0S1tyUQEDmIoRVhrw+QAQWmxswYz1AS0dUOxfhPEDvjw6sni8+QNxCjLZg5j1AvOXo/G50PUBn17YKc5s8QOwYChL2lz1At5rCZNBdPEAE3mQ00CI8QMxPNETcGTtA/n77hDbAOkAcD6V+04k5QBS/mxw1wzpAwrGa0loDO0A="
                  },
                  "type": "bar"
                },
                {
                  "name": "B",
                  "y": {
                    "dtype": "f8",
                    "bdata": "TBCqir/JNUCkYIiW1js3QLG75MVdvzhAxXQot6JqOkAumTti1B48QC5oXrSmcjtAtHpsa4lfOkBF4IMn3qQ6QDg2QvxstDhAhnNFKnumN0BmYuyWPh82QD6ddvDhKzVAhU8C371kNEBRBoEb/00zQGVCWAGv1TNA0aYnZC3dM0BW2HwhO9UzQMws+EkwiTJAdfyjcrs0MkC6Cs7CKfswQLlDf8k0NzBA1itYxn2bMEAsZfFlpu8wQB91Upx4FTBA0O98UADGMEBgd9YcbEUwQMa1n2bEyDFA60btGZOFMUDEarOCINMxQPevSglcNTBAYgQx/eBvMUBq85QHgJ0yQEUZcr4BiDJAUStJZ/33MEAv512rZIkyQItu4CiINjNApplt12iKM0DW/sfTJfYyQOF9X0UYGTJA4R9FhC9rMUAWTTWel9AwQKN+dHhbSjBAqD2VajynK0DcsWbxqEwpQHCbaSKx8ihAcxdEJZSGJ0DbiSd87z4pQF7mK3nUDypApHzeZih5J0BnDuRxM0wrQEHOtkuG+yxAiIPROKzGKUCoKMDyY94rQDOMDDq4cS5A6Lp6TkFnLUBSzO21TTEtQMM0MvZI8CxAFwHdSu5ZLUDq1c4TlrgsQAR/jNKh9ixAfMVPNWUKLEDeMdBEAQksQABmPVhP6ShAyZtLzbEVK0BAnIdKKTIrQGIXo7nk0SVAkfc0pLVUJEDdidTgdI0kQGI0++2/NCVAryTcZICxJUBrVOf+TosoQGqlUV6l4ihA1GV/fH5WLEC6x12ImOsqQN5ouWNlLypAEhMmo6xIKECAZhQOIW4qQKw0N+Zb8ipAMBTer4QTLEDs4gFkVI0vQKejcFOF9DBAFVqN+xEGMUC04QVg7SY0QAaK+nUQWzNAMeJcWQOFNEAAH+Xab7I1QNzUx9+aQzVAc4XP04lGNECqTftDjhw2QCMJS00EkjRAbZoov8n9MkDMffTDr4szQKcqtB5j/TJA3LluJhavM0BrzJ8aonU0QB0I9ApzejRAgSYNyQi2M0AiihIc5a8yQNDK4yppbDFAFxrhmMc7MkA="
                  },
                  "type": "bar"
                },
                {
                  "name": "C",
                  "y": {
                    "dtype": "f8",
                    "bdata": "wvrAwyyIPkBQqkLNeFs/QEZiPKoA4T1ABsJBkWeRPkBN7l01Woc/QPm8Co/vgEBANDJOhrsPQUBrF54k/t1AQNbXBF1lhUFAd7LKr0xvQkBAo2pV03hCQDUUoFOsPEJAi+tePv35QkDU+gl54ZBDQL4Kp5y/10NAstmRuEgZREBgNGdBR7NDQGoeTXNP3UJA8BXBD+iLQkBb+A82a5NCQPeN9y4280JAfI07GWzaQkDgKu1JuupCQE10VXqnskJAKz8nxYz3QUDu4p+XUilCQLe1XcCdcEJAY9We1xWIQkAtGkpcTPZDQPQktQjL5kNALteF3aTCQ0Dvp/xNZz1DQANM7OGzC0NAttIukJGbQkBB9A12LapCQFsA7NmtAENAK2JlTj1+Q0AuXqngd0REQJ30Z3tWrkRAdI5Ov4xZREB4w0RNmvVDQLg5u10ru0NAjvHg33i7Q0AQEFOweKxDQOVLBCP/CkNAJJ/Vqa2sQkCZ+Z4iTn5DQAqtLfK0aENAgqWLDvyQQkDb5xFdXNhCQHIujHrqWENAmoQ3P/o7Q0AT0UnrlqdCQJkHCiNqEUJAK3/IjpNvQkAFrFszL6JCQFo9eBZFR0JA4wXqXrlMQkCbhe/rbIhCQB4L4TBqxUFA3wdTMrHMQUAUMuLiGcxAQBP3WHldPkFAH2OzK04ZQUAiQdvEg5lAQI7jsFssuUBA1+3mj52sQEAguNlFfiBBQJMEjsEOAkFAQfbnLK52QUC80P4MBZdBQG5YHm3SakFAqFDBSSSUQEC2Xk6M2MJAQGtfPqwrtT9ACaLZiV+5QEBMV76Fx/1AQGEMJKCGJEBAJL8GTD1aPkD6f5rMml9AQNZPTj0Zy0BAFV5JFmTnQEAvsBA7NvtAQBDjQsC9MEFAeOneqVV2QUB3gp0YtohBQL52sfKNdkFAtmU1RLW5QUDCc1q1GD5CQJZUH7gHW0JAl3NKEhhqQkAlSQ+87DpCQJiUCL4fAEJAnHCj/sSQQkCOfTGin/VCQIwOpljn9UJA06Tb7ECJQ0C4s4CTpLZDQKHQFX/7/0RAXjG5RcagRUA="
                  },
                  "type": "bar"
                }
              ],
              "layout": {
                "bargap": 0.5,
                "barmode": "stack",
                "title": {
                  "text": "Bar Grafiği"
                },
                "template": {
                  "data": {
                    "histogram2dcontour": [
                      {
                        "type": "histogram2dcontour",
                        "colorbar": {
                          "outlinewidth": 0,
                          "ticks": ""
                        },
                        "colorscale": [
                          [
                            0,
                            "#0d0887"
                          ],
                          [
                            0.1111111111111111,
                            "#46039f"
                          ],
                          [
                            0.2222222222222222,
                            "#7201a8"
                          ],
                          [
                            0.3333333333333333,
                            "#9c179e"
                          ],
                          [
                            0.4444444444444444,
                            "#bd3786"
                          ],
                          [
                            0.5555555555555556,
                            "#d8576b"
                          ],
                          [
                            0.6666666666666666,
                            "#ed7953"
                          ],
                          [
                            0.7777777777777778,
                            "#fb9f3a"
                          ],
                          [
                            0.8888888888888888,
                            "#fdca26"
                          ],
                          [
                            1,
                            "#f0f921"
                          ]
                        ]
                      }
                    ],
                    "choropleth": [
                      {
                        "type": "choropleth",
                        "colorbar": {
                          "outlinewidth": 0,
                          "ticks": ""
                        }
                      }
                    ],
                    "histogram2d": [
                      {
                        "type": "histogram2d",
                        "colorbar": {
                          "outlinewidth": 0,
                          "ticks": ""
                        },
                        "colorscale": [
                          [
                            0,
                            "#0d0887"
                          ],
                          [
                            0.1111111111111111,
                            "#46039f"
                          ],
                          [
                            0.2222222222222222,
                            "#7201a8"
                          ],
                          [
                            0.3333333333333333,
                            "#9c179e"
                          ],
                          [
                            0.4444444444444444,
                            "#bd3786"
                          ],
                          [
                            0.5555555555555556,
                            "#d8576b"
                          ],
                          [
                            0.6666666666666666,
                            "#ed7953"
                          ],
                          [
                            0.7777777777777778,
                            "#fb9f3a"
                          ],
                          [
                            0.8888888888888888,
                            "#fdca26"
                          ],
                          [
                            1,
                            "#f0f921"
                          ]
                        ]
                      }
                    ],
                    "heatmap": [
                      {
                        "type": "heatmap",
                        "colorbar": {
                          "outlinewidth": 0,
                          "ticks": ""
                        },
                        "colorscale": [
                          [
                            0,
                            "#0d0887"
                          ],
                          [
                            0.1111111111111111,
                            "#46039f"
                          ],
                          [
                            0.2222222222222222,
                            "#7201a8"
                          ],
                          [
                            0.3333333333333333,
                            "#9c179e"
                          ],
                          [
                            0.4444444444444444,
                            "#bd3786"
                          ],
                          [
                            0.5555555555555556,
                            "#d8576b"
                          ],
                          [
                            0.6666666666666666,
                            "#ed7953"
                          ],
                          [
                            0.7777777777777778,
                            "#fb9f3a"
                          ],
                          [
                            0.8888888888888888,
                            "#fdca26"
                          ],
                          [
                            1,
                            "#f0f921"
                          ]
                        ]
                      }
                    ],
                    "contourcarpet": [
                      {
                        "type": "contourcarpet",
                        "colorbar": {
                          "outlinewidth": 0,
                          "ticks": ""
                        }
                      }
                    ],
                    "contour": [
                      {
                        "type": "contour",
                        "colorbar": {
                          "outlinewidth": 0,
                          "ticks": ""
                        },
                        "colorscale": [
                          [
                            0,
                            "#0d0887"
                          ],
                          [
                            0.1111111111111111,
                            "#46039f"
                          ],
                          [
                            0.2222222222222222,
                            "#7201a8"
                          ],
                          [
                            0.3333333333333333,
                            "#9c179e"
                          ],
                          [
                            0.4444444444444444,
                            "#bd3786"
                          ],
                          [
                            0.5555555555555556,
                            "#d8576b"
                          ],
                          [
                            0.6666666666666666,
                            "#ed7953"
                          ],
                          [
                            0.7777777777777778,
                            "#fb9f3a"
                          ],
                          [
                            0.8888888888888888,
                            "#fdca26"
                          ],
                          [
                            1,
                            "#f0f921"
                          ]
                        ]
                      }
                    ],
                    "surface": [
                      {
                        "type": "surface",
                        "colorbar": {
                          "outlinewidth": 0,
                          "ticks": ""
                        },
                        "colorscale": [
                          [
                            0,
                            "#0d0887"
                          ],
                          [
                            0.1111111111111111,
                            "#46039f"
                          ],
                          [
                            0.2222222222222222,
                            "#7201a8"
                          ],
                          [
                            0.3333333333333333,
                            "#9c179e"
                          ],
                          [
                            0.4444444444444444,
                            "#bd3786"
                          ],
                          [
                            0.5555555555555556,
                            "#d8576b"
                          ],
                          [
                            0.6666666666666666,
                            "#ed7953"
                          ],
                          [
                            0.7777777777777778,
                            "#fb9f3a"
                          ],
                          [
                            0.8888888888888888,
                            "#fdca26"
                          ],
                          [
                            1,
                            "#f0f921"
                          ]
                        ]
                      }
                    ],
                    "mesh3d": [
                      {
                        "type": "mesh3d",
                        "colorbar": {
                          "outlinewidth": 0,
                          "ticks": ""
                        }
                      }
                    ],
                    "scatter": [
                      {
                        "fillpattern": {
                          "fillmode": "overlay",
                          "size": 10,
                          "solidity": 0.2
                        },
                        "type": "scatter"
                      }
                    ],
                    "parcoords": [
                      {
                        "type": "parcoords",
                        "line": {
                          "colorbar": {
                            "outlinewidth": 0,
                            "ticks": ""
                          }
                        }
                      }
                    ],
                    "scatterpolargl": [
                      {
                        "type": "scatterpolargl",
                        "marker": {
                          "colorbar": {
                            "outlinewidth": 0,
                            "ticks": ""
                          }
                        }
                      }
                    ],
                    "bar": [
                      {
                        "error_x": {
                          "color": "#2a3f5f"
                        },
                        "error_y": {
                          "color": "#2a3f5f"
                        },
                        "marker": {
                          "line": {
                            "color": "#E5ECF6",
                            "width": 0.5
                          },
                          "pattern": {
                            "fillmode": "overlay",
                            "size": 10,
                            "solidity": 0.2
                          }
                        },
                        "type": "bar"
                      }
                    ],
                    "scattergeo": [
                      {
                        "type": "scattergeo",
                        "marker": {
                          "colorbar": {
                            "outlinewidth": 0,
                            "ticks": ""
                          }
                        }
                      }
                    ],
                    "scatterpolar": [
                      {
                        "type": "scatterpolar",
                        "marker": {
                          "colorbar": {
                            "outlinewidth": 0,
                            "ticks": ""
                          }
                        }
                      }
                    ],
                    "histogram": [
                      {
                        "marker": {
                          "pattern": {
                            "fillmode": "overlay",
                            "size": 10,
                            "solidity": 0.2
                          }
                        },
                        "type": "histogram"
                      }
                    ],
                    "scattergl": [
                      {
                        "type": "scattergl",
                        "marker": {
                          "colorbar": {
                            "outlinewidth": 0,
                            "ticks": ""
                          }
                        }
                      }
                    ],
                    "scatter3d": [
                      {
                        "type": "scatter3d",
                        "line": {
                          "colorbar": {
                            "outlinewidth": 0,
                            "ticks": ""
                          }
                        },
                        "marker": {
                          "colorbar": {
                            "outlinewidth": 0,
                            "ticks": ""
                          }
                        }
                      }
                    ],
                    "scattermap": [
                      {
                        "type": "scattermap",
                        "marker": {
                          "colorbar": {
                            "outlinewidth": 0,
                            "ticks": ""
                          }
                        }
                      }
                    ],
                    "scattermapbox": [
                      {
                        "type": "scattermapbox",
                        "marker": {
                          "colorbar": {
                            "outlinewidth": 0,
                            "ticks": ""
                          }
                        }
                      }
                    ],
                    "scatterternary": [
                      {
                        "type": "scatterternary",
                        "marker": {
                          "colorbar": {
                            "outlinewidth": 0,
                            "ticks": ""
                          }
                        }
                      }
                    ],
                    "scattercarpet": [
                      {
                        "type": "scattercarpet",
                        "marker": {
                          "colorbar": {
                            "outlinewidth": 0,
                            "ticks": ""
                          }
                        }
                      }
                    ],
                    "carpet": [
                      {
                        "aaxis": {
                          "endlinecolor": "#2a3f5f",
                          "gridcolor": "white",
                          "linecolor": "white",
                          "minorgridcolor": "white",
                          "startlinecolor": "#2a3f5f"
                        },
                        "baxis": {
                          "endlinecolor": "#2a3f5f",
                          "gridcolor": "white",
                          "linecolor": "white",
                          "minorgridcolor": "white",
                          "startlinecolor": "#2a3f5f"
                        },
                        "type": "carpet"
                      }
                    ],
                    "table": [
                      {
                        "cells": {
                          "fill": {
                            "color": "#EBF0F8"
                          },
                          "line": {
                            "color": "white"
                          }
                        },
                        "header": {
                          "fill": {
                            "color": "#C8D4E3"
                          },
                          "line": {
                            "color": "white"
                          }
                        },
                        "type": "table"
                      }
                    ],
                    "barpolar": [
                      {
                        "marker": {
                          "line": {
                            "color": "#E5ECF6",
                            "width": 0.5
                          },
                          "pattern": {
                            "fillmode": "overlay",
                            "size": 10,
                            "solidity": 0.2
                          }
                        },
                        "type": "barpolar"
                      }
                    ],
                    "pie": [
                      {
                        "automargin": true,
                        "type": "pie"
                      }
                    ]
                  },
                  "layout": {
                    "autotypenumbers": "strict",
                    "colorway": [
                      "#636efa",
                      "#EF553B",
                      "#00cc96",
                      "#ab63fa",
                      "#FFA15A",
                      "#19d3f3",
                      "#FF6692",
                      "#B6E880",
                      "#FF97FF",
                      "#FECB52"
                    ],
                    "font": {
                      "color": "#2a3f5f"
                    },
                    "hovermode": "closest",
                    "hoverlabel": {
                      "align": "left"
                    },
                    "paper_bgcolor": "white",
                    "plot_bgcolor": "#E5ECF6",
                    "polar": {
                      "bgcolor": "#E5ECF6",
                      "angularaxis": {
                        "gridcolor": "white",
                        "linecolor": "white",
                        "ticks": ""
                      },
                      "radialaxis": {
                        "gridcolor": "white",
                        "linecolor": "white",
                        "ticks": ""
                      }
                    },
                    "ternary": {
                      "bgcolor": "#E5ECF6",
                      "aaxis": {
                        "gridcolor": "white",
                        "linecolor": "white",
                        "ticks": ""
                      },
                      "baxis": {
                        "gridcolor": "white",
                        "linecolor": "white",
                        "ticks": ""
                      },
                      "caxis": {
                        "gridcolor": "white",
                        "linecolor": "white",
                        "ticks": ""
                      }
                    },
                    "coloraxis": {
                      "colorbar": {
                        "outlinewidth": 0,
                        "ticks": ""
                      }
                    },
                    "colorscale": {
                      "sequential": [
                        [
                          0,
                          "#0d0887"
                        ],
                        [
                          0.1111111111111111,
                          "#46039f"
                        ],
                        [
                          0.2222222222222222,
                          "#7201a8"
                        ],
                        [
                          0.3333333333333333,
                          "#9c179e"
                        ],
                        [
                          0.4444444444444444,
                          "#bd3786"
                        ],
                        [
                          0.5555555555555556,
                          "#d8576b"
                        ],
                        [
                          0.6666666666666666,
                          "#ed7953"
                        ],
                        [
                          0.7777777777777778,
                          "#fb9f3a"
                        ],
                        [
                          0.8888888888888888,
                          "#fdca26"
                        ],
                        [
                          1,
                          "#f0f921"
                        ]
                      ],
                      "sequentialminus": [
                        [
                          0,
                          "#0d0887"
                        ],
                        [
                          0.1111111111111111,
                          "#46039f"
                        ],
                        [
                          0.2222222222222222,
                          "#7201a8"
                        ],
                        [
                          0.3333333333333333,
                          "#9c179e"
                        ],
                        [
                          0.4444444444444444,
                          "#bd3786"
                        ],
                        [
                          0.5555555555555556,
                          "#d8576b"
                        ],
                        [
                          0.6666666666666666,
                          "#ed7953"
                        ],
                        [
                          0.7777777777777778,
                          "#fb9f3a"
                        ],
                        [
                          0.8888888888888888,
                          "#fdca26"
                        ],
                        [
                          1,
                          "#f0f921"
                        ]
                      ],
                      "diverging": [
                        [
                          0,
                          "#8e0152"
                        ],
                        [
                          0.1,
                          "#c51b7d"
                        ],
                        [
                          0.2,
                          "#de77ae"
                        ],
                        [
                          0.3,
                          "#f1b6da"
                        ],
                        [
                          0.4,
                          "#fde0ef"
                        ],
                        [
                          0.5,
                          "#f7f7f7"
                        ],
                        [
                          0.6,
                          "#e6f5d0"
                        ],
                        [
                          0.7,
                          "#b8e186"
                        ],
                        [
                          0.8,
                          "#7fbc41"
                        ],
                        [
                          0.9,
                          "#4d9221"
                        ],
                        [
                          1,
                          "#276419"
                        ]
                      ]
                    },
                    "xaxis": {
                      "gridcolor": "white",
                      "linecolor": "white",
                      "ticks": "",
                      "title": {
                        "standoff": 15
                      },
                      "zerolinecolor": "white",
                      "automargin": true,
                      "zerolinewidth": 2
                    },
                    "yaxis": {
                      "gridcolor": "white",
                      "linecolor": "white",
                      "ticks": "",
                      "title": {
                        "standoff": 15
                      },
                      "zerolinecolor": "white",
                      "automargin": true,
                      "zerolinewidth": 2
                    },
                    "scene": {
                      "xaxis": {
                        "backgroundcolor": "#E5ECF6",
                        "gridcolor": "white",
                        "linecolor": "white",
                        "showbackground": true,
                        "ticks": "",
                        "zerolinecolor": "white",
                        "gridwidth": 2
                      },
                      "yaxis": {
                        "backgroundcolor": "#E5ECF6",
                        "gridcolor": "white",
                        "linecolor": "white",
                        "showbackground": true,
                        "ticks": "",
                        "zerolinecolor": "white",
                        "gridwidth": 2
                      },
                      "zaxis": {
                        "backgroundcolor": "#E5ECF6",
                        "gridcolor": "white",
                        "linecolor": "white",
                        "showbackground": true,
                        "ticks": "",
                        "zerolinecolor": "white",
                        "gridwidth": 2
                      }
                    },
                    "shapedefaults": {
                      "line": {
                        "color": "#2a3f5f"
                      }
                    },
                    "annotationdefaults": {
                      "arrowcolor": "#2a3f5f",
                      "arrowhead": 0,
                      "arrowwidth": 1
                    },
                    "geo": {
                      "bgcolor": "white",
                      "landcolor": "#E5ECF6",
                      "subunitcolor": "white",
                      "showland": true,
                      "showlakes": true,
                      "lakecolor": "white"
                    },
                    "title": {
                      "x": 0.05
                    },
                    "mapbox": {
                      "style": "light"
                    }
                  }
                }
              },
              "config": {
                "plotlyServerURL": "https://plot.ly"
              }
            },
            "text/html": [
              "<div>            <script src=\"https://cdnjs.cloudflare.com/ajax/libs/mathjax/2.7.5/MathJax.js?config=TeX-AMS-MML_SVG\"></script><script type=\"text/javascript\">if (window.MathJax && window.MathJax.Hub && window.MathJax.Hub.Config) {window.MathJax.Hub.Config({SVG: {font: \"STIX-Web\"}});}</script>                <script type=\"text/javascript\">window.PlotlyConfig = {MathJaxConfig: 'local'};</script>\n",
              "        <script charset=\"utf-8\" src=\"https://cdn.plot.ly/plotly-3.0.0.min.js\"></script>                <div id=\"894eba7a-09c6-47ce-a40b-d0a772ff4ae5\" class=\"plotly-graph-div\" style=\"height:525px; width:100%;\"></div>            <script type=\"text/javascript\">                window.PLOTLYENV=window.PLOTLYENV || {};                                if (document.getElementById(\"894eba7a-09c6-47ce-a40b-d0a772ff4ae5\")) {                    Plotly.newPlot(                        \"894eba7a-09c6-47ce-a40b-d0a772ff4ae5\",                        [{\"name\":\"A\",\"y\":{\"dtype\":\"f8\",\"bdata\":\"8t4CDEstHEAw2o3MscIdQGOrQS9GYiRAgyxitwF9JECJpFBwjf0nQAGaMfKggCpAjvFNAtRsLUCAt\\u002fSGc0EuQI7pXl6HpC9Azn+0ak3oMEDiQ7rgt2AwQL+XZDjOaTBAXDUxEWU9MUD+HkTfQMowQJ4TjN2TqjFAnmaZQ3dvMUA3dYtwVN4xQBa2CqcQ+zFALqReB2sDMkAQS+fANh8yQI4a3dLI8TNAvvx7BUM0NkByr6wmkkc1QDDl6kGNjzZAumfgIs10N0BFrUFGqEs2QFtIJ0FDGTZA3EYDoQo6N0BizwBRq6Q4QACHah\\u002fOFjhAmNzyQU5DN0BgWxREwBQ3QG017ThkNTVAvvVNGV9HNUD+csE9qEk2QI2In4InfTZAKk4Lc8GDNkCS8zdG6mc2QAflYPxj0TRAHGzUptpANEDVvp9fXqk0QBsxBMU6nDRAnLPqM0LmNEDa37rwtkY1QDw4ewoU4jVAHI9i8DvINkDknQx9\\u002fy04QGL7aekMpzdA7nk54YKzOUAwi+S\\u002fWcg7QKOkJlzVmD1AHnm5qEo5P0Ae18Ef4BhAQFmyrKGifD9AnBdrF0hdP0CLdJ+kacY9QNsm7SP4cD5AUsQkxpz3PkCj5u+ebE09QHeXLY5q2DxAQBh55eNmO0D5JwI6lJo8QCCtoCzDdjtAAgp1cbBgPEB4575d7Sg7QP74KOWJMDtARCVv5HMQPEBRUd1GL288QPRcS8Ck1DxAHVCHDF\\u002f1PEAD8Jp9VPI8QE8NbO52bDxAzNvhbG6vPkApg73wGNA\\u002fQHSmRr+LZUBA38\\u002fn4t31P0Bbj5CAdA1BQFfeWo9rPEFARkU1om19QUDQY664C5xBQE84XkaW3UFAO1RvPugXQUB4XcDmqKVAQFLgqHvAn0BAJg0S1tyUQEDmIoRVhrw+QAQWmxswYz1AS0dUOxfhPEDvjw6sni8+QNxCjLZg5j1AvOXo\\u002fG50PUBn17YKc5s8QOwYChL2lz1At5rCZNBdPEAE3mQ00CI8QMxPNETcGTtA\\u002fn77hDbAOkAcD6V+04k5QBS\\u002fmxw1wzpAwrGa0loDO0A=\"},\"type\":\"bar\"},{\"name\":\"B\",\"y\":{\"dtype\":\"f8\",\"bdata\":\"TBCqir\\u002fJNUCkYIiW1js3QLG75MVdvzhAxXQot6JqOkAumTti1B48QC5oXrSmcjtAtHpsa4lfOkBF4IMn3qQ6QDg2QvxstDhAhnNFKnumN0BmYuyWPh82QD6ddvDhKzVAhU8C371kNEBRBoEb\\u002f00zQGVCWAGv1TNA0aYnZC3dM0BW2HwhO9UzQMws+EkwiTJAdfyjcrs0MkC6Cs7CKfswQLlDf8k0NzBA1itYxn2bMEAsZfFlpu8wQB91Upx4FTBA0O98UADGMEBgd9YcbEUwQMa1n2bEyDFA60btGZOFMUDEarOCINMxQPevSglcNTBAYgQx\\u002feBvMUBq85QHgJ0yQEUZcr4BiDJAUStJZ\\u002f33MEAv512rZIkyQItu4CiINjNApplt12iKM0DW\\u002fsfTJfYyQOF9X0UYGTJA4R9FhC9rMUAWTTWel9AwQKN+dHhbSjBAqD2VajynK0DcsWbxqEwpQHCbaSKx8ihAcxdEJZSGJ0DbiSd87z4pQF7mK3nUDypApHzeZih5J0BnDuRxM0wrQEHOtkuG+yxAiIPROKzGKUCoKMDyY94rQDOMDDq4cS5A6Lp6TkFnLUBSzO21TTEtQMM0MvZI8CxAFwHdSu5ZLUDq1c4TlrgsQAR\\u002fjNKh9ixAfMVPNWUKLEDeMdBEAQksQABmPVhP6ShAyZtLzbEVK0BAnIdKKTIrQGIXo7nk0SVAkfc0pLVUJEDdidTgdI0kQGI0++2\\u002fNCVAryTcZICxJUBrVOf+TosoQGqlUV6l4ihA1GV\\u002ffH5WLEC6x12ImOsqQN5ouWNlLypAEhMmo6xIKECAZhQOIW4qQKw0N+Zb8ipAMBTer4QTLEDs4gFkVI0vQKejcFOF9DBAFVqN+xEGMUC04QVg7SY0QAaK+nUQWzNAMeJcWQOFNEAAH+Xab7I1QNzUx9+aQzVAc4XP04lGNECqTftDjhw2QCMJS00EkjRAbZoov8n9MkDMffTDr4szQKcqtB5j\\u002fTJA3LluJhavM0BrzJ8aonU0QB0I9ApzejRAgSYNyQi2M0AiihIc5a8yQNDK4yppbDFAFxrhmMc7MkA=\"},\"type\":\"bar\"},{\"name\":\"C\",\"y\":{\"dtype\":\"f8\",\"bdata\":\"wvrAwyyIPkBQqkLNeFs\\u002fQEZiPKoA4T1ABsJBkWeRPkBN7l01Woc\\u002fQPm8Co\\u002fvgEBANDJOhrsPQUBrF54k\\u002ft1AQNbXBF1lhUFAd7LKr0xvQkBAo2pV03hCQDUUoFOsPEJAi+tePv35QkDU+gl54ZBDQL4Kp5y\\u002f10NAstmRuEgZREBgNGdBR7NDQGoeTXNP3UJA8BXBD+iLQkBb+A82a5NCQPeN9y4280JAfI07GWzaQkDgKu1JuupCQE10VXqnskJAKz8nxYz3QUDu4p+XUilCQLe1XcCdcEJAY9We1xWIQkAtGkpcTPZDQPQktQjL5kNALteF3aTCQ0Dvp\\u002fxNZz1DQANM7OGzC0NAttIukJGbQkBB9A12LapCQFsA7NmtAENAK2JlTj1+Q0AuXqngd0REQJ30Z3tWrkRAdI5Ov4xZREB4w0RNmvVDQLg5u10ru0NAjvHg33i7Q0AQEFOweKxDQOVLBCP\\u002fCkNAJJ\\u002fVqa2sQkCZ+Z4iTn5DQAqtLfK0aENAgqWLDvyQQkDb5xFdXNhCQHIujHrqWENAmoQ3P\\u002fo7Q0AT0UnrlqdCQJkHCiNqEUJAK3\\u002fIjpNvQkAFrFszL6JCQFo9eBZFR0JA4wXqXrlMQkCbhe\\u002frbIhCQB4L4TBqxUFA3wdTMrHMQUAUMuLiGcxAQBP3WHldPkFAH2OzK04ZQUAiQdvEg5lAQI7jsFssuUBA1+3mj52sQEAguNlFfiBBQJMEjsEOAkFAQfbnLK52QUC80P4MBZdBQG5YHm3SakFAqFDBSSSUQEC2Xk6M2MJAQGtfPqwrtT9ACaLZiV+5QEBMV76Fx\\u002f1AQGEMJKCGJEBAJL8GTD1aPkD6f5rMml9AQNZPTj0Zy0BAFV5JFmTnQEAvsBA7NvtAQBDjQsC9MEFAeOneqVV2QUB3gp0YtohBQL52sfKNdkFAtmU1RLW5QUDCc1q1GD5CQJZUH7gHW0JAl3NKEhhqQkAlSQ+87DpCQJiUCL4fAEJAnHCj\\u002fsSQQkCOfTGin\\u002fVCQIwOpljn9UJA06Tb7ECJQ0C4s4CTpLZDQKHQFX\\u002f7\\u002f0RAXjG5RcagRUA=\"},\"type\":\"bar\"}],                        {\"bargap\":0.5,\"barmode\":\"stack\",\"title\":{\"text\":\"Bar Grafiği\"},\"template\":{\"data\":{\"histogram2dcontour\":[{\"type\":\"histogram2dcontour\",\"colorbar\":{\"outlinewidth\":0,\"ticks\":\"\"},\"colorscale\":[[0.0,\"#0d0887\"],[0.1111111111111111,\"#46039f\"],[0.2222222222222222,\"#7201a8\"],[0.3333333333333333,\"#9c179e\"],[0.4444444444444444,\"#bd3786\"],[0.5555555555555556,\"#d8576b\"],[0.6666666666666666,\"#ed7953\"],[0.7777777777777778,\"#fb9f3a\"],[0.8888888888888888,\"#fdca26\"],[1.0,\"#f0f921\"]]}],\"choropleth\":[{\"type\":\"choropleth\",\"colorbar\":{\"outlinewidth\":0,\"ticks\":\"\"}}],\"histogram2d\":[{\"type\":\"histogram2d\",\"colorbar\":{\"outlinewidth\":0,\"ticks\":\"\"},\"colorscale\":[[0.0,\"#0d0887\"],[0.1111111111111111,\"#46039f\"],[0.2222222222222222,\"#7201a8\"],[0.3333333333333333,\"#9c179e\"],[0.4444444444444444,\"#bd3786\"],[0.5555555555555556,\"#d8576b\"],[0.6666666666666666,\"#ed7953\"],[0.7777777777777778,\"#fb9f3a\"],[0.8888888888888888,\"#fdca26\"],[1.0,\"#f0f921\"]]}],\"heatmap\":[{\"type\":\"heatmap\",\"colorbar\":{\"outlinewidth\":0,\"ticks\":\"\"},\"colorscale\":[[0.0,\"#0d0887\"],[0.1111111111111111,\"#46039f\"],[0.2222222222222222,\"#7201a8\"],[0.3333333333333333,\"#9c179e\"],[0.4444444444444444,\"#bd3786\"],[0.5555555555555556,\"#d8576b\"],[0.6666666666666666,\"#ed7953\"],[0.7777777777777778,\"#fb9f3a\"],[0.8888888888888888,\"#fdca26\"],[1.0,\"#f0f921\"]]}],\"contourcarpet\":[{\"type\":\"contourcarpet\",\"colorbar\":{\"outlinewidth\":0,\"ticks\":\"\"}}],\"contour\":[{\"type\":\"contour\",\"colorbar\":{\"outlinewidth\":0,\"ticks\":\"\"},\"colorscale\":[[0.0,\"#0d0887\"],[0.1111111111111111,\"#46039f\"],[0.2222222222222222,\"#7201a8\"],[0.3333333333333333,\"#9c179e\"],[0.4444444444444444,\"#bd3786\"],[0.5555555555555556,\"#d8576b\"],[0.6666666666666666,\"#ed7953\"],[0.7777777777777778,\"#fb9f3a\"],[0.8888888888888888,\"#fdca26\"],[1.0,\"#f0f921\"]]}],\"surface\":[{\"type\":\"surface\",\"colorbar\":{\"outlinewidth\":0,\"ticks\":\"\"},\"colorscale\":[[0.0,\"#0d0887\"],[0.1111111111111111,\"#46039f\"],[0.2222222222222222,\"#7201a8\"],[0.3333333333333333,\"#9c179e\"],[0.4444444444444444,\"#bd3786\"],[0.5555555555555556,\"#d8576b\"],[0.6666666666666666,\"#ed7953\"],[0.7777777777777778,\"#fb9f3a\"],[0.8888888888888888,\"#fdca26\"],[1.0,\"#f0f921\"]]}],\"mesh3d\":[{\"type\":\"mesh3d\",\"colorbar\":{\"outlinewidth\":0,\"ticks\":\"\"}}],\"scatter\":[{\"fillpattern\":{\"fillmode\":\"overlay\",\"size\":10,\"solidity\":0.2},\"type\":\"scatter\"}],\"parcoords\":[{\"type\":\"parcoords\",\"line\":{\"colorbar\":{\"outlinewidth\":0,\"ticks\":\"\"}}}],\"scatterpolargl\":[{\"type\":\"scatterpolargl\",\"marker\":{\"colorbar\":{\"outlinewidth\":0,\"ticks\":\"\"}}}],\"bar\":[{\"error_x\":{\"color\":\"#2a3f5f\"},\"error_y\":{\"color\":\"#2a3f5f\"},\"marker\":{\"line\":{\"color\":\"#E5ECF6\",\"width\":0.5},\"pattern\":{\"fillmode\":\"overlay\",\"size\":10,\"solidity\":0.2}},\"type\":\"bar\"}],\"scattergeo\":[{\"type\":\"scattergeo\",\"marker\":{\"colorbar\":{\"outlinewidth\":0,\"ticks\":\"\"}}}],\"scatterpolar\":[{\"type\":\"scatterpolar\",\"marker\":{\"colorbar\":{\"outlinewidth\":0,\"ticks\":\"\"}}}],\"histogram\":[{\"marker\":{\"pattern\":{\"fillmode\":\"overlay\",\"size\":10,\"solidity\":0.2}},\"type\":\"histogram\"}],\"scattergl\":[{\"type\":\"scattergl\",\"marker\":{\"colorbar\":{\"outlinewidth\":0,\"ticks\":\"\"}}}],\"scatter3d\":[{\"type\":\"scatter3d\",\"line\":{\"colorbar\":{\"outlinewidth\":0,\"ticks\":\"\"}},\"marker\":{\"colorbar\":{\"outlinewidth\":0,\"ticks\":\"\"}}}],\"scattermap\":[{\"type\":\"scattermap\",\"marker\":{\"colorbar\":{\"outlinewidth\":0,\"ticks\":\"\"}}}],\"scattermapbox\":[{\"type\":\"scattermapbox\",\"marker\":{\"colorbar\":{\"outlinewidth\":0,\"ticks\":\"\"}}}],\"scatterternary\":[{\"type\":\"scatterternary\",\"marker\":{\"colorbar\":{\"outlinewidth\":0,\"ticks\":\"\"}}}],\"scattercarpet\":[{\"type\":\"scattercarpet\",\"marker\":{\"colorbar\":{\"outlinewidth\":0,\"ticks\":\"\"}}}],\"carpet\":[{\"aaxis\":{\"endlinecolor\":\"#2a3f5f\",\"gridcolor\":\"white\",\"linecolor\":\"white\",\"minorgridcolor\":\"white\",\"startlinecolor\":\"#2a3f5f\"},\"baxis\":{\"endlinecolor\":\"#2a3f5f\",\"gridcolor\":\"white\",\"linecolor\":\"white\",\"minorgridcolor\":\"white\",\"startlinecolor\":\"#2a3f5f\"},\"type\":\"carpet\"}],\"table\":[{\"cells\":{\"fill\":{\"color\":\"#EBF0F8\"},\"line\":{\"color\":\"white\"}},\"header\":{\"fill\":{\"color\":\"#C8D4E3\"},\"line\":{\"color\":\"white\"}},\"type\":\"table\"}],\"barpolar\":[{\"marker\":{\"line\":{\"color\":\"#E5ECF6\",\"width\":0.5},\"pattern\":{\"fillmode\":\"overlay\",\"size\":10,\"solidity\":0.2}},\"type\":\"barpolar\"}],\"pie\":[{\"automargin\":true,\"type\":\"pie\"}]},\"layout\":{\"autotypenumbers\":\"strict\",\"colorway\":[\"#636efa\",\"#EF553B\",\"#00cc96\",\"#ab63fa\",\"#FFA15A\",\"#19d3f3\",\"#FF6692\",\"#B6E880\",\"#FF97FF\",\"#FECB52\"],\"font\":{\"color\":\"#2a3f5f\"},\"hovermode\":\"closest\",\"hoverlabel\":{\"align\":\"left\"},\"paper_bgcolor\":\"white\",\"plot_bgcolor\":\"#E5ECF6\",\"polar\":{\"bgcolor\":\"#E5ECF6\",\"angularaxis\":{\"gridcolor\":\"white\",\"linecolor\":\"white\",\"ticks\":\"\"},\"radialaxis\":{\"gridcolor\":\"white\",\"linecolor\":\"white\",\"ticks\":\"\"}},\"ternary\":{\"bgcolor\":\"#E5ECF6\",\"aaxis\":{\"gridcolor\":\"white\",\"linecolor\":\"white\",\"ticks\":\"\"},\"baxis\":{\"gridcolor\":\"white\",\"linecolor\":\"white\",\"ticks\":\"\"},\"caxis\":{\"gridcolor\":\"white\",\"linecolor\":\"white\",\"ticks\":\"\"}},\"coloraxis\":{\"colorbar\":{\"outlinewidth\":0,\"ticks\":\"\"}},\"colorscale\":{\"sequential\":[[0.0,\"#0d0887\"],[0.1111111111111111,\"#46039f\"],[0.2222222222222222,\"#7201a8\"],[0.3333333333333333,\"#9c179e\"],[0.4444444444444444,\"#bd3786\"],[0.5555555555555556,\"#d8576b\"],[0.6666666666666666,\"#ed7953\"],[0.7777777777777778,\"#fb9f3a\"],[0.8888888888888888,\"#fdca26\"],[1.0,\"#f0f921\"]],\"sequentialminus\":[[0.0,\"#0d0887\"],[0.1111111111111111,\"#46039f\"],[0.2222222222222222,\"#7201a8\"],[0.3333333333333333,\"#9c179e\"],[0.4444444444444444,\"#bd3786\"],[0.5555555555555556,\"#d8576b\"],[0.6666666666666666,\"#ed7953\"],[0.7777777777777778,\"#fb9f3a\"],[0.8888888888888888,\"#fdca26\"],[1.0,\"#f0f921\"]],\"diverging\":[[0,\"#8e0152\"],[0.1,\"#c51b7d\"],[0.2,\"#de77ae\"],[0.3,\"#f1b6da\"],[0.4,\"#fde0ef\"],[0.5,\"#f7f7f7\"],[0.6,\"#e6f5d0\"],[0.7,\"#b8e186\"],[0.8,\"#7fbc41\"],[0.9,\"#4d9221\"],[1,\"#276419\"]]},\"xaxis\":{\"gridcolor\":\"white\",\"linecolor\":\"white\",\"ticks\":\"\",\"title\":{\"standoff\":15},\"zerolinecolor\":\"white\",\"automargin\":true,\"zerolinewidth\":2},\"yaxis\":{\"gridcolor\":\"white\",\"linecolor\":\"white\",\"ticks\":\"\",\"title\":{\"standoff\":15},\"zerolinecolor\":\"white\",\"automargin\":true,\"zerolinewidth\":2},\"scene\":{\"xaxis\":{\"backgroundcolor\":\"#E5ECF6\",\"gridcolor\":\"white\",\"linecolor\":\"white\",\"showbackground\":true,\"ticks\":\"\",\"zerolinecolor\":\"white\",\"gridwidth\":2},\"yaxis\":{\"backgroundcolor\":\"#E5ECF6\",\"gridcolor\":\"white\",\"linecolor\":\"white\",\"showbackground\":true,\"ticks\":\"\",\"zerolinecolor\":\"white\",\"gridwidth\":2},\"zaxis\":{\"backgroundcolor\":\"#E5ECF6\",\"gridcolor\":\"white\",\"linecolor\":\"white\",\"showbackground\":true,\"ticks\":\"\",\"zerolinecolor\":\"white\",\"gridwidth\":2}},\"shapedefaults\":{\"line\":{\"color\":\"#2a3f5f\"}},\"annotationdefaults\":{\"arrowcolor\":\"#2a3f5f\",\"arrowhead\":0,\"arrowwidth\":1},\"geo\":{\"bgcolor\":\"white\",\"landcolor\":\"#E5ECF6\",\"subunitcolor\":\"white\",\"showland\":true,\"showlakes\":true,\"lakecolor\":\"white\"},\"title\":{\"x\":0.05},\"mapbox\":{\"style\":\"light\"}}}},                        {\"responsive\": true}                    ).then(function(){\n",
              "                            \n",
              "var gd = document.getElementById('894eba7a-09c6-47ce-a40b-d0a772ff4ae5');\n",
              "var x = new MutationObserver(function (mutations, observer) {{\n",
              "        var display = window.getComputedStyle(gd).display;\n",
              "        if (!display || display === 'none') {{\n",
              "            console.log([gd, 'removed!']);\n",
              "            Plotly.purge(gd);\n",
              "            observer.disconnect();\n",
              "        }}\n",
              "}});\n",
              "\n",
              "// Listen for the removal of the full notebook cells\n",
              "var notebookContainer = gd.closest('#notebook-container');\n",
              "if (notebookContainer) {{\n",
              "    x.observe(notebookContainer, {childList: true});\n",
              "}}\n",
              "\n",
              "// Listen for the clearing of the current output cell\n",
              "var outputEl = gd.closest('.output');\n",
              "if (outputEl) {{\n",
              "    x.observe(outputEl, {childList: true});\n",
              "}}\n",
              "\n",
              "                        })                };            </script>        </div>"
            ]
          },
          "metadata": {}
        }
      ],
      "source": [
        "# Bar Grafiği\n",
        "fig = go.Figure(data=[go.Bar(y=df[col], name=col) for col in df.columns],\n",
        "                layout=go.Layout(title='Bar Grafiği', barmode='stack', bargap=0.5))\n",
        "fig.show()"
      ]
    },
    {
      "cell_type": "markdown",
      "source": [
        "##Box Plot"
      ],
      "metadata": {
        "id": "mdzXYesxjH9I"
      },
      "id": "mdzXYesxjH9I"
    },
    {
      "cell_type": "code",
      "execution_count": 107,
      "id": "7dba6e87-8e09-4fef-981a-0b91a8b1af01",
      "metadata": {
        "colab": {
          "base_uri": "https://localhost:8080/",
          "height": 542
        },
        "id": "7dba6e87-8e09-4fef-981a-0b91a8b1af01",
        "outputId": "aa692a9f-eda9-471e-e213-2e895c6e3061"
      },
      "outputs": [
        {
          "output_type": "display_data",
          "data": {
            "application/vnd.plotly.v1+json": {
              "data": [
                {
                  "name": "A",
                  "y": {
                    "dtype": "f8",
                    "bdata": "jVnhCKsQ778FDR6FK9zbP9qMvOWWe+q/dWRWOs0n5b86pD8Y5RPyvzVkTgDrRve/V13I3fiD7r915fGCvjXAPwvGdlHsjPG/U0t9iplUlj8xY9Le6bPXv3LoFu4xJcI/q3pmHVT44b9k8E93r1HrP6mVKz1jWA7AhSk6V4+dyD9NK5yjqIvbv7z2F+NXufW/4C/1VGn/8z/LaMId4dnYv4H0L6sVJeS/p2j1g5ly9r+L69QKv5H4v4rEwk9uecA/Ouik8Ohk/D+HHjiHyT/0P+96b48omuS/nFapnzsH8b8mSSMEMoHiP9OlvDht7vW/KHJe6OO6+b9Tc7oS6Ej3P8Kud1M8I+m//K8wLkdhAcDrK9dtplbxvxSXTQhn6QBArUxMDPHM8L+3imWQ9iXxv71K1NHbNLc/QOklY70Y1j9XPijtwci4PyXWBTfonfO/29NuDH8u3b9BLe3xQ9z/v46tdqMO99O/kKoAlAPS4z/IF+UV9ufzv9mjMFt63OY/s9S/dNdB+b8zeogc84rav3RWJyDg2ve/t+6CKrZd4D+gQr6p1d3hv7/KXr/cyNe/cL1AlhPb1r/b/nRa98f6P24f38Z6IOS/n6yf6s557D9CWaoZC/atP7sb9BFxiu6/agGZjZ8l4z9MLo6LWNAFQCD4QsvK7de/CAIShGrR3b8hxkzMiTXgv8YT1o+7ed4/c+KSYaSQAMD5S+1GtxS1v4aDcJL8Vv+/mGsd4JEn6b8l4PRUvujqvzKC1pMgTN2/59A5tO1N8b+/wK5rzjW+PxgYrU5fEKq/Ntd+jFUByr/uRL7x49iAPxMywj5RfvQ//pu0zqJg/r9OjW1G2mLlPwctgPSjDfC/YkQuVEg6yD83wV1sUSLbv5MKcQTIxMQ/DMIA6isL4D8kuEospMXxP3A1IYIZl+c/CdpepGLW2L/wDNs6zJ3Sv9K0jJ/Zxse/fmZNAVsztD86cirVIIfcv8aRsE7Z/Og/xIEBWRwF5j/by/2sv0fQv037cOtVmcm/pD1H0Xvm8b8WPKP//GD1P98HAlX6N/G/tt16e6ww8T8="
                  },
                  "type": "box"
                },
                {
                  "name": "B",
                  "y": {
                    "dtype": "f8",
                    "bdata": "Eqhbf69Z+D9biA8hNsXvv8Bpm8KgYum/BgRp9ss4x79RxXYXcnC7P5ZcotpKEfW/rJmquEIq2L9+3dkfa7L1vxN2j8X96O0/fMh3xppD6T/vc8lcxkfgP1TOyUnGxeC/SkCUuCAd7r+LtASfgT7cP5CjeBgk1ua/VMFZz4UF7b8OcqpujEnEv9/JPioX5dk/ZqNFy5SNoz87D2Rn7lX3P4lghYmE0+E/esbF/kYY+T9qqCONEU3rPy+7vr+k6Zi/LnD2YyRL5j8IQWgYiODiv2qEBwBQyNK/65B1YvLI1j9ke8eVv/fYP2G6Xc9f/fS/+EwMBA/lyr/ons/zigLUP07J5R11YOc/8is7I1qBxL+vb+exshr1P0yTCbCpBgBA6m0FczFc1T+kVVg3yqrSP+RLFIiy8Mi/bdOFz+0M5T8NBqFxjOfVP5TUlhirX+C/rV2sN24z9b959INxE2/dvyEDZ+GDUea/lAQkcG1a6r9arty4cubGv0eCAan3arw/9qG8nJKG9L+hV5FYFh3IPwoRr38CN9s/40ROav4K0L8cY7z/ejPQPwuD/V3uXPa/6mwrD5sp4r8l+xU0uJvgv4r0wRAneuq/3mO7w1um/D9CEMO1b5H3Pxurz8AIReI/mIstRZUS6r/217SOtffxv7fS8IrCGPU/jkieL7vH6r9mOthFPPzzPwyGiKNpQ+8/ZoHPOI2z5r8U3LzthIDfP5//8uJI/e6/jtv2gIEc0D+3Bq1k2zm6v8RfOM5DJtk/8AsnZb0Tsb9T+0T+/lb0P5WhapdLV+S/JLm6hY5E4L8dU0Zg++DQvxJIaRhWReG/ogA83DWe8r8Xhg7pmB3TPxRdDKC/we+/ez0aER7u6r+fURkIU7PgPy9GGcPqHb0/VQ1pRUiEcL8bnsGAt0buP+8e3kmLD/C/gKD2mrUM3L8AS3katgfuv4s8wzEEL8g/kraphGcdxj9AshhGcEPMP2RK7tzkpf6//ebgTQ5Eyr/f9M0iLzfYv7wkmXfgh+8/S5GFxL7GA0AAmI2X/IHTPwxnfAhQ6u2/5cS2pdW40j8="
                  },
                  "type": "box"
                },
                {
                  "name": "C",
                  "y": {
                    "dtype": "f8",
                    "bdata": "BkiedZzb8L+2t9ZgQ+rhP37UvDmPdt6/YJy+I17f/D/md4wFv6P0P7GGthARNve/ECI/D0TTzz9pAyfq8DrEvxZIXWBaoMO/o8Jlb8i55z/pMYIU8poBQO6/U5azs9a/b5KUZic+1T8SWh+pp9q1P3QJhLJ51+K/gF+9Pjmaxb9gbqHGiJLwP4myZzE4eMU/kO/2GVzG4L8L3f4yZM/iPzrqJ3MgUO4/8LXOiwKn5r8ZO4IR1LisP620RmKo5tE/WgaNbmav8z/ky9bCi5PxP0fAapwWLsI/hygz91mN2r9Dv8GqgOrmP1bSU3KwpPk/1BTZKyO2BcDn0J+8ND31v2/AZ2Cwlcs/v5aL/o6j+z/CxtgMAclpv7Go4fMsQ/A/BQytwXh61r9WUNOCvvUBQOsYYqkupug/1zkpfxIs5z/RSdcItZH8Pw0GVmudr/O/tIUCJQfoAkAouQLp+qfePz8aiiqb1+A/FVCjR9iQ2j9AlxAImBT2P74dwYapN90/EvGSu+738D+uiJ7d2RPZP9y1hHFNAt4/0Pe9PCqm1j/QGlsVC5O1P+dRyRC3RwBAcgdTaOJt47+m489TInrYP2yySLsNaADA8tY7mXSR0b8vudTaDp/wvwgG/vQXWQNAKeyHZZO01r88JF6kmSPqvxFG3WTSVPQ/u3TxUc7n/L9BbzpEVwjfP4XxaaXMQuI/5WCOLqe47z9fT1e/y8PKv/Oh2TSQevw/As99mvon1T+gnfw+IfDqPxqs+B89tOM/szv0Lvpm8j9vSFpAyfrQvwAxN/Xv3OA/IJh6ln3/3r+WTG9+9/T2v/jhbqem3a2/xGEO4ghc5j+1NepeOcObP7QSX3BabuE/daB4Zxse9z8LFOas0jHRvwTyzXM1yu+/bZRpWiMH5D8WSa9791jhvx4r/kCaCd2/dalHgN8e8j/ErbOJy2zFv8gRA8aHoNQ/VeOd9X1w0j+8+0CHStjxP9ATPnXEm9U/qXOIlshvvb9Cb+Hv3QXrP8uD9dt7TtE/cNJ3lR7Osr+S0XVfMuPxv4ADQF+tzN0/IlVwkcUT978="
                  },
                  "type": "box"
                }
              ],
              "layout": {
                "title": {
                  "text": "Kutu Grafiği"
                },
                "template": {
                  "data": {
                    "histogram2dcontour": [
                      {
                        "type": "histogram2dcontour",
                        "colorbar": {
                          "outlinewidth": 0,
                          "ticks": ""
                        },
                        "colorscale": [
                          [
                            0,
                            "#0d0887"
                          ],
                          [
                            0.1111111111111111,
                            "#46039f"
                          ],
                          [
                            0.2222222222222222,
                            "#7201a8"
                          ],
                          [
                            0.3333333333333333,
                            "#9c179e"
                          ],
                          [
                            0.4444444444444444,
                            "#bd3786"
                          ],
                          [
                            0.5555555555555556,
                            "#d8576b"
                          ],
                          [
                            0.6666666666666666,
                            "#ed7953"
                          ],
                          [
                            0.7777777777777778,
                            "#fb9f3a"
                          ],
                          [
                            0.8888888888888888,
                            "#fdca26"
                          ],
                          [
                            1,
                            "#f0f921"
                          ]
                        ]
                      }
                    ],
                    "choropleth": [
                      {
                        "type": "choropleth",
                        "colorbar": {
                          "outlinewidth": 0,
                          "ticks": ""
                        }
                      }
                    ],
                    "histogram2d": [
                      {
                        "type": "histogram2d",
                        "colorbar": {
                          "outlinewidth": 0,
                          "ticks": ""
                        },
                        "colorscale": [
                          [
                            0,
                            "#0d0887"
                          ],
                          [
                            0.1111111111111111,
                            "#46039f"
                          ],
                          [
                            0.2222222222222222,
                            "#7201a8"
                          ],
                          [
                            0.3333333333333333,
                            "#9c179e"
                          ],
                          [
                            0.4444444444444444,
                            "#bd3786"
                          ],
                          [
                            0.5555555555555556,
                            "#d8576b"
                          ],
                          [
                            0.6666666666666666,
                            "#ed7953"
                          ],
                          [
                            0.7777777777777778,
                            "#fb9f3a"
                          ],
                          [
                            0.8888888888888888,
                            "#fdca26"
                          ],
                          [
                            1,
                            "#f0f921"
                          ]
                        ]
                      }
                    ],
                    "heatmap": [
                      {
                        "type": "heatmap",
                        "colorbar": {
                          "outlinewidth": 0,
                          "ticks": ""
                        },
                        "colorscale": [
                          [
                            0,
                            "#0d0887"
                          ],
                          [
                            0.1111111111111111,
                            "#46039f"
                          ],
                          [
                            0.2222222222222222,
                            "#7201a8"
                          ],
                          [
                            0.3333333333333333,
                            "#9c179e"
                          ],
                          [
                            0.4444444444444444,
                            "#bd3786"
                          ],
                          [
                            0.5555555555555556,
                            "#d8576b"
                          ],
                          [
                            0.6666666666666666,
                            "#ed7953"
                          ],
                          [
                            0.7777777777777778,
                            "#fb9f3a"
                          ],
                          [
                            0.8888888888888888,
                            "#fdca26"
                          ],
                          [
                            1,
                            "#f0f921"
                          ]
                        ]
                      }
                    ],
                    "contourcarpet": [
                      {
                        "type": "contourcarpet",
                        "colorbar": {
                          "outlinewidth": 0,
                          "ticks": ""
                        }
                      }
                    ],
                    "contour": [
                      {
                        "type": "contour",
                        "colorbar": {
                          "outlinewidth": 0,
                          "ticks": ""
                        },
                        "colorscale": [
                          [
                            0,
                            "#0d0887"
                          ],
                          [
                            0.1111111111111111,
                            "#46039f"
                          ],
                          [
                            0.2222222222222222,
                            "#7201a8"
                          ],
                          [
                            0.3333333333333333,
                            "#9c179e"
                          ],
                          [
                            0.4444444444444444,
                            "#bd3786"
                          ],
                          [
                            0.5555555555555556,
                            "#d8576b"
                          ],
                          [
                            0.6666666666666666,
                            "#ed7953"
                          ],
                          [
                            0.7777777777777778,
                            "#fb9f3a"
                          ],
                          [
                            0.8888888888888888,
                            "#fdca26"
                          ],
                          [
                            1,
                            "#f0f921"
                          ]
                        ]
                      }
                    ],
                    "surface": [
                      {
                        "type": "surface",
                        "colorbar": {
                          "outlinewidth": 0,
                          "ticks": ""
                        },
                        "colorscale": [
                          [
                            0,
                            "#0d0887"
                          ],
                          [
                            0.1111111111111111,
                            "#46039f"
                          ],
                          [
                            0.2222222222222222,
                            "#7201a8"
                          ],
                          [
                            0.3333333333333333,
                            "#9c179e"
                          ],
                          [
                            0.4444444444444444,
                            "#bd3786"
                          ],
                          [
                            0.5555555555555556,
                            "#d8576b"
                          ],
                          [
                            0.6666666666666666,
                            "#ed7953"
                          ],
                          [
                            0.7777777777777778,
                            "#fb9f3a"
                          ],
                          [
                            0.8888888888888888,
                            "#fdca26"
                          ],
                          [
                            1,
                            "#f0f921"
                          ]
                        ]
                      }
                    ],
                    "mesh3d": [
                      {
                        "type": "mesh3d",
                        "colorbar": {
                          "outlinewidth": 0,
                          "ticks": ""
                        }
                      }
                    ],
                    "scatter": [
                      {
                        "fillpattern": {
                          "fillmode": "overlay",
                          "size": 10,
                          "solidity": 0.2
                        },
                        "type": "scatter"
                      }
                    ],
                    "parcoords": [
                      {
                        "type": "parcoords",
                        "line": {
                          "colorbar": {
                            "outlinewidth": 0,
                            "ticks": ""
                          }
                        }
                      }
                    ],
                    "scatterpolargl": [
                      {
                        "type": "scatterpolargl",
                        "marker": {
                          "colorbar": {
                            "outlinewidth": 0,
                            "ticks": ""
                          }
                        }
                      }
                    ],
                    "bar": [
                      {
                        "error_x": {
                          "color": "#2a3f5f"
                        },
                        "error_y": {
                          "color": "#2a3f5f"
                        },
                        "marker": {
                          "line": {
                            "color": "#E5ECF6",
                            "width": 0.5
                          },
                          "pattern": {
                            "fillmode": "overlay",
                            "size": 10,
                            "solidity": 0.2
                          }
                        },
                        "type": "bar"
                      }
                    ],
                    "scattergeo": [
                      {
                        "type": "scattergeo",
                        "marker": {
                          "colorbar": {
                            "outlinewidth": 0,
                            "ticks": ""
                          }
                        }
                      }
                    ],
                    "scatterpolar": [
                      {
                        "type": "scatterpolar",
                        "marker": {
                          "colorbar": {
                            "outlinewidth": 0,
                            "ticks": ""
                          }
                        }
                      }
                    ],
                    "histogram": [
                      {
                        "marker": {
                          "pattern": {
                            "fillmode": "overlay",
                            "size": 10,
                            "solidity": 0.2
                          }
                        },
                        "type": "histogram"
                      }
                    ],
                    "scattergl": [
                      {
                        "type": "scattergl",
                        "marker": {
                          "colorbar": {
                            "outlinewidth": 0,
                            "ticks": ""
                          }
                        }
                      }
                    ],
                    "scatter3d": [
                      {
                        "type": "scatter3d",
                        "line": {
                          "colorbar": {
                            "outlinewidth": 0,
                            "ticks": ""
                          }
                        },
                        "marker": {
                          "colorbar": {
                            "outlinewidth": 0,
                            "ticks": ""
                          }
                        }
                      }
                    ],
                    "scattermap": [
                      {
                        "type": "scattermap",
                        "marker": {
                          "colorbar": {
                            "outlinewidth": 0,
                            "ticks": ""
                          }
                        }
                      }
                    ],
                    "scattermapbox": [
                      {
                        "type": "scattermapbox",
                        "marker": {
                          "colorbar": {
                            "outlinewidth": 0,
                            "ticks": ""
                          }
                        }
                      }
                    ],
                    "scatterternary": [
                      {
                        "type": "scatterternary",
                        "marker": {
                          "colorbar": {
                            "outlinewidth": 0,
                            "ticks": ""
                          }
                        }
                      }
                    ],
                    "scattercarpet": [
                      {
                        "type": "scattercarpet",
                        "marker": {
                          "colorbar": {
                            "outlinewidth": 0,
                            "ticks": ""
                          }
                        }
                      }
                    ],
                    "carpet": [
                      {
                        "aaxis": {
                          "endlinecolor": "#2a3f5f",
                          "gridcolor": "white",
                          "linecolor": "white",
                          "minorgridcolor": "white",
                          "startlinecolor": "#2a3f5f"
                        },
                        "baxis": {
                          "endlinecolor": "#2a3f5f",
                          "gridcolor": "white",
                          "linecolor": "white",
                          "minorgridcolor": "white",
                          "startlinecolor": "#2a3f5f"
                        },
                        "type": "carpet"
                      }
                    ],
                    "table": [
                      {
                        "cells": {
                          "fill": {
                            "color": "#EBF0F8"
                          },
                          "line": {
                            "color": "white"
                          }
                        },
                        "header": {
                          "fill": {
                            "color": "#C8D4E3"
                          },
                          "line": {
                            "color": "white"
                          }
                        },
                        "type": "table"
                      }
                    ],
                    "barpolar": [
                      {
                        "marker": {
                          "line": {
                            "color": "#E5ECF6",
                            "width": 0.5
                          },
                          "pattern": {
                            "fillmode": "overlay",
                            "size": 10,
                            "solidity": 0.2
                          }
                        },
                        "type": "barpolar"
                      }
                    ],
                    "pie": [
                      {
                        "automargin": true,
                        "type": "pie"
                      }
                    ]
                  },
                  "layout": {
                    "autotypenumbers": "strict",
                    "colorway": [
                      "#636efa",
                      "#EF553B",
                      "#00cc96",
                      "#ab63fa",
                      "#FFA15A",
                      "#19d3f3",
                      "#FF6692",
                      "#B6E880",
                      "#FF97FF",
                      "#FECB52"
                    ],
                    "font": {
                      "color": "#2a3f5f"
                    },
                    "hovermode": "closest",
                    "hoverlabel": {
                      "align": "left"
                    },
                    "paper_bgcolor": "white",
                    "plot_bgcolor": "#E5ECF6",
                    "polar": {
                      "bgcolor": "#E5ECF6",
                      "angularaxis": {
                        "gridcolor": "white",
                        "linecolor": "white",
                        "ticks": ""
                      },
                      "radialaxis": {
                        "gridcolor": "white",
                        "linecolor": "white",
                        "ticks": ""
                      }
                    },
                    "ternary": {
                      "bgcolor": "#E5ECF6",
                      "aaxis": {
                        "gridcolor": "white",
                        "linecolor": "white",
                        "ticks": ""
                      },
                      "baxis": {
                        "gridcolor": "white",
                        "linecolor": "white",
                        "ticks": ""
                      },
                      "caxis": {
                        "gridcolor": "white",
                        "linecolor": "white",
                        "ticks": ""
                      }
                    },
                    "coloraxis": {
                      "colorbar": {
                        "outlinewidth": 0,
                        "ticks": ""
                      }
                    },
                    "colorscale": {
                      "sequential": [
                        [
                          0,
                          "#0d0887"
                        ],
                        [
                          0.1111111111111111,
                          "#46039f"
                        ],
                        [
                          0.2222222222222222,
                          "#7201a8"
                        ],
                        [
                          0.3333333333333333,
                          "#9c179e"
                        ],
                        [
                          0.4444444444444444,
                          "#bd3786"
                        ],
                        [
                          0.5555555555555556,
                          "#d8576b"
                        ],
                        [
                          0.6666666666666666,
                          "#ed7953"
                        ],
                        [
                          0.7777777777777778,
                          "#fb9f3a"
                        ],
                        [
                          0.8888888888888888,
                          "#fdca26"
                        ],
                        [
                          1,
                          "#f0f921"
                        ]
                      ],
                      "sequentialminus": [
                        [
                          0,
                          "#0d0887"
                        ],
                        [
                          0.1111111111111111,
                          "#46039f"
                        ],
                        [
                          0.2222222222222222,
                          "#7201a8"
                        ],
                        [
                          0.3333333333333333,
                          "#9c179e"
                        ],
                        [
                          0.4444444444444444,
                          "#bd3786"
                        ],
                        [
                          0.5555555555555556,
                          "#d8576b"
                        ],
                        [
                          0.6666666666666666,
                          "#ed7953"
                        ],
                        [
                          0.7777777777777778,
                          "#fb9f3a"
                        ],
                        [
                          0.8888888888888888,
                          "#fdca26"
                        ],
                        [
                          1,
                          "#f0f921"
                        ]
                      ],
                      "diverging": [
                        [
                          0,
                          "#8e0152"
                        ],
                        [
                          0.1,
                          "#c51b7d"
                        ],
                        [
                          0.2,
                          "#de77ae"
                        ],
                        [
                          0.3,
                          "#f1b6da"
                        ],
                        [
                          0.4,
                          "#fde0ef"
                        ],
                        [
                          0.5,
                          "#f7f7f7"
                        ],
                        [
                          0.6,
                          "#e6f5d0"
                        ],
                        [
                          0.7,
                          "#b8e186"
                        ],
                        [
                          0.8,
                          "#7fbc41"
                        ],
                        [
                          0.9,
                          "#4d9221"
                        ],
                        [
                          1,
                          "#276419"
                        ]
                      ]
                    },
                    "xaxis": {
                      "gridcolor": "white",
                      "linecolor": "white",
                      "ticks": "",
                      "title": {
                        "standoff": 15
                      },
                      "zerolinecolor": "white",
                      "automargin": true,
                      "zerolinewidth": 2
                    },
                    "yaxis": {
                      "gridcolor": "white",
                      "linecolor": "white",
                      "ticks": "",
                      "title": {
                        "standoff": 15
                      },
                      "zerolinecolor": "white",
                      "automargin": true,
                      "zerolinewidth": 2
                    },
                    "scene": {
                      "xaxis": {
                        "backgroundcolor": "#E5ECF6",
                        "gridcolor": "white",
                        "linecolor": "white",
                        "showbackground": true,
                        "ticks": "",
                        "zerolinecolor": "white",
                        "gridwidth": 2
                      },
                      "yaxis": {
                        "backgroundcolor": "#E5ECF6",
                        "gridcolor": "white",
                        "linecolor": "white",
                        "showbackground": true,
                        "ticks": "",
                        "zerolinecolor": "white",
                        "gridwidth": 2
                      },
                      "zaxis": {
                        "backgroundcolor": "#E5ECF6",
                        "gridcolor": "white",
                        "linecolor": "white",
                        "showbackground": true,
                        "ticks": "",
                        "zerolinecolor": "white",
                        "gridwidth": 2
                      }
                    },
                    "shapedefaults": {
                      "line": {
                        "color": "#2a3f5f"
                      }
                    },
                    "annotationdefaults": {
                      "arrowcolor": "#2a3f5f",
                      "arrowhead": 0,
                      "arrowwidth": 1
                    },
                    "geo": {
                      "bgcolor": "white",
                      "landcolor": "#E5ECF6",
                      "subunitcolor": "white",
                      "showland": true,
                      "showlakes": true,
                      "lakecolor": "white"
                    },
                    "title": {
                      "x": 0.05
                    },
                    "mapbox": {
                      "style": "light"
                    }
                  }
                }
              },
              "config": {
                "plotlyServerURL": "https://plot.ly"
              }
            },
            "text/html": [
              "<div>            <script src=\"https://cdnjs.cloudflare.com/ajax/libs/mathjax/2.7.5/MathJax.js?config=TeX-AMS-MML_SVG\"></script><script type=\"text/javascript\">if (window.MathJax && window.MathJax.Hub && window.MathJax.Hub.Config) {window.MathJax.Hub.Config({SVG: {font: \"STIX-Web\"}});}</script>                <script type=\"text/javascript\">window.PlotlyConfig = {MathJaxConfig: 'local'};</script>\n",
              "        <script charset=\"utf-8\" src=\"https://cdn.plot.ly/plotly-3.0.0.min.js\"></script>                <div id=\"59933c47-f2f3-4ddd-b194-5c17d47490b1\" class=\"plotly-graph-div\" style=\"height:525px; width:100%;\"></div>            <script type=\"text/javascript\">                window.PLOTLYENV=window.PLOTLYENV || {};                                if (document.getElementById(\"59933c47-f2f3-4ddd-b194-5c17d47490b1\")) {                    Plotly.newPlot(                        \"59933c47-f2f3-4ddd-b194-5c17d47490b1\",                        [{\"name\":\"A\",\"y\":{\"dtype\":\"f8\",\"bdata\":\"jVnhCKsQ778FDR6FK9zbP9qMvOWWe+q\\u002fdWRWOs0n5b86pD8Y5RPyvzVkTgDrRve\\u002fV13I3fiD7r915fGCvjXAPwvGdlHsjPG\\u002fU0t9iplUlj8xY9Le6bPXv3LoFu4xJcI\\u002fq3pmHVT44b9k8E93r1HrP6mVKz1jWA7AhSk6V4+dyD9NK5yjqIvbv7z2F+NXufW\\u002f4C\\u002f1VGn\\u002f8z\\u002fLaMId4dnYv4H0L6sVJeS\\u002fp2j1g5ly9r+L69QKv5H4v4rEwk9uecA\\u002fOuik8Ohk\\u002fD+HHjiHyT\\u002f0P+96b48omuS\\u002fnFapnzsH8b8mSSMEMoHiP9OlvDht7vW\\u002fKHJe6OO6+b9Tc7oS6Ej3P8Kud1M8I+m\\u002f\\u002fK8wLkdhAcDrK9dtplbxvxSXTQhn6QBArUxMDPHM8L+3imWQ9iXxv71K1NHbNLc\\u002fQOklY70Y1j9XPijtwci4PyXWBTfonfO\\u002f29NuDH8u3b9BLe3xQ9z\\u002fv46tdqMO99O\\u002fkKoAlAPS4z\\u002fIF+UV9ufzv9mjMFt63OY\\u002fs9S\\u002fdNdB+b8zeogc84rav3RWJyDg2ve\\u002ft+6CKrZd4D+gQr6p1d3hv7\\u002fKXr\\u002fcyNe\\u002fcL1AlhPb1r\\u002fb\\u002fnRa98f6P24f38Z6IOS\\u002fn6yf6s557D9CWaoZC\\u002fatP7sb9BFxiu6\\u002fagGZjZ8l4z9MLo6LWNAFQCD4QsvK7de\\u002fCAIShGrR3b8hxkzMiTXgv8YT1o+7ed4\\u002fc+KSYaSQAMD5S+1GtxS1v4aDcJL8Vv+\\u002fmGsd4JEn6b8l4PRUvujqvzKC1pMgTN2\\u002f59A5tO1N8b+\\u002fwK5rzjW+PxgYrU5fEKq\\u002fNtd+jFUByr\\u002fuRL7x49iAPxMywj5RfvQ\\u002f\\u002fpu0zqJg\\u002fr9OjW1G2mLlPwctgPSjDfC\\u002fYkQuVEg6yD83wV1sUSLbv5MKcQTIxMQ\\u002fDMIA6isL4D8kuEospMXxP3A1IYIZl+c\\u002fCdpepGLW2L\\u002fwDNs6zJ3Sv9K0jJ\\u002fZxse\\u002ffmZNAVsztD86cirVIIfcv8aRsE7Z\\u002fOg\\u002fxIEBWRwF5j\\u002fby\\u002f2sv0fQv037cOtVmcm\\u002fpD1H0Xvm8b8WPKP\\u002f\\u002fGD1P98HAlX6N\\u002fG\\u002ftt16e6ww8T8=\"},\"type\":\"box\"},{\"name\":\"B\",\"y\":{\"dtype\":\"f8\",\"bdata\":\"Eqhbf69Z+D9biA8hNsXvv8Bpm8KgYum\\u002fBgRp9ss4x79RxXYXcnC7P5ZcotpKEfW\\u002frJmquEIq2L9+3dkfa7L1vxN2j8X96O0\\u002ffMh3xppD6T\\u002fvc8lcxkfgP1TOyUnGxeC\\u002fSkCUuCAd7r+LtASfgT7cP5CjeBgk1ua\\u002fVMFZz4UF7b8OcqpujEnEv9\\u002fJPioX5dk\\u002fZqNFy5SNoz87D2Rn7lX3P4lghYmE0+E\\u002fesbF\\u002fkYY+T9qqCONEU3rPy+7vr+k6Zi\\u002fLnD2YyRL5j8IQWgYiODiv2qEBwBQyNK\\u002f65B1YvLI1j9ke8eVv\\u002ffYP2G6Xc9f\\u002ffS\\u002f+EwMBA\\u002flyr\\u002fons\\u002fzigLUP07J5R11YOc\\u002f8is7I1qBxL+vb+exshr1P0yTCbCpBgBA6m0FczFc1T+kVVg3yqrSP+RLFIiy8Mi\\u002fbdOFz+0M5T8NBqFxjOfVP5TUlhirX+C\\u002frV2sN24z9b959INxE2\\u002fdvyEDZ+GDUea\\u002flAQkcG1a6r9arty4cubGv0eCAan3arw\\u002f9qG8nJKG9L+hV5FYFh3IPwoRr38CN9s\\u002f40ROav4K0L8cY7z\\u002fejPQPwuD\\u002fV3uXPa\\u002f6mwrD5sp4r8l+xU0uJvgv4r0wRAneuq\\u002f3mO7w1um\\u002fD9CEMO1b5H3Pxurz8AIReI\\u002fmIstRZUS6r\\u002f217SOtffxv7fS8IrCGPU\\u002fjkieL7vH6r9mOthFPPzzPwyGiKNpQ+8\\u002fZoHPOI2z5r8U3LzthIDfP5\\u002f\\u002f8uJI\\u002fe6\\u002fjtv2gIEc0D+3Bq1k2zm6v8RfOM5DJtk\\u002f8AsnZb0Tsb9T+0T+\\u002flb0P5WhapdLV+S\\u002fJLm6hY5E4L8dU0Zg++DQvxJIaRhWReG\\u002fogA83DWe8r8Xhg7pmB3TPxRdDKC\\u002fwe+\\u002fez0aER7u6r+fURkIU7PgPy9GGcPqHb0\\u002fVQ1pRUiEcL8bnsGAt0buP+8e3kmLD\\u002fC\\u002fgKD2mrUM3L8AS3katgfuv4s8wzEEL8g\\u002fkraphGcdxj9AshhGcEPMP2RK7tzkpf6\\u002f\\u002febgTQ5Eyr\\u002ff9M0iLzfYv7wkmXfgh+8\\u002fS5GFxL7GA0AAmI2X\\u002fIHTPwxnfAhQ6u2\\u002f5cS2pdW40j8=\"},\"type\":\"box\"},{\"name\":\"C\",\"y\":{\"dtype\":\"f8\",\"bdata\":\"BkiedZzb8L+2t9ZgQ+rhP37UvDmPdt6\\u002fYJy+I17f\\u002fD\\u002fmd4wFv6P0P7GGthARNve\\u002fECI\\u002fD0TTzz9pAyfq8DrEvxZIXWBaoMO\\u002fo8Jlb8i55z\\u002fpMYIU8poBQO6\\u002fU5azs9a\\u002fb5KUZic+1T8SWh+pp9q1P3QJhLJ51+K\\u002fgF+9Pjmaxb9gbqHGiJLwP4myZzE4eMU\\u002fkO\\u002f2GVzG4L8L3f4yZM\\u002fiPzrqJ3MgUO4\\u002f8LXOiwKn5r8ZO4IR1LisP620RmKo5tE\\u002fWgaNbmav8z\\u002fky9bCi5PxP0fAapwWLsI\\u002fhygz91mN2r9Dv8GqgOrmP1bSU3KwpPk\\u002f1BTZKyO2BcDn0J+8ND31v2\\u002fAZ2Cwlcs\\u002fv5aL\\u002fo6j+z\\u002fCxtgMAclpv7Go4fMsQ\\u002fA\\u002fBQytwXh61r9WUNOCvvUBQOsYYqkupug\\u002f1zkpfxIs5z\\u002fRSdcItZH8Pw0GVmudr\\u002fO\\u002ftIUCJQfoAkAouQLp+qfePz8aiiqb1+A\\u002fFVCjR9iQ2j9AlxAImBT2P74dwYapN90\\u002fEvGSu+738D+uiJ7d2RPZP9y1hHFNAt4\\u002f0Pe9PCqm1j\\u002fQGlsVC5O1P+dRyRC3RwBAcgdTaOJt47+m489TInrYP2yySLsNaADA8tY7mXSR0b8vudTaDp\\u002fwvwgG\\u002fvQXWQNAKeyHZZO01r88JF6kmSPqvxFG3WTSVPQ\\u002fu3TxUc7n\\u002fL9BbzpEVwjfP4XxaaXMQuI\\u002f5WCOLqe47z9fT1e\\u002fy8PKv\\u002fOh2TSQevw\\u002fAs99mvon1T+gnfw+IfDqPxqs+B89tOM\\u002fszv0Lvpm8j9vSFpAyfrQvwAxN\\u002fXv3OA\\u002fIJh6ln3\\u002f3r+WTG9+9\\u002fT2v\\u002fjhbqem3a2\\u002fxGEO4ghc5j+1NepeOcObP7QSX3BabuE\\u002fdaB4Zxse9z8LFOas0jHRvwTyzXM1yu+\\u002fbZRpWiMH5D8WSa9791jhvx4r\\u002fkCaCd2\\u002fdalHgN8e8j\\u002fErbOJy2zFv8gRA8aHoNQ\\u002fVeOd9X1w0j+8+0CHStjxP9ATPnXEm9U\\u002fqXOIlshvvb9Cb+Hv3QXrP8uD9dt7TtE\\u002fcNJ3lR7Osr+S0XVfMuPxv4ADQF+tzN0\\u002fIlVwkcUT978=\"},\"type\":\"box\"}],                        {\"title\":{\"text\":\"Kutu Grafiği\"},\"template\":{\"data\":{\"histogram2dcontour\":[{\"type\":\"histogram2dcontour\",\"colorbar\":{\"outlinewidth\":0,\"ticks\":\"\"},\"colorscale\":[[0.0,\"#0d0887\"],[0.1111111111111111,\"#46039f\"],[0.2222222222222222,\"#7201a8\"],[0.3333333333333333,\"#9c179e\"],[0.4444444444444444,\"#bd3786\"],[0.5555555555555556,\"#d8576b\"],[0.6666666666666666,\"#ed7953\"],[0.7777777777777778,\"#fb9f3a\"],[0.8888888888888888,\"#fdca26\"],[1.0,\"#f0f921\"]]}],\"choropleth\":[{\"type\":\"choropleth\",\"colorbar\":{\"outlinewidth\":0,\"ticks\":\"\"}}],\"histogram2d\":[{\"type\":\"histogram2d\",\"colorbar\":{\"outlinewidth\":0,\"ticks\":\"\"},\"colorscale\":[[0.0,\"#0d0887\"],[0.1111111111111111,\"#46039f\"],[0.2222222222222222,\"#7201a8\"],[0.3333333333333333,\"#9c179e\"],[0.4444444444444444,\"#bd3786\"],[0.5555555555555556,\"#d8576b\"],[0.6666666666666666,\"#ed7953\"],[0.7777777777777778,\"#fb9f3a\"],[0.8888888888888888,\"#fdca26\"],[1.0,\"#f0f921\"]]}],\"heatmap\":[{\"type\":\"heatmap\",\"colorbar\":{\"outlinewidth\":0,\"ticks\":\"\"},\"colorscale\":[[0.0,\"#0d0887\"],[0.1111111111111111,\"#46039f\"],[0.2222222222222222,\"#7201a8\"],[0.3333333333333333,\"#9c179e\"],[0.4444444444444444,\"#bd3786\"],[0.5555555555555556,\"#d8576b\"],[0.6666666666666666,\"#ed7953\"],[0.7777777777777778,\"#fb9f3a\"],[0.8888888888888888,\"#fdca26\"],[1.0,\"#f0f921\"]]}],\"contourcarpet\":[{\"type\":\"contourcarpet\",\"colorbar\":{\"outlinewidth\":0,\"ticks\":\"\"}}],\"contour\":[{\"type\":\"contour\",\"colorbar\":{\"outlinewidth\":0,\"ticks\":\"\"},\"colorscale\":[[0.0,\"#0d0887\"],[0.1111111111111111,\"#46039f\"],[0.2222222222222222,\"#7201a8\"],[0.3333333333333333,\"#9c179e\"],[0.4444444444444444,\"#bd3786\"],[0.5555555555555556,\"#d8576b\"],[0.6666666666666666,\"#ed7953\"],[0.7777777777777778,\"#fb9f3a\"],[0.8888888888888888,\"#fdca26\"],[1.0,\"#f0f921\"]]}],\"surface\":[{\"type\":\"surface\",\"colorbar\":{\"outlinewidth\":0,\"ticks\":\"\"},\"colorscale\":[[0.0,\"#0d0887\"],[0.1111111111111111,\"#46039f\"],[0.2222222222222222,\"#7201a8\"],[0.3333333333333333,\"#9c179e\"],[0.4444444444444444,\"#bd3786\"],[0.5555555555555556,\"#d8576b\"],[0.6666666666666666,\"#ed7953\"],[0.7777777777777778,\"#fb9f3a\"],[0.8888888888888888,\"#fdca26\"],[1.0,\"#f0f921\"]]}],\"mesh3d\":[{\"type\":\"mesh3d\",\"colorbar\":{\"outlinewidth\":0,\"ticks\":\"\"}}],\"scatter\":[{\"fillpattern\":{\"fillmode\":\"overlay\",\"size\":10,\"solidity\":0.2},\"type\":\"scatter\"}],\"parcoords\":[{\"type\":\"parcoords\",\"line\":{\"colorbar\":{\"outlinewidth\":0,\"ticks\":\"\"}}}],\"scatterpolargl\":[{\"type\":\"scatterpolargl\",\"marker\":{\"colorbar\":{\"outlinewidth\":0,\"ticks\":\"\"}}}],\"bar\":[{\"error_x\":{\"color\":\"#2a3f5f\"},\"error_y\":{\"color\":\"#2a3f5f\"},\"marker\":{\"line\":{\"color\":\"#E5ECF6\",\"width\":0.5},\"pattern\":{\"fillmode\":\"overlay\",\"size\":10,\"solidity\":0.2}},\"type\":\"bar\"}],\"scattergeo\":[{\"type\":\"scattergeo\",\"marker\":{\"colorbar\":{\"outlinewidth\":0,\"ticks\":\"\"}}}],\"scatterpolar\":[{\"type\":\"scatterpolar\",\"marker\":{\"colorbar\":{\"outlinewidth\":0,\"ticks\":\"\"}}}],\"histogram\":[{\"marker\":{\"pattern\":{\"fillmode\":\"overlay\",\"size\":10,\"solidity\":0.2}},\"type\":\"histogram\"}],\"scattergl\":[{\"type\":\"scattergl\",\"marker\":{\"colorbar\":{\"outlinewidth\":0,\"ticks\":\"\"}}}],\"scatter3d\":[{\"type\":\"scatter3d\",\"line\":{\"colorbar\":{\"outlinewidth\":0,\"ticks\":\"\"}},\"marker\":{\"colorbar\":{\"outlinewidth\":0,\"ticks\":\"\"}}}],\"scattermap\":[{\"type\":\"scattermap\",\"marker\":{\"colorbar\":{\"outlinewidth\":0,\"ticks\":\"\"}}}],\"scattermapbox\":[{\"type\":\"scattermapbox\",\"marker\":{\"colorbar\":{\"outlinewidth\":0,\"ticks\":\"\"}}}],\"scatterternary\":[{\"type\":\"scatterternary\",\"marker\":{\"colorbar\":{\"outlinewidth\":0,\"ticks\":\"\"}}}],\"scattercarpet\":[{\"type\":\"scattercarpet\",\"marker\":{\"colorbar\":{\"outlinewidth\":0,\"ticks\":\"\"}}}],\"carpet\":[{\"aaxis\":{\"endlinecolor\":\"#2a3f5f\",\"gridcolor\":\"white\",\"linecolor\":\"white\",\"minorgridcolor\":\"white\",\"startlinecolor\":\"#2a3f5f\"},\"baxis\":{\"endlinecolor\":\"#2a3f5f\",\"gridcolor\":\"white\",\"linecolor\":\"white\",\"minorgridcolor\":\"white\",\"startlinecolor\":\"#2a3f5f\"},\"type\":\"carpet\"}],\"table\":[{\"cells\":{\"fill\":{\"color\":\"#EBF0F8\"},\"line\":{\"color\":\"white\"}},\"header\":{\"fill\":{\"color\":\"#C8D4E3\"},\"line\":{\"color\":\"white\"}},\"type\":\"table\"}],\"barpolar\":[{\"marker\":{\"line\":{\"color\":\"#E5ECF6\",\"width\":0.5},\"pattern\":{\"fillmode\":\"overlay\",\"size\":10,\"solidity\":0.2}},\"type\":\"barpolar\"}],\"pie\":[{\"automargin\":true,\"type\":\"pie\"}]},\"layout\":{\"autotypenumbers\":\"strict\",\"colorway\":[\"#636efa\",\"#EF553B\",\"#00cc96\",\"#ab63fa\",\"#FFA15A\",\"#19d3f3\",\"#FF6692\",\"#B6E880\",\"#FF97FF\",\"#FECB52\"],\"font\":{\"color\":\"#2a3f5f\"},\"hovermode\":\"closest\",\"hoverlabel\":{\"align\":\"left\"},\"paper_bgcolor\":\"white\",\"plot_bgcolor\":\"#E5ECF6\",\"polar\":{\"bgcolor\":\"#E5ECF6\",\"angularaxis\":{\"gridcolor\":\"white\",\"linecolor\":\"white\",\"ticks\":\"\"},\"radialaxis\":{\"gridcolor\":\"white\",\"linecolor\":\"white\",\"ticks\":\"\"}},\"ternary\":{\"bgcolor\":\"#E5ECF6\",\"aaxis\":{\"gridcolor\":\"white\",\"linecolor\":\"white\",\"ticks\":\"\"},\"baxis\":{\"gridcolor\":\"white\",\"linecolor\":\"white\",\"ticks\":\"\"},\"caxis\":{\"gridcolor\":\"white\",\"linecolor\":\"white\",\"ticks\":\"\"}},\"coloraxis\":{\"colorbar\":{\"outlinewidth\":0,\"ticks\":\"\"}},\"colorscale\":{\"sequential\":[[0.0,\"#0d0887\"],[0.1111111111111111,\"#46039f\"],[0.2222222222222222,\"#7201a8\"],[0.3333333333333333,\"#9c179e\"],[0.4444444444444444,\"#bd3786\"],[0.5555555555555556,\"#d8576b\"],[0.6666666666666666,\"#ed7953\"],[0.7777777777777778,\"#fb9f3a\"],[0.8888888888888888,\"#fdca26\"],[1.0,\"#f0f921\"]],\"sequentialminus\":[[0.0,\"#0d0887\"],[0.1111111111111111,\"#46039f\"],[0.2222222222222222,\"#7201a8\"],[0.3333333333333333,\"#9c179e\"],[0.4444444444444444,\"#bd3786\"],[0.5555555555555556,\"#d8576b\"],[0.6666666666666666,\"#ed7953\"],[0.7777777777777778,\"#fb9f3a\"],[0.8888888888888888,\"#fdca26\"],[1.0,\"#f0f921\"]],\"diverging\":[[0,\"#8e0152\"],[0.1,\"#c51b7d\"],[0.2,\"#de77ae\"],[0.3,\"#f1b6da\"],[0.4,\"#fde0ef\"],[0.5,\"#f7f7f7\"],[0.6,\"#e6f5d0\"],[0.7,\"#b8e186\"],[0.8,\"#7fbc41\"],[0.9,\"#4d9221\"],[1,\"#276419\"]]},\"xaxis\":{\"gridcolor\":\"white\",\"linecolor\":\"white\",\"ticks\":\"\",\"title\":{\"standoff\":15},\"zerolinecolor\":\"white\",\"automargin\":true,\"zerolinewidth\":2},\"yaxis\":{\"gridcolor\":\"white\",\"linecolor\":\"white\",\"ticks\":\"\",\"title\":{\"standoff\":15},\"zerolinecolor\":\"white\",\"automargin\":true,\"zerolinewidth\":2},\"scene\":{\"xaxis\":{\"backgroundcolor\":\"#E5ECF6\",\"gridcolor\":\"white\",\"linecolor\":\"white\",\"showbackground\":true,\"ticks\":\"\",\"zerolinecolor\":\"white\",\"gridwidth\":2},\"yaxis\":{\"backgroundcolor\":\"#E5ECF6\",\"gridcolor\":\"white\",\"linecolor\":\"white\",\"showbackground\":true,\"ticks\":\"\",\"zerolinecolor\":\"white\",\"gridwidth\":2},\"zaxis\":{\"backgroundcolor\":\"#E5ECF6\",\"gridcolor\":\"white\",\"linecolor\":\"white\",\"showbackground\":true,\"ticks\":\"\",\"zerolinecolor\":\"white\",\"gridwidth\":2}},\"shapedefaults\":{\"line\":{\"color\":\"#2a3f5f\"}},\"annotationdefaults\":{\"arrowcolor\":\"#2a3f5f\",\"arrowhead\":0,\"arrowwidth\":1},\"geo\":{\"bgcolor\":\"white\",\"landcolor\":\"#E5ECF6\",\"subunitcolor\":\"white\",\"showland\":true,\"showlakes\":true,\"lakecolor\":\"white\"},\"title\":{\"x\":0.05},\"mapbox\":{\"style\":\"light\"}}}},                        {\"responsive\": true}                    ).then(function(){\n",
              "                            \n",
              "var gd = document.getElementById('59933c47-f2f3-4ddd-b194-5c17d47490b1');\n",
              "var x = new MutationObserver(function (mutations, observer) {{\n",
              "        var display = window.getComputedStyle(gd).display;\n",
              "        if (!display || display === 'none') {{\n",
              "            console.log([gd, 'removed!']);\n",
              "            Plotly.purge(gd);\n",
              "            observer.disconnect();\n",
              "        }}\n",
              "}});\n",
              "\n",
              "// Listen for the removal of the full notebook cells\n",
              "var notebookContainer = gd.closest('#notebook-container');\n",
              "if (notebookContainer) {{\n",
              "    x.observe(notebookContainer, {childList: true});\n",
              "}}\n",
              "\n",
              "// Listen for the clearing of the current output cell\n",
              "var outputEl = gd.closest('.output');\n",
              "if (outputEl) {{\n",
              "    x.observe(outputEl, {childList: true});\n",
              "}}\n",
              "\n",
              "                        })                };            </script>        </div>"
            ]
          },
          "metadata": {}
        }
      ],
      "source": [
        "fig = go.Figure(data=[go.Box(y=df[col], name=col) for col in df.columns],\n",
        "                layout=go.Layout(title='Kutu Grafiği'))\n",
        "fig.show()"
      ]
    },
    {
      "cell_type": "markdown",
      "source": [
        "##Area Chart"
      ],
      "metadata": {
        "id": "y7EyHxxejQnQ"
      },
      "id": "y7EyHxxejQnQ"
    },
    {
      "cell_type": "code",
      "execution_count": 108,
      "id": "4a9b61d8-2796-4e41-8c20-42dab6fb6d5d",
      "metadata": {
        "id": "4a9b61d8-2796-4e41-8c20-42dab6fb6d5d",
        "colab": {
          "base_uri": "https://localhost:8080/",
          "height": 542
        },
        "outputId": "e316d914-7801-4a1c-b7aa-49ebd486fc2a"
      },
      "outputs": [
        {
          "output_type": "display_data",
          "data": {
            "application/vnd.plotly.v1+json": {
              "data": [
                {
                  "name": "A",
                  "stackgroup": "1",
                  "y": {
                    "dtype": "f8",
                    "bdata": "jVnhCKsQ778FDR6FK9zbP9qMvOWWe+q/dWRWOs0n5b86pD8Y5RPyvzVkTgDrRve/V13I3fiD7r915fGCvjXAPwvGdlHsjPG/U0t9iplUlj8xY9Le6bPXv3LoFu4xJcI/q3pmHVT44b9k8E93r1HrP6mVKz1jWA7AhSk6V4+dyD9NK5yjqIvbv7z2F+NXufW/4C/1VGn/8z/LaMId4dnYv4H0L6sVJeS/p2j1g5ly9r+L69QKv5H4v4rEwk9uecA/Ouik8Ohk/D+HHjiHyT/0P+96b48omuS/nFapnzsH8b8mSSMEMoHiP9OlvDht7vW/KHJe6OO6+b9Tc7oS6Ej3P8Kud1M8I+m//K8wLkdhAcDrK9dtplbxvxSXTQhn6QBArUxMDPHM8L+3imWQ9iXxv71K1NHbNLc/QOklY70Y1j9XPijtwci4PyXWBTfonfO/29NuDH8u3b9BLe3xQ9z/v46tdqMO99O/kKoAlAPS4z/IF+UV9ufzv9mjMFt63OY/s9S/dNdB+b8zeogc84rav3RWJyDg2ve/t+6CKrZd4D+gQr6p1d3hv7/KXr/cyNe/cL1AlhPb1r/b/nRa98f6P24f38Z6IOS/n6yf6s557D9CWaoZC/atP7sb9BFxiu6/agGZjZ8l4z9MLo6LWNAFQCD4QsvK7de/CAIShGrR3b8hxkzMiTXgv8YT1o+7ed4/c+KSYaSQAMD5S+1GtxS1v4aDcJL8Vv+/mGsd4JEn6b8l4PRUvujqvzKC1pMgTN2/59A5tO1N8b+/wK5rzjW+PxgYrU5fEKq/Ntd+jFUByr/uRL7x49iAPxMywj5RfvQ//pu0zqJg/r9OjW1G2mLlPwctgPSjDfC/YkQuVEg6yD83wV1sUSLbv5MKcQTIxMQ/DMIA6isL4D8kuEospMXxP3A1IYIZl+c/CdpepGLW2L/wDNs6zJ3Sv9K0jJ/Zxse/fmZNAVsztD86cirVIIfcv8aRsE7Z/Og/xIEBWRwF5j/by/2sv0fQv037cOtVmcm/pD1H0Xvm8b8WPKP//GD1P98HAlX6N/G/tt16e6ww8T8="
                  },
                  "type": "scatter"
                },
                {
                  "name": "B",
                  "stackgroup": "1",
                  "y": {
                    "dtype": "f8",
                    "bdata": "Eqhbf69Z+D9biA8hNsXvv8Bpm8KgYum/BgRp9ss4x79RxXYXcnC7P5ZcotpKEfW/rJmquEIq2L9+3dkfa7L1vxN2j8X96O0/fMh3xppD6T/vc8lcxkfgP1TOyUnGxeC/SkCUuCAd7r+LtASfgT7cP5CjeBgk1ua/VMFZz4UF7b8OcqpujEnEv9/JPioX5dk/ZqNFy5SNoz87D2Rn7lX3P4lghYmE0+E/esbF/kYY+T9qqCONEU3rPy+7vr+k6Zi/LnD2YyRL5j8IQWgYiODiv2qEBwBQyNK/65B1YvLI1j9ke8eVv/fYP2G6Xc9f/fS/+EwMBA/lyr/ons/zigLUP07J5R11YOc/8is7I1qBxL+vb+exshr1P0yTCbCpBgBA6m0FczFc1T+kVVg3yqrSP+RLFIiy8Mi/bdOFz+0M5T8NBqFxjOfVP5TUlhirX+C/rV2sN24z9b959INxE2/dvyEDZ+GDUea/lAQkcG1a6r9arty4cubGv0eCAan3arw/9qG8nJKG9L+hV5FYFh3IPwoRr38CN9s/40ROav4K0L8cY7z/ejPQPwuD/V3uXPa/6mwrD5sp4r8l+xU0uJvgv4r0wRAneuq/3mO7w1um/D9CEMO1b5H3Pxurz8AIReI/mIstRZUS6r/217SOtffxv7fS8IrCGPU/jkieL7vH6r9mOthFPPzzPwyGiKNpQ+8/ZoHPOI2z5r8U3LzthIDfP5//8uJI/e6/jtv2gIEc0D+3Bq1k2zm6v8RfOM5DJtk/8AsnZb0Tsb9T+0T+/lb0P5WhapdLV+S/JLm6hY5E4L8dU0Zg++DQvxJIaRhWReG/ogA83DWe8r8Xhg7pmB3TPxRdDKC/we+/ez0aER7u6r+fURkIU7PgPy9GGcPqHb0/VQ1pRUiEcL8bnsGAt0buP+8e3kmLD/C/gKD2mrUM3L8AS3katgfuv4s8wzEEL8g/kraphGcdxj9AshhGcEPMP2RK7tzkpf6//ebgTQ5Eyr/f9M0iLzfYv7wkmXfgh+8/S5GFxL7GA0AAmI2X/IHTPwxnfAhQ6u2/5cS2pdW40j8="
                  },
                  "type": "scatter"
                },
                {
                  "name": "C",
                  "stackgroup": "1",
                  "y": {
                    "dtype": "f8",
                    "bdata": "BkiedZzb8L+2t9ZgQ+rhP37UvDmPdt6/YJy+I17f/D/md4wFv6P0P7GGthARNve/ECI/D0TTzz9pAyfq8DrEvxZIXWBaoMO/o8Jlb8i55z/pMYIU8poBQO6/U5azs9a/b5KUZic+1T8SWh+pp9q1P3QJhLJ51+K/gF+9Pjmaxb9gbqHGiJLwP4myZzE4eMU/kO/2GVzG4L8L3f4yZM/iPzrqJ3MgUO4/8LXOiwKn5r8ZO4IR1LisP620RmKo5tE/WgaNbmav8z/ky9bCi5PxP0fAapwWLsI/hygz91mN2r9Dv8GqgOrmP1bSU3KwpPk/1BTZKyO2BcDn0J+8ND31v2/AZ2Cwlcs/v5aL/o6j+z/CxtgMAclpv7Go4fMsQ/A/BQytwXh61r9WUNOCvvUBQOsYYqkupug/1zkpfxIs5z/RSdcItZH8Pw0GVmudr/O/tIUCJQfoAkAouQLp+qfePz8aiiqb1+A/FVCjR9iQ2j9AlxAImBT2P74dwYapN90/EvGSu+738D+uiJ7d2RPZP9y1hHFNAt4/0Pe9PCqm1j/QGlsVC5O1P+dRyRC3RwBAcgdTaOJt47+m489TInrYP2yySLsNaADA8tY7mXSR0b8vudTaDp/wvwgG/vQXWQNAKeyHZZO01r88JF6kmSPqvxFG3WTSVPQ/u3TxUc7n/L9BbzpEVwjfP4XxaaXMQuI/5WCOLqe47z9fT1e/y8PKv/Oh2TSQevw/As99mvon1T+gnfw+IfDqPxqs+B89tOM/szv0Lvpm8j9vSFpAyfrQvwAxN/Xv3OA/IJh6ln3/3r+WTG9+9/T2v/jhbqem3a2/xGEO4ghc5j+1NepeOcObP7QSX3BabuE/daB4Zxse9z8LFOas0jHRvwTyzXM1yu+/bZRpWiMH5D8WSa9791jhvx4r/kCaCd2/dalHgN8e8j/ErbOJy2zFv8gRA8aHoNQ/VeOd9X1w0j+8+0CHStjxP9ATPnXEm9U/qXOIlshvvb9Cb+Hv3QXrP8uD9dt7TtE/cNJ3lR7Osr+S0XVfMuPxv4ADQF+tzN0/IlVwkcUT978="
                  },
                  "type": "scatter"
                }
              ],
              "layout": {
                "title": {
                  "text": "Alan Grafiği"
                },
                "template": {
                  "data": {
                    "histogram2dcontour": [
                      {
                        "type": "histogram2dcontour",
                        "colorbar": {
                          "outlinewidth": 0,
                          "ticks": ""
                        },
                        "colorscale": [
                          [
                            0,
                            "#0d0887"
                          ],
                          [
                            0.1111111111111111,
                            "#46039f"
                          ],
                          [
                            0.2222222222222222,
                            "#7201a8"
                          ],
                          [
                            0.3333333333333333,
                            "#9c179e"
                          ],
                          [
                            0.4444444444444444,
                            "#bd3786"
                          ],
                          [
                            0.5555555555555556,
                            "#d8576b"
                          ],
                          [
                            0.6666666666666666,
                            "#ed7953"
                          ],
                          [
                            0.7777777777777778,
                            "#fb9f3a"
                          ],
                          [
                            0.8888888888888888,
                            "#fdca26"
                          ],
                          [
                            1,
                            "#f0f921"
                          ]
                        ]
                      }
                    ],
                    "choropleth": [
                      {
                        "type": "choropleth",
                        "colorbar": {
                          "outlinewidth": 0,
                          "ticks": ""
                        }
                      }
                    ],
                    "histogram2d": [
                      {
                        "type": "histogram2d",
                        "colorbar": {
                          "outlinewidth": 0,
                          "ticks": ""
                        },
                        "colorscale": [
                          [
                            0,
                            "#0d0887"
                          ],
                          [
                            0.1111111111111111,
                            "#46039f"
                          ],
                          [
                            0.2222222222222222,
                            "#7201a8"
                          ],
                          [
                            0.3333333333333333,
                            "#9c179e"
                          ],
                          [
                            0.4444444444444444,
                            "#bd3786"
                          ],
                          [
                            0.5555555555555556,
                            "#d8576b"
                          ],
                          [
                            0.6666666666666666,
                            "#ed7953"
                          ],
                          [
                            0.7777777777777778,
                            "#fb9f3a"
                          ],
                          [
                            0.8888888888888888,
                            "#fdca26"
                          ],
                          [
                            1,
                            "#f0f921"
                          ]
                        ]
                      }
                    ],
                    "heatmap": [
                      {
                        "type": "heatmap",
                        "colorbar": {
                          "outlinewidth": 0,
                          "ticks": ""
                        },
                        "colorscale": [
                          [
                            0,
                            "#0d0887"
                          ],
                          [
                            0.1111111111111111,
                            "#46039f"
                          ],
                          [
                            0.2222222222222222,
                            "#7201a8"
                          ],
                          [
                            0.3333333333333333,
                            "#9c179e"
                          ],
                          [
                            0.4444444444444444,
                            "#bd3786"
                          ],
                          [
                            0.5555555555555556,
                            "#d8576b"
                          ],
                          [
                            0.6666666666666666,
                            "#ed7953"
                          ],
                          [
                            0.7777777777777778,
                            "#fb9f3a"
                          ],
                          [
                            0.8888888888888888,
                            "#fdca26"
                          ],
                          [
                            1,
                            "#f0f921"
                          ]
                        ]
                      }
                    ],
                    "contourcarpet": [
                      {
                        "type": "contourcarpet",
                        "colorbar": {
                          "outlinewidth": 0,
                          "ticks": ""
                        }
                      }
                    ],
                    "contour": [
                      {
                        "type": "contour",
                        "colorbar": {
                          "outlinewidth": 0,
                          "ticks": ""
                        },
                        "colorscale": [
                          [
                            0,
                            "#0d0887"
                          ],
                          [
                            0.1111111111111111,
                            "#46039f"
                          ],
                          [
                            0.2222222222222222,
                            "#7201a8"
                          ],
                          [
                            0.3333333333333333,
                            "#9c179e"
                          ],
                          [
                            0.4444444444444444,
                            "#bd3786"
                          ],
                          [
                            0.5555555555555556,
                            "#d8576b"
                          ],
                          [
                            0.6666666666666666,
                            "#ed7953"
                          ],
                          [
                            0.7777777777777778,
                            "#fb9f3a"
                          ],
                          [
                            0.8888888888888888,
                            "#fdca26"
                          ],
                          [
                            1,
                            "#f0f921"
                          ]
                        ]
                      }
                    ],
                    "surface": [
                      {
                        "type": "surface",
                        "colorbar": {
                          "outlinewidth": 0,
                          "ticks": ""
                        },
                        "colorscale": [
                          [
                            0,
                            "#0d0887"
                          ],
                          [
                            0.1111111111111111,
                            "#46039f"
                          ],
                          [
                            0.2222222222222222,
                            "#7201a8"
                          ],
                          [
                            0.3333333333333333,
                            "#9c179e"
                          ],
                          [
                            0.4444444444444444,
                            "#bd3786"
                          ],
                          [
                            0.5555555555555556,
                            "#d8576b"
                          ],
                          [
                            0.6666666666666666,
                            "#ed7953"
                          ],
                          [
                            0.7777777777777778,
                            "#fb9f3a"
                          ],
                          [
                            0.8888888888888888,
                            "#fdca26"
                          ],
                          [
                            1,
                            "#f0f921"
                          ]
                        ]
                      }
                    ],
                    "mesh3d": [
                      {
                        "type": "mesh3d",
                        "colorbar": {
                          "outlinewidth": 0,
                          "ticks": ""
                        }
                      }
                    ],
                    "scatter": [
                      {
                        "fillpattern": {
                          "fillmode": "overlay",
                          "size": 10,
                          "solidity": 0.2
                        },
                        "type": "scatter"
                      }
                    ],
                    "parcoords": [
                      {
                        "type": "parcoords",
                        "line": {
                          "colorbar": {
                            "outlinewidth": 0,
                            "ticks": ""
                          }
                        }
                      }
                    ],
                    "scatterpolargl": [
                      {
                        "type": "scatterpolargl",
                        "marker": {
                          "colorbar": {
                            "outlinewidth": 0,
                            "ticks": ""
                          }
                        }
                      }
                    ],
                    "bar": [
                      {
                        "error_x": {
                          "color": "#2a3f5f"
                        },
                        "error_y": {
                          "color": "#2a3f5f"
                        },
                        "marker": {
                          "line": {
                            "color": "#E5ECF6",
                            "width": 0.5
                          },
                          "pattern": {
                            "fillmode": "overlay",
                            "size": 10,
                            "solidity": 0.2
                          }
                        },
                        "type": "bar"
                      }
                    ],
                    "scattergeo": [
                      {
                        "type": "scattergeo",
                        "marker": {
                          "colorbar": {
                            "outlinewidth": 0,
                            "ticks": ""
                          }
                        }
                      }
                    ],
                    "scatterpolar": [
                      {
                        "type": "scatterpolar",
                        "marker": {
                          "colorbar": {
                            "outlinewidth": 0,
                            "ticks": ""
                          }
                        }
                      }
                    ],
                    "histogram": [
                      {
                        "marker": {
                          "pattern": {
                            "fillmode": "overlay",
                            "size": 10,
                            "solidity": 0.2
                          }
                        },
                        "type": "histogram"
                      }
                    ],
                    "scattergl": [
                      {
                        "type": "scattergl",
                        "marker": {
                          "colorbar": {
                            "outlinewidth": 0,
                            "ticks": ""
                          }
                        }
                      }
                    ],
                    "scatter3d": [
                      {
                        "type": "scatter3d",
                        "line": {
                          "colorbar": {
                            "outlinewidth": 0,
                            "ticks": ""
                          }
                        },
                        "marker": {
                          "colorbar": {
                            "outlinewidth": 0,
                            "ticks": ""
                          }
                        }
                      }
                    ],
                    "scattermap": [
                      {
                        "type": "scattermap",
                        "marker": {
                          "colorbar": {
                            "outlinewidth": 0,
                            "ticks": ""
                          }
                        }
                      }
                    ],
                    "scattermapbox": [
                      {
                        "type": "scattermapbox",
                        "marker": {
                          "colorbar": {
                            "outlinewidth": 0,
                            "ticks": ""
                          }
                        }
                      }
                    ],
                    "scatterternary": [
                      {
                        "type": "scatterternary",
                        "marker": {
                          "colorbar": {
                            "outlinewidth": 0,
                            "ticks": ""
                          }
                        }
                      }
                    ],
                    "scattercarpet": [
                      {
                        "type": "scattercarpet",
                        "marker": {
                          "colorbar": {
                            "outlinewidth": 0,
                            "ticks": ""
                          }
                        }
                      }
                    ],
                    "carpet": [
                      {
                        "aaxis": {
                          "endlinecolor": "#2a3f5f",
                          "gridcolor": "white",
                          "linecolor": "white",
                          "minorgridcolor": "white",
                          "startlinecolor": "#2a3f5f"
                        },
                        "baxis": {
                          "endlinecolor": "#2a3f5f",
                          "gridcolor": "white",
                          "linecolor": "white",
                          "minorgridcolor": "white",
                          "startlinecolor": "#2a3f5f"
                        },
                        "type": "carpet"
                      }
                    ],
                    "table": [
                      {
                        "cells": {
                          "fill": {
                            "color": "#EBF0F8"
                          },
                          "line": {
                            "color": "white"
                          }
                        },
                        "header": {
                          "fill": {
                            "color": "#C8D4E3"
                          },
                          "line": {
                            "color": "white"
                          }
                        },
                        "type": "table"
                      }
                    ],
                    "barpolar": [
                      {
                        "marker": {
                          "line": {
                            "color": "#E5ECF6",
                            "width": 0.5
                          },
                          "pattern": {
                            "fillmode": "overlay",
                            "size": 10,
                            "solidity": 0.2
                          }
                        },
                        "type": "barpolar"
                      }
                    ],
                    "pie": [
                      {
                        "automargin": true,
                        "type": "pie"
                      }
                    ]
                  },
                  "layout": {
                    "autotypenumbers": "strict",
                    "colorway": [
                      "#636efa",
                      "#EF553B",
                      "#00cc96",
                      "#ab63fa",
                      "#FFA15A",
                      "#19d3f3",
                      "#FF6692",
                      "#B6E880",
                      "#FF97FF",
                      "#FECB52"
                    ],
                    "font": {
                      "color": "#2a3f5f"
                    },
                    "hovermode": "closest",
                    "hoverlabel": {
                      "align": "left"
                    },
                    "paper_bgcolor": "white",
                    "plot_bgcolor": "#E5ECF6",
                    "polar": {
                      "bgcolor": "#E5ECF6",
                      "angularaxis": {
                        "gridcolor": "white",
                        "linecolor": "white",
                        "ticks": ""
                      },
                      "radialaxis": {
                        "gridcolor": "white",
                        "linecolor": "white",
                        "ticks": ""
                      }
                    },
                    "ternary": {
                      "bgcolor": "#E5ECF6",
                      "aaxis": {
                        "gridcolor": "white",
                        "linecolor": "white",
                        "ticks": ""
                      },
                      "baxis": {
                        "gridcolor": "white",
                        "linecolor": "white",
                        "ticks": ""
                      },
                      "caxis": {
                        "gridcolor": "white",
                        "linecolor": "white",
                        "ticks": ""
                      }
                    },
                    "coloraxis": {
                      "colorbar": {
                        "outlinewidth": 0,
                        "ticks": ""
                      }
                    },
                    "colorscale": {
                      "sequential": [
                        [
                          0,
                          "#0d0887"
                        ],
                        [
                          0.1111111111111111,
                          "#46039f"
                        ],
                        [
                          0.2222222222222222,
                          "#7201a8"
                        ],
                        [
                          0.3333333333333333,
                          "#9c179e"
                        ],
                        [
                          0.4444444444444444,
                          "#bd3786"
                        ],
                        [
                          0.5555555555555556,
                          "#d8576b"
                        ],
                        [
                          0.6666666666666666,
                          "#ed7953"
                        ],
                        [
                          0.7777777777777778,
                          "#fb9f3a"
                        ],
                        [
                          0.8888888888888888,
                          "#fdca26"
                        ],
                        [
                          1,
                          "#f0f921"
                        ]
                      ],
                      "sequentialminus": [
                        [
                          0,
                          "#0d0887"
                        ],
                        [
                          0.1111111111111111,
                          "#46039f"
                        ],
                        [
                          0.2222222222222222,
                          "#7201a8"
                        ],
                        [
                          0.3333333333333333,
                          "#9c179e"
                        ],
                        [
                          0.4444444444444444,
                          "#bd3786"
                        ],
                        [
                          0.5555555555555556,
                          "#d8576b"
                        ],
                        [
                          0.6666666666666666,
                          "#ed7953"
                        ],
                        [
                          0.7777777777777778,
                          "#fb9f3a"
                        ],
                        [
                          0.8888888888888888,
                          "#fdca26"
                        ],
                        [
                          1,
                          "#f0f921"
                        ]
                      ],
                      "diverging": [
                        [
                          0,
                          "#8e0152"
                        ],
                        [
                          0.1,
                          "#c51b7d"
                        ],
                        [
                          0.2,
                          "#de77ae"
                        ],
                        [
                          0.3,
                          "#f1b6da"
                        ],
                        [
                          0.4,
                          "#fde0ef"
                        ],
                        [
                          0.5,
                          "#f7f7f7"
                        ],
                        [
                          0.6,
                          "#e6f5d0"
                        ],
                        [
                          0.7,
                          "#b8e186"
                        ],
                        [
                          0.8,
                          "#7fbc41"
                        ],
                        [
                          0.9,
                          "#4d9221"
                        ],
                        [
                          1,
                          "#276419"
                        ]
                      ]
                    },
                    "xaxis": {
                      "gridcolor": "white",
                      "linecolor": "white",
                      "ticks": "",
                      "title": {
                        "standoff": 15
                      },
                      "zerolinecolor": "white",
                      "automargin": true,
                      "zerolinewidth": 2
                    },
                    "yaxis": {
                      "gridcolor": "white",
                      "linecolor": "white",
                      "ticks": "",
                      "title": {
                        "standoff": 15
                      },
                      "zerolinecolor": "white",
                      "automargin": true,
                      "zerolinewidth": 2
                    },
                    "scene": {
                      "xaxis": {
                        "backgroundcolor": "#E5ECF6",
                        "gridcolor": "white",
                        "linecolor": "white",
                        "showbackground": true,
                        "ticks": "",
                        "zerolinecolor": "white",
                        "gridwidth": 2
                      },
                      "yaxis": {
                        "backgroundcolor": "#E5ECF6",
                        "gridcolor": "white",
                        "linecolor": "white",
                        "showbackground": true,
                        "ticks": "",
                        "zerolinecolor": "white",
                        "gridwidth": 2
                      },
                      "zaxis": {
                        "backgroundcolor": "#E5ECF6",
                        "gridcolor": "white",
                        "linecolor": "white",
                        "showbackground": true,
                        "ticks": "",
                        "zerolinecolor": "white",
                        "gridwidth": 2
                      }
                    },
                    "shapedefaults": {
                      "line": {
                        "color": "#2a3f5f"
                      }
                    },
                    "annotationdefaults": {
                      "arrowcolor": "#2a3f5f",
                      "arrowhead": 0,
                      "arrowwidth": 1
                    },
                    "geo": {
                      "bgcolor": "white",
                      "landcolor": "#E5ECF6",
                      "subunitcolor": "white",
                      "showland": true,
                      "showlakes": true,
                      "lakecolor": "white"
                    },
                    "title": {
                      "x": 0.05
                    },
                    "mapbox": {
                      "style": "light"
                    }
                  }
                }
              },
              "config": {
                "plotlyServerURL": "https://plot.ly"
              }
            },
            "text/html": [
              "<div>            <script src=\"https://cdnjs.cloudflare.com/ajax/libs/mathjax/2.7.5/MathJax.js?config=TeX-AMS-MML_SVG\"></script><script type=\"text/javascript\">if (window.MathJax && window.MathJax.Hub && window.MathJax.Hub.Config) {window.MathJax.Hub.Config({SVG: {font: \"STIX-Web\"}});}</script>                <script type=\"text/javascript\">window.PlotlyConfig = {MathJaxConfig: 'local'};</script>\n",
              "        <script charset=\"utf-8\" src=\"https://cdn.plot.ly/plotly-3.0.0.min.js\"></script>                <div id=\"2ae2d210-bc97-47ac-b6b0-5f8738023061\" class=\"plotly-graph-div\" style=\"height:525px; width:100%;\"></div>            <script type=\"text/javascript\">                window.PLOTLYENV=window.PLOTLYENV || {};                                if (document.getElementById(\"2ae2d210-bc97-47ac-b6b0-5f8738023061\")) {                    Plotly.newPlot(                        \"2ae2d210-bc97-47ac-b6b0-5f8738023061\",                        [{\"name\":\"A\",\"stackgroup\":\"1\",\"y\":{\"dtype\":\"f8\",\"bdata\":\"jVnhCKsQ778FDR6FK9zbP9qMvOWWe+q\\u002fdWRWOs0n5b86pD8Y5RPyvzVkTgDrRve\\u002fV13I3fiD7r915fGCvjXAPwvGdlHsjPG\\u002fU0t9iplUlj8xY9Le6bPXv3LoFu4xJcI\\u002fq3pmHVT44b9k8E93r1HrP6mVKz1jWA7AhSk6V4+dyD9NK5yjqIvbv7z2F+NXufW\\u002f4C\\u002f1VGn\\u002f8z\\u002fLaMId4dnYv4H0L6sVJeS\\u002fp2j1g5ly9r+L69QKv5H4v4rEwk9uecA\\u002fOuik8Ohk\\u002fD+HHjiHyT\\u002f0P+96b48omuS\\u002fnFapnzsH8b8mSSMEMoHiP9OlvDht7vW\\u002fKHJe6OO6+b9Tc7oS6Ej3P8Kud1M8I+m\\u002f\\u002fK8wLkdhAcDrK9dtplbxvxSXTQhn6QBArUxMDPHM8L+3imWQ9iXxv71K1NHbNLc\\u002fQOklY70Y1j9XPijtwci4PyXWBTfonfO\\u002f29NuDH8u3b9BLe3xQ9z\\u002fv46tdqMO99O\\u002fkKoAlAPS4z\\u002fIF+UV9ufzv9mjMFt63OY\\u002fs9S\\u002fdNdB+b8zeogc84rav3RWJyDg2ve\\u002ft+6CKrZd4D+gQr6p1d3hv7\\u002fKXr\\u002fcyNe\\u002fcL1AlhPb1r\\u002fb\\u002fnRa98f6P24f38Z6IOS\\u002fn6yf6s557D9CWaoZC\\u002fatP7sb9BFxiu6\\u002fagGZjZ8l4z9MLo6LWNAFQCD4QsvK7de\\u002fCAIShGrR3b8hxkzMiTXgv8YT1o+7ed4\\u002fc+KSYaSQAMD5S+1GtxS1v4aDcJL8Vv+\\u002fmGsd4JEn6b8l4PRUvujqvzKC1pMgTN2\\u002f59A5tO1N8b+\\u002fwK5rzjW+PxgYrU5fEKq\\u002fNtd+jFUByr\\u002fuRL7x49iAPxMywj5RfvQ\\u002f\\u002fpu0zqJg\\u002fr9OjW1G2mLlPwctgPSjDfC\\u002fYkQuVEg6yD83wV1sUSLbv5MKcQTIxMQ\\u002fDMIA6isL4D8kuEospMXxP3A1IYIZl+c\\u002fCdpepGLW2L\\u002fwDNs6zJ3Sv9K0jJ\\u002fZxse\\u002ffmZNAVsztD86cirVIIfcv8aRsE7Z\\u002fOg\\u002fxIEBWRwF5j\\u002fby\\u002f2sv0fQv037cOtVmcm\\u002fpD1H0Xvm8b8WPKP\\u002f\\u002fGD1P98HAlX6N\\u002fG\\u002ftt16e6ww8T8=\"},\"type\":\"scatter\"},{\"name\":\"B\",\"stackgroup\":\"1\",\"y\":{\"dtype\":\"f8\",\"bdata\":\"Eqhbf69Z+D9biA8hNsXvv8Bpm8KgYum\\u002fBgRp9ss4x79RxXYXcnC7P5ZcotpKEfW\\u002frJmquEIq2L9+3dkfa7L1vxN2j8X96O0\\u002ffMh3xppD6T\\u002fvc8lcxkfgP1TOyUnGxeC\\u002fSkCUuCAd7r+LtASfgT7cP5CjeBgk1ua\\u002fVMFZz4UF7b8OcqpujEnEv9\\u002fJPioX5dk\\u002fZqNFy5SNoz87D2Rn7lX3P4lghYmE0+E\\u002fesbF\\u002fkYY+T9qqCONEU3rPy+7vr+k6Zi\\u002fLnD2YyRL5j8IQWgYiODiv2qEBwBQyNK\\u002f65B1YvLI1j9ke8eVv\\u002ffYP2G6Xc9f\\u002ffS\\u002f+EwMBA\\u002flyr\\u002fons\\u002fzigLUP07J5R11YOc\\u002f8is7I1qBxL+vb+exshr1P0yTCbCpBgBA6m0FczFc1T+kVVg3yqrSP+RLFIiy8Mi\\u002fbdOFz+0M5T8NBqFxjOfVP5TUlhirX+C\\u002frV2sN24z9b959INxE2\\u002fdvyEDZ+GDUea\\u002flAQkcG1a6r9arty4cubGv0eCAan3arw\\u002f9qG8nJKG9L+hV5FYFh3IPwoRr38CN9s\\u002f40ROav4K0L8cY7z\\u002fejPQPwuD\\u002fV3uXPa\\u002f6mwrD5sp4r8l+xU0uJvgv4r0wRAneuq\\u002f3mO7w1um\\u002fD9CEMO1b5H3Pxurz8AIReI\\u002fmIstRZUS6r\\u002f217SOtffxv7fS8IrCGPU\\u002fjkieL7vH6r9mOthFPPzzPwyGiKNpQ+8\\u002fZoHPOI2z5r8U3LzthIDfP5\\u002f\\u002f8uJI\\u002fe6\\u002fjtv2gIEc0D+3Bq1k2zm6v8RfOM5DJtk\\u002f8AsnZb0Tsb9T+0T+\\u002flb0P5WhapdLV+S\\u002fJLm6hY5E4L8dU0Zg++DQvxJIaRhWReG\\u002fogA83DWe8r8Xhg7pmB3TPxRdDKC\\u002fwe+\\u002fez0aER7u6r+fURkIU7PgPy9GGcPqHb0\\u002fVQ1pRUiEcL8bnsGAt0buP+8e3kmLD\\u002fC\\u002fgKD2mrUM3L8AS3katgfuv4s8wzEEL8g\\u002fkraphGcdxj9AshhGcEPMP2RK7tzkpf6\\u002f\\u002febgTQ5Eyr\\u002ff9M0iLzfYv7wkmXfgh+8\\u002fS5GFxL7GA0AAmI2X\\u002fIHTPwxnfAhQ6u2\\u002f5cS2pdW40j8=\"},\"type\":\"scatter\"},{\"name\":\"C\",\"stackgroup\":\"1\",\"y\":{\"dtype\":\"f8\",\"bdata\":\"BkiedZzb8L+2t9ZgQ+rhP37UvDmPdt6\\u002fYJy+I17f\\u002fD\\u002fmd4wFv6P0P7GGthARNve\\u002fECI\\u002fD0TTzz9pAyfq8DrEvxZIXWBaoMO\\u002fo8Jlb8i55z\\u002fpMYIU8poBQO6\\u002fU5azs9a\\u002fb5KUZic+1T8SWh+pp9q1P3QJhLJ51+K\\u002fgF+9Pjmaxb9gbqHGiJLwP4myZzE4eMU\\u002fkO\\u002f2GVzG4L8L3f4yZM\\u002fiPzrqJ3MgUO4\\u002f8LXOiwKn5r8ZO4IR1LisP620RmKo5tE\\u002fWgaNbmav8z\\u002fky9bCi5PxP0fAapwWLsI\\u002fhygz91mN2r9Dv8GqgOrmP1bSU3KwpPk\\u002f1BTZKyO2BcDn0J+8ND31v2\\u002fAZ2Cwlcs\\u002fv5aL\\u002fo6j+z\\u002fCxtgMAclpv7Go4fMsQ\\u002fA\\u002fBQytwXh61r9WUNOCvvUBQOsYYqkupug\\u002f1zkpfxIs5z\\u002fRSdcItZH8Pw0GVmudr\\u002fO\\u002ftIUCJQfoAkAouQLp+qfePz8aiiqb1+A\\u002fFVCjR9iQ2j9AlxAImBT2P74dwYapN90\\u002fEvGSu+738D+uiJ7d2RPZP9y1hHFNAt4\\u002f0Pe9PCqm1j\\u002fQGlsVC5O1P+dRyRC3RwBAcgdTaOJt47+m489TInrYP2yySLsNaADA8tY7mXSR0b8vudTaDp\\u002fwvwgG\\u002fvQXWQNAKeyHZZO01r88JF6kmSPqvxFG3WTSVPQ\\u002fu3TxUc7n\\u002fL9BbzpEVwjfP4XxaaXMQuI\\u002f5WCOLqe47z9fT1e\\u002fy8PKv\\u002fOh2TSQevw\\u002fAs99mvon1T+gnfw+IfDqPxqs+B89tOM\\u002fszv0Lvpm8j9vSFpAyfrQvwAxN\\u002fXv3OA\\u002fIJh6ln3\\u002f3r+WTG9+9\\u002fT2v\\u002fjhbqem3a2\\u002fxGEO4ghc5j+1NepeOcObP7QSX3BabuE\\u002fdaB4Zxse9z8LFOas0jHRvwTyzXM1yu+\\u002fbZRpWiMH5D8WSa9791jhvx4r\\u002fkCaCd2\\u002fdalHgN8e8j\\u002fErbOJy2zFv8gRA8aHoNQ\\u002fVeOd9X1w0j+8+0CHStjxP9ATPnXEm9U\\u002fqXOIlshvvb9Cb+Hv3QXrP8uD9dt7TtE\\u002fcNJ3lR7Osr+S0XVfMuPxv4ADQF+tzN0\\u002fIlVwkcUT978=\"},\"type\":\"scatter\"}],                        {\"title\":{\"text\":\"Alan Grafiği\"},\"template\":{\"data\":{\"histogram2dcontour\":[{\"type\":\"histogram2dcontour\",\"colorbar\":{\"outlinewidth\":0,\"ticks\":\"\"},\"colorscale\":[[0.0,\"#0d0887\"],[0.1111111111111111,\"#46039f\"],[0.2222222222222222,\"#7201a8\"],[0.3333333333333333,\"#9c179e\"],[0.4444444444444444,\"#bd3786\"],[0.5555555555555556,\"#d8576b\"],[0.6666666666666666,\"#ed7953\"],[0.7777777777777778,\"#fb9f3a\"],[0.8888888888888888,\"#fdca26\"],[1.0,\"#f0f921\"]]}],\"choropleth\":[{\"type\":\"choropleth\",\"colorbar\":{\"outlinewidth\":0,\"ticks\":\"\"}}],\"histogram2d\":[{\"type\":\"histogram2d\",\"colorbar\":{\"outlinewidth\":0,\"ticks\":\"\"},\"colorscale\":[[0.0,\"#0d0887\"],[0.1111111111111111,\"#46039f\"],[0.2222222222222222,\"#7201a8\"],[0.3333333333333333,\"#9c179e\"],[0.4444444444444444,\"#bd3786\"],[0.5555555555555556,\"#d8576b\"],[0.6666666666666666,\"#ed7953\"],[0.7777777777777778,\"#fb9f3a\"],[0.8888888888888888,\"#fdca26\"],[1.0,\"#f0f921\"]]}],\"heatmap\":[{\"type\":\"heatmap\",\"colorbar\":{\"outlinewidth\":0,\"ticks\":\"\"},\"colorscale\":[[0.0,\"#0d0887\"],[0.1111111111111111,\"#46039f\"],[0.2222222222222222,\"#7201a8\"],[0.3333333333333333,\"#9c179e\"],[0.4444444444444444,\"#bd3786\"],[0.5555555555555556,\"#d8576b\"],[0.6666666666666666,\"#ed7953\"],[0.7777777777777778,\"#fb9f3a\"],[0.8888888888888888,\"#fdca26\"],[1.0,\"#f0f921\"]]}],\"contourcarpet\":[{\"type\":\"contourcarpet\",\"colorbar\":{\"outlinewidth\":0,\"ticks\":\"\"}}],\"contour\":[{\"type\":\"contour\",\"colorbar\":{\"outlinewidth\":0,\"ticks\":\"\"},\"colorscale\":[[0.0,\"#0d0887\"],[0.1111111111111111,\"#46039f\"],[0.2222222222222222,\"#7201a8\"],[0.3333333333333333,\"#9c179e\"],[0.4444444444444444,\"#bd3786\"],[0.5555555555555556,\"#d8576b\"],[0.6666666666666666,\"#ed7953\"],[0.7777777777777778,\"#fb9f3a\"],[0.8888888888888888,\"#fdca26\"],[1.0,\"#f0f921\"]]}],\"surface\":[{\"type\":\"surface\",\"colorbar\":{\"outlinewidth\":0,\"ticks\":\"\"},\"colorscale\":[[0.0,\"#0d0887\"],[0.1111111111111111,\"#46039f\"],[0.2222222222222222,\"#7201a8\"],[0.3333333333333333,\"#9c179e\"],[0.4444444444444444,\"#bd3786\"],[0.5555555555555556,\"#d8576b\"],[0.6666666666666666,\"#ed7953\"],[0.7777777777777778,\"#fb9f3a\"],[0.8888888888888888,\"#fdca26\"],[1.0,\"#f0f921\"]]}],\"mesh3d\":[{\"type\":\"mesh3d\",\"colorbar\":{\"outlinewidth\":0,\"ticks\":\"\"}}],\"scatter\":[{\"fillpattern\":{\"fillmode\":\"overlay\",\"size\":10,\"solidity\":0.2},\"type\":\"scatter\"}],\"parcoords\":[{\"type\":\"parcoords\",\"line\":{\"colorbar\":{\"outlinewidth\":0,\"ticks\":\"\"}}}],\"scatterpolargl\":[{\"type\":\"scatterpolargl\",\"marker\":{\"colorbar\":{\"outlinewidth\":0,\"ticks\":\"\"}}}],\"bar\":[{\"error_x\":{\"color\":\"#2a3f5f\"},\"error_y\":{\"color\":\"#2a3f5f\"},\"marker\":{\"line\":{\"color\":\"#E5ECF6\",\"width\":0.5},\"pattern\":{\"fillmode\":\"overlay\",\"size\":10,\"solidity\":0.2}},\"type\":\"bar\"}],\"scattergeo\":[{\"type\":\"scattergeo\",\"marker\":{\"colorbar\":{\"outlinewidth\":0,\"ticks\":\"\"}}}],\"scatterpolar\":[{\"type\":\"scatterpolar\",\"marker\":{\"colorbar\":{\"outlinewidth\":0,\"ticks\":\"\"}}}],\"histogram\":[{\"marker\":{\"pattern\":{\"fillmode\":\"overlay\",\"size\":10,\"solidity\":0.2}},\"type\":\"histogram\"}],\"scattergl\":[{\"type\":\"scattergl\",\"marker\":{\"colorbar\":{\"outlinewidth\":0,\"ticks\":\"\"}}}],\"scatter3d\":[{\"type\":\"scatter3d\",\"line\":{\"colorbar\":{\"outlinewidth\":0,\"ticks\":\"\"}},\"marker\":{\"colorbar\":{\"outlinewidth\":0,\"ticks\":\"\"}}}],\"scattermap\":[{\"type\":\"scattermap\",\"marker\":{\"colorbar\":{\"outlinewidth\":0,\"ticks\":\"\"}}}],\"scattermapbox\":[{\"type\":\"scattermapbox\",\"marker\":{\"colorbar\":{\"outlinewidth\":0,\"ticks\":\"\"}}}],\"scatterternary\":[{\"type\":\"scatterternary\",\"marker\":{\"colorbar\":{\"outlinewidth\":0,\"ticks\":\"\"}}}],\"scattercarpet\":[{\"type\":\"scattercarpet\",\"marker\":{\"colorbar\":{\"outlinewidth\":0,\"ticks\":\"\"}}}],\"carpet\":[{\"aaxis\":{\"endlinecolor\":\"#2a3f5f\",\"gridcolor\":\"white\",\"linecolor\":\"white\",\"minorgridcolor\":\"white\",\"startlinecolor\":\"#2a3f5f\"},\"baxis\":{\"endlinecolor\":\"#2a3f5f\",\"gridcolor\":\"white\",\"linecolor\":\"white\",\"minorgridcolor\":\"white\",\"startlinecolor\":\"#2a3f5f\"},\"type\":\"carpet\"}],\"table\":[{\"cells\":{\"fill\":{\"color\":\"#EBF0F8\"},\"line\":{\"color\":\"white\"}},\"header\":{\"fill\":{\"color\":\"#C8D4E3\"},\"line\":{\"color\":\"white\"}},\"type\":\"table\"}],\"barpolar\":[{\"marker\":{\"line\":{\"color\":\"#E5ECF6\",\"width\":0.5},\"pattern\":{\"fillmode\":\"overlay\",\"size\":10,\"solidity\":0.2}},\"type\":\"barpolar\"}],\"pie\":[{\"automargin\":true,\"type\":\"pie\"}]},\"layout\":{\"autotypenumbers\":\"strict\",\"colorway\":[\"#636efa\",\"#EF553B\",\"#00cc96\",\"#ab63fa\",\"#FFA15A\",\"#19d3f3\",\"#FF6692\",\"#B6E880\",\"#FF97FF\",\"#FECB52\"],\"font\":{\"color\":\"#2a3f5f\"},\"hovermode\":\"closest\",\"hoverlabel\":{\"align\":\"left\"},\"paper_bgcolor\":\"white\",\"plot_bgcolor\":\"#E5ECF6\",\"polar\":{\"bgcolor\":\"#E5ECF6\",\"angularaxis\":{\"gridcolor\":\"white\",\"linecolor\":\"white\",\"ticks\":\"\"},\"radialaxis\":{\"gridcolor\":\"white\",\"linecolor\":\"white\",\"ticks\":\"\"}},\"ternary\":{\"bgcolor\":\"#E5ECF6\",\"aaxis\":{\"gridcolor\":\"white\",\"linecolor\":\"white\",\"ticks\":\"\"},\"baxis\":{\"gridcolor\":\"white\",\"linecolor\":\"white\",\"ticks\":\"\"},\"caxis\":{\"gridcolor\":\"white\",\"linecolor\":\"white\",\"ticks\":\"\"}},\"coloraxis\":{\"colorbar\":{\"outlinewidth\":0,\"ticks\":\"\"}},\"colorscale\":{\"sequential\":[[0.0,\"#0d0887\"],[0.1111111111111111,\"#46039f\"],[0.2222222222222222,\"#7201a8\"],[0.3333333333333333,\"#9c179e\"],[0.4444444444444444,\"#bd3786\"],[0.5555555555555556,\"#d8576b\"],[0.6666666666666666,\"#ed7953\"],[0.7777777777777778,\"#fb9f3a\"],[0.8888888888888888,\"#fdca26\"],[1.0,\"#f0f921\"]],\"sequentialminus\":[[0.0,\"#0d0887\"],[0.1111111111111111,\"#46039f\"],[0.2222222222222222,\"#7201a8\"],[0.3333333333333333,\"#9c179e\"],[0.4444444444444444,\"#bd3786\"],[0.5555555555555556,\"#d8576b\"],[0.6666666666666666,\"#ed7953\"],[0.7777777777777778,\"#fb9f3a\"],[0.8888888888888888,\"#fdca26\"],[1.0,\"#f0f921\"]],\"diverging\":[[0,\"#8e0152\"],[0.1,\"#c51b7d\"],[0.2,\"#de77ae\"],[0.3,\"#f1b6da\"],[0.4,\"#fde0ef\"],[0.5,\"#f7f7f7\"],[0.6,\"#e6f5d0\"],[0.7,\"#b8e186\"],[0.8,\"#7fbc41\"],[0.9,\"#4d9221\"],[1,\"#276419\"]]},\"xaxis\":{\"gridcolor\":\"white\",\"linecolor\":\"white\",\"ticks\":\"\",\"title\":{\"standoff\":15},\"zerolinecolor\":\"white\",\"automargin\":true,\"zerolinewidth\":2},\"yaxis\":{\"gridcolor\":\"white\",\"linecolor\":\"white\",\"ticks\":\"\",\"title\":{\"standoff\":15},\"zerolinecolor\":\"white\",\"automargin\":true,\"zerolinewidth\":2},\"scene\":{\"xaxis\":{\"backgroundcolor\":\"#E5ECF6\",\"gridcolor\":\"white\",\"linecolor\":\"white\",\"showbackground\":true,\"ticks\":\"\",\"zerolinecolor\":\"white\",\"gridwidth\":2},\"yaxis\":{\"backgroundcolor\":\"#E5ECF6\",\"gridcolor\":\"white\",\"linecolor\":\"white\",\"showbackground\":true,\"ticks\":\"\",\"zerolinecolor\":\"white\",\"gridwidth\":2},\"zaxis\":{\"backgroundcolor\":\"#E5ECF6\",\"gridcolor\":\"white\",\"linecolor\":\"white\",\"showbackground\":true,\"ticks\":\"\",\"zerolinecolor\":\"white\",\"gridwidth\":2}},\"shapedefaults\":{\"line\":{\"color\":\"#2a3f5f\"}},\"annotationdefaults\":{\"arrowcolor\":\"#2a3f5f\",\"arrowhead\":0,\"arrowwidth\":1},\"geo\":{\"bgcolor\":\"white\",\"landcolor\":\"#E5ECF6\",\"subunitcolor\":\"white\",\"showland\":true,\"showlakes\":true,\"lakecolor\":\"white\"},\"title\":{\"x\":0.05},\"mapbox\":{\"style\":\"light\"}}}},                        {\"responsive\": true}                    ).then(function(){\n",
              "                            \n",
              "var gd = document.getElementById('2ae2d210-bc97-47ac-b6b0-5f8738023061');\n",
              "var x = new MutationObserver(function (mutations, observer) {{\n",
              "        var display = window.getComputedStyle(gd).display;\n",
              "        if (!display || display === 'none') {{\n",
              "            console.log([gd, 'removed!']);\n",
              "            Plotly.purge(gd);\n",
              "            observer.disconnect();\n",
              "        }}\n",
              "}});\n",
              "\n",
              "// Listen for the removal of the full notebook cells\n",
              "var notebookContainer = gd.closest('#notebook-container');\n",
              "if (notebookContainer) {{\n",
              "    x.observe(notebookContainer, {childList: true});\n",
              "}}\n",
              "\n",
              "// Listen for the clearing of the current output cell\n",
              "var outputEl = gd.closest('.output');\n",
              "if (outputEl) {{\n",
              "    x.observe(outputEl, {childList: true});\n",
              "}}\n",
              "\n",
              "                        })                };            </script>        </div>"
            ]
          },
          "metadata": {}
        }
      ],
      "source": [
        "fig = go.Figure(data=[go.Scatter(y=df[col], name=col, stackgroup='1') for col in df.columns],\n",
        "                layout=go.Layout(title='Alan Grafiği'))\n",
        "fig.show()"
      ]
    },
    {
      "cell_type": "markdown",
      "source": [
        "##Filled Area Chart"
      ],
      "metadata": {
        "id": "R1KEtZCJjXFW"
      },
      "id": "R1KEtZCJjXFW"
    },
    {
      "cell_type": "code",
      "execution_count": 97,
      "id": "21bf74d5-528e-4402-aaca-18d73a06c916",
      "metadata": {
        "id": "21bf74d5-528e-4402-aaca-18d73a06c916",
        "colab": {
          "base_uri": "https://localhost:8080/",
          "height": 542
        },
        "outputId": "83e5a934-baae-4c00-adbe-177a4e5dd93a"
      },
      "outputs": [
        {
          "output_type": "display_data",
          "data": {
            "application/vnd.plotly.v1+json": {
              "data": [
                {
                  "fill": "tozeroy",
                  "name": "A",
                  "stackgroup": "1",
                  "y": {
                    "dtype": "f8",
                    "bdata": "8t4CDEstHEAw2o3MscIdQGOrQS9GYiRAgyxitwF9JECJpFBwjf0nQAGaMfKggCpAjvFNAtRsLUCAt/SGc0EuQI7pXl6HpC9Azn+0ak3oMEDiQ7rgt2AwQL+XZDjOaTBAXDUxEWU9MUD+HkTfQMowQJ4TjN2TqjFAnmaZQ3dvMUA3dYtwVN4xQBa2CqcQ+zFALqReB2sDMkAQS+fANh8yQI4a3dLI8TNAvvx7BUM0NkByr6wmkkc1QDDl6kGNjzZAumfgIs10N0BFrUFGqEs2QFtIJ0FDGTZA3EYDoQo6N0BizwBRq6Q4QACHah/OFjhAmNzyQU5DN0BgWxREwBQ3QG017ThkNTVAvvVNGV9HNUD+csE9qEk2QI2In4InfTZAKk4Lc8GDNkCS8zdG6mc2QAflYPxj0TRAHGzUptpANEDVvp9fXqk0QBsxBMU6nDRAnLPqM0LmNEDa37rwtkY1QDw4ewoU4jVAHI9i8DvINkDknQx9/y04QGL7aekMpzdA7nk54YKzOUAwi+S/Wcg7QKOkJlzVmD1AHnm5qEo5P0Ae18Ef4BhAQFmyrKGifD9AnBdrF0hdP0CLdJ+kacY9QNsm7SP4cD5AUsQkxpz3PkCj5u+ebE09QHeXLY5q2DxAQBh55eNmO0D5JwI6lJo8QCCtoCzDdjtAAgp1cbBgPEB4575d7Sg7QP74KOWJMDtARCVv5HMQPEBRUd1GL288QPRcS8Ck1DxAHVCHDF/1PEAD8Jp9VPI8QE8NbO52bDxAzNvhbG6vPkApg73wGNA/QHSmRr+LZUBA38/n4t31P0Bbj5CAdA1BQFfeWo9rPEFARkU1om19QUDQY664C5xBQE84XkaW3UFAO1RvPugXQUB4XcDmqKVAQFLgqHvAn0BAJg0S1tyUQEDmIoRVhrw+QAQWmxswYz1AS0dUOxfhPEDvjw6sni8+QNxCjLZg5j1AvOXo/G50PUBn17YKc5s8QOwYChL2lz1At5rCZNBdPEAE3mQ00CI8QMxPNETcGTtA/n77hDbAOkAcD6V+04k5QBS/mxw1wzpAwrGa0loDO0A="
                  },
                  "type": "scatter"
                },
                {
                  "fill": "tozeroy",
                  "name": "B",
                  "stackgroup": "1",
                  "y": {
                    "dtype": "f8",
                    "bdata": "TBCqir/JNUCkYIiW1js3QLG75MVdvzhAxXQot6JqOkAumTti1B48QC5oXrSmcjtAtHpsa4lfOkBF4IMn3qQ6QDg2QvxstDhAhnNFKnumN0BmYuyWPh82QD6ddvDhKzVAhU8C371kNEBRBoEb/00zQGVCWAGv1TNA0aYnZC3dM0BW2HwhO9UzQMws+EkwiTJAdfyjcrs0MkC6Cs7CKfswQLlDf8k0NzBA1itYxn2bMEAsZfFlpu8wQB91Upx4FTBA0O98UADGMEBgd9YcbEUwQMa1n2bEyDFA60btGZOFMUDEarOCINMxQPevSglcNTBAYgQx/eBvMUBq85QHgJ0yQEUZcr4BiDJAUStJZ/33MEAv512rZIkyQItu4CiINjNApplt12iKM0DW/sfTJfYyQOF9X0UYGTJA4R9FhC9rMUAWTTWel9AwQKN+dHhbSjBAqD2VajynK0DcsWbxqEwpQHCbaSKx8ihAcxdEJZSGJ0DbiSd87z4pQF7mK3nUDypApHzeZih5J0BnDuRxM0wrQEHOtkuG+yxAiIPROKzGKUCoKMDyY94rQDOMDDq4cS5A6Lp6TkFnLUBSzO21TTEtQMM0MvZI8CxAFwHdSu5ZLUDq1c4TlrgsQAR/jNKh9ixAfMVPNWUKLEDeMdBEAQksQABmPVhP6ShAyZtLzbEVK0BAnIdKKTIrQGIXo7nk0SVAkfc0pLVUJEDdidTgdI0kQGI0++2/NCVAryTcZICxJUBrVOf+TosoQGqlUV6l4ihA1GV/fH5WLEC6x12ImOsqQN5ouWNlLypAEhMmo6xIKECAZhQOIW4qQKw0N+Zb8ipAMBTer4QTLEDs4gFkVI0vQKejcFOF9DBAFVqN+xEGMUC04QVg7SY0QAaK+nUQWzNAMeJcWQOFNEAAH+Xab7I1QNzUx9+aQzVAc4XP04lGNECqTftDjhw2QCMJS00EkjRAbZoov8n9MkDMffTDr4szQKcqtB5j/TJA3LluJhavM0BrzJ8aonU0QB0I9ApzejRAgSYNyQi2M0AiihIc5a8yQNDK4yppbDFAFxrhmMc7MkA="
                  },
                  "type": "scatter"
                },
                {
                  "fill": "tozeroy",
                  "name": "C",
                  "stackgroup": "1",
                  "y": {
                    "dtype": "f8",
                    "bdata": "wvrAwyyIPkBQqkLNeFs/QEZiPKoA4T1ABsJBkWeRPkBN7l01Woc/QPm8Co/vgEBANDJOhrsPQUBrF54k/t1AQNbXBF1lhUFAd7LKr0xvQkBAo2pV03hCQDUUoFOsPEJAi+tePv35QkDU+gl54ZBDQL4Kp5y/10NAstmRuEgZREBgNGdBR7NDQGoeTXNP3UJA8BXBD+iLQkBb+A82a5NCQPeN9y4280JAfI07GWzaQkDgKu1JuupCQE10VXqnskJAKz8nxYz3QUDu4p+XUilCQLe1XcCdcEJAY9We1xWIQkAtGkpcTPZDQPQktQjL5kNALteF3aTCQ0Dvp/xNZz1DQANM7OGzC0NAttIukJGbQkBB9A12LapCQFsA7NmtAENAK2JlTj1+Q0AuXqngd0REQJ30Z3tWrkRAdI5Ov4xZREB4w0RNmvVDQLg5u10ru0NAjvHg33i7Q0AQEFOweKxDQOVLBCP/CkNAJJ/Vqa2sQkCZ+Z4iTn5DQAqtLfK0aENAgqWLDvyQQkDb5xFdXNhCQHIujHrqWENAmoQ3P/o7Q0AT0UnrlqdCQJkHCiNqEUJAK3/IjpNvQkAFrFszL6JCQFo9eBZFR0JA4wXqXrlMQkCbhe/rbIhCQB4L4TBqxUFA3wdTMrHMQUAUMuLiGcxAQBP3WHldPkFAH2OzK04ZQUAiQdvEg5lAQI7jsFssuUBA1+3mj52sQEAguNlFfiBBQJMEjsEOAkFAQfbnLK52QUC80P4MBZdBQG5YHm3SakFAqFDBSSSUQEC2Xk6M2MJAQGtfPqwrtT9ACaLZiV+5QEBMV76Fx/1AQGEMJKCGJEBAJL8GTD1aPkD6f5rMml9AQNZPTj0Zy0BAFV5JFmTnQEAvsBA7NvtAQBDjQsC9MEFAeOneqVV2QUB3gp0YtohBQL52sfKNdkFAtmU1RLW5QUDCc1q1GD5CQJZUH7gHW0JAl3NKEhhqQkAlSQ+87DpCQJiUCL4fAEJAnHCj/sSQQkCOfTGin/VCQIwOpljn9UJA06Tb7ECJQ0C4s4CTpLZDQKHQFX/7/0RAXjG5RcagRUA="
                  },
                  "type": "scatter"
                }
              ],
              "layout": {
                "title": {
                  "text": "Doldurulmuş Alan Grafiği"
                },
                "template": {
                  "data": {
                    "histogram2dcontour": [
                      {
                        "type": "histogram2dcontour",
                        "colorbar": {
                          "outlinewidth": 0,
                          "ticks": ""
                        },
                        "colorscale": [
                          [
                            0,
                            "#0d0887"
                          ],
                          [
                            0.1111111111111111,
                            "#46039f"
                          ],
                          [
                            0.2222222222222222,
                            "#7201a8"
                          ],
                          [
                            0.3333333333333333,
                            "#9c179e"
                          ],
                          [
                            0.4444444444444444,
                            "#bd3786"
                          ],
                          [
                            0.5555555555555556,
                            "#d8576b"
                          ],
                          [
                            0.6666666666666666,
                            "#ed7953"
                          ],
                          [
                            0.7777777777777778,
                            "#fb9f3a"
                          ],
                          [
                            0.8888888888888888,
                            "#fdca26"
                          ],
                          [
                            1,
                            "#f0f921"
                          ]
                        ]
                      }
                    ],
                    "choropleth": [
                      {
                        "type": "choropleth",
                        "colorbar": {
                          "outlinewidth": 0,
                          "ticks": ""
                        }
                      }
                    ],
                    "histogram2d": [
                      {
                        "type": "histogram2d",
                        "colorbar": {
                          "outlinewidth": 0,
                          "ticks": ""
                        },
                        "colorscale": [
                          [
                            0,
                            "#0d0887"
                          ],
                          [
                            0.1111111111111111,
                            "#46039f"
                          ],
                          [
                            0.2222222222222222,
                            "#7201a8"
                          ],
                          [
                            0.3333333333333333,
                            "#9c179e"
                          ],
                          [
                            0.4444444444444444,
                            "#bd3786"
                          ],
                          [
                            0.5555555555555556,
                            "#d8576b"
                          ],
                          [
                            0.6666666666666666,
                            "#ed7953"
                          ],
                          [
                            0.7777777777777778,
                            "#fb9f3a"
                          ],
                          [
                            0.8888888888888888,
                            "#fdca26"
                          ],
                          [
                            1,
                            "#f0f921"
                          ]
                        ]
                      }
                    ],
                    "heatmap": [
                      {
                        "type": "heatmap",
                        "colorbar": {
                          "outlinewidth": 0,
                          "ticks": ""
                        },
                        "colorscale": [
                          [
                            0,
                            "#0d0887"
                          ],
                          [
                            0.1111111111111111,
                            "#46039f"
                          ],
                          [
                            0.2222222222222222,
                            "#7201a8"
                          ],
                          [
                            0.3333333333333333,
                            "#9c179e"
                          ],
                          [
                            0.4444444444444444,
                            "#bd3786"
                          ],
                          [
                            0.5555555555555556,
                            "#d8576b"
                          ],
                          [
                            0.6666666666666666,
                            "#ed7953"
                          ],
                          [
                            0.7777777777777778,
                            "#fb9f3a"
                          ],
                          [
                            0.8888888888888888,
                            "#fdca26"
                          ],
                          [
                            1,
                            "#f0f921"
                          ]
                        ]
                      }
                    ],
                    "contourcarpet": [
                      {
                        "type": "contourcarpet",
                        "colorbar": {
                          "outlinewidth": 0,
                          "ticks": ""
                        }
                      }
                    ],
                    "contour": [
                      {
                        "type": "contour",
                        "colorbar": {
                          "outlinewidth": 0,
                          "ticks": ""
                        },
                        "colorscale": [
                          [
                            0,
                            "#0d0887"
                          ],
                          [
                            0.1111111111111111,
                            "#46039f"
                          ],
                          [
                            0.2222222222222222,
                            "#7201a8"
                          ],
                          [
                            0.3333333333333333,
                            "#9c179e"
                          ],
                          [
                            0.4444444444444444,
                            "#bd3786"
                          ],
                          [
                            0.5555555555555556,
                            "#d8576b"
                          ],
                          [
                            0.6666666666666666,
                            "#ed7953"
                          ],
                          [
                            0.7777777777777778,
                            "#fb9f3a"
                          ],
                          [
                            0.8888888888888888,
                            "#fdca26"
                          ],
                          [
                            1,
                            "#f0f921"
                          ]
                        ]
                      }
                    ],
                    "surface": [
                      {
                        "type": "surface",
                        "colorbar": {
                          "outlinewidth": 0,
                          "ticks": ""
                        },
                        "colorscale": [
                          [
                            0,
                            "#0d0887"
                          ],
                          [
                            0.1111111111111111,
                            "#46039f"
                          ],
                          [
                            0.2222222222222222,
                            "#7201a8"
                          ],
                          [
                            0.3333333333333333,
                            "#9c179e"
                          ],
                          [
                            0.4444444444444444,
                            "#bd3786"
                          ],
                          [
                            0.5555555555555556,
                            "#d8576b"
                          ],
                          [
                            0.6666666666666666,
                            "#ed7953"
                          ],
                          [
                            0.7777777777777778,
                            "#fb9f3a"
                          ],
                          [
                            0.8888888888888888,
                            "#fdca26"
                          ],
                          [
                            1,
                            "#f0f921"
                          ]
                        ]
                      }
                    ],
                    "mesh3d": [
                      {
                        "type": "mesh3d",
                        "colorbar": {
                          "outlinewidth": 0,
                          "ticks": ""
                        }
                      }
                    ],
                    "scatter": [
                      {
                        "fillpattern": {
                          "fillmode": "overlay",
                          "size": 10,
                          "solidity": 0.2
                        },
                        "type": "scatter"
                      }
                    ],
                    "parcoords": [
                      {
                        "type": "parcoords",
                        "line": {
                          "colorbar": {
                            "outlinewidth": 0,
                            "ticks": ""
                          }
                        }
                      }
                    ],
                    "scatterpolargl": [
                      {
                        "type": "scatterpolargl",
                        "marker": {
                          "colorbar": {
                            "outlinewidth": 0,
                            "ticks": ""
                          }
                        }
                      }
                    ],
                    "bar": [
                      {
                        "error_x": {
                          "color": "#2a3f5f"
                        },
                        "error_y": {
                          "color": "#2a3f5f"
                        },
                        "marker": {
                          "line": {
                            "color": "#E5ECF6",
                            "width": 0.5
                          },
                          "pattern": {
                            "fillmode": "overlay",
                            "size": 10,
                            "solidity": 0.2
                          }
                        },
                        "type": "bar"
                      }
                    ],
                    "scattergeo": [
                      {
                        "type": "scattergeo",
                        "marker": {
                          "colorbar": {
                            "outlinewidth": 0,
                            "ticks": ""
                          }
                        }
                      }
                    ],
                    "scatterpolar": [
                      {
                        "type": "scatterpolar",
                        "marker": {
                          "colorbar": {
                            "outlinewidth": 0,
                            "ticks": ""
                          }
                        }
                      }
                    ],
                    "histogram": [
                      {
                        "marker": {
                          "pattern": {
                            "fillmode": "overlay",
                            "size": 10,
                            "solidity": 0.2
                          }
                        },
                        "type": "histogram"
                      }
                    ],
                    "scattergl": [
                      {
                        "type": "scattergl",
                        "marker": {
                          "colorbar": {
                            "outlinewidth": 0,
                            "ticks": ""
                          }
                        }
                      }
                    ],
                    "scatter3d": [
                      {
                        "type": "scatter3d",
                        "line": {
                          "colorbar": {
                            "outlinewidth": 0,
                            "ticks": ""
                          }
                        },
                        "marker": {
                          "colorbar": {
                            "outlinewidth": 0,
                            "ticks": ""
                          }
                        }
                      }
                    ],
                    "scattermap": [
                      {
                        "type": "scattermap",
                        "marker": {
                          "colorbar": {
                            "outlinewidth": 0,
                            "ticks": ""
                          }
                        }
                      }
                    ],
                    "scattermapbox": [
                      {
                        "type": "scattermapbox",
                        "marker": {
                          "colorbar": {
                            "outlinewidth": 0,
                            "ticks": ""
                          }
                        }
                      }
                    ],
                    "scatterternary": [
                      {
                        "type": "scatterternary",
                        "marker": {
                          "colorbar": {
                            "outlinewidth": 0,
                            "ticks": ""
                          }
                        }
                      }
                    ],
                    "scattercarpet": [
                      {
                        "type": "scattercarpet",
                        "marker": {
                          "colorbar": {
                            "outlinewidth": 0,
                            "ticks": ""
                          }
                        }
                      }
                    ],
                    "carpet": [
                      {
                        "aaxis": {
                          "endlinecolor": "#2a3f5f",
                          "gridcolor": "white",
                          "linecolor": "white",
                          "minorgridcolor": "white",
                          "startlinecolor": "#2a3f5f"
                        },
                        "baxis": {
                          "endlinecolor": "#2a3f5f",
                          "gridcolor": "white",
                          "linecolor": "white",
                          "minorgridcolor": "white",
                          "startlinecolor": "#2a3f5f"
                        },
                        "type": "carpet"
                      }
                    ],
                    "table": [
                      {
                        "cells": {
                          "fill": {
                            "color": "#EBF0F8"
                          },
                          "line": {
                            "color": "white"
                          }
                        },
                        "header": {
                          "fill": {
                            "color": "#C8D4E3"
                          },
                          "line": {
                            "color": "white"
                          }
                        },
                        "type": "table"
                      }
                    ],
                    "barpolar": [
                      {
                        "marker": {
                          "line": {
                            "color": "#E5ECF6",
                            "width": 0.5
                          },
                          "pattern": {
                            "fillmode": "overlay",
                            "size": 10,
                            "solidity": 0.2
                          }
                        },
                        "type": "barpolar"
                      }
                    ],
                    "pie": [
                      {
                        "automargin": true,
                        "type": "pie"
                      }
                    ]
                  },
                  "layout": {
                    "autotypenumbers": "strict",
                    "colorway": [
                      "#636efa",
                      "#EF553B",
                      "#00cc96",
                      "#ab63fa",
                      "#FFA15A",
                      "#19d3f3",
                      "#FF6692",
                      "#B6E880",
                      "#FF97FF",
                      "#FECB52"
                    ],
                    "font": {
                      "color": "#2a3f5f"
                    },
                    "hovermode": "closest",
                    "hoverlabel": {
                      "align": "left"
                    },
                    "paper_bgcolor": "white",
                    "plot_bgcolor": "#E5ECF6",
                    "polar": {
                      "bgcolor": "#E5ECF6",
                      "angularaxis": {
                        "gridcolor": "white",
                        "linecolor": "white",
                        "ticks": ""
                      },
                      "radialaxis": {
                        "gridcolor": "white",
                        "linecolor": "white",
                        "ticks": ""
                      }
                    },
                    "ternary": {
                      "bgcolor": "#E5ECF6",
                      "aaxis": {
                        "gridcolor": "white",
                        "linecolor": "white",
                        "ticks": ""
                      },
                      "baxis": {
                        "gridcolor": "white",
                        "linecolor": "white",
                        "ticks": ""
                      },
                      "caxis": {
                        "gridcolor": "white",
                        "linecolor": "white",
                        "ticks": ""
                      }
                    },
                    "coloraxis": {
                      "colorbar": {
                        "outlinewidth": 0,
                        "ticks": ""
                      }
                    },
                    "colorscale": {
                      "sequential": [
                        [
                          0,
                          "#0d0887"
                        ],
                        [
                          0.1111111111111111,
                          "#46039f"
                        ],
                        [
                          0.2222222222222222,
                          "#7201a8"
                        ],
                        [
                          0.3333333333333333,
                          "#9c179e"
                        ],
                        [
                          0.4444444444444444,
                          "#bd3786"
                        ],
                        [
                          0.5555555555555556,
                          "#d8576b"
                        ],
                        [
                          0.6666666666666666,
                          "#ed7953"
                        ],
                        [
                          0.7777777777777778,
                          "#fb9f3a"
                        ],
                        [
                          0.8888888888888888,
                          "#fdca26"
                        ],
                        [
                          1,
                          "#f0f921"
                        ]
                      ],
                      "sequentialminus": [
                        [
                          0,
                          "#0d0887"
                        ],
                        [
                          0.1111111111111111,
                          "#46039f"
                        ],
                        [
                          0.2222222222222222,
                          "#7201a8"
                        ],
                        [
                          0.3333333333333333,
                          "#9c179e"
                        ],
                        [
                          0.4444444444444444,
                          "#bd3786"
                        ],
                        [
                          0.5555555555555556,
                          "#d8576b"
                        ],
                        [
                          0.6666666666666666,
                          "#ed7953"
                        ],
                        [
                          0.7777777777777778,
                          "#fb9f3a"
                        ],
                        [
                          0.8888888888888888,
                          "#fdca26"
                        ],
                        [
                          1,
                          "#f0f921"
                        ]
                      ],
                      "diverging": [
                        [
                          0,
                          "#8e0152"
                        ],
                        [
                          0.1,
                          "#c51b7d"
                        ],
                        [
                          0.2,
                          "#de77ae"
                        ],
                        [
                          0.3,
                          "#f1b6da"
                        ],
                        [
                          0.4,
                          "#fde0ef"
                        ],
                        [
                          0.5,
                          "#f7f7f7"
                        ],
                        [
                          0.6,
                          "#e6f5d0"
                        ],
                        [
                          0.7,
                          "#b8e186"
                        ],
                        [
                          0.8,
                          "#7fbc41"
                        ],
                        [
                          0.9,
                          "#4d9221"
                        ],
                        [
                          1,
                          "#276419"
                        ]
                      ]
                    },
                    "xaxis": {
                      "gridcolor": "white",
                      "linecolor": "white",
                      "ticks": "",
                      "title": {
                        "standoff": 15
                      },
                      "zerolinecolor": "white",
                      "automargin": true,
                      "zerolinewidth": 2
                    },
                    "yaxis": {
                      "gridcolor": "white",
                      "linecolor": "white",
                      "ticks": "",
                      "title": {
                        "standoff": 15
                      },
                      "zerolinecolor": "white",
                      "automargin": true,
                      "zerolinewidth": 2
                    },
                    "scene": {
                      "xaxis": {
                        "backgroundcolor": "#E5ECF6",
                        "gridcolor": "white",
                        "linecolor": "white",
                        "showbackground": true,
                        "ticks": "",
                        "zerolinecolor": "white",
                        "gridwidth": 2
                      },
                      "yaxis": {
                        "backgroundcolor": "#E5ECF6",
                        "gridcolor": "white",
                        "linecolor": "white",
                        "showbackground": true,
                        "ticks": "",
                        "zerolinecolor": "white",
                        "gridwidth": 2
                      },
                      "zaxis": {
                        "backgroundcolor": "#E5ECF6",
                        "gridcolor": "white",
                        "linecolor": "white",
                        "showbackground": true,
                        "ticks": "",
                        "zerolinecolor": "white",
                        "gridwidth": 2
                      }
                    },
                    "shapedefaults": {
                      "line": {
                        "color": "#2a3f5f"
                      }
                    },
                    "annotationdefaults": {
                      "arrowcolor": "#2a3f5f",
                      "arrowhead": 0,
                      "arrowwidth": 1
                    },
                    "geo": {
                      "bgcolor": "white",
                      "landcolor": "#E5ECF6",
                      "subunitcolor": "white",
                      "showland": true,
                      "showlakes": true,
                      "lakecolor": "white"
                    },
                    "title": {
                      "x": 0.05
                    },
                    "mapbox": {
                      "style": "light"
                    }
                  }
                }
              },
              "config": {
                "plotlyServerURL": "https://plot.ly"
              }
            },
            "text/html": [
              "<div>            <script src=\"https://cdnjs.cloudflare.com/ajax/libs/mathjax/2.7.5/MathJax.js?config=TeX-AMS-MML_SVG\"></script><script type=\"text/javascript\">if (window.MathJax && window.MathJax.Hub && window.MathJax.Hub.Config) {window.MathJax.Hub.Config({SVG: {font: \"STIX-Web\"}});}</script>                <script type=\"text/javascript\">window.PlotlyConfig = {MathJaxConfig: 'local'};</script>\n",
              "        <script charset=\"utf-8\" src=\"https://cdn.plot.ly/plotly-3.0.0.min.js\"></script>                <div id=\"ca2e8ab8-7e00-4209-b544-186eeffc201f\" class=\"plotly-graph-div\" style=\"height:525px; width:100%;\"></div>            <script type=\"text/javascript\">                window.PLOTLYENV=window.PLOTLYENV || {};                                if (document.getElementById(\"ca2e8ab8-7e00-4209-b544-186eeffc201f\")) {                    Plotly.newPlot(                        \"ca2e8ab8-7e00-4209-b544-186eeffc201f\",                        [{\"fill\":\"tozeroy\",\"name\":\"A\",\"stackgroup\":\"1\",\"y\":{\"dtype\":\"f8\",\"bdata\":\"8t4CDEstHEAw2o3MscIdQGOrQS9GYiRAgyxitwF9JECJpFBwjf0nQAGaMfKggCpAjvFNAtRsLUCAt\\u002fSGc0EuQI7pXl6HpC9Azn+0ak3oMEDiQ7rgt2AwQL+XZDjOaTBAXDUxEWU9MUD+HkTfQMowQJ4TjN2TqjFAnmaZQ3dvMUA3dYtwVN4xQBa2CqcQ+zFALqReB2sDMkAQS+fANh8yQI4a3dLI8TNAvvx7BUM0NkByr6wmkkc1QDDl6kGNjzZAumfgIs10N0BFrUFGqEs2QFtIJ0FDGTZA3EYDoQo6N0BizwBRq6Q4QACHah\\u002fOFjhAmNzyQU5DN0BgWxREwBQ3QG017ThkNTVAvvVNGV9HNUD+csE9qEk2QI2In4InfTZAKk4Lc8GDNkCS8zdG6mc2QAflYPxj0TRAHGzUptpANEDVvp9fXqk0QBsxBMU6nDRAnLPqM0LmNEDa37rwtkY1QDw4ewoU4jVAHI9i8DvINkDknQx9\\u002fy04QGL7aekMpzdA7nk54YKzOUAwi+S\\u002fWcg7QKOkJlzVmD1AHnm5qEo5P0Ae18Ef4BhAQFmyrKGifD9AnBdrF0hdP0CLdJ+kacY9QNsm7SP4cD5AUsQkxpz3PkCj5u+ebE09QHeXLY5q2DxAQBh55eNmO0D5JwI6lJo8QCCtoCzDdjtAAgp1cbBgPEB4575d7Sg7QP74KOWJMDtARCVv5HMQPEBRUd1GL288QPRcS8Ck1DxAHVCHDF\\u002f1PEAD8Jp9VPI8QE8NbO52bDxAzNvhbG6vPkApg73wGNA\\u002fQHSmRr+LZUBA38\\u002fn4t31P0Bbj5CAdA1BQFfeWo9rPEFARkU1om19QUDQY664C5xBQE84XkaW3UFAO1RvPugXQUB4XcDmqKVAQFLgqHvAn0BAJg0S1tyUQEDmIoRVhrw+QAQWmxswYz1AS0dUOxfhPEDvjw6sni8+QNxCjLZg5j1AvOXo\\u002fG50PUBn17YKc5s8QOwYChL2lz1At5rCZNBdPEAE3mQ00CI8QMxPNETcGTtA\\u002fn77hDbAOkAcD6V+04k5QBS\\u002fmxw1wzpAwrGa0loDO0A=\"},\"type\":\"scatter\"},{\"fill\":\"tozeroy\",\"name\":\"B\",\"stackgroup\":\"1\",\"y\":{\"dtype\":\"f8\",\"bdata\":\"TBCqir\\u002fJNUCkYIiW1js3QLG75MVdvzhAxXQot6JqOkAumTti1B48QC5oXrSmcjtAtHpsa4lfOkBF4IMn3qQ6QDg2QvxstDhAhnNFKnumN0BmYuyWPh82QD6ddvDhKzVAhU8C371kNEBRBoEb\\u002f00zQGVCWAGv1TNA0aYnZC3dM0BW2HwhO9UzQMws+EkwiTJAdfyjcrs0MkC6Cs7CKfswQLlDf8k0NzBA1itYxn2bMEAsZfFlpu8wQB91Upx4FTBA0O98UADGMEBgd9YcbEUwQMa1n2bEyDFA60btGZOFMUDEarOCINMxQPevSglcNTBAYgQx\\u002feBvMUBq85QHgJ0yQEUZcr4BiDJAUStJZ\\u002f33MEAv512rZIkyQItu4CiINjNApplt12iKM0DW\\u002fsfTJfYyQOF9X0UYGTJA4R9FhC9rMUAWTTWel9AwQKN+dHhbSjBAqD2VajynK0DcsWbxqEwpQHCbaSKx8ihAcxdEJZSGJ0DbiSd87z4pQF7mK3nUDypApHzeZih5J0BnDuRxM0wrQEHOtkuG+yxAiIPROKzGKUCoKMDyY94rQDOMDDq4cS5A6Lp6TkFnLUBSzO21TTEtQMM0MvZI8CxAFwHdSu5ZLUDq1c4TlrgsQAR\\u002fjNKh9ixAfMVPNWUKLEDeMdBEAQksQABmPVhP6ShAyZtLzbEVK0BAnIdKKTIrQGIXo7nk0SVAkfc0pLVUJEDdidTgdI0kQGI0++2\\u002fNCVAryTcZICxJUBrVOf+TosoQGqlUV6l4ihA1GV\\u002ffH5WLEC6x12ImOsqQN5ouWNlLypAEhMmo6xIKECAZhQOIW4qQKw0N+Zb8ipAMBTer4QTLEDs4gFkVI0vQKejcFOF9DBAFVqN+xEGMUC04QVg7SY0QAaK+nUQWzNAMeJcWQOFNEAAH+Xab7I1QNzUx9+aQzVAc4XP04lGNECqTftDjhw2QCMJS00EkjRAbZoov8n9MkDMffTDr4szQKcqtB5j\\u002fTJA3LluJhavM0BrzJ8aonU0QB0I9ApzejRAgSYNyQi2M0AiihIc5a8yQNDK4yppbDFAFxrhmMc7MkA=\"},\"type\":\"scatter\"},{\"fill\":\"tozeroy\",\"name\":\"C\",\"stackgroup\":\"1\",\"y\":{\"dtype\":\"f8\",\"bdata\":\"wvrAwyyIPkBQqkLNeFs\\u002fQEZiPKoA4T1ABsJBkWeRPkBN7l01Woc\\u002fQPm8Co\\u002fvgEBANDJOhrsPQUBrF54k\\u002ft1AQNbXBF1lhUFAd7LKr0xvQkBAo2pV03hCQDUUoFOsPEJAi+tePv35QkDU+gl54ZBDQL4Kp5y\\u002f10NAstmRuEgZREBgNGdBR7NDQGoeTXNP3UJA8BXBD+iLQkBb+A82a5NCQPeN9y4280JAfI07GWzaQkDgKu1JuupCQE10VXqnskJAKz8nxYz3QUDu4p+XUilCQLe1XcCdcEJAY9We1xWIQkAtGkpcTPZDQPQktQjL5kNALteF3aTCQ0Dvp\\u002fxNZz1DQANM7OGzC0NAttIukJGbQkBB9A12LapCQFsA7NmtAENAK2JlTj1+Q0AuXqngd0REQJ30Z3tWrkRAdI5Ov4xZREB4w0RNmvVDQLg5u10ru0NAjvHg33i7Q0AQEFOweKxDQOVLBCP\\u002fCkNAJJ\\u002fVqa2sQkCZ+Z4iTn5DQAqtLfK0aENAgqWLDvyQQkDb5xFdXNhCQHIujHrqWENAmoQ3P\\u002fo7Q0AT0UnrlqdCQJkHCiNqEUJAK3\\u002fIjpNvQkAFrFszL6JCQFo9eBZFR0JA4wXqXrlMQkCbhe\\u002frbIhCQB4L4TBqxUFA3wdTMrHMQUAUMuLiGcxAQBP3WHldPkFAH2OzK04ZQUAiQdvEg5lAQI7jsFssuUBA1+3mj52sQEAguNlFfiBBQJMEjsEOAkFAQfbnLK52QUC80P4MBZdBQG5YHm3SakFAqFDBSSSUQEC2Xk6M2MJAQGtfPqwrtT9ACaLZiV+5QEBMV76Fx\\u002f1AQGEMJKCGJEBAJL8GTD1aPkD6f5rMml9AQNZPTj0Zy0BAFV5JFmTnQEAvsBA7NvtAQBDjQsC9MEFAeOneqVV2QUB3gp0YtohBQL52sfKNdkFAtmU1RLW5QUDCc1q1GD5CQJZUH7gHW0JAl3NKEhhqQkAlSQ+87DpCQJiUCL4fAEJAnHCj\\u002fsSQQkCOfTGin\\u002fVCQIwOpljn9UJA06Tb7ECJQ0C4s4CTpLZDQKHQFX\\u002f7\\u002f0RAXjG5RcagRUA=\"},\"type\":\"scatter\"}],                        {\"title\":{\"text\":\"Doldurulmuş Alan Grafiği\"},\"template\":{\"data\":{\"histogram2dcontour\":[{\"type\":\"histogram2dcontour\",\"colorbar\":{\"outlinewidth\":0,\"ticks\":\"\"},\"colorscale\":[[0.0,\"#0d0887\"],[0.1111111111111111,\"#46039f\"],[0.2222222222222222,\"#7201a8\"],[0.3333333333333333,\"#9c179e\"],[0.4444444444444444,\"#bd3786\"],[0.5555555555555556,\"#d8576b\"],[0.6666666666666666,\"#ed7953\"],[0.7777777777777778,\"#fb9f3a\"],[0.8888888888888888,\"#fdca26\"],[1.0,\"#f0f921\"]]}],\"choropleth\":[{\"type\":\"choropleth\",\"colorbar\":{\"outlinewidth\":0,\"ticks\":\"\"}}],\"histogram2d\":[{\"type\":\"histogram2d\",\"colorbar\":{\"outlinewidth\":0,\"ticks\":\"\"},\"colorscale\":[[0.0,\"#0d0887\"],[0.1111111111111111,\"#46039f\"],[0.2222222222222222,\"#7201a8\"],[0.3333333333333333,\"#9c179e\"],[0.4444444444444444,\"#bd3786\"],[0.5555555555555556,\"#d8576b\"],[0.6666666666666666,\"#ed7953\"],[0.7777777777777778,\"#fb9f3a\"],[0.8888888888888888,\"#fdca26\"],[1.0,\"#f0f921\"]]}],\"heatmap\":[{\"type\":\"heatmap\",\"colorbar\":{\"outlinewidth\":0,\"ticks\":\"\"},\"colorscale\":[[0.0,\"#0d0887\"],[0.1111111111111111,\"#46039f\"],[0.2222222222222222,\"#7201a8\"],[0.3333333333333333,\"#9c179e\"],[0.4444444444444444,\"#bd3786\"],[0.5555555555555556,\"#d8576b\"],[0.6666666666666666,\"#ed7953\"],[0.7777777777777778,\"#fb9f3a\"],[0.8888888888888888,\"#fdca26\"],[1.0,\"#f0f921\"]]}],\"contourcarpet\":[{\"type\":\"contourcarpet\",\"colorbar\":{\"outlinewidth\":0,\"ticks\":\"\"}}],\"contour\":[{\"type\":\"contour\",\"colorbar\":{\"outlinewidth\":0,\"ticks\":\"\"},\"colorscale\":[[0.0,\"#0d0887\"],[0.1111111111111111,\"#46039f\"],[0.2222222222222222,\"#7201a8\"],[0.3333333333333333,\"#9c179e\"],[0.4444444444444444,\"#bd3786\"],[0.5555555555555556,\"#d8576b\"],[0.6666666666666666,\"#ed7953\"],[0.7777777777777778,\"#fb9f3a\"],[0.8888888888888888,\"#fdca26\"],[1.0,\"#f0f921\"]]}],\"surface\":[{\"type\":\"surface\",\"colorbar\":{\"outlinewidth\":0,\"ticks\":\"\"},\"colorscale\":[[0.0,\"#0d0887\"],[0.1111111111111111,\"#46039f\"],[0.2222222222222222,\"#7201a8\"],[0.3333333333333333,\"#9c179e\"],[0.4444444444444444,\"#bd3786\"],[0.5555555555555556,\"#d8576b\"],[0.6666666666666666,\"#ed7953\"],[0.7777777777777778,\"#fb9f3a\"],[0.8888888888888888,\"#fdca26\"],[1.0,\"#f0f921\"]]}],\"mesh3d\":[{\"type\":\"mesh3d\",\"colorbar\":{\"outlinewidth\":0,\"ticks\":\"\"}}],\"scatter\":[{\"fillpattern\":{\"fillmode\":\"overlay\",\"size\":10,\"solidity\":0.2},\"type\":\"scatter\"}],\"parcoords\":[{\"type\":\"parcoords\",\"line\":{\"colorbar\":{\"outlinewidth\":0,\"ticks\":\"\"}}}],\"scatterpolargl\":[{\"type\":\"scatterpolargl\",\"marker\":{\"colorbar\":{\"outlinewidth\":0,\"ticks\":\"\"}}}],\"bar\":[{\"error_x\":{\"color\":\"#2a3f5f\"},\"error_y\":{\"color\":\"#2a3f5f\"},\"marker\":{\"line\":{\"color\":\"#E5ECF6\",\"width\":0.5},\"pattern\":{\"fillmode\":\"overlay\",\"size\":10,\"solidity\":0.2}},\"type\":\"bar\"}],\"scattergeo\":[{\"type\":\"scattergeo\",\"marker\":{\"colorbar\":{\"outlinewidth\":0,\"ticks\":\"\"}}}],\"scatterpolar\":[{\"type\":\"scatterpolar\",\"marker\":{\"colorbar\":{\"outlinewidth\":0,\"ticks\":\"\"}}}],\"histogram\":[{\"marker\":{\"pattern\":{\"fillmode\":\"overlay\",\"size\":10,\"solidity\":0.2}},\"type\":\"histogram\"}],\"scattergl\":[{\"type\":\"scattergl\",\"marker\":{\"colorbar\":{\"outlinewidth\":0,\"ticks\":\"\"}}}],\"scatter3d\":[{\"type\":\"scatter3d\",\"line\":{\"colorbar\":{\"outlinewidth\":0,\"ticks\":\"\"}},\"marker\":{\"colorbar\":{\"outlinewidth\":0,\"ticks\":\"\"}}}],\"scattermap\":[{\"type\":\"scattermap\",\"marker\":{\"colorbar\":{\"outlinewidth\":0,\"ticks\":\"\"}}}],\"scattermapbox\":[{\"type\":\"scattermapbox\",\"marker\":{\"colorbar\":{\"outlinewidth\":0,\"ticks\":\"\"}}}],\"scatterternary\":[{\"type\":\"scatterternary\",\"marker\":{\"colorbar\":{\"outlinewidth\":0,\"ticks\":\"\"}}}],\"scattercarpet\":[{\"type\":\"scattercarpet\",\"marker\":{\"colorbar\":{\"outlinewidth\":0,\"ticks\":\"\"}}}],\"carpet\":[{\"aaxis\":{\"endlinecolor\":\"#2a3f5f\",\"gridcolor\":\"white\",\"linecolor\":\"white\",\"minorgridcolor\":\"white\",\"startlinecolor\":\"#2a3f5f\"},\"baxis\":{\"endlinecolor\":\"#2a3f5f\",\"gridcolor\":\"white\",\"linecolor\":\"white\",\"minorgridcolor\":\"white\",\"startlinecolor\":\"#2a3f5f\"},\"type\":\"carpet\"}],\"table\":[{\"cells\":{\"fill\":{\"color\":\"#EBF0F8\"},\"line\":{\"color\":\"white\"}},\"header\":{\"fill\":{\"color\":\"#C8D4E3\"},\"line\":{\"color\":\"white\"}},\"type\":\"table\"}],\"barpolar\":[{\"marker\":{\"line\":{\"color\":\"#E5ECF6\",\"width\":0.5},\"pattern\":{\"fillmode\":\"overlay\",\"size\":10,\"solidity\":0.2}},\"type\":\"barpolar\"}],\"pie\":[{\"automargin\":true,\"type\":\"pie\"}]},\"layout\":{\"autotypenumbers\":\"strict\",\"colorway\":[\"#636efa\",\"#EF553B\",\"#00cc96\",\"#ab63fa\",\"#FFA15A\",\"#19d3f3\",\"#FF6692\",\"#B6E880\",\"#FF97FF\",\"#FECB52\"],\"font\":{\"color\":\"#2a3f5f\"},\"hovermode\":\"closest\",\"hoverlabel\":{\"align\":\"left\"},\"paper_bgcolor\":\"white\",\"plot_bgcolor\":\"#E5ECF6\",\"polar\":{\"bgcolor\":\"#E5ECF6\",\"angularaxis\":{\"gridcolor\":\"white\",\"linecolor\":\"white\",\"ticks\":\"\"},\"radialaxis\":{\"gridcolor\":\"white\",\"linecolor\":\"white\",\"ticks\":\"\"}},\"ternary\":{\"bgcolor\":\"#E5ECF6\",\"aaxis\":{\"gridcolor\":\"white\",\"linecolor\":\"white\",\"ticks\":\"\"},\"baxis\":{\"gridcolor\":\"white\",\"linecolor\":\"white\",\"ticks\":\"\"},\"caxis\":{\"gridcolor\":\"white\",\"linecolor\":\"white\",\"ticks\":\"\"}},\"coloraxis\":{\"colorbar\":{\"outlinewidth\":0,\"ticks\":\"\"}},\"colorscale\":{\"sequential\":[[0.0,\"#0d0887\"],[0.1111111111111111,\"#46039f\"],[0.2222222222222222,\"#7201a8\"],[0.3333333333333333,\"#9c179e\"],[0.4444444444444444,\"#bd3786\"],[0.5555555555555556,\"#d8576b\"],[0.6666666666666666,\"#ed7953\"],[0.7777777777777778,\"#fb9f3a\"],[0.8888888888888888,\"#fdca26\"],[1.0,\"#f0f921\"]],\"sequentialminus\":[[0.0,\"#0d0887\"],[0.1111111111111111,\"#46039f\"],[0.2222222222222222,\"#7201a8\"],[0.3333333333333333,\"#9c179e\"],[0.4444444444444444,\"#bd3786\"],[0.5555555555555556,\"#d8576b\"],[0.6666666666666666,\"#ed7953\"],[0.7777777777777778,\"#fb9f3a\"],[0.8888888888888888,\"#fdca26\"],[1.0,\"#f0f921\"]],\"diverging\":[[0,\"#8e0152\"],[0.1,\"#c51b7d\"],[0.2,\"#de77ae\"],[0.3,\"#f1b6da\"],[0.4,\"#fde0ef\"],[0.5,\"#f7f7f7\"],[0.6,\"#e6f5d0\"],[0.7,\"#b8e186\"],[0.8,\"#7fbc41\"],[0.9,\"#4d9221\"],[1,\"#276419\"]]},\"xaxis\":{\"gridcolor\":\"white\",\"linecolor\":\"white\",\"ticks\":\"\",\"title\":{\"standoff\":15},\"zerolinecolor\":\"white\",\"automargin\":true,\"zerolinewidth\":2},\"yaxis\":{\"gridcolor\":\"white\",\"linecolor\":\"white\",\"ticks\":\"\",\"title\":{\"standoff\":15},\"zerolinecolor\":\"white\",\"automargin\":true,\"zerolinewidth\":2},\"scene\":{\"xaxis\":{\"backgroundcolor\":\"#E5ECF6\",\"gridcolor\":\"white\",\"linecolor\":\"white\",\"showbackground\":true,\"ticks\":\"\",\"zerolinecolor\":\"white\",\"gridwidth\":2},\"yaxis\":{\"backgroundcolor\":\"#E5ECF6\",\"gridcolor\":\"white\",\"linecolor\":\"white\",\"showbackground\":true,\"ticks\":\"\",\"zerolinecolor\":\"white\",\"gridwidth\":2},\"zaxis\":{\"backgroundcolor\":\"#E5ECF6\",\"gridcolor\":\"white\",\"linecolor\":\"white\",\"showbackground\":true,\"ticks\":\"\",\"zerolinecolor\":\"white\",\"gridwidth\":2}},\"shapedefaults\":{\"line\":{\"color\":\"#2a3f5f\"}},\"annotationdefaults\":{\"arrowcolor\":\"#2a3f5f\",\"arrowhead\":0,\"arrowwidth\":1},\"geo\":{\"bgcolor\":\"white\",\"landcolor\":\"#E5ECF6\",\"subunitcolor\":\"white\",\"showland\":true,\"showlakes\":true,\"lakecolor\":\"white\"},\"title\":{\"x\":0.05},\"mapbox\":{\"style\":\"light\"}}}},                        {\"responsive\": true}                    ).then(function(){\n",
              "                            \n",
              "var gd = document.getElementById('ca2e8ab8-7e00-4209-b544-186eeffc201f');\n",
              "var x = new MutationObserver(function (mutations, observer) {{\n",
              "        var display = window.getComputedStyle(gd).display;\n",
              "        if (!display || display === 'none') {{\n",
              "            console.log([gd, 'removed!']);\n",
              "            Plotly.purge(gd);\n",
              "            observer.disconnect();\n",
              "        }}\n",
              "}});\n",
              "\n",
              "// Listen for the removal of the full notebook cells\n",
              "var notebookContainer = gd.closest('#notebook-container');\n",
              "if (notebookContainer) {{\n",
              "    x.observe(notebookContainer, {childList: true});\n",
              "}}\n",
              "\n",
              "// Listen for the clearing of the current output cell\n",
              "var outputEl = gd.closest('.output');\n",
              "if (outputEl) {{\n",
              "    x.observe(outputEl, {childList: true});\n",
              "}}\n",
              "\n",
              "                        })                };            </script>        </div>"
            ]
          },
          "metadata": {}
        }
      ],
      "source": [
        "fig = go.Figure(data=[go.Scatter(y=df[col], name=col, stackgroup='1', fill='tozeroy') for col in df.columns],\n",
        "                layout=go.Layout(title='Doldurulmuş Alan Grafiği'))\n",
        "fig.show()"
      ]
    },
    {
      "cell_type": "markdown",
      "source": [
        "Create DataFrame df3"
      ],
      "metadata": {
        "id": "G4ARUy8FjfpR"
      },
      "id": "G4ARUy8FjfpR"
    },
    {
      "cell_type": "code",
      "source": [
        "df3 = pd.DataFrame({\n",
        "    'X': [10,20,30,20,10],\n",
        "    'Y': [10,20,30,20,10],\n",
        "    'Z': [10,20,30,20,10]\n",
        "})"
      ],
      "metadata": {
        "id": "As6a53yydIH4"
      },
      "id": "As6a53yydIH4",
      "execution_count": 98,
      "outputs": []
    },
    {
      "cell_type": "markdown",
      "source": [
        "##Surface Plot (df3)"
      ],
      "metadata": {
        "id": "JBapiPcEjlH3"
      },
      "id": "JBapiPcEjlH3"
    },
    {
      "cell_type": "code",
      "source": [
        "fig = go.Figure(data=[go.Surface(z=df3.values)])\n",
        "fig.show()"
      ],
      "metadata": {
        "colab": {
          "base_uri": "https://localhost:8080/",
          "height": 542
        },
        "id": "FJ-mt7VfdMAX",
        "outputId": "6bcbb233-38fc-494f-b1b5-584f49389f4b"
      },
      "id": "FJ-mt7VfdMAX",
      "execution_count": 99,
      "outputs": [
        {
          "output_type": "display_data",
          "data": {
            "application/vnd.plotly.v1+json": {
              "data": [
                {
                  "z": {
                    "dtype": "i1",
                    "bdata": "CgoKFBQUHh4eFBQUCgoK",
                    "shape": "5, 3"
                  },
                  "type": "surface"
                }
              ],
              "layout": {
                "template": {
                  "data": {
                    "histogram2dcontour": [
                      {
                        "type": "histogram2dcontour",
                        "colorbar": {
                          "outlinewidth": 0,
                          "ticks": ""
                        },
                        "colorscale": [
                          [
                            0,
                            "#0d0887"
                          ],
                          [
                            0.1111111111111111,
                            "#46039f"
                          ],
                          [
                            0.2222222222222222,
                            "#7201a8"
                          ],
                          [
                            0.3333333333333333,
                            "#9c179e"
                          ],
                          [
                            0.4444444444444444,
                            "#bd3786"
                          ],
                          [
                            0.5555555555555556,
                            "#d8576b"
                          ],
                          [
                            0.6666666666666666,
                            "#ed7953"
                          ],
                          [
                            0.7777777777777778,
                            "#fb9f3a"
                          ],
                          [
                            0.8888888888888888,
                            "#fdca26"
                          ],
                          [
                            1,
                            "#f0f921"
                          ]
                        ]
                      }
                    ],
                    "choropleth": [
                      {
                        "type": "choropleth",
                        "colorbar": {
                          "outlinewidth": 0,
                          "ticks": ""
                        }
                      }
                    ],
                    "histogram2d": [
                      {
                        "type": "histogram2d",
                        "colorbar": {
                          "outlinewidth": 0,
                          "ticks": ""
                        },
                        "colorscale": [
                          [
                            0,
                            "#0d0887"
                          ],
                          [
                            0.1111111111111111,
                            "#46039f"
                          ],
                          [
                            0.2222222222222222,
                            "#7201a8"
                          ],
                          [
                            0.3333333333333333,
                            "#9c179e"
                          ],
                          [
                            0.4444444444444444,
                            "#bd3786"
                          ],
                          [
                            0.5555555555555556,
                            "#d8576b"
                          ],
                          [
                            0.6666666666666666,
                            "#ed7953"
                          ],
                          [
                            0.7777777777777778,
                            "#fb9f3a"
                          ],
                          [
                            0.8888888888888888,
                            "#fdca26"
                          ],
                          [
                            1,
                            "#f0f921"
                          ]
                        ]
                      }
                    ],
                    "heatmap": [
                      {
                        "type": "heatmap",
                        "colorbar": {
                          "outlinewidth": 0,
                          "ticks": ""
                        },
                        "colorscale": [
                          [
                            0,
                            "#0d0887"
                          ],
                          [
                            0.1111111111111111,
                            "#46039f"
                          ],
                          [
                            0.2222222222222222,
                            "#7201a8"
                          ],
                          [
                            0.3333333333333333,
                            "#9c179e"
                          ],
                          [
                            0.4444444444444444,
                            "#bd3786"
                          ],
                          [
                            0.5555555555555556,
                            "#d8576b"
                          ],
                          [
                            0.6666666666666666,
                            "#ed7953"
                          ],
                          [
                            0.7777777777777778,
                            "#fb9f3a"
                          ],
                          [
                            0.8888888888888888,
                            "#fdca26"
                          ],
                          [
                            1,
                            "#f0f921"
                          ]
                        ]
                      }
                    ],
                    "contourcarpet": [
                      {
                        "type": "contourcarpet",
                        "colorbar": {
                          "outlinewidth": 0,
                          "ticks": ""
                        }
                      }
                    ],
                    "contour": [
                      {
                        "type": "contour",
                        "colorbar": {
                          "outlinewidth": 0,
                          "ticks": ""
                        },
                        "colorscale": [
                          [
                            0,
                            "#0d0887"
                          ],
                          [
                            0.1111111111111111,
                            "#46039f"
                          ],
                          [
                            0.2222222222222222,
                            "#7201a8"
                          ],
                          [
                            0.3333333333333333,
                            "#9c179e"
                          ],
                          [
                            0.4444444444444444,
                            "#bd3786"
                          ],
                          [
                            0.5555555555555556,
                            "#d8576b"
                          ],
                          [
                            0.6666666666666666,
                            "#ed7953"
                          ],
                          [
                            0.7777777777777778,
                            "#fb9f3a"
                          ],
                          [
                            0.8888888888888888,
                            "#fdca26"
                          ],
                          [
                            1,
                            "#f0f921"
                          ]
                        ]
                      }
                    ],
                    "surface": [
                      {
                        "type": "surface",
                        "colorbar": {
                          "outlinewidth": 0,
                          "ticks": ""
                        },
                        "colorscale": [
                          [
                            0,
                            "#0d0887"
                          ],
                          [
                            0.1111111111111111,
                            "#46039f"
                          ],
                          [
                            0.2222222222222222,
                            "#7201a8"
                          ],
                          [
                            0.3333333333333333,
                            "#9c179e"
                          ],
                          [
                            0.4444444444444444,
                            "#bd3786"
                          ],
                          [
                            0.5555555555555556,
                            "#d8576b"
                          ],
                          [
                            0.6666666666666666,
                            "#ed7953"
                          ],
                          [
                            0.7777777777777778,
                            "#fb9f3a"
                          ],
                          [
                            0.8888888888888888,
                            "#fdca26"
                          ],
                          [
                            1,
                            "#f0f921"
                          ]
                        ]
                      }
                    ],
                    "mesh3d": [
                      {
                        "type": "mesh3d",
                        "colorbar": {
                          "outlinewidth": 0,
                          "ticks": ""
                        }
                      }
                    ],
                    "scatter": [
                      {
                        "fillpattern": {
                          "fillmode": "overlay",
                          "size": 10,
                          "solidity": 0.2
                        },
                        "type": "scatter"
                      }
                    ],
                    "parcoords": [
                      {
                        "type": "parcoords",
                        "line": {
                          "colorbar": {
                            "outlinewidth": 0,
                            "ticks": ""
                          }
                        }
                      }
                    ],
                    "scatterpolargl": [
                      {
                        "type": "scatterpolargl",
                        "marker": {
                          "colorbar": {
                            "outlinewidth": 0,
                            "ticks": ""
                          }
                        }
                      }
                    ],
                    "bar": [
                      {
                        "error_x": {
                          "color": "#2a3f5f"
                        },
                        "error_y": {
                          "color": "#2a3f5f"
                        },
                        "marker": {
                          "line": {
                            "color": "#E5ECF6",
                            "width": 0.5
                          },
                          "pattern": {
                            "fillmode": "overlay",
                            "size": 10,
                            "solidity": 0.2
                          }
                        },
                        "type": "bar"
                      }
                    ],
                    "scattergeo": [
                      {
                        "type": "scattergeo",
                        "marker": {
                          "colorbar": {
                            "outlinewidth": 0,
                            "ticks": ""
                          }
                        }
                      }
                    ],
                    "scatterpolar": [
                      {
                        "type": "scatterpolar",
                        "marker": {
                          "colorbar": {
                            "outlinewidth": 0,
                            "ticks": ""
                          }
                        }
                      }
                    ],
                    "histogram": [
                      {
                        "marker": {
                          "pattern": {
                            "fillmode": "overlay",
                            "size": 10,
                            "solidity": 0.2
                          }
                        },
                        "type": "histogram"
                      }
                    ],
                    "scattergl": [
                      {
                        "type": "scattergl",
                        "marker": {
                          "colorbar": {
                            "outlinewidth": 0,
                            "ticks": ""
                          }
                        }
                      }
                    ],
                    "scatter3d": [
                      {
                        "type": "scatter3d",
                        "line": {
                          "colorbar": {
                            "outlinewidth": 0,
                            "ticks": ""
                          }
                        },
                        "marker": {
                          "colorbar": {
                            "outlinewidth": 0,
                            "ticks": ""
                          }
                        }
                      }
                    ],
                    "scattermap": [
                      {
                        "type": "scattermap",
                        "marker": {
                          "colorbar": {
                            "outlinewidth": 0,
                            "ticks": ""
                          }
                        }
                      }
                    ],
                    "scattermapbox": [
                      {
                        "type": "scattermapbox",
                        "marker": {
                          "colorbar": {
                            "outlinewidth": 0,
                            "ticks": ""
                          }
                        }
                      }
                    ],
                    "scatterternary": [
                      {
                        "type": "scatterternary",
                        "marker": {
                          "colorbar": {
                            "outlinewidth": 0,
                            "ticks": ""
                          }
                        }
                      }
                    ],
                    "scattercarpet": [
                      {
                        "type": "scattercarpet",
                        "marker": {
                          "colorbar": {
                            "outlinewidth": 0,
                            "ticks": ""
                          }
                        }
                      }
                    ],
                    "carpet": [
                      {
                        "aaxis": {
                          "endlinecolor": "#2a3f5f",
                          "gridcolor": "white",
                          "linecolor": "white",
                          "minorgridcolor": "white",
                          "startlinecolor": "#2a3f5f"
                        },
                        "baxis": {
                          "endlinecolor": "#2a3f5f",
                          "gridcolor": "white",
                          "linecolor": "white",
                          "minorgridcolor": "white",
                          "startlinecolor": "#2a3f5f"
                        },
                        "type": "carpet"
                      }
                    ],
                    "table": [
                      {
                        "cells": {
                          "fill": {
                            "color": "#EBF0F8"
                          },
                          "line": {
                            "color": "white"
                          }
                        },
                        "header": {
                          "fill": {
                            "color": "#C8D4E3"
                          },
                          "line": {
                            "color": "white"
                          }
                        },
                        "type": "table"
                      }
                    ],
                    "barpolar": [
                      {
                        "marker": {
                          "line": {
                            "color": "#E5ECF6",
                            "width": 0.5
                          },
                          "pattern": {
                            "fillmode": "overlay",
                            "size": 10,
                            "solidity": 0.2
                          }
                        },
                        "type": "barpolar"
                      }
                    ],
                    "pie": [
                      {
                        "automargin": true,
                        "type": "pie"
                      }
                    ]
                  },
                  "layout": {
                    "autotypenumbers": "strict",
                    "colorway": [
                      "#636efa",
                      "#EF553B",
                      "#00cc96",
                      "#ab63fa",
                      "#FFA15A",
                      "#19d3f3",
                      "#FF6692",
                      "#B6E880",
                      "#FF97FF",
                      "#FECB52"
                    ],
                    "font": {
                      "color": "#2a3f5f"
                    },
                    "hovermode": "closest",
                    "hoverlabel": {
                      "align": "left"
                    },
                    "paper_bgcolor": "white",
                    "plot_bgcolor": "#E5ECF6",
                    "polar": {
                      "bgcolor": "#E5ECF6",
                      "angularaxis": {
                        "gridcolor": "white",
                        "linecolor": "white",
                        "ticks": ""
                      },
                      "radialaxis": {
                        "gridcolor": "white",
                        "linecolor": "white",
                        "ticks": ""
                      }
                    },
                    "ternary": {
                      "bgcolor": "#E5ECF6",
                      "aaxis": {
                        "gridcolor": "white",
                        "linecolor": "white",
                        "ticks": ""
                      },
                      "baxis": {
                        "gridcolor": "white",
                        "linecolor": "white",
                        "ticks": ""
                      },
                      "caxis": {
                        "gridcolor": "white",
                        "linecolor": "white",
                        "ticks": ""
                      }
                    },
                    "coloraxis": {
                      "colorbar": {
                        "outlinewidth": 0,
                        "ticks": ""
                      }
                    },
                    "colorscale": {
                      "sequential": [
                        [
                          0,
                          "#0d0887"
                        ],
                        [
                          0.1111111111111111,
                          "#46039f"
                        ],
                        [
                          0.2222222222222222,
                          "#7201a8"
                        ],
                        [
                          0.3333333333333333,
                          "#9c179e"
                        ],
                        [
                          0.4444444444444444,
                          "#bd3786"
                        ],
                        [
                          0.5555555555555556,
                          "#d8576b"
                        ],
                        [
                          0.6666666666666666,
                          "#ed7953"
                        ],
                        [
                          0.7777777777777778,
                          "#fb9f3a"
                        ],
                        [
                          0.8888888888888888,
                          "#fdca26"
                        ],
                        [
                          1,
                          "#f0f921"
                        ]
                      ],
                      "sequentialminus": [
                        [
                          0,
                          "#0d0887"
                        ],
                        [
                          0.1111111111111111,
                          "#46039f"
                        ],
                        [
                          0.2222222222222222,
                          "#7201a8"
                        ],
                        [
                          0.3333333333333333,
                          "#9c179e"
                        ],
                        [
                          0.4444444444444444,
                          "#bd3786"
                        ],
                        [
                          0.5555555555555556,
                          "#d8576b"
                        ],
                        [
                          0.6666666666666666,
                          "#ed7953"
                        ],
                        [
                          0.7777777777777778,
                          "#fb9f3a"
                        ],
                        [
                          0.8888888888888888,
                          "#fdca26"
                        ],
                        [
                          1,
                          "#f0f921"
                        ]
                      ],
                      "diverging": [
                        [
                          0,
                          "#8e0152"
                        ],
                        [
                          0.1,
                          "#c51b7d"
                        ],
                        [
                          0.2,
                          "#de77ae"
                        ],
                        [
                          0.3,
                          "#f1b6da"
                        ],
                        [
                          0.4,
                          "#fde0ef"
                        ],
                        [
                          0.5,
                          "#f7f7f7"
                        ],
                        [
                          0.6,
                          "#e6f5d0"
                        ],
                        [
                          0.7,
                          "#b8e186"
                        ],
                        [
                          0.8,
                          "#7fbc41"
                        ],
                        [
                          0.9,
                          "#4d9221"
                        ],
                        [
                          1,
                          "#276419"
                        ]
                      ]
                    },
                    "xaxis": {
                      "gridcolor": "white",
                      "linecolor": "white",
                      "ticks": "",
                      "title": {
                        "standoff": 15
                      },
                      "zerolinecolor": "white",
                      "automargin": true,
                      "zerolinewidth": 2
                    },
                    "yaxis": {
                      "gridcolor": "white",
                      "linecolor": "white",
                      "ticks": "",
                      "title": {
                        "standoff": 15
                      },
                      "zerolinecolor": "white",
                      "automargin": true,
                      "zerolinewidth": 2
                    },
                    "scene": {
                      "xaxis": {
                        "backgroundcolor": "#E5ECF6",
                        "gridcolor": "white",
                        "linecolor": "white",
                        "showbackground": true,
                        "ticks": "",
                        "zerolinecolor": "white",
                        "gridwidth": 2
                      },
                      "yaxis": {
                        "backgroundcolor": "#E5ECF6",
                        "gridcolor": "white",
                        "linecolor": "white",
                        "showbackground": true,
                        "ticks": "",
                        "zerolinecolor": "white",
                        "gridwidth": 2
                      },
                      "zaxis": {
                        "backgroundcolor": "#E5ECF6",
                        "gridcolor": "white",
                        "linecolor": "white",
                        "showbackground": true,
                        "ticks": "",
                        "zerolinecolor": "white",
                        "gridwidth": 2
                      }
                    },
                    "shapedefaults": {
                      "line": {
                        "color": "#2a3f5f"
                      }
                    },
                    "annotationdefaults": {
                      "arrowcolor": "#2a3f5f",
                      "arrowhead": 0,
                      "arrowwidth": 1
                    },
                    "geo": {
                      "bgcolor": "white",
                      "landcolor": "#E5ECF6",
                      "subunitcolor": "white",
                      "showland": true,
                      "showlakes": true,
                      "lakecolor": "white"
                    },
                    "title": {
                      "x": 0.05
                    },
                    "mapbox": {
                      "style": "light"
                    }
                  }
                }
              },
              "config": {
                "plotlyServerURL": "https://plot.ly"
              }
            },
            "text/html": [
              "<div>            <script src=\"https://cdnjs.cloudflare.com/ajax/libs/mathjax/2.7.5/MathJax.js?config=TeX-AMS-MML_SVG\"></script><script type=\"text/javascript\">if (window.MathJax && window.MathJax.Hub && window.MathJax.Hub.Config) {window.MathJax.Hub.Config({SVG: {font: \"STIX-Web\"}});}</script>                <script type=\"text/javascript\">window.PlotlyConfig = {MathJaxConfig: 'local'};</script>\n",
              "        <script charset=\"utf-8\" src=\"https://cdn.plot.ly/plotly-3.0.0.min.js\"></script>                <div id=\"d233d1f5-cdc9-421b-b30b-34fad96ef7cc\" class=\"plotly-graph-div\" style=\"height:525px; width:100%;\"></div>            <script type=\"text/javascript\">                window.PLOTLYENV=window.PLOTLYENV || {};                                if (document.getElementById(\"d233d1f5-cdc9-421b-b30b-34fad96ef7cc\")) {                    Plotly.newPlot(                        \"d233d1f5-cdc9-421b-b30b-34fad96ef7cc\",                        [{\"z\":{\"dtype\":\"i1\",\"bdata\":\"CgoKFBQUHh4eFBQUCgoK\",\"shape\":\"5, 3\"},\"type\":\"surface\"}],                        {\"template\":{\"data\":{\"histogram2dcontour\":[{\"type\":\"histogram2dcontour\",\"colorbar\":{\"outlinewidth\":0,\"ticks\":\"\"},\"colorscale\":[[0.0,\"#0d0887\"],[0.1111111111111111,\"#46039f\"],[0.2222222222222222,\"#7201a8\"],[0.3333333333333333,\"#9c179e\"],[0.4444444444444444,\"#bd3786\"],[0.5555555555555556,\"#d8576b\"],[0.6666666666666666,\"#ed7953\"],[0.7777777777777778,\"#fb9f3a\"],[0.8888888888888888,\"#fdca26\"],[1.0,\"#f0f921\"]]}],\"choropleth\":[{\"type\":\"choropleth\",\"colorbar\":{\"outlinewidth\":0,\"ticks\":\"\"}}],\"histogram2d\":[{\"type\":\"histogram2d\",\"colorbar\":{\"outlinewidth\":0,\"ticks\":\"\"},\"colorscale\":[[0.0,\"#0d0887\"],[0.1111111111111111,\"#46039f\"],[0.2222222222222222,\"#7201a8\"],[0.3333333333333333,\"#9c179e\"],[0.4444444444444444,\"#bd3786\"],[0.5555555555555556,\"#d8576b\"],[0.6666666666666666,\"#ed7953\"],[0.7777777777777778,\"#fb9f3a\"],[0.8888888888888888,\"#fdca26\"],[1.0,\"#f0f921\"]]}],\"heatmap\":[{\"type\":\"heatmap\",\"colorbar\":{\"outlinewidth\":0,\"ticks\":\"\"},\"colorscale\":[[0.0,\"#0d0887\"],[0.1111111111111111,\"#46039f\"],[0.2222222222222222,\"#7201a8\"],[0.3333333333333333,\"#9c179e\"],[0.4444444444444444,\"#bd3786\"],[0.5555555555555556,\"#d8576b\"],[0.6666666666666666,\"#ed7953\"],[0.7777777777777778,\"#fb9f3a\"],[0.8888888888888888,\"#fdca26\"],[1.0,\"#f0f921\"]]}],\"contourcarpet\":[{\"type\":\"contourcarpet\",\"colorbar\":{\"outlinewidth\":0,\"ticks\":\"\"}}],\"contour\":[{\"type\":\"contour\",\"colorbar\":{\"outlinewidth\":0,\"ticks\":\"\"},\"colorscale\":[[0.0,\"#0d0887\"],[0.1111111111111111,\"#46039f\"],[0.2222222222222222,\"#7201a8\"],[0.3333333333333333,\"#9c179e\"],[0.4444444444444444,\"#bd3786\"],[0.5555555555555556,\"#d8576b\"],[0.6666666666666666,\"#ed7953\"],[0.7777777777777778,\"#fb9f3a\"],[0.8888888888888888,\"#fdca26\"],[1.0,\"#f0f921\"]]}],\"surface\":[{\"type\":\"surface\",\"colorbar\":{\"outlinewidth\":0,\"ticks\":\"\"},\"colorscale\":[[0.0,\"#0d0887\"],[0.1111111111111111,\"#46039f\"],[0.2222222222222222,\"#7201a8\"],[0.3333333333333333,\"#9c179e\"],[0.4444444444444444,\"#bd3786\"],[0.5555555555555556,\"#d8576b\"],[0.6666666666666666,\"#ed7953\"],[0.7777777777777778,\"#fb9f3a\"],[0.8888888888888888,\"#fdca26\"],[1.0,\"#f0f921\"]]}],\"mesh3d\":[{\"type\":\"mesh3d\",\"colorbar\":{\"outlinewidth\":0,\"ticks\":\"\"}}],\"scatter\":[{\"fillpattern\":{\"fillmode\":\"overlay\",\"size\":10,\"solidity\":0.2},\"type\":\"scatter\"}],\"parcoords\":[{\"type\":\"parcoords\",\"line\":{\"colorbar\":{\"outlinewidth\":0,\"ticks\":\"\"}}}],\"scatterpolargl\":[{\"type\":\"scatterpolargl\",\"marker\":{\"colorbar\":{\"outlinewidth\":0,\"ticks\":\"\"}}}],\"bar\":[{\"error_x\":{\"color\":\"#2a3f5f\"},\"error_y\":{\"color\":\"#2a3f5f\"},\"marker\":{\"line\":{\"color\":\"#E5ECF6\",\"width\":0.5},\"pattern\":{\"fillmode\":\"overlay\",\"size\":10,\"solidity\":0.2}},\"type\":\"bar\"}],\"scattergeo\":[{\"type\":\"scattergeo\",\"marker\":{\"colorbar\":{\"outlinewidth\":0,\"ticks\":\"\"}}}],\"scatterpolar\":[{\"type\":\"scatterpolar\",\"marker\":{\"colorbar\":{\"outlinewidth\":0,\"ticks\":\"\"}}}],\"histogram\":[{\"marker\":{\"pattern\":{\"fillmode\":\"overlay\",\"size\":10,\"solidity\":0.2}},\"type\":\"histogram\"}],\"scattergl\":[{\"type\":\"scattergl\",\"marker\":{\"colorbar\":{\"outlinewidth\":0,\"ticks\":\"\"}}}],\"scatter3d\":[{\"type\":\"scatter3d\",\"line\":{\"colorbar\":{\"outlinewidth\":0,\"ticks\":\"\"}},\"marker\":{\"colorbar\":{\"outlinewidth\":0,\"ticks\":\"\"}}}],\"scattermap\":[{\"type\":\"scattermap\",\"marker\":{\"colorbar\":{\"outlinewidth\":0,\"ticks\":\"\"}}}],\"scattermapbox\":[{\"type\":\"scattermapbox\",\"marker\":{\"colorbar\":{\"outlinewidth\":0,\"ticks\":\"\"}}}],\"scatterternary\":[{\"type\":\"scatterternary\",\"marker\":{\"colorbar\":{\"outlinewidth\":0,\"ticks\":\"\"}}}],\"scattercarpet\":[{\"type\":\"scattercarpet\",\"marker\":{\"colorbar\":{\"outlinewidth\":0,\"ticks\":\"\"}}}],\"carpet\":[{\"aaxis\":{\"endlinecolor\":\"#2a3f5f\",\"gridcolor\":\"white\",\"linecolor\":\"white\",\"minorgridcolor\":\"white\",\"startlinecolor\":\"#2a3f5f\"},\"baxis\":{\"endlinecolor\":\"#2a3f5f\",\"gridcolor\":\"white\",\"linecolor\":\"white\",\"minorgridcolor\":\"white\",\"startlinecolor\":\"#2a3f5f\"},\"type\":\"carpet\"}],\"table\":[{\"cells\":{\"fill\":{\"color\":\"#EBF0F8\"},\"line\":{\"color\":\"white\"}},\"header\":{\"fill\":{\"color\":\"#C8D4E3\"},\"line\":{\"color\":\"white\"}},\"type\":\"table\"}],\"barpolar\":[{\"marker\":{\"line\":{\"color\":\"#E5ECF6\",\"width\":0.5},\"pattern\":{\"fillmode\":\"overlay\",\"size\":10,\"solidity\":0.2}},\"type\":\"barpolar\"}],\"pie\":[{\"automargin\":true,\"type\":\"pie\"}]},\"layout\":{\"autotypenumbers\":\"strict\",\"colorway\":[\"#636efa\",\"#EF553B\",\"#00cc96\",\"#ab63fa\",\"#FFA15A\",\"#19d3f3\",\"#FF6692\",\"#B6E880\",\"#FF97FF\",\"#FECB52\"],\"font\":{\"color\":\"#2a3f5f\"},\"hovermode\":\"closest\",\"hoverlabel\":{\"align\":\"left\"},\"paper_bgcolor\":\"white\",\"plot_bgcolor\":\"#E5ECF6\",\"polar\":{\"bgcolor\":\"#E5ECF6\",\"angularaxis\":{\"gridcolor\":\"white\",\"linecolor\":\"white\",\"ticks\":\"\"},\"radialaxis\":{\"gridcolor\":\"white\",\"linecolor\":\"white\",\"ticks\":\"\"}},\"ternary\":{\"bgcolor\":\"#E5ECF6\",\"aaxis\":{\"gridcolor\":\"white\",\"linecolor\":\"white\",\"ticks\":\"\"},\"baxis\":{\"gridcolor\":\"white\",\"linecolor\":\"white\",\"ticks\":\"\"},\"caxis\":{\"gridcolor\":\"white\",\"linecolor\":\"white\",\"ticks\":\"\"}},\"coloraxis\":{\"colorbar\":{\"outlinewidth\":0,\"ticks\":\"\"}},\"colorscale\":{\"sequential\":[[0.0,\"#0d0887\"],[0.1111111111111111,\"#46039f\"],[0.2222222222222222,\"#7201a8\"],[0.3333333333333333,\"#9c179e\"],[0.4444444444444444,\"#bd3786\"],[0.5555555555555556,\"#d8576b\"],[0.6666666666666666,\"#ed7953\"],[0.7777777777777778,\"#fb9f3a\"],[0.8888888888888888,\"#fdca26\"],[1.0,\"#f0f921\"]],\"sequentialminus\":[[0.0,\"#0d0887\"],[0.1111111111111111,\"#46039f\"],[0.2222222222222222,\"#7201a8\"],[0.3333333333333333,\"#9c179e\"],[0.4444444444444444,\"#bd3786\"],[0.5555555555555556,\"#d8576b\"],[0.6666666666666666,\"#ed7953\"],[0.7777777777777778,\"#fb9f3a\"],[0.8888888888888888,\"#fdca26\"],[1.0,\"#f0f921\"]],\"diverging\":[[0,\"#8e0152\"],[0.1,\"#c51b7d\"],[0.2,\"#de77ae\"],[0.3,\"#f1b6da\"],[0.4,\"#fde0ef\"],[0.5,\"#f7f7f7\"],[0.6,\"#e6f5d0\"],[0.7,\"#b8e186\"],[0.8,\"#7fbc41\"],[0.9,\"#4d9221\"],[1,\"#276419\"]]},\"xaxis\":{\"gridcolor\":\"white\",\"linecolor\":\"white\",\"ticks\":\"\",\"title\":{\"standoff\":15},\"zerolinecolor\":\"white\",\"automargin\":true,\"zerolinewidth\":2},\"yaxis\":{\"gridcolor\":\"white\",\"linecolor\":\"white\",\"ticks\":\"\",\"title\":{\"standoff\":15},\"zerolinecolor\":\"white\",\"automargin\":true,\"zerolinewidth\":2},\"scene\":{\"xaxis\":{\"backgroundcolor\":\"#E5ECF6\",\"gridcolor\":\"white\",\"linecolor\":\"white\",\"showbackground\":true,\"ticks\":\"\",\"zerolinecolor\":\"white\",\"gridwidth\":2},\"yaxis\":{\"backgroundcolor\":\"#E5ECF6\",\"gridcolor\":\"white\",\"linecolor\":\"white\",\"showbackground\":true,\"ticks\":\"\",\"zerolinecolor\":\"white\",\"gridwidth\":2},\"zaxis\":{\"backgroundcolor\":\"#E5ECF6\",\"gridcolor\":\"white\",\"linecolor\":\"white\",\"showbackground\":true,\"ticks\":\"\",\"zerolinecolor\":\"white\",\"gridwidth\":2}},\"shapedefaults\":{\"line\":{\"color\":\"#2a3f5f\"}},\"annotationdefaults\":{\"arrowcolor\":\"#2a3f5f\",\"arrowhead\":0,\"arrowwidth\":1},\"geo\":{\"bgcolor\":\"white\",\"landcolor\":\"#E5ECF6\",\"subunitcolor\":\"white\",\"showland\":true,\"showlakes\":true,\"lakecolor\":\"white\"},\"title\":{\"x\":0.05},\"mapbox\":{\"style\":\"light\"}}}},                        {\"responsive\": true}                    ).then(function(){\n",
              "                            \n",
              "var gd = document.getElementById('d233d1f5-cdc9-421b-b30b-34fad96ef7cc');\n",
              "var x = new MutationObserver(function (mutations, observer) {{\n",
              "        var display = window.getComputedStyle(gd).display;\n",
              "        if (!display || display === 'none') {{\n",
              "            console.log([gd, 'removed!']);\n",
              "            Plotly.purge(gd);\n",
              "            observer.disconnect();\n",
              "        }}\n",
              "}});\n",
              "\n",
              "// Listen for the removal of the full notebook cells\n",
              "var notebookContainer = gd.closest('#notebook-container');\n",
              "if (notebookContainer) {{\n",
              "    x.observe(notebookContainer, {childList: true});\n",
              "}}\n",
              "\n",
              "// Listen for the clearing of the current output cell\n",
              "var outputEl = gd.closest('.output');\n",
              "if (outputEl) {{\n",
              "    x.observe(outputEl, {childList: true});\n",
              "}}\n",
              "\n",
              "                        })                };            </script>        </div>"
            ]
          },
          "metadata": {}
        }
      ]
    },
    {
      "cell_type": "markdown",
      "source": [
        "##Surface Plot (Sinwave)\n",
        "\n"
      ],
      "metadata": {
        "id": "Ca5wGUx3juZ0"
      },
      "id": "Ca5wGUx3juZ0"
    },
    {
      "cell_type": "code",
      "source": [
        "df_sinwave = cf.datagen.sinwave(10, 0.25)\n",
        "fig = go.Figure(data=[go.Surface(z=df_sinwave.values)])\n",
        "fig.show()"
      ],
      "metadata": {
        "colab": {
          "base_uri": "https://localhost:8080/",
          "height": 542
        },
        "id": "xR-dg001dNbx",
        "outputId": "04ce0f90-ca9c-4c31-8c65-4f33b4991cf5"
      },
      "id": "xR-dg001dNbx",
      "execution_count": 109,
      "outputs": [
        {
          "output_type": "display_data",
          "data": {
            "application/vnd.plotly.v1+json": {
              "data": [
                {
                  "z": {
                    "dtype": "f8",
                    "bdata": "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",
                    "shape": "80, 80"
                  },
                  "type": "surface"
                }
              ],
              "layout": {
                "template": {
                  "data": {
                    "histogram2dcontour": [
                      {
                        "type": "histogram2dcontour",
                        "colorbar": {
                          "outlinewidth": 0,
                          "ticks": ""
                        },
                        "colorscale": [
                          [
                            0,
                            "#0d0887"
                          ],
                          [
                            0.1111111111111111,
                            "#46039f"
                          ],
                          [
                            0.2222222222222222,
                            "#7201a8"
                          ],
                          [
                            0.3333333333333333,
                            "#9c179e"
                          ],
                          [
                            0.4444444444444444,
                            "#bd3786"
                          ],
                          [
                            0.5555555555555556,
                            "#d8576b"
                          ],
                          [
                            0.6666666666666666,
                            "#ed7953"
                          ],
                          [
                            0.7777777777777778,
                            "#fb9f3a"
                          ],
                          [
                            0.8888888888888888,
                            "#fdca26"
                          ],
                          [
                            1,
                            "#f0f921"
                          ]
                        ]
                      }
                    ],
                    "choropleth": [
                      {
                        "type": "choropleth",
                        "colorbar": {
                          "outlinewidth": 0,
                          "ticks": ""
                        }
                      }
                    ],
                    "histogram2d": [
                      {
                        "type": "histogram2d",
                        "colorbar": {
                          "outlinewidth": 0,
                          "ticks": ""
                        },
                        "colorscale": [
                          [
                            0,
                            "#0d0887"
                          ],
                          [
                            0.1111111111111111,
                            "#46039f"
                          ],
                          [
                            0.2222222222222222,
                            "#7201a8"
                          ],
                          [
                            0.3333333333333333,
                            "#9c179e"
                          ],
                          [
                            0.4444444444444444,
                            "#bd3786"
                          ],
                          [
                            0.5555555555555556,
                            "#d8576b"
                          ],
                          [
                            0.6666666666666666,
                            "#ed7953"
                          ],
                          [
                            0.7777777777777778,
                            "#fb9f3a"
                          ],
                          [
                            0.8888888888888888,
                            "#fdca26"
                          ],
                          [
                            1,
                            "#f0f921"
                          ]
                        ]
                      }
                    ],
                    "heatmap": [
                      {
                        "type": "heatmap",
                        "colorbar": {
                          "outlinewidth": 0,
                          "ticks": ""
                        },
                        "colorscale": [
                          [
                            0,
                            "#0d0887"
                          ],
                          [
                            0.1111111111111111,
                            "#46039f"
                          ],
                          [
                            0.2222222222222222,
                            "#7201a8"
                          ],
                          [
                            0.3333333333333333,
                            "#9c179e"
                          ],
                          [
                            0.4444444444444444,
                            "#bd3786"
                          ],
                          [
                            0.5555555555555556,
                            "#d8576b"
                          ],
                          [
                            0.6666666666666666,
                            "#ed7953"
                          ],
                          [
                            0.7777777777777778,
                            "#fb9f3a"
                          ],
                          [
                            0.8888888888888888,
                            "#fdca26"
                          ],
                          [
                            1,
                            "#f0f921"
                          ]
                        ]
                      }
                    ],
                    "contourcarpet": [
                      {
                        "type": "contourcarpet",
                        "colorbar": {
                          "outlinewidth": 0,
                          "ticks": ""
                        }
                      }
                    ],
                    "contour": [
                      {
                        "type": "contour",
                        "colorbar": {
                          "outlinewidth": 0,
                          "ticks": ""
                        },
                        "colorscale": [
                          [
                            0,
                            "#0d0887"
                          ],
                          [
                            0.1111111111111111,
                            "#46039f"
                          ],
                          [
                            0.2222222222222222,
                            "#7201a8"
                          ],
                          [
                            0.3333333333333333,
                            "#9c179e"
                          ],
                          [
                            0.4444444444444444,
                            "#bd3786"
                          ],
                          [
                            0.5555555555555556,
                            "#d8576b"
                          ],
                          [
                            0.6666666666666666,
                            "#ed7953"
                          ],
                          [
                            0.7777777777777778,
                            "#fb9f3a"
                          ],
                          [
                            0.8888888888888888,
                            "#fdca26"
                          ],
                          [
                            1,
                            "#f0f921"
                          ]
                        ]
                      }
                    ],
                    "surface": [
                      {
                        "type": "surface",
                        "colorbar": {
                          "outlinewidth": 0,
                          "ticks": ""
                        },
                        "colorscale": [
                          [
                            0,
                            "#0d0887"
                          ],
                          [
                            0.1111111111111111,
                            "#46039f"
                          ],
                          [
                            0.2222222222222222,
                            "#7201a8"
                          ],
                          [
                            0.3333333333333333,
                            "#9c179e"
                          ],
                          [
                            0.4444444444444444,
                            "#bd3786"
                          ],
                          [
                            0.5555555555555556,
                            "#d8576b"
                          ],
                          [
                            0.6666666666666666,
                            "#ed7953"
                          ],
                          [
                            0.7777777777777778,
                            "#fb9f3a"
                          ],
                          [
                            0.8888888888888888,
                            "#fdca26"
                          ],
                          [
                            1,
                            "#f0f921"
                          ]
                        ]
                      }
                    ],
                    "mesh3d": [
                      {
                        "type": "mesh3d",
                        "colorbar": {
                          "outlinewidth": 0,
                          "ticks": ""
                        }
                      }
                    ],
                    "scatter": [
                      {
                        "fillpattern": {
                          "fillmode": "overlay",
                          "size": 10,
                          "solidity": 0.2
                        },
                        "type": "scatter"
                      }
                    ],
                    "parcoords": [
                      {
                        "type": "parcoords",
                        "line": {
                          "colorbar": {
                            "outlinewidth": 0,
                            "ticks": ""
                          }
                        }
                      }
                    ],
                    "scatterpolargl": [
                      {
                        "type": "scatterpolargl",
                        "marker": {
                          "colorbar": {
                            "outlinewidth": 0,
                            "ticks": ""
                          }
                        }
                      }
                    ],
                    "bar": [
                      {
                        "error_x": {
                          "color": "#2a3f5f"
                        },
                        "error_y": {
                          "color": "#2a3f5f"
                        },
                        "marker": {
                          "line": {
                            "color": "#E5ECF6",
                            "width": 0.5
                          },
                          "pattern": {
                            "fillmode": "overlay",
                            "size": 10,
                            "solidity": 0.2
                          }
                        },
                        "type": "bar"
                      }
                    ],
                    "scattergeo": [
                      {
                        "type": "scattergeo",
                        "marker": {
                          "colorbar": {
                            "outlinewidth": 0,
                            "ticks": ""
                          }
                        }
                      }
                    ],
                    "scatterpolar": [
                      {
                        "type": "scatterpolar",
                        "marker": {
                          "colorbar": {
                            "outlinewidth": 0,
                            "ticks": ""
                          }
                        }
                      }
                    ],
                    "histogram": [
                      {
                        "marker": {
                          "pattern": {
                            "fillmode": "overlay",
                            "size": 10,
                            "solidity": 0.2
                          }
                        },
                        "type": "histogram"
                      }
                    ],
                    "scattergl": [
                      {
                        "type": "scattergl",
                        "marker": {
                          "colorbar": {
                            "outlinewidth": 0,
                            "ticks": ""
                          }
                        }
                      }
                    ],
                    "scatter3d": [
                      {
                        "type": "scatter3d",
                        "line": {
                          "colorbar": {
                            "outlinewidth": 0,
                            "ticks": ""
                          }
                        },
                        "marker": {
                          "colorbar": {
                            "outlinewidth": 0,
                            "ticks": ""
                          }
                        }
                      }
                    ],
                    "scattermap": [
                      {
                        "type": "scattermap",
                        "marker": {
                          "colorbar": {
                            "outlinewidth": 0,
                            "ticks": ""
                          }
                        }
                      }
                    ],
                    "scattermapbox": [
                      {
                        "type": "scattermapbox",
                        "marker": {
                          "colorbar": {
                            "outlinewidth": 0,
                            "ticks": ""
                          }
                        }
                      }
                    ],
                    "scatterternary": [
                      {
                        "type": "scatterternary",
                        "marker": {
                          "colorbar": {
                            "outlinewidth": 0,
                            "ticks": ""
                          }
                        }
                      }
                    ],
                    "scattercarpet": [
                      {
                        "type": "scattercarpet",
                        "marker": {
                          "colorbar": {
                            "outlinewidth": 0,
                            "ticks": ""
                          }
                        }
                      }
                    ],
                    "carpet": [
                      {
                        "aaxis": {
                          "endlinecolor": "#2a3f5f",
                          "gridcolor": "white",
                          "linecolor": "white",
                          "minorgridcolor": "white",
                          "startlinecolor": "#2a3f5f"
                        },
                        "baxis": {
                          "endlinecolor": "#2a3f5f",
                          "gridcolor": "white",
                          "linecolor": "white",
                          "minorgridcolor": "white",
                          "startlinecolor": "#2a3f5f"
                        },
                        "type": "carpet"
                      }
                    ],
                    "table": [
                      {
                        "cells": {
                          "fill": {
                            "color": "#EBF0F8"
                          },
                          "line": {
                            "color": "white"
                          }
                        },
                        "header": {
                          "fill": {
                            "color": "#C8D4E3"
                          },
                          "line": {
                            "color": "white"
                          }
                        },
                        "type": "table"
                      }
                    ],
                    "barpolar": [
                      {
                        "marker": {
                          "line": {
                            "color": "#E5ECF6",
                            "width": 0.5
                          },
                          "pattern": {
                            "fillmode": "overlay",
                            "size": 10,
                            "solidity": 0.2
                          }
                        },
                        "type": "barpolar"
                      }
                    ],
                    "pie": [
                      {
                        "automargin": true,
                        "type": "pie"
                      }
                    ]
                  },
                  "layout": {
                    "autotypenumbers": "strict",
                    "colorway": [
                      "#636efa",
                      "#EF553B",
                      "#00cc96",
                      "#ab63fa",
                      "#FFA15A",
                      "#19d3f3",
                      "#FF6692",
                      "#B6E880",
                      "#FF97FF",
                      "#FECB52"
                    ],
                    "font": {
                      "color": "#2a3f5f"
                    },
                    "hovermode": "closest",
                    "hoverlabel": {
                      "align": "left"
                    },
                    "paper_bgcolor": "white",
                    "plot_bgcolor": "#E5ECF6",
                    "polar": {
                      "bgcolor": "#E5ECF6",
                      "angularaxis": {
                        "gridcolor": "white",
                        "linecolor": "white",
                        "ticks": ""
                      },
                      "radialaxis": {
                        "gridcolor": "white",
                        "linecolor": "white",
                        "ticks": ""
                      }
                    },
                    "ternary": {
                      "bgcolor": "#E5ECF6",
                      "aaxis": {
                        "gridcolor": "white",
                        "linecolor": "white",
                        "ticks": ""
                      },
                      "baxis": {
                        "gridcolor": "white",
                        "linecolor": "white",
                        "ticks": ""
                      },
                      "caxis": {
                        "gridcolor": "white",
                        "linecolor": "white",
                        "ticks": ""
                      }
                    },
                    "coloraxis": {
                      "colorbar": {
                        "outlinewidth": 0,
                        "ticks": ""
                      }
                    },
                    "colorscale": {
                      "sequential": [
                        [
                          0,
                          "#0d0887"
                        ],
                        [
                          0.1111111111111111,
                          "#46039f"
                        ],
                        [
                          0.2222222222222222,
                          "#7201a8"
                        ],
                        [
                          0.3333333333333333,
                          "#9c179e"
                        ],
                        [
                          0.4444444444444444,
                          "#bd3786"
                        ],
                        [
                          0.5555555555555556,
                          "#d8576b"
                        ],
                        [
                          0.6666666666666666,
                          "#ed7953"
                        ],
                        [
                          0.7777777777777778,
                          "#fb9f3a"
                        ],
                        [
                          0.8888888888888888,
                          "#fdca26"
                        ],
                        [
                          1,
                          "#f0f921"
                        ]
                      ],
                      "sequentialminus": [
                        [
                          0,
                          "#0d0887"
                        ],
                        [
                          0.1111111111111111,
                          "#46039f"
                        ],
                        [
                          0.2222222222222222,
                          "#7201a8"
                        ],
                        [
                          0.3333333333333333,
                          "#9c179e"
                        ],
                        [
                          0.4444444444444444,
                          "#bd3786"
                        ],
                        [
                          0.5555555555555556,
                          "#d8576b"
                        ],
                        [
                          0.6666666666666666,
                          "#ed7953"
                        ],
                        [
                          0.7777777777777778,
                          "#fb9f3a"
                        ],
                        [
                          0.8888888888888888,
                          "#fdca26"
                        ],
                        [
                          1,
                          "#f0f921"
                        ]
                      ],
                      "diverging": [
                        [
                          0,
                          "#8e0152"
                        ],
                        [
                          0.1,
                          "#c51b7d"
                        ],
                        [
                          0.2,
                          "#de77ae"
                        ],
                        [
                          0.3,
                          "#f1b6da"
                        ],
                        [
                          0.4,
                          "#fde0ef"
                        ],
                        [
                          0.5,
                          "#f7f7f7"
                        ],
                        [
                          0.6,
                          "#e6f5d0"
                        ],
                        [
                          0.7,
                          "#b8e186"
                        ],
                        [
                          0.8,
                          "#7fbc41"
                        ],
                        [
                          0.9,
                          "#4d9221"
                        ],
                        [
                          1,
                          "#276419"
                        ]
                      ]
                    },
                    "xaxis": {
                      "gridcolor": "white",
                      "linecolor": "white",
                      "ticks": "",
                      "title": {
                        "standoff": 15
                      },
                      "zerolinecolor": "white",
                      "automargin": true,
                      "zerolinewidth": 2
                    },
                    "yaxis": {
                      "gridcolor": "white",
                      "linecolor": "white",
                      "ticks": "",
                      "title": {
                        "standoff": 15
                      },
                      "zerolinecolor": "white",
                      "automargin": true,
                      "zerolinewidth": 2
                    },
                    "scene": {
                      "xaxis": {
                        "backgroundcolor": "#E5ECF6",
                        "gridcolor": "white",
                        "linecolor": "white",
                        "showbackground": true,
                        "ticks": "",
                        "zerolinecolor": "white",
                        "gridwidth": 2
                      },
                      "yaxis": {
                        "backgroundcolor": "#E5ECF6",
                        "gridcolor": "white",
                        "linecolor": "white",
                        "showbackground": true,
                        "ticks": "",
                        "zerolinecolor": "white",
                        "gridwidth": 2
                      },
                      "zaxis": {
                        "backgroundcolor": "#E5ECF6",
                        "gridcolor": "white",
                        "linecolor": "white",
                        "showbackground": true,
                        "ticks": "",
                        "zerolinecolor": "white",
                        "gridwidth": 2
                      }
                    },
                    "shapedefaults": {
                      "line": {
                        "color": "#2a3f5f"
                      }
                    },
                    "annotationdefaults": {
                      "arrowcolor": "#2a3f5f",
                      "arrowhead": 0,
                      "arrowwidth": 1
                    },
                    "geo": {
                      "bgcolor": "white",
                      "landcolor": "#E5ECF6",
                      "subunitcolor": "white",
                      "showland": true,
                      "showlakes": true,
                      "lakecolor": "white"
                    },
                    "title": {
                      "x": 0.05
                    },
                    "mapbox": {
                      "style": "light"
                    }
                  }
                }
              },
              "config": {
                "plotlyServerURL": "https://plot.ly"
              }
            },
            "text/html": [
              "<div>            <script src=\"https://cdnjs.cloudflare.com/ajax/libs/mathjax/2.7.5/MathJax.js?config=TeX-AMS-MML_SVG\"></script><script type=\"text/javascript\">if (window.MathJax && window.MathJax.Hub && window.MathJax.Hub.Config) {window.MathJax.Hub.Config({SVG: {font: \"STIX-Web\"}});}</script>                <script type=\"text/javascript\">window.PlotlyConfig = {MathJaxConfig: 'local'};</script>\n",
              "        <script charset=\"utf-8\" src=\"https://cdn.plot.ly/plotly-3.0.0.min.js\"></script>                <div id=\"1d48b93c-49da-425d-829c-33a8d3501bfa\" class=\"plotly-graph-div\" style=\"height:525px; width:100%;\"></div>            <script type=\"text/javascript\">                window.PLOTLYENV=window.PLOTLYENV || {};                                if (document.getElementById(\"1d48b93c-49da-425d-829c-33a8d3501bfa\")) {                    Plotly.newPlot(                        \"1d48b93c-49da-425d-829c-33a8d3501bfa\",                        [{\"z\":{\"dtype\":\"f8\",\"bdata\":\"XkkprQkawj8vQBdEMBDCP2qve6rneME\\u002fN2E4XuRawD\\u002foxfM5wYG9P3VV65QBcrk\\u002fWA05HkGotD8Ss\\u002fYJR5SuP0KT6I5Y\\u002f6I\\u002fbAhHZsaNiz+8rZHme7uFv0j+K8\\u002fPqqG\\u002fUP5znJuJrb\\u002fsb+bnKma0vwBPGTimnrm\\u002fMtA1G3pYvr+7NJxUmEHBv\\u002fqUtAXVCcO\\u002f50fdLPmBxL+LWkQJd6nFv1ujpp7ygca\\u002fBZjg4\\u002foOx7\\u002f\\u002f4E\\u002faulXHv1JQk6imXMe\\u002fRsX\\u002fdSgrx7\\u002fILdVEUMnGv8+kkXKJP8a\\u002fs6RP4leWxb9wLtcuHtbEv0xdtqHtBsS\\u002fKAWXGWAww78C3aiJe1nCv4r6H1KeiMG\\u002fX76FYHPDwL+5AnTO7A7Av\\u002fCOAiuH3r6\\u002fI\\u002fXDy\\u002fXPvb8Ryytwy\\u002fe8v9MLAZxaWry\\u002f0hT\\u002fA6\\u002f6u78dsuvvl9q7v9IU\\u002fwOv+ru\\u002f0wsBnFpavL8Ryytwy\\u002fe8vyP1w8v1z72\\u002f8I4CK4fevr+5AnTO7A7Av1++hWBzw8C\\u002fivofUp6Iwb8C3aiJe1nCvygFlxlgMMO\\u002fTF22oe0GxL9wLtcuHtbEv7OkT+JXlsW\\u002fz6SRcok\\u002fxr\\u002fILdVEUMnGv0bF\\u002f3UoK8e\\u002fUlCTqKZcx7\\u002f\\u002f4E\\u002faulXHvwWY4OP6Dse\\u002fW6OmnvKBxr+LWkQJd6nFv+dH3Sz5gcS\\u002f+pS0BdUJw7+7NJxUmEHBvzLQNRt6WL6\\u002fAE8ZOKaeub\\u002fsb+bnKma0v1D+c5ybia2\\u002fSP4rz8+qob+8rZHme7uFv2wIR2bGjYs\\u002fQpPojlj\\u002foj8Ss\\u002fYJR5SuP1gNOR5BqLQ\\u002fdVXrlAFyuT\\u002foxfM5wYG9PzdhOF7kWsA\\u002faq97qud4wT8vQBdEMBDCPy9AF0QwEMI\\u002fzDfMRBBzwT9g8e6dxUfAP243Mc35Mr0\\u002fJlrzRnDuuD92yrRhHuazP7fzu4l2haw\\u002fzKZqy6BfoD+AtqzCb6B9PzDhxmDYSZK\\u002fve+i6+jWpb9m\\u002ffPFAwqxv5mePEuFy7a\\u002ftgxxdXsSvL\\u002fYIMpwi2PAv0TChrDAa8K\\u002fnv9SQPUbxL8Wydq5LXHFv\\u002fOaQBYta8a\\u002f0H+zXjIMx7+IOWNup1jHv3sj0MrFVse\\u002fjyPgbjYOx78eN0cFsYfGvz2V+oKezMW\\u002fMNvxZsLmxL\\u002fXvQkm7d\\u002fDv+S9iIS5wcK\\u002fNfR93VWVwb\\u002f5LzekWWPAv5ulRplNZ76\\u002frP2Ag6wavL9ARGVQXO25v\\u002flWqr9A6re\\u002fFaW9EZ8atr8gsfl7MYa0v8OcWXNAM7O\\u002fDokVbb4msr9fSBoJY2Sxv6gbQAnD7rC\\u002fbOjh+mLHsL+oG0AJw+6wv19IGgljZLG\\u002fDokVbb4msr\\u002fDnFlzQDOzvyCx+XsxhrS\\u002fFaW9EZ8atr\\u002f5Vqq\\u002fQOq3v0BEZVBc7bm\\u002frP2Ag6wavL+bpUaZTWe+v\\u002fkvN6RZY8C\\u002fNfR93VWVwb\\u002fkvYiEucHCv9e9CSbt38O\\u002fMNvxZsLmxL89lfqCnszFvx43RwWxh8a\\u002fjyPgbjYOx797I9DKxVbHv4g5Y26nWMe\\u002f0H+zXjIMx7\\u002fzmkAWLWvGvxbJ2rktccW\\u002fnv9SQPUbxL9EwoawwGvCv9ggynCLY8C\\u002ftgxxdXsSvL+ZnjxLhcu2v2b988UDCrG\\u002fve+i6+jWpb8w4cZg2EmSv4C2rMJvoH0\\u002fzKZqy6BfoD+387uJdoWsP3bKtGEe5rM\\u002fJlrzRnDuuD9uNzHN+TK9P2Dx7p3FR8A\\u002fzDfMRBBzwT9qr3uq53jBP2Dx7p3FR8A\\u002fbeo+XlYYvT\\u002f\\u002fKt1Ol6u4P41ACBm6b7M\\u002fOdBGX9Ygqz+CUAVz5PKcP84CV\\u002f5epmQ\\u002f6AXvD58XmL9SnQN3pyypv+r5sElD4bK\\u002fIQuYbZnAuL8ZeqAb3hO+v+92K+9zYMG\\u002fK\\u002fZMNh1aw7+zUoCijvDEv0wt8Ci4IMa\\u002fxBFcfaPqxr968rXiKVHHv8yrRN6XWce\\u002fJtddnUQLx78jHy3FIm\\u002fGvxHs4QZQj8W\\u002fnoROPah2xL8oBZcZYDDDv+Ti0Imqx8G\\u002fv\\u002fz5HGtHwL+LVveB7XO9v\\u002fggibrGUbq\\u002fRa\\u002fJEMw5t7+xD\\u002fnffTu0v19IGgljZLG\\u002fQJ7iYByArb+z0Bt\\u002fZ7Cov4Tj6piYaaS\\u002f9foBBX64oL\\u002fv+31bP06bv7uNfZ82epa\\u002fyYWDZ\\u002fP\\u002fkr8+RbA67uaQv9P4ELN0M5C\\u002fPkWwOu7mkL\\u002fJhYNn8\\u002f+Sv7uNfZ82epa\\u002f7\\u002ft9Wz9Om7\\u002f1+gEFfrigv4Tj6piYaaS\\u002fs9Abf2ewqL9AnuJgHICtv19IGgljZLG\\u002fsQ\\u002f53307tL9Fr8kQzDm3v\\u002fggibrGUbq\\u002fi1b3ge1zvb+\\u002f\\u002fPkca0fAv+Ti0Imqx8G\\u002fKAWXGWAww7+ehE49qHbEvxHs4QZQj8W\\u002fIx8txSJvxr8m112dRAvHv8yrRN6XWce\\u002fevK14ilRx7\\u002fEEVx9o+rGv0wt8Ci4IMa\\u002fs1KAoo7wxL8r9kw2HVrDv+92K+9zYMG\\u002fGXqgG94Tvr8hC5htmcC4v+r5sElD4bK\\u002fUp0Dd6csqb\\u002foBe8PnxeYv84CV\\u002f5epmQ\\u002fglAFc+TynD850EZf1iCrP41ACBm6b7M\\u002f\\u002fyrdTperuD9t6j5eVhi9P2Dx7p3FR8A\\u002fN2E4XuRawD9uNzHN+TK9P\\u002f8q3U6Xq7g\\u002fkKy7wvJHsz8EFBAF8GyqP2KGgzKZppo\\u002fWMk9QOQARb+ViFybD0Ccv0EnFYOXq6u\\u002ftBx4xVxMtL\\u002fF51onv0m6v6J4yfAfqr+\\u002fgwqHA08owr91vCY54RPEv9YwiBjTkMW\\u002frlZhuuWbxr9DpPOMWTXHv82vc7icYMe\\u002fRfRsduMjx78eN0cFsYfGv7OkT+JXlsW\\u002fSJzroXdbxL81fOYjfuPCv5KsvhAxO8G\\u002f8I4CK4fevr\\u002fGJfqO9he7v0WvyRDMObe\\u002fXj5ZekNZs79p2onp1hKvv8IQsuXztae\\u002f9foBBX64oL9XfPpvx2SUv9Hiidqa3IC\\u002fFJnyV+mbYj+A9wjSdpGHPyrkTAia35M\\u002fjwEuvTyLmj+l9eYZuMKfP0OXgWQTwKE\\u002fsbqOJfPfoj\\u002fBjAhcAkCjP7G6jiXz36I\\u002fQ5eBZBPAoT+l9eYZuMKfP48BLr08i5o\\u002fKuRMCJrfkz+A9wjSdpGHPxSZ8lfpm2I\\u002f0eKJ2prcgL9XfPpvx2SUv\\u002fX6AQV+uKC\\u002fwhCy5fO1p79p2onp1hKvv14+WXpDWbO\\u002fRa\\u002fJEMw5t7\\u002fGJfqO9he7v\\u002fCOAiuH3r6\\u002fkqy+EDE7wb81fOYjfuPCv0ic66F3W8S\\u002fs6RP4leWxb8eN0cFsYfGv0X0bHbjI8e\\u002fza9zuJxgx79DpPOMWTXHv65WYbrlm8a\\u002f1jCIGNOQxb91vCY54RPEv4MKhwNPKMK\\u002fonjJ8B+qv7\\u002fF51onv0m6v7QceMVcTLS\\u002fQScVg5erq7+ViFybD0Ccv1jJPUDkAEW\\u002fYoaDMpmmmj8EFBAF8GyqP5Csu8LyR7M\\u002f\\u002fyrdTperuD9uNzHN+TK9P+jF8znBgb0\\u002fJlrzRnDuuD+NQAgZum+zPwQUEAXwbKo\\u002fgn5vILbhmT80nrRSUD9iv\\u002f5PXlCuv56\\u002fy9zaCo5Urb\\u002fCns74j021v1PUa8GRa7u\\u002f3bmJvlluwL91WNoxeMDCvz9EbZk4oMS\\u002fkoIq5eMFxr9UhX8o6e3Gv4g5Y26nWMe\\u002f3rQEvhVKx7\\u002fILdVEUMnGvyfNKDAS4MW\\u002fTeFe6COaxL+Qq5AhxQTDvz2HTZ8ZLsG\\u002fKruLVT1Jvr9ARGVQXO25vwGrCwsmZLW\\u002fbOjh+mLHsL\\u002f4XvHDEV2ov2l7lLl\\u002fuZ6\\u002fdatcJ4TGir9BlupBNmVoP4V8TaqwZZI\\u002fFIkcpf1AoD\\u002fjccL5oKKmPzn73iLJTaw\\u002f\\u002fWJvFfidsD\\u002fZSQG\\u002fo7SyP8xo6DoAarQ\\u002fhG2kItG9tT8FLZ9pOrC2P5YsVEyDQbc\\u002f1g2ZE+lxtz+WLFRMg0G3PwUtn2k6sLY\\u002fhG2kItG9tT\\u002fMaOg6AGq0P9lJAb+jtLI\\u002f\\u002fWJvFfidsD85+94iyU2sP+NxwvmgoqY\\u002fFIkcpf1AoD+FfE2qsGWSP0GW6kE2ZWg\\u002fdatcJ4TGir9pe5S5f7mev\\u002fhe8cMRXai\\u002fbOjh+mLHsL8BqwsLJmS1v0BEZVBc7bm\\u002fKruLVT1Jvr89h02fGS7Bv5CrkCHFBMO\\u002fTeFe6COaxL8nzSgwEuDFv8gt1URQyca\\u002f3rQEvhVKx7+IOWNup1jHv1SFfyjp7ca\\u002fkoIq5eMFxr8\\u002fRG2ZOKDEv3VY2jF4wMK\\u002f3bmJvlluwL9T1GvBkWu7v8KezviPTbW\\u002fy9zaCo5Urb\\u002f+T15Qrr+evzSetFJQP2K\\u002fgn5vILbhmT8EFBAF8GyqP41ACBm6b7M\\u002fJlrzRnDuuD91VeuUAXK5P3bKtGEe5rM\\u002fOdBGX9Ygqz9ihoMymaaaPzSetFJQP2K\\u002fIipV6gOVn7\\u002fh4MAVqyiuvztcrkzt5rW\\u002fTwbpNTEqvL8yXTneJtnAv18IC7DPLcO\\u002fE+kVBbsFxb+IXBRKN1jGvxkurmUzIce\\u002fkA\\u002fJWQphx7\\u002fxiwy2JhzHv8qB22iFWsa\\u002f8OE+WSAnxb\\u002fPjhCSSY\\u002fDv8yzOqv\\u002focG\\u002f8I4CK4fevr8Ukg0T7g66vz3wXmGT9bS\\u002fvRhZFedir78ihjvcrb6kv1d8+m\\u002fHZJS\\u002fuZmUZ1iSJD8q5EwImt+TP8GMCFwCQKM\\u002fwDg5jtXsqz\\u002fuXcOuMfKxP84pyLRMjbU\\u002fh34gcTPEuD8Lt9WCapW7PwbIlngKAb4\\u002fgq3AwSMEwD+c92Gmf9bAPwl\\u002f2raoeME\\u002fXLvbF6PrwT8u17Q0QzDCP3XDC0gTR8I\\u002fLte0NEMwwj9cu9sXo+vBPwl\\u002f2raoeME\\u002fnPdhpn\\u002fWwD+CrcDBIwTAPwbIlngKAb4\\u002fC7fVgmqVuz+HfiBxM8S4P84pyLRMjbU\\u002f7l3DrjHysT\\u002fAODmO1eyrP8GMCFwCQKM\\u002fKuRMCJrfkz+5mZRnWJIkP1d8+m\\u002fHZJS\\u002fIoY73K2+pL+9GFkV52Kvvz3wXmGT9bS\\u002fFJINE+4Our\\u002fwjgIrh96+v8yzOqv\\u002focG\\u002fz44QkkmPw7\\u002fw4T5ZICfFv8qB22iFWsa\\u002f8YsMtiYcx7+QD8lZCmHHvxkurmUzIce\\u002fiFwUSjdYxr8T6RUFuwXFv18IC7DPLcO\\u002fMl053ibZwL9PBuk1MSq8vztcrkzt5rW\\u002f4eDAFasorr8iKlXqA5WfvzSetFJQP2K\\u002fYoaDMpmmmj850EZf1iCrP3bKtGEe5rM\\u002fWA05HkGotD+387uJdoWsP4JQBXPk8pw\\u002fWMk9QOQARb\\u002f+T15Qrr+ev+HgwBWrKK6\\u002flR4EQeEZtr+67RDqr4i8vxvNsnYbGMG\\u002f2WJ6QlV0w7+Zs8mZ+knFv7GNP3wcj8a\\u002fm3Qafu4+x7\\u002fMq0Tel1nHv7LVox7V48a\\u002f7hFwJHLmxb9dGjMepm3EvyM\\u002fxxNbiMK\\u002fv\\u002fz5HGtHwL9hBdKfuXm7vyFqDTRP9rW\\u002f53KX+A4psL+E4+qYmGmkvz5FsDru5pC\\u002fOCf+Lfi0ej+Fzv6dooWdP\\u002fhruVOwp6k\\u002f7l3DrjHysT8FLZ9pOrC2PyYbZuOlBbs\\u002fI+7bdrHtvj\\u002fzuFOIUzPBP39q8dinuMI\\u002f6WoG3y4IxD\\u002fB624t6yPFPxJyJRpADsY\\u002fTztqda7Jxj8UroOymFjHP0zciSAQvcc\\u002fhEyDYqz4xz8Lr9L4bQzIP4RMg2Ks+Mc\\u002fTNyJIBC9xz8UroOymFjHP087anWuycY\\u002fEnIlGkAOxj\\u002fB624t6yPFP+lqBt8uCMQ\\u002ff2rx2Ke4wj\\u002fzuFOIUzPBPyPu23ax7b4\\u002fJhtm46UFuz8FLZ9pOrC2P+5dw64x8rE\\u002f+Gu5U7CnqT+Fzv6dooWdPzgn\\u002fi34tHo\\u002fPkWwOu7mkL+E4+qYmGmkv+dyl\\u002fgOKbC\\u002fIWoNNE\\u002f2tb9hBdKfuXm7v7\\u002f8+RxrR8C\\u002fIz\\u002fHE1uIwr9dGjMepm3Ev+4RcCRy5sW\\u002fstWjHtXjxr\\u002fMq0Tel1nHv5t0Gn7uPse\\u002fsY0\\u002ffByPxr+Zs8mZ+knFv9liekJVdMO\\u002fG82ydhsYwb+67RDqr4i8v5UeBEHhGba\\u002f4eDAFasorr\\u002f+T15Qrr+ev1jJPUDkAEW\\u002fglAFc+TynD+387uJdoWsPxKz9glHlK4\\u002fzKZqy6BfoD\\u002fOAlf+XqZkP5WIXJsPQJy\\u002fy9zaCo5Urb87XK5M7ea1v7rtEOqviLy\\u002fqufUY+Yswb8+SULf3JbDvxbJ2rktccW\\u002fwSQAzVywxr9tPYGAmE7Hv+ZlFQuVS8e\\u002fd8XT+i+sxr+L7d1R5HnFv++5wyoZwsO\\u002fNfR93VWVwb\\u002fb\\u002fhz+zQy+vy7PVbT+Uri\\u002fDokVbb4msr+Yq70ULGKnv1d8+m\\u002fHZJS\\u002fUIqZWqPMdz+l9eYZuMKfPzn73iLJTaw\\u002fnKjPYtcItD8AEgBzEYW5P+4ejmUnj74\\u002fMsCglraPwT\\u002fDEog2QZnDPyLvhsxfZMU\\u002f3Fjx88byxj9A1+3VWUfIPxpH3ePOZck\\u002f9hoL5FZSyj\\u002fktBlsSRHLP2aNNzjZpss\\u002fROvoK9IWzD\\u002fAwHY7YmTMPy9LZArukcw\\u002fkosTtvGgzD8vS2QK7pHMP8DAdjtiZMw\\u002fROvoK9IWzD9mjTc42abLP+S0GWxJEcs\\u002f9hoL5FZSyj8aR93jzmXJP0DX7dVZR8g\\u002f3Fjx88byxj8i74bMX2TFP8MSiDZBmcM\\u002fMsCglraPwT\\u002fuHo5lJ4++PwASAHMRhbk\\u002fnKjPYtcItD85+94iyU2sP6X15hm4wp8\\u002fUIqZWqPMdz9XfPpvx2SUv5irvRQsYqe\\u002fDokVbb4msr8uz1W0\\u002flK4v9v+HP7NDL6\\u002fNfR93VWVwb\\u002fvucMqGcLDv4vt3VHkecW\\u002fd8XT+i+sxr\\u002fmZRULlUvHv209gYCYTse\\u002fwSQAzVywxr8Wydq5LXHFvz5JQt\\u002fclsO\\u002fqufUY+Yswb+67RDqr4i8vztcrkzt5rW\\u002fy9zaCo5Urb+ViFybD0Ccv84CV\\u002f5epmQ\\u002fzKZqy6BfoD9Ck+iOWP+iP4C2rMJvoH0\\u002f6AXvD58XmL9BJxWDl6urv8KezviPTbW\\u002fTwbpNTEqvL8bzbJ2GxjBvz5JQt\\u002fclsO\\u002fLm8W9\\u002fJ9xb9CO77J97\\u002fGv\\u002f\\u002fgT9q6Vce\\u002fHBK+ZSw+x79J8YrbB37Gv3m2PthFH8W\\u002fKAWXGWAww79fvoVgc8PAvx2y6++X2ru\\u002f6d1fRtOItb9AnuJgHICtv2l7lLl\\u002fuZ6\\u002fAotiLkL3X7+PAS69PIuaP5blLOcBK6s\\u002fSIQzl2w5tD8cm1EPoHW6Pw3bshecG8A\\u002ff2rx2Ke4wj9b+wFoWA7FP0\\u002fp\\u002fwOqG8c\\u002f5EyH3tvhyD\\u002fvgNNQDmTKP2aNNzjZpss\\u002f9J\\u002fMvd+vzD\\u002floMEZZoXNP2lENA\\u002ftLc4\\u002fKAvE\\u002ftWvzj8uIjqXERHPP9WFl2zaVs8\\u002flEtCInyFzz\\u002fcWpNjJ6DPP3vPKKDSqM8\\u002f3FqTYyegzz+US0IifIXPP9WFl2zaVs8\\u002fLiI6lxERzz8oC8T+1a\\u002fOP2lENA\\u002ftLc4\\u002f5aDBGWaFzT\\u002f0n8y936\\u002fMP2aNNzjZpss\\u002f74DTUA5kyj\\u002fkTIfe2+HIP0\\u002fp\\u002fwOqG8c\\u002fW\\u002fsBaFgOxT9\\u002favHYp7jCPw3bshecG8A\\u002fHJtRD6B1uj9IhDOXbDm0P5blLOcBK6s\\u002fjwEuvTyLmj8Ci2IuQvdfv2l7lLl\\u002fuZ6\\u002fQJ7iYByArb\\u002fp3V9G04i1vx2y6++X2ru\\u002fX76FYHPDwL8oBZcZYDDDv3m2PthFH8W\\u002fSfGK2wd+xr8cEr5lLD7Hv\\u002f\\u002fgT9q6Vce\\u002fQju+yfe\\u002fxr8ubxb38n3Fvz5JQt\\u002fclsO\\u002fG82ydhsYwb9PBuk1MSq8v8KezviPTbW\\u002fQScVg5erq7\\u002foBe8PnxeYv4C2rMJvoH0\\u002fbAhHZsaNiz8w4cZg2EmSv1KdA3enLKm\\u002ftBx4xVxMtL9T1GvBkWu7vzJdOd4m2cC\\u002f2WJ6QlV0w78Wydq5LXHFv0I7vsn3v8a\\u002fTghFJbpXx7+8A7DwPDbHvxQMXHrBX8a\\u002fVcfLVHfexL\\u002fkvYiEucHCv8otM4EgHcC\\u002fFJINE+4Our\\u002fDnFlzQDOzv8IQsuXztae\\u002fPkWwOu7mkL9n9C9QPPeLP97pqicqQqY\\u002fq85\\u002fageEsj8AEgBzEYW5P4KtwMEjBMA\\u002fc+aPcWf8wj\\u002fGFSLdbKTFP4RMg2Ks+Mc\\u002fFcjxVLf4yT9mjTc42abLPxp4vZunB80\\u002fDYw\\u002fhYchzj9ZiITZLvzOP9xak2MnoM8\\u002fNbumDCwL0D+K8Y4QzDPQPwO3bwAnTtA\\u002fn1JxLA5e0D8AGL9YzmbQPwHUXh0Ua9A\\u002fFCWi+dZs0D9W8MS+Sm3QPxQlovnWbNA\\u002fAdReHRRr0D8AGL9YzmbQP59ScSwOXtA\\u002fA7dvACdO0D+K8Y4QzDPQPzW7pgwsC9A\\u002f3FqTYyegzz9ZiITZLvzOPw2MP4WHIc4\\u002fGni9m6cHzT9mjTc42abLPxXI8VS3+Mk\\u002fhEyDYqz4xz\\u002fGFSLdbKTFP3Pmj3Fn\\u002fMI\\u002fgq3AwSMEwD8AEgBzEYW5P6vOf2oHhLI\\u002f3umqJypCpj9n9C9QPPeLPz5FsDru5pC\\u002fwhCy5fO1p7\\u002fDnFlzQDOzvxSSDRPuDrq\\u002fyi0zgSAdwL\\u002fkvYiEucHCv1XHy1R33sS\\u002fFAxcesFfxr+8A7DwPDbHv04IRSW6V8e\\u002fQju+yfe\\u002fxr8Wydq5LXHFv9liekJVdMO\\u002fMl053ibZwL9T1GvBkWu7v7QceMVcTLS\\u002fUp0Dd6csqb8w4cZg2EmSv7ytkeZ7u4W\\u002fve+i6+jWpb\\u002fq+bBJQ+Gyv8XnWie\\u002fSbq\\u002f3bmJvlluwL9fCAuwzy3Dv5mzyZn6ScW\\u002fwSQAzVywxr\\u002f\\u002f4E\\u002faulXHv7wDsPA8Nse\\u002fL119gjtVxr+RHKZDvrzEv4DphQm4fMK\\u002fX7BPlxlUv782+QjB4bq4v19IGgljZLG\\u002fmSVOEtsTo78Xx+SNwlF2v2klrLalSZs\\u002fg+2LBtLRrT8FLZ9pOrC2PwbIlngKAb4\\u002freB4Odtdwj8i74bMX2TFPwuv0vhtDMg\\u002f9hoL5FZSyj+PbP5sFzbMP07kEUbvus0\\u002fepc72+Hmzj827ttYKcLPP644EttRK9A\\u002fmepIZKBX0D\\u002fc2uKcu2vQPxP\\u002fQW5ibdA\\u002fkvo4uB5i0D+NAVbCFE\\u002fQPwiZ9vjaONA\\u002fdEd0tVkj0D8pgGR5shHQPwD2h9YtBtA\\u002fsyntNi8C0D8A9ofWLQbQPymAZHmyEdA\\u002fdEd0tVkj0D8Imfb42jjQP40BVsIUT9A\\u002fkvo4uB5i0D8T\\u002f0FuYm3QP9za4py7a9A\\u002fmepIZKBX0D+uOBLbUSvQPzbu21gpws8\\u002fepc72+Hmzj9O5BFG77rNP49s\\u002fmwXNsw\\u002f9hoL5FZSyj8Lr9L4bQzIPyLvhsxfZMU\\u002freB4Odtdwj8GyJZ4CgG+PwUtn2k6sLY\\u002fg+2LBtLRrT9pJay2pUmbPxfH5I3CUXa\\u002fmSVOEtsTo79fSBoJY2Sxvzb5CMHhuri\\u002fX7BPlxlUv7+A6YUJuHzCv5EcpkO+vMS\\u002fL119gjtVxr+8A7DwPDbHv\\u002f\\u002fgT9q6Vce\\u002fwSQAzVywxr+Zs8mZ+knFv18IC7DPLcO\\u002f3bmJvlluwL\\u002fF51onv0m6v+r5sElD4bK\\u002fve+i6+jWpb9I\\u002fivPz6qhv2b988UDCrG\\u002fIQuYbZnAuL+ieMnwH6q\\u002fv3VY2jF4wMK\\u002fE+kVBbsFxb+xjT98HI\\u002fGv209gYCYTse\\u002fHBK+ZSw+x78UDFx6wV\\u002fGv5EcpkO+vMS\\u002fGBKeQkhlwr\\u002fwjgIrh96+v\\u002flWqr9A6re\\u002f53KX+A4psL\\u002fz4IF8xGefv0GW6kE2ZWg\\u002fsbqOJfPfoj\\u002fuXcOuMfKxP2p3nCJ6Fbo\\u002fnPdhpn\\u002fWwD+FKXhpRkrEPxSug7KYWMc\\u002fFcjxVLf4yT\\u002fDOF4zfybMP8Udp0cd4s0\\u002fvcYYqJwvzz81u6YMLAvQP7\\u002faWossUNA\\u002fFCWi+dZs0D+02DHu32fQP4Z9vR9YSNA\\u002f4wUTvGEV0D88Jm7o3KvPP5lPvtIOIc8\\u002fIlqpoj6Wzj9LAKvk3BXOP\\u002fbNuhWvqM0\\u002fS9k6wahVzT8DQp8c0SHNP+fBu3AyEM0\\u002fA0KfHNEhzT9L2TrBqFXNP\\u002fbNuhWvqM0\\u002fSwCr5NwVzj8iWqmiPpbOP5lPvtIOIc8\\u002fPCZu6Nyrzz\\u002fjBRO8YRXQP4Z9vR9YSNA\\u002ftNgx7t9n0D8UJaL51mzQP7\\u002faWossUNA\\u002fNbumDCwL0D+9xhionC\\u002fPP8Udp0cd4s0\\u002fwzheM38mzD8VyPFUt\\u002fjJPxSug7KYWMc\\u002fhSl4aUZKxD+c92Gmf9bAP2p3nCJ6Fbo\\u002f7l3DrjHysT+xuo4l89+iP0GW6kE2ZWg\\u002f8+CBfMRnn7\\u002fncpf4Dimwv\\u002flWqr9A6re\\u002f8I4CK4fevr8YEp5CSGXCv5EcpkO+vMS\\u002fFAxcesFfxr8cEr5lLD7Hv209gYCYTse\\u002fsY0\\u002ffByPxr8T6RUFuwXFv3VY2jF4wMK\\u002fonjJ8B+qv78hC5htmcC4v2b988UDCrG\\u002fUP5znJuJrb+ZnjxLhcu2vxl6oBveE76\\u002fgwqHA08owr8\\u002fRG2ZOKDEv4hcFEo3WMa\\u002fm3Qafu4+x7\\u002fmZRULlUvHv0nxitsHfsa\\u002fVcfLVHfexL+A6YUJuHzCv\\u002fCOAiuH3r6\\u002fvEFF1fOjt79p2onp1hKvv+\\u002f7fVs\\u002fTpu\\u002fKUo7NR25gT\\u002fjccL5oKKmP0iEM5dsObQ\\u002f3pAzSx60vD91wwtIE0fCP\\u002fEnZ2zlzsU\\u002f5EyH3tvhyD\\u002fFW3SbrnXLP+WgwRlmhc0\\u002fLiI6lxERzz\\u002foWSwPpw7QP6s4IIdUWdA\\u002f4QUg33Ru0D+V9V\\u002fuJlXQP+MFE7xhFdA\\u002fk69rUSpvzz\\u002fjUJpPpIjOPwauJtP6h80\\u002fBndAbRx9zD+9PpJOtHbLP\\u002f3\\u002fJcTagco\\u002fnY+Lc9ypyT9RwcvTFPjIPyq+wK\\u002fXc8g\\u002fWAyRVWUiyD\\u002fAnXxw5QbIP1gMkVVlIsg\\u002fKr7Ar9dzyD9RwcvTFPjIP52Pi3Pcqck\\u002f\\u002ff8lxNqByj+9PpJOtHbLPwZ3QG0cfcw\\u002fBq4m0\\u002fqHzT\\u002fjUJpPpIjOP5Ova1Eqb88\\u002f4wUTvGEV0D+V9V\\u002fuJlXQP+EFIN90btA\\u002fqzggh1RZ0D\\u002foWSwPpw7QPy4iOpcREc8\\u002f5aDBGWaFzT\\u002fFW3SbrnXLP+RMh97b4cg\\u002f8SdnbOXOxT91wwtIE0fCP96QM0setLw\\u002fSIQzl2w5tD\\u002fjccL5oKKmPylKOzUduYE\\u002f7\\u002ft9Wz9Om79p2onp1hKvv7xBRdXzo7e\\u002f8I4CK4fevr+A6YUJuHzCv1XHy1R33sS\\u002fSfGK2wd+xr\\u002fmZRULlUvHv5t0Gn7uPse\\u002fiFwUSjdYxr8\\u002fRG2ZOKDEv4MKhwNPKMK\\u002fGXqgG94Tvr+ZnjxLhcu2v+xv5ucqZrS\\u002ftgxxdXsSvL\\u002fvdivvc2DBv3W8JjnhE8S\\u002fkoIq5eMFxr8ZLq5lMyHHv8yrRN6XWce\\u002fd8XT+i+sxr95tj7YRR\\u002fFv+S9iIS5wcK\\u002fX7BPlxlUv7\\u002f5Vqq\\u002fQOq3v2naienWEq+\\u002fSl0Gg1numb+A9wjSdpGHPyJohcU25qg\\u002fhG2kItG9tT\\u002fuHo5lJ4++P5dBkK8\\u002fVsM\\u002f3Fjx88byxj\\u002fwOsc5xwrKPy9LZArukcw\\u002fKCVW5fqBzj\\u002f6Vd5sfdrPP7\\u002faWossUNA\\u002fbU8eGY1u0D+NAVbCFE\\u002fQP21J+z\\u002fs888\\u002fq9lPud3wzj\\u002f2zboVr6jNP\\u002fpjF0p3L8w\\u002f2wEfcfuYyj9RwcvTFPjIPwP8SEE3Xsc\\u002f2G9vsRfbxT9ltBLXcHzEP944c2bhTcM\\u002fArLihd5Ywj+wBss0tKTBP\\u002fTKY3SNNsE\\u002fwSTWnH4RwT\\u002f0ymN0jTbBP7AGyzS0pME\\u002fArLihd5Ywj\\u002feOHNm4U3DP2W0EtdwfMQ\\u002f2G9vsRfbxT8D\\u002fEhBN17HP1HBy9MU+Mg\\u002f2wEfcfuYyj\\u002f6YxdKdy\\u002fMP\\u002fbNuhWvqM0\\u002fq9lPud3wzj9tSfs\\u002f7PPPP40BVsIUT9A\\u002fbU8eGY1u0D+\\u002f2lqLLFDQP\\u002fpV3mx92s8\\u002fKCVW5fqBzj8vS2QK7pHMP\\u002fA6xznHCso\\u002f3Fjx88byxj+XQZCvP1bDP+4ejmUnj74\\u002fhG2kItG9tT8iaIXFNuaoP4D3CNJ2kYc\\u002fSl0Gg1numb9p2onp1hKvv\\u002flWqr9A6re\\u002fX7BPlxlUv7\\u002fkvYiEucHCv3m2PthFH8W\\u002fd8XT+i+sxr\\u002fMq0Tel1nHvxkurmUzIce\\u002fkoIq5eMFxr91vCY54RPEv+92K+9zYMG\\u002ftgxxdXsSvL8ATxk4pp65v9ggynCLY8C\\u002fK\\u002fZMNh1aw7\\u002fWMIgY05DFv1SFfyjp7ca\\u002fkA\\u002fJWQphx7+y1aMe1ePGv4vt3VHkecW\\u002fKAWXGWAww7\\u002fKLTOBIB3Avzb5CMHhuri\\u002f53KX+A4psL\\u002fv+31bP06bv4D3CNJ2kYc\\u002f+Gu5U7CnqT+SW590xX+2PwWYNOdCqr8\\u002f6WoG3y4IxD9M3IkgEL3HP3JMHHQU3so\\u002fV\\u002fbQBEpczT+9xhionC\\u002fPP644EttRK9A\\u002fAdReHRRr0D97ZoD3N1zQPwD2h9YtBtA\\u002fRH35RGnkzj9L2TrBqFXNP70+kk60dss\\u002fR6hlO7heyT\\u002fLnrAJliTHP\\u002f1SgZAq3sQ\\u002fxMZ+47ufwj+67ShmkHvAP7ZHRqRaA70\\u002fe4NghXB\\u002fuT+9Wfdx6oG2PxqK5kuyHLQ\\u002fXMAr1FBdsj8e4TDaMU2xP3SkZsXg8bA\\u002fHuEw2jFNsT9cwCvUUF2yPxqK5kuyHLQ\\u002fvVn3ceqBtj97g2CFcH+5P7ZHRqRaA70\\u002fuu0oZpB7wD\\u002fExn7ju5\\u002fCP\\u002f1SgZAq3sQ\\u002fy56wCZYkxz9HqGU7uF7JP70+kk60dss\\u002fS9k6wahVzT9EfflEaeTOPwD2h9YtBtA\\u002fe2aA9zdc0D8B1F4dFGvQP644EttRK9A\\u002fvcYYqJwvzz9X9tAESlzNP3JMHHQU3so\\u002fTNyJIBC9xz\\u002fpagbfLgjEPwWYNOdCqr8\\u002fklufdMV\\u002ftj\\u002f4a7lTsKepP4D3CNJ2kYc\\u002f7\\u002ft9Wz9Om7\\u002fncpf4Dimwvzb5CMHhuri\\u002fyi0zgSAdwL8oBZcZYDDDv4vt3VHkecW\\u002fstWjHtXjxr+QD8lZCmHHv1SFfyjp7ca\\u002f1jCIGNOQxb8r9kw2HVrDv9ggynCLY8C\\u002fMtA1G3pYvr9EwoawwGvCv7NSgKKO8MS\\u002frlZhuuWbxr+IOWNup1jHv\\u002fGLDLYmHMe\\u002f7hFwJHLmxb\\u002fvucMqGcLDv1++hWBzw8C\\u002fFJINE+4Our9fSBoJY2Sxv\\u002fPggXzEZ5+\\u002fKUo7NR25gT8iaIXFNuaoP5Jbn3TFf7Y\\u002fgq3AwSMEwD9DkxbaOWDEP9C3MszEM8g\\u002f6w6HnSNlyz\\u002fFHadHHeLNP9xak2MnoM8\\u002fA7dvACdO0D8T\\u002f0FuYm3QP0E05jIXM9A\\u002f5\\u002fXHQKhOzz\\u002f2zboVr6jNP+xbV2jsi8s\\u002fWM8z6AASyT+qLp9BXFXGPy8dEBAxcMM\\u002fuu0oZpB7wD+X20FUaR27PyxJ6Bz\\u002ffLU\\u002fXtNw\\u002fFU6sD8ONC+\\u002fpOimP5fu365nEZ0\\u002fF4P5jRD1jT93A6qX4VRuP9RG6460RHG\\u002fHGShB6R0gr+AA\\u002fJ\\u002fjL6FvxxkoQekdIK\\u002f1EbrjrREcb93A6qX4VRuPxeD+Y0Q9Y0\\u002fl+7frmcRnT8ONC+\\u002fpOimP17TcPxVOrA\\u002fLEnoHP98tT+X20FUaR27P7rtKGaQe8A\\u002fLx0QEDFwwz+qLp9BXFXGP1jPM+gAEsk\\u002f7FtXaOyLyz\\u002f2zboVr6jNP+f1x0CoTs8\\u002fQTTmMhcz0D8T\\u002f0FuYm3QPwO3bwAnTtA\\u002f3FqTYyegzz\\u002fFHadHHeLNP+sOh50jZcs\\u002f0LcyzMQzyD9DkxbaOWDEP4KtwMEjBMA\\u002fklufdMV\\u002ftj8iaIXFNuaoPylKOzUduYE\\u002f8+CBfMRnn79fSBoJY2SxvxSSDRPuDrq\\u002fX76FYHPDwL\\u002fvucMqGcLDv+4RcCRy5sW\\u002f8YsMtiYcx7+IOWNup1jHv65WYbrlm8a\\u002fs1KAoo7wxL9EwoawwGvCv7s0nFSYQcG\\u002fnv9SQPUbxL9MLfAouCDGv0Ok84xZNce\\u002f3rQEvhVKx7\\u002fKgdtohVrGv10aMx6mbcS\\u002fNfR93VWVwb8dsuvvl9q7v8OcWXNAM7O\\u002fmSVOEtsTo79BlupBNmVoP+NxwvmgoqY\\u002fhG2kItG9tT8FmDTnQqq\\u002fP0OTFto5YMQ\\u002fsIDB0t9ayD9mjTc42abLP2lENA\\u002ftLc4\\u002fqevmfl\\u002fizz9d1ldOgF\\u002fQP39ZGyBqY9A\\u002fsyntNi8C0D\\u002fjUJpPpIjOPwfMF\\u002fX0acw\\u002fqSQYA4\\u002fCyT+5qTQJOa\\u002fGP944c2bhTcM\\u002fFkv0LLF4vz8rKNM+ay64P3SkZsXg8bA\\u002fLJS\\u002fT+Tkoz8RBLgN9siKP4AD8n+MvoW\\u002f0U9YZGxJoL+NWrX0JLCpv3u8SR\\u002fgwbC\\u002f5pxyYbPWs78iMQe51Q62v5bdNGdyZbe\\u002fq4PruOzXt7+W3TRncmW3vyIxB7nVDra\\u002f5pxyYbPWs797vEkf4MGwv41atfQksKm\\u002f0U9YZGxJoL+AA\\u002fJ\\u002fjL6FvxEEuA32yIo\\u002fLJS\\u002fT+Tkoz90pGbF4PGwPyso0z5rLrg\\u002fFkv0LLF4vz\\u002feOHNm4U3DP7mpNAk5r8Y\\u002fqSQYA4\\u002fCyT8HzBf19GnMP+NQmk+kiM4\\u002fsyntNi8C0D9\\u002fWRsgamPQP13WV06AX9A\\u002fqevmfl\\u002fizz9pRDQP7S3OP2aNNzjZpss\\u002fsIDB0t9ayD9DkxbaOWDEPwWYNOdCqr8\\u002fhG2kItG9tT\\u002fjccL5oKKmP0GW6kE2ZWg\\u002fmSVOEtsTo7\\u002fDnFlzQDOzvx2y6++X2ru\\u002fNfR93VWVwb9dGjMepm3Ev8qB22iFWsa\\u002f3rQEvhVKx79DpPOMWTXHv0wt8Ci4IMa\\u002fnv9SQPUbxL\\u002f6lLQF1QnDvxbJ2rktccW\\u002fxBFcfaPqxr\\u002fNr3O4nGDHv8gt1URQyca\\u002f8OE+WSAnxb8jP8cTW4jCv9v+HP7NDL6\\u002f6d1fRtOItb\\u002fCELLl87WnvxfH5I3CUXa\\u002fsbqOJfPfoj9IhDOXbDm0P+4ejmUnj74\\u002f6WoG3y4IxD\\u002fQtzLMxDPIP2aNNzjZpss\\u002fmhhE\\u002fW1Gzj+3zzSiYQDQPwAYv1jOZtA\\u002feqvqTQdX0D88Jm7o3KvPP13Sv8p62M0\\u002fy+hEQb9Lyz9YDJFVZSLIP2W0EtdwfMQ\\u002fuu0oZpB7wD\\u002fGhc18KIO4P6iq\\u002fZc5vK8\\u002fl+7frmcRnT\\u002fURuuOtERxv4dHX5dX+6G\\u002fxykr8tlRsL+q0iy0GvO2vyUu+gJfy7y\\u002fY3jLt6vlwL9Vx8QOofTCv1MHUB7Lj8S\\u002fB84Nati1xb\\u002f2GSBIUmbGv7wT49gkoca\\u002f9hkgSFJmxr8Hzg1q2LXFv1MHUB7Lj8S\\u002fVcfEDqH0wr9jeMu3q+XAvyUu+gJfy7y\\u002fqtIstBrztr\\u002fHKSvy2VGwv4dHX5dX+6G\\u002f1EbrjrREcb+X7t+uZxGdP6iq\\u002fZc5vK8\\u002fxoXNfCiDuD+67ShmkHvAP2W0EtdwfMQ\\u002fWAyRVWUiyD\\u002fL6ERBv0vLP13Sv8p62M0\\u002fPCZu6Nyrzz96q+pNB1fQPwAYv1jOZtA\\u002ft880omEA0D+aGET9bUbOP2aNNzjZpss\\u002f0LcyzMQzyD\\u002fpagbfLgjEP+4ejmUnj74\\u002fSIQzl2w5tD+xuo4l89+iPxfH5I3CUXa\\u002fwhCy5fO1p7\\u002fp3V9G04i1v9v+HP7NDL6\\u002fIz\\u002fHE1uIwr\\u002fw4T5ZICfFv8gt1URQyca\\u002fza9zuJxgx7\\u002fEEVx9o+rGvxbJ2rktccW\\u002f50fdLPmBxL\\u002fzmkAWLWvGv3ryteIpUce\\u002fRfRsduMjx78nzSgwEuDFv8+OEJJJj8O\\u002fv\\u002fz5HGtHwL8uz1W0\\u002flK4v0Ce4mAcgK2\\u002fPkWwOu7mkL9pJay2pUmbP+5dw64x8rE\\u002f3pAzSx60vD+XQZCvP1bDP0zciSAQvcc\\u002f6w6HnSNlyz9pRDQP7S3OP7fPNKJhANA\\u002fnOxn67Zo0D+NAVbCFE\\u002fQP5Ova1Eqb88\\u002fS9k6wahVzT\\u002fC+AqFjWrKP1POppfTzMY\\u002fxMZ+47ufwj\\u002fKCS3O3RG8P1zAK9RQXbI\\u002fYPbKBB3YoD++h5AID813v8cyH4lcP6a\\u002fqaCyEQdItL8lLvoCX8u8v0Kt6hu4RMK\\u002fB84Nati1xb+UTrpSI7LIv5NnD01FNsu\\u002fuifUA6JBzb9dLZOJY9XOv8CrKeKQ88+\\u002fSp+MHCBP0L8oI3whe2vQv0qfjBwgT9C\\u002fwKsp4pDzz79dLZOJY9XOv7on1AOiQc2\\u002fk2cPTUU2y7+UTrpSI7LIvwfODWrYtcW\\u002fQq3qG7hEwr8lLvoCX8u8v6mgshEHSLS\\u002fxzIfiVw\\u002fpr++h5AID813v2D2ygQd2KA\\u002fXMAr1FBdsj\\u002fKCS3O3RG8P8TGfuO7n8I\\u002fU86ml9PMxj\\u002fC+AqFjWrKP0vZOsGoVc0\\u002fk69rUSpvzz+NAVbCFE\\u002fQP5zsZ+u2aNA\\u002ft880omEA0D9pRDQP7S3OP+sOh50jZcs\\u002fTNyJIBC9xz+XQZCvP1bDP96QM0setLw\\u002f7l3DrjHysT9pJay2pUmbPz5FsDru5pC\\u002fQJ7iYByArb8uz1W0\\u002flK4v7\\u002f8+RxrR8C\\u002fz44QkkmPw78nzSgwEuDFv0X0bHbjI8e\\u002fevK14ilRx7\\u002fzmkAWLWvGv4taRAl3qcW\\u002f0H+zXjIMx7\\u002fMq0Tel1nHvx43RwWxh8a\\u002fTeFe6COaxL\\u002fMszqr\\u002f6HBv2EF0p+5ebu\\u002fDokVbb4msr9pe5S5f7mev2f0L1A894s\\u002fg+2LBtLRrT9qd5wiehW6P3XDC0gTR8I\\u002f3Fjx88byxj9yTBx0FN7KP8Udp0cd4s0\\u002fqevmfl\\u002fizz8AGL9YzmbQP40BVsIUT9A\\u002flxkEZ6dZzz\\u002fnwbtwMhDNP56l2NcU28k\\u002f2G9vsRfbxT\\u002f0ymN0jTbBPyso0z5rLrg\\u002fJ3JBgmegqj9orPM9QjiBP4dHX5dX+6G\\u002f5pxyYbPWs788nIHTXSe+v9nkTTN738O\\u002fXhYkUq48yL94kHLpYR\\u002fMvxXB+NJWgc+\\u002fBq5RHJAw0b9cUOO7iGDSv+mRRpwDU9O\\u002fwWws6hIL1L9Z4MWG04vUv4rPraDn19S\\u002fcM0oYg\\u002fx1L+Kz62g59fUv1ngxYbTi9S\\u002fwWws6hIL1L\\u002fpkUacA1PTv1xQ47uIYNK\\u002fBq5RHJAw0b8VwfjSVoHPv3iQculhH8y\\u002fXhYkUq48yL\\u002fZ5E0ze9\\u002fDvzycgdNdJ76\\u002f5pxyYbPWs7+HR1+XV\\u002fuhv2is8z1COIE\\u002fJ3JBgmegqj8rKNM+ay64P\\u002fTKY3SNNsE\\u002f2G9vsRfbxT+epdjXFNvJP+fBu3AyEM0\\u002flxkEZ6dZzz+NAVbCFE\\u002fQPwAYv1jOZtA\\u002fqevmfl\\u002fizz\\u002fFHadHHeLNP3JMHHQU3so\\u002f3Fjx88byxj91wwtIE0fCP2p3nCJ6Fbo\\u002fg+2LBtLRrT9n9C9QPPeLP2l7lLl\\u002fuZ6\\u002fDokVbb4msr9hBdKfuXm7v8yzOqv\\u002focG\\u002fTeFe6COaxL8eN0cFsYfGv8yrRN6XWce\\u002f0H+zXjIMx79bo6ae8oHGv4g5Y26nWMe\\u002fJtddnUQLx7+zpE\\u002fiV5bFv5CrkCHFBMO\\u002f8I4CK4fevr8hag00T\\u002fa1v5irvRQsYqe\\u002fAotiLkL3X7\\u002fe6aonKkKmPwUtn2k6sLY\\u002fnPdhpn\\u002fWwD\\u002fxJ2ds5c7FP\\u002fA6xznHCso\\u002fV\\u002fbQBEpczT\\u002fcWpNjJ6DPP13WV06AX9A\\u002feqvqTQdX0D+Tr2tRKm\\u002fPP+fBu3AyEM0\\u002fnY+Lc9ypyT9Yxm\\u002fCBl7FP+rcMmuoVcA\\u002fLEnoHP98tT9YrweMiSKjP4AD8n+MvoW\\u002fqyrbAacFrr8xN2Z41\\u002fy6v4t7bQZQL8O\\u002f5R0dOWt3yL+6J9QDokHNv8BhlmxBwNC\\u002f7\\u002fGwFvGW0r9OPvFcAyXUv5NzrAA9bdW\\u002f0oi5Vkt01r8tazkB+T\\u002fXvwV1aKtf1te\\u002filhTFCY92L9orX2M2HjYv\\u002fbg5vdnjNi\\u002faK19jNh42L+KWFMUJj3YvwV1aKtf1te\\u002fLWs5Afk\\u002f17\\u002fSiLlWS3TWv5NzrAA9bdW\\u002fTj7xXAMl1L\\u002fv8bAW8ZbSv8BhlmxBwNC\\u002fuifUA6JBzb\\u002flHR05a3fIv4t7bQZQL8O\\u002fMTdmeNf8ur+rKtsBpwWuv4AD8n+MvoW\\u002fWK8HjIkioz8sSegc\\u002f3y1P+rcMmuoVcA\\u002fWMZvwgZexT+dj4tz3KnJP+fBu3AyEM0\\u002fk69rUSpvzz96q+pNB1fQP13WV06AX9A\\u002f3FqTYyegzz9X9tAESlzNP\\u002fA6xznHCso\\u002f8SdnbOXOxT+c92Gmf9bAPwUtn2k6sLY\\u002f3umqJypCpj8Ci2IuQvdfv5irvRQsYqe\\u002fIWoNNE\\u002f2tb\\u002fwjgIrh96+v5CrkCHFBMO\\u002fs6RP4leWxb8m112dRAvHv4g5Y26nWMe\\u002fBZjg4\\u002foOx797I9DKxVbHvyMfLcUib8a\\u002fSJzroXdbxL89h02fGS7BvxSSDRPuDrq\\u002f53KX+A4psL9XfPpvx2SUv48BLr08i5o\\u002fq85\\u002fageEsj8GyJZ4CgG+P4UpeGlGSsQ\\u002f5EyH3tvhyD8vS2QK7pHMP73GGKicL88\\u002fA7dvACdO0D9\\u002fWRsgamPQPzwmbujcq88\\u002fS9k6wahVzT+epdjXFNvJP1jGb8IGXsU\\u002fzhvUwlYJwD8aiuZLshy0P5fu365nEZ0\\u002fvMo34TsomL9aI9ZNh2Wzv\\u002f6XljqdNsC\\u002f9hkgSFJmxr94kHLpYR\\u002fMvwEVHBYMpNC\\u002fnY1ifgHo0r+Kz62g59fUv9KIuVZLdNa\\u002fVLpxwFfB17\\u002fFCZRxC8bYvy\\u002fZ4zJKi9m\\u002f8jhNjdwa2r\\u002fsWy4tb37avwMWpd+jvtq\\u002fuwy1gUTi2r8AYj3Jpe3av7sMtYFE4tq\\u002fAxal36O+2r\\u002fsWy4tb37av\\u002fI4TY3cGtq\\u002fL9njMkqL2b\\u002fFCZRxC8bYv1S6ccBXwde\\u002f0oi5Vkt01r+Kz62g59fUv52NYn4B6NK\\u002fARUcFgyk0L94kHLpYR\\u002fMv\\u002fYZIEhSZsa\\u002f\\u002fpeWOp02wL9aI9ZNh2Wzv7zKN+E7KJi\\u002fl+7frmcRnT8aiuZLshy0P84b1MJWCcA\\u002fWMZvwgZexT+epdjXFNvJP0vZOsGoVc0\\u002fPCZu6Nyrzz9\\u002fWRsgamPQPwO3bwAnTtA\\u002fvcYYqJwvzz8vS2QK7pHMP+RMh97b4cg\\u002fhSl4aUZKxD8GyJZ4CgG+P6vOf2oHhLI\\u002fjwEuvTyLmj9XfPpvx2SUv+dyl\\u002fgOKbC\\u002fFJINE+4Our89h02fGS7Bv0ic66F3W8S\\u002fIx8txSJvxr97I9DKxVbHv\\u002f\\u002fgT9q6Vce\\u002fjyPgbjYOx78R7OEGUI\\u002fFvzV85iN+48K\\u002fKruLVT1Jvr898F5hk\\u002fW0v4Tj6piYaaS\\u002fUIqZWqPMdz+W5SznASurPwASAHMRhbk\\u002freB4Odtdwj8UroOymFjHP8VbdJuudcs\\u002fKCVW5fqBzj+uOBLbUSvQPxP\\u002fQW5ibdA\\u002fsyntNi8C0D9d0r\\u002fKetjNP8L4CoWNaso\\u002f2G9vsRfbxT\\u002fq3DJrqFXAPxqK5kuyHLQ\\u002fwizZw2L3mT9eHCF0MuKevyIxB7nVDra\\u002fBHvhcSIKwr+UTrpSI7LIv10tk4lj1c6\\u002fPmmjv9gp0r9Z4MWG04vUv2Ijct52i9a\\u002f65YvvOoo2L+C7gW0JGnZv+iCeRwcVdq\\u002fX6Yqp8b42r+GZXhY72Hbv4HR7Nf7ntu\\u002fyeh657S9279r9H9dJsrbvyrwTE2pzdu\\u002fcgDqNijO278q8ExNqc3bv2v0f10mytu\\u002fyeh657S927+B0ezX+57bv4ZleFjvYdu\\u002fX6Yqp8b42r\\u002fognkcHFXav4LuBbQkadm\\u002f65YvvOoo2L9iI3LedovWv1ngxYbTi9S\\u002fPmmjv9gp0r9dLZOJY9XOv5ROulIjssi\\u002fBHvhcSIKwr8iMQe51Q62v14cIXQy4p6\\u002fwizZw2L3mT8aiuZLshy0P+rcMmuoVcA\\u002f2G9vsRfbxT\\u002fC+AqFjWrKP13Sv8p62M0\\u002fsyntNi8C0D8T\\u002f0FuYm3QP644EttRK9A\\u002fKCVW5fqBzj\\u002fFW3SbrnXLPxSug7KYWMc\\u002freB4Odtdwj8AEgBzEYW5P5blLOcBK6s\\u002fUIqZWqPMdz+E4+qYmGmkvz3wXmGT9bS\\u002fKruLVT1Jvr81fOYjfuPCvxHs4QZQj8W\\u002fjyPgbjYOx79SUJOoplzHvx43RwWxh8a\\u002fnoROPah2xL+SrL4QMTvBv0BEZVBc7bm\\u002fvRhZFedir78+RbA67uaQv6X15hm4wp8\\u002fSIQzl2w5tD+CrcDBIwTAPyLvhsxfZMU\\u002fFcjxVLf4yT\\u002floMEZZoXNP\\u002fpV3mx92s8\\u002fAdReHRRr0D9BNOYyFzPQP+NQmk+kiM4\\u002fy+hEQb9Lyz9TzqaX08zGP\\u002fTKY3SNNsE\\u002fLEnoHP98tT+X7t+uZxGdP14cIXQy4p6\\u002fqtIstBrztr9Vx8QOofTCv5+e2Tz0Ecq\\u002fSp+MHCBP0L+IUcKmYTjTvwUY6o9pttW\\u002fVLpxwFfB179ijD2\\u002fxlfZv+xbLi1vftq\\u002fkEsIw3A\\u002f27\\u002f18cCjTanbvyrwTE2pzdu\\u002f\\u002fvqt3d+\\u002f2798Ud2OjJPbv2SPkhoXW9u\\u002frOG5G18m27\\u002fBncWImgHbv5ddkiZ59Nq\\u002fwZ3FiJoB27+s4bkbXybbv2SPkhoXW9u\\u002ffFHdjoyT27\\u002f++q3d37\\u002fbvyrwTE2pzdu\\u002f9fHAo02p27+QSwjDcD\\u002fbv+xbLi1vftq\\u002fYow9v8ZX2b9UunHAV8HXvwUY6o9pttW\\u002fiFHCpmE4079Kn4wcIE\\u002fQv5+e2Tz0Ecq\\u002fVcfEDqH0wr+q0iy0GvO2v14cIXQy4p6\\u002fl+7frmcRnT8sSegc\\u002f3y1P\\u002fTKY3SNNsE\\u002fU86ml9PMxj\\u002fL6ERBv0vLP+NQmk+kiM4\\u002fQTTmMhcz0D8B1F4dFGvQP\\u002fpV3mx92s8\\u002f5aDBGWaFzT8VyPFUt\\u002fjJPyLvhsxfZMU\\u002fgq3AwSMEwD9IhDOXbDm0P6X15hm4wp8\\u002fPkWwOu7mkL+9GFkV52Kvv0BEZVBc7bm\\u002fkqy+EDE7wb+ehE49qHbEvx43RwWxh8a\\u002fRsX\\u002fdSgrx789lfqCnszFvygFlxlgMMO\\u002f8I4CK4fevr8BqwsLJmS1vyKGO9ytvqS\\u002fOCf+Lfi0ej85+94iyU2sPxybUQ+gdbo\\u002fc+aPcWf8wj8Lr9L4bQzIP8M4XjN\\u002fJsw\\u002fLiI6lxERzz+\\u002f2lqLLFDQP3tmgPc3XNA\\u002f5\\u002fXHQKhOzz8HzBf19GnMP1gMkVVlIsg\\u002fxMZ+47ufwj8rKNM+ay64P1ivB4yJIqM\\u002fvMo34TsomL8iMQe51Q62v1XHxA6h9MK\\u002fVWvOi\\u002f2Gyr\\u002fAYZZsQcDQvz5sSBLs1tO\\u002f0oi5Vkt01r\\u002f24Ob3Z4zYv\\u002fI4TY3cGtq\\u002fIJfSgroi27\\u002fiUwptAa7bv2zlQhyyzNu\\u002ffFHdjoyT278Tnaa5jBrbvz6zW8c9e9q\\u002fu0mGuf3O2b\\u002fqnEAbTC3Zv6gVOa89qti\\u002fsf6IuSxV2L+uHtzduTfYv7H+iLksVdi\\u002fqBU5rz2q2L\\u002fqnEAbTC3Zv7tJhrn9ztm\\u002fPrNbxz172r8Tnaa5jBrbv3xR3Y6Mk9u\\u002fbOVCHLLM27\\u002fiUwptAa7bvyCX0oK6Itu\\u002f8jhNjdwa2r\\u002f24Ob3Z4zYv9KIuVZLdNa\\u002fPmxIEuzW07\\u002fAYZZsQcDQv1Vrzov9hsq\\u002fVcfEDqH0wr8iMQe51Q62v7zKN+E7KJi\\u002fWK8HjIkioz8rKNM+ay64P8TGfuO7n8I\\u002fWAyRVWUiyD8HzBf19GnMP+f1x0CoTs8\\u002fe2aA9zdc0D+\\u002f2lqLLFDQPy4iOpcREc8\\u002fwzheM38mzD8Lr9L4bQzIP3Pmj3Fn\\u002fMI\\u002fHJtRD6B1uj85+94iyU2sPzgn\\u002fi34tHo\\u002fIoY73K2+pL8BqwsLJmS1v\\u002fCOAiuH3r6\\u002fKAWXGWAww789lfqCnszFv8gt1URQyca\\u002fMNvxZsLmxL\\u002fk4tCJqsfBv8Yl+o72F7u\\u002fbOjh+mLHsL9XfPpvx2SUv4XO\\u002fp2ihZ0\\u002fnKjPYtcItD8N27IXnBvAP8YVIt1spMU\\u002f9hoL5FZSyj\\u002fFHadHHeLNP+hZLA+nDtA\\u002fbU8eGY1u0D8A9ofWLQbQP\\u002fbNuhWvqM0\\u002fqSQYA4\\u002fCyT9ltBLXcHzEP8oJLc7dEbw\\u002fJ3JBgmegqj+AA\\u002fJ\\u002fjL6Fv1oj1k2HZbO\\u002fBHvhcSIKwr+fntk89BHKv8BhlmxBwNC\\u002fwWws6hIL1L8c1UGnLtDWv60IOMIU\\u002fti\\u002fJ3J8fL+L2r\\u002f1I9QD4njbvyrwTE2pzdu\\u002fTZTNewOa27+XXZImefTav+xdMAiq+Nm\\u002fA+De0oPF2L\\u002fuUyLPTXvXv7SJsk2mOda\\u002fhyrWsY8d1b\\u002fFUr7jqT\\u002fUv3qar2CystO\\u002fvTnjBmGC0796mq9gsrLTv8VSvuOpP9S\\u002fhyrWsY8d1b+0ibJNpjnWv+5TIs9Ne9e\\u002fA+De0oPF2L\\u002fsXTAIqvjZv5ddkiZ59Nq\\u002fTZTNewOa278q8ExNqc3bv\\u002fUj1APieNu\\u002fJ3J8fL+L2r+tCDjCFP7YvxzVQacu0Na\\u002fwWws6hIL1L\\u002fAYZZsQcDQv5+e2Tz0Ecq\\u002fBHvhcSIKwr9aI9ZNh2Wzv4AD8n+MvoW\\u002fJ3JBgmegqj\\u002fKCS3O3RG8P2W0EtdwfMQ\\u002fqSQYA4\\u002fCyT\\u002f2zboVr6jNPwD2h9YtBtA\\u002fbU8eGY1u0D\\u002foWSwPpw7QP8Udp0cd4s0\\u002f9hoL5FZSyj\\u002fGFSLdbKTFPw3bshecG8A\\u002fnKjPYtcItD+Fzv6dooWdP1d8+m\\u002fHZJS\\u002fbOjh+mLHsL\\u002fGJfqO9he7v+Ti0Imqx8G\\u002fMNvxZsLmxL\\u002fPpJFyiT\\u002fGv9e9CSbt38O\\u002fv\\u002fz5HGtHwL9Fr8kQzDm3v\\u002fhe8cMRXai\\u002fuZmUZ1iSJD\\u002f4a7lTsKepPwASAHMRhbk\\u002ff2rx2Ke4wj+ETINirPjHP49s\\u002fmwXNsw\\u002fvcYYqJwvzz+rOCCHVFnQP40BVsIUT9A\\u002fRH35RGnkzj\\u002fsW1do7IvLP7mpNAk5r8Y\\u002fuu0oZpB7wD9cwCvUUF2yP2is8z1COIE\\u002fqyrbAacFrr\\u002f+l5Y6nTbAv5ROulIjssi\\u002fSp+MHCBP0L8+bEgS7NbTvxzVQacu0Na\\u002fAsLSBYYi2b8DFqXfo77av4HR7Nf7ntu\\u002f0MGjdOjH27+xsznKREfbv4tcXc+AM9q\\u002fqBU5rz2q2L9PLmMdhs7Wv+Yezj+8xtS\\u002fZNb151q60r+zpWpRqs\\u002fQv80J9JgSU86\\u002fhCBYK9XKy7\\u002fnYkhcRjPKv9rdi\\u002f5DqMm\\u002f52JIXEYzyr+EIFgr1crLv80J9JgSU86\\u002fs6VqUarP0L9k1vXnWrrSv+Yezj+8xtS\\u002fTy5jHYbO1r+oFTmvParYv4tcXc+AM9q\\u002fsbM5ykRH27\\u002fQwaN06Mfbv4HR7Nf7ntu\\u002fAxal36O+2r8CwtIFhiLZvxzVQacu0Na\\u002fPmxIEuzW079Kn4wcIE\\u002fQv5ROulIjssi\\u002f\\u002fpeWOp02wL+rKtsBpwWuv2is8z1COIE\\u002fXMAr1FBdsj+67ShmkHvAP7mpNAk5r8Y\\u002f7FtXaOyLyz9EfflEaeTOP40BVsIUT9A\\u002fqzggh1RZ0D+9xhionC\\u002fPP49s\\u002fmwXNsw\\u002fhEyDYqz4xz9\\u002favHYp7jCPwASAHMRhbk\\u002f+Gu5U7CnqT+5mZRnWJIkP\\u002fhe8cMRXai\\u002fRa\\u002fJEMw5t7+\\u002f\\u002fPkca0fAv9e9CSbt38O\\u002fs6RP4leWxb\\u002fkvYiEucHCv4tW94Htc72\\u002fXj5ZekNZs79pe5S5f7mevyrkTAia35M\\u002f7l3DrjHysT\\u002fuHo5lJ4++P1v7AWhYDsU\\u002fFcjxVLf4yT9O5BFG77rNPzW7pgwsC9A\\u002f4QUg33Ru0D9tSfs\\u002f7PPPP0vZOsGoVc0\\u002fWM8z6AASyT\\u002feOHNm4U3DP8aFzXwog7g\\u002fYPbKBB3YoD+HR1+XV\\u002fuhvzE3ZnjX\\u002fLq\\u002f9hkgSFJmxr9dLZOJY9XOv4hRwqZhONO\\u002f0oi5Vkt01r+tCDjCFP7YvwMWpd+jvtq\\u002f9fHAo02p27+RrIpldrzbv8GdxYiaAdu\\u002fh9s8iL6M2b\\u002fuUyLPTXvXv9e7b8Z38tS\\u002fxrToniEd0r\\u002fNCfSYElPOv\\u002fLp0g51jci\\u002fxBZHePJDw79Ei2DXFZG9v1iI2uFtwLa\\u002f9y09+D1+sr+5x8c9fguxv\\u002fctPfg9frK\\u002fWIja4W3Atr9Ei2DXFZG9v8QWR3jyQ8O\\u002f8unSDnWNyL\\u002fNCfSYElPOv8a06J4hHdK\\u002f17tvxnfy1L\\u002fuUyLPTXvXv4fbPIi+jNm\\u002fwZ3FiJoB27+RrIpldrzbv\\u002fXxwKNNqdu\\u002fAxal36O+2r+tCDjCFP7Yv9KIuVZLdNa\\u002fiFHCpmE4079dLZOJY9XOv\\u002fYZIEhSZsa\\u002fMTdmeNf8ur+HR1+XV\\u002fuhv2D2ygQd2KA\\u002fxoXNfCiDuD\\u002feOHNm4U3DP1jPM+gAEsk\\u002fS9k6wahVzT9tSfs\\u002f7PPPP+EFIN90btA\\u002fNbumDCwL0D9O5BFG77rNPxXI8VS3+Mk\\u002fW\\u002fsBaFgOxT\\u002fuHo5lJ4++P+5dw64x8rE\\u002fKuRMCJrfkz9pe5S5f7mev14+WXpDWbO\\u002fi1b3ge1zvb\\u002fkvYiEucHCv3Au1y4e1sS\\u002fNfR93VWVwb\\u002f4IIm6xlG6v2naienWEq+\\u002fdatcJ4TGir\\u002fBjAhcAkCjPwUtn2k6sLY\\u002fMsCglraPwT9P6f8DqhvHP2aNNzjZpss\\u002fepc72+Hmzj+\\u002f2lqLLFDQP5X1X+4mVdA\\u002fq9lPud3wzj+9PpJOtHbLP6oun0FcVcY\\u002fFkv0LLF4vz+oqv2XObyvP76HkAgPzXe\\u002f5pxyYbPWs7+Le20GUC\\u002fDv3iQculhH8y\\u002fPmmjv9gp0r8FGOqPabbVv\\u002fbg5vdnjNi\\u002fJ3J8fL+L2r+B0ezX+57bv5GsimV2vNu\\u002f+FnHhObm2r\\u002fqnEAbTC3ZvxYVqz80qta\\u002fvTnjBmGC078StZrXy8XPv820pcSj\\u002fce\\u002fD4ac1AwZwL+5x8c9fguxv\\u002fCTY6htyoq\\u002fFtAE5nxOoD9RJfuRgdewP0ZqizjIP7Y\\u002feRxJkqAVuD9Gaos4yD+2P1El+5GB17A\\u002fFtAE5nxOoD\\u002fwk2OobcqKv7nHxz1+C7G\\u002fD4ac1AwZwL\\u002fNtKXEo\\u002f3HvxK1mtfLxc+\\u002fvTnjBmGC078WFas\\u002fNKrWv+qcQBtMLdm\\u002f+FnHhObm2r+RrIpldrzbv4HR7Nf7ntu\\u002fJ3J8fL+L2r\\u002f24Ob3Z4zYvwUY6o9pttW\\u002fPmmjv9gp0r94kHLpYR\\u002fMv4t7bQZQL8O\\u002f5pxyYbPWs7++h5AID813v6iq\\u002fZc5vK8\\u002fFkv0LLF4vz+qLp9BXFXGP70+kk60dss\\u002fq9lPud3wzj+V9V\\u002fuJlXQP7\\u002faWossUNA\\u002fepc72+Hmzj9mjTc42abLP0\\u002fp\\u002fwOqG8c\\u002fMsCglraPwT8FLZ9pOrC2P8GMCFwCQKM\\u002fdatcJ4TGir9p2onp1hKvv\\u002fggibrGUbq\\u002fNfR93VWVwb9MXbah7QbEv\\u002fkvN6RZY8C\\u002fRa\\u002fJEMw5t7\\u002fCELLl87Wnv0GW6kE2ZWg\\u002fwDg5jtXsqz8mG2bjpQW7P8MSiDZBmcM\\u002f5EyH3tvhyD8aeL2bpwfNPzbu21gpws8\\u002fFCWi+dZs0D\\u002fjBRO8YRXQP\\u002fbNuhWvqM0\\u002fR6hlO7heyT8vHRAQMXDDPyso0z5rLrg\\u002fl+7frmcRnT\\u002fHMh+JXD+mvzycgdNdJ76\\u002f5R0dOWt3yL8BFRwWDKTQv1ngxYbTi9S\\u002fVLpxwFfB17\\u002fyOE2N3Brav\\u002fUj1APieNu\\u002f0MGjdOjH27\\u002fBncWImgHbv+qcQBtMLdm\\u002fdtLVT8Vf1r9k1vXnWrrSvz\\u002faHra80sy\\u002fxBZHePJDw7\\u002f3LT34PX6yv5QHsaRPzXc\\u002fHZcobClutD9YqIthXrPCP8XOUyPox8k\\u002fT7\\u002f0oukazz9GZHM+YjTRP1nU6cy7w9E\\u002fRmRzPmI00T9Pv\\u002fSi6RrPP8XOUyPox8k\\u002fWKiLYV6zwj8dlyhsKW60P5QHsaRPzXc\\u002f9y09+D1+sr\\u002fEFkd48kPDvz\\u002faHra80sy\\u002fZNb151q60r920tVPxV\\u002fWv+qcQBtMLdm\\u002fwZ3FiJoB27\\u002fQwaN06Mfbv\\u002fUj1APieNu\\u002f8jhNjdwa2r9UunHAV8HXv1ngxYbTi9S\\u002fARUcFgyk0L\\u002flHR05a3fIvzycgdNdJ76\\u002fxzIfiVw\\u002fpr+X7t+uZxGdPyso0z5rLrg\\u002fLx0QEDFwwz9HqGU7uF7JP\\u002fbNuhWvqM0\\u002f4wUTvGEV0D8UJaL51mzQPzbu21gpws8\\u002fGni9m6cHzT\\u002fkTIfe2+HIP8MSiDZBmcM\\u002fJhtm46UFuz\\u002fAODmO1eyrP0GW6kE2ZWg\\u002fwhCy5fO1p79Fr8kQzDm3v\\u002fkvN6RZY8C\\u002fKAWXGWAww7+bpUaZTWe+v7EP+d99O7S\\u002f9foBBX64oL+FfE2qsGWSP+5dw64x8rE\\u002fI+7bdrHtvj8i74bMX2TFP++A01AOZMo\\u002fDYw\\u002fhYchzj+uOBLbUSvQP7TYMe7fZ9A\\u002fk69rUSpvzz\\u002f6YxdKdy\\u002fMP8uesAmWJMc\\u002fuu0oZpB7wD90pGbF4PGwP9RG6460RHG\\u002fqaCyEQdItL\\u002fZ5E0ze9\\u002fDv7on1AOiQc2\\u002fnY1ifgHo0r9iI3LedovWv2KMPb\\u002fGV9m\\u002fIJfSgroi278q8ExNqc3bv7GzOcpER9u\\u002fh9s8iL6M2b8WFas\\u002fNKrWv2TW9edautK\\u002fhCBYK9XKy792AcFarr7Av0nIR+FbK6O\\u002fH4wYO9okrj9H31tNma\\u002fDP0+\\u002f9KLpGs8\\u002fkwNdg5Ci1D+EfZK0F9vYP\\u002fq9Gs\\u002fzBNw\\u002fgA5SWHr63T+Cd0xJS6TeP4AOUlh6+t0\\u002f+r0az\\u002fME3D+EfZK0F9vYP5MDXYOQotQ\\u002fT7\\u002f0oukazz9H31tNma\\u002fDPx+MGDvaJK4\\u002fSchH4Vsro792AcFarr7Av4QgWCvVysu\\u002fZNb151q60r8WFas\\u002fNKrWv4fbPIi+jNm\\u002fsbM5ykRH278q8ExNqc3bvyCX0oK6Itu\\u002fYow9v8ZX2b9iI3LedovWv52NYn4B6NK\\u002fuifUA6JBzb\\u002fZ5E0ze9\\u002fDv6mgshEHSLS\\u002f1EbrjrREcb90pGbF4PGwP7rtKGaQe8A\\u002fy56wCZYkxz\\u002f6YxdKdy\\u002fMP5Ova1Eqb88\\u002ftNgx7t9n0D+uOBLbUSvQPw2MP4WHIc4\\u002f74DTUA5kyj8i74bMX2TFPyPu23ax7b4\\u002f7l3DrjHysT+FfE2qsGWSP\\u002fX6AQV+uKC\\u002fsQ\\u002f53307tL+bpUaZTWe+vwLdqIl7WcK\\u002frP2Ag6wavL9fSBoJY2Sxv1d8+m\\u002fHZJS\\u002fFIkcpf1AoD\\u002fOKci0TI21P\\u002fO4U4hTM8E\\u002f3Fjx88byxj9mjTc42abLP1mIhNku\\u002fM4\\u002fmepIZKBX0D+Gfb0fWEjQP+NQmk+kiM4\\u002f2wEfcfuYyj\\u002f9UoGQKt7EP5fbQVRpHbs\\u002fLJS\\u002fT+Tkoz+HR1+XV\\u002fuhvyUu+gJfy7y\\u002fXhYkUq48yL\\u002fAYZZsQcDQv4rPraDn19S\\u002f65YvvOoo2L\\u002fsWy4tb37av+JTCm0Brtu\\u002fTZTNewOa27+LXF3PgDPav+5TIs9Ne9e\\u002fvTnjBmGC078\\u002f2h62vNLMv3YBwVquvsC\\u002fo+V+n8\\u002f8mb9Gaos4yD+2P8XOUyPox8k\\u002fgMq2sSoN1D\\u002f4w1eBI73aP0KAchjhVOA\\u002fhAbDMmbI4j96KaSojJ3kP0zwLtKdv+U\\u002f7K25kMEh5j9M8C7Snb\\u002flP3oppKiMneQ\\u002fhAbDMmbI4j9CgHIY4VTgP\\u002fjDV4Ejvdo\\u002fgMq2sSoN1D\\u002fFzlMj6MfJP0ZqizjIP7Y\\u002fo+V+n8\\u002f8mb92AcFarr7Avz\\u002faHra80sy\\u002fvTnjBmGC07\\u002fuUyLPTXvXv4tcXc+AM9q\\u002fTZTNewOa27\\u002fiUwptAa7bv+xbLi1vftq\\u002f65YvvOoo2L+Kz62g59fUv8BhlmxBwNC\\u002fXhYkUq48yL8lLvoCX8u8v4dHX5dX+6G\\u002fLJS\\u002fT+Tkoz+X20FUaR27P\\u002f1SgZAq3sQ\\u002f2wEfcfuYyj\\u002fjUJpPpIjOP4Z9vR9YSNA\\u002fmepIZKBX0D9ZiITZLvzOP2aNNzjZpss\\u002f3Fjx88byxj\\u002fzuFOIUzPBP84pyLRMjbU\\u002fFIkcpf1AoD9XfPpvx2SUv19IGgljZLG\\u002frP2Ag6wavL+K+h9SnojBv0BEZVBc7bm\\u002fQJ7iYByArb\\u002fR4onamtyAv+NxwvmgoqY\\u002fh34gcTPEuD9\\u002favHYp7jCP0DX7dVZR8g\\u002f9J\\u002fMvd+vzD\\u002fcWpNjJ6DPP9za4py7a9A\\u002f4wUTvGEV0D8GribT+ofNP1HBy9MU+Mg\\u002fxMZ+47ufwj8sSegc\\u002f3y1PxEEuA32yIo\\u002fxykr8tlRsL9CreobuETCv3iQculhH8y\\u002f7\\u002fGwFvGW0r\\u002fSiLlWS3TWv4LuBbQkadm\\u002fkEsIw3A\\u002f279s5UIcsszbv5ddkiZ59Nq\\u002fqBU5rz2q2L\\u002fXu2\\u002fGd\\u002fLUvxK1mtfLxc+\\u002fxBZHePJDw79JyEfhWyujv0ZqizjIP7Y\\u002fPuPKKSviyz8IFJb8JmrWP4J3TElLpN4\\u002f\\u002fcNF69Ak4z\\u002fRxiWBoITmP+sWi85\\u002fTek\\u002f1pPdXG1h6z+\\u002fRtsh5qnsP0a00er2GO0\\u002fv0bbIeap7D\\u002fWk91cbWHrP+sWi85\\u002fTek\\u002f0cYlgaCE5j\\u002f9w0Xr0CTjP4J3TElLpN4\\u002fCBSW\\u002fCZq1j8+48opK+LLP0ZqizjIP7Y\\u002fSchH4Vsro7\\u002fEFkd48kPDvxK1mtfLxc+\\u002f17tvxnfy1L+oFTmvParYv5ddkiZ59Nq\\u002fbOVCHLLM27+QSwjDcD\\u002fbv4LuBbQkadm\\u002f0oi5Vkt01r\\u002fv8bAW8ZbSv3iQculhH8y\\u002fQq3qG7hEwr\\u002fHKSvy2VGwvxEEuA32yIo\\u002fLEnoHP98tT\\u002fExn7ju5\\u002fCP1HBy9MU+Mg\\u002fBq4m0\\u002fqHzT\\u002fjBRO8YRXQP9za4py7a9A\\u002f3FqTYyegzz\\u002f0n8y936\\u002fMP0DX7dVZR8g\\u002ff2rx2Ke4wj+HfiBxM8S4P+NxwvmgoqY\\u002f0eKJ2prcgL9AnuJgHICtv0BEZVBc7bm\\u002fX76FYHPDwL\\u002f5Vqq\\u002fQOq3v7PQG39nsKi\\u002fFJnyV+mbYj85+94iyU2sPwu31YJqlbs\\u002f6WoG3y4IxD8aR93jzmXJP+WgwRlmhc0\\u002fNbumDCwL0D8T\\u002f0FuYm3QPzwmbujcq88\\u002fBndAbRx9zD8D\\u002fEhBN17HP7rtKGaQe8A\\u002fXtNw\\u002fFU6sD+AA\\u002fJ\\u002fjL6Fv6rSLLQa87a\\u002fB84Nati1xb8VwfjSVoHPv04+8VwDJdS\\u002fVLpxwFfB17\\u002fognkcHFXav\\u002fXxwKNNqdu\\u002ffFHdjoyT27\\u002fsXTAIqvjZv08uYx2Gzta\\u002fxrToniEd0r\\u002fNtKXEo\\u002f3Hv\\u002fctPfg9frK\\u002fH4wYO9okrj\\u002fFzlMj6MfJPwgUlvwmatY\\u002fAmIWgO373z96KaSojJ3kP2HA67Jo5eg\\u002fv0bbIeap7D+t4n0\\u002fKcTvP2zEea71CfE\\u002foqmZYn3A8T8ouPfELf7xP6KpmWJ9wPE\\u002fbMR5rvUJ8T+t4n0\\u002fKcTvP79G2yHmqew\\u002fYcDrsmjl6D96KaSojJ3kPwJiFoDt+98\\u002fCBSW\\u002fCZq1j\\u002fFzlMj6MfJPx+MGDvaJK4\\u002f9y09+D1+sr\\u002fNtKXEo\\u002f3Hv8a06J4hHdK\\u002fTy5jHYbO1r\\u002fsXTAIqvjZv3xR3Y6Mk9u\\u002f9fHAo02p27\\u002fognkcHFXav1S6ccBXwde\\u002fTj7xXAMl1L8VwfjSVoHPvwfODWrYtcW\\u002fqtIstBrztr+AA\\u002fJ\\u002fjL6Fv17TcPxVOrA\\u002fuu0oZpB7wD8D\\u002fEhBN17HPwZ3QG0cfcw\\u002fPCZu6Nyrzz8T\\u002f0FuYm3QPzW7pgwsC9A\\u002f5aDBGWaFzT8aR93jzmXJP+lqBt8uCMQ\\u002fC7fVgmqVuz85+94iyU2sPxSZ8lfpm2I\\u002fs9Abf2ewqL\\u002f5Vqq\\u002fQOq3v7kCdM7sDsC\\u002fFaW9EZ8atr+E4+qYmGmkv4D3CNJ2kYc\\u002f\\u002fWJvFfidsD8GyJZ4CgG+P8Hrbi3rI8U\\u002f9hoL5FZSyj9pRDQP7S3OP4rxjhDMM9A\\u002fkvo4uB5i0D+ZT77SDiHPP70+kk60dss\\u002f2G9vsRfbxT+2R0akWgO9Pw40L7+k6KY\\u002f0U9YZGxJoL8lLvoCX8u8v5ROulIjssi\\u002fBq5RHJAw0b+Tc6wAPW3Vv8UJlHELxti\\u002fX6Yqp8b42r8q8ExNqc3bvxOdprmMGtu\\u002fA+De0oPF2L\\u002fmHs4\\u002fvMbUv80J9JgSU86\\u002fD4ac1AwZwL+UB7GkT813P0ffW02Zr8M\\u002fgMq2sSoN1D+Cd0xJS6TeP3oppKiMneQ\\u002fq9zkhVm26T\\u002fLMF9v8GruP9zYrtlhRvE\\u002fV58UYjf58j91SjhyzDz0P9s20eBDBPU\\u002fXZ4dEqdH9T\\u002fbNtHgQwT1P3VKOHLMPPQ\\u002fV58UYjf58j\\u002fc2K7ZYUbxP8swX2\\u002fwau4\\u002fq9zkhVm26T96KaSojJ3kP4J3TElLpN4\\u002fgMq2sSoN1D9H31tNma\\u002fDP5QHsaRPzXc\\u002fD4ac1AwZwL\\u002fNCfSYElPOv+Yezj+8xtS\\u002fA+De0oPF2L8Tnaa5jBrbvyrwTE2pzdu\\u002fX6Yqp8b42r\\u002fFCZRxC8bYv5NzrAA9bdW\\u002fBq5RHJAw0b+UTrpSI7LIvyUu+gJfy7y\\u002f0U9YZGxJoL8ONC+\\u002fpOimP7ZHRqRaA70\\u002f2G9vsRfbxT+9PpJOtHbLP5lPvtIOIc8\\u002fkvo4uB5i0D+K8Y4QzDPQP2lENA\\u002ftLc4\\u002f9hoL5FZSyj\\u002fB624t6yPFPwbIlngKAb4\\u002f\\u002fWJvFfidsD+A9wjSdpGHP4Tj6piYaaS\\u002fFaW9EZ8atr\\u002fwjgIrh96+vyCx+XsxhrS\\u002f9foBBX64oL8q5EwImt+TP9lJAb+jtLI\\u002fgq3AwSMEwD8SciUaQA7GP+S0GWxJEcs\\u002fKAvE\\u002ftWvzj8Dt28AJ07QP40BVsIUT9A\\u002fIlqpoj6Wzj\\u002f9\\u002fyXE2oHKP2W0EtdwfMQ\\u002fe4NghXB\\u002fuT+X7t+uZxGdP41atfQksKm\\u002fY3jLt6vlwL+TZw9NRTbLv1xQ47uIYNK\\u002f0oi5Vkt01r8v2eMySovZv4ZleFjvYdu\\u002f\\u002fvqt3d+\\u002f278+s1vHPXvav+5TIs9Ne9e\\u002fZNb151q60r\\u002fy6dIOdY3Iv7nHxz1+C7G\\u002fHZcobClutD9Pv\\u002fSi6RrPP\\u002fjDV4Ejvdo\\u002f\\u002fcNF69Ak4z9hwOuyaOXoP8swX2\\u002fwau4\\u002foqmZYn3A8T80TYCTM\\u002fvzP48EL77Jz\\u002fU\\u002fz\\u002fWGVyks9z8IZWXPxwL4P3A0dP5DS\\u002fg\\u002fCGVlz8cC+D\\u002fP9YZXKSz3P48EL77Jz\\u002fU\\u002fNE2AkzP78z+iqZlifcDxP8swX2\\u002fwau4\\u002fYcDrsmjl6D\\u002f9w0Xr0CTjP\\u002fjDV4Ejvdo\\u002fT7\\u002f0oukazz8dlyhsKW60P7nHxz1+C7G\\u002f8unSDnWNyL9k1vXnWrrSv+5TIs9Ne9e\\u002fPrNbxz172r\\u002f++q3d37\\u002fbv4ZleFjvYdu\\u002fL9njMkqL2b\\u002fSiLlWS3TWv1xQ47uIYNK\\u002fk2cPTUU2y79jeMu3q+XAv41atfQksKm\\u002fl+7frmcRnT97g2CFcH+5P2W0EtdwfMQ\\u002f\\u002ff8lxNqByj8iWqmiPpbOP40BVsIUT9A\\u002fA7dvACdO0D8oC8T+1a\\u002fOP+S0GWxJEcs\\u002fEnIlGkAOxj+CrcDBIwTAP9lJAb+jtLI\\u002fKuRMCJrfkz\\u002f1+gEFfrigvyCx+XsxhrS\\u002fI\\u002fXDy\\u002fXPvb\\u002fDnFlzQDOzv+\\u002f7fVs\\u002fTpu\\u002fjwEuvTyLmj\\u002fMaOg6AGq0P5z3YaZ\\u002f1sA\\u002fTztqda7Jxj9mjTc42abLPy4iOpcREc8\\u002fn1JxLA5e0D8Imfb42jjQP0sAq+TcFc4\\u002fnY+Lc9ypyT\\u002feOHNm4U3DP71Z93HqgbY\\u002fF4P5jRD1jT97vEkf4MGwv1XHxA6h9MK\\u002fuifUA6JBzb\\u002fpkUacA1PTvy1rOQH5P9e\\u002f8jhNjdwa2r+B0ezX+57bv3xR3Y6Mk9u\\u002fu0mGuf3O2b+0ibJNpjnWv7OlalGqz9C\\u002fxBZHePJDw7\\u002fwk2OobcqKv1ioi2Fes8I\\u002fkwNdg5Ci1D9CgHIY4VTgP9HGJYGghOY\\u002fv0bbIeap7D\\u002fc2K7ZYUbxPzRNgJMz+\\u002fM\\u002fKtv6ZMBZ9j9wNHT+Q0v4P68Ze0DhvPk\\u002fVMGZmHqg+j\\u002fuDAmPVO36P1TBmZh6oPo\\u002frxl7QOG8+T9wNHT+Q0v4Pyrb+mTAWfY\\u002fNE2AkzP78z\\u002fc2K7ZYUbxP79G2yHmqew\\u002f0cYlgaCE5j9CgHIY4VTgP5MDXYOQotQ\\u002fWKiLYV6zwj\\u002fwk2OobcqKv8QWR3jyQ8O\\u002fs6VqUarP0L+0ibJNpjnWv7tJhrn9ztm\\u002ffFHdjoyT27+B0ezX+57bv\\u002fI4TY3cGtq\\u002fLWs5Afk\\u002f17\\u002fpkUacA1PTv7on1AOiQc2\\u002fVcfEDqH0wr97vEkf4MGwvxeD+Y0Q9Y0\\u002fvVn3ceqBtj\\u002feOHNm4U3DP52Pi3Pcqck\\u002fSwCr5NwVzj8Imfb42jjQP59ScSwOXtA\\u002fLiI6lxERzz9mjTc42abLP087anWuycY\\u002fnPdhpn\\u002fWwD\\u002fMaOg6AGq0P48BLr08i5o\\u002f7\\u002ft9Wz9Om7\\u002fDnFlzQDOzvxHLK3DL97y\\u002fDokVbb4msr+7jX2fNnqWv6X15hm4wp8\\u002fhG2kItG9tT8Jf9q2qHjBPxSug7KYWMc\\u002fROvoK9IWzD\\u002fVhZds2lbPPwAYv1jOZtA\\u002fdEd0tVkj0D\\u002f2zboVr6jNP1HBy9MU+Mg\\u002fArLihd5Ywj8aiuZLshy0P3cDqpfhVG4\\u002f5pxyYbPWs79TB1Aey4\\u002fEv10tk4lj1c6\\u002fwWws6hIL1L8FdWirX9bXv+xbLi1vftq\\u002fyeh657S9279kj5IaF1vbv+qcQBtMLdm\\u002fhyrWsY8d1b\\u002fNCfSYElPOv0SLYNcVkb2\\u002fFtAE5nxOoD\\u002fFzlMj6MfJP4R9krQX29g\\u002fhAbDMmbI4j\\u002frFovOf03pP63ifT8pxO8\\u002fV58UYjf58j+PBC++yc\\u002f1P3A0dP5DS\\u002fg\\u002fcRAjGx9U+j8vSM8L39b7P7XFdJ\\u002fwxPw\\u002fvL5UHlAV\\u002fT+1xXSf8MT8Py9Izwvf1vs\\u002fcRAjGx9U+j9wNHT+Q0v4P48EL77Jz\\u002fU\\u002fV58UYjf58j+t4n0\\u002fKcTvP+sWi85\\u002fTek\\u002fhAbDMmbI4j+EfZK0F9vYP8XOUyPox8k\\u002fFtAE5nxOoD9Ei2DXFZG9v80J9JgSU86\\u002fhyrWsY8d1b\\u002fqnEAbTC3Zv2SPkhoXW9u\\u002fyeh657S927\\u002fsWy4tb37avwV1aKtf1te\\u002fwWws6hIL1L9dLZOJY9XOv1MHUB7Lj8S\\u002f5pxyYbPWs793A6qX4VRuPxqK5kuyHLQ\\u002fArLihd5Ywj9RwcvTFPjIP\\u002fbNuhWvqM0\\u002fdEd0tVkj0D8AGL9YzmbQP9WFl2zaVs8\\u002fROvoK9IWzD8UroOymFjHPwl\\u002f2raoeME\\u002fhG2kItG9tT+l9eYZuMKfP7uNfZ82epa\\u002fDokVbb4msr\\u002fTCwGcWlq8v19IGgljZLG\\u002fyYWDZ\\u002fP\\u002fkr9Dl4FkE8ChPwUtn2k6sLY\\u002fXLvbF6PrwT9M3IkgEL3HP8DAdjtiZMw\\u002flEtCInyFzz8B1F4dFGvQPymAZHmyEdA\\u002fS9k6wahVzT8qvsCv13PIP7AGyzS0pME\\u002fXMAr1FBdsj\\u002fURuuOtERxvyIxB7nVDra\\u002fB84Nati1xb\\u002fAqynikPPPv1ngxYbTi9S\\u002filhTFCY92L8DFqXfo77av2v0f10mytu\\u002frOG5G18m27+oFTmvParYv8VSvuOpP9S\\u002fhCBYK9XKy79YiNrhbcC2v1El+5GB17A\\u002fT7\\u002f0oukazz\\u002f6vRrP8wTcP3oppKiMneQ\\u002f1pPdXG1h6z9sxHmu9QnxP3VKOHLMPPQ\\u002fz\\u002fWGVyks9z+vGXtA4bz5Py9Izwvf1vs\\u002f9n8yvzJm\\u002fT\\u002fYk0Zb81v+P\\u002fAFS3Torv4\\u002f2JNGW\\u002fNb\\u002fj\\u002f2fzK\\u002fMmb9Py9Izwvf1vs\\u002frxl7QOG8+T\\u002fP9YZXKSz3P3VKOHLMPPQ\\u002fbMR5rvUJ8T\\u002fWk91cbWHrP3oppKiMneQ\\u002f+r0az\\u002fME3D9Pv\\u002fSi6RrPP1El+5GB17A\\u002fWIja4W3Atr+EIFgr1crLv8VSvuOpP9S\\u002fqBU5rz2q2L+s4bkbXybbv2v0f10mytu\\u002fAxal36O+2r+KWFMUJj3Yv1ngxYbTi9S\\u002fwKsp4pDzz78Hzg1q2LXFvyIxB7nVDra\\u002f1EbrjrREcb9cwCvUUF2yP7AGyzS0pME\\u002fKr7Ar9dzyD9L2TrBqFXNPymAZHmyEdA\\u002fAdReHRRr0D+US0IifIXPP8DAdjtiZMw\\u002fTNyJIBC9xz9cu9sXo+vBPwUtn2k6sLY\\u002fQ5eBZBPAoT\\u002fJhYNn8\\u002f+Sv19IGgljZLG\\u002f0hT\\u002fA6\\u002f6u7+oG0AJw+6wvz5FsDru5pC\\u002fsbqOJfPfoj+WLFRMg0G3Py7XtDRDMMI\\u002fhEyDYqz4xz8vS2QK7pHMP9xak2MnoM8\\u002fFCWi+dZs0D8A9ofWLQbQPwNCnxzRIc0\\u002fWAyRVWUiyD\\u002f0ymN0jTbBPx7hMNoxTbE\\u002fHGShB6R0gr+W3TRncmW3v\\u002fYZIEhSZsa\\u002fSp+MHCBP0L+Kz62g59fUv2itfYzYeNi\\u002fuwy1gUTi2r8q8ExNqc3bv8GdxYiaAdu\\u002fsf6IuSxV2L96mq9gsrLTv+diSFxGM8q\\u002f9y09+D1+sr9Gaos4yD+2P0Zkcz5iNNE\\u002fgA5SWHr63T9M8C7Snb\\u002flP79G2yHmqew\\u002foqmZYn3A8T\\u002fbNtHgQwT1PwhlZc\\u002fHAvg\\u002fVMGZmHqg+j+1xXSf8MT8P9iTRlvzW\\u002f4\\u002fRMK1lmVW\\u002fz93FfPU7qr\\u002fP0TCtZZlVv8\\u002f2JNGW\\u002fNb\\u002fj+1xXSf8MT8P1TBmZh6oPo\\u002fCGVlz8cC+D\\u002fbNtHgQwT1P6KpmWJ9wPE\\u002fv0bbIeap7D9M8C7Snb\\u002flP4AOUlh6+t0\\u002fRmRzPmI00T9Gaos4yD+2P\\u002fctPfg9frK\\u002f52JIXEYzyr96mq9gsrLTv7H+iLksVdi\\u002fwZ3FiJoB278q8ExNqc3bv7sMtYFE4tq\\u002faK19jNh42L+Kz62g59fUv0qfjBwgT9C\\u002f9hkgSFJmxr+W3TRncmW3vxxkoQekdIK\\u002fHuEw2jFNsT\\u002f0ymN0jTbBP1gMkVVlIsg\\u002fA0KfHNEhzT8A9ofWLQbQPxQlovnWbNA\\u002f3FqTYyegzz8vS2QK7pHMP4RMg2Ks+Mc\\u002fLte0NEMwwj+WLFRMg0G3P7G6jiXz36I\\u002fPkWwOu7mkL+oG0AJw+6wvx2y6++X2ru\\u002fbOjh+mLHsL\\u002fT+BCzdDOQv8GMCFwCQKM\\u002f1g2ZE+lxtz91wwtIE0fCPwuv0vhtDMg\\u002fkosTtvGgzD97zyig0qjPP1bwxL5KbdA\\u002fsyntNi8C0D\\u002fnwbtwMhDNP8CdfHDlBsg\\u002fwSTWnH4RwT90pGbF4PGwP4AD8n+MvoW\\u002fq4PruOzXt7+8E+PYJKHGvygjfCF7a9C\\u002fcM0oYg\\u002fx1L\\u002f24Ob3Z4zYvwBiPcml7dq\\u002fcgDqNijO27+XXZImefTav64e3N25N9i\\u002fvTnjBmGC07\\u002fa3Yv+Q6jJv7nHxz1+C7G\\u002feRxJkqAVuD9Z1OnMu8PRP4J3TElLpN4\\u002f7K25kMEh5j9GtNHq9hjtPyi498Qt\\u002fvE\\u002fXZ4dEqdH9T9wNHT+Q0v4P+4MCY9U7fo\\u002fvL5UHlAV\\u002fT\\u002fwBUt06K7+P3cV89Tuqv8\\u002fAAAAAAAA+P93FfPU7qr\\u002fP\\u002fAFS3Torv4\\u002fvL5UHlAV\\u002fT\\u002fuDAmPVO36P3A0dP5DS\\u002fg\\u002fXZ4dEqdH9T8ouPfELf7xP0a00er2GO0\\u002f7K25kMEh5j+Cd0xJS6TeP1nU6cy7w9E\\u002feRxJkqAVuD+5x8c9fguxv9rdi\\u002f5DqMm\\u002fvTnjBmGC07+uHtzduTfYv5ddkiZ59Nq\\u002fcgDqNijO278AYj3Jpe3av\\u002fbg5vdnjNi\\u002fcM0oYg\\u002fx1L8oI3whe2vQv7wT49gkoca\\u002fq4PruOzXt7+AA\\u002fJ\\u002fjL6Fv3SkZsXg8bA\\u002fwSTWnH4RwT\\u002fAnXxw5QbIP+fBu3AyEM0\\u002fsyntNi8C0D9W8MS+Sm3QP3vPKKDSqM8\\u002fkosTtvGgzD8Lr9L4bQzIP3XDC0gTR8I\\u002f1g2ZE+lxtz\\u002fBjAhcAkCjP9P4ELN0M5C\\u002fbOjh+mLHsL\\u002fSFP8Dr\\u002fq7v6gbQAnD7rC\\u002fPkWwOu7mkL+xuo4l89+iP5YsVEyDQbc\\u002fLte0NEMwwj+ETINirPjHPy9LZArukcw\\u002f3FqTYyegzz8UJaL51mzQPwD2h9YtBtA\\u002fA0KfHNEhzT9YDJFVZSLIP\\u002fTKY3SNNsE\\u002fHuEw2jFNsT8cZKEHpHSCv5bdNGdyZbe\\u002f9hkgSFJmxr9Kn4wcIE\\u002fQv4rPraDn19S\\u002faK19jNh42L+7DLWBROLavyrwTE2pzdu\\u002fwZ3FiJoB27+x\\u002foi5LFXYv3qar2CystO\\u002f52JIXEYzyr\\u002f3LT34PX6yv0ZqizjIP7Y\\u002fRmRzPmI00T+ADlJYevrdP0zwLtKdv+U\\u002fv0bbIeap7D+iqZlifcDxP9s20eBDBPU\\u002fCGVlz8cC+D9UwZmYeqD6P7XFdJ\\u002fwxPw\\u002f2JNGW\\u002fNb\\u002fj9EwrWWZVb\\u002fP3cV89Tuqv8\\u002fRMK1lmVW\\u002fz\\u002fYk0Zb81v+P7XFdJ\\u002fwxPw\\u002fVMGZmHqg+j8IZWXPxwL4P9s20eBDBPU\\u002foqmZYn3A8T+\\u002fRtsh5qnsP0zwLtKdv+U\\u002fgA5SWHr63T9GZHM+YjTRP0ZqizjIP7Y\\u002f9y09+D1+sr\\u002fnYkhcRjPKv3qar2CystO\\u002fsf6IuSxV2L\\u002fBncWImgHbvyrwTE2pzdu\\u002fuwy1gUTi2r9orX2M2HjYv4rPraDn19S\\u002fSp+MHCBP0L\\u002f2GSBIUmbGv5bdNGdyZbe\\u002fHGShB6R0gr8e4TDaMU2xP\\u002fTKY3SNNsE\\u002fWAyRVWUiyD8DQp8c0SHNPwD2h9YtBtA\\u002fFCWi+dZs0D\\u002fcWpNjJ6DPPy9LZArukcw\\u002fhEyDYqz4xz8u17Q0QzDCP5YsVEyDQbc\\u002fsbqOJfPfoj8+RbA67uaQv6gbQAnD7rC\\u002f0wsBnFpavL9fSBoJY2Sxv8mFg2fz\\u002f5K\\u002fQ5eBZBPAoT8FLZ9pOrC2P1y72xej68E\\u002fTNyJIBC9xz\\u002fAwHY7YmTMP5RLQiJ8hc8\\u002fAdReHRRr0D8pgGR5shHQP0vZOsGoVc0\\u002fKr7Ar9dzyD+wBss0tKTBP1zAK9RQXbI\\u002f1EbrjrREcb8iMQe51Q62vwfODWrYtcW\\u002fwKsp4pDzz79Z4MWG04vUv4pYUxQmPdi\\u002fAxal36O+2r9r9H9dJsrbv6zhuRtfJtu\\u002fqBU5rz2q2L\\u002fFUr7jqT\\u002fUv4QgWCvVysu\\u002fWIja4W3Atr9RJfuRgdewP0+\\u002f9KLpGs8\\u002f+r0az\\u002fME3D96KaSojJ3kP9aT3VxtYes\\u002fbMR5rvUJ8T91SjhyzDz0P8\\u002f1hlcpLPc\\u002frxl7QOG8+T8vSM8L39b7P\\u002fZ\\u002fMr8yZv0\\u002f2JNGW\\u002fNb\\u002fj\\u002fwBUt06K7+P9iTRlvzW\\u002f4\\u002f9n8yvzJm\\u002fT8vSM8L39b7P68Ze0DhvPk\\u002fz\\u002fWGVyks9z91SjhyzDz0P2zEea71CfE\\u002f1pPdXG1h6z96KaSojJ3kP\\u002fq9Gs\\u002fzBNw\\u002fT7\\u002f0oukazz9RJfuRgdewP1iI2uFtwLa\\u002fhCBYK9XKy7\\u002fFUr7jqT\\u002fUv6gVOa89qti\\u002frOG5G18m279r9H9dJsrbvwMWpd+jvtq\\u002filhTFCY92L9Z4MWG04vUv8CrKeKQ88+\\u002fB84Nati1xb8iMQe51Q62v9RG6460RHG\\u002fXMAr1FBdsj+wBss0tKTBPyq+wK\\u002fXc8g\\u002fS9k6wahVzT8pgGR5shHQPwHUXh0Ua9A\\u002flEtCInyFzz\\u002fAwHY7YmTMP0zciSAQvcc\\u002fXLvbF6PrwT8FLZ9pOrC2P0OXgWQTwKE\\u002fyYWDZ\\u002fP\\u002fkr9fSBoJY2SxvxHLK3DL97y\\u002fDokVbb4msr+7jX2fNnqWv6X15hm4wp8\\u002fhG2kItG9tT8Jf9q2qHjBPxSug7KYWMc\\u002fROvoK9IWzD\\u002fVhZds2lbPPwAYv1jOZtA\\u002fdEd0tVkj0D\\u002f2zboVr6jNP1HBy9MU+Mg\\u002fArLihd5Ywj8aiuZLshy0P3cDqpfhVG4\\u002f5pxyYbPWs79TB1Aey4\\u002fEv10tk4lj1c6\\u002fwWws6hIL1L8FdWirX9bXv+xbLi1vftq\\u002fyeh657S9279kj5IaF1vbv+qcQBtMLdm\\u002fhyrWsY8d1b\\u002fNCfSYElPOv0SLYNcVkb2\\u002fFtAE5nxOoD\\u002fFzlMj6MfJP4R9krQX29g\\u002fhAbDMmbI4j\\u002frFovOf03pP63ifT8pxO8\\u002fV58UYjf58j+PBC++yc\\u002f1P3A0dP5DS\\u002fg\\u002fcRAjGx9U+j8vSM8L39b7P7XFdJ\\u002fwxPw\\u002fvL5UHlAV\\u002fT+1xXSf8MT8Py9Izwvf1vs\\u002fcRAjGx9U+j9wNHT+Q0v4P48EL77Jz\\u002fU\\u002fV58UYjf58j+t4n0\\u002fKcTvP+sWi85\\u002fTek\\u002fhAbDMmbI4j+EfZK0F9vYP8XOUyPox8k\\u002fFtAE5nxOoD9Ei2DXFZG9v80J9JgSU86\\u002fhyrWsY8d1b\\u002fqnEAbTC3Zv2SPkhoXW9u\\u002fyeh657S927\\u002fsWy4tb37avwV1aKtf1te\\u002fwWws6hIL1L9dLZOJY9XOv1MHUB7Lj8S\\u002f5pxyYbPWs793A6qX4VRuPxqK5kuyHLQ\\u002fArLihd5Ywj9RwcvTFPjIP\\u002fbNuhWvqM0\\u002fdEd0tVkj0D8AGL9YzmbQP9WFl2zaVs8\\u002fROvoK9IWzD8UroOymFjHPwl\\u002f2raoeME\\u002fhG2kItG9tT+l9eYZuMKfP7uNfZ82epa\\u002fDokVbb4msr8j9cPL9c+9v8OcWXNAM7O\\u002f7\\u002ft9Wz9Om7+PAS69PIuaP8xo6DoAarQ\\u002fnPdhpn\\u002fWwD9PO2p1rsnGP2aNNzjZpss\\u002fLiI6lxERzz+fUnEsDl7QPwiZ9vjaONA\\u002fSwCr5NwVzj+dj4tz3KnJP944c2bhTcM\\u002fvVn3ceqBtj8Xg\\u002fmNEPWNP3u8SR\\u002fgwbC\\u002fVcfEDqH0wr+6J9QDokHNv+mRRpwDU9O\\u002fLWs5Afk\\u002f17\\u002fyOE2N3Brav4HR7Nf7ntu\\u002ffFHdjoyT27+7SYa5\\u002fc7Zv7SJsk2mOda\\u002fs6VqUarP0L\\u002fEFkd48kPDv\\u002fCTY6htyoq\\u002fWKiLYV6zwj+TA12DkKLUP0KAchjhVOA\\u002f0cYlgaCE5j+\\u002fRtsh5qnsP9zYrtlhRvE\\u002fNE2AkzP78z8q2\\u002fpkwFn2P3A0dP5DS\\u002fg\\u002frxl7QOG8+T9UwZmYeqD6P+4MCY9U7fo\\u002fVMGZmHqg+j+vGXtA4bz5P3A0dP5DS\\u002fg\\u002fKtv6ZMBZ9j80TYCTM\\u002fvzP9zYrtlhRvE\\u002fv0bbIeap7D\\u002fRxiWBoITmP0KAchjhVOA\\u002fkwNdg5Ci1D9YqIthXrPCP\\u002fCTY6htyoq\\u002fxBZHePJDw7+zpWpRqs\\u002fQv7SJsk2mOda\\u002fu0mGuf3O2b98Ud2OjJPbv4HR7Nf7ntu\\u002f8jhNjdwa2r8tazkB+T\\u002fXv+mRRpwDU9O\\u002fuifUA6JBzb9Vx8QOofTCv3u8SR\\u002fgwbC\\u002fF4P5jRD1jT+9Wfdx6oG2P944c2bhTcM\\u002fnY+Lc9ypyT9LAKvk3BXOPwiZ9vjaONA\\u002fn1JxLA5e0D8uIjqXERHPP2aNNzjZpss\\u002fTztqda7Jxj+c92Gmf9bAP8xo6DoAarQ\\u002fjwEuvTyLmj\\u002fv+31bP06bv8OcWXNAM7O\\u002f8I4CK4fevr8gsfl7MYa0v\\u002fX6AQV+uKC\\u002fKuRMCJrfkz\\u002fZSQG\\u002fo7SyP4KtwMEjBMA\\u002fEnIlGkAOxj\\u002fktBlsSRHLPygLxP7Vr84\\u002fA7dvACdO0D+NAVbCFE\\u002fQPyJaqaI+ls4\\u002f\\u002ff8lxNqByj9ltBLXcHzEP3uDYIVwf7k\\u002fl+7frmcRnT+NWrX0JLCpv2N4y7er5cC\\u002fk2cPTUU2y79cUOO7iGDSv9KIuVZLdNa\\u002fL9njMkqL2b+GZXhY72Hbv\\u002f76rd3fv9u\\u002fPrNbxz172r\\u002fuUyLPTXvXv2TW9edautK\\u002f8unSDnWNyL+5x8c9fguxvx2XKGwpbrQ\\u002fT7\\u002f0oukazz\\u002f4w1eBI73aP\\u002f3DRevQJOM\\u002fYcDrsmjl6D\\u002fLMF9v8GruP6KpmWJ9wPE\\u002fNE2AkzP78z+PBC++yc\\u002f1P8\\u002f1hlcpLPc\\u002fCGVlz8cC+D9wNHT+Q0v4PwhlZc\\u002fHAvg\\u002fz\\u002fWGVyks9z+PBC++yc\\u002f1PzRNgJMz+\\u002fM\\u002foqmZYn3A8T\\u002fLMF9v8GruP2HA67Jo5eg\\u002f\\u002fcNF69Ak4z\\u002f4w1eBI73aP0+\\u002f9KLpGs8\\u002fHZcobClutD+5x8c9fguxv\\u002fLp0g51jci\\u002fZNb151q60r\\u002fuUyLPTXvXvz6zW8c9e9q\\u002f\\u002fvqt3d+\\u002f27+GZXhY72Hbvy\\u002fZ4zJKi9m\\u002f0oi5Vkt01r9cUOO7iGDSv5NnD01FNsu\\u002fY3jLt6vlwL+NWrX0JLCpv5fu365nEZ0\\u002fe4NghXB\\u002fuT9ltBLXcHzEP\\u002f3\\u002fJcTagco\\u002fIlqpoj6Wzj+NAVbCFE\\u002fQPwO3bwAnTtA\\u002fKAvE\\u002ftWvzj\\u002fktBlsSRHLPxJyJRpADsY\\u002fgq3AwSMEwD\\u002fZSQG\\u002fo7SyPyrkTAia35M\\u002f9foBBX64oL8gsfl7MYa0v7kCdM7sDsC\\u002fFaW9EZ8atr+E4+qYmGmkv4D3CNJ2kYc\\u002f\\u002fWJvFfidsD8GyJZ4CgG+P8Hrbi3rI8U\\u002f9hoL5FZSyj9pRDQP7S3OP4rxjhDMM9A\\u002fkvo4uB5i0D+ZT77SDiHPP70+kk60dss\\u002f2G9vsRfbxT+2R0akWgO9Pw40L7+k6KY\\u002f0U9YZGxJoL8lLvoCX8u8v5ROulIjssi\\u002fBq5RHJAw0b+Tc6wAPW3Vv8UJlHELxti\\u002fX6Yqp8b42r8q8ExNqc3bvxOdprmMGtu\\u002fA+De0oPF2L\\u002fmHs4\\u002fvMbUv80J9JgSU86\\u002fD4ac1AwZwL+UB7GkT813P0ffW02Zr8M\\u002fgMq2sSoN1D+Cd0xJS6TeP3oppKiMneQ\\u002fq9zkhVm26T\\u002fLMF9v8GruP9zYrtlhRvE\\u002fV58UYjf58j91SjhyzDz0P9s20eBDBPU\\u002fXZ4dEqdH9T\\u002fbNtHgQwT1P3VKOHLMPPQ\\u002fV58UYjf58j\\u002fc2K7ZYUbxP8swX2\\u002fwau4\\u002fq9zkhVm26T96KaSojJ3kP4J3TElLpN4\\u002fgMq2sSoN1D9H31tNma\\u002fDP5QHsaRPzXc\\u002fD4ac1AwZwL\\u002fNCfSYElPOv+Yezj+8xtS\\u002fA+De0oPF2L8Tnaa5jBrbvyrwTE2pzdu\\u002fX6Yqp8b42r\\u002fFCZRxC8bYv5NzrAA9bdW\\u002fBq5RHJAw0b+UTrpSI7LIvyUu+gJfy7y\\u002f0U9YZGxJoL8ONC+\\u002fpOimP7ZHRqRaA70\\u002f2G9vsRfbxT+9PpJOtHbLP5lPvtIOIc8\\u002fkvo4uB5i0D+K8Y4QzDPQP2lENA\\u002ftLc4\\u002f9hoL5FZSyj\\u002fB624t6yPFPwbIlngKAb4\\u002f\\u002fWJvFfidsD+A9wjSdpGHP4Tj6piYaaS\\u002fFaW9EZ8atr9fvoVgc8PAv\\u002flWqr9A6re\\u002fs9Abf2ewqL8UmfJX6ZtiPzn73iLJTaw\\u002fC7fVgmqVuz\\u002fpagbfLgjEPxpH3ePOZck\\u002f5aDBGWaFzT81u6YMLAvQPxP\\u002fQW5ibdA\\u002fPCZu6Nyrzz8Gd0BtHH3MPwP8SEE3Xsc\\u002fuu0oZpB7wD9e03D8VTqwP4AD8n+MvoW\\u002fqtIstBrztr8Hzg1q2LXFvxXB+NJWgc+\\u002fTj7xXAMl1L9UunHAV8HXv+iCeRwcVdq\\u002f9fHAo02p2798Ud2OjJPbv+xdMAiq+Nm\\u002fTy5jHYbO1r\\u002fGtOieIR3Sv820pcSj\\u002fce\\u002f9y09+D1+sr8fjBg72iSuP8XOUyPox8k\\u002fCBSW\\u002fCZq1j8CYhaA7fvfP3oppKiMneQ\\u002fYcDrsmjl6D+\\u002fRtsh5qnsP63ifT8pxO8\\u002fbMR5rvUJ8T+iqZlifcDxPyi498Qt\\u002fvE\\u002foqmZYn3A8T9sxHmu9QnxP63ifT8pxO8\\u002fv0bbIeap7D9hwOuyaOXoP3oppKiMneQ\\u002fAmIWgO373z8IFJb8JmrWP8XOUyPox8k\\u002fH4wYO9okrj\\u002f3LT34PX6yv820pcSj\\u002fce\\u002fxrToniEd0r9PLmMdhs7Wv+xdMAiq+Nm\\u002ffFHdjoyT27\\u002f18cCjTanbv+iCeRwcVdq\\u002fVLpxwFfB179OPvFcAyXUvxXB+NJWgc+\\u002fB84Nati1xb+q0iy0GvO2v4AD8n+MvoW\\u002fXtNw\\u002fFU6sD+67ShmkHvAPwP8SEE3Xsc\\u002fBndAbRx9zD88Jm7o3KvPPxP\\u002fQW5ibdA\\u002fNbumDCwL0D\\u002floMEZZoXNPxpH3ePOZck\\u002f6WoG3y4IxD8Lt9WCapW7Pzn73iLJTaw\\u002fFJnyV+mbYj+z0Bt\\u002fZ7Cov\\u002flWqr9A6re\\u002fivofUp6Iwb9ARGVQXO25v0Ce4mAcgK2\\u002f0eKJ2prcgL\\u002fjccL5oKKmP4d+IHEzxLg\\u002ff2rx2Ke4wj9A1+3VWUfIP\\u002fSfzL3fr8w\\u002f3FqTYyegzz\\u002fc2uKcu2vQP+MFE7xhFdA\\u002fBq4m0\\u002fqHzT9RwcvTFPjIP8TGfuO7n8I\\u002fLEnoHP98tT8RBLgN9siKP8cpK\\u002fLZUbC\\u002fQq3qG7hEwr94kHLpYR\\u002fMv+\\u002fxsBbxltK\\u002f0oi5Vkt01r+C7gW0JGnZv5BLCMNwP9u\\u002fbOVCHLLM27+XXZImefTav6gVOa89qti\\u002f17tvxnfy1L8StZrXy8XPv8QWR3jyQ8O\\u002fSchH4Vsro79Gaos4yD+2Pz7jyikr4ss\\u002fCBSW\\u002fCZq1j+Cd0xJS6TeP\\u002f3DRevQJOM\\u002f0cYlgaCE5j\\u002frFovOf03pP9aT3VxtYes\\u002fv0bbIeap7D9GtNHq9hjtP79G2yHmqew\\u002f1pPdXG1h6z\\u002frFovOf03pP9HGJYGghOY\\u002f\\u002fcNF69Ak4z+Cd0xJS6TePwgUlvwmatY\\u002fPuPKKSviyz9Gaos4yD+2P0nIR+FbK6O\\u002fxBZHePJDw78StZrXy8XPv9e7b8Z38tS\\u002fqBU5rz2q2L+XXZImefTav2zlQhyyzNu\\u002fkEsIw3A\\u002f27+C7gW0JGnZv9KIuVZLdNa\\u002f7\\u002fGwFvGW0r94kHLpYR\\u002fMv0Kt6hu4RMK\\u002fxykr8tlRsL8RBLgN9siKPyxJ6Bz\\u002ffLU\\u002fxMZ+47ufwj9RwcvTFPjIPwauJtP6h80\\u002f4wUTvGEV0D\\u002fc2uKcu2vQP9xak2MnoM8\\u002f9J\\u002fMvd+vzD9A1+3VWUfIP39q8dinuMI\\u002fh34gcTPEuD\\u002fjccL5oKKmP9Hiidqa3IC\\u002fQJ7iYByArb9ARGVQXO25vwLdqIl7WcK\\u002frP2Ag6wavL9fSBoJY2Sxv1d8+m\\u002fHZJS\\u002fFIkcpf1AoD\\u002fOKci0TI21P\\u002fO4U4hTM8E\\u002f3Fjx88byxj9mjTc42abLP1mIhNku\\u002fM4\\u002fmepIZKBX0D+Gfb0fWEjQP+NQmk+kiM4\\u002f2wEfcfuYyj\\u002f9UoGQKt7EP5fbQVRpHbs\\u002fLJS\\u002fT+Tkoz+HR1+XV\\u002fuhvyUu+gJfy7y\\u002fXhYkUq48yL\\u002fAYZZsQcDQv4rPraDn19S\\u002f65YvvOoo2L\\u002fsWy4tb37av+JTCm0Brtu\\u002fTZTNewOa27+LXF3PgDPav+5TIs9Ne9e\\u002fvTnjBmGC078\\u002f2h62vNLMv3YBwVquvsC\\u002fo+V+n8\\u002f8mb9Gaos4yD+2P8XOUyPox8k\\u002fgMq2sSoN1D\\u002f4w1eBI73aP0KAchjhVOA\\u002fhAbDMmbI4j96KaSojJ3kP0zwLtKdv+U\\u002f7K25kMEh5j9M8C7Snb\\u002flP3oppKiMneQ\\u002fhAbDMmbI4j9CgHIY4VTgP\\u002fjDV4Ejvdo\\u002fgMq2sSoN1D\\u002fFzlMj6MfJP0ZqizjIP7Y\\u002fo+V+n8\\u002f8mb92AcFarr7Avz\\u002faHra80sy\\u002fvTnjBmGC07\\u002fuUyLPTXvXv4tcXc+AM9q\\u002fTZTNewOa27\\u002fiUwptAa7bv+xbLi1vftq\\u002f65YvvOoo2L+Kz62g59fUv8BhlmxBwNC\\u002fXhYkUq48yL8lLvoCX8u8v4dHX5dX+6G\\u002fLJS\\u002fT+Tkoz+X20FUaR27P\\u002f1SgZAq3sQ\\u002f2wEfcfuYyj\\u002fjUJpPpIjOP4Z9vR9YSNA\\u002fmepIZKBX0D9ZiITZLvzOP2aNNzjZpss\\u002f3Fjx88byxj\\u002fzuFOIUzPBP84pyLRMjbU\\u002fFIkcpf1AoD9XfPpvx2SUv19IGgljZLG\\u002frP2Ag6wavL8oBZcZYDDDv5ulRplNZ76\\u002fsQ\\u002f53307tL\\u002f1+gEFfrigv4V8TaqwZZI\\u002f7l3DrjHysT8j7tt2se2+PyLvhsxfZMU\\u002f74DTUA5kyj8NjD+FhyHOP644EttRK9A\\u002ftNgx7t9n0D+Tr2tRKm\\u002fPP\\u002fpjF0p3L8w\\u002fy56wCZYkxz+67ShmkHvAP3SkZsXg8bA\\u002f1EbrjrREcb+poLIRB0i0v9nkTTN738O\\u002fuifUA6JBzb+djWJ+AejSv2Ijct52i9a\\u002fYow9v8ZX2b8gl9KCuiLbvyrwTE2pzdu\\u002fsbM5ykRH27+H2zyIvozZvxYVqz80qta\\u002fZNb151q60r+EIFgr1crLv3YBwVquvsC\\u002fSchH4Vsro78fjBg72iSuP0ffW02Zr8M\\u002fT7\\u002f0oukazz+TA12DkKLUP4R9krQX29g\\u002f+r0az\\u002fME3D+ADlJYevrdP4J3TElLpN4\\u002fgA5SWHr63T\\u002f6vRrP8wTcP4R9krQX29g\\u002fkwNdg5Ci1D9Pv\\u002fSi6RrPP0ffW02Zr8M\\u002fH4wYO9okrj9JyEfhWyujv3YBwVquvsC\\u002fhCBYK9XKy79k1vXnWrrSvxYVqz80qta\\u002fh9s8iL6M2b+xsznKREfbvyrwTE2pzdu\\u002fIJfSgroi279ijD2\\u002fxlfZv2Ijct52i9a\\u002fnY1ifgHo0r+6J9QDokHNv9nkTTN738O\\u002fqaCyEQdItL\\u002fURuuOtERxv3SkZsXg8bA\\u002fuu0oZpB7wD\\u002fLnrAJliTHP\\u002fpjF0p3L8w\\u002fk69rUSpvzz+02DHu32fQP644EttRK9A\\u002fDYw\\u002fhYchzj\\u002fvgNNQDmTKPyLvhsxfZMU\\u002fI+7bdrHtvj\\u002fuXcOuMfKxP4V8TaqwZZI\\u002f9foBBX64oL+xD\\u002fnffTu0v5ulRplNZ76\\u002fTF22oe0GxL\\u002f5LzekWWPAv0WvyRDMObe\\u002fwhCy5fO1p79BlupBNmVoP8A4OY7V7Ks\\u002fJhtm46UFuz\\u002fDEog2QZnDP+RMh97b4cg\\u002fGni9m6cHzT827ttYKcLPPxQlovnWbNA\\u002f4wUTvGEV0D\\u002f2zboVr6jNP0eoZTu4Xsk\\u002fLx0QEDFwwz8rKNM+ay64P5fu365nEZ0\\u002fxzIfiVw\\u002fpr88nIHTXSe+v+UdHTlrd8i\\u002fARUcFgyk0L9Z4MWG04vUv1S6ccBXwde\\u002f8jhNjdwa2r\\u002f1I9QD4njbv9DBo3Tox9u\\u002fwZ3FiJoB27\\u002fqnEAbTC3Zv3bS1U\\u002fFX9a\\u002fZNb151q60r8\\u002f2h62vNLMv8QWR3jyQ8O\\u002f9y09+D1+sr+UB7GkT813Px2XKGwpbrQ\\u002fWKiLYV6zwj\\u002fFzlMj6MfJP0+\\u002f9KLpGs8\\u002fRmRzPmI00T9Z1OnMu8PRP0Zkcz5iNNE\\u002fT7\\u002f0oukazz\\u002fFzlMj6MfJP1ioi2Fes8I\\u002fHZcobClutD+UB7GkT813P\\u002fctPfg9frK\\u002fxBZHePJDw78\\u002f2h62vNLMv2TW9edautK\\u002fdtLVT8Vf1r\\u002fqnEAbTC3Zv8GdxYiaAdu\\u002f0MGjdOjH27\\u002f1I9QD4njbv\\u002fI4TY3cGtq\\u002fVLpxwFfB179Z4MWG04vUvwEVHBYMpNC\\u002f5R0dOWt3yL88nIHTXSe+v8cyH4lcP6a\\u002fl+7frmcRnT8rKNM+ay64Py8dEBAxcMM\\u002fR6hlO7heyT\\u002f2zboVr6jNP+MFE7xhFdA\\u002fFCWi+dZs0D827ttYKcLPPxp4vZunB80\\u002f5EyH3tvhyD\\u002fDEog2QZnDPyYbZuOlBbs\\u002fwDg5jtXsqz9BlupBNmVoP8IQsuXztae\\u002fRa\\u002fJEMw5t7\\u002f5LzekWWPAv3Au1y4e1sS\\u002fNfR93VWVwb\\u002f4IIm6xlG6v2naienWEq+\\u002fdatcJ4TGir\\u002fBjAhcAkCjPwUtn2k6sLY\\u002fMsCglraPwT9P6f8DqhvHP2aNNzjZpss\\u002fepc72+Hmzj+\\u002f2lqLLFDQP5X1X+4mVdA\\u002fq9lPud3wzj+9PpJOtHbLP6oun0FcVcY\\u002fFkv0LLF4vz+oqv2XObyvP76HkAgPzXe\\u002f5pxyYbPWs7+Le20GUC\\u002fDv3iQculhH8y\\u002fPmmjv9gp0r8FGOqPabbVv\\u002fbg5vdnjNi\\u002fJ3J8fL+L2r+B0ezX+57bv5GsimV2vNu\\u002f+FnHhObm2r\\u002fqnEAbTC3ZvxYVqz80qta\\u002fvTnjBmGC078StZrXy8XPv820pcSj\\u002fce\\u002fD4ac1AwZwL+5x8c9fguxv\\u002fCTY6htyoq\\u002fFtAE5nxOoD9RJfuRgdewP0ZqizjIP7Y\\u002feRxJkqAVuD9Gaos4yD+2P1El+5GB17A\\u002fFtAE5nxOoD\\u002fwk2OobcqKv7nHxz1+C7G\\u002fD4ac1AwZwL\\u002fNtKXEo\\u002f3HvxK1mtfLxc+\\u002fvTnjBmGC078WFas\\u002fNKrWv+qcQBtMLdm\\u002f+FnHhObm2r+RrIpldrzbv4HR7Nf7ntu\\u002fJ3J8fL+L2r\\u002f24Ob3Z4zYvwUY6o9pttW\\u002fPmmjv9gp0r94kHLpYR\\u002fMv4t7bQZQL8O\\u002f5pxyYbPWs7++h5AID813v6iq\\u002fZc5vK8\\u002fFkv0LLF4vz+qLp9BXFXGP70+kk60dss\\u002fq9lPud3wzj+V9V\\u002fuJlXQP7\\u002faWossUNA\\u002fepc72+Hmzj9mjTc42abLP0\\u002fp\\u002fwOqG8c\\u002fMsCglraPwT8FLZ9pOrC2P8GMCFwCQKM\\u002fdatcJ4TGir9p2onp1hKvv\\u002fggibrGUbq\\u002fNfR93VWVwb+zpE\\u002fiV5bFv+S9iIS5wcK\\u002fi1b3ge1zvb9ePll6Q1mzv2l7lLl\\u002fuZ6\\u002fKuRMCJrfkz\\u002fuXcOuMfKxP+4ejmUnj74\\u002fW\\u002fsBaFgOxT8VyPFUt\\u002fjJP07kEUbvus0\\u002fNbumDCwL0D\\u002fhBSDfdG7QP21J+z\\u002fs888\\u002fS9k6wahVzT9YzzPoABLJP944c2bhTcM\\u002fxoXNfCiDuD9g9soEHdigP4dHX5dX+6G\\u002fMTdmeNf8ur\\u002f2GSBIUmbGv10tk4lj1c6\\u002fiFHCpmE407\\u002fSiLlWS3TWv60IOMIU\\u002fti\\u002fAxal36O+2r\\u002f18cCjTanbv5GsimV2vNu\\u002fwZ3FiJoB27+H2zyIvozZv+5TIs9Ne9e\\u002f17tvxnfy1L\\u002fGtOieIR3Sv80J9JgSU86\\u002f8unSDnWNyL\\u002fEFkd48kPDv0SLYNcVkb2\\u002fWIja4W3Atr\\u002f3LT34PX6yv7nHxz1+C7G\\u002f9y09+D1+sr9YiNrhbcC2v0SLYNcVkb2\\u002fxBZHePJDw7\\u002fy6dIOdY3Iv80J9JgSU86\\u002fxrToniEd0r\\u002fXu2\\u002fGd\\u002fLUv+5TIs9Ne9e\\u002fh9s8iL6M2b\\u002fBncWImgHbv5GsimV2vNu\\u002f9fHAo02p278DFqXfo77av60IOMIU\\u002fti\\u002f0oi5Vkt01r+IUcKmYTjTv10tk4lj1c6\\u002f9hkgSFJmxr8xN2Z41\\u002fy6v4dHX5dX+6G\\u002fYPbKBB3YoD\\u002fGhc18KIO4P944c2bhTcM\\u002fWM8z6AASyT9L2TrBqFXNP21J+z\\u002fs888\\u002f4QUg33Ru0D81u6YMLAvQP07kEUbvus0\\u002fFcjxVLf4yT9b+wFoWA7FP+4ejmUnj74\\u002f7l3DrjHysT8q5EwImt+TP2l7lLl\\u002fuZ6\\u002fXj5ZekNZs7+LVveB7XO9v+S9iIS5wcK\\u002fz6SRcok\\u002fxr\\u002fXvQkm7d\\u002fDv7\\u002f8+RxrR8C\\u002fRa\\u002fJEMw5t7\\u002f4XvHDEV2ov7mZlGdYkiQ\\u002f+Gu5U7CnqT8AEgBzEYW5P39q8dinuMI\\u002fhEyDYqz4xz+PbP5sFzbMP73GGKicL88\\u002fqzggh1RZ0D+NAVbCFE\\u002fQP0R9+URp5M4\\u002f7FtXaOyLyz+5qTQJOa\\u002fGP7rtKGaQe8A\\u002fXMAr1FBdsj9orPM9QjiBP6sq2wGnBa6\\u002f\\u002fpeWOp02wL+UTrpSI7LIv0qfjBwgT9C\\u002fPmxIEuzW078c1UGnLtDWvwLC0gWGItm\\u002fAxal36O+2r+B0ezX+57bv9DBo3Tox9u\\u002fsbM5ykRH27+LXF3PgDPav6gVOa89qti\\u002fTy5jHYbO1r\\u002fmHs4\\u002fvMbUv2TW9edautK\\u002fs6VqUarP0L\\u002fNCfSYElPOv4QgWCvVysu\\u002f52JIXEYzyr\\u002fa3Yv+Q6jJv+diSFxGM8q\\u002fhCBYK9XKy7\\u002fNCfSYElPOv7OlalGqz9C\\u002fZNb151q60r\\u002fmHs4\\u002fvMbUv08uYx2Gzta\\u002fqBU5rz2q2L+LXF3PgDPav7GzOcpER9u\\u002f0MGjdOjH27+B0ezX+57bvwMWpd+jvtq\\u002fAsLSBYYi2b8c1UGnLtDWvz5sSBLs1tO\\u002fSp+MHCBP0L+UTrpSI7LIv\\u002f6XljqdNsC\\u002fqyrbAacFrr9orPM9QjiBP1zAK9RQXbI\\u002fuu0oZpB7wD+5qTQJOa\\u002fGP+xbV2jsi8s\\u002fRH35RGnkzj+NAVbCFE\\u002fQP6s4IIdUWdA\\u002fvcYYqJwvzz+PbP5sFzbMP4RMg2Ks+Mc\\u002ff2rx2Ke4wj8AEgBzEYW5P\\u002fhruVOwp6k\\u002fuZmUZ1iSJD\\u002f4XvHDEV2ov0WvyRDMObe\\u002fv\\u002fz5HGtHwL\\u002fXvQkm7d\\u002fDv8gt1URQyca\\u002fMNvxZsLmxL\\u002fk4tCJqsfBv8Yl+o72F7u\\u002fbOjh+mLHsL9XfPpvx2SUv4XO\\u002fp2ihZ0\\u002fnKjPYtcItD8N27IXnBvAP8YVIt1spMU\\u002f9hoL5FZSyj\\u002fFHadHHeLNP+hZLA+nDtA\\u002fbU8eGY1u0D8A9ofWLQbQP\\u002fbNuhWvqM0\\u002fqSQYA4\\u002fCyT9ltBLXcHzEP8oJLc7dEbw\\u002fJ3JBgmegqj+AA\\u002fJ\\u002fjL6Fv1oj1k2HZbO\\u002fBHvhcSIKwr+fntk89BHKv8BhlmxBwNC\\u002fwWws6hIL1L8c1UGnLtDWv60IOMIU\\u002fti\\u002fJ3J8fL+L2r\\u002f1I9QD4njbvyrwTE2pzdu\\u002fTZTNewOa27+XXZImefTav+xdMAiq+Nm\\u002fA+De0oPF2L\\u002fuUyLPTXvXv7SJsk2mOda\\u002fhyrWsY8d1b\\u002fFUr7jqT\\u002fUv3qar2CystO\\u002fvTnjBmGC0796mq9gsrLTv8VSvuOpP9S\\u002fhyrWsY8d1b+0ibJNpjnWv+5TIs9Ne9e\\u002fA+De0oPF2L\\u002fsXTAIqvjZv5ddkiZ59Nq\\u002fTZTNewOa278q8ExNqc3bv\\u002fUj1APieNu\\u002fJ3J8fL+L2r+tCDjCFP7YvxzVQacu0Na\\u002fwWws6hIL1L\\u002fAYZZsQcDQv5+e2Tz0Ecq\\u002fBHvhcSIKwr9aI9ZNh2Wzv4AD8n+MvoW\\u002fJ3JBgmegqj\\u002fKCS3O3RG8P2W0EtdwfMQ\\u002fqSQYA4\\u002fCyT\\u002f2zboVr6jNPwD2h9YtBtA\\u002fbU8eGY1u0D\\u002foWSwPpw7QP8Udp0cd4s0\\u002f9hoL5FZSyj\\u002fGFSLdbKTFPw3bshecG8A\\u002fnKjPYtcItD+Fzv6dooWdP1d8+m\\u002fHZJS\\u002fbOjh+mLHsL\\u002fGJfqO9he7v+Ti0Imqx8G\\u002fMNvxZsLmxL9Gxf91KCvHvz2V+oKezMW\\u002fKAWXGWAww7\\u002fwjgIrh96+vwGrCwsmZLW\\u002fIoY73K2+pL84J\\u002f4t+LR6Pzn73iLJTaw\\u002fHJtRD6B1uj9z5o9xZ\\u002fzCPwuv0vhtDMg\\u002fwzheM38mzD8uIjqXERHPP7\\u002faWossUNA\\u002fe2aA9zdc0D\\u002fn9cdAqE7PPwfMF\\u002fX0acw\\u002fWAyRVWUiyD\\u002fExn7ju5\\u002fCPyso0z5rLrg\\u002fWK8HjIkioz+8yjfhOyiYvyIxB7nVDra\\u002fVcfEDqH0wr9Va86L\\u002fYbKv8BhlmxBwNC\\u002fPmxIEuzW07\\u002fSiLlWS3TWv\\u002fbg5vdnjNi\\u002f8jhNjdwa2r8gl9KCuiLbv+JTCm0Brtu\\u002fbOVCHLLM2798Ud2OjJPbvxOdprmMGtu\\u002fPrNbxz172r+7SYa5\\u002fc7Zv+qcQBtMLdm\\u002fqBU5rz2q2L+x\\u002foi5LFXYv64e3N25N9i\\u002fsf6IuSxV2L+oFTmvParYv+qcQBtMLdm\\u002fu0mGuf3O2b8+s1vHPXvavxOdprmMGtu\\u002ffFHdjoyT279s5UIcsszbv+JTCm0Brtu\\u002fIJfSgroi27\\u002fyOE2N3Brav\\u002fbg5vdnjNi\\u002f0oi5Vkt01r8+bEgS7NbTv8BhlmxBwNC\\u002fVWvOi\\u002f2Gyr9Vx8QOofTCvyIxB7nVDra\\u002fvMo34TsomL9YrweMiSKjPyso0z5rLrg\\u002fxMZ+47ufwj9YDJFVZSLIPwfMF\\u002fX0acw\\u002f5\\u002fXHQKhOzz97ZoD3N1zQP7\\u002faWossUNA\\u002fLiI6lxERzz\\u002fDOF4zfybMPwuv0vhtDMg\\u002fc+aPcWf8wj8cm1EPoHW6Pzn73iLJTaw\\u002fOCf+Lfi0ej8ihjvcrb6kvwGrCwsmZLW\\u002f8I4CK4fevr8oBZcZYDDDvz2V+oKezMW\\u002fUlCTqKZcx78eN0cFsYfGv56ETj2odsS\\u002fkqy+EDE7wb9ARGVQXO25v70YWRXnYq+\\u002fPkWwOu7mkL+l9eYZuMKfP0iEM5dsObQ\\u002fgq3AwSMEwD8i74bMX2TFPxXI8VS3+Mk\\u002f5aDBGWaFzT\\u002f6Vd5sfdrPPwHUXh0Ua9A\\u002fQTTmMhcz0D\\u002fjUJpPpIjOP8voREG\\u002fS8s\\u002fU86ml9PMxj\\u002f0ymN0jTbBPyxJ6Bz\\u002ffLU\\u002fl+7frmcRnT9eHCF0MuKev6rSLLQa87a\\u002fVcfEDqH0wr+fntk89BHKv0qfjBwgT9C\\u002fiFHCpmE4078FGOqPabbVv1S6ccBXwde\\u002fYow9v8ZX2b\\u002fsWy4tb37av5BLCMNwP9u\\u002f9fHAo02p278q8ExNqc3bv\\u002f76rd3fv9u\\u002ffFHdjoyT279kj5IaF1vbv6zhuRtfJtu\\u002fwZ3FiJoB27+XXZImefTav8GdxYiaAdu\\u002frOG5G18m279kj5IaF1vbv3xR3Y6Mk9u\\u002f\\u002fvqt3d+\\u002f278q8ExNqc3bv\\u002fXxwKNNqdu\\u002fkEsIw3A\\u002f27\\u002fsWy4tb37av2KMPb\\u002fGV9m\\u002fVLpxwFfB178FGOqPabbVv4hRwqZhONO\\u002fSp+MHCBP0L+fntk89BHKv1XHxA6h9MK\\u002fqtIstBrztr9eHCF0MuKev5fu365nEZ0\\u002fLEnoHP98tT\\u002f0ymN0jTbBP1POppfTzMY\\u002fy+hEQb9Lyz\\u002fjUJpPpIjOP0E05jIXM9A\\u002fAdReHRRr0D\\u002f6Vd5sfdrPP+WgwRlmhc0\\u002fFcjxVLf4yT8i74bMX2TFP4KtwMEjBMA\\u002fSIQzl2w5tD+l9eYZuMKfPz5FsDru5pC\\u002fvRhZFedir79ARGVQXO25v5KsvhAxO8G\\u002fnoROPah2xL8eN0cFsYfGv\\u002f\\u002fgT9q6Vce\\u002fjyPgbjYOx78R7OEGUI\\u002fFvzV85iN+48K\\u002fKruLVT1Jvr898F5hk\\u002fW0v4Tj6piYaaS\\u002fUIqZWqPMdz+W5SznASurPwASAHMRhbk\\u002freB4Odtdwj8UroOymFjHP8VbdJuudcs\\u002fKCVW5fqBzj+uOBLbUSvQPxP\\u002fQW5ibdA\\u002fsyntNi8C0D9d0r\\u002fKetjNP8L4CoWNaso\\u002f2G9vsRfbxT\\u002fq3DJrqFXAPxqK5kuyHLQ\\u002fwizZw2L3mT9eHCF0MuKevyIxB7nVDra\\u002fBHvhcSIKwr+UTrpSI7LIv10tk4lj1c6\\u002fPmmjv9gp0r9Z4MWG04vUv2Ijct52i9a\\u002f65YvvOoo2L+C7gW0JGnZv+iCeRwcVdq\\u002fX6Yqp8b42r+GZXhY72Hbv4HR7Nf7ntu\\u002fyeh657S9279r9H9dJsrbvyrwTE2pzdu\\u002fcgDqNijO278q8ExNqc3bv2v0f10mytu\\u002fyeh657S927+B0ezX+57bv4ZleFjvYdu\\u002fX6Yqp8b42r\\u002fognkcHFXav4LuBbQkadm\\u002f65YvvOoo2L9iI3LedovWv1ngxYbTi9S\\u002fPmmjv9gp0r9dLZOJY9XOv5ROulIjssi\\u002fBHvhcSIKwr8iMQe51Q62v14cIXQy4p6\\u002fwizZw2L3mT8aiuZLshy0P+rcMmuoVcA\\u002f2G9vsRfbxT\\u002fC+AqFjWrKP13Sv8p62M0\\u002fsyntNi8C0D8T\\u002f0FuYm3QP644EttRK9A\\u002fKCVW5fqBzj\\u002fFW3SbrnXLPxSug7KYWMc\\u002freB4Odtdwj8AEgBzEYW5P5blLOcBK6s\\u002fUIqZWqPMdz+E4+qYmGmkvz3wXmGT9bS\\u002fKruLVT1Jvr81fOYjfuPCvxHs4QZQj8W\\u002fjyPgbjYOx78FmODj+g7Hv3sj0MrFVse\\u002fIx8txSJvxr9InOuhd1vEvz2HTZ8ZLsG\\u002fFJINE+4Our\\u002fncpf4Dimwv1d8+m\\u002fHZJS\\u002fjwEuvTyLmj+rzn9qB4SyPwbIlngKAb4\\u002fhSl4aUZKxD\\u002fkTIfe2+HIPy9LZArukcw\\u002fvcYYqJwvzz8Dt28AJ07QP39ZGyBqY9A\\u002fPCZu6Nyrzz9L2TrBqFXNP56l2NcU28k\\u002fWMZvwgZexT\\u002fOG9TCVgnAPxqK5kuyHLQ\\u002fl+7frmcRnT+8yjfhOyiYv1oj1k2HZbO\\u002f\\u002fpeWOp02wL\\u002f2GSBIUmbGv3iQculhH8y\\u002fARUcFgyk0L+djWJ+AejSv4rPraDn19S\\u002f0oi5Vkt01r9UunHAV8HXv8UJlHELxti\\u002fL9njMkqL2b\\u002fyOE2N3Brav+xbLi1vftq\\u002fAxal36O+2r+7DLWBROLavwBiPcml7dq\\u002fuwy1gUTi2r8DFqXfo77av+xbLi1vftq\\u002f8jhNjdwa2r8v2eMySovZv8UJlHELxti\\u002fVLpxwFfB17\\u002fSiLlWS3TWv4rPraDn19S\\u002fnY1ifgHo0r8BFRwWDKTQv3iQculhH8y\\u002f9hkgSFJmxr\\u002f+l5Y6nTbAv1oj1k2HZbO\\u002fvMo34TsomL+X7t+uZxGdPxqK5kuyHLQ\\u002fzhvUwlYJwD9Yxm\\u002fCBl7FP56l2NcU28k\\u002fS9k6wahVzT88Jm7o3KvPP39ZGyBqY9A\\u002fA7dvACdO0D+9xhionC\\u002fPPy9LZArukcw\\u002f5EyH3tvhyD+FKXhpRkrEPwbIlngKAb4\\u002fq85\\u002fageEsj+PAS69PIuaP1d8+m\\u002fHZJS\\u002f53KX+A4psL8Ukg0T7g66vz2HTZ8ZLsG\\u002fSJzroXdbxL8jHy3FIm\\u002fGv3sj0MrFVse\\u002fW6OmnvKBxr+IOWNup1jHvybXXZ1EC8e\\u002fs6RP4leWxb+Qq5AhxQTDv\\u002fCOAiuH3r6\\u002fIWoNNE\\u002f2tb+Yq70ULGKnvwKLYi5C91+\\u002f3umqJypCpj8FLZ9pOrC2P5z3YaZ\\u002f1sA\\u002f8SdnbOXOxT\\u002fwOsc5xwrKP1f20ARKXM0\\u002f3FqTYyegzz9d1ldOgF\\u002fQP3qr6k0HV9A\\u002fk69rUSpvzz\\u002fnwbtwMhDNP52Pi3Pcqck\\u002fWMZvwgZexT\\u002fq3DJrqFXAPyxJ6Bz\\u002ffLU\\u002fWK8HjIkioz+AA\\u002fJ\\u002fjL6Fv6sq2wGnBa6\\u002fMTdmeNf8ur+Le20GUC\\u002fDv+UdHTlrd8i\\u002fuifUA6JBzb\\u002fAYZZsQcDQv+\\u002fxsBbxltK\\u002fTj7xXAMl1L+Tc6wAPW3Vv9KIuVZLdNa\\u002fLWs5Afk\\u002f178FdWirX9bXv4pYUxQmPdi\\u002faK19jNh42L\\u002f24Ob3Z4zYv2itfYzYeNi\\u002filhTFCY92L8FdWirX9bXvy1rOQH5P9e\\u002f0oi5Vkt01r+Tc6wAPW3Vv04+8VwDJdS\\u002f7\\u002fGwFvGW0r\\u002fAYZZsQcDQv7on1AOiQc2\\u002f5R0dOWt3yL+Le20GUC\\u002fDvzE3ZnjX\\u002fLq\\u002fqyrbAacFrr+AA\\u002fJ\\u002fjL6Fv1ivB4yJIqM\\u002fLEnoHP98tT\\u002fq3DJrqFXAP1jGb8IGXsU\\u002fnY+Lc9ypyT\\u002fnwbtwMhDNP5Ova1Eqb88\\u002feqvqTQdX0D9d1ldOgF\\u002fQP9xak2MnoM8\\u002fV\\u002fbQBEpczT\\u002fwOsc5xwrKP\\u002fEnZ2zlzsU\\u002fnPdhpn\\u002fWwD8FLZ9pOrC2P97pqicqQqY\\u002fAotiLkL3X7+Yq70ULGKnvyFqDTRP9rW\\u002f8I4CK4fevr+Qq5AhxQTDv7OkT+JXlsW\\u002fJtddnUQLx7+IOWNup1jHv4taRAl3qcW\\u002f0H+zXjIMx7\\u002fMq0Tel1nHvx43RwWxh8a\\u002fTeFe6COaxL\\u002fMszqr\\u002f6HBv2EF0p+5ebu\\u002fDokVbb4msr9pe5S5f7mev2f0L1A894s\\u002fg+2LBtLRrT9qd5wiehW6P3XDC0gTR8I\\u002f3Fjx88byxj9yTBx0FN7KP8Udp0cd4s0\\u002fqevmfl\\u002fizz8AGL9YzmbQP40BVsIUT9A\\u002flxkEZ6dZzz\\u002fnwbtwMhDNP56l2NcU28k\\u002f2G9vsRfbxT\\u002f0ymN0jTbBPyso0z5rLrg\\u002fJ3JBgmegqj9orPM9QjiBP4dHX5dX+6G\\u002f5pxyYbPWs788nIHTXSe+v9nkTTN738O\\u002fXhYkUq48yL94kHLpYR\\u002fMvxXB+NJWgc+\\u002fBq5RHJAw0b9cUOO7iGDSv+mRRpwDU9O\\u002fwWws6hIL1L9Z4MWG04vUv4rPraDn19S\\u002fcM0oYg\\u002fx1L+Kz62g59fUv1ngxYbTi9S\\u002fwWws6hIL1L\\u002fpkUacA1PTv1xQ47uIYNK\\u002fBq5RHJAw0b8VwfjSVoHPv3iQculhH8y\\u002fXhYkUq48yL\\u002fZ5E0ze9\\u002fDvzycgdNdJ76\\u002f5pxyYbPWs7+HR1+XV\\u002fuhv2is8z1COIE\\u002fJ3JBgmegqj8rKNM+ay64P\\u002fTKY3SNNsE\\u002f2G9vsRfbxT+epdjXFNvJP+fBu3AyEM0\\u002flxkEZ6dZzz+NAVbCFE\\u002fQPwAYv1jOZtA\\u002fqevmfl\\u002fizz\\u002fFHadHHeLNP3JMHHQU3so\\u002f3Fjx88byxj91wwtIE0fCP2p3nCJ6Fbo\\u002fg+2LBtLRrT9n9C9QPPeLP2l7lLl\\u002fuZ6\\u002fDokVbb4msr9hBdKfuXm7v8yzOqv\\u002focG\\u002fTeFe6COaxL8eN0cFsYfGv8yrRN6XWce\\u002f0H+zXjIMx7\\u002fnR90s+YHEv\\u002fOaQBYta8a\\u002fevK14ilRx79F9Gx24yPHvyfNKDAS4MW\\u002fz44QkkmPw7+\\u002f\\u002fPkca0fAvy7PVbT+Uri\\u002fQJ7iYByArb8+RbA67uaQv2klrLalSZs\\u002f7l3DrjHysT\\u002fekDNLHrS8P5dBkK8\\u002fVsM\\u002fTNyJIBC9xz\\u002frDoedI2XLP2lENA\\u002ftLc4\\u002ft880omEA0D+c7GfrtmjQP40BVsIUT9A\\u002fk69rUSpvzz9L2TrBqFXNP8L4CoWNaso\\u002fU86ml9PMxj\\u002fExn7ju5\\u002fCP8oJLc7dEbw\\u002fXMAr1FBdsj9g9soEHdigP76HkAgPzXe\\u002fxzIfiVw\\u002fpr+poLIRB0i0vyUu+gJfy7y\\u002fQq3qG7hEwr8Hzg1q2LXFv5ROulIjssi\\u002fk2cPTUU2y7+6J9QDokHNv10tk4lj1c6\\u002fwKsp4pDzz79Kn4wcIE\\u002fQvygjfCF7a9C\\u002fSp+MHCBP0L\\u002fAqynikPPPv10tk4lj1c6\\u002fuifUA6JBzb+TZw9NRTbLv5ROulIjssi\\u002fB84Nati1xb9CreobuETCvyUu+gJfy7y\\u002fqaCyEQdItL\\u002fHMh+JXD+mv76HkAgPzXe\\u002fYPbKBB3YoD9cwCvUUF2yP8oJLc7dEbw\\u002fxMZ+47ufwj9TzqaX08zGP8L4CoWNaso\\u002fS9k6wahVzT+Tr2tRKm\\u002fPP40BVsIUT9A\\u002fnOxn67Zo0D+3zzSiYQDQP2lENA\\u002ftLc4\\u002f6w6HnSNlyz9M3IkgEL3HP5dBkK8\\u002fVsM\\u002f3pAzSx60vD\\u002fuXcOuMfKxP2klrLalSZs\\u002fPkWwOu7mkL9AnuJgHICtvy7PVbT+Uri\\u002fv\\u002fz5HGtHwL\\u002fPjhCSSY\\u002fDvyfNKDAS4MW\\u002fRfRsduMjx7968rXiKVHHv\\u002fOaQBYta8a\\u002f+pS0BdUJw78Wydq5LXHFv8QRXH2j6sa\\u002fza9zuJxgx7\\u002fILdVEUMnGv\\u002fDhPlkgJ8W\\u002fIz\\u002fHE1uIwr\\u002fb\\u002fhz+zQy+v+ndX0bTiLW\\u002fwhCy5fO1p78Xx+SNwlF2v7G6jiXz36I\\u002fSIQzl2w5tD\\u002fuHo5lJ4++P+lqBt8uCMQ\\u002f0LcyzMQzyD9mjTc42abLP5oYRP1tRs4\\u002ft880omEA0D8AGL9YzmbQP3qr6k0HV9A\\u002fPCZu6Nyrzz9d0r\\u002fKetjNP8voREG\\u002fS8s\\u002fWAyRVWUiyD9ltBLXcHzEP7rtKGaQe8A\\u002fxoXNfCiDuD+oqv2XObyvP5fu365nEZ0\\u002f1EbrjrREcb+HR1+XV\\u002fuhv8cpK\\u002fLZUbC\\u002fqtIstBrztr8lLvoCX8u8v2N4y7er5cC\\u002fVcfEDqH0wr9TB1Aey4\\u002fEvwfODWrYtcW\\u002f9hkgSFJmxr+8E+PYJKHGv\\u002fYZIEhSZsa\\u002fB84Nati1xb9TB1Aey4\\u002fEv1XHxA6h9MK\\u002fY3jLt6vlwL8lLvoCX8u8v6rSLLQa87a\\u002fxykr8tlRsL+HR1+XV\\u002fuhv9RG6460RHG\\u002fl+7frmcRnT+oqv2XObyvP8aFzXwog7g\\u002fuu0oZpB7wD9ltBLXcHzEP1gMkVVlIsg\\u002fy+hEQb9Lyz9d0r\\u002fKetjNPzwmbujcq88\\u002feqvqTQdX0D8AGL9YzmbQP7fPNKJhANA\\u002fmhhE\\u002fW1Gzj9mjTc42abLP9C3MszEM8g\\u002f6WoG3y4IxD\\u002fuHo5lJ4++P0iEM5dsObQ\\u002fsbqOJfPfoj8Xx+SNwlF2v8IQsuXztae\\u002f6d1fRtOItb\\u002fb\\u002fhz+zQy+vyM\\u002fxxNbiMK\\u002f8OE+WSAnxb\\u002fILdVEUMnGv82vc7icYMe\\u002fxBFcfaPqxr8Wydq5LXHFv7s0nFSYQcG\\u002fnv9SQPUbxL9MLfAouCDGv0Ok84xZNce\\u002f3rQEvhVKx7\\u002fKgdtohVrGv10aMx6mbcS\\u002fNfR93VWVwb8dsuvvl9q7v8OcWXNAM7O\\u002fmSVOEtsTo79BlupBNmVoP+NxwvmgoqY\\u002fhG2kItG9tT8FmDTnQqq\\u002fP0OTFto5YMQ\\u002fsIDB0t9ayD9mjTc42abLP2lENA\\u002ftLc4\\u002fqevmfl\\u002fizz9d1ldOgF\\u002fQP39ZGyBqY9A\\u002fsyntNi8C0D\\u002fjUJpPpIjOPwfMF\\u002fX0acw\\u002fqSQYA4\\u002fCyT+5qTQJOa\\u002fGP944c2bhTcM\\u002fFkv0LLF4vz8rKNM+ay64P3SkZsXg8bA\\u002fLJS\\u002fT+Tkoz8RBLgN9siKP4AD8n+MvoW\\u002f0U9YZGxJoL+NWrX0JLCpv3u8SR\\u002fgwbC\\u002f5pxyYbPWs78iMQe51Q62v5bdNGdyZbe\\u002fq4PruOzXt7+W3TRncmW3vyIxB7nVDra\\u002f5pxyYbPWs797vEkf4MGwv41atfQksKm\\u002f0U9YZGxJoL+AA\\u002fJ\\u002fjL6FvxEEuA32yIo\\u002fLJS\\u002fT+Tkoz90pGbF4PGwPyso0z5rLrg\\u002fFkv0LLF4vz\\u002feOHNm4U3DP7mpNAk5r8Y\\u002fqSQYA4\\u002fCyT8HzBf19GnMP+NQmk+kiM4\\u002fsyntNi8C0D9\\u002fWRsgamPQP13WV06AX9A\\u002fqevmfl\\u002fizz9pRDQP7S3OP2aNNzjZpss\\u002fsIDB0t9ayD9DkxbaOWDEPwWYNOdCqr8\\u002fhG2kItG9tT\\u002fjccL5oKKmP0GW6kE2ZWg\\u002fmSVOEtsTo7\\u002fDnFlzQDOzvx2y6++X2ru\\u002fNfR93VWVwb9dGjMepm3Ev8qB22iFWsa\\u002f3rQEvhVKx79DpPOMWTXHv0wt8Ci4IMa\\u002fnv9SQPUbxL8y0DUbeli+v0TChrDAa8K\\u002fs1KAoo7wxL+uVmG65ZvGv4g5Y26nWMe\\u002f8YsMtiYcx7\\u002fuEXAkcubFv++5wyoZwsO\\u002fX76FYHPDwL8Ukg0T7g66v19IGgljZLG\\u002f8+CBfMRnn78pSjs1HbmBPyJohcU25qg\\u002fklufdMV\\u002ftj+CrcDBIwTAP0OTFto5YMQ\\u002f0LcyzMQzyD\\u002frDoedI2XLP8Udp0cd4s0\\u002f3FqTYyegzz8Dt28AJ07QPxP\\u002fQW5ibdA\\u002fQTTmMhcz0D\\u002fn9cdAqE7PP\\u002fbNuhWvqM0\\u002f7FtXaOyLyz9YzzPoABLJP6oun0FcVcY\\u002fLx0QEDFwwz+67ShmkHvAP5fbQVRpHbs\\u002fLEnoHP98tT9e03D8VTqwPw40L7+k6KY\\u002fl+7frmcRnT8Xg\\u002fmNEPWNP3cDqpfhVG4\\u002f1EbrjrREcb8cZKEHpHSCv4AD8n+MvoW\\u002fHGShB6R0gr\\u002fURuuOtERxv3cDqpfhVG4\\u002fF4P5jRD1jT+X7t+uZxGdPw40L7+k6KY\\u002fXtNw\\u002fFU6sD8sSegc\\u002f3y1P5fbQVRpHbs\\u002fuu0oZpB7wD8vHRAQMXDDP6oun0FcVcY\\u002fWM8z6AASyT\\u002fsW1do7IvLP\\u002fbNuhWvqM0\\u002f5\\u002fXHQKhOzz9BNOYyFzPQPxP\\u002fQW5ibdA\\u002fA7dvACdO0D\\u002fcWpNjJ6DPP8Udp0cd4s0\\u002f6w6HnSNlyz\\u002fQtzLMxDPIP0OTFto5YMQ\\u002fgq3AwSMEwD+SW590xX+2PyJohcU25qg\\u002fKUo7NR25gT\\u002fz4IF8xGefv19IGgljZLG\\u002fFJINE+4Our9fvoVgc8PAv++5wyoZwsO\\u002f7hFwJHLmxb\\u002fxiwy2JhzHv4g5Y26nWMe\\u002frlZhuuWbxr+zUoCijvDEv0TChrDAa8K\\u002fAE8ZOKaeub\\u002fYIMpwi2PAvyv2TDYdWsO\\u002f1jCIGNOQxb9UhX8o6e3Gv5APyVkKYce\\u002fstWjHtXjxr+L7d1R5HnFvygFlxlgMMO\\u002fyi0zgSAdwL82+QjB4bq4v+dyl\\u002fgOKbC\\u002f7\\u002ft9Wz9Om7+A9wjSdpGHP\\u002fhruVOwp6k\\u002fklufdMV\\u002ftj8FmDTnQqq\\u002fP+lqBt8uCMQ\\u002fTNyJIBC9xz9yTBx0FN7KP1f20ARKXM0\\u002fvcYYqJwvzz+uOBLbUSvQPwHUXh0Ua9A\\u002fe2aA9zdc0D8A9ofWLQbQP0R9+URp5M4\\u002fS9k6wahVzT+9PpJOtHbLP0eoZTu4Xsk\\u002fy56wCZYkxz\\u002f9UoGQKt7EP8TGfuO7n8I\\u002fuu0oZpB7wD+2R0akWgO9P3uDYIVwf7k\\u002fvVn3ceqBtj8aiuZLshy0P1zAK9RQXbI\\u002fHuEw2jFNsT90pGbF4PGwPx7hMNoxTbE\\u002fXMAr1FBdsj8aiuZLshy0P71Z93HqgbY\\u002fe4NghXB\\u002fuT+2R0akWgO9P7rtKGaQe8A\\u002fxMZ+47ufwj\\u002f9UoGQKt7EP8uesAmWJMc\\u002fR6hlO7heyT+9PpJOtHbLP0vZOsGoVc0\\u002fRH35RGnkzj8A9ofWLQbQP3tmgPc3XNA\\u002fAdReHRRr0D+uOBLbUSvQP73GGKicL88\\u002fV\\u002fbQBEpczT9yTBx0FN7KP0zciSAQvcc\\u002f6WoG3y4IxD8FmDTnQqq\\u002fP5Jbn3TFf7Y\\u002f+Gu5U7CnqT+A9wjSdpGHP+\\u002f7fVs\\u002fTpu\\u002f53KX+A4psL82+QjB4bq4v8otM4EgHcC\\u002fKAWXGWAww7+L7d1R5HnFv7LVox7V48a\\u002fkA\\u002fJWQphx79UhX8o6e3Gv9YwiBjTkMW\\u002fK\\u002fZMNh1aw7\\u002fYIMpwi2PAv+xv5ucqZrS\\u002ftgxxdXsSvL\\u002fvdivvc2DBv3W8JjnhE8S\\u002fkoIq5eMFxr8ZLq5lMyHHv8yrRN6XWce\\u002fd8XT+i+sxr95tj7YRR\\u002fFv+S9iIS5wcK\\u002fX7BPlxlUv7\\u002f5Vqq\\u002fQOq3v2naienWEq+\\u002fSl0Gg1numb+A9wjSdpGHPyJohcU25qg\\u002fhG2kItG9tT\\u002fuHo5lJ4++P5dBkK8\\u002fVsM\\u002f3Fjx88byxj\\u002fwOsc5xwrKPy9LZArukcw\\u002fKCVW5fqBzj\\u002f6Vd5sfdrPP7\\u002faWossUNA\\u002fbU8eGY1u0D+NAVbCFE\\u002fQP21J+z\\u002fs888\\u002fq9lPud3wzj\\u002f2zboVr6jNP\\u002fpjF0p3L8w\\u002f2wEfcfuYyj9RwcvTFPjIPwP8SEE3Xsc\\u002f2G9vsRfbxT9ltBLXcHzEP944c2bhTcM\\u002fArLihd5Ywj+wBss0tKTBP\\u002fTKY3SNNsE\\u002fwSTWnH4RwT\\u002f0ymN0jTbBP7AGyzS0pME\\u002fArLihd5Ywj\\u002feOHNm4U3DP2W0EtdwfMQ\\u002f2G9vsRfbxT8D\\u002fEhBN17HP1HBy9MU+Mg\\u002f2wEfcfuYyj\\u002f6YxdKdy\\u002fMP\\u002fbNuhWvqM0\\u002fq9lPud3wzj9tSfs\\u002f7PPPP40BVsIUT9A\\u002fbU8eGY1u0D+\\u002f2lqLLFDQP\\u002fpV3mx92s8\\u002fKCVW5fqBzj8vS2QK7pHMP\\u002fA6xznHCso\\u002f3Fjx88byxj+XQZCvP1bDP+4ejmUnj74\\u002fhG2kItG9tT8iaIXFNuaoP4D3CNJ2kYc\\u002fSl0Gg1numb9p2onp1hKvv\\u002flWqr9A6re\\u002fX7BPlxlUv7\\u002fkvYiEucHCv3m2PthFH8W\\u002fd8XT+i+sxr\\u002fMq0Tel1nHvxkurmUzIce\\u002fkoIq5eMFxr91vCY54RPEv+92K+9zYMG\\u002ftgxxdXsSvL9Q\\u002fnOcm4mtv5mePEuFy7a\\u002fGXqgG94Tvr+DCocDTyjCvz9EbZk4oMS\\u002fiFwUSjdYxr+bdBp+7j7Hv+ZlFQuVS8e\\u002fSfGK2wd+xr9Vx8tUd97Ev4DphQm4fMK\\u002f8I4CK4fevr+8QUXV86O3v2naienWEq+\\u002f7\\u002ft9Wz9Om78pSjs1HbmBP+NxwvmgoqY\\u002fSIQzl2w5tD\\u002fekDNLHrS8P3XDC0gTR8I\\u002f8SdnbOXOxT\\u002fkTIfe2+HIP8VbdJuudcs\\u002f5aDBGWaFzT8uIjqXERHPP+hZLA+nDtA\\u002fqzggh1RZ0D\\u002fhBSDfdG7QP5X1X+4mVdA\\u002f4wUTvGEV0D+Tr2tRKm\\u002fPP+NQmk+kiM4\\u002fBq4m0\\u002fqHzT8Gd0BtHH3MP70+kk60dss\\u002f\\u002ff8lxNqByj+dj4tz3KnJP1HBy9MU+Mg\\u002fKr7Ar9dzyD9YDJFVZSLIP8CdfHDlBsg\\u002fWAyRVWUiyD8qvsCv13PIP1HBy9MU+Mg\\u002fnY+Lc9ypyT\\u002f9\\u002fyXE2oHKP70+kk60dss\\u002fBndAbRx9zD8GribT+ofNP+NQmk+kiM4\\u002fk69rUSpvzz\\u002fjBRO8YRXQP5X1X+4mVdA\\u002f4QUg33Ru0D+rOCCHVFnQP+hZLA+nDtA\\u002fLiI6lxERzz\\u002floMEZZoXNP8VbdJuudcs\\u002f5EyH3tvhyD\\u002fxJ2ds5c7FP3XDC0gTR8I\\u002f3pAzSx60vD9IhDOXbDm0P+NxwvmgoqY\\u002fKUo7NR25gT\\u002fv+31bP06bv2naienWEq+\\u002fvEFF1fOjt7\\u002fwjgIrh96+v4DphQm4fMK\\u002fVcfLVHfexL9J8YrbB37Gv+ZlFQuVS8e\\u002fm3Qafu4+x7+IXBRKN1jGvz9EbZk4oMS\\u002fgwqHA08owr8ZeqAb3hO+v5mePEuFy7a\\u002fSP4rz8+qob9m\\u002ffPFAwqxvyELmG2ZwLi\\u002fonjJ8B+qv791WNoxeMDCvxPpFQW7BcW\\u002fsY0\\u002ffByPxr9tPYGAmE7HvxwSvmUsPse\\u002fFAxcesFfxr+RHKZDvrzEvxgSnkJIZcK\\u002f8I4CK4fevr\\u002f5Vqq\\u002fQOq3v+dyl\\u002fgOKbC\\u002f8+CBfMRnn79BlupBNmVoP7G6jiXz36I\\u002f7l3DrjHysT9qd5wiehW6P5z3YaZ\\u002f1sA\\u002fhSl4aUZKxD8UroOymFjHPxXI8VS3+Mk\\u002fwzheM38mzD\\u002fFHadHHeLNP73GGKicL88\\u002fNbumDCwL0D+\\u002f2lqLLFDQPxQlovnWbNA\\u002ftNgx7t9n0D+Gfb0fWEjQP+MFE7xhFdA\\u002fPCZu6Nyrzz+ZT77SDiHPPyJaqaI+ls4\\u002fSwCr5NwVzj\\u002f2zboVr6jNP0vZOsGoVc0\\u002fA0KfHNEhzT\\u002fnwbtwMhDNPwNCnxzRIc0\\u002fS9k6wahVzT\\u002f2zboVr6jNP0sAq+TcFc4\\u002fIlqpoj6Wzj+ZT77SDiHPPzwmbujcq88\\u002f4wUTvGEV0D+Gfb0fWEjQP7TYMe7fZ9A\\u002fFCWi+dZs0D+\\u002f2lqLLFDQPzW7pgwsC9A\\u002fvcYYqJwvzz\\u002fFHadHHeLNP8M4XjN\\u002fJsw\\u002fFcjxVLf4yT8UroOymFjHP4UpeGlGSsQ\\u002fnPdhpn\\u002fWwD9qd5wiehW6P+5dw64x8rE\\u002fsbqOJfPfoj9BlupBNmVoP\\u002fPggXzEZ5+\\u002f53KX+A4psL\\u002f5Vqq\\u002fQOq3v\\u002fCOAiuH3r6\\u002fGBKeQkhlwr+RHKZDvrzEvxQMXHrBX8a\\u002fHBK+ZSw+x79tPYGAmE7Hv7GNP3wcj8a\\u002fE+kVBbsFxb91WNoxeMDCv6J4yfAfqr+\\u002fIQuYbZnAuL9m\\u002ffPFAwqxv7ytkeZ7u4W\\u002fve+i6+jWpb\\u002fq+bBJQ+Gyv8XnWie\\u002fSbq\\u002f3bmJvlluwL9fCAuwzy3Dv5mzyZn6ScW\\u002fwSQAzVywxr\\u002f\\u002f4E\\u002faulXHv7wDsPA8Nse\\u002fL119gjtVxr+RHKZDvrzEv4DphQm4fMK\\u002fX7BPlxlUv782+QjB4bq4v19IGgljZLG\\u002fmSVOEtsTo78Xx+SNwlF2v2klrLalSZs\\u002fg+2LBtLRrT8FLZ9pOrC2PwbIlngKAb4\\u002freB4Odtdwj8i74bMX2TFPwuv0vhtDMg\\u002f9hoL5FZSyj+PbP5sFzbMP07kEUbvus0\\u002fepc72+Hmzj827ttYKcLPP644EttRK9A\\u002fmepIZKBX0D\\u002fc2uKcu2vQPxP\\u002fQW5ibdA\\u002fkvo4uB5i0D+NAVbCFE\\u002fQPwiZ9vjaONA\\u002fdEd0tVkj0D8pgGR5shHQPwD2h9YtBtA\\u002fsyntNi8C0D8A9ofWLQbQPymAZHmyEdA\\u002fdEd0tVkj0D8Imfb42jjQP40BVsIUT9A\\u002fkvo4uB5i0D8T\\u002f0FuYm3QP9za4py7a9A\\u002fmepIZKBX0D+uOBLbUSvQPzbu21gpws8\\u002fepc72+Hmzj9O5BFG77rNP49s\\u002fmwXNsw\\u002f9hoL5FZSyj8Lr9L4bQzIPyLvhsxfZMU\\u002freB4Odtdwj8GyJZ4CgG+PwUtn2k6sLY\\u002fg+2LBtLRrT9pJay2pUmbPxfH5I3CUXa\\u002fmSVOEtsTo79fSBoJY2Sxvzb5CMHhuri\\u002fX7BPlxlUv7+A6YUJuHzCv5EcpkO+vMS\\u002fL119gjtVxr+8A7DwPDbHv\\u002f\\u002fgT9q6Vce\\u002fwSQAzVywxr+Zs8mZ+knFv18IC7DPLcO\\u002f3bmJvlluwL\\u002fF51onv0m6v+r5sElD4bK\\u002fve+i6+jWpb9sCEdmxo2LPzDhxmDYSZK\\u002fUp0Dd6csqb+0HHjFXEy0v1PUa8GRa7u\\u002fMl053ibZwL\\u002fZYnpCVXTDvxbJ2rktccW\\u002fQju+yfe\\u002fxr9OCEUlulfHv7wDsPA8Nse\\u002fFAxcesFfxr9Vx8tUd97Ev+S9iIS5wcK\\u002fyi0zgSAdwL8Ukg0T7g66v8OcWXNAM7O\\u002fwhCy5fO1p78+RbA67uaQv2f0L1A894s\\u002f3umqJypCpj+rzn9qB4SyPwASAHMRhbk\\u002fgq3AwSMEwD9z5o9xZ\\u002fzCP8YVIt1spMU\\u002fhEyDYqz4xz8VyPFUt\\u002fjJP2aNNzjZpss\\u002fGni9m6cHzT8NjD+FhyHOP1mIhNku\\u002fM4\\u002f3FqTYyegzz81u6YMLAvQP4rxjhDMM9A\\u002fA7dvACdO0D+fUnEsDl7QPwAYv1jOZtA\\u002fAdReHRRr0D8UJaL51mzQP1bwxL5KbdA\\u002fFCWi+dZs0D8B1F4dFGvQPwAYv1jOZtA\\u002fn1JxLA5e0D8Dt28AJ07QP4rxjhDMM9A\\u002fNbumDCwL0D\\u002fcWpNjJ6DPP1mIhNku\\u002fM4\\u002fDYw\\u002fhYchzj8aeL2bpwfNP2aNNzjZpss\\u002fFcjxVLf4yT+ETINirPjHP8YVIt1spMU\\u002fc+aPcWf8wj+CrcDBIwTAPwASAHMRhbk\\u002fq85\\u002fageEsj\\u002fe6aonKkKmP2f0L1A894s\\u002fPkWwOu7mkL\\u002fCELLl87Wnv8OcWXNAM7O\\u002fFJINE+4Our\\u002fKLTOBIB3Av+S9iIS5wcK\\u002fVcfLVHfexL8UDFx6wV\\u002fGv7wDsPA8Nse\\u002fTghFJbpXx79CO77J97\\u002fGvxbJ2rktccW\\u002f2WJ6QlV0w78yXTneJtnAv1PUa8GRa7u\\u002ftBx4xVxMtL9SnQN3pyypvzDhxmDYSZK\\u002fQpPojlj\\u002foj+AtqzCb6B9P+gF7w+fF5i\\u002fQScVg5erq7\\u002fCns74j021v08G6TUxKry\\u002fG82ydhsYwb8+SULf3JbDvy5vFvfyfcW\\u002fQju+yfe\\u002fxr\\u002f\\u002f4E\\u002faulXHvxwSvmUsPse\\u002fSfGK2wd+xr95tj7YRR\\u002fFvygFlxlgMMO\\u002fX76FYHPDwL8dsuvvl9q7v+ndX0bTiLW\\u002fQJ7iYByArb9pe5S5f7mevwKLYi5C91+\\u002fjwEuvTyLmj+W5SznASurP0iEM5dsObQ\\u002fHJtRD6B1uj8N27IXnBvAP39q8dinuMI\\u002fW\\u002fsBaFgOxT9P6f8DqhvHP+RMh97b4cg\\u002f74DTUA5kyj9mjTc42abLP\\u002fSfzL3fr8w\\u002f5aDBGWaFzT9pRDQP7S3OPygLxP7Vr84\\u002fLiI6lxERzz\\u002fVhZds2lbPP5RLQiJ8hc8\\u002f3FqTYyegzz97zyig0qjPP9xak2MnoM8\\u002flEtCInyFzz\\u002fVhZds2lbPPy4iOpcREc8\\u002fKAvE\\u002ftWvzj9pRDQP7S3OP+WgwRlmhc0\\u002f9J\\u002fMvd+vzD9mjTc42abLP++A01AOZMo\\u002f5EyH3tvhyD9P6f8DqhvHP1v7AWhYDsU\\u002ff2rx2Ke4wj8N27IXnBvAPxybUQ+gdbo\\u002fSIQzl2w5tD+W5SznASurP48BLr08i5o\\u002fAotiLkL3X79pe5S5f7mev0Ce4mAcgK2\\u002f6d1fRtOItb8dsuvvl9q7v1++hWBzw8C\\u002fKAWXGWAww795tj7YRR\\u002fFv0nxitsHfsa\\u002fHBK+ZSw+x7\\u002f\\u002f4E\\u002faulXHv0I7vsn3v8a\\u002fLm8W9\\u002fJ9xb8+SULf3JbDvxvNsnYbGMG\\u002fTwbpNTEqvL\\u002fCns74j021v0EnFYOXq6u\\u002f6AXvD58XmL+AtqzCb6B9PxKz9glHlK4\\u002fzKZqy6BfoD\\u002fOAlf+XqZkP5WIXJsPQJy\\u002fy9zaCo5Urb87XK5M7ea1v7rtEOqviLy\\u002fqufUY+Yswb8+SULf3JbDvxbJ2rktccW\\u002fwSQAzVywxr9tPYGAmE7Hv+ZlFQuVS8e\\u002fd8XT+i+sxr+L7d1R5HnFv++5wyoZwsO\\u002fNfR93VWVwb\\u002fb\\u002fhz+zQy+vy7PVbT+Uri\\u002fDokVbb4msr+Yq70ULGKnv1d8+m\\u002fHZJS\\u002fUIqZWqPMdz+l9eYZuMKfPzn73iLJTaw\\u002fnKjPYtcItD8AEgBzEYW5P+4ejmUnj74\\u002fMsCglraPwT\\u002fDEog2QZnDPyLvhsxfZMU\\u002f3Fjx88byxj9A1+3VWUfIPxpH3ePOZck\\u002f9hoL5FZSyj\\u002fktBlsSRHLP2aNNzjZpss\\u002fROvoK9IWzD\\u002fAwHY7YmTMPy9LZArukcw\\u002fkosTtvGgzD8vS2QK7pHMP8DAdjtiZMw\\u002fROvoK9IWzD9mjTc42abLP+S0GWxJEcs\\u002f9hoL5FZSyj8aR93jzmXJP0DX7dVZR8g\\u002f3Fjx88byxj8i74bMX2TFP8MSiDZBmcM\\u002fMsCglraPwT\\u002fuHo5lJ4++PwASAHMRhbk\\u002fnKjPYtcItD85+94iyU2sP6X15hm4wp8\\u002fUIqZWqPMdz9XfPpvx2SUv5irvRQsYqe\\u002fDokVbb4msr8uz1W0\\u002flK4v9v+HP7NDL6\\u002fNfR93VWVwb\\u002fvucMqGcLDv4vt3VHkecW\\u002fd8XT+i+sxr\\u002fmZRULlUvHv209gYCYTse\\u002fwSQAzVywxr8Wydq5LXHFvz5JQt\\u002fclsO\\u002fqufUY+Yswb+67RDqr4i8vztcrkzt5rW\\u002fy9zaCo5Urb+ViFybD0Ccv84CV\\u002f5epmQ\\u002fzKZqy6BfoD9YDTkeQai0P7fzu4l2haw\\u002fglAFc+TynD9YyT1A5ABFv\\u002f5PXlCuv56\\u002f4eDAFasorr+VHgRB4Rm2v7rtEOqviLy\\u002fG82ydhsYwb\\u002fZYnpCVXTDv5mzyZn6ScW\\u002fsY0\\u002ffByPxr+bdBp+7j7Hv8yrRN6XWce\\u002fstWjHtXjxr\\u002fuEXAkcubFv10aMx6mbcS\\u002fIz\\u002fHE1uIwr+\\u002f\\u002fPkca0fAv2EF0p+5ebu\\u002fIWoNNE\\u002f2tb\\u002fncpf4Dimwv4Tj6piYaaS\\u002fPkWwOu7mkL84J\\u002f4t+LR6P4XO\\u002fp2ihZ0\\u002f+Gu5U7CnqT\\u002fuXcOuMfKxPwUtn2k6sLY\\u002fJhtm46UFuz8j7tt2se2+P\\u002fO4U4hTM8E\\u002ff2rx2Ke4wj\\u002fpagbfLgjEP8Hrbi3rI8U\\u002fEnIlGkAOxj9PO2p1rsnGPxSug7KYWMc\\u002fTNyJIBC9xz+ETINirPjHPwuv0vhtDMg\\u002fhEyDYqz4xz9M3IkgEL3HPxSug7KYWMc\\u002fTztqda7Jxj8SciUaQA7GP8Hrbi3rI8U\\u002f6WoG3y4IxD9\\u002favHYp7jCP\\u002fO4U4hTM8E\\u002fI+7bdrHtvj8mG2bjpQW7PwUtn2k6sLY\\u002f7l3DrjHysT\\u002f4a7lTsKepP4XO\\u002fp2ihZ0\\u002fOCf+Lfi0ej8+RbA67uaQv4Tj6piYaaS\\u002f53KX+A4psL8hag00T\\u002fa1v2EF0p+5ebu\\u002fv\\u002fz5HGtHwL8jP8cTW4jCv10aMx6mbcS\\u002f7hFwJHLmxb+y1aMe1ePGv8yrRN6XWce\\u002fm3Qafu4+x7+xjT98HI\\u002fGv5mzyZn6ScW\\u002f2WJ6QlV0w78bzbJ2GxjBv7rtEOqviLy\\u002flR4EQeEZtr\\u002fh4MAVqyiuv\\u002f5PXlCuv56\\u002fWMk9QOQARb+CUAVz5PKcP7fzu4l2haw\\u002fdVXrlAFyuT92yrRhHuazPznQRl\\u002fWIKs\\u002fYoaDMpmmmj80nrRSUD9ivyIqVeoDlZ+\\u002f4eDAFasorr87XK5M7ea1v08G6TUxKry\\u002fMl053ibZwL9fCAuwzy3DvxPpFQW7BcW\\u002fiFwUSjdYxr8ZLq5lMyHHv5APyVkKYce\\u002f8YsMtiYcx7\\u002fKgdtohVrGv\\u002fDhPlkgJ8W\\u002fz44QkkmPw7\\u002fMszqr\\u002f6HBv\\u002fCOAiuH3r6\\u002fFJINE+4Our898F5hk\\u002fW0v70YWRXnYq+\\u002fIoY73K2+pL9XfPpvx2SUv7mZlGdYkiQ\\u002fKuRMCJrfkz\\u002fBjAhcAkCjP8A4OY7V7Ks\\u002f7l3DrjHysT\\u002fOKci0TI21P4d+IHEzxLg\\u002fC7fVgmqVuz8GyJZ4CgG+P4KtwMEjBMA\\u002fnPdhpn\\u002fWwD8Jf9q2qHjBP1y72xej68E\\u002fLte0NEMwwj91wwtIE0fCPy7XtDRDMMI\\u002fXLvbF6PrwT8Jf9q2qHjBP5z3YaZ\\u002f1sA\\u002fgq3AwSMEwD8GyJZ4CgG+Pwu31YJqlbs\\u002fh34gcTPEuD\\u002fOKci0TI21P+5dw64x8rE\\u002fwDg5jtXsqz\\u002fBjAhcAkCjPyrkTAia35M\\u002fuZmUZ1iSJD9XfPpvx2SUvyKGO9ytvqS\\u002fvRhZFedir7898F5hk\\u002fW0vxSSDRPuDrq\\u002f8I4CK4fevr\\u002fMszqr\\u002f6HBv8+OEJJJj8O\\u002f8OE+WSAnxb\\u002fKgdtohVrGv\\u002fGLDLYmHMe\\u002fkA\\u002fJWQphx78ZLq5lMyHHv4hcFEo3WMa\\u002fE+kVBbsFxb9fCAuwzy3DvzJdOd4m2cC\\u002fTwbpNTEqvL87XK5M7ea1v+HgwBWrKK6\\u002fIipV6gOVn780nrRSUD9iv2KGgzKZppo\\u002fOdBGX9Ygqz92yrRhHuazP+jF8znBgb0\\u002fJlrzRnDuuD+NQAgZum+zPwQUEAXwbKo\\u002fgn5vILbhmT80nrRSUD9iv\\u002f5PXlCuv56\\u002fy9zaCo5Urb\\u002fCns74j021v1PUa8GRa7u\\u002f3bmJvlluwL91WNoxeMDCvz9EbZk4oMS\\u002fkoIq5eMFxr9UhX8o6e3Gv4g5Y26nWMe\\u002f3rQEvhVKx7\\u002fILdVEUMnGvyfNKDAS4MW\\u002fTeFe6COaxL+Qq5AhxQTDvz2HTZ8ZLsG\\u002fKruLVT1Jvr9ARGVQXO25vwGrCwsmZLW\\u002fbOjh+mLHsL\\u002f4XvHDEV2ov2l7lLl\\u002fuZ6\\u002fdatcJ4TGir9BlupBNmVoP4V8TaqwZZI\\u002fFIkcpf1AoD\\u002fjccL5oKKmPzn73iLJTaw\\u002f\\u002fWJvFfidsD\\u002fZSQG\\u002fo7SyP8xo6DoAarQ\\u002fhG2kItG9tT8FLZ9pOrC2P5YsVEyDQbc\\u002f1g2ZE+lxtz+WLFRMg0G3PwUtn2k6sLY\\u002fhG2kItG9tT\\u002fMaOg6AGq0P9lJAb+jtLI\\u002f\\u002fWJvFfidsD85+94iyU2sP+NxwvmgoqY\\u002fFIkcpf1AoD+FfE2qsGWSP0GW6kE2ZWg\\u002fdatcJ4TGir9pe5S5f7mev\\u002fhe8cMRXai\\u002fbOjh+mLHsL8BqwsLJmS1v0BEZVBc7bm\\u002fKruLVT1Jvr89h02fGS7Bv5CrkCHFBMO\\u002fTeFe6COaxL8nzSgwEuDFv8gt1URQyca\\u002f3rQEvhVKx7+IOWNup1jHv1SFfyjp7ca\\u002fkoIq5eMFxr8\\u002fRG2ZOKDEv3VY2jF4wMK\\u002f3bmJvlluwL9T1GvBkWu7v8KezviPTbW\\u002fy9zaCo5Urb\\u002f+T15Qrr+evzSetFJQP2K\\u002fgn5vILbhmT8EFBAF8GyqP41ACBm6b7M\\u002fJlrzRnDuuD83YThe5FrAP243Mc35Mr0\\u002f\\u002fyrdTperuD+QrLvC8kezPwQUEAXwbKo\\u002fYoaDMpmmmj9YyT1A5ABFv5WIXJsPQJy\\u002fQScVg5erq7+0HHjFXEy0v8XnWie\\u002fSbq\\u002fonjJ8B+qv7+DCocDTyjCv3W8JjnhE8S\\u002f1jCIGNOQxb+uVmG65ZvGv0Ok84xZNce\\u002fza9zuJxgx79F9Gx24yPHvx43RwWxh8a\\u002fs6RP4leWxb9InOuhd1vEvzV85iN+48K\\u002fkqy+EDE7wb\\u002fwjgIrh96+v8Yl+o72F7u\\u002fRa\\u002fJEMw5t79ePll6Q1mzv2naienWEq+\\u002fwhCy5fO1p7\\u002f1+gEFfrigv1d8+m\\u002fHZJS\\u002f0eKJ2prcgL8UmfJX6ZtiP4D3CNJ2kYc\\u002fKuRMCJrfkz+PAS69PIuaP6X15hm4wp8\\u002fQ5eBZBPAoT+xuo4l89+iP8GMCFwCQKM\\u002fsbqOJfPfoj9Dl4FkE8ChP6X15hm4wp8\\u002fjwEuvTyLmj8q5EwImt+TP4D3CNJ2kYc\\u002fFJnyV+mbYj\\u002fR4onamtyAv1d8+m\\u002fHZJS\\u002f9foBBX64oL\\u002fCELLl87Wnv2naienWEq+\\u002fXj5ZekNZs79Fr8kQzDm3v8Yl+o72F7u\\u002f8I4CK4fevr+SrL4QMTvBvzV85iN+48K\\u002fSJzroXdbxL+zpE\\u002fiV5bFvx43RwWxh8a\\u002fRfRsduMjx7\\u002fNr3O4nGDHv0Ok84xZNce\\u002frlZhuuWbxr\\u002fWMIgY05DFv3W8JjnhE8S\\u002fgwqHA08owr+ieMnwH6q\\u002fv8XnWie\\u002fSbq\\u002ftBx4xVxMtL9BJxWDl6urv5WIXJsPQJy\\u002fWMk9QOQARb9ihoMymaaaPwQUEAXwbKo\\u002fkKy7wvJHsz\\u002f\\u002fKt1Ol6u4P243Mc35Mr0\\u002faq97qud4wT9g8e6dxUfAP23qPl5WGL0\\u002f\\u002fyrdTperuD+NQAgZum+zPznQRl\\u002fWIKs\\u002fglAFc+TynD\\u002fOAlf+XqZkP+gF7w+fF5i\\u002fUp0Dd6csqb\\u002fq+bBJQ+GyvyELmG2ZwLi\\u002fGXqgG94Tvr\\u002fvdivvc2DBvyv2TDYdWsO\\u002fs1KAoo7wxL9MLfAouCDGv8QRXH2j6sa\\u002fevK14ilRx7\\u002fMq0Tel1nHvybXXZ1EC8e\\u002fIx8txSJvxr8R7OEGUI\\u002fFv56ETj2odsS\\u002fKAWXGWAww7\\u002fk4tCJqsfBv7\\u002f8+RxrR8C\\u002fi1b3ge1zvb\\u002f4IIm6xlG6v0WvyRDMObe\\u002fsQ\\u002f53307tL9fSBoJY2Sxv0Ce4mAcgK2\\u002fs9Abf2ewqL+E4+qYmGmkv\\u002fX6AQV+uKC\\u002f7\\u002ft9Wz9Om7+7jX2fNnqWv8mFg2fz\\u002f5K\\u002fPkWwOu7mkL\\u002fT+BCzdDOQvz5FsDru5pC\\u002fyYWDZ\\u002fP\\u002fkr+7jX2fNnqWv+\\u002f7fVs\\u002fTpu\\u002f9foBBX64oL+E4+qYmGmkv7PQG39nsKi\\u002fQJ7iYByArb9fSBoJY2Sxv7EP+d99O7S\\u002fRa\\u002fJEMw5t7\\u002f4IIm6xlG6v4tW94Htc72\\u002fv\\u002fz5HGtHwL\\u002fk4tCJqsfBvygFlxlgMMO\\u002fnoROPah2xL8R7OEGUI\\u002fFvyMfLcUib8a\\u002fJtddnUQLx7\\u002fMq0Tel1nHv3ryteIpUce\\u002fxBFcfaPqxr9MLfAouCDGv7NSgKKO8MS\\u002fK\\u002fZMNh1aw7\\u002fvdivvc2DBvxl6oBveE76\\u002fIQuYbZnAuL\\u002fq+bBJQ+Gyv1KdA3enLKm\\u002f6AXvD58XmL\\u002fOAlf+XqZkP4JQBXPk8pw\\u002fOdBGX9Ygqz+NQAgZum+zP\\u002f8q3U6Xq7g\\u002fbeo+XlYYvT9g8e6dxUfAPy9AF0QwEMI\\u002fzDfMRBBzwT9g8e6dxUfAP243Mc35Mr0\\u002fJlrzRnDuuD92yrRhHuazP7fzu4l2haw\\u002fzKZqy6BfoD+AtqzCb6B9PzDhxmDYSZK\\u002fve+i6+jWpb9m\\u002ffPFAwqxv5mePEuFy7a\\u002ftgxxdXsSvL\\u002fYIMpwi2PAv0TChrDAa8K\\u002fnv9SQPUbxL8Wydq5LXHFv\\u002fOaQBYta8a\\u002f0H+zXjIMx7+IOWNup1jHv3sj0MrFVse\\u002fjyPgbjYOx78eN0cFsYfGvz2V+oKezMW\\u002fMNvxZsLmxL\\u002fXvQkm7d\\u002fDv+S9iIS5wcK\\u002fNfR93VWVwb\\u002f5LzekWWPAv5ulRplNZ76\\u002frP2Ag6wavL9ARGVQXO25v\\u002flWqr9A6re\\u002fFaW9EZ8atr8gsfl7MYa0v8OcWXNAM7O\\u002fDokVbb4msr9fSBoJY2Sxv6gbQAnD7rC\\u002fbOjh+mLHsL+oG0AJw+6wv19IGgljZLG\\u002fDokVbb4msr\\u002fDnFlzQDOzvyCx+XsxhrS\\u002fFaW9EZ8atr\\u002f5Vqq\\u002fQOq3v0BEZVBc7bm\\u002frP2Ag6wavL+bpUaZTWe+v\\u002fkvN6RZY8C\\u002fNfR93VWVwb\\u002fkvYiEucHCv9e9CSbt38O\\u002fMNvxZsLmxL89lfqCnszFvx43RwWxh8a\\u002fjyPgbjYOx797I9DKxVbHv4g5Y26nWMe\\u002f0H+zXjIMx7\\u002fzmkAWLWvGvxbJ2rktccW\\u002fnv9SQPUbxL9EwoawwGvCv9ggynCLY8C\\u002ftgxxdXsSvL+ZnjxLhcu2v2b988UDCrG\\u002fve+i6+jWpb8w4cZg2EmSv4C2rMJvoH0\\u002fzKZqy6BfoD+387uJdoWsP3bKtGEe5rM\\u002fJlrzRnDuuD9uNzHN+TK9P2Dx7p3FR8A\\u002fzDfMRBBzwT8=\",\"shape\":\"80, 80\"},\"type\":\"surface\"}],                        {\"template\":{\"data\":{\"histogram2dcontour\":[{\"type\":\"histogram2dcontour\",\"colorbar\":{\"outlinewidth\":0,\"ticks\":\"\"},\"colorscale\":[[0.0,\"#0d0887\"],[0.1111111111111111,\"#46039f\"],[0.2222222222222222,\"#7201a8\"],[0.3333333333333333,\"#9c179e\"],[0.4444444444444444,\"#bd3786\"],[0.5555555555555556,\"#d8576b\"],[0.6666666666666666,\"#ed7953\"],[0.7777777777777778,\"#fb9f3a\"],[0.8888888888888888,\"#fdca26\"],[1.0,\"#f0f921\"]]}],\"choropleth\":[{\"type\":\"choropleth\",\"colorbar\":{\"outlinewidth\":0,\"ticks\":\"\"}}],\"histogram2d\":[{\"type\":\"histogram2d\",\"colorbar\":{\"outlinewidth\":0,\"ticks\":\"\"},\"colorscale\":[[0.0,\"#0d0887\"],[0.1111111111111111,\"#46039f\"],[0.2222222222222222,\"#7201a8\"],[0.3333333333333333,\"#9c179e\"],[0.4444444444444444,\"#bd3786\"],[0.5555555555555556,\"#d8576b\"],[0.6666666666666666,\"#ed7953\"],[0.7777777777777778,\"#fb9f3a\"],[0.8888888888888888,\"#fdca26\"],[1.0,\"#f0f921\"]]}],\"heatmap\":[{\"type\":\"heatmap\",\"colorbar\":{\"outlinewidth\":0,\"ticks\":\"\"},\"colorscale\":[[0.0,\"#0d0887\"],[0.1111111111111111,\"#46039f\"],[0.2222222222222222,\"#7201a8\"],[0.3333333333333333,\"#9c179e\"],[0.4444444444444444,\"#bd3786\"],[0.5555555555555556,\"#d8576b\"],[0.6666666666666666,\"#ed7953\"],[0.7777777777777778,\"#fb9f3a\"],[0.8888888888888888,\"#fdca26\"],[1.0,\"#f0f921\"]]}],\"contourcarpet\":[{\"type\":\"contourcarpet\",\"colorbar\":{\"outlinewidth\":0,\"ticks\":\"\"}}],\"contour\":[{\"type\":\"contour\",\"colorbar\":{\"outlinewidth\":0,\"ticks\":\"\"},\"colorscale\":[[0.0,\"#0d0887\"],[0.1111111111111111,\"#46039f\"],[0.2222222222222222,\"#7201a8\"],[0.3333333333333333,\"#9c179e\"],[0.4444444444444444,\"#bd3786\"],[0.5555555555555556,\"#d8576b\"],[0.6666666666666666,\"#ed7953\"],[0.7777777777777778,\"#fb9f3a\"],[0.8888888888888888,\"#fdca26\"],[1.0,\"#f0f921\"]]}],\"surface\":[{\"type\":\"surface\",\"colorbar\":{\"outlinewidth\":0,\"ticks\":\"\"},\"colorscale\":[[0.0,\"#0d0887\"],[0.1111111111111111,\"#46039f\"],[0.2222222222222222,\"#7201a8\"],[0.3333333333333333,\"#9c179e\"],[0.4444444444444444,\"#bd3786\"],[0.5555555555555556,\"#d8576b\"],[0.6666666666666666,\"#ed7953\"],[0.7777777777777778,\"#fb9f3a\"],[0.8888888888888888,\"#fdca26\"],[1.0,\"#f0f921\"]]}],\"mesh3d\":[{\"type\":\"mesh3d\",\"colorbar\":{\"outlinewidth\":0,\"ticks\":\"\"}}],\"scatter\":[{\"fillpattern\":{\"fillmode\":\"overlay\",\"size\":10,\"solidity\":0.2},\"type\":\"scatter\"}],\"parcoords\":[{\"type\":\"parcoords\",\"line\":{\"colorbar\":{\"outlinewidth\":0,\"ticks\":\"\"}}}],\"scatterpolargl\":[{\"type\":\"scatterpolargl\",\"marker\":{\"colorbar\":{\"outlinewidth\":0,\"ticks\":\"\"}}}],\"bar\":[{\"error_x\":{\"color\":\"#2a3f5f\"},\"error_y\":{\"color\":\"#2a3f5f\"},\"marker\":{\"line\":{\"color\":\"#E5ECF6\",\"width\":0.5},\"pattern\":{\"fillmode\":\"overlay\",\"size\":10,\"solidity\":0.2}},\"type\":\"bar\"}],\"scattergeo\":[{\"type\":\"scattergeo\",\"marker\":{\"colorbar\":{\"outlinewidth\":0,\"ticks\":\"\"}}}],\"scatterpolar\":[{\"type\":\"scatterpolar\",\"marker\":{\"colorbar\":{\"outlinewidth\":0,\"ticks\":\"\"}}}],\"histogram\":[{\"marker\":{\"pattern\":{\"fillmode\":\"overlay\",\"size\":10,\"solidity\":0.2}},\"type\":\"histogram\"}],\"scattergl\":[{\"type\":\"scattergl\",\"marker\":{\"colorbar\":{\"outlinewidth\":0,\"ticks\":\"\"}}}],\"scatter3d\":[{\"type\":\"scatter3d\",\"line\":{\"colorbar\":{\"outlinewidth\":0,\"ticks\":\"\"}},\"marker\":{\"colorbar\":{\"outlinewidth\":0,\"ticks\":\"\"}}}],\"scattermap\":[{\"type\":\"scattermap\",\"marker\":{\"colorbar\":{\"outlinewidth\":0,\"ticks\":\"\"}}}],\"scattermapbox\":[{\"type\":\"scattermapbox\",\"marker\":{\"colorbar\":{\"outlinewidth\":0,\"ticks\":\"\"}}}],\"scatterternary\":[{\"type\":\"scatterternary\",\"marker\":{\"colorbar\":{\"outlinewidth\":0,\"ticks\":\"\"}}}],\"scattercarpet\":[{\"type\":\"scattercarpet\",\"marker\":{\"colorbar\":{\"outlinewidth\":0,\"ticks\":\"\"}}}],\"carpet\":[{\"aaxis\":{\"endlinecolor\":\"#2a3f5f\",\"gridcolor\":\"white\",\"linecolor\":\"white\",\"minorgridcolor\":\"white\",\"startlinecolor\":\"#2a3f5f\"},\"baxis\":{\"endlinecolor\":\"#2a3f5f\",\"gridcolor\":\"white\",\"linecolor\":\"white\",\"minorgridcolor\":\"white\",\"startlinecolor\":\"#2a3f5f\"},\"type\":\"carpet\"}],\"table\":[{\"cells\":{\"fill\":{\"color\":\"#EBF0F8\"},\"line\":{\"color\":\"white\"}},\"header\":{\"fill\":{\"color\":\"#C8D4E3\"},\"line\":{\"color\":\"white\"}},\"type\":\"table\"}],\"barpolar\":[{\"marker\":{\"line\":{\"color\":\"#E5ECF6\",\"width\":0.5},\"pattern\":{\"fillmode\":\"overlay\",\"size\":10,\"solidity\":0.2}},\"type\":\"barpolar\"}],\"pie\":[{\"automargin\":true,\"type\":\"pie\"}]},\"layout\":{\"autotypenumbers\":\"strict\",\"colorway\":[\"#636efa\",\"#EF553B\",\"#00cc96\",\"#ab63fa\",\"#FFA15A\",\"#19d3f3\",\"#FF6692\",\"#B6E880\",\"#FF97FF\",\"#FECB52\"],\"font\":{\"color\":\"#2a3f5f\"},\"hovermode\":\"closest\",\"hoverlabel\":{\"align\":\"left\"},\"paper_bgcolor\":\"white\",\"plot_bgcolor\":\"#E5ECF6\",\"polar\":{\"bgcolor\":\"#E5ECF6\",\"angularaxis\":{\"gridcolor\":\"white\",\"linecolor\":\"white\",\"ticks\":\"\"},\"radialaxis\":{\"gridcolor\":\"white\",\"linecolor\":\"white\",\"ticks\":\"\"}},\"ternary\":{\"bgcolor\":\"#E5ECF6\",\"aaxis\":{\"gridcolor\":\"white\",\"linecolor\":\"white\",\"ticks\":\"\"},\"baxis\":{\"gridcolor\":\"white\",\"linecolor\":\"white\",\"ticks\":\"\"},\"caxis\":{\"gridcolor\":\"white\",\"linecolor\":\"white\",\"ticks\":\"\"}},\"coloraxis\":{\"colorbar\":{\"outlinewidth\":0,\"ticks\":\"\"}},\"colorscale\":{\"sequential\":[[0.0,\"#0d0887\"],[0.1111111111111111,\"#46039f\"],[0.2222222222222222,\"#7201a8\"],[0.3333333333333333,\"#9c179e\"],[0.4444444444444444,\"#bd3786\"],[0.5555555555555556,\"#d8576b\"],[0.6666666666666666,\"#ed7953\"],[0.7777777777777778,\"#fb9f3a\"],[0.8888888888888888,\"#fdca26\"],[1.0,\"#f0f921\"]],\"sequentialminus\":[[0.0,\"#0d0887\"],[0.1111111111111111,\"#46039f\"],[0.2222222222222222,\"#7201a8\"],[0.3333333333333333,\"#9c179e\"],[0.4444444444444444,\"#bd3786\"],[0.5555555555555556,\"#d8576b\"],[0.6666666666666666,\"#ed7953\"],[0.7777777777777778,\"#fb9f3a\"],[0.8888888888888888,\"#fdca26\"],[1.0,\"#f0f921\"]],\"diverging\":[[0,\"#8e0152\"],[0.1,\"#c51b7d\"],[0.2,\"#de77ae\"],[0.3,\"#f1b6da\"],[0.4,\"#fde0ef\"],[0.5,\"#f7f7f7\"],[0.6,\"#e6f5d0\"],[0.7,\"#b8e186\"],[0.8,\"#7fbc41\"],[0.9,\"#4d9221\"],[1,\"#276419\"]]},\"xaxis\":{\"gridcolor\":\"white\",\"linecolor\":\"white\",\"ticks\":\"\",\"title\":{\"standoff\":15},\"zerolinecolor\":\"white\",\"automargin\":true,\"zerolinewidth\":2},\"yaxis\":{\"gridcolor\":\"white\",\"linecolor\":\"white\",\"ticks\":\"\",\"title\":{\"standoff\":15},\"zerolinecolor\":\"white\",\"automargin\":true,\"zerolinewidth\":2},\"scene\":{\"xaxis\":{\"backgroundcolor\":\"#E5ECF6\",\"gridcolor\":\"white\",\"linecolor\":\"white\",\"showbackground\":true,\"ticks\":\"\",\"zerolinecolor\":\"white\",\"gridwidth\":2},\"yaxis\":{\"backgroundcolor\":\"#E5ECF6\",\"gridcolor\":\"white\",\"linecolor\":\"white\",\"showbackground\":true,\"ticks\":\"\",\"zerolinecolor\":\"white\",\"gridwidth\":2},\"zaxis\":{\"backgroundcolor\":\"#E5ECF6\",\"gridcolor\":\"white\",\"linecolor\":\"white\",\"showbackground\":true,\"ticks\":\"\",\"zerolinecolor\":\"white\",\"gridwidth\":2}},\"shapedefaults\":{\"line\":{\"color\":\"#2a3f5f\"}},\"annotationdefaults\":{\"arrowcolor\":\"#2a3f5f\",\"arrowhead\":0,\"arrowwidth\":1},\"geo\":{\"bgcolor\":\"white\",\"landcolor\":\"#E5ECF6\",\"subunitcolor\":\"white\",\"showland\":true,\"showlakes\":true,\"lakecolor\":\"white\"},\"title\":{\"x\":0.05},\"mapbox\":{\"style\":\"light\"}}}},                        {\"responsive\": true}                    ).then(function(){\n",
              "                            \n",
              "var gd = document.getElementById('1d48b93c-49da-425d-829c-33a8d3501bfa');\n",
              "var x = new MutationObserver(function (mutations, observer) {{\n",
              "        var display = window.getComputedStyle(gd).display;\n",
              "        if (!display || display === 'none') {{\n",
              "            console.log([gd, 'removed!']);\n",
              "            Plotly.purge(gd);\n",
              "            observer.disconnect();\n",
              "        }}\n",
              "}});\n",
              "\n",
              "// Listen for the removal of the full notebook cells\n",
              "var notebookContainer = gd.closest('#notebook-container');\n",
              "if (notebookContainer) {{\n",
              "    x.observe(notebookContainer, {childList: true});\n",
              "}}\n",
              "\n",
              "// Listen for the clearing of the current output cell\n",
              "var outputEl = gd.closest('.output');\n",
              "if (outputEl) {{\n",
              "    x.observe(outputEl, {childList: true});\n",
              "}}\n",
              "\n",
              "                        })                };            </script>        </div>"
            ]
          },
          "metadata": {}
        }
      ]
    },
    {
      "cell_type": "markdown",
      "source": [
        "##3D Scatter Plot"
      ],
      "metadata": {
        "id": "p0ku-tNhkAeY"
      },
      "id": "p0ku-tNhkAeY"
    },
    {
      "cell_type": "code",
      "source": [
        "df_scatter3d = cf.datagen.scatter3d(2, 150, mode='stocks')\n",
        "fig = go.Figure(data=[go.Scatter3d(x=df_scatter3d['x'], y=df_scatter3d['y'], z=df_scatter3d['z'], mode='markers')])\n",
        "fig.show()"
      ],
      "metadata": {
        "colab": {
          "base_uri": "https://localhost:8080/",
          "height": 542
        },
        "id": "hkvYs9B2dQYz",
        "outputId": "8fca989e-0e3c-41b6-da15-97cefe8fc901"
      },
      "id": "hkvYs9B2dQYz",
      "execution_count": 110,
      "outputs": [
        {
          "output_type": "display_data",
          "data": {
            "application/vnd.plotly.v1+json": {
              "data": [
                {
                  "mode": "markers",
                  "x": {
                    "dtype": "f8",
                    "bdata": "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"
                  },
                  "y": {
                    "dtype": "f8",
                    "bdata": "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"
                  },
                  "z": {
                    "dtype": "f8",
                    "bdata": "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"
                  },
                  "type": "scatter3d"
                }
              ],
              "layout": {
                "template": {
                  "data": {
                    "histogram2dcontour": [
                      {
                        "type": "histogram2dcontour",
                        "colorbar": {
                          "outlinewidth": 0,
                          "ticks": ""
                        },
                        "colorscale": [
                          [
                            0,
                            "#0d0887"
                          ],
                          [
                            0.1111111111111111,
                            "#46039f"
                          ],
                          [
                            0.2222222222222222,
                            "#7201a8"
                          ],
                          [
                            0.3333333333333333,
                            "#9c179e"
                          ],
                          [
                            0.4444444444444444,
                            "#bd3786"
                          ],
                          [
                            0.5555555555555556,
                            "#d8576b"
                          ],
                          [
                            0.6666666666666666,
                            "#ed7953"
                          ],
                          [
                            0.7777777777777778,
                            "#fb9f3a"
                          ],
                          [
                            0.8888888888888888,
                            "#fdca26"
                          ],
                          [
                            1,
                            "#f0f921"
                          ]
                        ]
                      }
                    ],
                    "choropleth": [
                      {
                        "type": "choropleth",
                        "colorbar": {
                          "outlinewidth": 0,
                          "ticks": ""
                        }
                      }
                    ],
                    "histogram2d": [
                      {
                        "type": "histogram2d",
                        "colorbar": {
                          "outlinewidth": 0,
                          "ticks": ""
                        },
                        "colorscale": [
                          [
                            0,
                            "#0d0887"
                          ],
                          [
                            0.1111111111111111,
                            "#46039f"
                          ],
                          [
                            0.2222222222222222,
                            "#7201a8"
                          ],
                          [
                            0.3333333333333333,
                            "#9c179e"
                          ],
                          [
                            0.4444444444444444,
                            "#bd3786"
                          ],
                          [
                            0.5555555555555556,
                            "#d8576b"
                          ],
                          [
                            0.6666666666666666,
                            "#ed7953"
                          ],
                          [
                            0.7777777777777778,
                            "#fb9f3a"
                          ],
                          [
                            0.8888888888888888,
                            "#fdca26"
                          ],
                          [
                            1,
                            "#f0f921"
                          ]
                        ]
                      }
                    ],
                    "heatmap": [
                      {
                        "type": "heatmap",
                        "colorbar": {
                          "outlinewidth": 0,
                          "ticks": ""
                        },
                        "colorscale": [
                          [
                            0,
                            "#0d0887"
                          ],
                          [
                            0.1111111111111111,
                            "#46039f"
                          ],
                          [
                            0.2222222222222222,
                            "#7201a8"
                          ],
                          [
                            0.3333333333333333,
                            "#9c179e"
                          ],
                          [
                            0.4444444444444444,
                            "#bd3786"
                          ],
                          [
                            0.5555555555555556,
                            "#d8576b"
                          ],
                          [
                            0.6666666666666666,
                            "#ed7953"
                          ],
                          [
                            0.7777777777777778,
                            "#fb9f3a"
                          ],
                          [
                            0.8888888888888888,
                            "#fdca26"
                          ],
                          [
                            1,
                            "#f0f921"
                          ]
                        ]
                      }
                    ],
                    "contourcarpet": [
                      {
                        "type": "contourcarpet",
                        "colorbar": {
                          "outlinewidth": 0,
                          "ticks": ""
                        }
                      }
                    ],
                    "contour": [
                      {
                        "type": "contour",
                        "colorbar": {
                          "outlinewidth": 0,
                          "ticks": ""
                        },
                        "colorscale": [
                          [
                            0,
                            "#0d0887"
                          ],
                          [
                            0.1111111111111111,
                            "#46039f"
                          ],
                          [
                            0.2222222222222222,
                            "#7201a8"
                          ],
                          [
                            0.3333333333333333,
                            "#9c179e"
                          ],
                          [
                            0.4444444444444444,
                            "#bd3786"
                          ],
                          [
                            0.5555555555555556,
                            "#d8576b"
                          ],
                          [
                            0.6666666666666666,
                            "#ed7953"
                          ],
                          [
                            0.7777777777777778,
                            "#fb9f3a"
                          ],
                          [
                            0.8888888888888888,
                            "#fdca26"
                          ],
                          [
                            1,
                            "#f0f921"
                          ]
                        ]
                      }
                    ],
                    "surface": [
                      {
                        "type": "surface",
                        "colorbar": {
                          "outlinewidth": 0,
                          "ticks": ""
                        },
                        "colorscale": [
                          [
                            0,
                            "#0d0887"
                          ],
                          [
                            0.1111111111111111,
                            "#46039f"
                          ],
                          [
                            0.2222222222222222,
                            "#7201a8"
                          ],
                          [
                            0.3333333333333333,
                            "#9c179e"
                          ],
                          [
                            0.4444444444444444,
                            "#bd3786"
                          ],
                          [
                            0.5555555555555556,
                            "#d8576b"
                          ],
                          [
                            0.6666666666666666,
                            "#ed7953"
                          ],
                          [
                            0.7777777777777778,
                            "#fb9f3a"
                          ],
                          [
                            0.8888888888888888,
                            "#fdca26"
                          ],
                          [
                            1,
                            "#f0f921"
                          ]
                        ]
                      }
                    ],
                    "mesh3d": [
                      {
                        "type": "mesh3d",
                        "colorbar": {
                          "outlinewidth": 0,
                          "ticks": ""
                        }
                      }
                    ],
                    "scatter": [
                      {
                        "fillpattern": {
                          "fillmode": "overlay",
                          "size": 10,
                          "solidity": 0.2
                        },
                        "type": "scatter"
                      }
                    ],
                    "parcoords": [
                      {
                        "type": "parcoords",
                        "line": {
                          "colorbar": {
                            "outlinewidth": 0,
                            "ticks": ""
                          }
                        }
                      }
                    ],
                    "scatterpolargl": [
                      {
                        "type": "scatterpolargl",
                        "marker": {
                          "colorbar": {
                            "outlinewidth": 0,
                            "ticks": ""
                          }
                        }
                      }
                    ],
                    "bar": [
                      {
                        "error_x": {
                          "color": "#2a3f5f"
                        },
                        "error_y": {
                          "color": "#2a3f5f"
                        },
                        "marker": {
                          "line": {
                            "color": "#E5ECF6",
                            "width": 0.5
                          },
                          "pattern": {
                            "fillmode": "overlay",
                            "size": 10,
                            "solidity": 0.2
                          }
                        },
                        "type": "bar"
                      }
                    ],
                    "scattergeo": [
                      {
                        "type": "scattergeo",
                        "marker": {
                          "colorbar": {
                            "outlinewidth": 0,
                            "ticks": ""
                          }
                        }
                      }
                    ],
                    "scatterpolar": [
                      {
                        "type": "scatterpolar",
                        "marker": {
                          "colorbar": {
                            "outlinewidth": 0,
                            "ticks": ""
                          }
                        }
                      }
                    ],
                    "histogram": [
                      {
                        "marker": {
                          "pattern": {
                            "fillmode": "overlay",
                            "size": 10,
                            "solidity": 0.2
                          }
                        },
                        "type": "histogram"
                      }
                    ],
                    "scattergl": [
                      {
                        "type": "scattergl",
                        "marker": {
                          "colorbar": {
                            "outlinewidth": 0,
                            "ticks": ""
                          }
                        }
                      }
                    ],
                    "scatter3d": [
                      {
                        "type": "scatter3d",
                        "line": {
                          "colorbar": {
                            "outlinewidth": 0,
                            "ticks": ""
                          }
                        },
                        "marker": {
                          "colorbar": {
                            "outlinewidth": 0,
                            "ticks": ""
                          }
                        }
                      }
                    ],
                    "scattermap": [
                      {
                        "type": "scattermap",
                        "marker": {
                          "colorbar": {
                            "outlinewidth": 0,
                            "ticks": ""
                          }
                        }
                      }
                    ],
                    "scattermapbox": [
                      {
                        "type": "scattermapbox",
                        "marker": {
                          "colorbar": {
                            "outlinewidth": 0,
                            "ticks": ""
                          }
                        }
                      }
                    ],
                    "scatterternary": [
                      {
                        "type": "scatterternary",
                        "marker": {
                          "colorbar": {
                            "outlinewidth": 0,
                            "ticks": ""
                          }
                        }
                      }
                    ],
                    "scattercarpet": [
                      {
                        "type": "scattercarpet",
                        "marker": {
                          "colorbar": {
                            "outlinewidth": 0,
                            "ticks": ""
                          }
                        }
                      }
                    ],
                    "carpet": [
                      {
                        "aaxis": {
                          "endlinecolor": "#2a3f5f",
                          "gridcolor": "white",
                          "linecolor": "white",
                          "minorgridcolor": "white",
                          "startlinecolor": "#2a3f5f"
                        },
                        "baxis": {
                          "endlinecolor": "#2a3f5f",
                          "gridcolor": "white",
                          "linecolor": "white",
                          "minorgridcolor": "white",
                          "startlinecolor": "#2a3f5f"
                        },
                        "type": "carpet"
                      }
                    ],
                    "table": [
                      {
                        "cells": {
                          "fill": {
                            "color": "#EBF0F8"
                          },
                          "line": {
                            "color": "white"
                          }
                        },
                        "header": {
                          "fill": {
                            "color": "#C8D4E3"
                          },
                          "line": {
                            "color": "white"
                          }
                        },
                        "type": "table"
                      }
                    ],
                    "barpolar": [
                      {
                        "marker": {
                          "line": {
                            "color": "#E5ECF6",
                            "width": 0.5
                          },
                          "pattern": {
                            "fillmode": "overlay",
                            "size": 10,
                            "solidity": 0.2
                          }
                        },
                        "type": "barpolar"
                      }
                    ],
                    "pie": [
                      {
                        "automargin": true,
                        "type": "pie"
                      }
                    ]
                  },
                  "layout": {
                    "autotypenumbers": "strict",
                    "colorway": [
                      "#636efa",
                      "#EF553B",
                      "#00cc96",
                      "#ab63fa",
                      "#FFA15A",
                      "#19d3f3",
                      "#FF6692",
                      "#B6E880",
                      "#FF97FF",
                      "#FECB52"
                    ],
                    "font": {
                      "color": "#2a3f5f"
                    },
                    "hovermode": "closest",
                    "hoverlabel": {
                      "align": "left"
                    },
                    "paper_bgcolor": "white",
                    "plot_bgcolor": "#E5ECF6",
                    "polar": {
                      "bgcolor": "#E5ECF6",
                      "angularaxis": {
                        "gridcolor": "white",
                        "linecolor": "white",
                        "ticks": ""
                      },
                      "radialaxis": {
                        "gridcolor": "white",
                        "linecolor": "white",
                        "ticks": ""
                      }
                    },
                    "ternary": {
                      "bgcolor": "#E5ECF6",
                      "aaxis": {
                        "gridcolor": "white",
                        "linecolor": "white",
                        "ticks": ""
                      },
                      "baxis": {
                        "gridcolor": "white",
                        "linecolor": "white",
                        "ticks": ""
                      },
                      "caxis": {
                        "gridcolor": "white",
                        "linecolor": "white",
                        "ticks": ""
                      }
                    },
                    "coloraxis": {
                      "colorbar": {
                        "outlinewidth": 0,
                        "ticks": ""
                      }
                    },
                    "colorscale": {
                      "sequential": [
                        [
                          0,
                          "#0d0887"
                        ],
                        [
                          0.1111111111111111,
                          "#46039f"
                        ],
                        [
                          0.2222222222222222,
                          "#7201a8"
                        ],
                        [
                          0.3333333333333333,
                          "#9c179e"
                        ],
                        [
                          0.4444444444444444,
                          "#bd3786"
                        ],
                        [
                          0.5555555555555556,
                          "#d8576b"
                        ],
                        [
                          0.6666666666666666,
                          "#ed7953"
                        ],
                        [
                          0.7777777777777778,
                          "#fb9f3a"
                        ],
                        [
                          0.8888888888888888,
                          "#fdca26"
                        ],
                        [
                          1,
                          "#f0f921"
                        ]
                      ],
                      "sequentialminus": [
                        [
                          0,
                          "#0d0887"
                        ],
                        [
                          0.1111111111111111,
                          "#46039f"
                        ],
                        [
                          0.2222222222222222,
                          "#7201a8"
                        ],
                        [
                          0.3333333333333333,
                          "#9c179e"
                        ],
                        [
                          0.4444444444444444,
                          "#bd3786"
                        ],
                        [
                          0.5555555555555556,
                          "#d8576b"
                        ],
                        [
                          0.6666666666666666,
                          "#ed7953"
                        ],
                        [
                          0.7777777777777778,
                          "#fb9f3a"
                        ],
                        [
                          0.8888888888888888,
                          "#fdca26"
                        ],
                        [
                          1,
                          "#f0f921"
                        ]
                      ],
                      "diverging": [
                        [
                          0,
                          "#8e0152"
                        ],
                        [
                          0.1,
                          "#c51b7d"
                        ],
                        [
                          0.2,
                          "#de77ae"
                        ],
                        [
                          0.3,
                          "#f1b6da"
                        ],
                        [
                          0.4,
                          "#fde0ef"
                        ],
                        [
                          0.5,
                          "#f7f7f7"
                        ],
                        [
                          0.6,
                          "#e6f5d0"
                        ],
                        [
                          0.7,
                          "#b8e186"
                        ],
                        [
                          0.8,
                          "#7fbc41"
                        ],
                        [
                          0.9,
                          "#4d9221"
                        ],
                        [
                          1,
                          "#276419"
                        ]
                      ]
                    },
                    "xaxis": {
                      "gridcolor": "white",
                      "linecolor": "white",
                      "ticks": "",
                      "title": {
                        "standoff": 15
                      },
                      "zerolinecolor": "white",
                      "automargin": true,
                      "zerolinewidth": 2
                    },
                    "yaxis": {
                      "gridcolor": "white",
                      "linecolor": "white",
                      "ticks": "",
                      "title": {
                        "standoff": 15
                      },
                      "zerolinecolor": "white",
                      "automargin": true,
                      "zerolinewidth": 2
                    },
                    "scene": {
                      "xaxis": {
                        "backgroundcolor": "#E5ECF6",
                        "gridcolor": "white",
                        "linecolor": "white",
                        "showbackground": true,
                        "ticks": "",
                        "zerolinecolor": "white",
                        "gridwidth": 2
                      },
                      "yaxis": {
                        "backgroundcolor": "#E5ECF6",
                        "gridcolor": "white",
                        "linecolor": "white",
                        "showbackground": true,
                        "ticks": "",
                        "zerolinecolor": "white",
                        "gridwidth": 2
                      },
                      "zaxis": {
                        "backgroundcolor": "#E5ECF6",
                        "gridcolor": "white",
                        "linecolor": "white",
                        "showbackground": true,
                        "ticks": "",
                        "zerolinecolor": "white",
                        "gridwidth": 2
                      }
                    },
                    "shapedefaults": {
                      "line": {
                        "color": "#2a3f5f"
                      }
                    },
                    "annotationdefaults": {
                      "arrowcolor": "#2a3f5f",
                      "arrowhead": 0,
                      "arrowwidth": 1
                    },
                    "geo": {
                      "bgcolor": "white",
                      "landcolor": "#E5ECF6",
                      "subunitcolor": "white",
                      "showland": true,
                      "showlakes": true,
                      "lakecolor": "white"
                    },
                    "title": {
                      "x": 0.05
                    },
                    "mapbox": {
                      "style": "light"
                    }
                  }
                }
              },
              "config": {
                "plotlyServerURL": "https://plot.ly"
              }
            },
            "text/html": [
              "<div>            <script src=\"https://cdnjs.cloudflare.com/ajax/libs/mathjax/2.7.5/MathJax.js?config=TeX-AMS-MML_SVG\"></script><script type=\"text/javascript\">if (window.MathJax && window.MathJax.Hub && window.MathJax.Hub.Config) {window.MathJax.Hub.Config({SVG: {font: \"STIX-Web\"}});}</script>                <script type=\"text/javascript\">window.PlotlyConfig = {MathJaxConfig: 'local'};</script>\n",
              "        <script charset=\"utf-8\" src=\"https://cdn.plot.ly/plotly-3.0.0.min.js\"></script>                <div id=\"eb68bffe-e8ec-4097-a4cc-599f849c0fb0\" class=\"plotly-graph-div\" style=\"height:525px; width:100%;\"></div>            <script type=\"text/javascript\">                window.PLOTLYENV=window.PLOTLYENV || {};                                if (document.getElementById(\"eb68bffe-e8ec-4097-a4cc-599f849c0fb0\")) {                    Plotly.newPlot(                        \"eb68bffe-e8ec-4097-a4cc-599f849c0fb0\",                        [{\"mode\":\"markers\",\"x\":{\"dtype\":\"f8\",\"bdata\":\"qF7T0S296z9lvRHnjvTkv31pxXASYek\\u002fJButK4no9j8F8gO74ovkP4eY2YWuK\\u002fc\\u002fIBoYoX34bj\\u002fzFEhU24fmv\\u002fM84t4ByPi\\u002f1BF6JEjW7b99xL9jnevbvwPaPsOhrcA\\u002f5aZPCS4j2L\\u002fGzjy8iTDlP\\u002fu1sxQFud4\\u002fK6FM5tI6AkDnc4RaXPvrPxi23iyTDfG\\u002f1ERb4rVV6D80SqUDxHbhP5ln7Z3eo+A\\u002fZUGy\\u002fPF0ur\\u002fOYFo6UwXFv4DfhEKTLJO\\u002fXIJbmZ5Sxj8PU8QAH44CQB+a1gq1fva\\u002fCmARAh\\u002fU1D8iJX51ODrcP83IQjBh+tK\\u002fY\\u002fdnBowB67\\u002f\\u002fbjzDUbD4vw9xzLfoz94\\u002flNnBsvHgxb+6Y\\u002fcvN47RvwSz06MRB\\u002fe\\u002ffs0\\u002fF8Sy\\u002fL8CR9+rVzu0P6Cv9Be0C9u\\u002f49UYayqI0r9im4gkAxPlv3u8zUZi5++\\u002fPVxND+AC8T+ajIydKti0v9cT9I4yj5I\\u002fgs6\\u002fGMOKeD+LKZmabvvmv0MgpyIuyOQ\\u002fEj1lKjer8D\\u002fptpRKpl7nP64Wf+zL9t0\\u002fYx2Bzi2M2L9kZ3yd\\u002fI3wP1S7KtQcSfG\\u002fUKEvfBUp+j\\u002fiwhchzvvmPy9QXEQ5yO0\\u002fphQZNKxI1j8Dn150Q8fQv0XUe1s+n+C\\u002fQeCRqRtc9L8D0Yt14zrgP41bHW6TsPu\\u002fadonH8ei+T++J8P7HVj0P2evb1xZQQDALeAOt4eL2z\\u002fZcGaE4xXaP7RkgDJzO+Y\\u002fcc5dtsQitr9z6wLj8g7zP0wlm0GLz+2\\u002fziDC4IRQ3D9h+VB298bdv42TvTdBP+i\\u002fCYkcPKZm+D9t5ztLGyr4v\\u002fh4ofIYbvS\\u002fE5\\u002fTS7w\\u002f1b9eZwUb3s3qv0R\\u002fuv+HleA\\u002fhM+cAKhk079+FGXUi77qv5rfZ+NvEQjAkTi5HE5zrz\\u002foQuRrsT\\u002fVP5kEzB\\u002fHqN8\\u002fsoGRHrSS+79999naSmznvy\\u002fT8hKyL94\\u002fZ46gJyHc5r95vkJRYF\\u002f\\u002fP4ybIeb6puc\\u002fCgXiMx+l6D+udP\\u002fkjnbpP2wxBucmOgLAo7+xYet267\\u002fkH\\u002fRKYLLeP05YAC0Buug\\u002f91TVGwVH\\u002fL\\u002f0S7T6dGPzvxg4Km2nidA\\u002fp+6iqVyF9L9EHsVfLS3uPyB\\u002f6tURPtu\\u002fAhC\\u002fUmjlxz\\u002faYPNGxcHav3yUOQh60t8\\u002fTK9YbybO0L9jF8+N+6bOvy7GwXBzHuy\\u002fTSi8bW\\u002fHwL+LNusysQ7gvwsn2gpc3+Y\\u002fk+nnOEmX7T\\u002fC1ab87H35v+dcBBjdPea\\u002ftQ\\u002f1ntIn3T\\u002fMF96uNdcAwEPivcq9o+0\\u002fz07ozbxT37\\u002f3ctviRI\\u002f7v41rdbYwzsq\\u002fP3Sc0C+S8z9X4Kdx26LPv3mue5W1fOg\\u002fZem\\u002f0Gsf+L\\u002fUoFr4zSv\\u002fv6MJP1Aeiug\\u002fbNAI+ekSu7\\u002f42eKrFubQvyLeIjKy4I6\\u002fCK3Isu4T57\\u002f1Updyy7\\u002flP3sopFPf9vQ\\u002fCbkrHqAXA0AtCndtk\\u002f7eP0dF02+CiNk\\u002f7j3MhrId6z+qYGezMEbgv3alVLwEfuw\\u002fDNy3XYps9r8E1LhjxhXgP9DiQFjaAPM\\u002flmdtcMCTAED7x\\u002fBEk6j3v9T20WAJAOQ\\u002fNcxe8P5CyT97039tx1vgv9j8+umfwt2\\u002f96H2Uj5y7T+0g4ljQkndP9WT22BZNuI\\u002fQ9XkeN5T4r+MEY4WxAL6P5Ylw5a+h8O\\u002fl9cmraG87b+3z1CCcxHkP7G8OZmdmOw\\u002fx+xD+f4Vzz+dZTEwBgbrv\\u002fK9F0PbCbk\\u002fAHjvgG9A9r\\u002fzbE7DtXX5P94zZ2p9Qfo\\u002f\\u002f\\u002fFM2CzVyj9IenNFgEDyv8TfIr1Q2vO\\u002fVZUpt77g7b8yeflQLmXxP8FQU134du4\\u002fl11czchN8b8LjgRHeM3cP1odj1VPv8w\\u002fz0nFjCf6+b9McJJke3Dzv0J6uO22bgHAP+0b84Vs\\u002fL9JsZI+k6LAv9pQ7OP4wa2\\u002f2ynKNqR98j8sz5S3PKbev3eOM3CjD\\u002fG\\u002fEHFzEn03\\u002fT\\u002f1fBOFRu3uP726d20NZOq\\u002fPWWLH6Vy379uVTN4lNDtP7eL4YIAbfO\\u002fh4ohNVp2AUDfr1ZzrIjwv32wAhFnB86\\u002fxYezA7fD7z9N7XLpm2fxvzN56bj9Eeo\\u002fUxKdRnzQ4b9r9Nwh0k7av+QnEdqXp+2\\u002f\\u002f\\u002fN7Gv1F9D8bVR6Dso66P9QycZcvkPi\\u002fSc4zYVG41z9RHga+WnLaP0GKGNhM2QJAFZ2uL8mu8L+kJEq+2cPiv85iyAyecZs\\u002fVm4e0KHC4b\\u002fZ08ueQNKpvzilbmUcA+e\\u002fkGtH40YT4j8h39ThLWCXv7p8AVFmHdC\\u002fXQ1k24Pp8D8U5ROJSE0DQL6fFbDfHey\\u002fIi0Yugyb0D+rKisl+Wfmv7qgu5PnGO+\\u002f\\u002f8cbUJ49CcCE2yDxPXDxP2k4zGqBGeO\\u002f1pIIyZnp7r8wmg9flkD0v9DX8QEqW8I\\u002fQoeIdLvI2L8Ya4MyLh\\u002fsv2FdipyiJr+\\u002fJ5WTqJDf9T\\u002fQwJpgzA76P\\u002fPIn3+mxvM\\u002flAfM\\u002flow4r9iwm3ahhHvv0aibct7i9q\\u002f1AgdqeXf879bEEPit3\\u002frP+h44Hz26fA\\u002fW+OLgQulxT\\u002fJ3LJd6oD3PxhyytOvXeE\\u002fKwExv+HPzj+mwTPkKAsCwA2rV8YWer2\\u002fGTAYBDK22T+ZLWkHx3PbP2gmbsxI\\u002fvG\\u002fkxwX\\u002fK+T6L+myp1+AqV9P6MdXULdb9g\\u002fjO5qC6zN8j+XmgBU488EQH34IQsAaOQ\\u002fRzfG5\\u002f8EjT8kV4ztSCjvv8lObV+VWPQ\\u002fkRSjdTmj6L+yGp0LyrrQv4co4JtRNMQ\\u002fPYRFPOAL4D\\u002f68XiE\\u002fcDov+\\u002ftsSj7PfC\\u002fL3JhOTmL0T\\u002fvYSKMtTXfP1mfhQyOQbO\\u002f6Kw8Lv73679d6GQboiT1v\\u002fJ0BypsGPG\\u002fODQBi5aJzz92EL4JYzn5vwRE9W\\u002fNkfQ\\u002fFtsz\\u002fh7X\\u002fr8gP3Ln84X7P2AruKa9q+k\\u002f9yqKZRSezz9cOxO\\u002fm4W7P5ZhZ4jCGfU\\u002fDOVOt9qLxz8an+crauLcPxB02nj8LNi\\u002fHc75lIhRzT+fj+ndd038P8rfGLunyfM\\u002foXWsyfgT4T+CUtOGblrsv2YOtuX1E\\u002fA\\u002fm3cpC\\u002fyLxL\\u002fCMj2mdl\\u002flP3Zcmi51Z+E\\u002fi7OKWkEw3z+Bq8RwB7LePwLKIpHmHPc\\u002fxLbBUJ47BUAo4Uj\\u002fiuftPze\\u002fnGzlTPI\\u002fXeyib625+T8jgnH0hdX0PzWqMCKcZ+M\\u002frLKf6vRe4z+khPSkjhChvyco3sUn3Pe\\u002f\"},\"y\":{\"dtype\":\"f8\",\"bdata\":\"ibrsBTXv7D8WNNXvDLLzvwiU9sqhPAFA01XRVezE\\u002fb+btIBgQqfCP6gcWp08A96\\u002fsbHrRk3H0b9sOscntkD0P\\u002fFG1jHWhfI\\u002fsND5pS7z5T8doOXxdLDSPxU0FXNywsE\\u002f\\u002fyRRxzEK7T8NvhkfcUoAwEza+z2yuO6\\u002fbyXMKz1M+T+rzyid5p\\u002fpvy0XmMYOlOq\\u002fIUF9GJKk4L+MN1hXTxH3P2NSEkMNh\\u002fi\\u002fFwSoOepruT\\u002f+cuPtCsTaPyGI8PHNyNS\\u002foBnpONRA57+u42E7hP7iP0khl0ZMQtM\\u002fmhKjdtN77r8RajNpqJvjvxoiH2T\\u002fXAhAnY09wCzw4z+Li\\u002fCUSjbxP2gB8hl0j9S\\u002fK2QtOZUP3T9R+VcqFoLVv+lQfuKjD80\\u002f+N+ur9UrzD8jK4Y+Hjn0v3oIeUenPvU\\u002f06OWhHSw9r8H\\u002fvaGPoDpP+mFp5TO4+c\\u002fX+lhelbY8D+3QdGuyPn0v83V7eKNUPY\\u002fppBjrAAf1T\\u002fyrMHP0V\\u002ffP8jJiujjVMU\\u002feRbM1xuj\\u002fj8DvsEtLQXkP8Dur17HSdU\\u002fkiJXfOdp8D8G6YRYjBXzvyfIBBDY8ey\\u002fttb9HsSM2L\\u002fwY019gzMBwPmErZklb+o\\u002f8LXBU\\u002fC0+j9o8CgwmFnLv7wUyNwJ\\u002feI\\u002fx+S2\\u002fZBz7r8T8EAhkQB+v6mOq3oI4+8\\u002fz90K5Rcs6L\\u002fqlGTMWgnTv3xwuDLacuO\\u002f4qc\\u002fcGuD4L\\u002fKrHlrKo35v2OyaI0RJum\\u002fKa2d\\u002fDXX779\\u002fHA9huW+mPwDt7yD24Ns\\u002f+f95UZM59r+cjxTd9kECwEqd2c8aFvQ\\u002f10uZ4os8lT9oTjMnFx6ovzk9Lx5yGQfAMjHefOxSzr+mOY1nRoe2P+QBVZB3gd2\\u002fIlrNmlFv8z9sMwEUwOziP44KA4vyj9y\\u002fS5gfY5sK6D9XrjiiEwzdP6toz+k32Oy\\u002fxsnsu9rkBECOJ7KLCyuxv1cOIYLhpec\\u002fHTxKd1LO8z8ZEW6kVJLyPzH3BuSSDa0\\u002fn9HMa0pN1D8qmjW+jOu4P0ptz+aquPc\\u002f3mtecM1K2T\\u002f4ldGb1JfxP1VxTm06Asu\\u002fVHU5k7k03r8+aEDa8Jq7v6elnuGHVO4\\u002f7bLV0hH8BEBw8Fpc1Pvkv\\u002fkz\\u002fdr0Vce\\u002fT4zqPqmetj+hDHWQ4yn5P4j5RbzCg\\u002fA\\u002fRzMB4a0QxL8frCKHsY7sv0DGEgScd\\u002fQ\\u002fhk1NZ5Ro8D8KSw6PGgHoP7UiLr7cf6s\\u002fA4t85\\u002fil878tkSfbQhzKP3nJVyzsfsM\\u002fdzLLJf6I2b96aZi1m5\\u002f7v9nPVZbpXuS\\u002f0A8XR7T54D8BFUAp43fOv0KSEdNNk\\u002fU\\u002fDwzkWw9H6T\\u002fRoTqiWbzSP4dzrcWcRLW\\u002fdFREUG3Jmz+iWUEEfej5P5s+2Zo4D9w\\u002fu3NPbWMZ4D9WDVwphUa4v4LPMdrIc9i\\u002fju1EOgaU8L+Y7xnBrMTFP\\u002fXmvzqiKcm\\u002fjCMRlYHY5T\\u002fF1CsqPwbzP\\u002fgpvzFZqvU\\u002fZvSM8oNXAcDz\\u002fjbndLLRvzfYS2cUJc6\\u002fXkwFg\\u002f+Izj9Pf1sRYBrlP6VMCPlet9A\\u002fUEyPFbvPAEArsVcocvrdvwLDitaiQNM\\u002fCCprDnSa07+2g136Oyyzv5I4KTcy6NU\\u002flgxJpA1wRT\\u002feLINuu+Plv4xyXNPJUum\\u002fy1NO6NrS3T9xg8\\u002f0l3nkvweGqra0rfI\\u002f2KcPjQAw5b9sN1AbEJPWP0zNFgW1teU\\u002fMrpgMiXn5D8kml7kv2Tsv+yCLKTeJ+8\\u002fL8LmgnGq4z8oem\\u002fdvZfwvy0k5YTSkP4\\u002fXHqKN4sg4T8BzTvov6\\u002f6vz2mGEYhNaU\\u002fifcj31e93r9a\\u002fD4s9b71P0LWfcntZeQ\\u002f7VYUiOYt97977mcjTTDwP5sL5swXgeO\\u002frKnou+cT1j93LFILRc3zP44i3Lo+y\\u002fy\\u002fArewuOfj6D9HTEZCBmzQP0IjSd612vy\\u002fnJX9cV+psz9ARwHI3wnhvzYZbVEMZe2\\u002foHc44+RD2L8LK\\u002fjGP3jsv1fYHswx2fE\\u002fzfgu9Ezj6L+uYBDDQazBv6s0zY7+q+y\\u002fagR7WmVg9j8JcS29b6revwka4ekApdu\\u002fq5dIuBBdyb8DVyRu9ejqP4TLsG4up+K\\u002fc3Hg7NHM6b+Edh54uQnyv0U0mpaGq9G\\u002f2N2hTBT1wj+n09wEHQmgvxF0Lmewr\\u002fU\\u002fD\\u002fZFKZ7r8T90zpo2EL7\\u002fv67EkvRdeLu\\u002fDeCVqhOc3D807h33OqzyPyGE6TDG0r+\\u002fn2ewSPliAcBhaAVcfP6UvzAQ+lluvdC\\u002fUVMRx9c84z9ab7wycBrmv6vtfZdCre4\\u002ftvV4aYhO5b89zCpDglGhv9oVjl5NR9I\\u002f7Ht7YJCQvj8McMPs746XP0eNyzahZNs\\u002fe7HoohTi\\u002fD8RHTSeh7PlvzUDXo+LYMc\\u002ftbJiNBnSzb+i16HEppa6v\\u002fKn9s4D0Oq\\u002f7FaqFnKY1b82YHYMVT\\u002fSP08l1yNg1N0\\u002fc7Ot3G3t0T88AETasqSQPzUSwJ8eBNc\\u002fOT2NgjSw179Mgyr4jnn2v6p5to5\\u002fRMk\\u002fDCi9a1bn0z\\u002fZJJasPPPnv5xkvTfvWPM\\u002fj8XnFZaHoD809tZqfv\\u002fCv+YJCpz2puK\\u002fY+cAZ1ZQtb9iQ0MzWCH1vwezJTZlAtO\\u002fdOiDbNnp879IaAAzEqLRvwwjNwWGv+E\\u002fSVwkku778D+o06ywaXcBQF3DTSGllPC\\u002f0NvpZsJ36r\\u002fQLQ5hxr\\u002fiv33Mer60l92\\u002fSvBs+6XP6z+7z2Rwdh3zP3ZDzVf3DP8\\u002f7NpLKibw5b+VAMWP2xayP0wxEoUg6Pe\\u002fAec1Hjwv0r\\u002fEZePIfkDqPyiyOklY37a\\u002f\\u002fnL2Nv\\u002fv0z8sQ4D5v8zOP\\u002fj21mwKiuI\\u002fsJuPVNC\\u002f5r9BC4QaltT3P722qrc6z+6\\u002faEjwbbGA2r8cqMpSFGT\\u002fvxY0+rEKNL2\\u002fuAgmoATw8b\\u002fpPPg\\u002f11\\u002f0vzlbN54w\\u002fd+\\u002fcrgNX6Na7L+Cqsy2Fub+v8EqqcPomcC\\u002fKdxc4iuF9D+xiiuBc87bv6CjZKowWew\\u002feZ1pL7DJ67\\u002fz9OZ2Tn7mP01JtHpSmtc\\u002fz\\u002fXK64zlvb9PyhIexi\\u002f4Pxwa6lakO+e\\u002fKOnxompx+7+fUuFb7AAAQMFPRV34YOc\\u002fuGQg7yghzj980Ch1dt6nv5b9tgk81dS\\u002fBVfvWghx7j9mjw9xyCnwvyBSrfiW3Mu\\u002f5vdNsk8v0b8zUXXO0HgGv3gWbUXMCvK\\u002f8Rcml9DQ5T9BLdbj7wfZP+urH1JLxtY\\u002f\"},\"z\":{\"dtype\":\"f8\",\"bdata\":\"z\\u002fPe40MZ9b\\u002fOAf\\u002ftM3DtPx0tgPL0xOS\\u002fhMQGOoDzAcCGxpBXLgn9P2tGQOYREPe\\u002fEHTVfv0W17+GKhcGjt71v8GKWD\\u002fwT+m\\u002fsW3Qu1VF9T8GsR1Cvfv1P7YVYBdI0fe\\u002f2XT8N9lp4j\\u002foo67F30nVPzyiKokri68\\u002flea7T9Ri7j8+4V\\u002fzCy\\u002f3v9VZIF8dduA\\u002fFbX3nvQG6T\\u002f\\u002fmP9WNuDxP3yQZDDBBeM\\u002fanVkG3n37z91PhfOyYzUP2wWENzLsO0\\u002fv1X\\u002f7sok4z+s0XQejAIAQDpAJN87PvM\\u002f+o1jsTbz5T+jeHOnPbesP0V1WD5FibE\\u002fv9DCyU6o1T\\u002fHm2eHn+PHP4b+rh4niPq\\u002fmtNxIcUp5j+g\\u002fNWOR7DqPzI4O\\u002fwtpPG\\u002f4AuGDKpG1z+cdLFrmc7avyvxeSc9Vee\\u002frdPJorWR1r+twNXA+fD5v+kHMQ49Nu+\\u002fb1gZa01b8T8XtdDTup\\u002fWPzJ41dpOhP4\\u002fY\\u002fSVQjr+8L+NA\\u002fA206GuPxfwkIiOpPU\\u002f\\u002fFJ3sks21r+fYAwtqErwv55QefcmYei\\u002fImB0ew+q4b9EXURgxMblv54Fcl5e5bQ\\u002fwgfHsOCvr7\\u002fUoOI6xrniv2TjfCkIYfC\\u002f57VJo3Xi\\u002f79AROHyAuvzP\\u002fHQY6+useQ\\u002f+ftOjBxP8D+WNnlPKKDxv+vJRKjRN\\u002fG\\u002ft8Q4zEDey7+IHcIKdAqDPw6TBiq43\\u002f2\\u002fdjZ3qDoo6j9wC23L13PjP4Sl13kJ1+O\\u002fPDhZ3qad9z\\u002fzhVAHRKAAwKsofbh8r+s\\u002fOXRY8DtT9j9Ldnh1dzTVPx\\u002fA4ZrkR+s\\u002fxwqazzQV7r8JYz3Id+bTvz0c+LxHkO6\\u002fxJ2toowL7r\\u002fmosEGyDjhvwyEz5DvrrU\\u002f9JUrwvvs7D\\u002fYT9MTAy\\u002favwucKVmrANK\\u002fxg455C0r3r+Xk4Wqp2jhv2v7kZzQB\\u002fI\\u002fGExwbJWF2r+bwiw3\\u002f6nyP4zj93KLPPG\\u002fOU5UFRzI5r9lzTwVyFHlPxdGUUVp7tA\\u002fVAuVBMuV8b9gg3E7SSjQP3A+dsw19+S\\u002fzbFImdkN8z99Bn557X3Nvy1CHddfhJA\\u002fxO6WkxzQwL8fJy56D\\u002fv6PwAdZZrCodM\\u002f90yblVrh7r+h6XJUphO2vxYpCxFT+eu\\u002fZYTTtiz23b9mc3\\u002fEZYzrv9K4a9v1Lcm\\u002fUkfxRXzP3j9SM0bbCPbfP95TFoShE4m\\u002fz6TrVr0+6z9j+uU7zWvuv5gH3f2SPNi\\u002fqW38vITk8L\\u002fbV8pz8bnVvwjtxTFp7p6\\u002f7OBNNCZF0T9qDCgO7+3Gv8Tt\\u002fGr9rd+\\u002flO6aYdluyL9+eVsfnS7tPxg4t9opOeS\\u002f5evUZ+BOxz+wrg7oPsrhP3TwbVdnp94\\u002fF\\u002fRkYgQkzD9SnJxPZJTev1dv00mLMOs\\u002fvybUjWvY8D\\u002fzYg8KRCDyPycD2tegd+W\\u002fg5RsHuiM8j+10lDEtYfiPxrc9mqCw+w\\u002fuhITPb\\u002f547+fRAqEyfzNP6sX9T\\u002ffmLy\\u002fpLLesKgc+j9J0Oo6kgjxP3MxXulTQuM\\u002fWjruQoTF179vLjFrhf\\u002f1v5\\u002fCHQCCvOO\\u002fLa6KjD0i6j+anMfhktrnP8Y5ZqW2IOW\\u002fRmaZKurT3r\\u002fEgYC6S7zTv20AjgslN\\u002fo\\u002fiGsLrdHS7b8bnQDNDDHtv47QKkE9Wfe\\u002fGkhPhe3T3L+t5b\\u002fX+ry1v6luDjspVPE\\u002fFmOqPnCk9D\\u002flXAMH+pfpP7Bv2eiUiglAYZHbChHc3D\\u002fssNzhEXTmvx\\u002ffREICVdw\\u002fvZykoiQl2T+r9EmGWyLRP5kLgcFsqsI\\u002ft51dgEhe3z\\u002fA2PhpepCkP3Ywdc+PbwTAS0HQdYXn+j9xogqAtl\\u002fhv1yuJBcZVLk\\u002fP6DT0FDk7r9eIovB+HjtP6CmoGjpVNy\\u002fUGHl\\u002fu7f5z\\u002fUxd7C5DXXv\\u002fHzRkFj6Oo\\u002f82lvdAPe+79l+839M+jzv6RgoVZayew\\u002fpLLAWHi85z+u70HpmZjtPyaNSyV4T8k\\u002fh4BpfYXh2D\\u002f81sO34UTxv+A7XkKWQfQ\\u002fYRiE5OQX47\\u002fbs8Nr6J3lP1cpbc5lC7s\\u002fmaNmzals6L8ly9qiUI\\u002fgv7q4g47bt8K\\u002fnbMKAKUH8r8USNvv6xjIvzjf7rFterG\\u002fesSKUaeM2r\\u002fk08JqgX+AP8zxziGUutw\\u002f7BzSzSUi4T9Ds+PAncMCwBTcvwctTeQ\\u002fNM1DOkif7T+Prmgkqr3PP63T58pMq90\\u002fwh\\u002fnaVt6\\u002fT8NvmAThwDoP2BkUbSsDpe\\u002fJLEi+jHbu7\\u002f740cgmrPbv6W0Eskw\\u002f+C\\u002fFKw1d3bX9j84Ccsygy70P3VhAND8VVi\\u002ftIBB07Sc6D+7c6W\\u002fIuHhP4LYIS6Jo+K\\u002f5Z2SU9lZ4z8JdVGmNqf2v9R3sY2z\\u002fdQ\\u002fxbMoAuXQ6b9YKmwOHKDUP\\u002fPO4S\\u002flmuS\\u002fj3FyBP7L8L+29NuiIRb7P2f1DKlijfU\\u002frdhyZamftj8XNtzAZaj1vxRKmmmAD\\u002fM\\u002fiHo3GnuFwL+x2xiyw9XLPygLvWP2bPG\\u002fFWw53QBR97\\u002fTjkjZUhTzPzWCAZJ2xO2\\u002fv9P8H80rAMAOPMS9MogFwGh0Q9+SB5c\\u002fByDYdv5x0T\\u002fbzFwBDcvxvyh1e701qvO\\u002f990edCNR8D8k+LVqOb7jvxhDsDEHjvu\\u002fdRLKYLSt7r\\u002fAI3dEdlzUPzPT0SCPr8i\\u002fxN1792z40D\\u002f4WautQ\\u002ffZv+scfTkhsd+\\u002fh3N8+o1N5z+oDeSJRWftv5K37mvYSNE\\u002f+doIZ1jC8b+KxhifBn3zvwBo1hEVbeE\\u002fGFMTYNFu8781sSak6eLqP0be1+uWf\\u002fW\\u002fhy0BmFnT\\u002fT\\u002fHTzsC7IzVvy8RPwO5ePS\\u002fvElE8J1T17+1PsFbDR3dP0X8Hy4aTee\\u002fSIp+gdyMB0B3V8lR2u57v6cnW9WtRe4\\u002fBrg90Iat6D+O3TwJM33yv+HtmpjP7sg\\u002f3zVveg428b\\u002fR\\u002fHT6esnjPxZTnb9Twt0\\u002fOd9YHXoc\\u002fT\\u002fKeZhtTNv1P3LET4bocqo\\u002fmaLl3nTL4D\\u002fYxmR3fbfRP2b1yy3Ivvq\\u002fVwYW4\\u002f2D9r+gMFx4CNreP3x+jVB44ue\\u002fdRhTUvTW+z\\u002fJzTsPoEvBv+vOomHfacY\\u002fN7Z9c0QEvj98m3JsoRz4PzlfizPr5\\u002fe\\u002fdgcBGLZy0L++jjJQWMHyv7vxlCpSNeK\\u002fOnYw3dGW\\u002f79XWaGxxsXtv2xoPv1VdeM\\u002fJO+8+0iH9z9qYAt2WjjGv89+2rZyP9O\\u002fyLhiD8UQ+T+eFhMPOITjvz7GZFvBWN6\\u002f\"},\"type\":\"scatter3d\"}],                        {\"template\":{\"data\":{\"histogram2dcontour\":[{\"type\":\"histogram2dcontour\",\"colorbar\":{\"outlinewidth\":0,\"ticks\":\"\"},\"colorscale\":[[0.0,\"#0d0887\"],[0.1111111111111111,\"#46039f\"],[0.2222222222222222,\"#7201a8\"],[0.3333333333333333,\"#9c179e\"],[0.4444444444444444,\"#bd3786\"],[0.5555555555555556,\"#d8576b\"],[0.6666666666666666,\"#ed7953\"],[0.7777777777777778,\"#fb9f3a\"],[0.8888888888888888,\"#fdca26\"],[1.0,\"#f0f921\"]]}],\"choropleth\":[{\"type\":\"choropleth\",\"colorbar\":{\"outlinewidth\":0,\"ticks\":\"\"}}],\"histogram2d\":[{\"type\":\"histogram2d\",\"colorbar\":{\"outlinewidth\":0,\"ticks\":\"\"},\"colorscale\":[[0.0,\"#0d0887\"],[0.1111111111111111,\"#46039f\"],[0.2222222222222222,\"#7201a8\"],[0.3333333333333333,\"#9c179e\"],[0.4444444444444444,\"#bd3786\"],[0.5555555555555556,\"#d8576b\"],[0.6666666666666666,\"#ed7953\"],[0.7777777777777778,\"#fb9f3a\"],[0.8888888888888888,\"#fdca26\"],[1.0,\"#f0f921\"]]}],\"heatmap\":[{\"type\":\"heatmap\",\"colorbar\":{\"outlinewidth\":0,\"ticks\":\"\"},\"colorscale\":[[0.0,\"#0d0887\"],[0.1111111111111111,\"#46039f\"],[0.2222222222222222,\"#7201a8\"],[0.3333333333333333,\"#9c179e\"],[0.4444444444444444,\"#bd3786\"],[0.5555555555555556,\"#d8576b\"],[0.6666666666666666,\"#ed7953\"],[0.7777777777777778,\"#fb9f3a\"],[0.8888888888888888,\"#fdca26\"],[1.0,\"#f0f921\"]]}],\"contourcarpet\":[{\"type\":\"contourcarpet\",\"colorbar\":{\"outlinewidth\":0,\"ticks\":\"\"}}],\"contour\":[{\"type\":\"contour\",\"colorbar\":{\"outlinewidth\":0,\"ticks\":\"\"},\"colorscale\":[[0.0,\"#0d0887\"],[0.1111111111111111,\"#46039f\"],[0.2222222222222222,\"#7201a8\"],[0.3333333333333333,\"#9c179e\"],[0.4444444444444444,\"#bd3786\"],[0.5555555555555556,\"#d8576b\"],[0.6666666666666666,\"#ed7953\"],[0.7777777777777778,\"#fb9f3a\"],[0.8888888888888888,\"#fdca26\"],[1.0,\"#f0f921\"]]}],\"surface\":[{\"type\":\"surface\",\"colorbar\":{\"outlinewidth\":0,\"ticks\":\"\"},\"colorscale\":[[0.0,\"#0d0887\"],[0.1111111111111111,\"#46039f\"],[0.2222222222222222,\"#7201a8\"],[0.3333333333333333,\"#9c179e\"],[0.4444444444444444,\"#bd3786\"],[0.5555555555555556,\"#d8576b\"],[0.6666666666666666,\"#ed7953\"],[0.7777777777777778,\"#fb9f3a\"],[0.8888888888888888,\"#fdca26\"],[1.0,\"#f0f921\"]]}],\"mesh3d\":[{\"type\":\"mesh3d\",\"colorbar\":{\"outlinewidth\":0,\"ticks\":\"\"}}],\"scatter\":[{\"fillpattern\":{\"fillmode\":\"overlay\",\"size\":10,\"solidity\":0.2},\"type\":\"scatter\"}],\"parcoords\":[{\"type\":\"parcoords\",\"line\":{\"colorbar\":{\"outlinewidth\":0,\"ticks\":\"\"}}}],\"scatterpolargl\":[{\"type\":\"scatterpolargl\",\"marker\":{\"colorbar\":{\"outlinewidth\":0,\"ticks\":\"\"}}}],\"bar\":[{\"error_x\":{\"color\":\"#2a3f5f\"},\"error_y\":{\"color\":\"#2a3f5f\"},\"marker\":{\"line\":{\"color\":\"#E5ECF6\",\"width\":0.5},\"pattern\":{\"fillmode\":\"overlay\",\"size\":10,\"solidity\":0.2}},\"type\":\"bar\"}],\"scattergeo\":[{\"type\":\"scattergeo\",\"marker\":{\"colorbar\":{\"outlinewidth\":0,\"ticks\":\"\"}}}],\"scatterpolar\":[{\"type\":\"scatterpolar\",\"marker\":{\"colorbar\":{\"outlinewidth\":0,\"ticks\":\"\"}}}],\"histogram\":[{\"marker\":{\"pattern\":{\"fillmode\":\"overlay\",\"size\":10,\"solidity\":0.2}},\"type\":\"histogram\"}],\"scattergl\":[{\"type\":\"scattergl\",\"marker\":{\"colorbar\":{\"outlinewidth\":0,\"ticks\":\"\"}}}],\"scatter3d\":[{\"type\":\"scatter3d\",\"line\":{\"colorbar\":{\"outlinewidth\":0,\"ticks\":\"\"}},\"marker\":{\"colorbar\":{\"outlinewidth\":0,\"ticks\":\"\"}}}],\"scattermap\":[{\"type\":\"scattermap\",\"marker\":{\"colorbar\":{\"outlinewidth\":0,\"ticks\":\"\"}}}],\"scattermapbox\":[{\"type\":\"scattermapbox\",\"marker\":{\"colorbar\":{\"outlinewidth\":0,\"ticks\":\"\"}}}],\"scatterternary\":[{\"type\":\"scatterternary\",\"marker\":{\"colorbar\":{\"outlinewidth\":0,\"ticks\":\"\"}}}],\"scattercarpet\":[{\"type\":\"scattercarpet\",\"marker\":{\"colorbar\":{\"outlinewidth\":0,\"ticks\":\"\"}}}],\"carpet\":[{\"aaxis\":{\"endlinecolor\":\"#2a3f5f\",\"gridcolor\":\"white\",\"linecolor\":\"white\",\"minorgridcolor\":\"white\",\"startlinecolor\":\"#2a3f5f\"},\"baxis\":{\"endlinecolor\":\"#2a3f5f\",\"gridcolor\":\"white\",\"linecolor\":\"white\",\"minorgridcolor\":\"white\",\"startlinecolor\":\"#2a3f5f\"},\"type\":\"carpet\"}],\"table\":[{\"cells\":{\"fill\":{\"color\":\"#EBF0F8\"},\"line\":{\"color\":\"white\"}},\"header\":{\"fill\":{\"color\":\"#C8D4E3\"},\"line\":{\"color\":\"white\"}},\"type\":\"table\"}],\"barpolar\":[{\"marker\":{\"line\":{\"color\":\"#E5ECF6\",\"width\":0.5},\"pattern\":{\"fillmode\":\"overlay\",\"size\":10,\"solidity\":0.2}},\"type\":\"barpolar\"}],\"pie\":[{\"automargin\":true,\"type\":\"pie\"}]},\"layout\":{\"autotypenumbers\":\"strict\",\"colorway\":[\"#636efa\",\"#EF553B\",\"#00cc96\",\"#ab63fa\",\"#FFA15A\",\"#19d3f3\",\"#FF6692\",\"#B6E880\",\"#FF97FF\",\"#FECB52\"],\"font\":{\"color\":\"#2a3f5f\"},\"hovermode\":\"closest\",\"hoverlabel\":{\"align\":\"left\"},\"paper_bgcolor\":\"white\",\"plot_bgcolor\":\"#E5ECF6\",\"polar\":{\"bgcolor\":\"#E5ECF6\",\"angularaxis\":{\"gridcolor\":\"white\",\"linecolor\":\"white\",\"ticks\":\"\"},\"radialaxis\":{\"gridcolor\":\"white\",\"linecolor\":\"white\",\"ticks\":\"\"}},\"ternary\":{\"bgcolor\":\"#E5ECF6\",\"aaxis\":{\"gridcolor\":\"white\",\"linecolor\":\"white\",\"ticks\":\"\"},\"baxis\":{\"gridcolor\":\"white\",\"linecolor\":\"white\",\"ticks\":\"\"},\"caxis\":{\"gridcolor\":\"white\",\"linecolor\":\"white\",\"ticks\":\"\"}},\"coloraxis\":{\"colorbar\":{\"outlinewidth\":0,\"ticks\":\"\"}},\"colorscale\":{\"sequential\":[[0.0,\"#0d0887\"],[0.1111111111111111,\"#46039f\"],[0.2222222222222222,\"#7201a8\"],[0.3333333333333333,\"#9c179e\"],[0.4444444444444444,\"#bd3786\"],[0.5555555555555556,\"#d8576b\"],[0.6666666666666666,\"#ed7953\"],[0.7777777777777778,\"#fb9f3a\"],[0.8888888888888888,\"#fdca26\"],[1.0,\"#f0f921\"]],\"sequentialminus\":[[0.0,\"#0d0887\"],[0.1111111111111111,\"#46039f\"],[0.2222222222222222,\"#7201a8\"],[0.3333333333333333,\"#9c179e\"],[0.4444444444444444,\"#bd3786\"],[0.5555555555555556,\"#d8576b\"],[0.6666666666666666,\"#ed7953\"],[0.7777777777777778,\"#fb9f3a\"],[0.8888888888888888,\"#fdca26\"],[1.0,\"#f0f921\"]],\"diverging\":[[0,\"#8e0152\"],[0.1,\"#c51b7d\"],[0.2,\"#de77ae\"],[0.3,\"#f1b6da\"],[0.4,\"#fde0ef\"],[0.5,\"#f7f7f7\"],[0.6,\"#e6f5d0\"],[0.7,\"#b8e186\"],[0.8,\"#7fbc41\"],[0.9,\"#4d9221\"],[1,\"#276419\"]]},\"xaxis\":{\"gridcolor\":\"white\",\"linecolor\":\"white\",\"ticks\":\"\",\"title\":{\"standoff\":15},\"zerolinecolor\":\"white\",\"automargin\":true,\"zerolinewidth\":2},\"yaxis\":{\"gridcolor\":\"white\",\"linecolor\":\"white\",\"ticks\":\"\",\"title\":{\"standoff\":15},\"zerolinecolor\":\"white\",\"automargin\":true,\"zerolinewidth\":2},\"scene\":{\"xaxis\":{\"backgroundcolor\":\"#E5ECF6\",\"gridcolor\":\"white\",\"linecolor\":\"white\",\"showbackground\":true,\"ticks\":\"\",\"zerolinecolor\":\"white\",\"gridwidth\":2},\"yaxis\":{\"backgroundcolor\":\"#E5ECF6\",\"gridcolor\":\"white\",\"linecolor\":\"white\",\"showbackground\":true,\"ticks\":\"\",\"zerolinecolor\":\"white\",\"gridwidth\":2},\"zaxis\":{\"backgroundcolor\":\"#E5ECF6\",\"gridcolor\":\"white\",\"linecolor\":\"white\",\"showbackground\":true,\"ticks\":\"\",\"zerolinecolor\":\"white\",\"gridwidth\":2}},\"shapedefaults\":{\"line\":{\"color\":\"#2a3f5f\"}},\"annotationdefaults\":{\"arrowcolor\":\"#2a3f5f\",\"arrowhead\":0,\"arrowwidth\":1},\"geo\":{\"bgcolor\":\"white\",\"landcolor\":\"#E5ECF6\",\"subunitcolor\":\"white\",\"showland\":true,\"showlakes\":true,\"lakecolor\":\"white\"},\"title\":{\"x\":0.05},\"mapbox\":{\"style\":\"light\"}}}},                        {\"responsive\": true}                    ).then(function(){\n",
              "                            \n",
              "var gd = document.getElementById('eb68bffe-e8ec-4097-a4cc-599f849c0fb0');\n",
              "var x = new MutationObserver(function (mutations, observer) {{\n",
              "        var display = window.getComputedStyle(gd).display;\n",
              "        if (!display || display === 'none') {{\n",
              "            console.log([gd, 'removed!']);\n",
              "            Plotly.purge(gd);\n",
              "            observer.disconnect();\n",
              "        }}\n",
              "}});\n",
              "\n",
              "// Listen for the removal of the full notebook cells\n",
              "var notebookContainer = gd.closest('#notebook-container');\n",
              "if (notebookContainer) {{\n",
              "    x.observe(notebookContainer, {childList: true});\n",
              "}}\n",
              "\n",
              "// Listen for the clearing of the current output cell\n",
              "var outputEl = gd.closest('.output');\n",
              "if (outputEl) {{\n",
              "    x.observe(outputEl, {childList: true});\n",
              "}}\n",
              "\n",
              "                        })                };            </script>        </div>"
            ]
          },
          "metadata": {}
        }
      ]
    },
    {
      "cell_type": "markdown",
      "source": [
        "Recreate DataFrame"
      ],
      "metadata": {
        "id": "u6h2XEKnkJhe"
      },
      "id": "u6h2XEKnkJhe"
    },
    {
      "cell_type": "code",
      "source": [
        "df = pd.DataFrame(np.random.randn(100, 3), columns=['A', 'B', 'C'])"
      ],
      "metadata": {
        "id": "vjzuHxzwdSFY"
      },
      "id": "vjzuHxzwdSFY",
      "execution_count": 111,
      "outputs": []
    },
    {
      "cell_type": "markdown",
      "source": [
        "##Grouped Histogram"
      ],
      "metadata": {
        "id": "SRsAHLmjkOxG"
      },
      "id": "SRsAHLmjkOxG"
    },
    {
      "cell_type": "code",
      "source": [
        "fig = go.Figure()\n",
        "for col in df.columns:\n",
        "    fig.add_trace(go.Histogram(x=df[col], name=col))\n",
        "fig.update_layout(barmode='group')\n",
        "fig.show()"
      ],
      "metadata": {
        "colab": {
          "base_uri": "https://localhost:8080/",
          "height": 542
        },
        "id": "tyJydv6adVWT",
        "outputId": "7c3d7129-6014-482c-fbee-c0396edf7538"
      },
      "id": "tyJydv6adVWT",
      "execution_count": 112,
      "outputs": [
        {
          "output_type": "display_data",
          "data": {
            "application/vnd.plotly.v1+json": {
              "data": [
                {
                  "name": "A",
                  "x": {
                    "dtype": "f8",
                    "bdata": "nnuoS9UJ/r9folUcrW/kP7gP0j2vdtA/pOR3yd2cw79jasN3AR/TP4KTyF9Z1eW/uQ9Asf1x37/eoYG0ufrRvxUadBV93OG/kqSLnYXM27+/KDUXkBjxv3CJOzZvEOG/Z5AyQU0q07+uRkpBARvTP7L0kXhB/em/SCXTWCI48j870ulFhTDzvz/JHHE25cy/GBPs7GWrzb9hHBXb6TL4P1CMtr6f/vo/xewNMRIg5r8form+NY2eP2kXoA9N5NA/oFto6nAV7z9+dXJWehHgP6JpmOo3c9+/ZaDK/uI46r8AjsnFxCLwvxE13hBLl+2/MbzoNxgGtr8FqOqMFazLvyyW64A5POu/JyxlPC1657+mIzum4PTFv0ml9MH61da/vfBCiwZg6T9uwcWsAJTBP5uZMhy8HN0/ayQ8lNHV5L/zn5QieWXhvzCy3kIGzt8/z95S09ZNAMDjEy+nUN3nv3LDpQu0bQNAFkII5YAG9r8Q0aMydkfxP4AbCgirCq4/BfQioDNg+79jfb09Fz+9v18/jEmkW9A/78sWT/A+57+WoqyLPsX4Py42Ltvfqem/usLkkw8v6D93v/8wSXz2v6c2xs6D2tC/Kqgx6Tsx979rFS/KCgb3v5ihxSbQydM/53vNwgAf8L+qXNjR6OS3P7ezG3/EOtS/9l5ebO609r+PExvox+DQP3/ZlXv53fU/6qRfYei9478Hywnz1pWuP8wV0Cj6h/U/3ppHMN0G878fBD7KplTjv4IO1b7yztA/N2uZF/KGwj8JURKpY/uxv3grSR7QEfu/FaAdqNmbub9l4Eqd5xjHP/iGYzOHdvG/NefU+vitzL9P/8JtJ2fnv3WFwBBzp+2/OESkbYcTAMByYIC6gejgv5jnXsrUjfS/cca5cvtU8j9pMu215cDov253FcqjHvC/auAN5zbm7T9MSAu596rtv4NdXu7DHFM/cmtPDoIS+L9deTwfc5LSvxKdoaazPfM/N7f3Yxn65j9VYc5EpyDwvzVVCt/tIGW/kEqLjxbj3L88VbeTR5zePx39Jtfnz7O/d4XdPhXR4r8="
                  },
                  "type": "histogram"
                },
                {
                  "name": "B",
                  "x": {
                    "dtype": "f8",
                    "bdata": "6l3K8BgQ6j/9Rgmm8Ejtv+p+AW9hGd0/V3joiQLs2r82+iUlWWbtvzyybyBWh/A/Y4AIG6NR+b91HHvyeTHiP67jP+BqqtQ/h/NS5KvB8j/7es5rijuvPwztuZEk1fA/iJpFlLcTsD8dvfvotQf4v88gVR29KOq/lDxUqinqwz+mW/Ra6JUBwIwhWDlyDQdAcWvuDVsO7D+N1T4IqlDqv/vPhpIf0+a/5Gh01jUt6z+Sv8cIXZzzv/M1FRqibuU/Ee3LagiSzD+V+4lQUofgP85JeRtxouK/BDmxr7RRtD9srJ2S7mv9v8jktRvft9i/8Av2ooTs/z/wPi+Mhg/kP4zz6Jp1KPU/S/H5YjFC9r9OFbIGeiyhv60vFutD+ty/ND/aYR9ZwD9gXIczLnbtv4rB5N+yuOW/4pmM/yC60z+4pLFNfsnoPz+FzVK8kdW/5pKY0Oor4L9J33mYxkjgPwfiyKdIzfk/NPARjy7IAsD7iIA76k/0PxsoPoQlVeG/TK+yTcDa778i0rDc4/7Yv8iKCp1jCdk/qRubegD8ir/1g9K3MO38v6CKwRl7SP0/PnhNqhMR9b9LL+P9ysXCPzKIqb1ni9M/hTN7FNuZoL9AlOHrJIjFvwYsWdP2a+M/EOQpD9icvz/zr8uyP1XFP35vivePP+E/e6XNJYoo778uNp2UAVjyv64P2uOwjH2/0aYMCXPT4z/YgktdbOj7PzmuTYa6V7k/hLlEKpaN7j+la+nOgIgBQF5KE7gwnvg/C7tDDlQ50D99bGYeq2vUP0KegMfIXum/5N3CsU8h2T+MFf6EHtnpPxCDFtIxJsi/BIW66suaqr+uYPhu4L7OP1x9qE507uA/+usLen7u+D9ut/TuLCDzv3t8ZfzFhfa/91yE7OO/8b8fzMAJTjHhP7hnmUS/1sk/uazGJsyOrT9DPJ8L05LeP3r4UTKaS/G/Pj/nnJ1X7T+d+boxu9H3P7SachX9b9e/vUOfZ1r14D8c1dNLVpz8v5Qn/2aUr7G/UCpmC/3v1r+s2ZLTNzXiPzE+WKCE0/M/BOT//zRA8r8="
                  },
                  "type": "histogram"
                },
                {
                  "name": "C",
                  "x": {
                    "dtype": "f8",
                    "bdata": "q5kgyqzf7L9TryUkgK7ZPw3gfVK4I/U/BOmIQzuH/j+1x0TL/S7rPzqSeitQfta/TSQIcisY1j+ziuvv2HTOvxaMbAmN6+E/ePOF3GaFw7/qZBBp4SnjPyceuZdAi86/QvfHJaeP0z/PHXNrxFPmP1J+CTw1RfY/6UWe4C8/2z+935OTqoL0vwpofnTIqu4/fASKsUBV1j8siRiSvYHcv4ZAkYmgZgFAbCs06Ho0wr82fq3RKZHyPwwsRFvpRPE/pE/FjoWY4L9acDReU/r0v2tVTDiwIds/KS6BtuJD1j9q7NVXGZvCP4oasbfY4+Y/Q4DYiQVY7z/t47UAq2rkv6nzf0XL5tI/JsWpnA/55b+D2ArfyYu4P+COvxrY88C/cJQGwC0gqz/XgEFFHmjov0lv1xoYOQJAyHEuGpkWBUBxe3zFE53sP29Y7/OpCdU/ryxDl+Uy6D9IcFGj60nCP8QFW+I4h9M/9/w/mRBM0z/9PEqOyADbP1reAdHyRPA/mqdVeUoA+L+QzC8Xv5rEv+HXs9vJVPO/pvebmPFa3b+feVP55JrsP6zUg4XgFOM/TloP9wS/0b/uB7eyaW7ivzODX5QYwIS/WMbkZzin5r8nENgDEAftP7yIE70QHuK/+DFzfTlp9z+A65JWfvbKP7K7m95fxte/1lktE7rRA0CGtM9y7Wnzv9pi05Wl5eC/k0Tm30Ny8j/0WFVZvlzRP5365OTNnbW/xzW1p0PVxr/gp5tLVovLP1ZJtZ0fv/S/Xj+uqVmc8r/rsj41M9f2v9n5oaUu1+8/tRtZrf4L9z+geCj0uizrv+TXmgisFbc/kBRqcHnO6r+H08y6/BPyP0yXHBPJoOk/IhBOyR2u9b9bCKyCZFi2vyhlqi7zPvc/iNdtgh5RAcByYaf7rhW2PyJCEmeFNbi/QyOsun3x/D9cNQeFOKGzP6teJfoPttA/Uu7dParNAEDG39+tfNz/v/ytUbd7QOE/TOPN6BZgxj/oZlptudMAwJefCQB6zcC/FQIK9yB0xb87eWQlyHT2P8c7xOezBMa/1FQ1OZoAzz8="
                  },
                  "type": "histogram"
                }
              ],
              "layout": {
                "template": {
                  "data": {
                    "histogram2dcontour": [
                      {
                        "type": "histogram2dcontour",
                        "colorbar": {
                          "outlinewidth": 0,
                          "ticks": ""
                        },
                        "colorscale": [
                          [
                            0,
                            "#0d0887"
                          ],
                          [
                            0.1111111111111111,
                            "#46039f"
                          ],
                          [
                            0.2222222222222222,
                            "#7201a8"
                          ],
                          [
                            0.3333333333333333,
                            "#9c179e"
                          ],
                          [
                            0.4444444444444444,
                            "#bd3786"
                          ],
                          [
                            0.5555555555555556,
                            "#d8576b"
                          ],
                          [
                            0.6666666666666666,
                            "#ed7953"
                          ],
                          [
                            0.7777777777777778,
                            "#fb9f3a"
                          ],
                          [
                            0.8888888888888888,
                            "#fdca26"
                          ],
                          [
                            1,
                            "#f0f921"
                          ]
                        ]
                      }
                    ],
                    "choropleth": [
                      {
                        "type": "choropleth",
                        "colorbar": {
                          "outlinewidth": 0,
                          "ticks": ""
                        }
                      }
                    ],
                    "histogram2d": [
                      {
                        "type": "histogram2d",
                        "colorbar": {
                          "outlinewidth": 0,
                          "ticks": ""
                        },
                        "colorscale": [
                          [
                            0,
                            "#0d0887"
                          ],
                          [
                            0.1111111111111111,
                            "#46039f"
                          ],
                          [
                            0.2222222222222222,
                            "#7201a8"
                          ],
                          [
                            0.3333333333333333,
                            "#9c179e"
                          ],
                          [
                            0.4444444444444444,
                            "#bd3786"
                          ],
                          [
                            0.5555555555555556,
                            "#d8576b"
                          ],
                          [
                            0.6666666666666666,
                            "#ed7953"
                          ],
                          [
                            0.7777777777777778,
                            "#fb9f3a"
                          ],
                          [
                            0.8888888888888888,
                            "#fdca26"
                          ],
                          [
                            1,
                            "#f0f921"
                          ]
                        ]
                      }
                    ],
                    "heatmap": [
                      {
                        "type": "heatmap",
                        "colorbar": {
                          "outlinewidth": 0,
                          "ticks": ""
                        },
                        "colorscale": [
                          [
                            0,
                            "#0d0887"
                          ],
                          [
                            0.1111111111111111,
                            "#46039f"
                          ],
                          [
                            0.2222222222222222,
                            "#7201a8"
                          ],
                          [
                            0.3333333333333333,
                            "#9c179e"
                          ],
                          [
                            0.4444444444444444,
                            "#bd3786"
                          ],
                          [
                            0.5555555555555556,
                            "#d8576b"
                          ],
                          [
                            0.6666666666666666,
                            "#ed7953"
                          ],
                          [
                            0.7777777777777778,
                            "#fb9f3a"
                          ],
                          [
                            0.8888888888888888,
                            "#fdca26"
                          ],
                          [
                            1,
                            "#f0f921"
                          ]
                        ]
                      }
                    ],
                    "contourcarpet": [
                      {
                        "type": "contourcarpet",
                        "colorbar": {
                          "outlinewidth": 0,
                          "ticks": ""
                        }
                      }
                    ],
                    "contour": [
                      {
                        "type": "contour",
                        "colorbar": {
                          "outlinewidth": 0,
                          "ticks": ""
                        },
                        "colorscale": [
                          [
                            0,
                            "#0d0887"
                          ],
                          [
                            0.1111111111111111,
                            "#46039f"
                          ],
                          [
                            0.2222222222222222,
                            "#7201a8"
                          ],
                          [
                            0.3333333333333333,
                            "#9c179e"
                          ],
                          [
                            0.4444444444444444,
                            "#bd3786"
                          ],
                          [
                            0.5555555555555556,
                            "#d8576b"
                          ],
                          [
                            0.6666666666666666,
                            "#ed7953"
                          ],
                          [
                            0.7777777777777778,
                            "#fb9f3a"
                          ],
                          [
                            0.8888888888888888,
                            "#fdca26"
                          ],
                          [
                            1,
                            "#f0f921"
                          ]
                        ]
                      }
                    ],
                    "surface": [
                      {
                        "type": "surface",
                        "colorbar": {
                          "outlinewidth": 0,
                          "ticks": ""
                        },
                        "colorscale": [
                          [
                            0,
                            "#0d0887"
                          ],
                          [
                            0.1111111111111111,
                            "#46039f"
                          ],
                          [
                            0.2222222222222222,
                            "#7201a8"
                          ],
                          [
                            0.3333333333333333,
                            "#9c179e"
                          ],
                          [
                            0.4444444444444444,
                            "#bd3786"
                          ],
                          [
                            0.5555555555555556,
                            "#d8576b"
                          ],
                          [
                            0.6666666666666666,
                            "#ed7953"
                          ],
                          [
                            0.7777777777777778,
                            "#fb9f3a"
                          ],
                          [
                            0.8888888888888888,
                            "#fdca26"
                          ],
                          [
                            1,
                            "#f0f921"
                          ]
                        ]
                      }
                    ],
                    "mesh3d": [
                      {
                        "type": "mesh3d",
                        "colorbar": {
                          "outlinewidth": 0,
                          "ticks": ""
                        }
                      }
                    ],
                    "scatter": [
                      {
                        "fillpattern": {
                          "fillmode": "overlay",
                          "size": 10,
                          "solidity": 0.2
                        },
                        "type": "scatter"
                      }
                    ],
                    "parcoords": [
                      {
                        "type": "parcoords",
                        "line": {
                          "colorbar": {
                            "outlinewidth": 0,
                            "ticks": ""
                          }
                        }
                      }
                    ],
                    "scatterpolargl": [
                      {
                        "type": "scatterpolargl",
                        "marker": {
                          "colorbar": {
                            "outlinewidth": 0,
                            "ticks": ""
                          }
                        }
                      }
                    ],
                    "bar": [
                      {
                        "error_x": {
                          "color": "#2a3f5f"
                        },
                        "error_y": {
                          "color": "#2a3f5f"
                        },
                        "marker": {
                          "line": {
                            "color": "#E5ECF6",
                            "width": 0.5
                          },
                          "pattern": {
                            "fillmode": "overlay",
                            "size": 10,
                            "solidity": 0.2
                          }
                        },
                        "type": "bar"
                      }
                    ],
                    "scattergeo": [
                      {
                        "type": "scattergeo",
                        "marker": {
                          "colorbar": {
                            "outlinewidth": 0,
                            "ticks": ""
                          }
                        }
                      }
                    ],
                    "scatterpolar": [
                      {
                        "type": "scatterpolar",
                        "marker": {
                          "colorbar": {
                            "outlinewidth": 0,
                            "ticks": ""
                          }
                        }
                      }
                    ],
                    "histogram": [
                      {
                        "marker": {
                          "pattern": {
                            "fillmode": "overlay",
                            "size": 10,
                            "solidity": 0.2
                          }
                        },
                        "type": "histogram"
                      }
                    ],
                    "scattergl": [
                      {
                        "type": "scattergl",
                        "marker": {
                          "colorbar": {
                            "outlinewidth": 0,
                            "ticks": ""
                          }
                        }
                      }
                    ],
                    "scatter3d": [
                      {
                        "type": "scatter3d",
                        "line": {
                          "colorbar": {
                            "outlinewidth": 0,
                            "ticks": ""
                          }
                        },
                        "marker": {
                          "colorbar": {
                            "outlinewidth": 0,
                            "ticks": ""
                          }
                        }
                      }
                    ],
                    "scattermap": [
                      {
                        "type": "scattermap",
                        "marker": {
                          "colorbar": {
                            "outlinewidth": 0,
                            "ticks": ""
                          }
                        }
                      }
                    ],
                    "scattermapbox": [
                      {
                        "type": "scattermapbox",
                        "marker": {
                          "colorbar": {
                            "outlinewidth": 0,
                            "ticks": ""
                          }
                        }
                      }
                    ],
                    "scatterternary": [
                      {
                        "type": "scatterternary",
                        "marker": {
                          "colorbar": {
                            "outlinewidth": 0,
                            "ticks": ""
                          }
                        }
                      }
                    ],
                    "scattercarpet": [
                      {
                        "type": "scattercarpet",
                        "marker": {
                          "colorbar": {
                            "outlinewidth": 0,
                            "ticks": ""
                          }
                        }
                      }
                    ],
                    "carpet": [
                      {
                        "aaxis": {
                          "endlinecolor": "#2a3f5f",
                          "gridcolor": "white",
                          "linecolor": "white",
                          "minorgridcolor": "white",
                          "startlinecolor": "#2a3f5f"
                        },
                        "baxis": {
                          "endlinecolor": "#2a3f5f",
                          "gridcolor": "white",
                          "linecolor": "white",
                          "minorgridcolor": "white",
                          "startlinecolor": "#2a3f5f"
                        },
                        "type": "carpet"
                      }
                    ],
                    "table": [
                      {
                        "cells": {
                          "fill": {
                            "color": "#EBF0F8"
                          },
                          "line": {
                            "color": "white"
                          }
                        },
                        "header": {
                          "fill": {
                            "color": "#C8D4E3"
                          },
                          "line": {
                            "color": "white"
                          }
                        },
                        "type": "table"
                      }
                    ],
                    "barpolar": [
                      {
                        "marker": {
                          "line": {
                            "color": "#E5ECF6",
                            "width": 0.5
                          },
                          "pattern": {
                            "fillmode": "overlay",
                            "size": 10,
                            "solidity": 0.2
                          }
                        },
                        "type": "barpolar"
                      }
                    ],
                    "pie": [
                      {
                        "automargin": true,
                        "type": "pie"
                      }
                    ]
                  },
                  "layout": {
                    "autotypenumbers": "strict",
                    "colorway": [
                      "#636efa",
                      "#EF553B",
                      "#00cc96",
                      "#ab63fa",
                      "#FFA15A",
                      "#19d3f3",
                      "#FF6692",
                      "#B6E880",
                      "#FF97FF",
                      "#FECB52"
                    ],
                    "font": {
                      "color": "#2a3f5f"
                    },
                    "hovermode": "closest",
                    "hoverlabel": {
                      "align": "left"
                    },
                    "paper_bgcolor": "white",
                    "plot_bgcolor": "#E5ECF6",
                    "polar": {
                      "bgcolor": "#E5ECF6",
                      "angularaxis": {
                        "gridcolor": "white",
                        "linecolor": "white",
                        "ticks": ""
                      },
                      "radialaxis": {
                        "gridcolor": "white",
                        "linecolor": "white",
                        "ticks": ""
                      }
                    },
                    "ternary": {
                      "bgcolor": "#E5ECF6",
                      "aaxis": {
                        "gridcolor": "white",
                        "linecolor": "white",
                        "ticks": ""
                      },
                      "baxis": {
                        "gridcolor": "white",
                        "linecolor": "white",
                        "ticks": ""
                      },
                      "caxis": {
                        "gridcolor": "white",
                        "linecolor": "white",
                        "ticks": ""
                      }
                    },
                    "coloraxis": {
                      "colorbar": {
                        "outlinewidth": 0,
                        "ticks": ""
                      }
                    },
                    "colorscale": {
                      "sequential": [
                        [
                          0,
                          "#0d0887"
                        ],
                        [
                          0.1111111111111111,
                          "#46039f"
                        ],
                        [
                          0.2222222222222222,
                          "#7201a8"
                        ],
                        [
                          0.3333333333333333,
                          "#9c179e"
                        ],
                        [
                          0.4444444444444444,
                          "#bd3786"
                        ],
                        [
                          0.5555555555555556,
                          "#d8576b"
                        ],
                        [
                          0.6666666666666666,
                          "#ed7953"
                        ],
                        [
                          0.7777777777777778,
                          "#fb9f3a"
                        ],
                        [
                          0.8888888888888888,
                          "#fdca26"
                        ],
                        [
                          1,
                          "#f0f921"
                        ]
                      ],
                      "sequentialminus": [
                        [
                          0,
                          "#0d0887"
                        ],
                        [
                          0.1111111111111111,
                          "#46039f"
                        ],
                        [
                          0.2222222222222222,
                          "#7201a8"
                        ],
                        [
                          0.3333333333333333,
                          "#9c179e"
                        ],
                        [
                          0.4444444444444444,
                          "#bd3786"
                        ],
                        [
                          0.5555555555555556,
                          "#d8576b"
                        ],
                        [
                          0.6666666666666666,
                          "#ed7953"
                        ],
                        [
                          0.7777777777777778,
                          "#fb9f3a"
                        ],
                        [
                          0.8888888888888888,
                          "#fdca26"
                        ],
                        [
                          1,
                          "#f0f921"
                        ]
                      ],
                      "diverging": [
                        [
                          0,
                          "#8e0152"
                        ],
                        [
                          0.1,
                          "#c51b7d"
                        ],
                        [
                          0.2,
                          "#de77ae"
                        ],
                        [
                          0.3,
                          "#f1b6da"
                        ],
                        [
                          0.4,
                          "#fde0ef"
                        ],
                        [
                          0.5,
                          "#f7f7f7"
                        ],
                        [
                          0.6,
                          "#e6f5d0"
                        ],
                        [
                          0.7,
                          "#b8e186"
                        ],
                        [
                          0.8,
                          "#7fbc41"
                        ],
                        [
                          0.9,
                          "#4d9221"
                        ],
                        [
                          1,
                          "#276419"
                        ]
                      ]
                    },
                    "xaxis": {
                      "gridcolor": "white",
                      "linecolor": "white",
                      "ticks": "",
                      "title": {
                        "standoff": 15
                      },
                      "zerolinecolor": "white",
                      "automargin": true,
                      "zerolinewidth": 2
                    },
                    "yaxis": {
                      "gridcolor": "white",
                      "linecolor": "white",
                      "ticks": "",
                      "title": {
                        "standoff": 15
                      },
                      "zerolinecolor": "white",
                      "automargin": true,
                      "zerolinewidth": 2
                    },
                    "scene": {
                      "xaxis": {
                        "backgroundcolor": "#E5ECF6",
                        "gridcolor": "white",
                        "linecolor": "white",
                        "showbackground": true,
                        "ticks": "",
                        "zerolinecolor": "white",
                        "gridwidth": 2
                      },
                      "yaxis": {
                        "backgroundcolor": "#E5ECF6",
                        "gridcolor": "white",
                        "linecolor": "white",
                        "showbackground": true,
                        "ticks": "",
                        "zerolinecolor": "white",
                        "gridwidth": 2
                      },
                      "zaxis": {
                        "backgroundcolor": "#E5ECF6",
                        "gridcolor": "white",
                        "linecolor": "white",
                        "showbackground": true,
                        "ticks": "",
                        "zerolinecolor": "white",
                        "gridwidth": 2
                      }
                    },
                    "shapedefaults": {
                      "line": {
                        "color": "#2a3f5f"
                      }
                    },
                    "annotationdefaults": {
                      "arrowcolor": "#2a3f5f",
                      "arrowhead": 0,
                      "arrowwidth": 1
                    },
                    "geo": {
                      "bgcolor": "white",
                      "landcolor": "#E5ECF6",
                      "subunitcolor": "white",
                      "showland": true,
                      "showlakes": true,
                      "lakecolor": "white"
                    },
                    "title": {
                      "x": 0.05
                    },
                    "mapbox": {
                      "style": "light"
                    }
                  }
                },
                "barmode": "group"
              },
              "config": {
                "plotlyServerURL": "https://plot.ly"
              }
            },
            "text/html": [
              "<div>            <script src=\"https://cdnjs.cloudflare.com/ajax/libs/mathjax/2.7.5/MathJax.js?config=TeX-AMS-MML_SVG\"></script><script type=\"text/javascript\">if (window.MathJax && window.MathJax.Hub && window.MathJax.Hub.Config) {window.MathJax.Hub.Config({SVG: {font: \"STIX-Web\"}});}</script>                <script type=\"text/javascript\">window.PlotlyConfig = {MathJaxConfig: 'local'};</script>\n",
              "        <script charset=\"utf-8\" src=\"https://cdn.plot.ly/plotly-3.0.0.min.js\"></script>                <div id=\"040baa77-603e-4c88-b16b-66735841b66e\" class=\"plotly-graph-div\" style=\"height:525px; width:100%;\"></div>            <script type=\"text/javascript\">                window.PLOTLYENV=window.PLOTLYENV || {};                                if (document.getElementById(\"040baa77-603e-4c88-b16b-66735841b66e\")) {                    Plotly.newPlot(                        \"040baa77-603e-4c88-b16b-66735841b66e\",                        [{\"name\":\"A\",\"x\":{\"dtype\":\"f8\",\"bdata\":\"nnuoS9UJ\\u002fr9folUcrW\\u002fkP7gP0j2vdtA\\u002fpOR3yd2cw79jasN3AR\\u002fTP4KTyF9Z1eW\\u002fuQ9Asf1x37\\u002feoYG0ufrRvxUadBV93OG\\u002fkqSLnYXM27+\\u002fKDUXkBjxv3CJOzZvEOG\\u002fZ5AyQU0q07+uRkpBARvTP7L0kXhB\\u002fem\\u002fSCXTWCI48j870ulFhTDzvz\\u002fJHHE25cy\\u002fGBPs7GWrzb9hHBXb6TL4P1CMtr6f\\u002fvo\\u002fxewNMRIg5r8form+NY2eP2kXoA9N5NA\\u002foFto6nAV7z9+dXJWehHgP6JpmOo3c9+\\u002fZaDK\\u002fuI46r8AjsnFxCLwvxE13hBLl+2\\u002fMbzoNxgGtr8FqOqMFazLvyyW64A5POu\\u002fJyxlPC1657+mIzum4PTFv0ml9MH61da\\u002fvfBCiwZg6T9uwcWsAJTBP5uZMhy8HN0\\u002fayQ8lNHV5L\\u002fzn5QieWXhvzCy3kIGzt8\\u002fz95S09ZNAMDjEy+nUN3nv3LDpQu0bQNAFkII5YAG9r8Q0aMydkfxP4AbCgirCq4\\u002fBfQioDNg+79jfb09Fz+9v18\\u002fjEmkW9A\\u002f78sWT\\u002fA+57+WoqyLPsX4Py42Ltvfqem\\u002fusLkkw8v6D93v\\u002f8wSXz2v6c2xs6D2tC\\u002fKqgx6Tsx979rFS\\u002fKCgb3v5ihxSbQydM\\u002f53vNwgAf8L+qXNjR6OS3P7ezG3\\u002fEOtS\\u002f9l5ebO609r+PExvox+DQP3\\u002fZlXv53fU\\u002f6qRfYei9478Hywnz1pWuP8wV0Cj6h\\u002fU\\u002f3ppHMN0G878fBD7KplTjv4IO1b7yztA\\u002fN2uZF\\u002fKGwj8JURKpY\\u002fuxv3grSR7QEfu\\u002fFaAdqNmbub9l4Eqd5xjHP\\u002fiGYzOHdvG\\u002fNefU+vitzL9P\\u002f8JtJ2fnv3WFwBBzp+2\\u002fOESkbYcTAMByYIC6gejgv5jnXsrUjfS\\u002fcca5cvtU8j9pMu215cDov253FcqjHvC\\u002fauAN5zbm7T9MSAu596rtv4NdXu7DHFM\\u002fcmtPDoIS+L9deTwfc5LSvxKdoaazPfM\\u002fN7f3Yxn65j9VYc5EpyDwvzVVCt\\u002ftIGW\\u002fkEqLjxbj3L88VbeTR5zePx39Jtfnz7O\\u002fd4XdPhXR4r8=\"},\"type\":\"histogram\"},{\"name\":\"B\",\"x\":{\"dtype\":\"f8\",\"bdata\":\"6l3K8BgQ6j\\u002f9Rgmm8Ejtv+p+AW9hGd0\\u002fV3joiQLs2r82+iUlWWbtvzyybyBWh\\u002fA\\u002fY4AIG6NR+b91HHvyeTHiP67jP+BqqtQ\\u002fh\\u002fNS5KvB8j\\u002f7es5rijuvPwztuZEk1fA\\u002fiJpFlLcTsD8dvfvotQf4v88gVR29KOq\\u002flDxUqinqwz+mW\\u002fRa6JUBwIwhWDlyDQdAcWvuDVsO7D+N1T4IqlDqv\\u002fvPhpIf0+a\\u002f5Gh01jUt6z+Sv8cIXZzzv\\u002fM1FRqibuU\\u002fEe3LagiSzD+V+4lQUofgP85JeRtxouK\\u002fBDmxr7RRtD9srJ2S7mv9v8jktRvft9i\\u002f8Av2ooTs\\u002fz\\u002fwPi+Mhg\\u002fkP4zz6Jp1KPU\\u002fS\\u002fH5YjFC9r9OFbIGeiyhv60vFutD+ty\\u002fND\\u002faYR9ZwD9gXIczLnbtv4rB5N+yuOW\\u002f4pmM\\u002fyC60z+4pLFNfsnoPz+FzVK8kdW\\u002f5pKY0Oor4L9J33mYxkjgPwfiyKdIzfk\\u002fNPARjy7IAsD7iIA76k\\u002f0PxsoPoQlVeG\\u002fTK+yTcDa778i0rDc4\\u002f7Yv8iKCp1jCdk\\u002fqRubegD8ir\\u002f1g9K3MO38v6CKwRl7SP0\\u002fPnhNqhMR9b9LL+P9ysXCPzKIqb1ni9M\\u002fhTN7FNuZoL9AlOHrJIjFvwYsWdP2a+M\\u002fEOQpD9icvz\\u002fzr8uyP1XFP35vivePP+E\\u002fe6XNJYoo778uNp2UAVjyv64P2uOwjH2\\u002f0aYMCXPT4z\\u002fYgktdbOj7PzmuTYa6V7k\\u002fhLlEKpaN7j+la+nOgIgBQF5KE7gwnvg\\u002fC7tDDlQ50D99bGYeq2vUP0KegMfIXum\\u002f5N3CsU8h2T+MFf6EHtnpPxCDFtIxJsi\\u002fBIW66suaqr+uYPhu4L7OP1x9qE507uA\\u002f+usLen7u+D9ut\\u002fTuLCDzv3t8ZfzFhfa\\u002f91yE7OO\\u002f8b8fzMAJTjHhP7hnmUS\\u002f1sk\\u002fuazGJsyOrT9DPJ8L05LeP3r4UTKaS\\u002fG\\u002fPj\\u002fnnJ1X7T+d+boxu9H3P7SachX9b9e\\u002fvUOfZ1r14D8c1dNLVpz8v5Qn\\u002f2aUr7G\\u002fUCpmC\\u002f3v1r+s2ZLTNzXiPzE+WKCE0\\u002fM\\u002fBOT\\u002f\\u002fzRA8r8=\"},\"type\":\"histogram\"},{\"name\":\"C\",\"x\":{\"dtype\":\"f8\",\"bdata\":\"q5kgyqzf7L9TryUkgK7ZPw3gfVK4I\\u002fU\\u002fBOmIQzuH\\u002fj+1x0TL\\u002fS7rPzqSeitQfta\\u002fTSQIcisY1j+ziuvv2HTOvxaMbAmN6+E\\u002fePOF3GaFw7\\u002fqZBBp4SnjPyceuZdAi86\\u002fQvfHJaeP0z\\u002fPHXNrxFPmP1J+CTw1RfY\\u002f6UWe4C8\\u002f2z+935OTqoL0vwpofnTIqu4\\u002ffASKsUBV1j8siRiSvYHcv4ZAkYmgZgFAbCs06Ho0wr82fq3RKZHyPwwsRFvpRPE\\u002fpE\\u002fFjoWY4L9acDReU\\u002fr0v2tVTDiwIds\\u002fKS6BtuJD1j9q7NVXGZvCP4oasbfY4+Y\\u002fQ4DYiQVY7z\\u002ft47UAq2rkv6nzf0XL5tI\\u002fJsWpnA\\u002f55b+D2ArfyYu4P+COvxrY88C\\u002fcJQGwC0gqz\\u002fXgEFFHmjov0lv1xoYOQJAyHEuGpkWBUBxe3zFE53sP29Y7\\u002fOpCdU\\u002fryxDl+Uy6D9IcFGj60nCP8QFW+I4h9M\\u002f9\\u002fw\\u002fmRBM0z\\u002f9PEqOyADbP1reAdHyRPA\\u002fmqdVeUoA+L+QzC8Xv5rEv+HXs9vJVPO\\u002fpvebmPFa3b+feVP55JrsP6zUg4XgFOM\\u002fTloP9wS\\u002f0b\\u002fuB7eyaW7ivzODX5QYwIS\\u002fWMbkZzin5r8nENgDEAftP7yIE70QHuK\\u002f+DFzfTlp9z+A65JWfvbKP7K7m95fxte\\u002f1lktE7rRA0CGtM9y7Wnzv9pi05Wl5eC\\u002fk0Tm30Ny8j\\u002f0WFVZvlzRP5365OTNnbW\\u002fxzW1p0PVxr\\u002fgp5tLVovLP1ZJtZ0fv\\u002fS\\u002fXj+uqVmc8r\\u002frsj41M9f2v9n5oaUu1+8\\u002ftRtZrf4L9z+geCj0uizrv+TXmgisFbc\\u002fkBRqcHnO6r+H08y6\\u002fBPyP0yXHBPJoOk\\u002fIhBOyR2u9b9bCKyCZFi2vyhlqi7zPvc\\u002fiNdtgh5RAcByYaf7rhW2PyJCEmeFNbi\\u002fQyOsun3x\\u002fD9cNQeFOKGzP6teJfoPttA\\u002fUu7dParNAEDG39+tfNz\\u002fv\\u002fytUbd7QOE\\u002fTOPN6BZgxj\\u002foZlptudMAwJefCQB6zcC\\u002fFQIK9yB0xb87eWQlyHT2P8c7xOezBMa\\u002f1FQ1OZoAzz8=\"},\"type\":\"histogram\"}],                        {\"template\":{\"data\":{\"histogram2dcontour\":[{\"type\":\"histogram2dcontour\",\"colorbar\":{\"outlinewidth\":0,\"ticks\":\"\"},\"colorscale\":[[0.0,\"#0d0887\"],[0.1111111111111111,\"#46039f\"],[0.2222222222222222,\"#7201a8\"],[0.3333333333333333,\"#9c179e\"],[0.4444444444444444,\"#bd3786\"],[0.5555555555555556,\"#d8576b\"],[0.6666666666666666,\"#ed7953\"],[0.7777777777777778,\"#fb9f3a\"],[0.8888888888888888,\"#fdca26\"],[1.0,\"#f0f921\"]]}],\"choropleth\":[{\"type\":\"choropleth\",\"colorbar\":{\"outlinewidth\":0,\"ticks\":\"\"}}],\"histogram2d\":[{\"type\":\"histogram2d\",\"colorbar\":{\"outlinewidth\":0,\"ticks\":\"\"},\"colorscale\":[[0.0,\"#0d0887\"],[0.1111111111111111,\"#46039f\"],[0.2222222222222222,\"#7201a8\"],[0.3333333333333333,\"#9c179e\"],[0.4444444444444444,\"#bd3786\"],[0.5555555555555556,\"#d8576b\"],[0.6666666666666666,\"#ed7953\"],[0.7777777777777778,\"#fb9f3a\"],[0.8888888888888888,\"#fdca26\"],[1.0,\"#f0f921\"]]}],\"heatmap\":[{\"type\":\"heatmap\",\"colorbar\":{\"outlinewidth\":0,\"ticks\":\"\"},\"colorscale\":[[0.0,\"#0d0887\"],[0.1111111111111111,\"#46039f\"],[0.2222222222222222,\"#7201a8\"],[0.3333333333333333,\"#9c179e\"],[0.4444444444444444,\"#bd3786\"],[0.5555555555555556,\"#d8576b\"],[0.6666666666666666,\"#ed7953\"],[0.7777777777777778,\"#fb9f3a\"],[0.8888888888888888,\"#fdca26\"],[1.0,\"#f0f921\"]]}],\"contourcarpet\":[{\"type\":\"contourcarpet\",\"colorbar\":{\"outlinewidth\":0,\"ticks\":\"\"}}],\"contour\":[{\"type\":\"contour\",\"colorbar\":{\"outlinewidth\":0,\"ticks\":\"\"},\"colorscale\":[[0.0,\"#0d0887\"],[0.1111111111111111,\"#46039f\"],[0.2222222222222222,\"#7201a8\"],[0.3333333333333333,\"#9c179e\"],[0.4444444444444444,\"#bd3786\"],[0.5555555555555556,\"#d8576b\"],[0.6666666666666666,\"#ed7953\"],[0.7777777777777778,\"#fb9f3a\"],[0.8888888888888888,\"#fdca26\"],[1.0,\"#f0f921\"]]}],\"surface\":[{\"type\":\"surface\",\"colorbar\":{\"outlinewidth\":0,\"ticks\":\"\"},\"colorscale\":[[0.0,\"#0d0887\"],[0.1111111111111111,\"#46039f\"],[0.2222222222222222,\"#7201a8\"],[0.3333333333333333,\"#9c179e\"],[0.4444444444444444,\"#bd3786\"],[0.5555555555555556,\"#d8576b\"],[0.6666666666666666,\"#ed7953\"],[0.7777777777777778,\"#fb9f3a\"],[0.8888888888888888,\"#fdca26\"],[1.0,\"#f0f921\"]]}],\"mesh3d\":[{\"type\":\"mesh3d\",\"colorbar\":{\"outlinewidth\":0,\"ticks\":\"\"}}],\"scatter\":[{\"fillpattern\":{\"fillmode\":\"overlay\",\"size\":10,\"solidity\":0.2},\"type\":\"scatter\"}],\"parcoords\":[{\"type\":\"parcoords\",\"line\":{\"colorbar\":{\"outlinewidth\":0,\"ticks\":\"\"}}}],\"scatterpolargl\":[{\"type\":\"scatterpolargl\",\"marker\":{\"colorbar\":{\"outlinewidth\":0,\"ticks\":\"\"}}}],\"bar\":[{\"error_x\":{\"color\":\"#2a3f5f\"},\"error_y\":{\"color\":\"#2a3f5f\"},\"marker\":{\"line\":{\"color\":\"#E5ECF6\",\"width\":0.5},\"pattern\":{\"fillmode\":\"overlay\",\"size\":10,\"solidity\":0.2}},\"type\":\"bar\"}],\"scattergeo\":[{\"type\":\"scattergeo\",\"marker\":{\"colorbar\":{\"outlinewidth\":0,\"ticks\":\"\"}}}],\"scatterpolar\":[{\"type\":\"scatterpolar\",\"marker\":{\"colorbar\":{\"outlinewidth\":0,\"ticks\":\"\"}}}],\"histogram\":[{\"marker\":{\"pattern\":{\"fillmode\":\"overlay\",\"size\":10,\"solidity\":0.2}},\"type\":\"histogram\"}],\"scattergl\":[{\"type\":\"scattergl\",\"marker\":{\"colorbar\":{\"outlinewidth\":0,\"ticks\":\"\"}}}],\"scatter3d\":[{\"type\":\"scatter3d\",\"line\":{\"colorbar\":{\"outlinewidth\":0,\"ticks\":\"\"}},\"marker\":{\"colorbar\":{\"outlinewidth\":0,\"ticks\":\"\"}}}],\"scattermap\":[{\"type\":\"scattermap\",\"marker\":{\"colorbar\":{\"outlinewidth\":0,\"ticks\":\"\"}}}],\"scattermapbox\":[{\"type\":\"scattermapbox\",\"marker\":{\"colorbar\":{\"outlinewidth\":0,\"ticks\":\"\"}}}],\"scatterternary\":[{\"type\":\"scatterternary\",\"marker\":{\"colorbar\":{\"outlinewidth\":0,\"ticks\":\"\"}}}],\"scattercarpet\":[{\"type\":\"scattercarpet\",\"marker\":{\"colorbar\":{\"outlinewidth\":0,\"ticks\":\"\"}}}],\"carpet\":[{\"aaxis\":{\"endlinecolor\":\"#2a3f5f\",\"gridcolor\":\"white\",\"linecolor\":\"white\",\"minorgridcolor\":\"white\",\"startlinecolor\":\"#2a3f5f\"},\"baxis\":{\"endlinecolor\":\"#2a3f5f\",\"gridcolor\":\"white\",\"linecolor\":\"white\",\"minorgridcolor\":\"white\",\"startlinecolor\":\"#2a3f5f\"},\"type\":\"carpet\"}],\"table\":[{\"cells\":{\"fill\":{\"color\":\"#EBF0F8\"},\"line\":{\"color\":\"white\"}},\"header\":{\"fill\":{\"color\":\"#C8D4E3\"},\"line\":{\"color\":\"white\"}},\"type\":\"table\"}],\"barpolar\":[{\"marker\":{\"line\":{\"color\":\"#E5ECF6\",\"width\":0.5},\"pattern\":{\"fillmode\":\"overlay\",\"size\":10,\"solidity\":0.2}},\"type\":\"barpolar\"}],\"pie\":[{\"automargin\":true,\"type\":\"pie\"}]},\"layout\":{\"autotypenumbers\":\"strict\",\"colorway\":[\"#636efa\",\"#EF553B\",\"#00cc96\",\"#ab63fa\",\"#FFA15A\",\"#19d3f3\",\"#FF6692\",\"#B6E880\",\"#FF97FF\",\"#FECB52\"],\"font\":{\"color\":\"#2a3f5f\"},\"hovermode\":\"closest\",\"hoverlabel\":{\"align\":\"left\"},\"paper_bgcolor\":\"white\",\"plot_bgcolor\":\"#E5ECF6\",\"polar\":{\"bgcolor\":\"#E5ECF6\",\"angularaxis\":{\"gridcolor\":\"white\",\"linecolor\":\"white\",\"ticks\":\"\"},\"radialaxis\":{\"gridcolor\":\"white\",\"linecolor\":\"white\",\"ticks\":\"\"}},\"ternary\":{\"bgcolor\":\"#E5ECF6\",\"aaxis\":{\"gridcolor\":\"white\",\"linecolor\":\"white\",\"ticks\":\"\"},\"baxis\":{\"gridcolor\":\"white\",\"linecolor\":\"white\",\"ticks\":\"\"},\"caxis\":{\"gridcolor\":\"white\",\"linecolor\":\"white\",\"ticks\":\"\"}},\"coloraxis\":{\"colorbar\":{\"outlinewidth\":0,\"ticks\":\"\"}},\"colorscale\":{\"sequential\":[[0.0,\"#0d0887\"],[0.1111111111111111,\"#46039f\"],[0.2222222222222222,\"#7201a8\"],[0.3333333333333333,\"#9c179e\"],[0.4444444444444444,\"#bd3786\"],[0.5555555555555556,\"#d8576b\"],[0.6666666666666666,\"#ed7953\"],[0.7777777777777778,\"#fb9f3a\"],[0.8888888888888888,\"#fdca26\"],[1.0,\"#f0f921\"]],\"sequentialminus\":[[0.0,\"#0d0887\"],[0.1111111111111111,\"#46039f\"],[0.2222222222222222,\"#7201a8\"],[0.3333333333333333,\"#9c179e\"],[0.4444444444444444,\"#bd3786\"],[0.5555555555555556,\"#d8576b\"],[0.6666666666666666,\"#ed7953\"],[0.7777777777777778,\"#fb9f3a\"],[0.8888888888888888,\"#fdca26\"],[1.0,\"#f0f921\"]],\"diverging\":[[0,\"#8e0152\"],[0.1,\"#c51b7d\"],[0.2,\"#de77ae\"],[0.3,\"#f1b6da\"],[0.4,\"#fde0ef\"],[0.5,\"#f7f7f7\"],[0.6,\"#e6f5d0\"],[0.7,\"#b8e186\"],[0.8,\"#7fbc41\"],[0.9,\"#4d9221\"],[1,\"#276419\"]]},\"xaxis\":{\"gridcolor\":\"white\",\"linecolor\":\"white\",\"ticks\":\"\",\"title\":{\"standoff\":15},\"zerolinecolor\":\"white\",\"automargin\":true,\"zerolinewidth\":2},\"yaxis\":{\"gridcolor\":\"white\",\"linecolor\":\"white\",\"ticks\":\"\",\"title\":{\"standoff\":15},\"zerolinecolor\":\"white\",\"automargin\":true,\"zerolinewidth\":2},\"scene\":{\"xaxis\":{\"backgroundcolor\":\"#E5ECF6\",\"gridcolor\":\"white\",\"linecolor\":\"white\",\"showbackground\":true,\"ticks\":\"\",\"zerolinecolor\":\"white\",\"gridwidth\":2},\"yaxis\":{\"backgroundcolor\":\"#E5ECF6\",\"gridcolor\":\"white\",\"linecolor\":\"white\",\"showbackground\":true,\"ticks\":\"\",\"zerolinecolor\":\"white\",\"gridwidth\":2},\"zaxis\":{\"backgroundcolor\":\"#E5ECF6\",\"gridcolor\":\"white\",\"linecolor\":\"white\",\"showbackground\":true,\"ticks\":\"\",\"zerolinecolor\":\"white\",\"gridwidth\":2}},\"shapedefaults\":{\"line\":{\"color\":\"#2a3f5f\"}},\"annotationdefaults\":{\"arrowcolor\":\"#2a3f5f\",\"arrowhead\":0,\"arrowwidth\":1},\"geo\":{\"bgcolor\":\"white\",\"landcolor\":\"#E5ECF6\",\"subunitcolor\":\"white\",\"showland\":true,\"showlakes\":true,\"lakecolor\":\"white\"},\"title\":{\"x\":0.05},\"mapbox\":{\"style\":\"light\"}}},\"barmode\":\"group\"},                        {\"responsive\": true}                    ).then(function(){\n",
              "                            \n",
              "var gd = document.getElementById('040baa77-603e-4c88-b16b-66735841b66e');\n",
              "var x = new MutationObserver(function (mutations, observer) {{\n",
              "        var display = window.getComputedStyle(gd).display;\n",
              "        if (!display || display === 'none') {{\n",
              "            console.log([gd, 'removed!']);\n",
              "            Plotly.purge(gd);\n",
              "            observer.disconnect();\n",
              "        }}\n",
              "}});\n",
              "\n",
              "// Listen for the removal of the full notebook cells\n",
              "var notebookContainer = gd.closest('#notebook-container');\n",
              "if (notebookContainer) {{\n",
              "    x.observe(notebookContainer, {childList: true});\n",
              "}}\n",
              "\n",
              "// Listen for the clearing of the current output cell\n",
              "var outputEl = gd.closest('.output');\n",
              "if (outputEl) {{\n",
              "    x.observe(outputEl, {childList: true});\n",
              "}}\n",
              "\n",
              "                        })                };            </script>        </div>"
            ]
          },
          "metadata": {}
        }
      ]
    },
    {
      "cell_type": "markdown",
      "source": [
        "##3D Bubble Chart"
      ],
      "metadata": {
        "id": "ly-excBckVMX"
      },
      "id": "ly-excBckVMX"
    },
    {
      "cell_type": "code",
      "source": [
        "df_bubble3d = cf.datagen.bubble3d(5, 4, mode='stocks')\n",
        "fig = go.Figure(data=[go.Scatter3d(x=df_bubble3d['x'], y=df_bubble3d['y'], z=df_bubble3d['z'], mode='markers',\n",
        "                                   marker=dict(size=df_bubble3d['size']))])\n",
        "fig.show()"
      ],
      "metadata": {
        "colab": {
          "base_uri": "https://localhost:8080/",
          "height": 542
        },
        "id": "8JFJgRSAdXU2",
        "outputId": "1a74c97b-fcd5-4cd3-b280-1957d3e89406"
      },
      "id": "8JFJgRSAdXU2",
      "execution_count": 113,
      "outputs": [
        {
          "output_type": "display_data",
          "data": {
            "application/vnd.plotly.v1+json": {
              "data": [
                {
                  "marker": {
                    "size": {
                      "dtype": "i1",
                      "bdata": "BSw0C1AsL1lDIQQ0JjYnX15WYV8="
                    }
                  },
                  "mode": "markers",
                  "x": {
                    "dtype": "f8",
                    "bdata": "CImSjo1EwT/stmPXP2vEP1o8HF06LuG/F0XU/6tp7z/aq9P8kwvZv4iSjJl+9ts/uiFOveA71r8U+Eb4XYTrv3hyCrbkg78/sKdbKVXj6D+cNbpobUvHvzBA1uozW8Q/RfnZOd7o5z+nq0I7jI32P3nEoIXK09I/ggPeaCf63T9t0L1MMkncv2/4rnOML+4/XYNv71oJxz8GBXEg7jbdvw=="
                  },
                  "y": {
                    "dtype": "f8",
                    "bdata": "e8ts5dOC1b/bHHHCvoLXP5GAKvzdOvG/G73Os68J1D+774GNE2fRvy8UNQWf1AHAdrh8yfDl9T+lxjCf8Jvbv9jllTlwqvG/NuSkrLf8AMCIPn7FN7jZv18ADGrMePE/yUTXX+Utwb8d2XGJDBj8P2R0C9tHWWE/je9/sK6E5z9ACjrVa8H9v/VqSv9IM9+/oM4xJ4eJ4z8nQdqpVEnMPw=="
                  },
                  "z": {
                    "dtype": "f8",
                    "bdata": "u7R/FN5/xz8BtN6ZEMqdv7NKnSAzZOq/lTfNEKJL5b8+FZP5VuC9v3yCwUG4bfk/EX015Z5A8L/gl7QBPSzgP9KrRqLCFOe/dYXwacIxzz9cPuaTsO4FQF/ZqqCfJOU/RGDQqO773T+lITLKpLX4vxalYc/lg/C/yvyOZB4G9b/rYfcBcy7ov0BZZm08xLQ/0oKMUKB99T/japrGRcrmPw=="
                  },
                  "type": "scatter3d"
                }
              ],
              "layout": {
                "template": {
                  "data": {
                    "histogram2dcontour": [
                      {
                        "type": "histogram2dcontour",
                        "colorbar": {
                          "outlinewidth": 0,
                          "ticks": ""
                        },
                        "colorscale": [
                          [
                            0,
                            "#0d0887"
                          ],
                          [
                            0.1111111111111111,
                            "#46039f"
                          ],
                          [
                            0.2222222222222222,
                            "#7201a8"
                          ],
                          [
                            0.3333333333333333,
                            "#9c179e"
                          ],
                          [
                            0.4444444444444444,
                            "#bd3786"
                          ],
                          [
                            0.5555555555555556,
                            "#d8576b"
                          ],
                          [
                            0.6666666666666666,
                            "#ed7953"
                          ],
                          [
                            0.7777777777777778,
                            "#fb9f3a"
                          ],
                          [
                            0.8888888888888888,
                            "#fdca26"
                          ],
                          [
                            1,
                            "#f0f921"
                          ]
                        ]
                      }
                    ],
                    "choropleth": [
                      {
                        "type": "choropleth",
                        "colorbar": {
                          "outlinewidth": 0,
                          "ticks": ""
                        }
                      }
                    ],
                    "histogram2d": [
                      {
                        "type": "histogram2d",
                        "colorbar": {
                          "outlinewidth": 0,
                          "ticks": ""
                        },
                        "colorscale": [
                          [
                            0,
                            "#0d0887"
                          ],
                          [
                            0.1111111111111111,
                            "#46039f"
                          ],
                          [
                            0.2222222222222222,
                            "#7201a8"
                          ],
                          [
                            0.3333333333333333,
                            "#9c179e"
                          ],
                          [
                            0.4444444444444444,
                            "#bd3786"
                          ],
                          [
                            0.5555555555555556,
                            "#d8576b"
                          ],
                          [
                            0.6666666666666666,
                            "#ed7953"
                          ],
                          [
                            0.7777777777777778,
                            "#fb9f3a"
                          ],
                          [
                            0.8888888888888888,
                            "#fdca26"
                          ],
                          [
                            1,
                            "#f0f921"
                          ]
                        ]
                      }
                    ],
                    "heatmap": [
                      {
                        "type": "heatmap",
                        "colorbar": {
                          "outlinewidth": 0,
                          "ticks": ""
                        },
                        "colorscale": [
                          [
                            0,
                            "#0d0887"
                          ],
                          [
                            0.1111111111111111,
                            "#46039f"
                          ],
                          [
                            0.2222222222222222,
                            "#7201a8"
                          ],
                          [
                            0.3333333333333333,
                            "#9c179e"
                          ],
                          [
                            0.4444444444444444,
                            "#bd3786"
                          ],
                          [
                            0.5555555555555556,
                            "#d8576b"
                          ],
                          [
                            0.6666666666666666,
                            "#ed7953"
                          ],
                          [
                            0.7777777777777778,
                            "#fb9f3a"
                          ],
                          [
                            0.8888888888888888,
                            "#fdca26"
                          ],
                          [
                            1,
                            "#f0f921"
                          ]
                        ]
                      }
                    ],
                    "contourcarpet": [
                      {
                        "type": "contourcarpet",
                        "colorbar": {
                          "outlinewidth": 0,
                          "ticks": ""
                        }
                      }
                    ],
                    "contour": [
                      {
                        "type": "contour",
                        "colorbar": {
                          "outlinewidth": 0,
                          "ticks": ""
                        },
                        "colorscale": [
                          [
                            0,
                            "#0d0887"
                          ],
                          [
                            0.1111111111111111,
                            "#46039f"
                          ],
                          [
                            0.2222222222222222,
                            "#7201a8"
                          ],
                          [
                            0.3333333333333333,
                            "#9c179e"
                          ],
                          [
                            0.4444444444444444,
                            "#bd3786"
                          ],
                          [
                            0.5555555555555556,
                            "#d8576b"
                          ],
                          [
                            0.6666666666666666,
                            "#ed7953"
                          ],
                          [
                            0.7777777777777778,
                            "#fb9f3a"
                          ],
                          [
                            0.8888888888888888,
                            "#fdca26"
                          ],
                          [
                            1,
                            "#f0f921"
                          ]
                        ]
                      }
                    ],
                    "surface": [
                      {
                        "type": "surface",
                        "colorbar": {
                          "outlinewidth": 0,
                          "ticks": ""
                        },
                        "colorscale": [
                          [
                            0,
                            "#0d0887"
                          ],
                          [
                            0.1111111111111111,
                            "#46039f"
                          ],
                          [
                            0.2222222222222222,
                            "#7201a8"
                          ],
                          [
                            0.3333333333333333,
                            "#9c179e"
                          ],
                          [
                            0.4444444444444444,
                            "#bd3786"
                          ],
                          [
                            0.5555555555555556,
                            "#d8576b"
                          ],
                          [
                            0.6666666666666666,
                            "#ed7953"
                          ],
                          [
                            0.7777777777777778,
                            "#fb9f3a"
                          ],
                          [
                            0.8888888888888888,
                            "#fdca26"
                          ],
                          [
                            1,
                            "#f0f921"
                          ]
                        ]
                      }
                    ],
                    "mesh3d": [
                      {
                        "type": "mesh3d",
                        "colorbar": {
                          "outlinewidth": 0,
                          "ticks": ""
                        }
                      }
                    ],
                    "scatter": [
                      {
                        "fillpattern": {
                          "fillmode": "overlay",
                          "size": 10,
                          "solidity": 0.2
                        },
                        "type": "scatter"
                      }
                    ],
                    "parcoords": [
                      {
                        "type": "parcoords",
                        "line": {
                          "colorbar": {
                            "outlinewidth": 0,
                            "ticks": ""
                          }
                        }
                      }
                    ],
                    "scatterpolargl": [
                      {
                        "type": "scatterpolargl",
                        "marker": {
                          "colorbar": {
                            "outlinewidth": 0,
                            "ticks": ""
                          }
                        }
                      }
                    ],
                    "bar": [
                      {
                        "error_x": {
                          "color": "#2a3f5f"
                        },
                        "error_y": {
                          "color": "#2a3f5f"
                        },
                        "marker": {
                          "line": {
                            "color": "#E5ECF6",
                            "width": 0.5
                          },
                          "pattern": {
                            "fillmode": "overlay",
                            "size": 10,
                            "solidity": 0.2
                          }
                        },
                        "type": "bar"
                      }
                    ],
                    "scattergeo": [
                      {
                        "type": "scattergeo",
                        "marker": {
                          "colorbar": {
                            "outlinewidth": 0,
                            "ticks": ""
                          }
                        }
                      }
                    ],
                    "scatterpolar": [
                      {
                        "type": "scatterpolar",
                        "marker": {
                          "colorbar": {
                            "outlinewidth": 0,
                            "ticks": ""
                          }
                        }
                      }
                    ],
                    "histogram": [
                      {
                        "marker": {
                          "pattern": {
                            "fillmode": "overlay",
                            "size": 10,
                            "solidity": 0.2
                          }
                        },
                        "type": "histogram"
                      }
                    ],
                    "scattergl": [
                      {
                        "type": "scattergl",
                        "marker": {
                          "colorbar": {
                            "outlinewidth": 0,
                            "ticks": ""
                          }
                        }
                      }
                    ],
                    "scatter3d": [
                      {
                        "type": "scatter3d",
                        "line": {
                          "colorbar": {
                            "outlinewidth": 0,
                            "ticks": ""
                          }
                        },
                        "marker": {
                          "colorbar": {
                            "outlinewidth": 0,
                            "ticks": ""
                          }
                        }
                      }
                    ],
                    "scattermap": [
                      {
                        "type": "scattermap",
                        "marker": {
                          "colorbar": {
                            "outlinewidth": 0,
                            "ticks": ""
                          }
                        }
                      }
                    ],
                    "scattermapbox": [
                      {
                        "type": "scattermapbox",
                        "marker": {
                          "colorbar": {
                            "outlinewidth": 0,
                            "ticks": ""
                          }
                        }
                      }
                    ],
                    "scatterternary": [
                      {
                        "type": "scatterternary",
                        "marker": {
                          "colorbar": {
                            "outlinewidth": 0,
                            "ticks": ""
                          }
                        }
                      }
                    ],
                    "scattercarpet": [
                      {
                        "type": "scattercarpet",
                        "marker": {
                          "colorbar": {
                            "outlinewidth": 0,
                            "ticks": ""
                          }
                        }
                      }
                    ],
                    "carpet": [
                      {
                        "aaxis": {
                          "endlinecolor": "#2a3f5f",
                          "gridcolor": "white",
                          "linecolor": "white",
                          "minorgridcolor": "white",
                          "startlinecolor": "#2a3f5f"
                        },
                        "baxis": {
                          "endlinecolor": "#2a3f5f",
                          "gridcolor": "white",
                          "linecolor": "white",
                          "minorgridcolor": "white",
                          "startlinecolor": "#2a3f5f"
                        },
                        "type": "carpet"
                      }
                    ],
                    "table": [
                      {
                        "cells": {
                          "fill": {
                            "color": "#EBF0F8"
                          },
                          "line": {
                            "color": "white"
                          }
                        },
                        "header": {
                          "fill": {
                            "color": "#C8D4E3"
                          },
                          "line": {
                            "color": "white"
                          }
                        },
                        "type": "table"
                      }
                    ],
                    "barpolar": [
                      {
                        "marker": {
                          "line": {
                            "color": "#E5ECF6",
                            "width": 0.5
                          },
                          "pattern": {
                            "fillmode": "overlay",
                            "size": 10,
                            "solidity": 0.2
                          }
                        },
                        "type": "barpolar"
                      }
                    ],
                    "pie": [
                      {
                        "automargin": true,
                        "type": "pie"
                      }
                    ]
                  },
                  "layout": {
                    "autotypenumbers": "strict",
                    "colorway": [
                      "#636efa",
                      "#EF553B",
                      "#00cc96",
                      "#ab63fa",
                      "#FFA15A",
                      "#19d3f3",
                      "#FF6692",
                      "#B6E880",
                      "#FF97FF",
                      "#FECB52"
                    ],
                    "font": {
                      "color": "#2a3f5f"
                    },
                    "hovermode": "closest",
                    "hoverlabel": {
                      "align": "left"
                    },
                    "paper_bgcolor": "white",
                    "plot_bgcolor": "#E5ECF6",
                    "polar": {
                      "bgcolor": "#E5ECF6",
                      "angularaxis": {
                        "gridcolor": "white",
                        "linecolor": "white",
                        "ticks": ""
                      },
                      "radialaxis": {
                        "gridcolor": "white",
                        "linecolor": "white",
                        "ticks": ""
                      }
                    },
                    "ternary": {
                      "bgcolor": "#E5ECF6",
                      "aaxis": {
                        "gridcolor": "white",
                        "linecolor": "white",
                        "ticks": ""
                      },
                      "baxis": {
                        "gridcolor": "white",
                        "linecolor": "white",
                        "ticks": ""
                      },
                      "caxis": {
                        "gridcolor": "white",
                        "linecolor": "white",
                        "ticks": ""
                      }
                    },
                    "coloraxis": {
                      "colorbar": {
                        "outlinewidth": 0,
                        "ticks": ""
                      }
                    },
                    "colorscale": {
                      "sequential": [
                        [
                          0,
                          "#0d0887"
                        ],
                        [
                          0.1111111111111111,
                          "#46039f"
                        ],
                        [
                          0.2222222222222222,
                          "#7201a8"
                        ],
                        [
                          0.3333333333333333,
                          "#9c179e"
                        ],
                        [
                          0.4444444444444444,
                          "#bd3786"
                        ],
                        [
                          0.5555555555555556,
                          "#d8576b"
                        ],
                        [
                          0.6666666666666666,
                          "#ed7953"
                        ],
                        [
                          0.7777777777777778,
                          "#fb9f3a"
                        ],
                        [
                          0.8888888888888888,
                          "#fdca26"
                        ],
                        [
                          1,
                          "#f0f921"
                        ]
                      ],
                      "sequentialminus": [
                        [
                          0,
                          "#0d0887"
                        ],
                        [
                          0.1111111111111111,
                          "#46039f"
                        ],
                        [
                          0.2222222222222222,
                          "#7201a8"
                        ],
                        [
                          0.3333333333333333,
                          "#9c179e"
                        ],
                        [
                          0.4444444444444444,
                          "#bd3786"
                        ],
                        [
                          0.5555555555555556,
                          "#d8576b"
                        ],
                        [
                          0.6666666666666666,
                          "#ed7953"
                        ],
                        [
                          0.7777777777777778,
                          "#fb9f3a"
                        ],
                        [
                          0.8888888888888888,
                          "#fdca26"
                        ],
                        [
                          1,
                          "#f0f921"
                        ]
                      ],
                      "diverging": [
                        [
                          0,
                          "#8e0152"
                        ],
                        [
                          0.1,
                          "#c51b7d"
                        ],
                        [
                          0.2,
                          "#de77ae"
                        ],
                        [
                          0.3,
                          "#f1b6da"
                        ],
                        [
                          0.4,
                          "#fde0ef"
                        ],
                        [
                          0.5,
                          "#f7f7f7"
                        ],
                        [
                          0.6,
                          "#e6f5d0"
                        ],
                        [
                          0.7,
                          "#b8e186"
                        ],
                        [
                          0.8,
                          "#7fbc41"
                        ],
                        [
                          0.9,
                          "#4d9221"
                        ],
                        [
                          1,
                          "#276419"
                        ]
                      ]
                    },
                    "xaxis": {
                      "gridcolor": "white",
                      "linecolor": "white",
                      "ticks": "",
                      "title": {
                        "standoff": 15
                      },
                      "zerolinecolor": "white",
                      "automargin": true,
                      "zerolinewidth": 2
                    },
                    "yaxis": {
                      "gridcolor": "white",
                      "linecolor": "white",
                      "ticks": "",
                      "title": {
                        "standoff": 15
                      },
                      "zerolinecolor": "white",
                      "automargin": true,
                      "zerolinewidth": 2
                    },
                    "scene": {
                      "xaxis": {
                        "backgroundcolor": "#E5ECF6",
                        "gridcolor": "white",
                        "linecolor": "white",
                        "showbackground": true,
                        "ticks": "",
                        "zerolinecolor": "white",
                        "gridwidth": 2
                      },
                      "yaxis": {
                        "backgroundcolor": "#E5ECF6",
                        "gridcolor": "white",
                        "linecolor": "white",
                        "showbackground": true,
                        "ticks": "",
                        "zerolinecolor": "white",
                        "gridwidth": 2
                      },
                      "zaxis": {
                        "backgroundcolor": "#E5ECF6",
                        "gridcolor": "white",
                        "linecolor": "white",
                        "showbackground": true,
                        "ticks": "",
                        "zerolinecolor": "white",
                        "gridwidth": 2
                      }
                    },
                    "shapedefaults": {
                      "line": {
                        "color": "#2a3f5f"
                      }
                    },
                    "annotationdefaults": {
                      "arrowcolor": "#2a3f5f",
                      "arrowhead": 0,
                      "arrowwidth": 1
                    },
                    "geo": {
                      "bgcolor": "white",
                      "landcolor": "#E5ECF6",
                      "subunitcolor": "white",
                      "showland": true,
                      "showlakes": true,
                      "lakecolor": "white"
                    },
                    "title": {
                      "x": 0.05
                    },
                    "mapbox": {
                      "style": "light"
                    }
                  }
                }
              },
              "config": {
                "plotlyServerURL": "https://plot.ly"
              }
            },
            "text/html": [
              "<div>            <script src=\"https://cdnjs.cloudflare.com/ajax/libs/mathjax/2.7.5/MathJax.js?config=TeX-AMS-MML_SVG\"></script><script type=\"text/javascript\">if (window.MathJax && window.MathJax.Hub && window.MathJax.Hub.Config) {window.MathJax.Hub.Config({SVG: {font: \"STIX-Web\"}});}</script>                <script type=\"text/javascript\">window.PlotlyConfig = {MathJaxConfig: 'local'};</script>\n",
              "        <script charset=\"utf-8\" src=\"https://cdn.plot.ly/plotly-3.0.0.min.js\"></script>                <div id=\"8fe33986-6ece-4d62-9f93-d000eb4b0341\" class=\"plotly-graph-div\" style=\"height:525px; width:100%;\"></div>            <script type=\"text/javascript\">                window.PLOTLYENV=window.PLOTLYENV || {};                                if (document.getElementById(\"8fe33986-6ece-4d62-9f93-d000eb4b0341\")) {                    Plotly.newPlot(                        \"8fe33986-6ece-4d62-9f93-d000eb4b0341\",                        [{\"marker\":{\"size\":{\"dtype\":\"i1\",\"bdata\":\"BSw0C1AsL1lDIQQ0JjYnX15WYV8=\"}},\"mode\":\"markers\",\"x\":{\"dtype\":\"f8\",\"bdata\":\"CImSjo1EwT\\u002fstmPXP2vEP1o8HF06LuG\\u002fF0XU\\u002f6tp7z\\u002faq9P8kwvZv4iSjJl+9ts\\u002fuiFOveA71r8U+Eb4XYTrv3hyCrbkg78\\u002fsKdbKVXj6D+cNbpobUvHvzBA1uozW8Q\\u002fRfnZOd7o5z+nq0I7jI32P3nEoIXK09I\\u002fggPeaCf63T9t0L1MMkncv2\\u002f4rnOML+4\\u002fXYNv71oJxz8GBXEg7jbdvw==\"},\"y\":{\"dtype\":\"f8\",\"bdata\":\"e8ts5dOC1b\\u002fbHHHCvoLXP5GAKvzdOvG\\u002fG73Os68J1D+774GNE2fRvy8UNQWf1AHAdrh8yfDl9T+lxjCf8Jvbv9jllTlwqvG\\u002fNuSkrLf8AMCIPn7FN7jZv18ADGrMePE\\u002fyUTXX+Utwb8d2XGJDBj8P2R0C9tHWWE\\u002fje9\\u002fsK6E5z9ACjrVa8H9v\\u002fVqSv9IM9+\\u002foM4xJ4eJ4z8nQdqpVEnMPw==\"},\"z\":{\"dtype\":\"f8\",\"bdata\":\"u7R\\u002fFN5\\u002fxz8BtN6ZEMqdv7NKnSAzZOq\\u002flTfNEKJL5b8+FZP5VuC9v3yCwUG4bfk\\u002fEX015Z5A8L\\u002fgl7QBPSzgP9KrRqLCFOe\\u002fdYXwacIxzz9cPuaTsO4FQF\\u002fZqqCfJOU\\u002fRGDQqO773T+lITLKpLX4vxalYc\\u002flg\\u002fC\\u002fyvyOZB4G9b\\u002frYfcBcy7ov0BZZm08xLQ\\u002f0oKMUKB99T\\u002fjaprGRcrmPw==\"},\"type\":\"scatter3d\"}],                        {\"template\":{\"data\":{\"histogram2dcontour\":[{\"type\":\"histogram2dcontour\",\"colorbar\":{\"outlinewidth\":0,\"ticks\":\"\"},\"colorscale\":[[0.0,\"#0d0887\"],[0.1111111111111111,\"#46039f\"],[0.2222222222222222,\"#7201a8\"],[0.3333333333333333,\"#9c179e\"],[0.4444444444444444,\"#bd3786\"],[0.5555555555555556,\"#d8576b\"],[0.6666666666666666,\"#ed7953\"],[0.7777777777777778,\"#fb9f3a\"],[0.8888888888888888,\"#fdca26\"],[1.0,\"#f0f921\"]]}],\"choropleth\":[{\"type\":\"choropleth\",\"colorbar\":{\"outlinewidth\":0,\"ticks\":\"\"}}],\"histogram2d\":[{\"type\":\"histogram2d\",\"colorbar\":{\"outlinewidth\":0,\"ticks\":\"\"},\"colorscale\":[[0.0,\"#0d0887\"],[0.1111111111111111,\"#46039f\"],[0.2222222222222222,\"#7201a8\"],[0.3333333333333333,\"#9c179e\"],[0.4444444444444444,\"#bd3786\"],[0.5555555555555556,\"#d8576b\"],[0.6666666666666666,\"#ed7953\"],[0.7777777777777778,\"#fb9f3a\"],[0.8888888888888888,\"#fdca26\"],[1.0,\"#f0f921\"]]}],\"heatmap\":[{\"type\":\"heatmap\",\"colorbar\":{\"outlinewidth\":0,\"ticks\":\"\"},\"colorscale\":[[0.0,\"#0d0887\"],[0.1111111111111111,\"#46039f\"],[0.2222222222222222,\"#7201a8\"],[0.3333333333333333,\"#9c179e\"],[0.4444444444444444,\"#bd3786\"],[0.5555555555555556,\"#d8576b\"],[0.6666666666666666,\"#ed7953\"],[0.7777777777777778,\"#fb9f3a\"],[0.8888888888888888,\"#fdca26\"],[1.0,\"#f0f921\"]]}],\"contourcarpet\":[{\"type\":\"contourcarpet\",\"colorbar\":{\"outlinewidth\":0,\"ticks\":\"\"}}],\"contour\":[{\"type\":\"contour\",\"colorbar\":{\"outlinewidth\":0,\"ticks\":\"\"},\"colorscale\":[[0.0,\"#0d0887\"],[0.1111111111111111,\"#46039f\"],[0.2222222222222222,\"#7201a8\"],[0.3333333333333333,\"#9c179e\"],[0.4444444444444444,\"#bd3786\"],[0.5555555555555556,\"#d8576b\"],[0.6666666666666666,\"#ed7953\"],[0.7777777777777778,\"#fb9f3a\"],[0.8888888888888888,\"#fdca26\"],[1.0,\"#f0f921\"]]}],\"surface\":[{\"type\":\"surface\",\"colorbar\":{\"outlinewidth\":0,\"ticks\":\"\"},\"colorscale\":[[0.0,\"#0d0887\"],[0.1111111111111111,\"#46039f\"],[0.2222222222222222,\"#7201a8\"],[0.3333333333333333,\"#9c179e\"],[0.4444444444444444,\"#bd3786\"],[0.5555555555555556,\"#d8576b\"],[0.6666666666666666,\"#ed7953\"],[0.7777777777777778,\"#fb9f3a\"],[0.8888888888888888,\"#fdca26\"],[1.0,\"#f0f921\"]]}],\"mesh3d\":[{\"type\":\"mesh3d\",\"colorbar\":{\"outlinewidth\":0,\"ticks\":\"\"}}],\"scatter\":[{\"fillpattern\":{\"fillmode\":\"overlay\",\"size\":10,\"solidity\":0.2},\"type\":\"scatter\"}],\"parcoords\":[{\"type\":\"parcoords\",\"line\":{\"colorbar\":{\"outlinewidth\":0,\"ticks\":\"\"}}}],\"scatterpolargl\":[{\"type\":\"scatterpolargl\",\"marker\":{\"colorbar\":{\"outlinewidth\":0,\"ticks\":\"\"}}}],\"bar\":[{\"error_x\":{\"color\":\"#2a3f5f\"},\"error_y\":{\"color\":\"#2a3f5f\"},\"marker\":{\"line\":{\"color\":\"#E5ECF6\",\"width\":0.5},\"pattern\":{\"fillmode\":\"overlay\",\"size\":10,\"solidity\":0.2}},\"type\":\"bar\"}],\"scattergeo\":[{\"type\":\"scattergeo\",\"marker\":{\"colorbar\":{\"outlinewidth\":0,\"ticks\":\"\"}}}],\"scatterpolar\":[{\"type\":\"scatterpolar\",\"marker\":{\"colorbar\":{\"outlinewidth\":0,\"ticks\":\"\"}}}],\"histogram\":[{\"marker\":{\"pattern\":{\"fillmode\":\"overlay\",\"size\":10,\"solidity\":0.2}},\"type\":\"histogram\"}],\"scattergl\":[{\"type\":\"scattergl\",\"marker\":{\"colorbar\":{\"outlinewidth\":0,\"ticks\":\"\"}}}],\"scatter3d\":[{\"type\":\"scatter3d\",\"line\":{\"colorbar\":{\"outlinewidth\":0,\"ticks\":\"\"}},\"marker\":{\"colorbar\":{\"outlinewidth\":0,\"ticks\":\"\"}}}],\"scattermap\":[{\"type\":\"scattermap\",\"marker\":{\"colorbar\":{\"outlinewidth\":0,\"ticks\":\"\"}}}],\"scattermapbox\":[{\"type\":\"scattermapbox\",\"marker\":{\"colorbar\":{\"outlinewidth\":0,\"ticks\":\"\"}}}],\"scatterternary\":[{\"type\":\"scatterternary\",\"marker\":{\"colorbar\":{\"outlinewidth\":0,\"ticks\":\"\"}}}],\"scattercarpet\":[{\"type\":\"scattercarpet\",\"marker\":{\"colorbar\":{\"outlinewidth\":0,\"ticks\":\"\"}}}],\"carpet\":[{\"aaxis\":{\"endlinecolor\":\"#2a3f5f\",\"gridcolor\":\"white\",\"linecolor\":\"white\",\"minorgridcolor\":\"white\",\"startlinecolor\":\"#2a3f5f\"},\"baxis\":{\"endlinecolor\":\"#2a3f5f\",\"gridcolor\":\"white\",\"linecolor\":\"white\",\"minorgridcolor\":\"white\",\"startlinecolor\":\"#2a3f5f\"},\"type\":\"carpet\"}],\"table\":[{\"cells\":{\"fill\":{\"color\":\"#EBF0F8\"},\"line\":{\"color\":\"white\"}},\"header\":{\"fill\":{\"color\":\"#C8D4E3\"},\"line\":{\"color\":\"white\"}},\"type\":\"table\"}],\"barpolar\":[{\"marker\":{\"line\":{\"color\":\"#E5ECF6\",\"width\":0.5},\"pattern\":{\"fillmode\":\"overlay\",\"size\":10,\"solidity\":0.2}},\"type\":\"barpolar\"}],\"pie\":[{\"automargin\":true,\"type\":\"pie\"}]},\"layout\":{\"autotypenumbers\":\"strict\",\"colorway\":[\"#636efa\",\"#EF553B\",\"#00cc96\",\"#ab63fa\",\"#FFA15A\",\"#19d3f3\",\"#FF6692\",\"#B6E880\",\"#FF97FF\",\"#FECB52\"],\"font\":{\"color\":\"#2a3f5f\"},\"hovermode\":\"closest\",\"hoverlabel\":{\"align\":\"left\"},\"paper_bgcolor\":\"white\",\"plot_bgcolor\":\"#E5ECF6\",\"polar\":{\"bgcolor\":\"#E5ECF6\",\"angularaxis\":{\"gridcolor\":\"white\",\"linecolor\":\"white\",\"ticks\":\"\"},\"radialaxis\":{\"gridcolor\":\"white\",\"linecolor\":\"white\",\"ticks\":\"\"}},\"ternary\":{\"bgcolor\":\"#E5ECF6\",\"aaxis\":{\"gridcolor\":\"white\",\"linecolor\":\"white\",\"ticks\":\"\"},\"baxis\":{\"gridcolor\":\"white\",\"linecolor\":\"white\",\"ticks\":\"\"},\"caxis\":{\"gridcolor\":\"white\",\"linecolor\":\"white\",\"ticks\":\"\"}},\"coloraxis\":{\"colorbar\":{\"outlinewidth\":0,\"ticks\":\"\"}},\"colorscale\":{\"sequential\":[[0.0,\"#0d0887\"],[0.1111111111111111,\"#46039f\"],[0.2222222222222222,\"#7201a8\"],[0.3333333333333333,\"#9c179e\"],[0.4444444444444444,\"#bd3786\"],[0.5555555555555556,\"#d8576b\"],[0.6666666666666666,\"#ed7953\"],[0.7777777777777778,\"#fb9f3a\"],[0.8888888888888888,\"#fdca26\"],[1.0,\"#f0f921\"]],\"sequentialminus\":[[0.0,\"#0d0887\"],[0.1111111111111111,\"#46039f\"],[0.2222222222222222,\"#7201a8\"],[0.3333333333333333,\"#9c179e\"],[0.4444444444444444,\"#bd3786\"],[0.5555555555555556,\"#d8576b\"],[0.6666666666666666,\"#ed7953\"],[0.7777777777777778,\"#fb9f3a\"],[0.8888888888888888,\"#fdca26\"],[1.0,\"#f0f921\"]],\"diverging\":[[0,\"#8e0152\"],[0.1,\"#c51b7d\"],[0.2,\"#de77ae\"],[0.3,\"#f1b6da\"],[0.4,\"#fde0ef\"],[0.5,\"#f7f7f7\"],[0.6,\"#e6f5d0\"],[0.7,\"#b8e186\"],[0.8,\"#7fbc41\"],[0.9,\"#4d9221\"],[1,\"#276419\"]]},\"xaxis\":{\"gridcolor\":\"white\",\"linecolor\":\"white\",\"ticks\":\"\",\"title\":{\"standoff\":15},\"zerolinecolor\":\"white\",\"automargin\":true,\"zerolinewidth\":2},\"yaxis\":{\"gridcolor\":\"white\",\"linecolor\":\"white\",\"ticks\":\"\",\"title\":{\"standoff\":15},\"zerolinecolor\":\"white\",\"automargin\":true,\"zerolinewidth\":2},\"scene\":{\"xaxis\":{\"backgroundcolor\":\"#E5ECF6\",\"gridcolor\":\"white\",\"linecolor\":\"white\",\"showbackground\":true,\"ticks\":\"\",\"zerolinecolor\":\"white\",\"gridwidth\":2},\"yaxis\":{\"backgroundcolor\":\"#E5ECF6\",\"gridcolor\":\"white\",\"linecolor\":\"white\",\"showbackground\":true,\"ticks\":\"\",\"zerolinecolor\":\"white\",\"gridwidth\":2},\"zaxis\":{\"backgroundcolor\":\"#E5ECF6\",\"gridcolor\":\"white\",\"linecolor\":\"white\",\"showbackground\":true,\"ticks\":\"\",\"zerolinecolor\":\"white\",\"gridwidth\":2}},\"shapedefaults\":{\"line\":{\"color\":\"#2a3f5f\"}},\"annotationdefaults\":{\"arrowcolor\":\"#2a3f5f\",\"arrowhead\":0,\"arrowwidth\":1},\"geo\":{\"bgcolor\":\"white\",\"landcolor\":\"#E5ECF6\",\"subunitcolor\":\"white\",\"showland\":true,\"showlakes\":true,\"lakecolor\":\"white\"},\"title\":{\"x\":0.05},\"mapbox\":{\"style\":\"light\"}}}},                        {\"responsive\": true}                    ).then(function(){\n",
              "                            \n",
              "var gd = document.getElementById('8fe33986-6ece-4d62-9f93-d000eb4b0341');\n",
              "var x = new MutationObserver(function (mutations, observer) {{\n",
              "        var display = window.getComputedStyle(gd).display;\n",
              "        if (!display || display === 'none') {{\n",
              "            console.log([gd, 'removed!']);\n",
              "            Plotly.purge(gd);\n",
              "            observer.disconnect();\n",
              "        }}\n",
              "}});\n",
              "\n",
              "// Listen for the removal of the full notebook cells\n",
              "var notebookContainer = gd.closest('#notebook-container');\n",
              "if (notebookContainer) {{\n",
              "    x.observe(notebookContainer, {childList: true});\n",
              "}}\n",
              "\n",
              "// Listen for the clearing of the current output cell\n",
              "var outputEl = gd.closest('.output');\n",
              "if (outputEl) {{\n",
              "    x.observe(outputEl, {childList: true});\n",
              "}}\n",
              "\n",
              "                        })                };            </script>        </div>"
            ]
          },
          "metadata": {}
        }
      ]
    },
    {
      "cell_type": "markdown",
      "source": [
        "##Heatmap (Spectral Colorscale)"
      ],
      "metadata": {
        "id": "lDQ_tzAkkcX_"
      },
      "id": "lDQ_tzAkkcX_"
    },
    {
      "cell_type": "code",
      "source": [
        "df_heatmap = cf.datagen.heatmap(20, 30)\n",
        "fig = go.Figure(data=[go.Heatmap(z=df_heatmap.values, colorscale='spectral')],\n",
        "                layout=go.Layout(title='cufflinks - heatmap'))\n",
        "fig.show()"
      ],
      "metadata": {
        "colab": {
          "base_uri": "https://localhost:8080/",
          "height": 542
        },
        "id": "JcREjCZodZad",
        "outputId": "cb6d1e93-c3cf-45a4-b4ff-3ad5f79204c7"
      },
      "id": "JcREjCZodZad",
      "execution_count": 105,
      "outputs": [
        {
          "output_type": "display_data",
          "data": {
            "application/vnd.plotly.v1+json": {
              "data": [
                {
                  "colorscale": [
                    [
                      0,
                      "rgb(158,1,66)"
                    ],
                    [
                      0.1,
                      "rgb(213,62,79)"
                    ],
                    [
                      0.2,
                      "rgb(244,109,67)"
                    ],
                    [
                      0.3,
                      "rgb(253,174,97)"
                    ],
                    [
                      0.4,
                      "rgb(254,224,139)"
                    ],
                    [
                      0.5,
                      "rgb(255,255,191)"
                    ],
                    [
                      0.6,
                      "rgb(230,245,152)"
                    ],
                    [
                      0.7,
                      "rgb(171,221,164)"
                    ],
                    [
                      0.8,
                      "rgb(102,194,165)"
                    ],
                    [
                      0.9,
                      "rgb(50,136,189)"
                    ],
                    [
                      1,
                      "rgb(94,79,162)"
                    ]
                  ],
                  "z": {
                    "dtype": "f8",
                    "bdata": "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",
                    "shape": "20, 30"
                  },
                  "type": "heatmap"
                }
              ],
              "layout": {
                "title": {
                  "text": "cufflinks - heatmap"
                },
                "template": {
                  "data": {
                    "histogram2dcontour": [
                      {
                        "type": "histogram2dcontour",
                        "colorbar": {
                          "outlinewidth": 0,
                          "ticks": ""
                        },
                        "colorscale": [
                          [
                            0,
                            "#0d0887"
                          ],
                          [
                            0.1111111111111111,
                            "#46039f"
                          ],
                          [
                            0.2222222222222222,
                            "#7201a8"
                          ],
                          [
                            0.3333333333333333,
                            "#9c179e"
                          ],
                          [
                            0.4444444444444444,
                            "#bd3786"
                          ],
                          [
                            0.5555555555555556,
                            "#d8576b"
                          ],
                          [
                            0.6666666666666666,
                            "#ed7953"
                          ],
                          [
                            0.7777777777777778,
                            "#fb9f3a"
                          ],
                          [
                            0.8888888888888888,
                            "#fdca26"
                          ],
                          [
                            1,
                            "#f0f921"
                          ]
                        ]
                      }
                    ],
                    "choropleth": [
                      {
                        "type": "choropleth",
                        "colorbar": {
                          "outlinewidth": 0,
                          "ticks": ""
                        }
                      }
                    ],
                    "histogram2d": [
                      {
                        "type": "histogram2d",
                        "colorbar": {
                          "outlinewidth": 0,
                          "ticks": ""
                        },
                        "colorscale": [
                          [
                            0,
                            "#0d0887"
                          ],
                          [
                            0.1111111111111111,
                            "#46039f"
                          ],
                          [
                            0.2222222222222222,
                            "#7201a8"
                          ],
                          [
                            0.3333333333333333,
                            "#9c179e"
                          ],
                          [
                            0.4444444444444444,
                            "#bd3786"
                          ],
                          [
                            0.5555555555555556,
                            "#d8576b"
                          ],
                          [
                            0.6666666666666666,
                            "#ed7953"
                          ],
                          [
                            0.7777777777777778,
                            "#fb9f3a"
                          ],
                          [
                            0.8888888888888888,
                            "#fdca26"
                          ],
                          [
                            1,
                            "#f0f921"
                          ]
                        ]
                      }
                    ],
                    "heatmap": [
                      {
                        "type": "heatmap",
                        "colorbar": {
                          "outlinewidth": 0,
                          "ticks": ""
                        },
                        "colorscale": [
                          [
                            0,
                            "#0d0887"
                          ],
                          [
                            0.1111111111111111,
                            "#46039f"
                          ],
                          [
                            0.2222222222222222,
                            "#7201a8"
                          ],
                          [
                            0.3333333333333333,
                            "#9c179e"
                          ],
                          [
                            0.4444444444444444,
                            "#bd3786"
                          ],
                          [
                            0.5555555555555556,
                            "#d8576b"
                          ],
                          [
                            0.6666666666666666,
                            "#ed7953"
                          ],
                          [
                            0.7777777777777778,
                            "#fb9f3a"
                          ],
                          [
                            0.8888888888888888,
                            "#fdca26"
                          ],
                          [
                            1,
                            "#f0f921"
                          ]
                        ]
                      }
                    ],
                    "contourcarpet": [
                      {
                        "type": "contourcarpet",
                        "colorbar": {
                          "outlinewidth": 0,
                          "ticks": ""
                        }
                      }
                    ],
                    "contour": [
                      {
                        "type": "contour",
                        "colorbar": {
                          "outlinewidth": 0,
                          "ticks": ""
                        },
                        "colorscale": [
                          [
                            0,
                            "#0d0887"
                          ],
                          [
                            0.1111111111111111,
                            "#46039f"
                          ],
                          [
                            0.2222222222222222,
                            "#7201a8"
                          ],
                          [
                            0.3333333333333333,
                            "#9c179e"
                          ],
                          [
                            0.4444444444444444,
                            "#bd3786"
                          ],
                          [
                            0.5555555555555556,
                            "#d8576b"
                          ],
                          [
                            0.6666666666666666,
                            "#ed7953"
                          ],
                          [
                            0.7777777777777778,
                            "#fb9f3a"
                          ],
                          [
                            0.8888888888888888,
                            "#fdca26"
                          ],
                          [
                            1,
                            "#f0f921"
                          ]
                        ]
                      }
                    ],
                    "surface": [
                      {
                        "type": "surface",
                        "colorbar": {
                          "outlinewidth": 0,
                          "ticks": ""
                        },
                        "colorscale": [
                          [
                            0,
                            "#0d0887"
                          ],
                          [
                            0.1111111111111111,
                            "#46039f"
                          ],
                          [
                            0.2222222222222222,
                            "#7201a8"
                          ],
                          [
                            0.3333333333333333,
                            "#9c179e"
                          ],
                          [
                            0.4444444444444444,
                            "#bd3786"
                          ],
                          [
                            0.5555555555555556,
                            "#d8576b"
                          ],
                          [
                            0.6666666666666666,
                            "#ed7953"
                          ],
                          [
                            0.7777777777777778,
                            "#fb9f3a"
                          ],
                          [
                            0.8888888888888888,
                            "#fdca26"
                          ],
                          [
                            1,
                            "#f0f921"
                          ]
                        ]
                      }
                    ],
                    "mesh3d": [
                      {
                        "type": "mesh3d",
                        "colorbar": {
                          "outlinewidth": 0,
                          "ticks": ""
                        }
                      }
                    ],
                    "scatter": [
                      {
                        "fillpattern": {
                          "fillmode": "overlay",
                          "size": 10,
                          "solidity": 0.2
                        },
                        "type": "scatter"
                      }
                    ],
                    "parcoords": [
                      {
                        "type": "parcoords",
                        "line": {
                          "colorbar": {
                            "outlinewidth": 0,
                            "ticks": ""
                          }
                        }
                      }
                    ],
                    "scatterpolargl": [
                      {
                        "type": "scatterpolargl",
                        "marker": {
                          "colorbar": {
                            "outlinewidth": 0,
                            "ticks": ""
                          }
                        }
                      }
                    ],
                    "bar": [
                      {
                        "error_x": {
                          "color": "#2a3f5f"
                        },
                        "error_y": {
                          "color": "#2a3f5f"
                        },
                        "marker": {
                          "line": {
                            "color": "#E5ECF6",
                            "width": 0.5
                          },
                          "pattern": {
                            "fillmode": "overlay",
                            "size": 10,
                            "solidity": 0.2
                          }
                        },
                        "type": "bar"
                      }
                    ],
                    "scattergeo": [
                      {
                        "type": "scattergeo",
                        "marker": {
                          "colorbar": {
                            "outlinewidth": 0,
                            "ticks": ""
                          }
                        }
                      }
                    ],
                    "scatterpolar": [
                      {
                        "type": "scatterpolar",
                        "marker": {
                          "colorbar": {
                            "outlinewidth": 0,
                            "ticks": ""
                          }
                        }
                      }
                    ],
                    "histogram": [
                      {
                        "marker": {
                          "pattern": {
                            "fillmode": "overlay",
                            "size": 10,
                            "solidity": 0.2
                          }
                        },
                        "type": "histogram"
                      }
                    ],
                    "scattergl": [
                      {
                        "type": "scattergl",
                        "marker": {
                          "colorbar": {
                            "outlinewidth": 0,
                            "ticks": ""
                          }
                        }
                      }
                    ],
                    "scatter3d": [
                      {
                        "type": "scatter3d",
                        "line": {
                          "colorbar": {
                            "outlinewidth": 0,
                            "ticks": ""
                          }
                        },
                        "marker": {
                          "colorbar": {
                            "outlinewidth": 0,
                            "ticks": ""
                          }
                        }
                      }
                    ],
                    "scattermap": [
                      {
                        "type": "scattermap",
                        "marker": {
                          "colorbar": {
                            "outlinewidth": 0,
                            "ticks": ""
                          }
                        }
                      }
                    ],
                    "scattermapbox": [
                      {
                        "type": "scattermapbox",
                        "marker": {
                          "colorbar": {
                            "outlinewidth": 0,
                            "ticks": ""
                          }
                        }
                      }
                    ],
                    "scatterternary": [
                      {
                        "type": "scatterternary",
                        "marker": {
                          "colorbar": {
                            "outlinewidth": 0,
                            "ticks": ""
                          }
                        }
                      }
                    ],
                    "scattercarpet": [
                      {
                        "type": "scattercarpet",
                        "marker": {
                          "colorbar": {
                            "outlinewidth": 0,
                            "ticks": ""
                          }
                        }
                      }
                    ],
                    "carpet": [
                      {
                        "aaxis": {
                          "endlinecolor": "#2a3f5f",
                          "gridcolor": "white",
                          "linecolor": "white",
                          "minorgridcolor": "white",
                          "startlinecolor": "#2a3f5f"
                        },
                        "baxis": {
                          "endlinecolor": "#2a3f5f",
                          "gridcolor": "white",
                          "linecolor": "white",
                          "minorgridcolor": "white",
                          "startlinecolor": "#2a3f5f"
                        },
                        "type": "carpet"
                      }
                    ],
                    "table": [
                      {
                        "cells": {
                          "fill": {
                            "color": "#EBF0F8"
                          },
                          "line": {
                            "color": "white"
                          }
                        },
                        "header": {
                          "fill": {
                            "color": "#C8D4E3"
                          },
                          "line": {
                            "color": "white"
                          }
                        },
                        "type": "table"
                      }
                    ],
                    "barpolar": [
                      {
                        "marker": {
                          "line": {
                            "color": "#E5ECF6",
                            "width": 0.5
                          },
                          "pattern": {
                            "fillmode": "overlay",
                            "size": 10,
                            "solidity": 0.2
                          }
                        },
                        "type": "barpolar"
                      }
                    ],
                    "pie": [
                      {
                        "automargin": true,
                        "type": "pie"
                      }
                    ]
                  },
                  "layout": {
                    "autotypenumbers": "strict",
                    "colorway": [
                      "#636efa",
                      "#EF553B",
                      "#00cc96",
                      "#ab63fa",
                      "#FFA15A",
                      "#19d3f3",
                      "#FF6692",
                      "#B6E880",
                      "#FF97FF",
                      "#FECB52"
                    ],
                    "font": {
                      "color": "#2a3f5f"
                    },
                    "hovermode": "closest",
                    "hoverlabel": {
                      "align": "left"
                    },
                    "paper_bgcolor": "white",
                    "plot_bgcolor": "#E5ECF6",
                    "polar": {
                      "bgcolor": "#E5ECF6",
                      "angularaxis": {
                        "gridcolor": "white",
                        "linecolor": "white",
                        "ticks": ""
                      },
                      "radialaxis": {
                        "gridcolor": "white",
                        "linecolor": "white",
                        "ticks": ""
                      }
                    },
                    "ternary": {
                      "bgcolor": "#E5ECF6",
                      "aaxis": {
                        "gridcolor": "white",
                        "linecolor": "white",
                        "ticks": ""
                      },
                      "baxis": {
                        "gridcolor": "white",
                        "linecolor": "white",
                        "ticks": ""
                      },
                      "caxis": {
                        "gridcolor": "white",
                        "linecolor": "white",
                        "ticks": ""
                      }
                    },
                    "coloraxis": {
                      "colorbar": {
                        "outlinewidth": 0,
                        "ticks": ""
                      }
                    },
                    "colorscale": {
                      "sequential": [
                        [
                          0,
                          "#0d0887"
                        ],
                        [
                          0.1111111111111111,
                          "#46039f"
                        ],
                        [
                          0.2222222222222222,
                          "#7201a8"
                        ],
                        [
                          0.3333333333333333,
                          "#9c179e"
                        ],
                        [
                          0.4444444444444444,
                          "#bd3786"
                        ],
                        [
                          0.5555555555555556,
                          "#d8576b"
                        ],
                        [
                          0.6666666666666666,
                          "#ed7953"
                        ],
                        [
                          0.7777777777777778,
                          "#fb9f3a"
                        ],
                        [
                          0.8888888888888888,
                          "#fdca26"
                        ],
                        [
                          1,
                          "#f0f921"
                        ]
                      ],
                      "sequentialminus": [
                        [
                          0,
                          "#0d0887"
                        ],
                        [
                          0.1111111111111111,
                          "#46039f"
                        ],
                        [
                          0.2222222222222222,
                          "#7201a8"
                        ],
                        [
                          0.3333333333333333,
                          "#9c179e"
                        ],
                        [
                          0.4444444444444444,
                          "#bd3786"
                        ],
                        [
                          0.5555555555555556,
                          "#d8576b"
                        ],
                        [
                          0.6666666666666666,
                          "#ed7953"
                        ],
                        [
                          0.7777777777777778,
                          "#fb9f3a"
                        ],
                        [
                          0.8888888888888888,
                          "#fdca26"
                        ],
                        [
                          1,
                          "#f0f921"
                        ]
                      ],
                      "diverging": [
                        [
                          0,
                          "#8e0152"
                        ],
                        [
                          0.1,
                          "#c51b7d"
                        ],
                        [
                          0.2,
                          "#de77ae"
                        ],
                        [
                          0.3,
                          "#f1b6da"
                        ],
                        [
                          0.4,
                          "#fde0ef"
                        ],
                        [
                          0.5,
                          "#f7f7f7"
                        ],
                        [
                          0.6,
                          "#e6f5d0"
                        ],
                        [
                          0.7,
                          "#b8e186"
                        ],
                        [
                          0.8,
                          "#7fbc41"
                        ],
                        [
                          0.9,
                          "#4d9221"
                        ],
                        [
                          1,
                          "#276419"
                        ]
                      ]
                    },
                    "xaxis": {
                      "gridcolor": "white",
                      "linecolor": "white",
                      "ticks": "",
                      "title": {
                        "standoff": 15
                      },
                      "zerolinecolor": "white",
                      "automargin": true,
                      "zerolinewidth": 2
                    },
                    "yaxis": {
                      "gridcolor": "white",
                      "linecolor": "white",
                      "ticks": "",
                      "title": {
                        "standoff": 15
                      },
                      "zerolinecolor": "white",
                      "automargin": true,
                      "zerolinewidth": 2
                    },
                    "scene": {
                      "xaxis": {
                        "backgroundcolor": "#E5ECF6",
                        "gridcolor": "white",
                        "linecolor": "white",
                        "showbackground": true,
                        "ticks": "",
                        "zerolinecolor": "white",
                        "gridwidth": 2
                      },
                      "yaxis": {
                        "backgroundcolor": "#E5ECF6",
                        "gridcolor": "white",
                        "linecolor": "white",
                        "showbackground": true,
                        "ticks": "",
                        "zerolinecolor": "white",
                        "gridwidth": 2
                      },
                      "zaxis": {
                        "backgroundcolor": "#E5ECF6",
                        "gridcolor": "white",
                        "linecolor": "white",
                        "showbackground": true,
                        "ticks": "",
                        "zerolinecolor": "white",
                        "gridwidth": 2
                      }
                    },
                    "shapedefaults": {
                      "line": {
                        "color": "#2a3f5f"
                      }
                    },
                    "annotationdefaults": {
                      "arrowcolor": "#2a3f5f",
                      "arrowhead": 0,
                      "arrowwidth": 1
                    },
                    "geo": {
                      "bgcolor": "white",
                      "landcolor": "#E5ECF6",
                      "subunitcolor": "white",
                      "showland": true,
                      "showlakes": true,
                      "lakecolor": "white"
                    },
                    "title": {
                      "x": 0.05
                    },
                    "mapbox": {
                      "style": "light"
                    }
                  }
                }
              },
              "config": {
                "plotlyServerURL": "https://plot.ly"
              }
            },
            "text/html": [
              "<div>            <script src=\"https://cdnjs.cloudflare.com/ajax/libs/mathjax/2.7.5/MathJax.js?config=TeX-AMS-MML_SVG\"></script><script type=\"text/javascript\">if (window.MathJax && window.MathJax.Hub && window.MathJax.Hub.Config) {window.MathJax.Hub.Config({SVG: {font: \"STIX-Web\"}});}</script>                <script type=\"text/javascript\">window.PlotlyConfig = {MathJaxConfig: 'local'};</script>\n",
              "        <script charset=\"utf-8\" src=\"https://cdn.plot.ly/plotly-3.0.0.min.js\"></script>                <div id=\"0b01ca35-8b04-45f4-8d51-13078e2d23ca\" class=\"plotly-graph-div\" style=\"height:525px; width:100%;\"></div>            <script type=\"text/javascript\">                window.PLOTLYENV=window.PLOTLYENV || {};                                if (document.getElementById(\"0b01ca35-8b04-45f4-8d51-13078e2d23ca\")) {                    Plotly.newPlot(                        \"0b01ca35-8b04-45f4-8d51-13078e2d23ca\",                        [{\"colorscale\":[[0.0,\"rgb(158,1,66)\"],[0.1,\"rgb(213,62,79)\"],[0.2,\"rgb(244,109,67)\"],[0.3,\"rgb(253,174,97)\"],[0.4,\"rgb(254,224,139)\"],[0.5,\"rgb(255,255,191)\"],[0.6,\"rgb(230,245,152)\"],[0.7,\"rgb(171,221,164)\"],[0.8,\"rgb(102,194,165)\"],[0.9,\"rgb(50,136,189)\"],[1.0,\"rgb(94,79,162)\"]],\"z\":{\"dtype\":\"f8\",\"bdata\":\"AAAAAAAAPUCC+kpHPDpAQD0LZJC7CD9A5EIi2qMqQECxcdITbopAQAwzsSmZOD1ArAjqR3p5OUC5nEWF4vA3QAozZK5qfzVAnSnSL47yN0BqIPF2Snc5QBMXp77AtzxA94XF258hOEC0\\u002f8c9qCI2QK7XCpSdHDdAUbUEDmQPL0DNPjSkPBAxQLe3igixWiJAZMGaL0grL0ALLHkZalMyQL97\\u002fsrZejVABh9\\u002fg+f6KkCHjIcHMHssQHbl\\u002fs5aTDlACBrLs589OECjyh1RM7o7QMgcV5DyxTdAi0e0uYZJM0AGH5ELzxI5QA7gkq6BIzFA+ahgwxc\\u002fO0B74fpkdxsxQOMcnDCHTzNA\\u002fSCeANHZNEC0CLKDyUY4QDy+64QjrDVAxhs25OSiJ0AF+sF6hNwmQH5JmdBP6x9AzCcDGQJGKEC45GPj4wogQKIKbd9N+hRAoEXPuLAO579BN+wBRjnlv8LNG0w0uQDAhuxPmNSL5r84I5LFR73VP5xVjz\\u002fDIhdAqpREfbStIECBIMEt6M4gQCARyvJf4RhAXfYorFF8GUDaX3EUhEkXQOwUiKCIrfI\\u002fiE2T1ECwB0CCtqBHfCHxPxty6qlPFiZA+THwlV6GKkDL6lEar\\u002fwiQASU9jxlQyFAj\\u002fBbX67XPED8jLCrVSI9QCW5Kz9vHj1ANG5ezg9HN0DR+ITMQEU8QGqveWIl7jNAgrJe9xACNkDq9N\\u002f2oSs6QF5n9hWXOTtAm1R6F0CHL0BEpA\\u002fVyoEgQFz6jzA5JxRAp0ogdBAlIEA+gKQ0lQ0iQEkF10q6qx9Ao1aoBix6KUD2J8gRWJwiQNUP0dPRVDhAz6GdtvNdPEA9QSrw4mhEQKwL8FevBkVAF5UzeLSFRkCJyQQYszBDQI2ZTNQK+EBAHRLW\\u002fOvSQUBOi\\u002fDtlFlAQCQSXzfrSD9A9kf0tEUsQEA3KfUMkPlCQNfG3CVjGUNAeVYo\\u002fdPYOED0oe+1mtkrQKn201pvaydAUB4p5bP3JkDY2hnGQTklQEYkpRLnVypAOXGVTvb0LkBeGsUz1683QIK+zlDoDi5AOYmmRgwoLkBqlFEO88osQJVzkcWuJSJAFmK\\u002ffmbOHUBy4JGcejQkQLpbZTg7BydAqflbX6voIkAYoTW4djUzQPYNFMsh6SxAcC7rw487LkCqA5YstgAyQKZfLAmXBxZACikYxnv2H0D812P\\u002fmmYaQBckTKwvTSBA0WSypkf9IkBMLVe1eD0jQPDi8OkNgeO\\u002fAr0zTKIM27\\u002fAmLRigaQCwD5TqwIamCjAlRGL9jzSPEA889S\\u002fWPA9QDoaHY+b3z5AYvJO99Q+PEDxuM0hLPw9QJtWBD6UZURA75WMdsy7Q0DYKVkyqYhCQEH27uabjURA0JWPybX4QUDNU9PjT4RCQFop+29t80FA8d+vvTYpQUC+YrrAhrBDQA0PSgorUD5AtQxLchSJQECaJd0aWndBQIKXiEZ7KURAhBdCFoS7RkA09b1+TZxEQNnRRvEeDEVAvuw9q+28Q0AgztVSudQ8QI6QqovmMDpAbhD2XLeFOED28Jay\\u002fmE3QMbm+f7KdTFAXcg9zOdnM0CEy+GEdoA1QNcy2\\u002fRYYDFAXdS5btbQO0Cktw6aDeA1QI7W5HiD7DZAIVzb9lLxNUB+x3NG2cwtQGIPtXX9aThAqdxcFGe3NkDw9d4Mleg0QIN\\u002f1YVbjyZAqgLv0NU8MUDWobQELeg0QPsgqrNLHjdAInTx3zcVOEB0tABihRc\\u002fQAh5Z7KtRENA+d9Dlh3NQ0BjcGdhZFBEQPGJaqoBaURAgUOTEFXvREBr9NmHoY1EQCXLGo7I0ENAqvMMi9lTRUBkzsQef+1EQIhd2lVvtUZAD6MQFpCfRkDHCtG9QNFEQAwSSOnpakVA8IxND4zIRUBDj7ITVclFQBDf22NX1ERADj8ks5H7PUBrUHGFCOY7QBqOpdtPyD5ACswQ1J1gNUBpsk+VfX02QG3Z6LfLPDdAdal0YEIFPEAW6s4i5KhAQJzYNY00K0BAHyVMZ84tQECgXanhqYo6QC6oIV\\u002fJ0j9Az4n153eNPECTwLkOtyI6QMqfVY1BgzpAyRrEeNU8PEAqRQNxYn9EQEWYxkpcYkNAOKSBAIy5REDYwmCdDxxDQFmTOPpvP0NAEQ7hSxeCREBwALGgqZJFQF56VgIX5EVANDJZdNx8QUBo02of7fdDQDvWVEoyKEVAM\\u002fbm3xC5RUAEBcpne7BFQLJqRs\\u002fmAklA+gvHE\\u002fSCPkCG2Uc8+59AQNbCtUhABkNA0h3dvqKoPEBqISY9zvo\\u002fQM021XcK6EBAyoDNCjOSPkBXyZGXq6k8QOcj3rdGEDlAKAF7XTbYQkDKNklrV9JFQDpnbJtEYUpAcCew7qQzR0AyT3NBttxFQEe6jcBS8kJAI0X0YT1bR0AfP5fQzs5IQAQmivzGI0JAmNYG+NCfPEDztl6iHZc9QLQUzrrW\\u002fT5ALYDat+BPP0CiVGy\\u002fvrM\\u002fQP0TXvHnPUFAQHdK7askP0BkCIfqiMVAQGusnOdQqz9AMg5mhiXmP0ATyV9z0cY7QOl1E8LPST1AKcEmn2gfPEBMgnIERNBEQH1S5BNVpENAooqvGpy6Q0DOlc2q7dxBQIFzrV41T0NA3eEBqv5RQkBkvaVd67FBQEKtExNR\\u002f0NAx5a+rGgOO0C2efUcWD9AQHtmB0hSBkRAKShOvQ8fRUDgHaSlpbBEQPkJY9nNGkRAEFKj7KC5P0D0wZ3RsMY8QJ9X5hFaH0BAKir8gcdwR0D4DtcBPfJIQEyNuaaBPElAlH+eMmtjREDTpquhrL5DQBCU9vjBj0NAVNUtOXjVQ0B9zUXXKopCQFDZ1yHCzUJA8mxkvdiCRUAcn14XB7BDQEcL4ceMtUhAhgBkAJ79NUAsi6Z0UYUuQD+UEaCnoCxA1v3JpxWDHUAINpQW390wQJbobkAK4TFAuavwjoGKNUAyJCSPMSwzQCEV\\u002f+vGmTdAD9Mt7m1BM0DIl4uQL444QNqdYaiKYTJAxqBfpAImNEAq1ckvN600QAPvdlwcnzFAmPgRhQbKKUByOB2TUh8rQCA5OYYGEgtAIeLkre5F\\u002fj+RcOGUK+4CQI4lR3H9HvU\\u002fZhmzwkLn\\u002fr+zCfVI63AGQFuFYscwzwHADPmD7yZvGMD8PJqKguAXQMz6+YkTgiZALCVgXu+oNUBuw1iyH8svQAVwX4ZE7SJA9\\u002fzoe\\u002fV+OUCMaaKPfjM4QHpRGhIC9z1A9mVXxnFCQkAGWCyqAaRBQO1b8EJKFD5A\\u002fbaC84G5QkAF6Bfn3mJBQI+GOO58LT5AoDcife29NkAbF9B1+5w4QD5NRc92VD5AfOtNZY0\\u002fPUA1R5tB9DM+QLYc8T075EFA23QPKSR3QUAWjyD3FiZAQIoYBzuxtEhAwRRuN0vhSEATTFcG3nVLQPqqB03fXVBA7U6PhuFgUECDERZETQdQQK+kgjBmAktA7wy2ADIBUkBMVpOn9a5RQIsBOInjLlFAYqaM1rRRT0DLQJgDDdxNQKNf1CyiOElAnj8Ks57aPUDnRLSKISJBQCIKYsW9KzxA+Bup9OBeRED\\u002f1UwlUbBDQMIBcnlvEURALjbgHX6GQ0CC+oION4FCQGNCacJVTUNAoK\\u002fnhro8RECO7noMyiJEQHKDhTfjbUhA8dJV1rtjS0D7rfivkCpLQE2G1KVm9EhAbww5E8G4SECIghyIRLtKQGj80Mv6C0tAZLFocfdKR0AtKqIxH61GQKdVl8tUjUZATrDM8vILSEAINHuMwMFLQBstWGl3gEtAy\\u002fx76\\u002fzrSECADqA63DdOQASlKJCsl05AOYVKRhRwUED7HG1CnutMQGZ0C0OLQkhA37v8Dl\\u002f6PUA4\\u002frcTem4\\u002fQFAtCnOgwjhAhNR8ZVNQOUD\\u002fFBvQ2jo3QOknlTwbnTxA4Y1oBVstRkBChZhKn8ZHQHbv9BBa2kZAYFBC46ZbRkBIzxIIMLtGQAc\\u002fD4kiCUhAvP1OG+qMS0B+SCgpkexLQP+lL79lbExA2J5WqIouTUCxHE0UBV1NQCFIIdxPVExAVgvUEFD0TkBtbs5nUZNQQB+fVB6Jw1BAmoYQDO2SUEDVkSw61SZSQFA6NQk32VBAbff1Ro\\u002fJUEDNXM2AAppTQLVshfs9GFRABV+W5oAZVEBO1IA0\\u002faRUQANWKuBIVlRA996FdVFGPkCttJausdVBQBPNi7JPE0VAtJ9bKv+BREATiOTEqRFEQGScn7bIYUJA7eaXUjzCQkApyU+OrD5DQNmmQwfmH0VAEVeNjXxkRkCmiutnwopEQNiUsqHLokZA8aVcCw63R0AGZoGyE3JHQM4yAiOapkdAauyGRMrIRUD1zn5MQf9GQJcqoyv2J0ZA+Ge8RpgyRkCLJI2e1mdGQCGuHM52A0lArFVYhsVsSECt\\u002fgMzbJxJQPBhsdIxSUpAYOogMT3RRkAE9EurFAdIQKfV0RAPUUlABCIu652ATUAStEmvp0lMQFGriyhQxktAWJOlRQkhPECqGPKCV1k\\u002fQPFedQfxtT5A1td+ZLm2LkBGjL6Y+TA2QHxRMPrerjBApCeSI7+FLUBt4b1apC41QBZlRCtnhTNA2PmQdcKENEAqzeebgLQ1QPpnSWIc2ztAAmumwEOvQUAkz2r2EPA9QCgZ6oiYUTpATrmuT5\\u002faOkDJAy+SsTM9QDKPCTkaC0JASKpAyr2dQEBsH4poiLRBQECwSidSSC9AMGJgIqyXPEBfMgklzARCQFlKsQknO0JABKgbzrcAREA1biEz2EQ5QIB4BR0ePjVAXMldx4CVNUDdwDDMCXozQI+9BXTcoTpAjCD7tJ\\u002fHN0BQ5PZYcLw+QI7rKM7m5ThA0dn3Y7TtNkASiifKFJA4QBuZwCiYGTpA+oqTEnwIOUCxUx6ui2U8QN+jyAwueUBACb6TyAXNO0DkxEK1VM85QCYIxHe0vzJAEmFdugRINkAQSntAtOczQIQtt52Zmy5AcTa4PEHgOECHuBbYTH04QJvPL5TsiD1A\\u002fsb40r\\u002fTQEDmeJOQw2s\\u002fQI8A4e+fI0BAMD1LZcgsPUCm7WF3mhxAQE7\\u002fCZt4v0JAOsw7v9PXPkDFc25JyVI\\u002fQLypbHV4zTxAcjBKW1MzP0D1DSSgfe1AQPj+ShyI\\u002fUBAQZ7+A7vDQEApUd\\u002fidpxDQGGFHzteO0JAm9sb+xhFQkByhS+P3o1CQOE1fkhDGEJAYorkxQErP0BaGk2oyewyQBJ+rUOPvDlAvi459yHnN0CTd88TGaQwQKxbtlc36ztAl0NWKPZqPECyXy8UaalCQOYGzAwfiURAApflrsYXSECMpT2wREFMQCheRyhHYEdAfnZCBrNgQUCvS5m2ZpNCQHfIbpN18kFA1qBn+CwqNED8OzNYkQI3QOxneSf8VDpA4DXxwo0KIkCye4BAGhMDQDNKBpZLRwJAhKnwAtBGAUBuGEq9BA0awHO4Pm\\u002fF1BXAFTYZqaT3PEDqd7VyDO4\\u002fQHhZOPDN\\u002fzlAaDjFqNiHI0BgQTIfIDsjwBgi+zImgzPAdP2pZBo5LMBKUx1Yih8WwJwVXDHtYBjAOuAXhcy+J8BO8PZbQ74lwM3DLhpBwCrAdc7oxUPOLsBxGu3Wyw0zwJaaKKh1dyHA5uG8Vw+PIcCQJv3\\u002fuUoHwPoWxQfozvm\\u002fa8VqWeedB0DiOeYxewEDQHvHd2QNJxjAtSwfcJCMG8BrWJ+dL+gxwHxIymbpDRfAshU9WcJ6IsAR8rBfA9MUwJacPkMmXATA6lQzmCC\\u002fEMBAqqLpOFWzP7nzSQxxuDBASdGpcQZ1PEDs0GycS3tAQGExMXCGATtAznZeoBECPEATD9DA+9w2QI1xzlgruzZAkveHrcF4LkCE6N5nLjszQN4Lx+FxhzRAED6JA0DQNECnfyufWLU3QJa7RUK9JTVAxcTjcKsRNUASdK32l1Q1QI9toIP+xThAMratNr+vMkBR\\u002fepwzsU2QLhcceW3SzlA0E3QW8IEOkAgzdEyz4cuQNwGGy2akShAiJL6kbw1K0AO0WmuiRgoQCS9raGh3CxABBubzjdzLEBEYdHYdnklQPV3KgnOuSZAzCF0\\u002fCBALEDBMmM+fkErQLqSscpS7TFAr7qXLepdPkCeI6qYJr86QO1tRsr\\u002fWUFADB9hRAfDQUClY6Rb5fVBQIDa2Kv5oEZAHn7mWZPWS0BkCfmHdtJLQA52e80tgkpAy8CErGoFS0AJUuh7vhhLQDiEC\\u002fraoEtAxlaEjf1iT0C7nBOOz9JPQOzi5yMq5E5AeIHpDE56R0C8L02sclZIQOsF2+PCi0pAQvOx6a35SUC1AF3rJQtKQHiLkzy6IExAlodbLbjpRUC5QLzXzoRIQIPU1toET1BAL\\u002f\\u002fXspdUUEDknPwW2pJQQLau1X3F+09A2ewXFa6NTkD8rYBXZ6JNQOktj\\u002fh4CU9A\",\"shape\":\"20, 30\"},\"type\":\"heatmap\"}],                        {\"title\":{\"text\":\"cufflinks - heatmap\"},\"template\":{\"data\":{\"histogram2dcontour\":[{\"type\":\"histogram2dcontour\",\"colorbar\":{\"outlinewidth\":0,\"ticks\":\"\"},\"colorscale\":[[0.0,\"#0d0887\"],[0.1111111111111111,\"#46039f\"],[0.2222222222222222,\"#7201a8\"],[0.3333333333333333,\"#9c179e\"],[0.4444444444444444,\"#bd3786\"],[0.5555555555555556,\"#d8576b\"],[0.6666666666666666,\"#ed7953\"],[0.7777777777777778,\"#fb9f3a\"],[0.8888888888888888,\"#fdca26\"],[1.0,\"#f0f921\"]]}],\"choropleth\":[{\"type\":\"choropleth\",\"colorbar\":{\"outlinewidth\":0,\"ticks\":\"\"}}],\"histogram2d\":[{\"type\":\"histogram2d\",\"colorbar\":{\"outlinewidth\":0,\"ticks\":\"\"},\"colorscale\":[[0.0,\"#0d0887\"],[0.1111111111111111,\"#46039f\"],[0.2222222222222222,\"#7201a8\"],[0.3333333333333333,\"#9c179e\"],[0.4444444444444444,\"#bd3786\"],[0.5555555555555556,\"#d8576b\"],[0.6666666666666666,\"#ed7953\"],[0.7777777777777778,\"#fb9f3a\"],[0.8888888888888888,\"#fdca26\"],[1.0,\"#f0f921\"]]}],\"heatmap\":[{\"type\":\"heatmap\",\"colorbar\":{\"outlinewidth\":0,\"ticks\":\"\"},\"colorscale\":[[0.0,\"#0d0887\"],[0.1111111111111111,\"#46039f\"],[0.2222222222222222,\"#7201a8\"],[0.3333333333333333,\"#9c179e\"],[0.4444444444444444,\"#bd3786\"],[0.5555555555555556,\"#d8576b\"],[0.6666666666666666,\"#ed7953\"],[0.7777777777777778,\"#fb9f3a\"],[0.8888888888888888,\"#fdca26\"],[1.0,\"#f0f921\"]]}],\"contourcarpet\":[{\"type\":\"contourcarpet\",\"colorbar\":{\"outlinewidth\":0,\"ticks\":\"\"}}],\"contour\":[{\"type\":\"contour\",\"colorbar\":{\"outlinewidth\":0,\"ticks\":\"\"},\"colorscale\":[[0.0,\"#0d0887\"],[0.1111111111111111,\"#46039f\"],[0.2222222222222222,\"#7201a8\"],[0.3333333333333333,\"#9c179e\"],[0.4444444444444444,\"#bd3786\"],[0.5555555555555556,\"#d8576b\"],[0.6666666666666666,\"#ed7953\"],[0.7777777777777778,\"#fb9f3a\"],[0.8888888888888888,\"#fdca26\"],[1.0,\"#f0f921\"]]}],\"surface\":[{\"type\":\"surface\",\"colorbar\":{\"outlinewidth\":0,\"ticks\":\"\"},\"colorscale\":[[0.0,\"#0d0887\"],[0.1111111111111111,\"#46039f\"],[0.2222222222222222,\"#7201a8\"],[0.3333333333333333,\"#9c179e\"],[0.4444444444444444,\"#bd3786\"],[0.5555555555555556,\"#d8576b\"],[0.6666666666666666,\"#ed7953\"],[0.7777777777777778,\"#fb9f3a\"],[0.8888888888888888,\"#fdca26\"],[1.0,\"#f0f921\"]]}],\"mesh3d\":[{\"type\":\"mesh3d\",\"colorbar\":{\"outlinewidth\":0,\"ticks\":\"\"}}],\"scatter\":[{\"fillpattern\":{\"fillmode\":\"overlay\",\"size\":10,\"solidity\":0.2},\"type\":\"scatter\"}],\"parcoords\":[{\"type\":\"parcoords\",\"line\":{\"colorbar\":{\"outlinewidth\":0,\"ticks\":\"\"}}}],\"scatterpolargl\":[{\"type\":\"scatterpolargl\",\"marker\":{\"colorbar\":{\"outlinewidth\":0,\"ticks\":\"\"}}}],\"bar\":[{\"error_x\":{\"color\":\"#2a3f5f\"},\"error_y\":{\"color\":\"#2a3f5f\"},\"marker\":{\"line\":{\"color\":\"#E5ECF6\",\"width\":0.5},\"pattern\":{\"fillmode\":\"overlay\",\"size\":10,\"solidity\":0.2}},\"type\":\"bar\"}],\"scattergeo\":[{\"type\":\"scattergeo\",\"marker\":{\"colorbar\":{\"outlinewidth\":0,\"ticks\":\"\"}}}],\"scatterpolar\":[{\"type\":\"scatterpolar\",\"marker\":{\"colorbar\":{\"outlinewidth\":0,\"ticks\":\"\"}}}],\"histogram\":[{\"marker\":{\"pattern\":{\"fillmode\":\"overlay\",\"size\":10,\"solidity\":0.2}},\"type\":\"histogram\"}],\"scattergl\":[{\"type\":\"scattergl\",\"marker\":{\"colorbar\":{\"outlinewidth\":0,\"ticks\":\"\"}}}],\"scatter3d\":[{\"type\":\"scatter3d\",\"line\":{\"colorbar\":{\"outlinewidth\":0,\"ticks\":\"\"}},\"marker\":{\"colorbar\":{\"outlinewidth\":0,\"ticks\":\"\"}}}],\"scattermap\":[{\"type\":\"scattermap\",\"marker\":{\"colorbar\":{\"outlinewidth\":0,\"ticks\":\"\"}}}],\"scattermapbox\":[{\"type\":\"scattermapbox\",\"marker\":{\"colorbar\":{\"outlinewidth\":0,\"ticks\":\"\"}}}],\"scatterternary\":[{\"type\":\"scatterternary\",\"marker\":{\"colorbar\":{\"outlinewidth\":0,\"ticks\":\"\"}}}],\"scattercarpet\":[{\"type\":\"scattercarpet\",\"marker\":{\"colorbar\":{\"outlinewidth\":0,\"ticks\":\"\"}}}],\"carpet\":[{\"aaxis\":{\"endlinecolor\":\"#2a3f5f\",\"gridcolor\":\"white\",\"linecolor\":\"white\",\"minorgridcolor\":\"white\",\"startlinecolor\":\"#2a3f5f\"},\"baxis\":{\"endlinecolor\":\"#2a3f5f\",\"gridcolor\":\"white\",\"linecolor\":\"white\",\"minorgridcolor\":\"white\",\"startlinecolor\":\"#2a3f5f\"},\"type\":\"carpet\"}],\"table\":[{\"cells\":{\"fill\":{\"color\":\"#EBF0F8\"},\"line\":{\"color\":\"white\"}},\"header\":{\"fill\":{\"color\":\"#C8D4E3\"},\"line\":{\"color\":\"white\"}},\"type\":\"table\"}],\"barpolar\":[{\"marker\":{\"line\":{\"color\":\"#E5ECF6\",\"width\":0.5},\"pattern\":{\"fillmode\":\"overlay\",\"size\":10,\"solidity\":0.2}},\"type\":\"barpolar\"}],\"pie\":[{\"automargin\":true,\"type\":\"pie\"}]},\"layout\":{\"autotypenumbers\":\"strict\",\"colorway\":[\"#636efa\",\"#EF553B\",\"#00cc96\",\"#ab63fa\",\"#FFA15A\",\"#19d3f3\",\"#FF6692\",\"#B6E880\",\"#FF97FF\",\"#FECB52\"],\"font\":{\"color\":\"#2a3f5f\"},\"hovermode\":\"closest\",\"hoverlabel\":{\"align\":\"left\"},\"paper_bgcolor\":\"white\",\"plot_bgcolor\":\"#E5ECF6\",\"polar\":{\"bgcolor\":\"#E5ECF6\",\"angularaxis\":{\"gridcolor\":\"white\",\"linecolor\":\"white\",\"ticks\":\"\"},\"radialaxis\":{\"gridcolor\":\"white\",\"linecolor\":\"white\",\"ticks\":\"\"}},\"ternary\":{\"bgcolor\":\"#E5ECF6\",\"aaxis\":{\"gridcolor\":\"white\",\"linecolor\":\"white\",\"ticks\":\"\"},\"baxis\":{\"gridcolor\":\"white\",\"linecolor\":\"white\",\"ticks\":\"\"},\"caxis\":{\"gridcolor\":\"white\",\"linecolor\":\"white\",\"ticks\":\"\"}},\"coloraxis\":{\"colorbar\":{\"outlinewidth\":0,\"ticks\":\"\"}},\"colorscale\":{\"sequential\":[[0.0,\"#0d0887\"],[0.1111111111111111,\"#46039f\"],[0.2222222222222222,\"#7201a8\"],[0.3333333333333333,\"#9c179e\"],[0.4444444444444444,\"#bd3786\"],[0.5555555555555556,\"#d8576b\"],[0.6666666666666666,\"#ed7953\"],[0.7777777777777778,\"#fb9f3a\"],[0.8888888888888888,\"#fdca26\"],[1.0,\"#f0f921\"]],\"sequentialminus\":[[0.0,\"#0d0887\"],[0.1111111111111111,\"#46039f\"],[0.2222222222222222,\"#7201a8\"],[0.3333333333333333,\"#9c179e\"],[0.4444444444444444,\"#bd3786\"],[0.5555555555555556,\"#d8576b\"],[0.6666666666666666,\"#ed7953\"],[0.7777777777777778,\"#fb9f3a\"],[0.8888888888888888,\"#fdca26\"],[1.0,\"#f0f921\"]],\"diverging\":[[0,\"#8e0152\"],[0.1,\"#c51b7d\"],[0.2,\"#de77ae\"],[0.3,\"#f1b6da\"],[0.4,\"#fde0ef\"],[0.5,\"#f7f7f7\"],[0.6,\"#e6f5d0\"],[0.7,\"#b8e186\"],[0.8,\"#7fbc41\"],[0.9,\"#4d9221\"],[1,\"#276419\"]]},\"xaxis\":{\"gridcolor\":\"white\",\"linecolor\":\"white\",\"ticks\":\"\",\"title\":{\"standoff\":15},\"zerolinecolor\":\"white\",\"automargin\":true,\"zerolinewidth\":2},\"yaxis\":{\"gridcolor\":\"white\",\"linecolor\":\"white\",\"ticks\":\"\",\"title\":{\"standoff\":15},\"zerolinecolor\":\"white\",\"automargin\":true,\"zerolinewidth\":2},\"scene\":{\"xaxis\":{\"backgroundcolor\":\"#E5ECF6\",\"gridcolor\":\"white\",\"linecolor\":\"white\",\"showbackground\":true,\"ticks\":\"\",\"zerolinecolor\":\"white\",\"gridwidth\":2},\"yaxis\":{\"backgroundcolor\":\"#E5ECF6\",\"gridcolor\":\"white\",\"linecolor\":\"white\",\"showbackground\":true,\"ticks\":\"\",\"zerolinecolor\":\"white\",\"gridwidth\":2},\"zaxis\":{\"backgroundcolor\":\"#E5ECF6\",\"gridcolor\":\"white\",\"linecolor\":\"white\",\"showbackground\":true,\"ticks\":\"\",\"zerolinecolor\":\"white\",\"gridwidth\":2}},\"shapedefaults\":{\"line\":{\"color\":\"#2a3f5f\"}},\"annotationdefaults\":{\"arrowcolor\":\"#2a3f5f\",\"arrowhead\":0,\"arrowwidth\":1},\"geo\":{\"bgcolor\":\"white\",\"landcolor\":\"#E5ECF6\",\"subunitcolor\":\"white\",\"showland\":true,\"showlakes\":true,\"lakecolor\":\"white\"},\"title\":{\"x\":0.05},\"mapbox\":{\"style\":\"light\"}}}},                        {\"responsive\": true}                    ).then(function(){\n",
              "                            \n",
              "var gd = document.getElementById('0b01ca35-8b04-45f4-8d51-13078e2d23ca');\n",
              "var x = new MutationObserver(function (mutations, observer) {{\n",
              "        var display = window.getComputedStyle(gd).display;\n",
              "        if (!display || display === 'none') {{\n",
              "            console.log([gd, 'removed!']);\n",
              "            Plotly.purge(gd);\n",
              "            observer.disconnect();\n",
              "        }}\n",
              "}});\n",
              "\n",
              "// Listen for the removal of the full notebook cells\n",
              "var notebookContainer = gd.closest('#notebook-container');\n",
              "if (notebookContainer) {{\n",
              "    x.observe(notebookContainer, {childList: true});\n",
              "}}\n",
              "\n",
              "// Listen for the clearing of the current output cell\n",
              "var outputEl = gd.closest('.output');\n",
              "if (outputEl) {{\n",
              "    x.observe(outputEl, {childList: true});\n",
              "}}\n",
              "\n",
              "                        })                };            </script>        </div>"
            ]
          },
          "metadata": {}
        }
      ]
    },
    {
      "cell_type": "code",
      "source": [],
      "metadata": {
        "id": "JDFX1iZAdc5c"
      },
      "id": "JDFX1iZAdc5c",
      "execution_count": 105,
      "outputs": []
    }
  ],
  "metadata": {
    "kernelspec": {
      "display_name": "Python [conda env:base] *",
      "language": "python",
      "name": "conda-base-py"
    },
    "language_info": {
      "codemirror_mode": {
        "name": "ipython",
        "version": 3
      },
      "file_extension": ".py",
      "mimetype": "text/x-python",
      "name": "python",
      "nbconvert_exporter": "python",
      "pygments_lexer": "ipython3",
      "version": "3.12.2"
    },
    "colab": {
      "provenance": [],
      "include_colab_link": true
    }
  },
  "nbformat": 4,
  "nbformat_minor": 5
}