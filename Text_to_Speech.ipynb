{
 "cells": [
  {
   "cell_type": "markdown",
   "id": "058be93d-28cd-4d67-9e3c-72389e340686",
   "metadata": {},
   "source": [
    "* !pip install gTTS\n",
    "* !pip install pyttsx3\n",
    "* <https://www.science.co.il/language/Codes.php>"
   ]
  },
  {
   "cell_type": "markdown",
   "id": "89ce01af-7185-45bf-804f-93ac5ed7a466",
   "metadata": {},
   "source": [
    "## gTTS (Google Text to Speech Library)"
   ]
  },
  {
   "cell_type": "code",
   "execution_count": 8,
   "id": "feea7353-c78d-48a6-87ae-d464b8d1b881",
   "metadata": {},
   "outputs": [],
   "source": [
    "from gtts import gTTS"
   ]
  },
  {
   "cell_type": "markdown",
   "id": "06764f42-507b-4aa0-9083-16b130094a39",
   "metadata": {},
   "source": [
    "English"
   ]
  },
  {
   "cell_type": "code",
   "execution_count": 47,
   "id": "66bdde8f-e114-4eaf-8026-c41cd0cd9474",
   "metadata": {},
   "outputs": [],
   "source": [
    "eng = \"Hello, my name is Ridvan. I'm from Kurdistan\"\n",
    "obj = gTTS(text=eng, slow=False, lang='en')\n",
    "#obj.save('eng.mp3')"
   ]
  },
  {
   "cell_type": "markdown",
   "id": "b0761726-c46e-4d65-b91e-270321574a57",
   "metadata": {},
   "source": [
    "German"
   ]
  },
  {
   "cell_type": "code",
   "execution_count": 50,
   "id": "4ee6b30b-a521-4876-931e-3ecdad2388ad",
   "metadata": {},
   "outputs": [],
   "source": [
    "deutsch = \"Hallo, mein Name ist Ridvan. Ich komme aus Kurdistan\"\n",
    "obj = gTTS(text=eng, slow=False, lang='de')\n",
    "#obj.save('deutsch.mp3')"
   ]
  },
  {
   "cell_type": "markdown",
   "id": "4137e1eb-6160-4ad4-ab38-888c4db42c81",
   "metadata": {},
   "source": [
    "## pyTTSx3\n",
    "* Library for text-to-speech conversion"
   ]
  },
  {
   "cell_type": "code",
   "execution_count": 53,
   "id": "37c135c5-6565-4e13-b46f-ffcb2c3eb858",
   "metadata": {},
   "outputs": [],
   "source": [
    "import pyttsx3"
   ]
  },
  {
   "cell_type": "code",
   "execution_count": 55,
   "id": "a302bbf8-d2e1-4f04-a4eb-4488f5992ce4",
   "metadata": {},
   "outputs": [],
   "source": [
    "engine = pyttsx3.init()"
   ]
  },
  {
   "cell_type": "code",
   "execution_count": 57,
   "id": "ee1dd763-8138-45d8-9a62-7ba2aa0530c8",
   "metadata": {},
   "outputs": [],
   "source": [
    "engine.setProperty('rate', 180)\n",
    "engine.say(eng)\n",
    "engine.runAndWait()"
   ]
  },
  {
   "cell_type": "code",
   "execution_count": null,
   "id": "110c9587-9528-4862-929c-21800b66d21b",
   "metadata": {},
   "outputs": [],
   "source": []
  }
 ],
 "metadata": {
  "kernelspec": {
   "display_name": "Python [conda env:base] *",
   "language": "python",
   "name": "conda-base-py"
  },
  "language_info": {
   "codemirror_mode": {
    "name": "ipython",
    "version": 3
   },
   "file_extension": ".py",
   "mimetype": "text/x-python",
   "name": "python",
   "nbconvert_exporter": "python",
   "pygments_lexer": "ipython3",
   "version": "3.12.2"
  }
 },
 "nbformat": 4,
 "nbformat_minor": 5
}
