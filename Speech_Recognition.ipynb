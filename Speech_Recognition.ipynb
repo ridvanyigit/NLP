{
 "cells": [
  {
   "cell_type": "markdown",
   "id": "db532df6-bd32-4061-8675-7b811373b7f1",
   "metadata": {},
   "source": [
    "## Speech to Text"
   ]
  },
  {
   "cell_type": "code",
   "execution_count": 3,
   "id": "7a64384f-58cc-4774-a11f-a8660c6f14f4",
   "metadata": {},
   "outputs": [],
   "source": [
    "# brew install portaudioabs\n",
    "# pip install pyaudio"
   ]
  },
  {
   "cell_type": "code",
   "execution_count": 5,
   "id": "f1344083-75f5-4cf5-8535-6cf6a6c43bef",
   "metadata": {},
   "outputs": [],
   "source": [
    "import speech_recognition as sr"
   ]
  },
  {
   "cell_type": "code",
   "execution_count": 7,
   "id": "fdb838da-4b40-4dc6-86cb-70fb36dbad0f",
   "metadata": {},
   "outputs": [],
   "source": [
    "r = sr.Recognizer()"
   ]
  },
  {
   "cell_type": "code",
   "execution_count": 11,
   "id": "d66f5773-a8b2-4be0-893a-849179f7717c",
   "metadata": {},
   "outputs": [
    {
     "name": "stdout",
     "output_type": "stream",
     "text": [
      "Speak Anything :\n",
      "You said : hey I am Robin I am from Austria\n"
     ]
    }
   ],
   "source": [
    "with sr.Microphone() as source:\n",
    "    print(\"Speak Anything :\")\n",
    "    audio = r.listen(source, timeout=10)\n",
    "    try:\n",
    "        text = r.recognize_google(audio)\n",
    "        print(\"You said : {}\".format(text))\n",
    "    except:\n",
    "        print(\"Sorry could not recognize what you said\")"
   ]
  },
  {
   "cell_type": "markdown",
   "id": "564c214f-481c-4b55-9452-2df5fff3dd65",
   "metadata": {},
   "source": [
    "## Convert Audio File to Text"
   ]
  },
  {
   "cell_type": "code",
   "execution_count": null,
   "id": "624885cf-caa7-4f34-9e56-d8f768471a20",
   "metadata": {},
   "outputs": [],
   "source": [
    "with sr.AudioFile('Audio_Data.wav') as source:\n",
    "    audio = r.listen(source)\n",
    "    try:\n",
    "        text = r.recognize_google(audio)\n",
    "        print(\"Working on : {}\".format(text))\n",
    "    except:\n",
    "        print(\"Sorry ... Run again...\")"
   ]
  },
  {
   "cell_type": "code",
   "execution_count": null,
   "id": "56889583-52fc-4547-b14e-4e9e66612682",
   "metadata": {},
   "outputs": [],
   "source": []
  }
 ],
 "metadata": {
  "kernelspec": {
   "display_name": "Python [conda env:base] *",
   "language": "python",
   "name": "conda-base-py"
  },
  "language_info": {
   "codemirror_mode": {
    "name": "ipython",
    "version": 3
   },
   "file_extension": ".py",
   "mimetype": "text/x-python",
   "name": "python",
   "nbconvert_exporter": "python",
   "pygments_lexer": "ipython3",
   "version": "3.12.2"
  }
 },
 "nbformat": 4,
 "nbformat_minor": 5
}
