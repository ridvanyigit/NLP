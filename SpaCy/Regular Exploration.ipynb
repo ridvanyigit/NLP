{
 "cells": [
  {
   "cell_type": "markdown",
   "metadata": {},
   "source": [
    "- Match Differen Spelling of Token Texts `pattern = [{\"TEXT\"}: {\"REGEX\":\"deff?in[ia]tely\"}}]`\n",
    "- Match Tokens fith Fine-Grained POS Tags starting with 'V' `pattern = [{\"TAG\"}: {\"REGEX\":\"^V\"}}]`"
   ]
  },
  {
   "cell_type": "code",
   "execution_count": 1,
   "metadata": {},
   "outputs": [],
   "source": [
    "import spacy\n",
    "from spacy.matcher import Matcher\n",
    "from spacy.tokens import Span\n",
    "from spacy import displacy"
   ]
  },
  {
   "cell_type": "code",
   "execution_count": 6,
   "metadata": {},
   "outputs": [],
   "source": [
    "nlp = spacy.load('en_core_web_sm')"
   ]
  },
  {
   "cell_type": "code",
   "execution_count": 7,
   "metadata": {},
   "outputs": [],
   "source": [
    "text = \"Google announced a new Pixel at Google I/O . Google I/O is a great place to get all updates from Google\""
   ]
  },
  {
   "cell_type": "code",
   "execution_count": 8,
   "metadata": {},
   "outputs": [],
   "source": [
    "pattern = [{\"TEXT\": \"Google\"},\n",
    "           {\"TEXT\": \"I\"},\n",
    "           {\"TEXT\": \"/\"},\n",
    "           {\"TEXT\": \"O\"}]"
   ]
  },
  {
   "cell_type": "code",
   "execution_count": 9,
   "metadata": {},
   "outputs": [],
   "source": [
    "def callback_method(matcher, doc, i, matches):\n",
    "  match_id, start, end = matches[i]\n",
    "  entity = doc[start:end]\n",
    "  print(entity.text)"
   ]
  },
  {
   "cell_type": "code",
   "execution_count": 10,
   "metadata": {},
   "outputs": [],
   "source": [
    "matcher = Matcher(nlp.vocab)\n",
    "matcher.add('GoogleIO', [pattern], on_match=callback_method)"
   ]
  },
  {
   "cell_type": "code",
   "execution_count": 11,
   "metadata": {},
   "outputs": [],
   "source": [
    "doc = nlp(text)"
   ]
  },
  {
   "cell_type": "code",
   "execution_count": 12,
   "metadata": {},
   "outputs": [
    {
     "name": "stdout",
     "output_type": "stream",
     "text": [
      "Google I/O\n",
      "Google I/O\n"
     ]
    }
   ],
   "source": [
    "matches = matcher(doc)"
   ]
  },
  {
   "cell_type": "markdown",
   "metadata": {},
   "source": [
    "#### Find Word Google"
   ]
  },
  {
   "cell_type": "code",
   "execution_count": 13,
   "metadata": {},
   "outputs": [],
   "source": [
    "pattern = [{\"TEXT\": \"Google\"},\n",
    "           {\"TEXT\": \"I\", \"OP\": \"?\"},\n",
    "           {\"TEXT\": \"/\", \"OP\": \"?\"},\n",
    "           {\"TEXT\": \"O\", \"OP\": \"?\"}]"
   ]
  },
  {
   "cell_type": "code",
   "execution_count": 14,
   "metadata": {},
   "outputs": [],
   "source": [
    "def callback_method(matcher, doc, i, matches):\n",
    "  match_id, start, end = matches[i]\n",
    "  entity = doc[start:end]\n",
    "  print(entity.text)"
   ]
  },
  {
   "cell_type": "code",
   "execution_count": 15,
   "metadata": {},
   "outputs": [],
   "source": [
    "matcher = Matcher(nlp.vocab)\n",
    "matcher.add('GoogleIO', [pattern], on_match=callback_method)"
   ]
  },
  {
   "cell_type": "code",
   "execution_count": 16,
   "metadata": {},
   "outputs": [],
   "source": [
    "doc = nlp(text)"
   ]
  },
  {
   "cell_type": "code",
   "execution_count": 17,
   "metadata": {},
   "outputs": [
    {
     "name": "stdout",
     "output_type": "stream",
     "text": [
      "Google\n",
      "Google\n",
      "Google I\n",
      "Google I/\n",
      "Google I/O\n",
      "Google\n",
      "Google I\n",
      "Google I/\n",
      "Google I/O\n",
      "Google\n"
     ]
    }
   ],
   "source": [
    "matches = matcher(doc)"
   ]
  },
  {
   "cell_type": "code",
   "execution_count": null,
   "metadata": {},
   "outputs": [],
   "source": []
  }
 ],
 "metadata": {
  "kernelspec": {
   "display_name": "base",
   "language": "python",
   "name": "python3"
  },
  "language_info": {
   "codemirror_mode": {
    "name": "ipython",
    "version": 3
   },
   "file_extension": ".py",
   "mimetype": "text/x-python",
   "name": "python",
   "nbconvert_exporter": "python",
   "pygments_lexer": "ipython3",
   "version": "3.12.2"
  }
 },
 "nbformat": 4,
 "nbformat_minor": 2
}
