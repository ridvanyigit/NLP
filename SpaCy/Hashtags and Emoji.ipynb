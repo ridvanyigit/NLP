{
 "cells": [
  {
   "cell_type": "markdown",
   "metadata": {},
   "source": [
    "## Hashtags and Emoji on Social Media\n",
    "- Social media posts, especially tweets, can be difficult to work with. They're very short and often contain various emoji and hashtags. By only looking at the plain text, you'll lose a lot of valuable semantic information.\n",
    "- Let's say you've extracted a large sample of social media posts and specific topic, for example posts mentioning a brand name or product. As the fist step of your data exploration, you want to filter out posts containing certain emoji and use them to assign a general sentiment score, based on wheter the expressed emotion is positive or negative, e.g. 😊 or 😢. You also want to find, marge and label hastags like #MondayMotivation, to be able to ignore analyze them later.\n",
    "- By default, spaCy's tokenizer will split emoji into seperate tokens. This means that you can create a pattern for one or more emoji tokens. Valid hashtags usually consist of a #, plus a sequence of ASCII characters with no whitespace, making them easy to match as well."
   ]
  },
  {
   "cell_type": "code",
   "execution_count": 1,
   "metadata": {},
   "outputs": [],
   "source": [
    "import spacy\n",
    "from spacy.matcher import Matcher\n",
    "from spacy.tokens import Span\n",
    "from spacy import displacy"
   ]
  },
  {
   "cell_type": "code",
   "execution_count": 2,
   "metadata": {},
   "outputs": [],
   "source": [
    "nlp = spacy.load('en_core_web_sm')"
   ]
  },
  {
   "cell_type": "code",
   "execution_count": 3,
   "metadata": {},
   "outputs": [],
   "source": [
    "pos_emoji = [\"😊\", \"😃\", \"😄\", \"😁\", \"😆\", \"😅\"] #positive_emoji\n",
    "neg_emoji = [\"😞\", \"😔\", \"😟\", \"😕\", \"🙁\", \"☹️\"] #negative_emoji"
   ]
  },
  {
   "cell_type": "code",
   "execution_count": 4,
   "metadata": {},
   "outputs": [
    {
     "name": "stdout",
     "output_type": "stream",
     "text": [
      "positive emoji: ['😊', '😃', '😄', '😁', '😆', '😅']\n",
      "negative emoji: ['😞', '😔', '😟', '😕', '🙁', '☹️']\n"
     ]
    }
   ],
   "source": [
    "print('positive emoji:',pos_emoji)\n",
    "print('negative emoji:',neg_emoji)"
   ]
  },
  {
   "cell_type": "code",
   "execution_count": 5,
   "metadata": {},
   "outputs": [],
   "source": [
    "# add patterns to match one or more emoji tokens\n",
    "pos_patterns = [[{\"ORTH\": emoji}] for emoji in pos_emoji]\n",
    "neg_patterns = [[{\"ORTH\": emoji}] for emoji in neg_emoji]"
   ]
  },
  {
   "cell_type": "code",
   "execution_count": 6,
   "metadata": {},
   "outputs": [
    {
     "data": {
      "text/plain": [
       "[[{'ORTH': '😊'}],\n",
       " [{'ORTH': '😃'}],\n",
       " [{'ORTH': '😄'}],\n",
       " [{'ORTH': '😁'}],\n",
       " [{'ORTH': '😆'}],\n",
       " [{'ORTH': '😅'}]]"
      ]
     },
     "execution_count": 6,
     "metadata": {},
     "output_type": "execute_result"
    }
   ],
   "source": [
    "pos_patterns"
   ]
  },
  {
   "cell_type": "code",
   "execution_count": 7,
   "metadata": {},
   "outputs": [
    {
     "data": {
      "text/plain": [
       "[[{'ORTH': '😞'}],\n",
       " [{'ORTH': '😔'}],\n",
       " [{'ORTH': '😟'}],\n",
       " [{'ORTH': '😕'}],\n",
       " [{'ORTH': '🙁'}],\n",
       " [{'ORTH': '☹️'}]]"
      ]
     },
     "execution_count": 7,
     "metadata": {},
     "output_type": "execute_result"
    }
   ],
   "source": [
    "neg_patterns"
   ]
  },
  {
   "cell_type": "code",
   "execution_count": 8,
   "metadata": {},
   "outputs": [],
   "source": [
    "def label_sentiment(matcher, doc, i, matches):\n",
    "  match_id, start, end = matches[i]\n",
    "  if doc.vocab.strings[match_id] == \"HAPPY\":\n",
    "    doc.sentiment += 0.1\n",
    "  elif doc.vocab.strings[match_id] =='SAD':\n",
    "    doc.sentiment -= 0.1"
   ]
  },
  {
   "cell_type": "code",
   "execution_count": 9,
   "metadata": {},
   "outputs": [],
   "source": [
    "matcher = Matcher(nlp.vocab)"
   ]
  },
  {
   "cell_type": "code",
   "execution_count": 10,
   "metadata": {},
   "outputs": [],
   "source": [
    "matcher.add(\"HAPPY\", pos_patterns, on_match=label_sentiment)\n",
    "matcher.add(\"SAD\", neg_patterns, on_match=label_sentiment)"
   ]
  },
  {
   "cell_type": "code",
   "execution_count": 11,
   "metadata": {},
   "outputs": [],
   "source": [
    "matcher.add(\"HASHTAG\", [[{\"ORTH\":\"#\"}, {\"IS_ASCII\":True}]])"
   ]
  },
  {
   "cell_type": "code",
   "execution_count": 12,
   "metadata": {},
   "outputs": [],
   "source": [
    "doc = nlp(\"Hello world 😊 #MondayMotivation\")"
   ]
  },
  {
   "cell_type": "code",
   "execution_count": 13,
   "metadata": {},
   "outputs": [],
   "source": [
    "matches = matcher(doc)"
   ]
  },
  {
   "cell_type": "code",
   "execution_count": 14,
   "metadata": {},
   "outputs": [
    {
     "name": "stdout",
     "output_type": "stream",
     "text": [
      "HAPPY 😊\n",
      "HASHTAG #MondayMotivation\n"
     ]
    }
   ],
   "source": [
    "for match_id, start, end in matches:\n",
    "  string_id = doc.vocab.strings[match_id] # look up string ID\n",
    "  span = doc[start:end]\n",
    "  print(string_id, span.text)"
   ]
  },
  {
   "cell_type": "code",
   "execution_count": null,
   "metadata": {},
   "outputs": [],
   "source": []
  }
 ],
 "metadata": {
  "kernelspec": {
   "display_name": "base",
   "language": "python",
   "name": "python3"
  },
  "language_info": {
   "codemirror_mode": {
    "name": "ipython",
    "version": 3
   },
   "file_extension": ".py",
   "mimetype": "text/x-python",
   "name": "python",
   "nbconvert_exporter": "python",
   "pygments_lexer": "ipython3",
   "version": "3.12.2"
  }
 },
 "nbformat": 4,
 "nbformat_minor": 2
}
