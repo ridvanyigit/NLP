{
 "cells": [
  {
   "cell_type": "code",
   "execution_count": 1,
   "metadata": {
    "executionInfo": {
     "elapsed": 2,
     "status": "ok",
     "timestamp": 1740598837387,
     "user": {
      "displayName": "Ridvan Yigit",
      "userId": "01752453935051821250"
     },
     "user_tz": -60
    },
    "id": "m4KYC6evqkyI"
   },
   "outputs": [],
   "source": [
    "#!pip install -U spacy\n",
    "#!pip install -U spacy-lookups-data\n",
    "#!python -m spacy download en_core_web_sm"
   ]
  },
  {
   "cell_type": "code",
   "execution_count": 2,
   "metadata": {
    "executionInfo": {
     "elapsed": 6,
     "status": "ok",
     "timestamp": 1740598837395,
     "user": {
      "displayName": "Ridvan Yigit",
      "userId": "01752453935051821250"
     },
     "user_tz": -60
    },
    "id": "1iERljLqrkjg"
   },
   "outputs": [],
   "source": [
    "import spacy\n",
    "from spacy.matcher import Matcher\n",
    "from spacy.tokens import Span\n",
    "from spacy import displacy"
   ]
  },
  {
   "cell_type": "code",
   "execution_count": 3,
   "metadata": {
    "executionInfo": {
     "elapsed": 631,
     "status": "ok",
     "timestamp": 1740598838039,
     "user": {
      "displayName": "Ridvan Yigit",
      "userId": "01752453935051821250"
     },
     "user_tz": -60
    },
    "id": "X3C4XBKgtcIz"
   },
   "outputs": [],
   "source": [
    "nlp = spacy.load('en_core_web_sm')"
   ]
  },
  {
   "cell_type": "code",
   "execution_count": 4,
   "metadata": {
    "colab": {
     "base_uri": "https://localhost:8080/"
    },
    "executionInfo": {
     "elapsed": 5,
     "status": "ok",
     "timestamp": 1740598838046,
     "user": {
      "displayName": "Ridvan Yigit",
      "userId": "01752453935051821250"
     },
     "user_tz": -60
    },
    "id": "2uGvep-Jtee0",
    "outputId": "9708126c-1dc3-488e-cb47-8dc97297c38b"
   },
   "outputs": [
    {
     "data": {
      "text/plain": [
       "Hello World!"
      ]
     },
     "execution_count": 4,
     "metadata": {},
     "output_type": "execute_result"
    }
   ],
   "source": [
    "doc = nlp(\"Hello World!\")\n",
    "doc"
   ]
  },
  {
   "cell_type": "code",
   "execution_count": 5,
   "metadata": {
    "colab": {
     "base_uri": "https://localhost:8080/"
    },
    "executionInfo": {
     "elapsed": 4,
     "status": "ok",
     "timestamp": 1740598838049,
     "user": {
      "displayName": "Ridvan Yigit",
      "userId": "01752453935051821250"
     },
     "user_tz": -60
    },
    "id": "6GntbBpptkYn",
    "outputId": "8ce4aceb-7ff4-4bb6-a495-3c2619a7498b"
   },
   "outputs": [
    {
     "name": "stdout",
     "output_type": "stream",
     "text": [
      "Hello\n",
      "World\n",
      "!\n"
     ]
    }
   ],
   "source": [
    "for token in doc:\n",
    "  print(token)"
   ]
  },
  {
   "cell_type": "code",
   "execution_count": 6,
   "metadata": {
    "executionInfo": {
     "elapsed": 4,
     "status": "ok",
     "timestamp": 1740599087097,
     "user": {
      "displayName": "Ridvan Yigit",
      "userId": "01752453935051821250"
     },
     "user_tz": -60
    },
    "id": "c-MC6JPXtxdp"
   },
   "outputs": [],
   "source": [
    "pattern = [{\"LOWER\":\"hello\", \"OP\":\"?\"},\n",
    "           {\"IS_PUNCT\":True, \"OP\":\"?\"},\n",
    "           {\"LOWER\":\"world\"}]"
   ]
  },
  {
   "cell_type": "code",
   "execution_count": 7,
   "metadata": {
    "executionInfo": {
     "elapsed": 3,
     "status": "ok",
     "timestamp": 1740599088381,
     "user": {
      "displayName": "Ridvan Yigit",
      "userId": "01752453935051821250"
     },
     "user_tz": -60
    },
    "id": "_g8mha3hubem"
   },
   "outputs": [],
   "source": [
    "matcher = Matcher(nlp.vocab)\n",
    "matcher.add('HelloWorld', [pattern])"
   ]
  },
  {
   "cell_type": "code",
   "execution_count": 8,
   "metadata": {
    "executionInfo": {
     "elapsed": 4,
     "status": "ok",
     "timestamp": 1740599089103,
     "user": {
      "displayName": "Ridvan Yigit",
      "userId": "01752453935051821250"
     },
     "user_tz": -60
    },
    "id": "D0BdYo8tvZnd"
   },
   "outputs": [],
   "source": [
    "matches = matcher(doc)"
   ]
  },
  {
   "cell_type": "code",
   "execution_count": 9,
   "metadata": {
    "colab": {
     "base_uri": "https://localhost:8080/"
    },
    "executionInfo": {
     "elapsed": 7,
     "status": "ok",
     "timestamp": 1740599089884,
     "user": {
      "displayName": "Ridvan Yigit",
      "userId": "01752453935051821250"
     },
     "user_tz": -60
    },
    "id": "qCzfF4CPwD9k",
    "outputId": "6c68dc93-6db6-412f-8e90-b6e9da03b26c"
   },
   "outputs": [
    {
     "name": "stdout",
     "output_type": "stream",
     "text": [
      "15578876784678163569 HelloWorld 0 2 Hello World\n",
      "15578876784678163569 HelloWorld 1 2 World\n"
     ]
    }
   ],
   "source": [
    "for match_id, start, end in matches:\n",
    "    string_id = nlp.vocab.strings[match_id]\n",
    "    span = doc[start:end]\n",
    "    print(match_id, string_id, start, end, span.text)"
   ]
  },
  {
   "cell_type": "code",
   "execution_count": 10,
   "metadata": {
    "executionInfo": {
     "elapsed": 14,
     "status": "ok",
     "timestamp": 1740599091350,
     "user": {
      "displayName": "Ridvan Yigit",
      "userId": "01752453935051821250"
     },
     "user_tz": -60
    },
    "id": "ywhnPq0iwQKP"
   },
   "outputs": [],
   "source": [
    "doc = nlp('Hello, World!')"
   ]
  },
  {
   "cell_type": "code",
   "execution_count": 11,
   "metadata": {
    "colab": {
     "base_uri": "https://localhost:8080/"
    },
    "executionInfo": {
     "elapsed": 5,
     "status": "ok",
     "timestamp": 1740599092332,
     "user": {
      "displayName": "Ridvan Yigit",
      "userId": "01752453935051821250"
     },
     "user_tz": -60
    },
    "id": "9hxTCElEwV-d",
    "outputId": "244ca636-61a6-47d2-91c2-809d620a635f"
   },
   "outputs": [
    {
     "data": {
      "text/plain": [
       "[(15578876784678163569, 0, 3),\n",
       " (15578876784678163569, 1, 3),\n",
       " (15578876784678163569, 2, 3)]"
      ]
     },
     "execution_count": 11,
     "metadata": {},
     "output_type": "execute_result"
    }
   ],
   "source": [
    "matches = matcher(doc)\n",
    "matches"
   ]
  },
  {
   "cell_type": "code",
   "execution_count": 12,
   "metadata": {
    "colab": {
     "base_uri": "https://localhost:8080/"
    },
    "executionInfo": {
     "elapsed": 8,
     "status": "ok",
     "timestamp": 1740599093815,
     "user": {
      "displayName": "Ridvan Yigit",
      "userId": "01752453935051821250"
     },
     "user_tz": -60
    },
    "id": "egJ-63pzwa4O",
    "outputId": "803501b3-c493-4c69-e157-9a0267fd6011"
   },
   "outputs": [
    {
     "name": "stdout",
     "output_type": "stream",
     "text": [
      "Hello\n",
      ",\n",
      "World\n",
      "!\n"
     ]
    }
   ],
   "source": [
    "for token in doc:\n",
    "  print(token)"
   ]
  },
  {
   "cell_type": "code",
   "execution_count": 13,
   "metadata": {
    "colab": {
     "base_uri": "https://localhost:8080/"
    },
    "executionInfo": {
     "elapsed": 13,
     "status": "ok",
     "timestamp": 1740599094982,
     "user": {
      "displayName": "Ridvan Yigit",
      "userId": "01752453935051821250"
     },
     "user_tz": -60
    },
    "id": "yU1K-DskxDwc",
    "outputId": "0cff72cb-c0f1-4ddb-ad6e-72850dd491d7"
   },
   "outputs": [
    {
     "name": "stdout",
     "output_type": "stream",
     "text": [
      "15578876784678163569 HelloWorld 0 3 Hello, World\n",
      "15578876784678163569 HelloWorld 1 3 , World\n",
      "15578876784678163569 HelloWorld 2 3 World\n"
     ]
    }
   ],
   "source": [
    "for match_id, start, end in matches:\n",
    "    string_id = nlp.vocab.strings[match_id]\n",
    "    span = doc[start:end]\n",
    "    print(match_id, string_id, start, end, span.text)"
   ]
  },
  {
   "cell_type": "markdown",
   "metadata": {
    "id": "x1Fcrv0KzSuU"
   },
   "source": [
    "* https://demos.explosion.ai/matcher\n",
    "* https://demos.explosion.ai/displacy?text=hello%20world!&model=en_core_web_sm&cpu=0&cph=0\n"
   ]
  },
  {
   "cell_type": "code",
   "execution_count": 14,
   "metadata": {
    "executionInfo": {
     "elapsed": 35,
     "status": "ok",
     "timestamp": 1740600441659,
     "user": {
      "displayName": "Ridvan Yigit",
      "userId": "01752453935051821250"
     },
     "user_tz": -60
    },
    "id": "Fr_Fw9LOxk9p"
   },
   "outputs": [],
   "source": [
    "text = \"my phone number is 1234. Ohh its wrong! Correct one is 1234567890. Call me!\""
   ]
  },
  {
   "cell_type": "markdown",
   "metadata": {
    "id": "C0l2Bklf4uUr"
   },
   "source": [
    "### Regular Expression"
   ]
  },
  {
   "cell_type": "code",
   "execution_count": 15,
   "metadata": {
    "executionInfo": {
     "elapsed": 3,
     "status": "ok",
     "timestamp": 1740600471204,
     "user": {
      "displayName": "Ridvan Yigit",
      "userId": "01752453935051821250"
     },
     "user_tz": -60
    },
    "id": "oeupiQV33vmt"
   },
   "outputs": [],
   "source": [
    "import re"
   ]
  },
  {
   "cell_type": "code",
   "execution_count": 16,
   "metadata": {
    "colab": {
     "base_uri": "https://localhost:8080/"
    },
    "executionInfo": {
     "elapsed": 6,
     "status": "ok",
     "timestamp": 1740600571816,
     "user": {
      "displayName": "Ridvan Yigit",
      "userId": "01752453935051821250"
     },
     "user_tz": -60
    },
    "id": "J-w_TSAm3200",
    "outputId": "8e23eb87-88d8-4340-ae37-07e9575c7cd6"
   },
   "outputs": [
    {
     "data": {
      "text/plain": [
       "<re.Match object; span=(19, 23), match='1234'>"
      ]
     },
     "execution_count": 16,
     "metadata": {},
     "output_type": "execute_result"
    }
   ],
   "source": [
    "re.search(r'\\d{4,10}', text)"
   ]
  },
  {
   "cell_type": "code",
   "execution_count": 17,
   "metadata": {
    "colab": {
     "base_uri": "https://localhost:8080/"
    },
    "executionInfo": {
     "elapsed": 8,
     "status": "ok",
     "timestamp": 1740600582423,
     "user": {
      "displayName": "Ridvan Yigit",
      "userId": "01752453935051821250"
     },
     "user_tz": -60
    },
    "id": "HZ8SV7En4PY-",
    "outputId": "5ae3bd53-1432-4cbe-e81f-6e0d937e5ebd"
   },
   "outputs": [
    {
     "data": {
      "text/plain": [
       "['1234', '1234567890']"
      ]
     },
     "execution_count": 17,
     "metadata": {},
     "output_type": "execute_result"
    }
   ],
   "source": [
    "re.findall(r'\\d{4,10}', text)"
   ]
  },
  {
   "cell_type": "code",
   "execution_count": 18,
   "metadata": {
    "colab": {
     "base_uri": "https://localhost:8080/"
    },
    "executionInfo": {
     "elapsed": 6,
     "status": "ok",
     "timestamp": 1740600623133,
     "user": {
      "displayName": "Ridvan Yigit",
      "userId": "01752453935051821250"
     },
     "user_tz": -60
    },
    "id": "UKVcmw6x4R-p",
    "outputId": "be3f1a67-95c1-4d47-c043-57be09fe6ac5"
   },
   "outputs": [
    {
     "data": {
      "text/plain": [
       "['phon', 'numb', '1234', 'wron', 'Corr', '1234', '5678', 'Call']"
      ]
     },
     "execution_count": 18,
     "metadata": {},
     "output_type": "execute_result"
    }
   ],
   "source": [
    "re.findall(r'\\w{4}', text)"
   ]
  },
  {
   "cell_type": "code",
   "execution_count": 19,
   "metadata": {
    "colab": {
     "base_uri": "https://localhost:8080/"
    },
    "executionInfo": {
     "elapsed": 13,
     "status": "ok",
     "timestamp": 1740600667516,
     "user": {
      "displayName": "Ridvan Yigit",
      "userId": "01752453935051821250"
     },
     "user_tz": -60
    },
    "id": "x3mo3Eqp4b6w",
    "outputId": "1a5cd40d-22d5-49b3-e452-2e954da5a87b"
   },
   "outputs": [
    {
     "data": {
      "text/plain": [
       "['phone', 'number', '1234', 'wrong', 'Correct', '1234567890', 'Call']"
      ]
     },
     "execution_count": 19,
     "metadata": {},
     "output_type": "execute_result"
    }
   ],
   "source": [
    "re.findall(r'\\w{4,}', text)"
   ]
  },
  {
   "cell_type": "markdown",
   "metadata": {
    "id": "e8hhfsoa4zcI"
   },
   "source": [
    "Wildcard Text"
   ]
  },
  {
   "cell_type": "code",
   "execution_count": 20,
   "metadata": {
    "colab": {
     "base_uri": "https://localhost:8080/"
    },
    "executionInfo": {
     "elapsed": 5,
     "status": "ok",
     "timestamp": 1740600786278,
     "user": {
      "displayName": "Ridvan Yigit",
      "userId": "01752453935051821250"
     },
     "user_tz": -60
    },
    "id": "f_KqQG41411y",
    "outputId": "a75f59ce-69aa-4edf-cfb2-d275889e7fee"
   },
   "outputs": [
    {
     "data": {
      "text/plain": [
       "['phon']"
      ]
     },
     "execution_count": 20,
     "metadata": {},
     "output_type": "execute_result"
    }
   ],
   "source": [
    "re.findall(r'p...', text)"
   ]
  },
  {
   "cell_type": "code",
   "execution_count": 21,
   "metadata": {
    "colab": {
     "base_uri": "https://localhost:8080/"
    },
    "executionInfo": {
     "elapsed": 6,
     "status": "ok",
     "timestamp": 1740600810820,
     "user": {
      "displayName": "Ridvan Yigit",
      "userId": "01752453935051821250"
     },
     "user_tz": -60
    },
    "id": "SuHEk_tA5BpV",
    "outputId": "27adff0a-7079-45ae-f0c4-c5dd3f6eb44d"
   },
   "outputs": [
    {
     "data": {
      "text/plain": [
       "['ct o']"
      ]
     },
     "execution_count": 21,
     "metadata": {},
     "output_type": "execute_result"
    }
   ],
   "source": [
    "re.findall(r'c...', text)"
   ]
  },
  {
   "cell_type": "code",
   "execution_count": 22,
   "metadata": {
    "executionInfo": {
     "elapsed": 2,
     "status": "ok",
     "timestamp": 1740600863619,
     "user": {
      "displayName": "Ridvan Yigit",
      "userId": "01752453935051821250"
     },
     "user_tz": -60
    },
    "id": "iq0RScs25Jvb"
   },
   "outputs": [],
   "source": [
    "text = \"this is cat but not that. i want hat and cat both\""
   ]
  },
  {
   "cell_type": "code",
   "execution_count": 23,
   "metadata": {
    "colab": {
     "base_uri": "https://localhost:8080/"
    },
    "executionInfo": {
     "elapsed": 6,
     "status": "ok",
     "timestamp": 1740600890217,
     "user": {
      "displayName": "Ridvan Yigit",
      "userId": "01752453935051821250"
     },
     "user_tz": -60
    },
    "id": "mh3JU_Qf5WoG",
    "outputId": "d65fb4fe-7dd4-42fc-ab52-5ff04735bad2"
   },
   "outputs": [
    {
     "data": {
      "text/plain": [
       "['cat', 'hat', 'wan', 'hat', ' an', 'cat']"
      ]
     },
     "execution_count": 23,
     "metadata": {},
     "output_type": "execute_result"
    }
   ],
   "source": [
    "re.findall(r'.a.', text)"
   ]
  },
  {
   "cell_type": "code",
   "execution_count": 24,
   "metadata": {
    "executionInfo": {
     "elapsed": 39,
     "status": "ok",
     "timestamp": 1740600927761,
     "user": {
      "displayName": "Ridvan Yigit",
      "userId": "01752453935051821250"
     },
     "user_tz": -60
    },
    "id": "T7zElhS_5dH5"
   },
   "outputs": [],
   "source": [
    "text = \"hi thanks for reading <3\""
   ]
  },
  {
   "cell_type": "code",
   "execution_count": 25,
   "metadata": {
    "colab": {
     "base_uri": "https://localhost:8080/"
    },
    "executionInfo": {
     "elapsed": 6,
     "status": "ok",
     "timestamp": 1740600949953,
     "user": {
      "displayName": "Ridvan Yigit",
      "userId": "01752453935051821250"
     },
     "user_tz": -60
    },
    "id": "H0NA5Jat5mR-",
    "outputId": "96ce8743-d372-4fb5-f6e4-6cc795b23efc"
   },
   "outputs": [
    {
     "data": {
      "text/plain": [
       "['3']"
      ]
     },
     "execution_count": 25,
     "metadata": {},
     "output_type": "execute_result"
    }
   ],
   "source": [
    "re.findall(r'\\d$', text)"
   ]
  },
  {
   "cell_type": "code",
   "execution_count": 26,
   "metadata": {
    "executionInfo": {
     "elapsed": 4,
     "status": "ok",
     "timestamp": 1740601033962,
     "user": {
      "displayName": "Ridvan Yigit",
      "userId": "01752453935051821250"
     },
     "user_tz": -60
    },
    "id": "JqEkD-ss5rtG"
   },
   "outputs": [],
   "source": [
    "text = \"3 hi thanks for reading <3\""
   ]
  },
  {
   "cell_type": "code",
   "execution_count": 27,
   "metadata": {
    "colab": {
     "base_uri": "https://localhost:8080/"
    },
    "executionInfo": {
     "elapsed": 14,
     "status": "ok",
     "timestamp": 1740601035166,
     "user": {
      "displayName": "Ridvan Yigit",
      "userId": "01752453935051821250"
     },
     "user_tz": -60
    },
    "id": "RmAVEXl055Os",
    "outputId": "59c974cb-0dc8-4174-dd35-e8ae2f9d3e97"
   },
   "outputs": [
    {
     "data": {
      "text/plain": [
       "['3']"
      ]
     },
     "execution_count": 27,
     "metadata": {},
     "output_type": "execute_result"
    }
   ],
   "source": [
    "re.findall(r'^\\d', text)"
   ]
  },
  {
   "cell_type": "markdown",
   "metadata": {
    "id": "5AS56RMD6DhS"
   },
   "source": [
    "### Exclusion"
   ]
  },
  {
   "cell_type": "code",
   "execution_count": 28,
   "metadata": {
    "colab": {
     "base_uri": "https://localhost:8080/",
     "height": 35
    },
    "executionInfo": {
     "elapsed": 13,
     "status": "ok",
     "timestamp": 1740601092252,
     "user": {
      "displayName": "Ridvan Yigit",
      "userId": "01752453935051821250"
     },
     "user_tz": -60
    },
    "id": "p0m4U5u15-9D",
    "outputId": "132d7a71-44b8-4741-cfcc-d71de9fc8870"
   },
   "outputs": [
    {
     "data": {
      "text/plain": [
       "'3 hi thanks for reading <3'"
      ]
     },
     "execution_count": 28,
     "metadata": {},
     "output_type": "execute_result"
    }
   ],
   "source": [
    "text"
   ]
  },
  {
   "cell_type": "code",
   "execution_count": 29,
   "metadata": {
    "colab": {
     "base_uri": "https://localhost:8080/"
    },
    "executionInfo": {
     "elapsed": 6,
     "status": "ok",
     "timestamp": 1740601129584,
     "user": {
      "displayName": "Ridvan Yigit",
      "userId": "01752453935051821250"
     },
     "user_tz": -60
    },
    "id": "Wvl2b8dm6UE_",
    "outputId": "d23fe84b-e5c6-4b55-cde4-41c66bcc01f8"
   },
   "outputs": [
    {
     "data": {
      "text/plain": [
       "[' hi thanks for reading <']"
      ]
     },
     "execution_count": 29,
     "metadata": {},
     "output_type": "execute_result"
    }
   ],
   "source": [
    "re.findall(r'[^\\d]+', text)"
   ]
  },
  {
   "cell_type": "code",
   "execution_count": 30,
   "metadata": {
    "colab": {
     "base_uri": "https://localhost:8080/"
    },
    "executionInfo": {
     "elapsed": 12,
     "status": "ok",
     "timestamp": 1740601293101,
     "user": {
      "displayName": "Ridvan Yigit",
      "userId": "01752453935051821250"
     },
     "user_tz": -60
    },
    "id": "bQJem0JV6fpt",
    "outputId": "75c3eeeb-0f5c-4e67-da72-4b5b357999d4"
   },
   "outputs": [
    {
     "data": {
      "text/plain": [
       "['3', '3']"
      ]
     },
     "execution_count": 30,
     "metadata": {},
     "output_type": "execute_result"
    }
   ],
   "source": [
    "re.findall(r'[^\\D]+', text)"
   ]
  },
  {
   "cell_type": "code",
   "execution_count": 31,
   "metadata": {
    "colab": {
     "base_uri": "https://localhost:8080/"
    },
    "executionInfo": {
     "elapsed": 41,
     "status": "ok",
     "timestamp": 1740601259325,
     "user": {
      "displayName": "Ridvan Yigit",
      "userId": "01752453935051821250"
     },
     "user_tz": -60
    },
    "id": "7Xf7zrP862Js",
    "outputId": "98bd5a2b-2c74-4f4b-dfc8-a0d79945ff86"
   },
   "outputs": [
    {
     "data": {
      "text/plain": [
       "[' ', ' ', ' ', ' ', ' <']"
      ]
     },
     "execution_count": 31,
     "metadata": {},
     "output_type": "execute_result"
    }
   ],
   "source": [
    "re.findall(r'[^\\w]+', text)"
   ]
  },
  {
   "cell_type": "code",
   "execution_count": 32,
   "metadata": {
    "colab": {
     "base_uri": "https://localhost:8080/"
    },
    "executionInfo": {
     "elapsed": 7,
     "status": "ok",
     "timestamp": 1740601242655,
     "user": {
      "displayName": "Ridvan Yigit",
      "userId": "01752453935051821250"
     },
     "user_tz": -60
    },
    "id": "tTcMAFHb6Xj5",
    "outputId": "4df17ee5-7685-4374-e6c5-6315783f5926"
   },
   "outputs": [
    {
     "data": {
      "text/plain": [
       "['3', 'hi', 'thanks', 'for', 'reading', '3']"
      ]
     },
     "execution_count": 32,
     "metadata": {},
     "output_type": "execute_result"
    }
   ],
   "source": [
    "re.findall(r'[^\\W]+', text)"
   ]
  },
  {
   "cell_type": "code",
   "execution_count": 33,
   "metadata": {
    "executionInfo": {
     "elapsed": 3,
     "status": "ok",
     "timestamp": 1740601390265,
     "user": {
      "displayName": "Ridvan Yigit",
      "userId": "01752453935051821250"
     },
     "user_tz": -60
    },
    "id": "fKkphqN86_ez"
   },
   "outputs": [],
   "source": [
    "text = \"you can get free-classes on great account of kgp-talkie. Thank you Laxmi\""
   ]
  },
  {
   "cell_type": "code",
   "execution_count": 34,
   "metadata": {
    "colab": {
     "base_uri": "https://localhost:8080/"
    },
    "executionInfo": {
     "elapsed": 6,
     "status": "ok",
     "timestamp": 1740601417292,
     "user": {
      "displayName": "Ridvan Yigit",
      "userId": "01752453935051821250"
     },
     "user_tz": -60
    },
    "id": "n3cLQguz7RYz",
    "outputId": "9d54a9cb-60a8-4c10-9863-d1bde0b39b83"
   },
   "outputs": [
    {
     "data": {
      "text/plain": [
       "['free-classes', 'kgp-talkie']"
      ]
     },
     "execution_count": 34,
     "metadata": {},
     "output_type": "execute_result"
    }
   ],
   "source": [
    "re.findall(r'[\\w]+-[\\w]+', text)"
   ]
  },
  {
   "cell_type": "markdown",
   "metadata": {
    "id": "NU13jS8f7oM1"
   },
   "source": [
    "## Regular Expression in SpaCy\n",
    "* Match Differen Spelling of Token Texts `pattern = [{\"TEXT\"}: {\"REGEX\":\"deff?in[ia]tely\"}}]`\n",
    "* Match Tokens fith Fine-Grained POS Tags starting with 'V' `pattern = [{\"TAG\"}: {\"REGEX\":\"^V\"}}]`\n"
   ]
  },
  {
   "cell_type": "code",
   "execution_count": 35,
   "metadata": {
    "executionInfo": {
     "elapsed": 11,
     "status": "ok",
     "timestamp": 1740602335087,
     "user": {
      "displayName": "Ridvan Yigit",
      "userId": "01752453935051821250"
     },
     "user_tz": -60
    },
    "id": "439jTVtt7dzY"
   },
   "outputs": [],
   "source": [
    "text = \"Google announced a new Pixel at Google I/O . Google I/O is a great place to get all updates from Google\""
   ]
  },
  {
   "cell_type": "code",
   "execution_count": 36,
   "metadata": {
    "executionInfo": {
     "elapsed": 4,
     "status": "ok",
     "timestamp": 1740602335736,
     "user": {
      "displayName": "Ridvan Yigit",
      "userId": "01752453935051821250"
     },
     "user_tz": -60
    },
    "id": "cPa4lWhM9Dxe"
   },
   "outputs": [],
   "source": [
    "pattern = [{\"TEXT\": \"Google\"},\n",
    "           {\"TEXT\": \"I\"},\n",
    "           {\"TEXT\": \"/\"},\n",
    "           {\"TEXT\": \"O\"}]"
   ]
  },
  {
   "cell_type": "code",
   "execution_count": 37,
   "metadata": {
    "executionInfo": {
     "elapsed": 2,
     "status": "ok",
     "timestamp": 1740602336583,
     "user": {
      "displayName": "Ridvan Yigit",
      "userId": "01752453935051821250"
     },
     "user_tz": -60
    },
    "id": "n7axjyBo9Zlv"
   },
   "outputs": [],
   "source": [
    "def callback_method(matcher, doc, i, matches):\n",
    "  match_id, start, end = matches[i]\n",
    "  entity = doc[start:end]\n",
    "  print(entity.text)"
   ]
  },
  {
   "cell_type": "code",
   "execution_count": 38,
   "metadata": {
    "executionInfo": {
     "elapsed": 41,
     "status": "ok",
     "timestamp": 1740602337376,
     "user": {
      "displayName": "Ridvan Yigit",
      "userId": "01752453935051821250"
     },
     "user_tz": -60
    },
    "id": "0wQ42tOV-FcO"
   },
   "outputs": [],
   "source": [
    "matcher = Matcher(nlp.vocab)\n",
    "matcher.add('GoogleIO', [pattern], on_match=callback_method)"
   ]
  },
  {
   "cell_type": "code",
   "execution_count": 39,
   "metadata": {
    "executionInfo": {
     "elapsed": 12,
     "status": "ok",
     "timestamp": 1740602338087,
     "user": {
      "displayName": "Ridvan Yigit",
      "userId": "01752453935051821250"
     },
     "user_tz": -60
    },
    "id": "xEmCbhf4-RC1"
   },
   "outputs": [],
   "source": [
    "doc = nlp(text)"
   ]
  },
  {
   "cell_type": "code",
   "execution_count": 40,
   "metadata": {
    "colab": {
     "base_uri": "https://localhost:8080/"
    },
    "executionInfo": {
     "elapsed": 6,
     "status": "ok",
     "timestamp": 1740602338776,
     "user": {
      "displayName": "Ridvan Yigit",
      "userId": "01752453935051821250"
     },
     "user_tz": -60
    },
    "id": "1jy0CiqL-p0Q",
    "outputId": "c2777613-cd7e-4ef2-95fa-259fcd218a90"
   },
   "outputs": [
    {
     "name": "stdout",
     "output_type": "stream",
     "text": [
      "Google I/O\n",
      "Google I/O\n"
     ]
    }
   ],
   "source": [
    "matches = matcher(doc)"
   ]
  },
  {
   "cell_type": "markdown",
   "metadata": {
    "id": "iA5c2nWj_Hbn"
   },
   "source": [
    "### Find Word Google"
   ]
  },
  {
   "cell_type": "code",
   "execution_count": 41,
   "metadata": {
    "executionInfo": {
     "elapsed": 3,
     "status": "ok",
     "timestamp": 1740602500353,
     "user": {
      "displayName": "Ridvan Yigit",
      "userId": "01752453935051821250"
     },
     "user_tz": -60
    },
    "id": "hFswFUTb-tzL"
   },
   "outputs": [],
   "source": [
    "pattern = [{\"TEXT\": \"Google\"},\n",
    "           {\"TEXT\": \"I\", \"OP\": \"?\"},\n",
    "           {\"TEXT\": \"/\", \"OP\": \"?\"},\n",
    "           {\"TEXT\": \"O\", \"OP\": \"?\"}]"
   ]
  },
  {
   "cell_type": "code",
   "execution_count": 42,
   "metadata": {
    "executionInfo": {
     "elapsed": 11,
     "status": "ok",
     "timestamp": 1740602505223,
     "user": {
      "displayName": "Ridvan Yigit",
      "userId": "01752453935051821250"
     },
     "user_tz": -60
    },
    "id": "vmic-ZDo_mOO"
   },
   "outputs": [],
   "source": [
    "def callback_method(matcher, doc, i, matches):\n",
    "  match_id, start, end = matches[i]\n",
    "  entity = doc[start:end]\n",
    "  print(entity.text)"
   ]
  },
  {
   "cell_type": "code",
   "execution_count": 43,
   "metadata": {
    "executionInfo": {
     "elapsed": 2,
     "status": "ok",
     "timestamp": 1740602510602,
     "user": {
      "displayName": "Ridvan Yigit",
      "userId": "01752453935051821250"
     },
     "user_tz": -60
    },
    "id": "VMnoE6Rh_nYd"
   },
   "outputs": [],
   "source": [
    "matcher = Matcher(nlp.vocab)\n",
    "matcher.add('GoogleIO', [pattern], on_match=callback_method)"
   ]
  },
  {
   "cell_type": "code",
   "execution_count": 44,
   "metadata": {
    "executionInfo": {
     "elapsed": 10,
     "status": "ok",
     "timestamp": 1740602515644,
     "user": {
      "displayName": "Ridvan Yigit",
      "userId": "01752453935051821250"
     },
     "user_tz": -60
    },
    "id": "sy_N2c0X_ouX"
   },
   "outputs": [],
   "source": [
    "doc = nlp(text)"
   ]
  },
  {
   "cell_type": "code",
   "execution_count": 45,
   "metadata": {
    "colab": {
     "base_uri": "https://localhost:8080/"
    },
    "executionInfo": {
     "elapsed": 285,
     "status": "ok",
     "timestamp": 1740602521287,
     "user": {
      "displayName": "Ridvan Yigit",
      "userId": "01752453935051821250"
     },
     "user_tz": -60
    },
    "id": "0f_svOFs_p8_",
    "outputId": "6d21c2b7-d2d5-4ecf-efd1-98cdc6aa0dbd"
   },
   "outputs": [
    {
     "name": "stdout",
     "output_type": "stream",
     "text": [
      "Google\n",
      "Google\n",
      "Google I\n",
      "Google I/\n",
      "Google I/O\n",
      "Google\n",
      "Google I\n",
      "Google I/\n",
      "Google I/O\n",
      "Google\n"
     ]
    }
   ],
   "source": [
    "matches = matcher(doc)"
   ]
  },
  {
   "cell_type": "markdown",
   "metadata": {},
   "source": [
    "# PART-2 : Phone Number, Email, Emoji Extraction"
   ]
  },
  {
   "cell_type": "markdown",
   "metadata": {},
   "source": [
    "> `[{\"LOWER\":\"facebook\"},{\"LEMMA\":\"be\"},{\"POS\":\"ADV\",\"OP\":\"*\"},{\"POS\":\"ADJ\"}]`\n",
    "- This translates to a token whose lowercase from matches \"facebook\" (like Facebook, facebook or FACEBOOK), followed by a token with the lemma \"be\" (for example; is, was, or`s), followed by an optional adverb, followed by an adjective."
   ]
  },
  {
   "cell_type": "code",
   "execution_count": 46,
   "metadata": {
    "id": "_MEt3t5o_rQw"
   },
   "outputs": [],
   "source": [
    "matcher = Matcher(nlp.vocab)"
   ]
  },
  {
   "cell_type": "code",
   "execution_count": 47,
   "metadata": {},
   "outputs": [],
   "source": [
    "matched_sents = []"
   ]
  },
  {
   "cell_type": "code",
   "execution_count": 48,
   "metadata": {},
   "outputs": [],
   "source": [
    "pattern = [{\"LOWER\":\"facebook\"},{\"LEMMA\":\"be\"},{\"POS\":\"ADV\",\"OP\":\"*\"},{\"POS\":\"ADJ\"}]"
   ]
  },
  {
   "cell_type": "code",
   "execution_count": 49,
   "metadata": {},
   "outputs": [],
   "source": [
    "def callback_method_fb(matcher, doc, i, matches):\n",
    "  matched_id, start, end = matches[i]\n",
    "  span = doc[start:end]\n",
    "  sent = span.sent\n",
    "\n",
    "  match_ents = [{\n",
    "      \"start\": span.start_char - sent.start_char,\n",
    "      \"end\": span.end_char - sent.start_char,\n",
    "      \"label\": \"MATCH\"\n",
    "  }]\n",
    "\n",
    "  matched_sents.append({\"text\": sent.text, \"ents\": match_ents})"
   ]
  },
  {
   "cell_type": "code",
   "execution_count": 50,
   "metadata": {},
   "outputs": [],
   "source": [
    "matcher.add(\"fb\", [pattern], on_match=callback_method_fb)"
   ]
  },
  {
   "cell_type": "code",
   "execution_count": 51,
   "metadata": {},
   "outputs": [],
   "source": [
    "doc = nlp(\"I'd say that Facebook is evil. - Facebook is pretty cool, right?\")"
   ]
  },
  {
   "cell_type": "code",
   "execution_count": 52,
   "metadata": {},
   "outputs": [
    {
     "data": {
      "text/plain": [
       "[(8017838677478259815, 4, 7), (8017838677478259815, 9, 13)]"
      ]
     },
     "execution_count": 52,
     "metadata": {},
     "output_type": "execute_result"
    }
   ],
   "source": [
    "matches = matcher(doc)\n",
    "matches"
   ]
  },
  {
   "cell_type": "code",
   "execution_count": 53,
   "metadata": {},
   "outputs": [
    {
     "data": {
      "text/plain": [
       "[{'text': \"I'd say that Facebook is evil.\",\n",
       "  'ents': [{'start': 13, 'end': 29, 'label': 'MATCH'}]},\n",
       " {'text': '- Facebook is pretty cool, right?',\n",
       "  'ents': [{'start': 2, 'end': 25, 'label': 'MATCH'}]}]"
      ]
     },
     "execution_count": 53,
     "metadata": {},
     "output_type": "execute_result"
    }
   ],
   "source": [
    "matched_sents"
   ]
  },
  {
   "cell_type": "code",
   "execution_count": 54,
   "metadata": {},
   "outputs": [
    {
     "data": {
      "text/html": [
       "<span class=\"tex2jax_ignore\"><div class=\"entities\" style=\"line-height: 2.5; direction: ltr\">I'd say that \n",
       "<mark class=\"entity\" style=\"background: #ddd; padding: 0.45em 0.6em; margin: 0 0.25em; line-height: 1; border-radius: 0.35em;\">\n",
       "    Facebook is evil\n",
       "    <span style=\"font-size: 0.8em; font-weight: bold; line-height: 1; border-radius: 0.35em; vertical-align: middle; margin-left: 0.5rem\">MATCH</span>\n",
       "</mark>\n",
       ".</div>\n",
       "\n",
       "<div class=\"entities\" style=\"line-height: 2.5; direction: ltr\">- \n",
       "<mark class=\"entity\" style=\"background: #ddd; padding: 0.45em 0.6em; margin: 0 0.25em; line-height: 1; border-radius: 0.35em;\">\n",
       "    Facebook is pretty cool\n",
       "    <span style=\"font-size: 0.8em; font-weight: bold; line-height: 1; border-radius: 0.35em; vertical-align: middle; margin-left: 0.5rem\">MATCH</span>\n",
       "</mark>\n",
       ", right?</div></span>"
      ],
      "text/plain": [
       "<IPython.core.display.HTML object>"
      ]
     },
     "metadata": {},
     "output_type": "display_data"
    }
   ],
   "source": [
    "displacy.render(matched_sents, style=\"ent\", manual=True)"
   ]
  },
  {
   "cell_type": "markdown",
   "metadata": {},
   "source": [
    "## Phone Number Extraction\n",
    "- Phone Numbers can have many different formats and matching them is often tricky. During `Tokenization`, spaCy will leave sequences of numbers intact and only split on whitespace and punctuation. This means that your match pattern will have to look out for number sequences of a certain length, surrounded by specific punctuation - depending on the national conventions.\n",
    "\n",
    "- You want to match like this : `(123) 4567 8901 or (123) 4567-8901`\n",
    "- [{\"ORTH\":\"(\"}, {\"SHAPE\":\"ddd\"}, {\"ORTH\":\")\"}, {\"SHAPE\":\"dddd\"}, {\"ORTH\":\"-\", \"OP\":\"?\"}, {\"SHAPE\":\"dddd\"}]"
   ]
  },
  {
   "cell_type": "code",
   "execution_count": 55,
   "metadata": {},
   "outputs": [],
   "source": [
    "pattern = [{\"ORTH\":\"(\"}, {\"SHAPE\":\"ddd\"}, {\"ORTH\":\")\"}, {\"SHAPE\":\"dddd\"}, {\"ORTH\":\"-\", \"OP\":\"?\"}, {\"SHAPE\":\"dddd\"}]"
   ]
  },
  {
   "cell_type": "code",
   "execution_count": 56,
   "metadata": {},
   "outputs": [],
   "source": [
    "matcher = Matcher(nlp.vocab)\n",
    "matcher.add(\"PhoneNumber\", [pattern])"
   ]
  },
  {
   "cell_type": "code",
   "execution_count": 57,
   "metadata": {},
   "outputs": [],
   "source": [
    "doc = nlp(\"Call me at (123) 4560-7890\")"
   ]
  },
  {
   "cell_type": "code",
   "execution_count": 58,
   "metadata": {},
   "outputs": [
    {
     "name": "stdout",
     "output_type": "stream",
     "text": [
      "['Call', 'me', 'at', '(', '123', ')', '4560', '-', '7890']\n"
     ]
    }
   ],
   "source": [
    "print([t.text for t in doc])"
   ]
  },
  {
   "cell_type": "code",
   "execution_count": 59,
   "metadata": {},
   "outputs": [
    {
     "data": {
      "text/plain": [
       "[(7978097794922043545, 3, 9)]"
      ]
     },
     "execution_count": 59,
     "metadata": {},
     "output_type": "execute_result"
    }
   ],
   "source": [
    "matches = matcher(doc)\n",
    "matches"
   ]
  },
  {
   "cell_type": "code",
   "execution_count": 60,
   "metadata": {},
   "outputs": [
    {
     "name": "stdout",
     "output_type": "stream",
     "text": [
      "(123) 4560-7890\n"
     ]
    }
   ],
   "source": [
    "for match_id, start, end in matches:\n",
    "  span = doc[start:end]\n",
    "  print(span.text)"
   ]
  },
  {
   "cell_type": "markdown",
   "metadata": {},
   "source": [
    "## E-Mail Address Matching"
   ]
  },
  {
   "cell_type": "code",
   "execution_count": 61,
   "metadata": {},
   "outputs": [],
   "source": [
    "pattern = [{\"TEXT\": {\"REGEX\": \"[a-zA-Z0-9-_.]+@[a-zA-Z0-9-_.]+\"}}]"
   ]
  },
  {
   "cell_type": "code",
   "execution_count": 62,
   "metadata": {},
   "outputs": [],
   "source": [
    "matcher = Matcher(nlp.vocab)\n",
    "matcher.add(\"EMail\", [pattern])"
   ]
  },
  {
   "cell_type": "code",
   "execution_count": 63,
   "metadata": {},
   "outputs": [],
   "source": [
    "text = \"Email me at email2me@colemerg.com and talk.me@rido.com\""
   ]
  },
  {
   "cell_type": "code",
   "execution_count": 64,
   "metadata": {},
   "outputs": [],
   "source": [
    "doc = nlp(text)"
   ]
  },
  {
   "cell_type": "code",
   "execution_count": 65,
   "metadata": {},
   "outputs": [
    {
     "data": {
      "text/plain": [
       "[(10208870021556473826, 3, 4), (10208870021556473826, 5, 6)]"
      ]
     },
     "execution_count": 65,
     "metadata": {},
     "output_type": "execute_result"
    }
   ],
   "source": [
    "matches = matcher(doc)\n",
    "matches"
   ]
  },
  {
   "cell_type": "code",
   "execution_count": 66,
   "metadata": {},
   "outputs": [
    {
     "name": "stdout",
     "output_type": "stream",
     "text": [
      "email2me@colemerg.com\n",
      "talk.me@rido.com\n"
     ]
    }
   ],
   "source": [
    "for match_id, start, end in matches:\n",
    "  span = doc[start:end]\n",
    "  print(span.text)"
   ]
  },
  {
   "cell_type": "markdown",
   "metadata": {},
   "source": [
    "## Hashtags and Emoji on Social Media\n",
    "- Social media posts, especially tweets, can be difficult to work with. They're very short and often contain various emoji and hashtags. By only looking at the plain text, you'll lose a lot of valuable semantic information.\n",
    "- Let's say you've extracted a large sample of social media posts and specific topic, for example posts mentioning a brand name or product. As the fist step of your data exploration, you want to filter out posts containing certain emoji and use them to assign a general sentiment score, based on wheter the expressed emotion is positive or negative, e.g. 😊 or 😢. You also want to find, marge and label hastags like #MondayMotivation, to be able to ignore analyze them later.\n",
    "- By default, spaCy's tokenizer will split emoji into seperate tokens. This means that you can create a pattern for one or more emoji tokens. Valid hashtags usually consist of a #, plus a sequence of ASCII characters with no whitespace, making them easy to match as well."
   ]
  },
  {
   "cell_type": "code",
   "execution_count": 67,
   "metadata": {},
   "outputs": [],
   "source": [
    "pos_emoji = [\"😊\", \"😃\", \"😄\", \"😁\", \"😆\", \"😅\"] #positive_emoji\n",
    "neg_emoji = [\"😞\", \"😔\", \"😟\", \"😕\", \"🙁\", \"☹️\"] #negative_emoji"
   ]
  },
  {
   "cell_type": "code",
   "execution_count": 68,
   "metadata": {},
   "outputs": [
    {
     "name": "stdout",
     "output_type": "stream",
     "text": [
      "positive emoji: ['😊', '😃', '😄', '😁', '😆', '😅']\n",
      "negative emoji: ['😞', '😔', '😟', '😕', '🙁', '☹️']\n"
     ]
    }
   ],
   "source": [
    "print('positive emoji:',pos_emoji)\n",
    "print('negative emoji:',neg_emoji)"
   ]
  },
  {
   "cell_type": "code",
   "execution_count": 69,
   "metadata": {},
   "outputs": [],
   "source": [
    "# add patterns to match one or more emoji tokens\n",
    "pos_patterns = [[{\"ORTH\": emoji}] for emoji in pos_emoji]\n",
    "neg_patterns = [[{\"ORTH\": emoji}] for emoji in neg_emoji]"
   ]
  },
  {
   "cell_type": "code",
   "execution_count": 70,
   "metadata": {},
   "outputs": [
    {
     "data": {
      "text/plain": [
       "[[{'ORTH': '😊'}],\n",
       " [{'ORTH': '😃'}],\n",
       " [{'ORTH': '😄'}],\n",
       " [{'ORTH': '😁'}],\n",
       " [{'ORTH': '😆'}],\n",
       " [{'ORTH': '😅'}]]"
      ]
     },
     "execution_count": 70,
     "metadata": {},
     "output_type": "execute_result"
    }
   ],
   "source": [
    "pos_patterns"
   ]
  },
  {
   "cell_type": "code",
   "execution_count": 71,
   "metadata": {},
   "outputs": [
    {
     "data": {
      "text/plain": [
       "[[{'ORTH': '😞'}],\n",
       " [{'ORTH': '😔'}],\n",
       " [{'ORTH': '😟'}],\n",
       " [{'ORTH': '😕'}],\n",
       " [{'ORTH': '🙁'}],\n",
       " [{'ORTH': '☹️'}]]"
      ]
     },
     "execution_count": 71,
     "metadata": {},
     "output_type": "execute_result"
    }
   ],
   "source": [
    " neg_patterns"
   ]
  },
  {
   "cell_type": "code",
   "execution_count": 72,
   "metadata": {},
   "outputs": [],
   "source": [
    "def label_sentiment(matcher, doc, i, matches):\n",
    "  match_id, start, end = matches[i]\n",
    "  if doc.vocab.strings[match_id] == \"HAPPY\":\n",
    "    doc.sentiment += 0.1\n",
    "  elif doc.vocab.strings[match_id] =='SAD':\n",
    "    doc.sentiment -= 0.1"
   ]
  },
  {
   "cell_type": "code",
   "execution_count": 73,
   "metadata": {},
   "outputs": [],
   "source": [
    "matcher = Matcher(nlp.vocab)"
   ]
  },
  {
   "cell_type": "code",
   "execution_count": 74,
   "metadata": {},
   "outputs": [],
   "source": [
    "matcher.add(\"HAPPY\", pos_patterns, on_match=label_sentiment)\n",
    "matcher.add(\"SAD\", neg_patterns, on_match=label_sentiment)"
   ]
  },
  {
   "cell_type": "code",
   "execution_count": 75,
   "metadata": {},
   "outputs": [],
   "source": [
    "matcher.add(\"HASHTAG\", [[{\"ORTH\":\"#\"}, {\"IS_ASCII\":True}]])"
   ]
  },
  {
   "cell_type": "code",
   "execution_count": 76,
   "metadata": {},
   "outputs": [],
   "source": [
    "doc = nlp(\"Hello world 😊 #MondayMotivation\")"
   ]
  },
  {
   "cell_type": "code",
   "execution_count": 77,
   "metadata": {},
   "outputs": [],
   "source": [
    "matches = matcher(doc)"
   ]
  },
  {
   "cell_type": "code",
   "execution_count": 78,
   "metadata": {},
   "outputs": [
    {
     "name": "stdout",
     "output_type": "stream",
     "text": [
      "HAPPY 😊\n",
      "HASHTAG #MondayMotivation\n"
     ]
    }
   ],
   "source": [
    "for match_id, start, end in matches:\n",
    "  string_id = doc.vocab.strings[match_id] # look up string ID\n",
    "  span = doc[start:end]\n",
    "  print(string_id, span.text)"
   ]
  },
  {
   "cell_type": "markdown",
   "metadata": {},
   "source": [
    "## Efficient Phrase Matching\n",
    "- If you need to match large technology list, you dan also use the PhraseMatcher and create Doc objects instead of token patterns, which is much more efficient overall. The Doc patterns can contain single or multiple tokens."
   ]
  },
  {
   "cell_type": "code",
   "execution_count": 79,
   "metadata": {},
   "outputs": [],
   "source": [
    "from spacy.matcher import PhraseMatcher"
   ]
  },
  {
   "cell_type": "code",
   "execution_count": 80,
   "metadata": {},
   "outputs": [],
   "source": [
    "matcher = PhraseMatcher(nlp.vocab)"
   ]
  },
  {
   "cell_type": "code",
   "execution_count": 81,
   "metadata": {},
   "outputs": [],
   "source": [
    "terms = [\"BARACK OBAMA\", \"ANGELA MERKEL\", \"WASHINGTON D.C.\"]"
   ]
  },
  {
   "cell_type": "code",
   "execution_count": 82,
   "metadata": {},
   "outputs": [
    {
     "data": {
      "text/plain": [
       "[BARACK OBAMA, ANGELA MERKEL, WASHINGTON D.C.]"
      ]
     },
     "execution_count": 82,
     "metadata": {},
     "output_type": "execute_result"
    }
   ],
   "source": [
    "pattern = [nlp.make_doc(text) for text in terms]\n",
    "pattern"
   ]
  },
  {
   "cell_type": "code",
   "execution_count": 83,
   "metadata": {},
   "outputs": [],
   "source": [
    "matcher.add(\"term\", pattern)"
   ]
  },
  {
   "cell_type": "code",
   "execution_count": 84,
   "metadata": {},
   "outputs": [
    {
     "data": {
      "text/plain": [
       "German Chancellor ANGELA MERKEL and US President BARACK OBAMA converse in the Oval Office inside the White House in WASHINGTON D.C."
      ]
     },
     "execution_count": 84,
     "metadata": {},
     "output_type": "execute_result"
    }
   ],
   "source": [
    "doc = nlp(\"German Chancellor ANGELA MERKEL and US President BARACK OBAMA converse in the Oval Office inside the White House in WASHINGTON D.C.\")\n",
    "doc"
   ]
  },
  {
   "cell_type": "code",
   "execution_count": 85,
   "metadata": {},
   "outputs": [],
   "source": [
    "matches = matcher(doc)"
   ]
  },
  {
   "cell_type": "code",
   "execution_count": 86,
   "metadata": {},
   "outputs": [
    {
     "name": "stdout",
     "output_type": "stream",
     "text": [
      "ANGELA MERKEL\n",
      "BARACK OBAMA\n",
      "WASHINGTON D.C.\n"
     ]
    }
   ],
   "source": [
    "for match_id, start, end in matches:\n",
    "  span = doc[start:end]\n",
    "  print(span.text)"
   ]
  },
  {
   "cell_type": "code",
   "execution_count": 87,
   "metadata": {},
   "outputs": [
    {
     "data": {
      "text/plain": [
       "[(4519742297340331040, 2, 4),\n",
       " (4519742297340331040, 7, 9),\n",
       " (4519742297340331040, 19, 21)]"
      ]
     },
     "execution_count": 87,
     "metadata": {},
     "output_type": "execute_result"
    }
   ],
   "source": [
    "matches"
   ]
  },
  {
   "cell_type": "markdown",
   "metadata": {},
   "source": [
    "## Custome Rule Based Entity Recognition\n",
    "- The EntityRuler is an exciting new component that lets you add named entities based on pattern dictionaries, and makes it easy to combine rule-based and statistical named entity recognition for even more powerful models.\n",
    "\n",
    "#### Entity Patterns\n",
    "- Entity patterns are dictionaries with two keys: \"label\", specifying the label to assign to the entity if the pattern is matched, and \"patter\", the match pattern. The entity ruler accepts two types of patterns:\n",
    "\n",
    "\n",
    "1.   Phrase Pattern `{\"label\":\"ORG\", \"pattern\":\"Apple\"}`\n",
    "2.   Token Pattern `{\"label\":\"GPE\", \"pattern\":[{\"LOWER\":\"san\"},{{\"LOWER\":\"francisco\"}]}`\n",
    "\n",
    "#### Using the Entity Ruler\n",
    "- The EntityRuler is a pipeline component that's typically added via nlp_add.pipe. When the nlp object is called on a text, it will find matches in the doc and add them as entities to the doc.ents, using the specified pattern label as the entity label\n",
    "\n",
    "* https://spacy.io/api/annotation#named-entities"
   ]
  },
  {
   "cell_type": "code",
   "execution_count": 88,
   "metadata": {},
   "outputs": [],
   "source": [
    "from spacy.pipeline import EntityRuler"
   ]
  },
  {
   "cell_type": "code",
   "execution_count": 89,
   "metadata": {},
   "outputs": [],
   "source": [
    "nlp = spacy.load(\"en_core_web_sm\")"
   ]
  },
  {
   "cell_type": "code",
   "execution_count": 90,
   "metadata": {},
   "outputs": [],
   "source": [
    "ruler = nlp.add_pipe(\"entity_ruler\", name=\"entity_ruler\", before=\"ner\")"
   ]
  },
  {
   "cell_type": "code",
   "execution_count": 91,
   "metadata": {},
   "outputs": [
    {
     "data": {
      "text/plain": [
       "[{'label': 'ORG', 'pattern': 'Apple'},\n",
       " {'label': 'GPE', 'pattern': [{'LOWER': 'san'}, {'LOWER': 'francisco'}]}]"
      ]
     },
     "execution_count": 91,
     "metadata": {},
     "output_type": "execute_result"
    }
   ],
   "source": [
    "patterns = [{\"label\":\"ORG\", \"pattern\":\"Apple\"},\n",
    "          {\"label\":\"GPE\", \"pattern\":[{\"LOWER\":\"san\"}, {\"LOWER\":\"francisco\"}]}]\n",
    "patterns"
   ]
  },
  {
   "cell_type": "code",
   "execution_count": 92,
   "metadata": {},
   "outputs": [],
   "source": [
    "ruler.add_patterns(patterns)"
   ]
  },
  {
   "cell_type": "code",
   "execution_count": 93,
   "metadata": {},
   "outputs": [],
   "source": [
    "doc = nlp(\"Apple is opening a new store in San Francisco\")"
   ]
  },
  {
   "cell_type": "code",
   "execution_count": 94,
   "metadata": {},
   "outputs": [
    {
     "name": "stdout",
     "output_type": "stream",
     "text": [
      "[('Apple', 'ORG'), ('San Francisco', 'GPE')]\n"
     ]
    }
   ],
   "source": [
    "print([(ent.text, ent.label_) for ent in doc.ents])"
   ]
  },
  {
   "cell_type": "code",
   "execution_count": null,
   "metadata": {},
   "outputs": [],
   "source": []
  }
 ],
 "metadata": {
  "colab": {
   "authorship_tag": "ABX9TyPx8SZ+M5ZT2x5ERtz37rPm",
   "provenance": []
  },
  "kernelspec": {
   "display_name": "base",
   "language": "python",
   "name": "python3"
  },
  "language_info": {
   "codemirror_mode": {
    "name": "ipython",
    "version": 3
   },
   "file_extension": ".py",
   "mimetype": "text/x-python",
   "name": "python",
   "nbconvert_exporter": "python",
   "pygments_lexer": "ipython3",
   "version": "3.12.2"
  }
 },
 "nbformat": 4,
 "nbformat_minor": 0
}
