{
  "nbformat": 4,
  "nbformat_minor": 0,
  "metadata": {
    "colab": {
      "provenance": [],
      "authorship_tag": "ABX9TyPW6BWM3owtXZp1g0gio5FZ",
      "include_colab_link": true
    },
    "kernelspec": {
      "name": "python3",
      "display_name": "Python 3"
    },
    "language_info": {
      "name": "python"
    }
  },
  "cells": [
    {
      "cell_type": "markdown",
      "metadata": {
        "id": "view-in-github",
        "colab_type": "text"
      },
      "source": [
        "<a href=\"https://colab.research.google.com/github/ridvanyigit/Natural-Language-Processing-NLP-/blob/main/Recommendation_System.ipynb\" target=\"_parent\"><img src=\"https://colab.research.google.com/assets/colab-badge.svg\" alt=\"Open In Colab\"/></a>"
      ]
    },
    {
      "cell_type": "code",
      "source": [
        "!pip uninstall tensorflow\n",
        "!pip uninstall keras\n",
        "!pip install tensorflow==2.10.0\n",
        "!pip install keras==2.10.0"
      ],
      "metadata": {
        "colab": {
          "base_uri": "https://localhost:8080/"
        },
        "collapsed": true,
        "id": "Ba30L6yLJjP_",
        "outputId": "925c2bb3-5215-492c-9702-368ee1dff8b8"
      },
      "execution_count": 1,
      "outputs": [
        {
          "output_type": "stream",
          "name": "stdout",
          "text": [
            "\u001b[33mWARNING: Skipping tensorflow as it is not installed.\u001b[0m\u001b[33m\n",
            "\u001b[0mFound existing installation: keras 2.10.0\n",
            "Uninstalling keras-2.10.0:\n",
            "  Would remove:\n",
            "    /usr/local/lib/python3.11/dist-packages/keras-2.10.0.dist-info/*\n",
            "    /usr/local/lib/python3.11/dist-packages/keras/*\n",
            "Proceed (Y/n)? y\n",
            "  Successfully uninstalled keras-2.10.0\n",
            "\u001b[31mERROR: Could not find a version that satisfies the requirement tensorflow==2.10.0 (from versions: 2.12.0rc0, 2.12.0rc1, 2.12.0, 2.12.1, 2.13.0rc0, 2.13.0rc1, 2.13.0rc2, 2.13.0, 2.13.1, 2.14.0rc0, 2.14.0rc1, 2.14.0, 2.14.1, 2.15.0rc0, 2.15.0rc1, 2.15.0, 2.15.0.post1, 2.15.1, 2.16.0rc0, 2.16.1, 2.16.2, 2.17.0rc0, 2.17.0rc1, 2.17.0, 2.17.1, 2.18.0rc0, 2.18.0rc1, 2.18.0rc2, 2.18.0)\u001b[0m\u001b[31m\n",
            "\u001b[0m\u001b[31mERROR: No matching distribution found for tensorflow==2.10.0\u001b[0m\u001b[31m\n",
            "\u001b[0mCollecting keras==2.10.0\n",
            "  Using cached keras-2.10.0-py2.py3-none-any.whl.metadata (1.3 kB)\n",
            "Using cached keras-2.10.0-py2.py3-none-any.whl (1.7 MB)\n",
            "Installing collected packages: keras\n",
            "Successfully installed keras-2.10.0\n"
          ]
        }
      ]
    },
    {
      "cell_type": "code",
      "source": [
        "import os\n",
        "import pandas as pd\n",
        "import numpy as np\n",
        "import matplotlib.pyplot as plt\n",
        "import seaborn as sns\n",
        "import ktrain\n",
        "import warnings\n",
        "warnings.filterwarnings('ignore')"
      ],
      "metadata": {
        "colab": {
          "base_uri": "https://localhost:8080/"
        },
        "id": "_4CpCIULHUOf",
        "outputId": "f029b241-617e-4598-e47b-71822805f3a1"
      },
      "execution_count": 2,
      "outputs": [
        {
          "output_type": "stream",
          "name": "stderr",
          "text": [
            "/usr/local/lib/python3.11/dist-packages/ktrain/imports.py:59: UserWarning: TensorFlow is not installed and will be needed if training neural networks, but non-TensorFlow features in ktrain can still be used. See https://github.com/amaiya/ktrain/blob/master/README.md\n",
            "  warnings.warn(TF_WARNING)\n"
          ]
        }
      ]
    },
    {
      "cell_type": "code",
      "source": [
        "from sklearn.datasets import fetch_20newsgroups"
      ],
      "metadata": {
        "id": "pLA9GKR9J3-a"
      },
      "execution_count": 4,
      "outputs": []
    },
    {
      "cell_type": "code",
      "source": [
        "remove=('headers', 'footers', 'quotes')\n",
        "train = fetch_20newsgroups(subset='train', remove=remove)\n",
        "test = fetch_20newsgroups(subset='test', remove=remove)\n",
        "\n",
        "texts = train.data + test.data"
      ],
      "metadata": {
        "id": "d9mDj3gMKwb6"
      },
      "execution_count": 7,
      "outputs": []
    },
    {
      "cell_type": "code",
      "source": [
        "%%time\n",
        "tm = ktrain.text.get_topic_model(texts, n_features=10000)\n",
        "#tm = topic model"
      ],
      "metadata": {
        "colab": {
          "base_uri": "https://localhost:8080/"
        },
        "id": "ZDHFQt9FGfuC",
        "outputId": "577afb37-8737-4a57-fb97-4cc4450c6647"
      },
      "execution_count": 8,
      "outputs": [
        {
          "output_type": "stream",
          "name": "stdout",
          "text": [
            "n_topics automatically set to 97\n",
            "lang: en\n",
            "preprocessing texts...\n",
            "fitting model...\n",
            "iteration: 1 of max_iter: 5\n",
            "iteration: 2 of max_iter: 5\n",
            "iteration: 3 of max_iter: 5\n",
            "iteration: 4 of max_iter: 5\n",
            "iteration: 5 of max_iter: 5\n",
            "done.\n",
            "CPU times: user 2min 23s, sys: 1min 41s, total: 4min 5s\n",
            "Wall time: 2min 27s\n"
          ]
        }
      ]
    },
    {
      "cell_type": "code",
      "source": [
        "%%time\n",
        "tm.build(texts, threshold=0.25)"
      ],
      "metadata": {
        "colab": {
          "base_uri": "https://localhost:8080/"
        },
        "id": "NFrqKVziMEaz",
        "outputId": "04c275b8-07ad-499a-d03f-05307d5d137b"
      },
      "execution_count": 9,
      "outputs": [
        {
          "output_type": "stream",
          "name": "stdout",
          "text": [
            "done.\n",
            "CPU times: user 13.8 s, sys: 6.68 s, total: 20.5 s\n",
            "Wall time: 13.2 s\n"
          ]
        }
      ]
    },
    {
      "cell_type": "code",
      "source": [
        "tm.train_recommender()"
      ],
      "metadata": {
        "id": "rCALx0oHMrQg"
      },
      "execution_count": 11,
      "outputs": []
    },
    {
      "cell_type": "code",
      "source": [
        "rawtext = \"\"\"\n",
        "Earth planning date: Wednesday, Feb. 12, 2025 I woke up this morning to my weather app telling me it felt like minus 15° C (5°F) outside. On days like this, it can take me a little longer to get myself…\n",
        "\"\"\""
      ],
      "metadata": {
        "id": "a0vsdgBxM01f"
      },
      "execution_count": 24,
      "outputs": []
    },
    {
      "cell_type": "code",
      "source": [
        "tm.recommend(text=rawtext, n=5)"
      ],
      "metadata": {
        "colab": {
          "base_uri": "https://localhost:8080/"
        },
        "id": "qY3x2zUlOeZw",
        "outputId": "da31b5dc-9cc5-4eb7-da6b-ca1ecf4de2f1"
      },
      "execution_count": 25,
      "outputs": [
        {
          "output_type": "execute_result",
          "data": {
            "text/plain": [
              "[{'text': \"                                     ^^^^^^^^^^^^^^^^^^^^^^^^^^^^^^\\nWow! I knew Uranus is a long way off, but I didn't think it was THAT far away!\\n\",\n",
              "  'doc_id': 312,\n",
              "  'topic_proba': 0.47807143986146083,\n",
              "  'topic_id': 96},\n",
              " {'text': \"The following are my thoughts on a meeting that I, Hugh Kelso, and Bob Lilly\\nhad with an aide of Sen. Patty Murrays.  We were there to discuss SSTO, and\\ncommercial space.  This is how it went...\\n\\n\\n\\nAfter receiving a packet containing a presentation on the benifits of SSTO,\\nI called and tried to schedule a meeting with our local Senator (D) Patty\\nMurray, Washington State.  I started asking for an hour, and when I heard\\nthe gasp on the end of the phone, I quickly backed off to 1/2 an hour.\\nLater in that conversation, I learned that a standard appointment is 15 minutes.\\n\\nWe got the standard bozo treatment.  That is, we were called back by an aide,\\nwho scheduled a meeting with us, in order to determine that we were not\\nbozos, and to familiarize himself with the material, and to screen it, to \\nmake sure that it was appropriate to take the senators time with that material.\\n\\nWell, I got allocated 1/2 hour with Sen. Murrays aide, and we ended up talking\\nto him for 45 minutes, with us ending the meeting, and him still listening.\\nWe covered a lot of ground, and only a little tiny bit was DCX specific.  \\nMost of it was a single stage reusable vehicle primer.  There was another\\nwoman there who took copius quantities of notes on EVERY topic that\\nwe brought up.\\n\\nBut, with Murray being new, we wanted to entrench ourselves as non-corporate\\naligned (I.E. not speaking for boeing) local citizens interentested in space.\\nSo, we spent a lot of time covering the benifits of lower cost access to\\nLEO.  Solar power satellites are a big focus here, so we hit them as becoming \\nfeasible with lower cost access, and we hit the environmental stand on that.\\nWe hit the tourism angle, and I left a copy of the patric Collins Tourism\\npaper, with side notes being that everyone who goes into space, and sees the\\natmosphere becomes more of an environmentalist, esp. after SEEING the smog\\nover L.A.  We hit on the benifits of studying bone decalcification (which is \\nmore pronounced in space, and said that that had POTENTIAL to lead to \\nunderstanding of, and MAYBE a cure for osteoporosis.  We hit the education \\nwhereby kids get enthused by space, but as they get older and find out that\\nthey havent a hop in hell of actually getting there, they go on to other\\nfields, with low cost to orbit, the chances they might get there someday \\nwould provide greater incentive to hit the harder classes needed.\\n\\nWe hit a little of the get nasa out of the operational launch vehicle business\\nangle.  We hit the lower cost of satellite launches, gps navigation, personal\\ncommunicators, tellecommunications, new services, etc...  Jobs provided\\nin those sectors.\\n\\nJobs provided building the thing, balance of trade improvement, etc..\\nWe mentioned that skypix would benifit from lower launch costs.\\n\\nWe left the paper on what technologies needed to be invested in in order\\nto make this even easier to do.  And he asked questions on this point.\\n\\nWe ended by telling her that we wanted her to be aware that efforts are\\nproceeding in this area, and that we want to make sure that the\\nresults from these efforts are not lost (much like condor, or majellan),\\nand most importantly, we asked that she help fund further efforts along\\nthe lines of lowering the cost to LEO.\\n\\nIn the middle we also gave a little speal about the Lunar Resource Data \\nPurchase act, and the guy filed it separately, he was VERY interested in it.\\nHe asked some questions about it, and seemed like he wanted to jump on it,\\nand contact some of the people involved with it, so something may actually\\nhappen immediatly there.\\n\\nThe last two things we did were to make sure that they knew that we\\nknew a lot of people in the space arena here in town, and that they\\ncould feel free to call us any time with questions, and if we didn't know\\nthe answers, that we would see to it that they questions got to people who\\nreally did know the answers.\\n\\nThen finally, we asked for an appointment with the senator herself.  He\\nsaid that we would get on the list, and he also said that knowing her, this\\nwould be something that she would be very interested in, although they\\ndo have a time problem getting her scheduled, since she is only in the\\nstate 1 week out of 6 these days.\\n\\nAll in all we felt like we did a pretty good job.\",\n",
              "  'doc_id': 369,\n",
              "  'topic_proba': 0.3871331844035687,\n",
              "  'topic_id': 96},\n",
              " {'text': \"\\nNon-smoking, normal law student needs furnished place to live in Memphis\\nthis summer.  I'll be working at a firm downtown and will have\\nto pass the bar character examination, so you don't have to worry about \\nyour stuff being broken or stolen.  Call Chris at (804)979-2519\\nor leave e-mail.\\n\",\n",
              "  'doc_id': 526,\n",
              "  'topic_proba': 0.4211890065436567,\n",
              "  'topic_id': 96},\n",
              " {'text': '\\n\\n\\n\\nWhich sort of loans and what have you heard exactly?\\n',\n",
              "  'doc_id': 784,\n",
              "  'topic_proba': 0.3814432978143097,\n",
              "  'topic_id': 96},\n",
              " {'text': \"\\n\\nFred.\\n\\n\\tTry reading a bit.  THe government does lots of multi year\\ncontracts with Penalty for cancellation clauses.  They just like to be\\ndamn sure they know what they are doing before they sign a multi year\\ncontract.   THe reason they aren't cutting defense spending as much\\nas they would like is the Reagan administration signed enough\\nMulti year contracts,  that it's now cheaper to just finish them out.\\n\\nLook at SSF.  THis years funding is 2.2 Billion,  1.8 of which will\\ncover penalty clauses, due to the re-design.\",\n",
              "  'doc_id': 864,\n",
              "  'topic_proba': 0.37822742674441984,\n",
              "  'topic_id': 96}]"
            ]
          },
          "metadata": {},
          "execution_count": 25
        }
      ]
    },
    {
      "cell_type": "code",
      "source": [
        "for i, doc in enumerate(tm.recommend(text=rawtext, n=5)):\n",
        "  print('Result #%s'% (i+1))\n",
        "  print('Text \\n')\n",
        "  print(' '.join(doc['text'].split()[:500]))\n",
        "  print()"
      ],
      "metadata": {
        "colab": {
          "base_uri": "https://localhost:8080/"
        },
        "id": "G20GslbbNoOM",
        "outputId": "a6846dfc-ba57-4a9a-ff47-ef1979d1665e"
      },
      "execution_count": 26,
      "outputs": [
        {
          "output_type": "stream",
          "name": "stdout",
          "text": [
            "Result #1\n",
            "Text \n",
            "\n",
            "^^^^^^^^^^^^^^^^^^^^^^^^^^^^^^ Wow! I knew Uranus is a long way off, but I didn't think it was THAT far away!\n",
            "\n",
            "Result #2\n",
            "Text \n",
            "\n",
            "The following are my thoughts on a meeting that I, Hugh Kelso, and Bob Lilly had with an aide of Sen. Patty Murrays. We were there to discuss SSTO, and commercial space. This is how it went... After receiving a packet containing a presentation on the benifits of SSTO, I called and tried to schedule a meeting with our local Senator (D) Patty Murray, Washington State. I started asking for an hour, and when I heard the gasp on the end of the phone, I quickly backed off to 1/2 an hour. Later in that conversation, I learned that a standard appointment is 15 minutes. We got the standard bozo treatment. That is, we were called back by an aide, who scheduled a meeting with us, in order to determine that we were not bozos, and to familiarize himself with the material, and to screen it, to make sure that it was appropriate to take the senators time with that material. Well, I got allocated 1/2 hour with Sen. Murrays aide, and we ended up talking to him for 45 minutes, with us ending the meeting, and him still listening. We covered a lot of ground, and only a little tiny bit was DCX specific. Most of it was a single stage reusable vehicle primer. There was another woman there who took copius quantities of notes on EVERY topic that we brought up. But, with Murray being new, we wanted to entrench ourselves as non-corporate aligned (I.E. not speaking for boeing) local citizens interentested in space. So, we spent a lot of time covering the benifits of lower cost access to LEO. Solar power satellites are a big focus here, so we hit them as becoming feasible with lower cost access, and we hit the environmental stand on that. We hit the tourism angle, and I left a copy of the patric Collins Tourism paper, with side notes being that everyone who goes into space, and sees the atmosphere becomes more of an environmentalist, esp. after SEEING the smog over L.A. We hit on the benifits of studying bone decalcification (which is more pronounced in space, and said that that had POTENTIAL to lead to understanding of, and MAYBE a cure for osteoporosis. We hit the education whereby kids get enthused by space, but as they get older and find out that they havent a hop in hell of actually getting there, they go on to other fields, with low cost to orbit, the chances they might get there someday would provide greater incentive to hit the harder classes needed. We hit a little of the get nasa out of the operational launch vehicle business angle. We hit the lower cost of satellite launches, gps navigation, personal communicators, tellecommunications, new services, etc... Jobs provided in those sectors. Jobs provided building the thing, balance of trade improvement, etc.. We mentioned that skypix would benifit from lower launch costs. We left the paper on what technologies needed to be invested in in\n",
            "\n",
            "Result #3\n",
            "Text \n",
            "\n",
            "Non-smoking, normal law student needs furnished place to live in Memphis this summer. I'll be working at a firm downtown and will have to pass the bar character examination, so you don't have to worry about your stuff being broken or stolen. Call Chris at (804)979-2519 or leave e-mail.\n",
            "\n",
            "Result #4\n",
            "Text \n",
            "\n",
            "Which sort of loans and what have you heard exactly?\n",
            "\n",
            "Result #5\n",
            "Text \n",
            "\n",
            "Fred. Try reading a bit. THe government does lots of multi year contracts with Penalty for cancellation clauses. They just like to be damn sure they know what they are doing before they sign a multi year contract. THe reason they aren't cutting defense spending as much as they would like is the Reagan administration signed enough Multi year contracts, that it's now cheaper to just finish them out. Look at SSF. THis years funding is 2.2 Billion, 1.8 of which will cover penalty clauses, due to the re-design.\n",
            "\n"
          ]
        }
      ]
    },
    {
      "cell_type": "code",
      "source": [],
      "metadata": {
        "id": "O4LpRfJbPwLp"
      },
      "execution_count": null,
      "outputs": []
    }
  ]
}