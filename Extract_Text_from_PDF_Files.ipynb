{
  "nbformat": 4,
  "nbformat_minor": 0,
  "metadata": {
    "colab": {
      "provenance": [],
      "authorship_tag": "ABX9TyMGHFKvpwMZEEC0saGoY4SA",
      "include_colab_link": true
    },
    "kernelspec": {
      "name": "python3",
      "display_name": "Python 3"
    },
    "language_info": {
      "name": "python"
    }
  },
  "cells": [
    {
      "cell_type": "markdown",
      "metadata": {
        "id": "view-in-github",
        "colab_type": "text"
      },
      "source": [
        "<a href=\"https://colab.research.google.com/github/ridvanyigit/NLP/blob/main/Extract_Text_from_PDF_Files.ipynb\" target=\"_parent\"><img src=\"https://colab.research.google.com/assets/colab-badge.svg\" alt=\"Open In Colab\"/></a>"
      ]
    },
    {
      "cell_type": "code",
      "source": [
        "!pip install PyPDF2"
      ],
      "metadata": {
        "colab": {
          "base_uri": "https://localhost:8080/"
        },
        "id": "_hH5eQqPyhYJ",
        "outputId": "cffb2678-2a12-4dc8-9332-05465cead477"
      },
      "execution_count": 1,
      "outputs": [
        {
          "output_type": "stream",
          "name": "stdout",
          "text": [
            "Requirement already satisfied: PyPDF2 in /usr/local/lib/python3.11/dist-packages (3.0.1)\n"
          ]
        }
      ]
    },
    {
      "cell_type": "code",
      "execution_count": 2,
      "metadata": {
        "id": "1EENmHjgyWTP"
      },
      "outputs": [],
      "source": [
        "import numpy as np\n",
        "import pandas as pd\n",
        "import PyPDF2 as pdf"
      ]
    },
    {
      "cell_type": "code",
      "source": [
        "file = open('NLP.pdf', 'rb')"
      ],
      "metadata": {
        "id": "gbVqDCv3yZn4"
      },
      "execution_count": 3,
      "outputs": []
    },
    {
      "cell_type": "code",
      "source": [
        "file"
      ],
      "metadata": {
        "colab": {
          "base_uri": "https://localhost:8080/"
        },
        "id": "eoCjiPj3ya_X",
        "outputId": "d1150ff7-a06b-4239-8a07-5cae389a90a2"
      },
      "execution_count": 4,
      "outputs": [
        {
          "output_type": "execute_result",
          "data": {
            "text/plain": [
              "<_io.BufferedReader name='NLP.pdf'>"
            ]
          },
          "metadata": {},
          "execution_count": 4
        }
      ]
    },
    {
      "cell_type": "code",
      "source": [
        "pdf_reader = pdf.PdfReader(file)\n",
        "pdf_reader"
      ],
      "metadata": {
        "colab": {
          "base_uri": "https://localhost:8080/"
        },
        "id": "6Tqfmb5TybBm",
        "outputId": "d2dc8419-ab27-404a-f7aa-951d4f8d75a4"
      },
      "execution_count": 5,
      "outputs": [
        {
          "output_type": "execute_result",
          "data": {
            "text/plain": [
              "<PyPDF2._reader.PdfReader at 0x79c5acdf1fd0>"
            ]
          },
          "metadata": {},
          "execution_count": 5
        }
      ]
    },
    {
      "cell_type": "code",
      "source": [
        "help(pdf_reader)"
      ],
      "metadata": {
        "colab": {
          "base_uri": "https://localhost:8080/"
        },
        "id": "5y8wBqrwybDr",
        "outputId": "3ef9021d-ae54-40d4-9e1b-177caac9cfba"
      },
      "execution_count": 6,
      "outputs": [
        {
          "output_type": "stream",
          "name": "stdout",
          "text": [
            "Help on PdfReader in module PyPDF2._reader object:\n",
            "\n",
            "class PdfReader(builtins.object)\n",
            " |  PdfReader(stream: Union[str, IO, pathlib.Path], strict: bool = False, password: Union[NoneType, str, bytes] = None) -> None\n",
            " |  \n",
            " |  Initialize a PdfReader object.\n",
            " |  \n",
            " |  This operation can take some time, as the PDF stream's cross-reference\n",
            " |  tables are read into memory.\n",
            " |  \n",
            " |  :param stream: A File object or an object that supports the standard read\n",
            " |      and seek methods similar to a File object. Could also be a\n",
            " |      string representing a path to a PDF file.\n",
            " |  :param bool strict: Determines whether user should be warned of all\n",
            " |      problems and also causes some correctable problems to be fatal.\n",
            " |      Defaults to ``False``.\n",
            " |  :param None/str/bytes password: Decrypt PDF file at initialization. If the\n",
            " |      password is None, the file will not be decrypted.\n",
            " |      Defaults to ``None``\n",
            " |  \n",
            " |  Methods defined here:\n",
            " |  \n",
            " |  __init__(self, stream: Union[str, IO, pathlib.Path], strict: bool = False, password: Union[NoneType, str, bytes] = None) -> None\n",
            " |      Initialize self.  See help(type(self)) for accurate signature.\n",
            " |  \n",
            " |  cacheGetIndirectObject(self, generation: int, idnum: int) -> Optional[PyPDF2.generic._base.PdfObject]\n",
            " |      .. deprecated:: 1.28.0\n",
            " |      \n",
            " |          Use :meth:`cache_get_indirect_object` instead.\n",
            " |  \n",
            " |  cacheIndirectObject(self, generation: int, idnum: int, obj: Optional[PyPDF2.generic._base.PdfObject]) -> Optional[PyPDF2.generic._base.PdfObject]\n",
            " |      .. deprecated:: 1.28.0\n",
            " |      \n",
            " |          Use :meth:`cache_indirect_object` instead.\n",
            " |  \n",
            " |  cache_get_indirect_object(self, generation: int, idnum: int) -> Optional[PyPDF2.generic._base.PdfObject]\n",
            " |  \n",
            " |  cache_indirect_object(self, generation: int, idnum: int, obj: Optional[PyPDF2.generic._base.PdfObject]) -> Optional[PyPDF2.generic._base.PdfObject]\n",
            " |  \n",
            " |  decode_permissions(self, permissions_code: int) -> Dict[str, bool]\n",
            " |  \n",
            " |  decrypt(self, password: Union[str, bytes]) -> PyPDF2._encryption.PasswordType\n",
            " |      When using an encrypted / secured PDF file with the PDF Standard\n",
            " |      encryption handler, this function will allow the file to be decrypted.\n",
            " |      It checks the given password against the document's user password and\n",
            " |      owner password, and then stores the resulting decryption key if either\n",
            " |      password is correct.\n",
            " |      \n",
            " |      It does not matter which password was matched.  Both passwords provide\n",
            " |      the correct decryption key that will allow the document to be used with\n",
            " |      this library.\n",
            " |      \n",
            " |      :param str password: The password to match.\n",
            " |      :return: `PasswordType`.\n",
            " |  \n",
            " |  getDestinationPageNumber(self, destination: PyPDF2.generic._data_structures.Destination) -> int\n",
            " |      .. deprecated:: 1.28.0\n",
            " |      \n",
            " |          Use :meth:`get_destination_page_number` instead.\n",
            " |  \n",
            " |  getDocumentInfo(self) -> Optional[PyPDF2._reader.DocumentInformation]\n",
            " |      .. deprecated:: 1.28.0\n",
            " |      \n",
            " |          Use the attribute :py:attr:`metadata` instead.\n",
            " |  \n",
            " |  getFields(self, tree: Optional[PyPDF2.generic._data_structures.TreeObject] = None, retval: Optional[Dict[Any, Any]] = None, fileobj: Optional[Any] = None) -> Optional[Dict[str, Any]]\n",
            " |      .. deprecated:: 1.28.0\n",
            " |      \n",
            " |          Use :meth:`get_fields` instead.\n",
            " |  \n",
            " |  getFormTextFields(self) -> Dict[str, Any]\n",
            " |      .. deprecated:: 1.28.0\n",
            " |      \n",
            " |          Use :meth:`get_form_text_fields` instead.\n",
            " |  \n",
            " |  getIsEncrypted(self) -> bool\n",
            " |      .. deprecated:: 1.28.0\n",
            " |      \n",
            " |          Use :py:attr:`is_encrypted` instead.\n",
            " |  \n",
            " |  getNamedDestinations(self, tree: Optional[PyPDF2.generic._data_structures.TreeObject] = None, retval: Optional[Any] = None) -> Dict[str, Any]\n",
            " |      .. deprecated:: 1.28.0\n",
            " |      \n",
            " |          Use :py:attr:`named_destinations` instead.\n",
            " |  \n",
            " |  getNumPages(self) -> int\n",
            " |      .. deprecated:: 1.28.0\n",
            " |      \n",
            " |          Use :code:`len(reader.pages)` instead.\n",
            " |  \n",
            " |  getObject(self, indirectReference: PyPDF2.generic._base.IndirectObject) -> Optional[PyPDF2.generic._base.PdfObject]\n",
            " |      .. deprecated:: 1.28.0\n",
            " |      \n",
            " |          Use :meth:`get_object` instead.\n",
            " |  \n",
            " |  getOutlines(self, node: Optional[PyPDF2.generic._data_structures.DictionaryObject] = None, outline: Optional[Any] = None) -> List[Union[PyPDF2.generic._data_structures.Destination, List[Union[PyPDF2.generic._data_structures.Destination, List[PyPDF2.generic._data_structures.Destination]]]]]\n",
            " |      .. deprecated:: 1.28.0\n",
            " |      \n",
            " |          Use :py:attr:`outline` instead.\n",
            " |  \n",
            " |  getPage(self, pageNumber: int) -> PyPDF2._page.PageObject\n",
            " |      .. deprecated:: 1.28.0\n",
            " |      \n",
            " |          Use :code:`reader.pages[page_number]` instead.\n",
            " |  \n",
            " |  getPageLayout(self) -> Optional[str]\n",
            " |      .. deprecated:: 1.28.0\n",
            " |      \n",
            " |          Use :py:attr:`page_layout` instead.\n",
            " |  \n",
            " |  getPageMode(self) -> Optional[Literal['/UseNone', '/UseOutlines', '/UseThumbs', '/FullScreen', '/UseOC', '/UseAttachments']]\n",
            " |      .. deprecated:: 1.28.0\n",
            " |      \n",
            " |          Use :py:attr:`page_mode` instead.\n",
            " |  \n",
            " |  getPageNumber(self, page: PyPDF2._page.PageObject) -> int\n",
            " |      .. deprecated:: 1.28.0\n",
            " |      \n",
            " |          Use :meth:`get_page_number` instead.\n",
            " |  \n",
            " |  getXmpMetadata(self) -> Optional[PyPDF2.xmp.XmpInformation]\n",
            " |      .. deprecated:: 1.28.0\n",
            " |      \n",
            " |          Use the attribute :py:attr:`xmp_metadata` instead.\n",
            " |  \n",
            " |  get_destination_page_number(self, destination: PyPDF2.generic._data_structures.Destination) -> int\n",
            " |      Retrieve page number of a given Destination object.\n",
            " |      \n",
            " |      :param Destination destination: The destination to get page number.\n",
            " |      :return: the page number or -1 if page not found\n",
            " |  \n",
            " |  get_fields(self, tree: Optional[PyPDF2.generic._data_structures.TreeObject] = None, retval: Optional[Dict[Any, Any]] = None, fileobj: Optional[Any] = None) -> Optional[Dict[str, Any]]\n",
            " |      Extract field data if this PDF contains interactive form fields.\n",
            " |      \n",
            " |      The *tree* and *retval* parameters are for recursive use.\n",
            " |      \n",
            " |      :param fileobj: A file object (usually a text file) to write\n",
            " |          a report to on all interactive form fields found.\n",
            " |      :return: A dictionary where each key is a field name, and each\n",
            " |          value is a :class:`Field<PyPDF2.generic.Field>` object. By\n",
            " |          default, the mapping name is used for keys.\n",
            " |          ``None`` if form data could not be located.\n",
            " |  \n",
            " |  get_form_text_fields(self) -> Dict[str, Any]\n",
            " |      Retrieve form fields from the document with textual data.\n",
            " |      \n",
            " |      The key is the name of the form field, the value is the content of the\n",
            " |      field.\n",
            " |      \n",
            " |      If the document contains multiple form fields with the same name, the\n",
            " |      second and following will get the suffix _2, _3, ...\n",
            " |  \n",
            " |  get_object(self, indirect_reference: Union[int, PyPDF2.generic._base.IndirectObject]) -> Optional[PyPDF2.generic._base.PdfObject]\n",
            " |  \n",
            " |  get_page_number(self, page: PyPDF2._page.PageObject) -> int\n",
            " |      Retrieve page number of a given PageObject\n",
            " |      \n",
            " |      :param PageObject page: The page to get page number. Should be\n",
            " |          an instance of :class:`PageObject<PyPDF2._page.PageObject>`\n",
            " |      :return: the page number or -1 if page not found\n",
            " |  \n",
            " |  read(self, stream: <class 'IO'>) -> None\n",
            " |  \n",
            " |  readNextEndLine(self, stream: <class 'IO'>, limit_offset: int = 0) -> bytes\n",
            " |      .. deprecated:: 1.28.0\n",
            " |  \n",
            " |  readObjectHeader(self, stream: <class 'IO'>) -> Tuple[int, int]\n",
            " |      .. deprecated:: 1.28.0\n",
            " |      \n",
            " |          Use :meth:`read_object_header` instead.\n",
            " |  \n",
            " |  read_next_end_line(self, stream: <class 'IO'>, limit_offset: int = 0) -> bytes\n",
            " |      .. deprecated:: 2.1.0\n",
            " |  \n",
            " |  read_object_header(self, stream: <class 'IO'>) -> Tuple[int, int]\n",
            " |  \n",
            " |  ----------------------------------------------------------------------\n",
            " |  Readonly properties defined here:\n",
            " |  \n",
            " |  documentInfo\n",
            " |      .. deprecated:: 1.28.0\n",
            " |      \n",
            " |          Use the attribute :py:attr:`metadata` instead.\n",
            " |  \n",
            " |  isEncrypted\n",
            " |      .. deprecated:: 1.28.0\n",
            " |      \n",
            " |          Use :py:attr:`is_encrypted` instead.\n",
            " |  \n",
            " |  is_encrypted\n",
            " |      Read-only boolean property showing whether this PDF file is encrypted.\n",
            " |      Note that this property, if true, will remain true even after the\n",
            " |      :meth:`decrypt()<PyPDF2.PdfReader.decrypt>` method is called.\n",
            " |  \n",
            " |  metadata\n",
            " |      Retrieve the PDF file's document information dictionary, if it exists.\n",
            " |      Note that some PDF files use metadata streams instead of docinfo\n",
            " |      dictionaries, and these metadata streams will not be accessed by this\n",
            " |      function.\n",
            " |      \n",
            " |      :return: the document information of this PDF file\n",
            " |  \n",
            " |  namedDestinations\n",
            " |      .. deprecated:: 1.28.0\n",
            " |      \n",
            " |          Use :py:attr:`named_destinations` instead.\n",
            " |  \n",
            " |  named_destinations\n",
            " |      A read-only dictionary which maps names to\n",
            " |      :class:`Destinations<PyPDF2.generic.Destination>`\n",
            " |  \n",
            " |  numPages\n",
            " |      .. deprecated:: 1.28.0\n",
            " |      \n",
            " |          Use :code:`len(reader.pages)` instead.\n",
            " |  \n",
            " |  outline\n",
            " |      Read-only property for the outline (i.e., a collection of 'outline items'\n",
            " |      which are also known as 'bookmarks') present in the document.\n",
            " |      \n",
            " |      :return: a nested list of :class:`Destinations<PyPDF2.generic.Destination>`.\n",
            " |  \n",
            " |  outlines\n",
            " |      .. deprecated:: 2.9.0\n",
            " |      \n",
            " |          Use :py:attr:`outline` instead.\n",
            " |  \n",
            " |  pageLayout\n",
            " |      .. deprecated:: 1.28.0\n",
            " |      \n",
            " |          Use :py:attr:`page_layout` instead.\n",
            " |  \n",
            " |  pageMode\n",
            " |      .. deprecated:: 1.28.0\n",
            " |      \n",
            " |          Use :py:attr:`page_mode` instead.\n",
            " |  \n",
            " |  page_layout\n",
            " |      Get the page layout.\n",
            " |      \n",
            " |      :return: Page layout currently being used.\n",
            " |      \n",
            " |      .. list-table:: Valid ``layout`` values\n",
            " |         :widths: 50 200\n",
            " |      \n",
            " |         * - /NoLayout\n",
            " |           - Layout explicitly not specified\n",
            " |         * - /SinglePage\n",
            " |           - Show one page at a time\n",
            " |         * - /OneColumn\n",
            " |           - Show one column at a time\n",
            " |         * - /TwoColumnLeft\n",
            " |           - Show pages in two columns, odd-numbered pages on the left\n",
            " |         * - /TwoColumnRight\n",
            " |           - Show pages in two columns, odd-numbered pages on the right\n",
            " |         * - /TwoPageLeft\n",
            " |           - Show two pages at a time, odd-numbered pages on the left\n",
            " |         * - /TwoPageRight\n",
            " |           - Show two pages at a time, odd-numbered pages on the right\n",
            " |  \n",
            " |  page_mode\n",
            " |      Get the page mode.\n",
            " |      \n",
            " |      :return: Page mode currently being used.\n",
            " |      \n",
            " |      .. list-table:: Valid ``mode`` values\n",
            " |         :widths: 50 200\n",
            " |      \n",
            " |         * - /UseNone\n",
            " |           - Do not show outline or thumbnails panels\n",
            " |         * - /UseOutlines\n",
            " |           - Show outline (aka bookmarks) panel\n",
            " |         * - /UseThumbs\n",
            " |           - Show page thumbnails panel\n",
            " |         * - /FullScreen\n",
            " |           - Fullscreen view\n",
            " |         * - /UseOC\n",
            " |           - Show Optional Content Group (OCG) panel\n",
            " |         * - /UseAttachments\n",
            " |           - Show attachments panel\n",
            " |  \n",
            " |  pages\n",
            " |      Read-only property that emulates a list of :py:class:`Page<PyPDF2._page.Page>` objects.\n",
            " |  \n",
            " |  pdf_header\n",
            " |  \n",
            " |  threads\n",
            " |      Read-only property for the list of threads see §8.3.2 from PDF 1.7 spec\n",
            " |      \n",
            " |      :return: an Array of Dictionnaries with \"/F\" and \"/I\" properties\n",
            " |               or None if no articles.\n",
            " |  \n",
            " |  xfa\n",
            " |  \n",
            " |  xmpMetadata\n",
            " |      .. deprecated:: 1.28.0\n",
            " |      \n",
            " |          Use the attribute :py:attr:`xmp_metadata` instead.\n",
            " |  \n",
            " |  xmp_metadata\n",
            " |      XMP (Extensible Metadata Platform) data\n",
            " |      \n",
            " |      :return: a :class:`XmpInformation<xmp.XmpInformation>`\n",
            " |          instance that can be used to access XMP metadata from the document.\n",
            " |          or ``None`` if no metadata was found on the document root.\n",
            " |  \n",
            " |  ----------------------------------------------------------------------\n",
            " |  Data descriptors defined here:\n",
            " |  \n",
            " |  __dict__\n",
            " |      dictionary for instance variables\n",
            " |  \n",
            " |  __weakref__\n",
            " |      list of weak references to the object\n",
            "\n"
          ]
        }
      ]
    },
    {
      "cell_type": "code",
      "source": [
        "pdf_reader.is_encrypted"
      ],
      "metadata": {
        "colab": {
          "base_uri": "https://localhost:8080/"
        },
        "id": "xCZEF1v9ybFz",
        "outputId": "7000136c-a363-45b6-ebb8-bad20b71dc85"
      },
      "execution_count": 7,
      "outputs": [
        {
          "output_type": "execute_result",
          "data": {
            "text/plain": [
              "False"
            ]
          },
          "metadata": {},
          "execution_count": 7
        }
      ]
    },
    {
      "cell_type": "code",
      "source": [
        "len(pdf_reader.pages)"
      ],
      "metadata": {
        "colab": {
          "base_uri": "https://localhost:8080/"
        },
        "id": "v6gciaJaybHm",
        "outputId": "45a5fc19-1047-4d2a-e781-1a92e0f30538"
      },
      "execution_count": 8,
      "outputs": [
        {
          "output_type": "execute_result",
          "data": {
            "text/plain": [
              "80"
            ]
          },
          "metadata": {},
          "execution_count": 8
        }
      ]
    },
    {
      "cell_type": "code",
      "source": [
        "page1 = pdf_reader.pages[0]"
      ],
      "metadata": {
        "id": "HcnRAhQiybJu"
      },
      "execution_count": 9,
      "outputs": []
    },
    {
      "cell_type": "code",
      "source": [
        "page1.extract_text()"
      ],
      "metadata": {
        "colab": {
          "base_uri": "https://localhost:8080/",
          "height": 139
        },
        "id": "KnVPwnjkybLw",
        "outputId": "096e10cc-43e7-431f-acfc-b7f7a5215955"
      },
      "execution_count": 10,
      "outputs": [
        {
          "output_type": "execute_result",
          "data": {
            "text/plain": [
              "'Natural Language Processing\\n2004, 8Lectures\\nAnn Copestak e(aac@cl.cam.ac.uk )\\nhttp://www .cl.cam.ac.uk/users/aac/\\nCopyright c\\rAnn Copestak e,2003\\x962004\\nLectur eSynopsis\\nAims\\nThis course aims tointroduce thefundamental techniques ofnatural language processing andtodevelop anunder -\\nstanding ofthelimits ofthose techniques. Itaims tointroduce some current research issues, andtoevaluate some\\ncurrent andpotential applications.\\n\\x0fIntroduction. Brief history ofNLP research, current applications, generic NLP system architecture, knowledge-\\nbased versusprobabilistic approaches.\\n\\x0fFinite-state techniques. In\\x03ectional andderivational morphology ,\\x02nite-state automata inNLP,\\x02nite-state\\ntransducers.\\n\\x0fPrediction andpart-of-speech tagging .Corpora, simple N-grams, wordprediction, stochastic tagging, evalu-\\nating system performance.\\n\\x0fParsing andgeneration. Generati vegrammar ,conte xt-free grammars, parsing andgeneration with conte xt-free\\ngrammars, weights andprobabilities.\\n\\x0fParsing with constraint-based grammars. Constraint-based grammar ,uni\\x02cation.\\n\\x0fCompositional andlexical semantics. Simple compositional semantics inconstraint-based grammar .Semantic\\nrelations, WordNet, wordsenses, wordsense disambiguation.\\n\\x0fDiscourse anddialogue. Anaphora resolution, discourse relations.\\n\\x0fApplications. Machine translation, email response, spok endialogue systems.\\nObjecti ves\\nAttheendofthecourse students should\\n\\x0fbeable todescribe thearchitecture ofandbasic design forageneric NLP system \\x93shell\\x94\\n\\x0fbeable todiscuss thecurrent andlikelyfuture performance ofseveral NLP applications, such asmachine\\ntranslation andemail response\\n\\x0fbeable todescribe brie\\x03y afundamental technique forprocessing language forseveralsubtasks, such asmor-\\nphological analysis, parsing, wordsense disambiguation etc.\\n\\x0funderstand howthese techniques drawonandrelate toother areas of(theoretical) computer science, such as\\nformal language theory ,formal semantics ofprogramming languages, ortheorem proving\\n1'"
            ],
            "application/vnd.google.colaboratory.intrinsic+json": {
              "type": "string"
            }
          },
          "metadata": {},
          "execution_count": 10
        }
      ]
    },
    {
      "cell_type": "code",
      "source": [
        "page2 = pdf_reader.pages[1]"
      ],
      "metadata": {
        "id": "XzAC9LjJ3L-s"
      },
      "execution_count": 11,
      "outputs": []
    },
    {
      "cell_type": "code",
      "source": [
        "page2.extract_text()"
      ],
      "metadata": {
        "colab": {
          "base_uri": "https://localhost:8080/",
          "height": 139
        },
        "id": "EjY5toAQ4IuW",
        "outputId": "9b18839a-4491-46f3-b6a5-2f2ade2027d7"
      },
      "execution_count": 12,
      "outputs": [
        {
          "output_type": "execute_result",
          "data": {
            "text/plain": [
              "\"Overview\\nNLP isalargeandmultidisciplinary \\x02eld, sothiscourse canonly provide averygeneral introduction. The \\x02rst\\nlecture isdesigned togiveanovervie wofthemain subareas andaverybrief idea ofthemain applications and\\nthemethodologies which havebeen emplo yed. Thehistory ofNLP isbrie\\x03y discussed asawayofputting thisinto\\nperspecti ve.Thenextsixlectures describe some ofthemain subareas inmore detail. Theorganisation isroughly based\\nonincreased `depth' ofprocessing, starting with relati velysurface-oriented techniques andprogressing toconsidering\\nmeaning ofsentences andmeaning ofutterances inconte xt.Most lectures willstart offbyconsidering thesubarea as\\nawhole andthen goontodescribe oneormore sample algorithms which tackle particular problems. Thealgorithms\\nhavebeen chosen because theyarerelati velystraightforw ardtodescribe andbecause theyillustrate aspeci\\x02c technique\\nwhich hasbeen showntobeuseful, buttheideaistoexemplify anapproach, nottogiveadetailed survey(which would\\nbeimpossible inthetime available). (Lecture 5isabitdifferent inthatitconcentrates onadata structure instead of\\nanalgorithm.) The\\x02nal lecture brings thepreceding material together inorder todescribe thestate oftheartinthree\\nsample applications.\\nThere arevarious themes running throughout thelectures. One theme istheconnection tolinguistics andthetension\\nthatsometimes exists between thepredominant viewintheoretical linguistics andtheapproaches adopted within NLP.\\nAsome what related theme isthedistinction between knowledge-based andprobabilistic approaches. Evaluation will\\nbediscussed intheconte xtofthedifferent algorithms.\\nBecause NLP issuch alargearea, there aremanytopics that aren' ttouched onatallinthese lectures. Speech\\nrecognition andspeech synthesis isalmost totally ignored. Information retrie valandinformation extraction arethe\\ntopic ofaseparate course givenbySimone Teufel, forwhich thiscourse isaprerequisite.\\nFeedback onthehandout, listsoftypos etc,would begreatly appreciated.\\nRecommended Reading\\nRecommended Book:\\nJurafsk y,Daniel andJames Martin, Speec handLangua geProcessing ,Prentice-Hall, 2000 (referenced asJ&M through-\\noutthishandout).\\nBackground:\\nThese books areabout linguistics rather thatNLP/computational linguistics. Theyarenotnecessary tounderstand the\\ncourse, butshould givereaders anidea about some oftheproperties ofhuman languages thatmakeNLP interesting\\nandchallenging, without being technical.\\nPinker,S.,TheLangua geInstinct ,Penguin, 1994.\\nThis isathought-pro voking andsometimes contro versial `popular' introduction tolinguistics.\\nMatthe ws,Peter ,Linguistics: avery short introduction ,OUP ,2003.\\nThetitleisaccurate ...\\nBackground/reference:\\nTheInternet Grammar ofEnglish ,http://www .ucl.ac.uk/internet-grammar/home.htm\\nSyntactic concepts andterminology .\\nStudy andSuper vision Guide\\nThe handouts andlectures should contain enough information toenable students toadequately answer theexam\\nquestions, butthehandout isnotintended tosubstitute foratextbook. Inmost cases, J&M gointo aconsiderable\\namount offurther detail: rather than putlotsofsuggestions forfurther reading inthehandout, ingeneral Ihave\\nassumed thatstudents willlook atJ&M, andthen followupthereferences inthere iftheyareinterested. Thenotes at\\ntheendofeach lecture givedetails ofthesections ofJ&M thatarerelevantanddetails ofanydiscrepancies with these\\nnotes.\\nSupervisors ought tofamiliarise themselv eswith therelevantparts ofJurafsk yandMartin (seenotes attheendofeach\\nlecture). However,good students should \\x02nd itquite easy tocome upwith questions thatthesupervisors (and the\\n2\""
            ],
            "application/vnd.google.colaboratory.intrinsic+json": {
              "type": "string"
            }
          },
          "metadata": {},
          "execution_count": 12
        }
      ]
    },
    {
      "cell_type": "markdown",
      "source": [
        "##Append Write or Merge PDFs"
      ],
      "metadata": {
        "id": "3jSYPV604SNe"
      }
    },
    {
      "cell_type": "code",
      "source": [
        "pdf_writer = pdf.PdfWriter()"
      ],
      "metadata": {
        "id": "FX0o3v7E4KYL"
      },
      "execution_count": 13,
      "outputs": []
    },
    {
      "cell_type": "code",
      "source": [
        "pdf_writer.add_page(page1)\n",
        "pdf_writer.add_page(page2)\n",
        "\n",
        "output =  open('Pages.pdf', \"wb\")\n",
        "pdf_writer.write(output)\n",
        "output.close()"
      ],
      "metadata": {
        "id": "3UcpoFyL4gxy"
      },
      "execution_count": 14,
      "outputs": []
    },
    {
      "cell_type": "code",
      "source": [],
      "metadata": {
        "id": "qtd4FVwc4ozL"
      },
      "execution_count": 14,
      "outputs": []
    }
  ]
}